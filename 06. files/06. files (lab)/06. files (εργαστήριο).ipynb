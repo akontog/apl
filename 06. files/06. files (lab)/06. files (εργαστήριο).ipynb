{
 "cells": [
  {
   "cell_type": "markdown",
   "id": "e1bb4c19",
   "metadata": {},
   "source": [
    "<div style=\"padding:20px 0px 20px 0px; text-align:center; font-weight: bold; font-size:170%; background-color: #2d8077; color:#f0b439;\">\n",
    "06.<br>\n",
    "<span style=\"color:#ffffcc;\">Αρχεία, File Handling (εργαστήριο)</span>\n",
    "</div>"
   ]
  },
  {
   "cell_type": "markdown",
   "id": "923c08b3",
   "metadata": {},
   "source": [
    "# Αρχεία χαρακτήρων"
   ]
  },
  {
   "cell_type": "markdown",
   "id": "52051ff0",
   "metadata": {},
   "source": [
    "## Τυχαίοι αριθμοί"
   ]
  },
  {
   "cell_type": "markdown",
   "id": "3c33626c",
   "metadata": {},
   "source": [
    "Γράψτε σε ένα αρχείο με όνομα \"numbers.txt\" _num_, έστω 1000, τυχαίους αριθμούς από το 1 έως το _max_v_, έστω 50, χωρισμένους με \",\". Στη συνέχεια διαβάστε το ίδιο αρχείο μετρώντας την συχνότητα εμφάνισης κάθε αριθμού και αποθηκεύστε στην στην λίστα _freg_ 100 θέσεων. Εμφανίστε αλφαριθμητικό με αντίστοιχα '*' ανάλογα με την παραπάνω συχνότητα. Παράδειγμα:\n",
    "\n",
    "- 1:(13)\t*************\n",
    "\n",
    "- 2:(16)\t****************\n",
    "\n",
    "- 3:(9)     *********\n",
    "\n",
    "- 4:(7)\t    *******\n",
    "\n",
    "- 5:(6)\t    ******\n"
   ]
  },
  {
   "cell_type": "code",
   "execution_count": 17,
   "id": "e64a32a1",
   "metadata": {},
   "outputs": [
    {
     "name": "stdout",
     "output_type": "stream",
     "text": [
      "1:(18)\t******************\n",
      "2:(19)\t*******************\n",
      "3:(21)\t*********************\n",
      "4:(26)\t**************************\n",
      "5:(19)\t*******************\n",
      "6:(22)\t**********************\n",
      "7:(19)\t*******************\n",
      "8:(22)\t**********************\n",
      "9:(20)\t********************\n",
      "10:(21)\t*********************\n",
      "11:(22)\t**********************\n",
      "12:(17)\t*****************\n",
      "13:(23)\t***********************\n",
      "14:(17)\t*****************\n",
      "15:(25)\t*************************\n",
      "16:(21)\t*********************\n",
      "17:(22)\t**********************\n",
      "18:(22)\t**********************\n",
      "19:(20)\t********************\n",
      "20:(25)\t*************************\n",
      "21:(19)\t*******************\n",
      "22:(23)\t***********************\n",
      "23:(15)\t***************\n",
      "24:(15)\t***************\n",
      "25:(22)\t**********************\n",
      "26:(22)\t**********************\n",
      "27:(18)\t******************\n",
      "28:(16)\t****************\n",
      "29:(27)\t***************************\n",
      "30:(26)\t**************************\n",
      "31:(18)\t******************\n",
      "32:(20)\t********************\n",
      "33:(28)\t****************************\n",
      "34:(18)\t******************\n",
      "35:(14)\t**************\n",
      "36:(23)\t***********************\n",
      "37:(19)\t*******************\n",
      "38:(18)\t******************\n",
      "39:(14)\t**************\n",
      "40:(19)\t*******************\n",
      "41:(18)\t******************\n",
      "42:(17)\t*****************\n",
      "43:(14)\t**************\n",
      "44:(22)\t**********************\n",
      "45:(22)\t**********************\n",
      "46:(19)\t*******************\n",
      "47:(19)\t*******************\n",
      "48:(16)\t****************\n",
      "49:(22)\t**********************\n",
      "50:(16)\t****************\n"
     ]
    }
   ],
   "source": [
    "import random\n",
    "filename = \"numbers.txt\"\n",
    "num = 1000\n",
    "max_v = 50\n",
    "with open(filename, 'w') as file:\n",
    "    numbers = [str(random.randint(1, max_v)) for _ in range(num)]\n",
    "    file.write(\",\".join(numbers[:]))\n",
    "freq = [0] * max_v\n",
    "with open(filename, 'r') as file:\n",
    "    data = file.read().split(\",\")\n",
    "    numbers =  [int(x) for x in data]\n",
    "    for number in numbers:\n",
    "        freq[number - 1] += 1\n",
    "for i, count in enumerate(freq, start=1):\n",
    "    print(i,':(',count,')\\t','*'*count, sep='')"
   ]
  },
  {
   "cell_type": "markdown",
   "id": "01689b85",
   "metadata": {},
   "source": [
    "# Δυαδικά αρχεία, pickle"
   ]
  },
  {
   "cell_type": "markdown",
   "id": "3fb8b4dd",
   "metadata": {},
   "source": [
    "# Τυχαία σημεία"
   ]
  },
  {
   "cell_type": "markdown",
   "id": "d8893005",
   "metadata": {},
   "source": [
    "Ορίστε κλάση _Point_ για την αναπαράσταση σημείων σε ένα καρτεσιανό επίπεδο η οποία θα περιέχει:\n",
    "\n",
    "- Μεταβλητές _x_, _y_ για τις συντεταγμένες του σημείου.\n",
    "\n",
    "- Μέθοδο `__str__` για την εμφάνιση του σημείου σε μορφή (x, y).\n",
    "\n",
    "- Μέθοδο distanceFromOrigin η οποία θα επιστρέφει την απόσταση του σημείου από την αρχή των αξόνων.\n",
    "\n",
    "Δημιουργήστε μια λίστα από με 10 αντικείμενα της κλάσης _Point_, με συντεταγμένες που παράγονται τυχαία, έστω ακέραια στο [-10,10]. Μπορείτε να χρησιμοποιήσετε την `random.rantint(a,b)`.\n",
    "\n",
    "Αποθηκεύστε τη λίστα των σημείων σε αρχείο 'points.pkl' χρησιμοποιώντας τη βιβλιοθήκη _pickle_.\n",
    "\n",
    "Διαβάστε τα αποθηκευμένα σημεία από το αρχείο και εμφανίζει στον χρήστη τα σημεία καθώς και την απόστασή τους από την αρχή των αξόνων."
   ]
  },
  {
   "cell_type": "code",
   "execution_count": 20,
   "id": "ad8790a6",
   "metadata": {},
   "outputs": [
    {
     "name": "stdout",
     "output_type": "stream",
     "text": [
      "σημείο: (8,-2) απόσταση: 8.246211251235321\n",
      "σημείο: (9,-10) απόσταση: 13.45362404707371\n",
      "σημείο: (1,10) απόσταση: 10.04987562112089\n",
      "σημείο: (0,-6) απόσταση: 6.0\n",
      "σημείο: (1,10) απόσταση: 10.04987562112089\n",
      "σημείο: (-1,4) απόσταση: 4.123105625617661\n",
      "σημείο: (1,-2) απόσταση: 2.23606797749979\n",
      "σημείο: (6,-2) απόσταση: 6.324555320336759\n",
      "σημείο: (-7,10) απόσταση: 12.206555615733702\n",
      "σημείο: (-7,8) απόσταση: 10.63014581273465\n"
     ]
    }
   ],
   "source": [
    "import pickle\n",
    "import random\n",
    "import math\n",
    "class Point:\n",
    "    def __init__(self, x, y):\n",
    "        self.x = x\n",
    "        self.y = y\n",
    "\n",
    "    def __str__(self):\n",
    "        return '('+str(self.x)+','+str(self.y)+')'\n",
    "    def distanceFromOrigin(self):\n",
    "        return math.sqrt(self.x**2 + self.y**2)\n",
    "n = 10\n",
    "points = [Point(random.randint(-10, 10), random.randint(-10, 10)) for i in range(n)]\n",
    "\n",
    "with open('points.pkl', 'wb') as f:\n",
    "    pickle.dump(points, f)\n",
    "# Φόρτωση των σημείων από το αρχείο\n",
    "with open('points.pkl', 'rb') as f:\n",
    "    points = pickle.load(f)\n",
    "for p in points:\n",
    "    print(\"σημείο:\",p,\"απόσταση:\",p.distanceFromOrigin())"
   ]
  },
  {
   "cell_type": "markdown",
   "id": "7283922c",
   "metadata": {},
   "source": [
    "# CSV "
   ]
  },
  {
   "cell_type": "markdown",
   "id": "d49dcabd",
   "metadata": {},
   "source": [
    "## Διαγωνισμός"
   ]
  },
  {
   "cell_type": "markdown",
   "id": "b0adf403",
   "metadata": {},
   "source": [
    "Δίνεται το αρχείο CSV \"results.csv\", το οποίο περιέχει τις βαθμολογίες διαγωνιζομένων της μαθηματικής Ολυμπιάδας για τα τέσσερα θέματα στα οποία εξετάστηκαν. Ο κωδικός του διαγωνιζόμενου αποτελείται από δύο γράμματα που αντιστοιχούν στην χώρα κατοικίας του διαγωνιζόμενου και ακολουθείται από τέσσερα ψηφία (π.χ., GR1234). Οι κωδικοί χωρών δίνονται στο αρχείο \"countries.csv\":\n",
    "```\n",
    "GR,Greece\n",
    "US,United States\n",
    "FR,France\n",
    "JP,Japan\n",
    "```\n",
    "Οι βαθμολογίες είναι ακέραιοι αριθμοί από 0 έως 100. Στην επόμενη φάση του διαγωνισμού προκρίνονται οι διαγωνιζόμενοι με μέση βαθμολογία άνω των 65 μονάδων που έχουν πιάσει τουλάχιστον 60 σε κάθε θέμα.\n",
    "```\n",
    "GR1234,85,70,90,95\n",
    "US5678,60,80,85,55\n",
    "FR9101,70,75,80,85\n",
    "JP2345,95,90,85,80\n",
    "GR6789,50,60,65,70\n",
    "```\n",
    "\n",
    "1. Διαβάστε το αρχείο \"countries.csv\" και δημιουργήστε λεξικό countries με κλειδί τον κωδικό της χώρας και τιμη το όνομά της.\n",
    "\n",
    "2. Διαβάστε το αρχείο \"results.csv\" και για κάθε διαγωνιζόμενο δημιουργήστε αντικείμενα της κλάσης _Contestant_ τα οποία θα τα εισάγετε στην λίστα _contestants_. \n",
    "\n",
    "Η κλάση περιέχει τα παρακάτω:\n",
    "- Μεταβλητές:\n",
    "\n",
    "    - **country**: η χώρα από την οποια προέρχεται ο διαγωνιζόμενος\n",
    "        \n",
    "    - **code**: ο κωδικός του διαγωνιζόμενου.\n",
    "\n",
    "    - **grades**: Λίστα ακεραίων με τις βαθμολογίες.\n",
    "\n",
    "- Μεθόδους:\n",
    "    \n",
    "    - __init__(self, code, grades): αρχικοποίηση των χαρακτηριστικών.\n",
    "\n",
    "    - __str__(self): αναπαράσταση για εύκολη εμφάνιση.\n",
    "    \n",
    "    - getAvg(self): επιστρέφει το μέσο όρο βαθμολογιών\n",
    "    \n",
    "    - isQualified(self): επιστρέφει True αν περνάει στον επόμενο γύρο\n",
    "\n",
    "3. Δημιουργήστε μία νέα λίστα, _qualifiers_, στην οποία καταχωρούνται μόνο οι διαγωνιζόμενοι που προκρίνονται στην επόμενη φάση."
   ]
  },
  {
   "cell_type": "code",
   "execution_count": 2,
   "id": "4970dd5d",
   "metadata": {},
   "outputs": [
    {
     "name": "stdout",
     "output_type": "stream",
     "text": [
      "Προκριθέντες διαγωνιζόμενοι:\n",
      "Contestant: GR1234 from Greece, Grades: [85, 70, 90, 95]\n",
      "Contestant: FR9101 from France, Grades: [70, 75, 80, 85]\n",
      "Contestant: JP2345 from Japan, Grades: [95, 90, 85, 80]\n"
     ]
    }
   ],
   "source": [
    "import csv\n",
    "\n",
    "# 1. Διαβάστε το αρχείο countries.csv και δημιουργήστε το λεξικό countries\n",
    "def load_countries(file):\n",
    "    countries = {}\n",
    "    with open(file, \"r\") as f:\n",
    "        reader = csv.reader(f)\n",
    "        for row in reader:\n",
    "            code, name = row\n",
    "            countries[code] = name\n",
    "    return countries\n",
    "\n",
    "# 2. Ορισμός της κλάσης Contestant\n",
    "class Contestant:\n",
    "    def __init__(self, code, grades, country):\n",
    "        self.code = code\n",
    "        self.grades = grades\n",
    "        self.country = country\n",
    "\n",
    "    def __str__(self):\n",
    "        return f\"Contestant: {self.code} from {self.country}, Grades: {self.grades}\"\n",
    "\n",
    "    def getAvg(self):\n",
    "        return sum(self.grades) / len(self.grades)\n",
    "\n",
    "    def isQualified(self):\n",
    "        return all(grade >= 60 for grade in self.grades) and self.getAvg() > 65\n",
    "\n",
    "# 3. Διαβάστε το αρχείο results.csv και δημιουργήστε αντικείμενα της κλάσης Contestant\n",
    "def load_contestants(file, countries):\n",
    "    contestants = []\n",
    "    with open(file, \"r\") as f:\n",
    "        reader = csv.reader(f)\n",
    "        for row in reader:\n",
    "            code = row[0]\n",
    "            grades = list(map(int, row[1:]))\n",
    "            country_code = code[:2]\n",
    "            country = countries.get(country_code, \"Unknown\")\n",
    "            contestant = Contestant(code, grades, country)\n",
    "            contestants.append(contestant)\n",
    "    return contestants\n",
    "\n",
    "# 4. Φιλτράρισμα διαγωνιζομένων που προκρίνονται\n",
    "def get_qualifiers(contestants):\n",
    "    return [contestant for contestant in contestants if contestant.isQualified()]\n",
    "\n",
    "# 5. Εκτέλεση\n",
    "if __name__ == \"__main__\":\n",
    "    countries = load_countries(\"countries.csv\")\n",
    "    contestants = load_contestants(\"results.csv\", countries)\n",
    "    \n",
    "    qualifiers = get_qualifiers(contestants)\n",
    "    \n",
    "    print(\"Προκριθέντες διαγωνιζόμενοι:\")\n",
    "    for q in qualifiers:\n",
    "        print(q)\n"
   ]
  },
  {
   "cell_type": "markdown",
   "id": "dd8d3c23",
   "metadata": {},
   "source": [
    "# JSON"
   ]
  },
  {
   "cell_type": "markdown",
   "id": "99868173",
   "metadata": {},
   "source": [
    "## Αραιός πίνακας"
   ]
  },
  {
   "cell_type": "markdown",
   "id": "16d83593",
   "metadata": {},
   "source": [
    "Δίνεται αρχείο \"sparse.csv\" που περιέχει έναν αραιό πίνακα, όπου οι περισσότερες τιμές είναι μηδενικές.\n",
    "```\n",
    "0,0,0,5,0\n",
    "0,3,0,0,0\n",
    "0,0,0,0,7\n",
    "2,0,0,0,0\n",
    "```\n",
    "1. Υλοποιήστε συνάρτηση, _csvtojson_ που να διαβάζει τον πίνακα από το CSV και να αποθηκεύει μόνο τις μη μηδενικές τιμές σε ένα αρχείο \"sparse.json. Στο JSON, κάθε μη μηδενική τιμή θα συνοδεύεται από τις συντεταγμένες της, δηλαδή γραμμή και στήλη όπως στο παράδειγμα.\n",
    "```\n",
    "[\n",
    "    {\"value\": 5, \"row\": 0, \"column\": 3},\n",
    "    {\"value\": 3, \"row\": 1, \"column\": 1},\n",
    "    {\"value\": 7, \"row\": 2, \"column\": 4},\n",
    "    {\"value\": 2, \"row\": 3, \"column\": 0}\n",
    "]\n",
    "```\n",
    "\n",
    "2. Υλοποιήστε συνάρτηση, _displaySparse_ που διαβάζει το json αρχείο και εμφανίζει τον πίνακα σε μορφή όπως η επόμενη:\n",
    "```\n",
    "  0   0   0   5   0\n",
    "  0   3   0   0   0\n",
    "  0   0   0   0   7\n",
    "  2   0   0   0   0\n",
    "```"
   ]
  },
  {
   "cell_type": "code",
   "execution_count": 6,
   "id": "264b625a",
   "metadata": {},
   "outputs": [
    {
     "name": "stdout",
     "output_type": "stream",
     "text": [
      "Τα δεδομένα αποθηκεύτηκαν στο sparse.json.\n",
      "  0   0   0   5   0\n",
      "  0   3   0   0   0\n",
      "  0   0   0   0   7\n",
      "  2   0   0   0   0\n"
     ]
    }
   ],
   "source": [
    "import csv\n",
    "import json\n",
    "\n",
    "def csvtojson(csv_file, json_file):\n",
    "    \"\"\"\n",
    "    Διαβάζει έναν αραιό πίνακα από αρχείο CSV και αποθηκεύει μόνο τις μη μηδενικές τιμές σε JSON.\n",
    "    \"\"\"\n",
    "    sparse_data = []\n",
    "\n",
    "    with open(csv_file, \"r\") as f:\n",
    "        reader = csv.reader(f)\n",
    "        for row_idx, row in enumerate(reader):\n",
    "            for col_idx, value in enumerate(row):\n",
    "                value = int(value)\n",
    "                if value != 0:\n",
    "                    sparse_data.append({\n",
    "                        \"value\": value,\n",
    "                        \"row\": row_idx,\n",
    "                        \"column\": col_idx\n",
    "                    })\n",
    "\n",
    "    # Αποθήκευση του αποτελέσματος σε JSON\n",
    "    with open(json_file, \"w\") as f:\n",
    "        json.dump(sparse_data, f, indent=4)\n",
    "\n",
    "    print(f\"Τα δεδομένα αποθηκεύτηκαν στο {json_file}.\")\n",
    "\n",
    "def displaySparse(json_file):\n",
    "    \"\"\"\n",
    "    Διαβάζει έναν αραιό πίνακα από αρχείο JSON και τον εμφανίζει σε μορφή πίνακα.\n",
    "    \"\"\"\n",
    "    # Διαβάζουμε τα δεδομένα από το αρχείο JSON\n",
    "    with open(json_file, \"r\") as f:\n",
    "        sparse_data = json.load(f)\n",
    "\n",
    "    # Εύρεση διαστάσεων του πίνακα\n",
    "    max_row = max(item[\"row\"] for item in sparse_data)\n",
    "    max_col = max(item[\"column\"] for item in sparse_data)\n",
    "\n",
    "    # Δημιουργία πλήρους πίνακα με μηδενικά\n",
    "    matrix = [[0 for _ in range(max_col + 1)] for _ in range(max_row + 1)]\n",
    "\n",
    "    # Εισαγωγή των μη μηδενικών τιμών στον πίνακα\n",
    "    for item in sparse_data:\n",
    "        row, col, value = item[\"row\"], item[\"column\"], item[\"value\"]\n",
    "        matrix[row][col] = value\n",
    "\n",
    "    # Εμφάνιση του πίνακα\n",
    "    for row in matrix:\n",
    "        print(\" \".join(f\"{val:3}\" for val in row))\n",
    "        \n",
    "        \n",
    "csvtojson(\"sparse.csv\", \"sparse.json\")\n",
    "displaySparse(\"sparse.json\")\n"
   ]
  },
  {
   "cell_type": "markdown",
   "id": "ab21a178",
   "metadata": {},
   "source": [
    "# zipfile"
   ]
  },
  {
   "cell_type": "markdown",
   "id": "f46f07e5",
   "metadata": {},
   "source": [
    "## Κλήρωση"
   ]
  },
  {
   "cell_type": "markdown",
   "id": "20f37fdf",
   "metadata": {},
   "source": [
    "Δίνεται αρχείο _teams.csv_ με 32 ομάδες που θα συμμετέχουν στο επόμενο παγκόσμιο κύπελλο ποδοσφαίρου με την επόμενη μορφή:\n",
    "```\n",
    "Γερμανία;Pot 1\n",
    "Βραζιλία;Pot 1\n",
    "...\n",
    "Εκουαδόρ;Pot 4\n",
    "```\n",
    "Οι ομάδες είναι κατανεμημένες σε 4 γκρουπ δυναμικότητας (Pot 1, Pot 2, Pot 3, Pot 4).\n",
    "\n",
    "1. Διαβάστε το αρχείο και ομαδοποιήστε τις ομάδες με βάση το γκρουπ δυναμικότητας σε ένα λεξικό με κλειδί το όνομα του κάθε Pot και τιμή την λίστα των ομάδων του.\n",
    "\n",
    "2. Αναθέστε τις ομάδες τυχαία στους οκτώ ομίλους, Group A, Group B κ.ο.κ. διασφαλίζοντας ότι κάθε όμιλος περιέχει μία ομάδα από κάθε Pot. Μπορείτε να χρησιμοποιήσετε την μέθοδο shuffle της random για να \"ανακατέψετε\" τις λίστες. \n",
    "\n",
    "3. Αποθηκεύστε τα αποτελέσματα σε αρχεία με όνομα GroupA.txt, GroupB.txt κ.ο.κ. στον φάκελο groups.\n",
    "\n",
    "4. Δημιουργήστε ένα zip αρχείο με όνομα draw.zip που θα περιλαμβάνει και τους 8 ομίλους"
   ]
  },
  {
   "cell_type": "code",
   "execution_count": 41,
   "id": "8f519528",
   "metadata": {},
   "outputs": [
    {
     "name": "stdout",
     "output_type": "stream",
     "text": [
      "Η διαδικασία ολοκληρώθηκε. Δημιουργήθηκε το αρχείο draw.zip.\n"
     ]
    }
   ],
   "source": [
    "import csv\n",
    "import random\n",
    "import zipfile\n",
    "import os\n",
    "\n",
    "pots = {\"Pot 1\": [], \"Pot 2\": [], \"Pot 3\": [], \"Pot 4\": []}\n",
    "with open(\"teams.csv\", mode=\"r\", encoding=\"utf-8\") as file:\n",
    "    reader = csv.reader(file, delimiter=\";\")\n",
    "    for row in reader:\n",
    "        team, pot = row\n",
    "        pots[pot].append(team)\n",
    "# Ονόματα ομίλων\n",
    "groups = {'Group'+chr(ord('A') + i):[] for i in range(8)}  # GroupA, B, C, ...\n",
    "# 2. Ανάθεση ομάδων τυχαία στους ομίλους\n",
    "for pot in pots.values():\n",
    "    random.shuffle(pot)\n",
    "    for i, team in enumerate(pot):\n",
    "        groupname = 'Group'+chr(ord('A') + i)\n",
    "        groups[groupname].append(team)\n",
    "\n",
    "# 3. Αποθήκευη αποτελεσμάτων σε αρχεία .txt\n",
    "os.makedirs(folder, exist_ok=True)\n",
    "for groupname, teams in groups.items():\n",
    "    file_name = os.path.join(folder, groupname+'.txt')\n",
    "    with open(file_name, mode=\"w\", encoding=\"utf-8\") as file:\n",
    "        file.write(groupname+'\\n')\n",
    "        file.write('\\n'.join(teams))\n",
    "\n",
    "# 4. Δημιουργία zip αρχείου\n",
    "with zipfile.ZipFile(\"draw.zip\", mode=\"w\") as zipf:\n",
    "    for file_name in os.listdir(folder):\n",
    "        zipf.write(os.path.join(folder, file_name), arcname=file_name)\n",
    "print(\"Η διαδικασία ολοκληρώθηκε. Δημιουργήθηκε το αρχείο draw.zip.\")"
   ]
  },
  {
   "cell_type": "markdown",
   "id": "f02f85ab",
   "metadata": {},
   "source": [
    "# requests"
   ]
  },
  {
   "cell_type": "markdown",
   "id": "db3f00c0",
   "metadata": {},
   "source": [
    "## Project gutenberg"
   ]
  },
  {
   "cell_type": "markdown",
   "id": "d6fb0d0e",
   "metadata": {},
   "source": [
    "Έστω το λεξικό:"
   ]
  },
  {
   "cell_type": "code",
   "execution_count": 22,
   "id": "e5280ec9",
   "metadata": {},
   "outputs": [],
   "source": [
    "names_dict = {\n",
    "    \"Ishmael\": 0,\"Queequeg\": 0,\"Ahab\": 0,\"Starbuck\": 0,\"Stubb\": 0,\n",
    "    \"Flask\": 0,\"Tashtego\": 0,\"Daggoo\": 0,\"Pequod\": 0,\"Melville\": 0,\n",
    "    \"Fedallah\": 0,\"Bildad\": 0,\"Peleg\": 0,\"Pip\": 0,\"Nantucket\": 0,\n",
    "    \"Spitz\": 0,\"Rachel\": 0,\"Perth\": 0,\"Manxman\": 0,\"Yojo\": 0,\n",
    "    \"Fleece\": 0,\"Dough-Boy\": 0,\"Carpenter\": 0,\"Captain\": 0,\"God\": 0,\n",
    "    \"Moby\": 0,\"Dick\": 0,\"White\": 0,\"Whale\": 0,\"Delight\": 0,\n",
    "    \"Samuel\": 0,\"Enderby\": 0,\"Albatross\": 0,\"Rosebud\": 0,\"Bachelor\": 0,\n",
    "    \"Jungfrau\": 0\n",
    "}"
   ]
  },
  {
   "cell_type": "markdown",
   "id": "413c987c",
   "metadata": {},
   "source": [
    "Επισκεφτείτε το https://www.gutenberg.org/ και αναζητήστε το βιβλίο moby dick του Herman Melville στην απλή μορφή κειμένου, έστω https://www.gutenberg.org/cache/epub/15/pg15.txt. Δημιουργήστε ένα αντικείμενο `requests.models.Response` από το url και βρείτε τον αριθμό εμφανίσεων των στοιχείων του παραπάνω λεξικού. Ποια στοιχεία δεν εμφανίζονται καθόλου στο κείμενο;\n",
    "\n",
    "Σημειώσεις: \n",
    "\n",
    "- Για να μην δώσετε κατά την σύγκριση καμία σημασία σε πεζά ή κεφαλαία μπορείτε να μετατρέψετε όλες τις λέξεις κατά την σύγκριση σε πεζά\n",
    "\n",
    "- Όταν μία λέξη βρίσκεται στο τέλος της πρότασης που τελειώνει με \".\", \"?\" κ.ο.κ. κατά την εφαρμογή της split συμπεριλαμβάνεται και το σημείο στίξης. Για να το αφαιρέσουμε από την λέξη μπορούμε να χρησιμοποιήσουμε την strip με παράμετρο τα πιθανά σημεία στίξης (\".,!?;:\")"
   ]
  },
  {
   "cell_type": "code",
   "execution_count": 28,
   "id": "abf1d5db",
   "metadata": {},
   "outputs": [
    {
     "name": "stdout",
     "output_type": "stream",
     "text": [
      "['they', 'grow', 'exceeding', 'fat', 'insomuch', 'that', 'an', 'incredible', 'quantity', 'of', 'oil', 'will', 'be', 'extracted', 'out', 'of', 'one', 'whale']\n"
     ]
    }
   ],
   "source": [
    "sentence = \"They grow exceeding fat, insomuch that an incredible quantity of oil will be extracted out of one whale.\"\n",
    "words = sentence.split()\n",
    "print([word.lower().strip(\".,!?;:\") for word in words])"
   ]
  },
  {
   "cell_type": "code",
   "execution_count": 30,
   "id": "58bfd876",
   "metadata": {},
   "outputs": [
    {
     "name": "stdout",
     "output_type": "stream",
     "text": [
      "Ishmael : 18\n",
      "Queequeg : 192\n",
      "Ahab : 405\n",
      "Starbuck : 161\n",
      "Stubb : 214\n",
      "Flask : 89\n",
      "Tashtego : 51\n",
      "Daggoo : 35\n",
      "Pequod : 125\n",
      "Melville : 2\n",
      "Fedallah : 24\n",
      "Bildad : 64\n",
      "Peleg : 59\n",
      "Pip : 63\n",
      "Nantucket : 85\n",
      "Spitz : 0\n",
      "Rachel : 6\n",
      "Perth : 12\n",
      "Manxman : 10\n",
      "Yojo : 14\n",
      "Fleece : 10\n",
      "Dough-Boy : 14\n",
      "Carpenter : 43\n",
      "Captain : 279\n",
      "God : 111\n",
      "Moby : 77\n",
      "Dick : 68\n",
      "White : 248\n",
      "Whale : 911\n",
      "Delight : 17\n",
      "Samuel : 11\n",
      "Enderby : 8\n",
      "Albatross : 9\n",
      "Rosebud : 0\n",
      "Bachelor : 7\n",
      "Jungfrau : 5\n"
     ]
    }
   ],
   "source": [
    "import requests\n",
    "\n",
    "url = \"https://www.gutenberg.org/cache/epub/15/pg15.txt\"\n",
    "page = requests.get(url)\n",
    "text = page.text\n",
    "\n",
    "# Διαχωρισμός του κειμένου σε λέξεις\n",
    "words = text.split()\n",
    "# Εύρεση εμφανίσεων κάθε ονόματος\n",
    "for name in names_dict.keys():\n",
    "    count = sum(1 for word in words if word.strip(\".,!?;:\").lower() == name.lower())\n",
    "    names_dict[name] = count\n",
    "\n",
    "# Εμφάνιση των αποτελεσμάτων\n",
    "for name, count in names_dict.items():\n",
    "    print(name,':',count)"
   ]
  },
  {
   "cell_type": "code",
   "execution_count": null,
   "id": "39097ed3",
   "metadata": {},
   "outputs": [],
   "source": []
  }
 ],
 "metadata": {
  "kernelspec": {
   "display_name": "Python 3 (ipykernel)",
   "language": "python",
   "name": "python3"
  },
  "language_info": {
   "codemirror_mode": {
    "name": "ipython",
    "version": 3
   },
   "file_extension": ".py",
   "mimetype": "text/x-python",
   "name": "python",
   "nbconvert_exporter": "python",
   "pygments_lexer": "ipython3",
   "version": "3.11.4"
  }
 },
 "nbformat": 4,
 "nbformat_minor": 5
}
