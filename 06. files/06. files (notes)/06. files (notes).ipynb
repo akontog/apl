{
 "cells": [
  {
   "cell_type": "markdown",
   "id": "31a107b4",
   "metadata": {},
   "source": [
    "<div style=\"padding:20px 0px 20px 0px; text-align:center; font-weight: bold; font-size:150%; background-color: #cce6ff\">06. <br>\n",
    " Αρχεία\n",
    "</div>"
   ]
  },
  {
   "cell_type": "markdown",
   "id": "c5cb9a97",
   "metadata": {},
   "source": [
    "Στην Python μπορούμε να διαχειριστούμε:\n",
    "\n",
    "- αρχεία κειμένου, αρχεία, δηλαδή, που περιέχουν ακολουθίες χαρακτήρων, τα οποία μπορούμε να διαβάσουμε και να τροποποιήσουμε με έναν επεξεργαστή κειμένου.\n",
    "\n",
    "- δυαδικά αρχεία, όπως για παράδειγμα αρχεία εικόνων, ήχου ή ακόμη και κλάσεις Python. Γενικότερα, αρχεία τα οποία δεν περιέχουν μόνο χαρακτήρες αλλά οποιασδήποτε μορφής πληροφορία σε δυαδική μορφή.\n",
    "\n",
    "- δομημένα αρχεία, που ακολουθούν μια συγκεκριμένη δομή για την αποθήκευση δεδομένων, διευκολύνοντας την ανάλυση και επεξεργασία τους. Για παράδειγμα:\n",
    "\n",
    "\t- CSV, Comma-Separated Values αρχεία που αποθηκεύουν δεδομένα σε μορφή πινάκων, διαχωρισμένα με κόμματα ή άλλα σύμβολα.\n",
    "\n",
    "\t- JSON, JavaScript Object Notation), αρχεία που αποθηκεύουν δεδομένα σε μορφή δομών κλειδιών-τιμών, διευκολύνοντας την ανταλλαγή δεδομένων μεταξύ εφαρμογών."
   ]
  },
  {
   "cell_type": "markdown",
   "id": "55c6c2a3",
   "metadata": {},
   "source": [
    "# Διαχείριση"
   ]
  },
  {
   "cell_type": "markdown",
   "id": "c00eaa3f",
   "metadata": {},
   "source": [
    "Για την διαχείριση ενός αρχείου ακολουθούνται τα επόμενα βήματα:\n",
    "\n",
    "1. Άνοιγμα αρχείου\n",
    "\n",
    "2. Διάβασμα ή γράψιμο\n",
    "\n",
    "3. Κλείσιμο αρχείου."
   ]
  },
  {
   "cell_type": "markdown",
   "id": "b4361055",
   "metadata": {},
   "source": [
    "Το άνοιγμα ενός αρχείου με σκοπό την επεξεργασία του γίνεται με την εντολή `open`.\n",
    "\n",
    "```Python\n",
    "μεταβλητή = open(όνομα_αρχείου, κατάσταση, κωδικοποίηση)\n",
    "```\n",
    "Οι παράμετροι της συνάρτησης είναι συμβολοσειρές με την εξής σημασία:\n",
    "\n",
    "-  Το _όνομα_αρχείου_ είναι ένα έγκυρο όνομα αρχείου ή μια έγκυρη διαδρομή που περιλαμβάνει τον φάκελο που αυτό είναι αποθηκευμένο.\n",
    "\n",
    "- Η  `κατάσταση` είναι ένας συνδυασμός κατάλληλων χαρακτήρων με την εξής σημασία:\n",
    "\n",
    "    -  `r` άνοιγμα του αρχείου για ανάγνωση που αποτελεί και την προκαθορισμένη επιλογή. Αν το αρχείο δεν υπάρχει, εγείρεται εξαίρεση.\n",
    "\n",
    "    -  `w` άνοιγμα του αρχείου για εγγραφή. Οτιδήποτε υπήρχε γραμμένο στο αρχείο διαγράφεται.\n",
    "\n",
    "    -  `x` άνοιγμα για αποκλειστική δημιουργία του αρχείο. Αν το αρχείο υπάρχει ήδη η `open` αποτυγχάνει. \n",
    "\n",
    "    -  `a` πρόσθεση δεδομένων στο τέλος του αρχείου.\n",
    "\n",
    "    -  `r+` άνοιγμα για ανάγνωση και εγγραφή\n",
    "\n",
    "    -  `b` άνοιγμα δυαδικού αρχείου\n",
    "\n",
    "Για παράδειγμα, η εντολή \n",
    "```Python\n",
    "f = open(\"myfile.txt\",\"w\")\n",
    "```\n",
    "ανοίγει ένα αρχείο κειμένου για εγγραφή σε αυτο *διαγράφοντας τα παλιά δεδομένα του αρχείου*\n",
    "Αν στους παραπάνω χαρακτήρες προσθέσουμε τον `b`, τότε το αρχείο ανοίγει ως *δυαδικό* (binary mode), οπότε διαβάζονται ή γράφονται σε αυτό ακολουθίες bytes και όχι δεδομένα κωδικοποιημένα ως χαρακτήρες.\n",
    "\n",
    "- Η  κωδικοποίηση, **encoding**,  αφορά στον κώδικα χαρακτήρων ο οποίος θα χρησιμοποιηθεί για την ανάγνωση/εγγραφή χαρακτήρων σε ένα αρχείο κειμένου. Παραδείγματα είναι: `utf-8`, `iso-8859-7`, κλπ. Η κωδικοποίηση δεν εφαρμόζεται στην περίπτωση δυαδικών αρχείων."
   ]
  },
  {
   "cell_type": "markdown",
   "id": "56de75ec",
   "metadata": {},
   "source": [
    "Στην συνέχεια το αρχείο _initialText.txt_ ανοίγει για ανάγνωση με την προκαθορισμένη κωδικοποίηση του συστήματος. Εφόσον δεν έχουμε θέσει κάποια διαδρομή αρχείου της μορφής _C:/python/test.txt_ το αρχείο θα αναζητηθεί σε σχέση με τον φάκελο στον οποίο τρέχει το πρόγραμμά μας."
   ]
  },
  {
   "cell_type": "code",
   "execution_count": 1,
   "id": "b7efe9b8",
   "metadata": {},
   "outputs": [],
   "source": [
    "f = open('initialText.txt')"
   ]
  },
  {
   "cell_type": "markdown",
   "id": "bf3406b6",
   "metadata": {},
   "source": [
    "Κάθε αρχείο το οποίο ανοίγει θα πρέπει και να κλείνει ώστε να αποδεσμεύονται και οι σχετικοί πόροι του συστήματος. Η σχετική ενέργεια γίνεται με την `close`."
   ]
  },
  {
   "cell_type": "code",
   "execution_count": 2,
   "id": "46807006",
   "metadata": {},
   "outputs": [],
   "source": [
    "f.close()"
   ]
  },
  {
   "cell_type": "markdown",
   "id": "3fb0c624",
   "metadata": {},
   "source": [
    "# Αρχεία χαρακτήρων"
   ]
  },
  {
   "cell_type": "markdown",
   "id": "66c93fcc",
   "metadata": {},
   "source": [
    "## read"
   ]
  },
  {
   "cell_type": "markdown",
   "id": "5050610d",
   "metadata": {},
   "source": [
    "Η συνάρτηση `read` χρησιμοποιείται για την ανάγνωση δεδομένων από αρχείο. Επιστρέφει την ακολουθία δεδομένων που διαβάστηκαν από αυτό."
   ]
  },
  {
   "cell_type": "code",
   "execution_count": 3,
   "id": "80020f47",
   "metadata": {},
   "outputs": [
    {
     "name": "stdout",
     "output_type": "stream",
     "text": [
      "Hello World!!\n",
      "\n"
     ]
    }
   ],
   "source": [
    "f = open('initialText.txt') \n",
    "text = f.read()\n",
    "print(text)\n",
    "f.close()"
   ]
  },
  {
   "cell_type": "markdown",
   "id": "94e8f6d6",
   "metadata": {},
   "source": [
    "H `read` μπορεί να διαβάσει ολόκληρο το αρχείο, ή το πλήθος χαρακτήρων που δέχεται ως παράμετρο. Η `seek` οδηγεί τον δείκτη του αρχείο στο σημείο που καθορίζει η παράμετρος."
   ]
  },
  {
   "cell_type": "code",
   "execution_count": 4,
   "id": "335ee0d2",
   "metadata": {},
   "outputs": [
    {
     "name": "stdout",
     "output_type": "stream",
     "text": [
      "Hello\n",
      " Wo\n",
      "Hell\n"
     ]
    }
   ],
   "source": [
    "fo = open(\"initialText.txt\")\n",
    "smText = fo.read(5)\n",
    "print(smText)\n",
    "smText = fo.read(3) # η read() θα συνεχίσει από το σημείου που είχε φτ΄άσει η προηγούμενη read\n",
    "print(smText)\n",
    "fo.seek(0)          # Επαναφέρει τον δείκτη στην αρχή\n",
    "smText = fo.read(4) # Διαβάζει 4 χαρακτήρες από την αρχή\n",
    "print(smText)\n",
    "fo.close()"
   ]
  },
  {
   "cell_type": "markdown",
   "id": "98081653",
   "metadata": {},
   "source": [
    "## `with`, `write`"
   ]
  },
  {
   "cell_type": "markdown",
   "id": "961342c7",
   "metadata": {},
   "source": [
    "Η εντολή `with` επιτρέπει τη διαχείριση του αρχείου σε μια δομή, από την οποία όταν βγούμε το αρχείο κλείνει. Καθιστά έτσι την κλήση της `close` περιττή. Ακολουθούν διαδοχικές `write` για εγγραφή δεδομένων στο αρχείο καθώς και εντολή `print` με παράμετρο `file` με τιμή το όνομα του αρχείου. Η `print` εξορισμού αλλάζει γραμμή και δεν χρειάζεται να προσθέσουμε '\\n' στο κείμενο. Κάτι τέτοιο θα άφηνε και μία κενή γραμμή στο αρχείο. Υπενθυμίζεται ότι η παραπάνω συμπεριφορά μπορεί να αλλάξει με την παράμετρο `end`."
   ]
  },
  {
   "cell_type": "code",
   "execution_count": 5,
   "id": "fce59213",
   "metadata": {},
   "outputs": [],
   "source": [
    "with open('accounts.txt', 'w') as accounts:\n",
    "    accounts.write('100 Παπαδόπουλος 155.78\\n')\n",
    "    accounts.write('101 Αλεξίου 326.05\\n')\n",
    "    print('100 Δαμιανός 52.33', file=accounts)\n",
    "    accounts.write('101 Παπανικολάου 1126.05\\n')"
   ]
  },
  {
   "cell_type": "markdown",
   "id": "9ae7edb3",
   "metadata": {},
   "source": [
    "Το προηγούμενο αρχείο μπορούμε να το ανοίξουμε και με μια επαναληπτική διαδικασία να διαβάσουμε τα στοιχεία του ανά γραμμή. Κάθε στοιχείο, _item_ της _accounts_, είναι μια συμβολοσειρά, `str`."
   ]
  },
  {
   "cell_type": "code",
   "execution_count": 6,
   "id": "e56dfe78",
   "metadata": {},
   "outputs": [
    {
     "name": "stdout",
     "output_type": "stream",
     "text": [
      "100 Παπαδόπουλος 155.78\n",
      "\n",
      "101 Αλεξίου 326.05\n",
      "\n",
      "100 Δαμιανός 52.33\n",
      "\n",
      "101 Παπανικολάου 1126.05\n",
      "\n",
      "<class 'str'>\n"
     ]
    }
   ],
   "source": [
    "with open('accounts.txt', 'r') as accounts:\n",
    "    for item in accounts:\n",
    "        print(item)\n",
    "    print(type(item))"
   ]
  },
  {
   "cell_type": "markdown",
   "id": "16115af0",
   "metadata": {},
   "source": [
    "Χρησιμοποιώντας τη μέθοδο `split()` των συμβολοσειρών, μπορούμε να διαχειριστούμε τα δεδομένα που διαβάζουμε από το αρχείο αποθηκεύοντας τα είτε σε μεταβλητές είτε σε λίστες. Η μορφοποιημένη συμβολοσειρά στοιχίζει κατάλληλα και δίνει χώρο στα δεδομένα."
   ]
  },
  {
   "cell_type": "code",
   "execution_count": 7,
   "id": "7343ae5c",
   "metadata": {},
   "outputs": [
    {
     "name": "stdout",
     "output_type": "stream",
     "text": [
      "Κωδ.Πελάτη     Πελάτης               Υπόλοιπο\n",
      "100            Παπαδόπουλος            155.78\n",
      "101            Αλεξίου                 326.05\n",
      "100            Δαμιανός                 52.33\n",
      "101            Παπανικολάου           1126.05\n"
     ]
    }
   ],
   "source": [
    "with open('accounts.txt', 'r') as accounts:\n",
    "    print(f'{\"Κωδ.Πελάτη\":<15}{\"Πελάτης\":<20}{\"Υπόλοιπο\":>10}')\n",
    "    for record in accounts:\n",
    "        accountID, name, balance = record.split()\n",
    "        print(f'{accountID:<15}{name:<20}{balance:>10}')"
   ]
  },
  {
   "cell_type": "markdown",
   "id": "ef3fc5f3",
   "metadata": {},
   "source": [
    "Με την with υπάρχει η δυνατότητα να ανοίξουν και παραπάνω από 1 αρχεία, συνήθως για διάβασμα και γράψιμο. Στο επόμενο παράδειγμα θα αντιγράψουμε τα στοιχεία των λογαριασμών που έχουν υπόλοιπο πάνω από 200 σε ένα άλλο αρχείο."
   ]
  },
  {
   "cell_type": "code",
   "execution_count": 8,
   "id": "edbb89c1",
   "metadata": {},
   "outputs": [],
   "source": [
    "with open('accounts.txt', 'r') as reader, open('big_accounts.txt', 'w') as writer:\n",
    "    for record in reader:\n",
    "        accountID, name, balance = record.split()\n",
    "        if float(balance)>200.0:\n",
    "            writer.write(record)"
   ]
  },
  {
   "cell_type": "markdown",
   "id": "f2a678cd",
   "metadata": {},
   "source": [
    "**Παράδειγμα**\n",
    "\n",
    "Θα διαβαστεί και πάλι το αρχείο με τους λογαριασμούς και θα υπολογιστεί ο λογαριασμός με το μεγαλύτερο υπόλοιπο. Στο τέλος θα εμφανιστούν τα στοιχεία του λογαριασμού αυτού."
   ]
  },
  {
   "cell_type": "code",
   "execution_count": 9,
   "id": "b784677f",
   "metadata": {},
   "outputs": [
    {
     "name": "stdout",
     "output_type": "stream",
     "text": [
      "\n",
      "Μεγαλύτερος λογαριασμός: 101 Πελάτης: Παπανικολάου Υπόλοιπο: 1126.05\n"
     ]
    }
   ],
   "source": [
    "with open('accounts.txt', 'r') as accounts:\n",
    "    max_balance = -1\n",
    "    max_accountID = None\n",
    "    max_customer = None\n",
    "    for record in accounts:\n",
    "        data = record.split()\n",
    "        #print(data[0], data[1],data[2])\n",
    "        if float(data[2]) > max_balance:\n",
    "            max_accountID = data[0]\n",
    "            max_customer = data[1]\n",
    "            max_balance = float(data[2])\n",
    "            \n",
    "print('\\nΜεγαλύτερος λογαριασμός:',max_accountID,'Πελάτης:',max_customer,'Υπόλοιπο:',max_balance)"
   ]
  },
  {
   "cell_type": "markdown",
   "id": "98ac06d4",
   "metadata": {
    "tags": []
   },
   "source": [
    "## Διάβασμα ανά γραμμή"
   ]
  },
  {
   "cell_type": "markdown",
   "id": "5473dbff",
   "metadata": {
    "tags": []
   },
   "source": [
    "Η μέθοδος αντικείμενων αρχείων `readline()`, διαβάζει το αρχείο ανά γραμμή κι επιστρέφει μια συμβολοσειρά."
   ]
  },
  {
   "cell_type": "code",
   "execution_count": 10,
   "id": "839b62ea",
   "metadata": {},
   "outputs": [
    {
     "name": "stdout",
     "output_type": "stream",
     "text": [
      "Σα βγεις στον πηγαιμό για την Ιθάκη,\n",
      "\n",
      "να εύχεσαι νάναι μακρύς ο δρόμος,\n",
      "\n",
      "γεμάτος περιπέτειες, γεμάτος γνώσεις.\n",
      "\n"
     ]
    }
   ],
   "source": [
    "with open('keimeno.txt', 'r', encoding='utf-8') as dataText:\n",
    "    print(dataText.readline())\n",
    "    print(dataText.readline())\n",
    "    print(dataText.readline())"
   ]
  },
  {
   "cell_type": "markdown",
   "id": "5d041e04",
   "metadata": {},
   "source": [
    "Παρατηρούμε ότι σε κάθε κλήση της `print` υπάρχει πέρα από την αλλαγή γραμμής της ίδιας της `print` άλλη μία αλλαγή που είναι αυτή που διαβάστηκε στο αρχείο. Πολύ συχνά αυτή η επιπλέον γραμμή θέλουμε να παραληφθεί. Κάτι τέτοιο γίνεται με διάφορους τρόπους.\n",
    "\n",
    "- `strip`: Αφαιρούμε τα κενά και τα σύμβολα αλλαγής γραμμής από το τέλος και την αρχή της γραμμής.\n",
    "\n",
    "- `rstrip`: Αφαιρούμε τα κενά και τα σύμβολα αλλαγής γραμμής από το τέλος.\n",
    "\n",
    "- `[:-1]`: Αφαιρούμε με slices τον τελευταίο μόνο χαρακτήρα.\n",
    "\n",
    "- `end=''`: Θέτουμε στην `print` να μην αλλάζει γραμμή μετά την εκτέλεσή της."
   ]
  },
  {
   "cell_type": "code",
   "execution_count": 11,
   "id": "95fa3884",
   "metadata": {},
   "outputs": [
    {
     "name": "stdout",
     "output_type": "stream",
     "text": [
      "Σα βγεις στον πηγαιμό για την Ιθάκη,\n",
      "να εύχεσαι νάναι μακρύς ο δρόμος,\n",
      "γεμάτος περιπέτειες, γεμάτος γνώσεις.\n",
      "Τους Λαιστρυγόνας και τους Κύκλωπας,\n"
     ]
    }
   ],
   "source": [
    "with open('keimeno.txt', 'r', encoding='utf-8') as dataText:\n",
    "    print(dataText.readline().strip())\n",
    "    print(dataText.readline().rstrip()) \n",
    "    print(dataText.readline()[:-1])\n",
    "    print(dataText.readline(),end='') "
   ]
  },
  {
   "cell_type": "markdown",
   "id": "a0c48e05",
   "metadata": {},
   "source": [
    "Εάν θέλουμε να διαβάσουμε όλο το κείμενο με τη `readline()`, μπορούμε να χρησιμοποιήσουμε μια επαναληπτική διαδικασία."
   ]
  },
  {
   "cell_type": "code",
   "execution_count": 12,
   "id": "5bcf05e3",
   "metadata": {},
   "outputs": [
    {
     "name": "stdout",
     "output_type": "stream",
     "text": [
      "Σα βγεις στον πηγαιμό για την Ιθάκη,\n",
      "να εύχεσαι νάναι μακρύς ο δρόμος,\n",
      "γεμάτος περιπέτειες, γεμάτος γνώσεις.\n",
      "Τους Λαιστρυγόνας και τους Κύκλωπας,\n",
      "τον θυμωμένο Ποσειδώνα μη φοβάσαι,\n",
      "τέτοια στον δρόμο σου ποτέ σου δεν θα βρεις,\n",
      "αν μεν’ η σκέψις σου υψηλή, αν εκλεκτή\n",
      "συγκίνησις το πνεύμα και το σώμα σου αγγίζει.\n",
      "Τους Λαιστρυγόνας και τους Κύκλωπας,\n",
      "τον άγριο Ποσειδώνα δεν θα συναντήσεις,\n",
      "αν δεν τους κουβανείς μες στην ψυχή σου,\n",
      "αν η ψυχή σου δεν τους στήνει εμπρός σου.\n",
      "\n",
      "Το αρχείο περιέχει 13 γραμμές\n"
     ]
    }
   ],
   "source": [
    "with open('keimeno.txt', 'r', encoding='utf-8') as dataText:\n",
    "    line = \"init\"\n",
    "    i=0\n",
    "    while line:\n",
    "        line = dataText.readline()\n",
    "        i+=1\n",
    "        print(line, end=\"\")\n",
    "        \n",
    "    print(f'\\n\\nΤο αρχείο περιέχει {i} γραμμές')"
   ]
  },
  {
   "cell_type": "markdown",
   "id": "46c94324",
   "metadata": {},
   "source": [
    "Εναλλακτικά το παραπάνω μπορεί να γίνει και με την επόμενη επαναληπτική διαδικασία."
   ]
  },
  {
   "cell_type": "code",
   "execution_count": 13,
   "id": "1d25c1fa",
   "metadata": {},
   "outputs": [
    {
     "name": "stdout",
     "output_type": "stream",
     "text": [
      "Σα βγεις στον πηγαιμό για την Ιθάκη,\n",
      "να εύχεσαι νάναι μακρύς ο δρόμος,\n",
      "γεμάτος περιπέτειες, γεμάτος γνώσεις.\n",
      "Τους Λαιστρυγόνας και τους Κύκλωπας,\n",
      "τον θυμωμένο Ποσειδώνα μη φοβάσαι,\n",
      "τέτοια στον δρόμο σου ποτέ σου δεν θα βρεις,\n",
      "αν μεν’ η σκέψις σου υψηλή, αν εκλεκτή\n",
      "συγκίνησις το πνεύμα και το σώμα σου αγγίζει.\n",
      "Τους Λαιστρυγόνας και τους Κύκλωπας,\n",
      "τον άγριο Ποσειδώνα δεν θα συναντήσεις,\n",
      "αν δεν τους κουβανείς μες στην ψυχή σου,\n",
      "αν η ψυχή σου δεν τους στήνει εμπρός σου."
     ]
    }
   ],
   "source": [
    "with open('keimeno.txt', 'r', encoding='utf-8') as dataText:\n",
    "    for line in dataText:\n",
    "        print(line, end=\"\")"
   ]
  },
  {
   "cell_type": "markdown",
   "id": "6e2e45f5",
   "metadata": {
    "tags": []
   },
   "source": [
    "Η μέθοδος αντικείμενων αρχείων `readlines()`, επιστρέφει λίστα όπου κάθε στοιχείο της θα αποτελεί μία γραμμή του κειμένου ως συμβολοσειρά. Η κλήση της σε ένα μεγάλο αρχείο κειμένου δεν είναι κατάλληλη διαδικασία, γιατί θα πρέπει να φορτωθεί ολόκληρο το αρχείο πριν αρχίσει η επεξεργασία των στοιχείων της λίστας που φορτώθηκαν."
   ]
  },
  {
   "cell_type": "code",
   "execution_count": 14,
   "id": "e482d49d",
   "metadata": {},
   "outputs": [
    {
     "name": "stdout",
     "output_type": "stream",
     "text": [
      "['Σα βγεις στον πηγαιμό για την Ιθάκη,\\n', 'να εύχεσαι νάναι μακρύς ο δρόμος,\\n', 'γεμάτος περιπέτειες, γεμάτος γνώσεις.\\n', 'Τους Λαιστρυγόνας και τους Κύκλωπας,\\n', 'τον θυμωμένο Ποσειδώνα μη φοβάσαι,\\n', 'τέτοια στον δρόμο σου ποτέ σου δεν θα βρεις,\\n', 'αν μεν’ η σκέψις σου υψηλή, αν εκλεκτή\\n', 'συγκίνησις το πνεύμα και το σώμα σου αγγίζει.\\n', 'Τους Λαιστρυγόνας και τους Κύκλωπας,\\n', 'τον άγριο Ποσειδώνα δεν θα συναντήσεις,\\n', 'αν δεν τους κουβανείς μες στην ψυχή σου,\\n', 'αν η ψυχή σου δεν τους στήνει εμπρός σου.']\n"
     ]
    }
   ],
   "source": [
    "with open('keimeno.txt', 'r', encoding='utf-8') as dataText:\n",
    "    print(dataText.readlines())"
   ]
  },
  {
   "cell_type": "markdown",
   "id": "3b5eaee8",
   "metadata": {},
   "source": [
    "Ένας πολύ γρήγορος τρόπος εγγραφής σε αρχείο είναι η χρήση της `print` σε συνδυασμό με την `open`."
   ]
  },
  {
   "cell_type": "code",
   "execution_count": 15,
   "id": "a1daf7d8",
   "metadata": {},
   "outputs": [],
   "source": [
    "print(\"This is simple!\", file=open('simple.txt', 'w'))"
   ]
  },
  {
   "cell_type": "markdown",
   "id": "2073e069",
   "metadata": {},
   "source": [
    "# Δυαδικά αρχεία"
   ]
  },
  {
   "cell_type": "markdown",
   "id": "88f04e95",
   "metadata": {},
   "source": [
    "Για να ανοίξουμε ένα δυαδικό αρχείο θα πρέπει στην κατάσταση ανοίγματος να προσθέσουμε έναν χαρακτήρα 'b' στο τέλος για να δείξουμε ότι πρόκειται για δυαδικό αρχείο. Έτσι:\n",
    "\n",
    "- `rb`: Άνοιγμα δυαδικού αρχίου για διάβασμα.\n",
    "\n",
    "- `wb`: Γράψιμο, με διαγραφή προηγούμενου περιεχομένου, δυαδικού αρχείου.\n",
    "\n",
    "- `ab`: Προσθήκη στο τέλος του δυαδικού αρχείου."
   ]
  },
  {
   "cell_type": "markdown",
   "id": "ec40799d",
   "metadata": {},
   "source": [
    "Η μέθοδος `write`, όταν εφαρμόζεται σε δυαδικά αρχεία, απαιτεί δυαδικά δεδομένα. Προσθέτοντας το `b` μπροστά από το `str` το μετατρέπουμε σε δυαδικό. Η `decode` μετατρέπει και πάλι τα δυαδικά δεδομένα σε `str`."
   ]
  },
  {
   "cell_type": "code",
   "execution_count": 16,
   "id": "8477d3f7",
   "metadata": {},
   "outputs": [
    {
     "name": "stdout",
     "output_type": "stream",
     "text": [
      "this is binary\n",
      "\n",
      "this is also binary\n"
     ]
    }
   ],
   "source": [
    "with open('example.bin', 'wb') as f:\n",
    "    f.write(b'this is binary\\n')\n",
    "with open('example.bin', 'ab') as f:\n",
    "    f.write(b'this is also binary')\n",
    "with open('example.bin', 'rb') as f:\n",
    "    for line in f:\n",
    "        print(line.decode())"
   ]
  },
  {
   "cell_type": "markdown",
   "id": "a4e90f32",
   "metadata": {},
   "source": [
    "## pickle"
   ]
  },
  {
   "cell_type": "markdown",
   "id": "c2eaeda8",
   "metadata": {},
   "source": [
    "Η `pickle` είναι μια βιβλιοθήκη που επιτρέπει την αποθήκευση, **serialization**, και φόρτωση, **deserialization** αντικειμένων σε μορφή δυαδικών δεδομένων.\n",
    "\n",
    "- Σειριοποίηση, **serialization**: Η διαδικασία μετατροπής ενός αντικειμένου Python, για παράδειγμα λίστα, λεξικό, ή αντικείμενα δικών μας κλάσεων, σε μορφή κατάλληλη για αποθήκευση σε αρχείο, βάση δεδομένων ή για μετάδοση μέσω δικτύου.\n",
    "\n",
    "- Αποσειριοποίηση, **deserialization**: Αντίστροφη διαδικασία από τη σειριοποίηση, μετατροπή, δηλαδή, των δυαδικών δεδομένων σε αντικείμενα Python."
   ]
  },
  {
   "cell_type": "markdown",
   "id": "38c38936",
   "metadata": {},
   "source": [
    "Θα πρέπει να φορτώσουμε πρώτα το module `pickle` και στη συνέχεια με χρήση των μεθόδων `dump` και `load` να αποθηκεύσουμε και να φορτώσουμε από το αρχείο αντίστοιχα. Το άνοιγμα του αρχείου για γράψιμο και διάβασμα θα πρέπει να γίνει δυαδικά, με χρήση παραμέτρων \"wb\" και \"rb\" αντίστοιχα."
   ]
  },
  {
   "cell_type": "markdown",
   "id": "eaaee6c7",
   "metadata": {},
   "source": [
    "**Παράδειγμα**\n",
    "\n",
    "Θα αποθηκεύουμε ένα λεξικό στο αρχείο και στην συνέχεια θα το ανακτήσουμε."
   ]
  },
  {
   "cell_type": "code",
   "execution_count": 17,
   "id": "4bde1b76",
   "metadata": {},
   "outputs": [],
   "source": [
    "import pickle\n",
    "data = {\"name\": \"Gauss\", \"year\": 1977, \"city\": \"Braunschweig\"}\n",
    "with open(\"data.pkl\", \"wb\") as file:\n",
    "    pickle.dump(data, file)"
   ]
  },
  {
   "cell_type": "code",
   "execution_count": 18,
   "id": "fcbf14ae",
   "metadata": {},
   "outputs": [
    {
     "data": {
      "text/plain": [
       "{'name': 'Gauss', 'year': 1977, 'city': 'Braunschweig'}"
      ]
     },
     "execution_count": 18,
     "metadata": {},
     "output_type": "execute_result"
    }
   ],
   "source": [
    "with open(\"data.pkl\", \"rb\") as file:\n",
    "    loaded_data = pickle.load(file)\n",
    "loaded_data"
   ]
  },
  {
   "cell_type": "markdown",
   "id": "3df3da8c",
   "metadata": {},
   "source": [
    "Αντικείμενα κλάσεων που έχουν δημιουργηθεί από τον προγραμματιστή μπορούν επίσης να σειριοποιηθούν και να αποσειροποιηθούν."
   ]
  },
  {
   "cell_type": "code",
   "execution_count": 19,
   "id": "2899cb0c",
   "metadata": {},
   "outputs": [
    {
     "name": "stdout",
     "output_type": "stream",
     "text": [
      "(3,4)\n"
     ]
    }
   ],
   "source": [
    "class Point:\n",
    "    def __init__(self, x, y):\n",
    "        self.x = x\n",
    "        self.y = y\n",
    "    def __str__(self):\n",
    "        return '('+str(self.x)+','+str(self.y)+')'\n",
    "p = Point(3,4)\n",
    "with open(\"points.pkl\", \"wb\") as file:\n",
    "    pickle.dump(p, file)\n",
    "with open(\"points.pkl\", \"rb\") as file:\n",
    "    point_data = pickle.load(file)\n",
    "print(point_data)"
   ]
  },
  {
   "cell_type": "markdown",
   "id": "bc0ae3b4",
   "metadata": {},
   "source": [
    "Η **dunder** μέθοδος `__reduce__` χρησιμοποιείται στο Python για να ελέγξει πώς αντικείμενα μπορούν να αναπαρασταθούν και να αποθηκευτούν μέσω του `pickle`. Η μέθοδος αυτή επιστρέφει μια αναπαράσταση του αντικειμένου που περιλαμβάνει ένα `tuple` που περιέχει:\n",
    "\n",
    "- Μια συνάρτηση ή κλάση που χρησιμοποιείται για να αναδημιουργήσει το αντικείμενο κατά τη διάρκεια της διαδικασίας της σειριοποίησης.\n",
    "\n",
    "- Τα απαραίτητα δεδομένα που θα χρησιμοποιηθούν για να αναδημιουργήσουν το αντικείμενο όταν το ανακτήσουμε.\n",
    "\n",
    "Η `self.__class__` επιστρέφει την κλάση στην οποία ανήκει το αντικείμενο και χρησιμοποιείται για να δημιουργήσει νέο αντικείμενό της.\n",
    "Στο παράδειγμα του σημείου, που περιέχει απλές ιδιότητες, δεν είναι απαραίτητη η χρήση της `__reduce__`. "
   ]
  },
  {
   "cell_type": "code",
   "execution_count": 20,
   "id": "6bb8ecfd",
   "metadata": {},
   "outputs": [
    {
     "name": "stdout",
     "output_type": "stream",
     "text": [
      "(3,4)\n"
     ]
    }
   ],
   "source": [
    "class Point:\n",
    "    def __init__(self, x, y):\n",
    "        self.x = x\n",
    "        self.y = y\n",
    "    \n",
    "    def __str__(self):\n",
    "        return '(' + str(self.x) + ',' + str(self.y) + ')'\n",
    "    \n",
    "    def __reduce__(self):\n",
    "        return (self.__class__, (self.x, self.y)) \n",
    "\n",
    "p = Point(3, 4)\n",
    "\n",
    "with open(\"points.pkl\", \"wb\") as file:\n",
    "    pickle.dump(p, file)\n",
    "\n",
    "with open(\"points.pkl\", \"rb\") as file:\n",
    "    point_data = pickle.load(file)\n",
    "\n",
    "print(point_data)"
   ]
  },
  {
   "cell_type": "markdown",
   "id": "efb2bd95",
   "metadata": {},
   "source": [
    "Η `__reduce__` μπορεί, αντί για την `self.__class__` για την δημιουργία και πάλι του αντικειμένου, να περιέχει οποιαδήποτε συνάρτηση επιτρέποντας, μεταξύ άλλων κακόβουλες επιθέσεις κατά την φόρτωση αρχείων μέσω του `pickle`."
   ]
  },
  {
   "cell_type": "markdown",
   "id": "4eefeb78",
   "metadata": {},
   "source": [
    "Στο παράδειγμα που ακολουθεί θα γίνει χρήση της συνάρτησης `eval` η οποία εκτελεί την έκφραση Python της παραμέτρου που δίνεται σε μορφή `str` και επιστρέφει το αποτέλεσμα της εκτέλεσης αυτής της έκφρασης."
   ]
  },
  {
   "cell_type": "code",
   "execution_count": 21,
   "id": "28c7e0f1",
   "metadata": {},
   "outputs": [
    {
     "data": {
      "text/plain": [
       "30"
      ]
     },
     "execution_count": 21,
     "metadata": {},
     "output_type": "execute_result"
    }
   ],
   "source": [
    "x = 10\n",
    "y = 20\n",
    "eval('x + y')"
   ]
  },
  {
   "cell_type": "markdown",
   "id": "6cc38b0e",
   "metadata": {},
   "source": [
    "**Παράδειγμα**\n",
    "\n",
    "Την ώρα της αποσειριοποίησης ένος άγνωστου αρχείου μπορεί να εκτελεστεί κώδικας χωρίς να το περιμένουμε."
   ]
  },
  {
   "cell_type": "code",
   "execution_count": 22,
   "id": "8717f8f0",
   "metadata": {},
   "outputs": [
    {
     "name": "stdout",
     "output_type": "stream",
     "text": [
      "malicious 3\n"
     ]
    }
   ],
   "source": [
    "class Attack:\n",
    "    def __reduce__(self):\n",
    "        return (eval, (\"print('malicious',1+2)\",))\n",
    "\n",
    "malicious = pickle.dumps(Attack())\n",
    "\n",
    "pickle.loads(malicious)"
   ]
  },
  {
   "cell_type": "markdown",
   "id": "b53fe311",
   "metadata": {},
   "source": [
    "Ενώ η χρήση του pickle είναι πολύ βολική, έχει ορισμένα μειονεκτήματα. Όπως είδαμε, το διάβασμα ενός αρχείου, την προέλευση του οποίου δεν γνωρίζουμε, μπορεί να προκαλέσει την εκτέλεση κακόβολου κώδικα στον υπολογιστή μας. Ο δυαδικός τρόπος αποθήκευσης κάνει τα αρχεία μη αναγνώσιμα από ανθρώπους. Επιπλέον, αν το γράψιμό του αρχείου έχει γίνει με διαφορετική έκδοση της Python από την έκδοση με την οποία επιχειρείται να διαβαστεί, είναι πολύ πιθανό να μην μπορέσει να γίνει η αποσειριοποίηση.\n",
    "\n",
    "Προτιμούμε, λοιπόν, όπου αυτό είναι δυνατόν, μεθόδους αποθήκευσης όπως τα αρχεία **csv** και **json** που ακολουθούν."
   ]
  },
  {
   "cell_type": "markdown",
   "id": "19207527",
   "metadata": {},
   "source": [
    "# csv"
   ]
  },
  {
   "cell_type": "markdown",
   "id": "e9287215",
   "metadata": {},
   "source": [
    "Τα CSV, Comma-Separated Values, αρχεία αποτελούν απλά αρχεία κειμένου που αποθηκεύουν δεδομένα σε έναν, σχετικά, οργανωμένο τρόπο. Ουσιαστικά πρόκειται για έναν πίνακα όπως σε ένα πρόγραμμα υπολογιστικών φύλλων, όπου κάθε γραμμή αντιπροσωπεύει ένα διαφορετικό στοιχείο δεδομένων, εγγραφή, και κάθε στήλη αντιπροσωπεύει μια διαφορετική ιδιότητα αυτού του στοιχείου. Οι ιδιότητες χωρίζονται μεταξύ τους με ',' ή ';' και οι εγγραφές με αλλαγή γραμμής."
   ]
  },
  {
   "cell_type": "markdown",
   "id": "3a45c477",
   "metadata": {},
   "source": [
    "Η βιβλιοθήκη `csv` παρέχει λειτουργίες διαβάσματος και εγγραφής σε αρχεία CSV."
   ]
  },
  {
   "cell_type": "markdown",
   "id": "45b038b8",
   "metadata": {},
   "source": [
    "**Παράδειγμα**\n",
    "\n",
    "Σε ένα αρχείο με όνομα 'APL_grades.csv' υπάρχουν καταχωρημένα στοιχεία φοιτητών και ο βαθμός τους σε ένα μάθημα. Θα διαβάζουμε και θα εμφανίσουμε όλες τις εγγραφές. Στην συνέχεια χρησιμοποιώντας την βιβλιοθήκη `statistics` θα υπολογίσουμε τον μέσο όρο. Τέλος, θα προσθέσουμε μια εγγραφή στο τέλος του αρχείου."
   ]
  },
  {
   "cell_type": "markdown",
   "id": "35f4dd68",
   "metadata": {},
   "source": [
    "Η `reader` μέθοδος της `csv` επιστρέφει έναν επαναλήπτη με κάθε γραμμή να αντιστοιχεί σε μία λίστα. Εφόσον κάθε στοιχείο έχει τρεις ιδιότητες, μπορούμε σε μία γραμμή με την τεχνική **unpacking** να θέσουμε κάθε ιδιότητα σε μεταβλητή. Τα δεδομένα στο αρχείο έχουν τύπο `str`. Μπορούμε με την μέθοδο `int`, αφού ξέρουμε ότι πρόκειται για ακεραίους, να τα μετατρέψουμε. Η μετατροπή στη συνέχεια υλοποιείται με τεχνική comprehension."
   ]
  },
  {
   "cell_type": "code",
   "execution_count": 23,
   "id": "e07b0993",
   "metadata": {},
   "outputs": [
    {
     "name": "stdout",
     "output_type": "stream",
     "text": [
      "[8, 3, 6, 5]\n"
     ]
    },
    {
     "data": {
      "text/plain": [
       "5.5"
      ]
     },
     "execution_count": 23,
     "metadata": {},
     "output_type": "execute_result"
    }
   ],
   "source": [
    "import csv\n",
    "from statistics import mean\n",
    "with open('APL_grades.csv', 'r', newline='') as APL_grades:\n",
    "    data = csv.reader(APL_grades)\n",
    "    grades = []\n",
    "    for record in data:\n",
    "        am, fullName, grade = record\n",
    "        grades.append(grade)\n",
    "newGrades = [int(i) for i in grades[1:]] # Προσπερνάμε τη γραμμή τίτλων\n",
    "\n",
    "print(newGrades)\n",
    "mean(newGrades)"
   ]
  },
  {
   "cell_type": "markdown",
   "id": "4abf0694",
   "metadata": {},
   "source": [
    "Υπενθυμίζεται ότι στην κατάσταση `a`, append, το αρχείο ανοίγει για προσθήκη δεδομένων."
   ]
  },
  {
   "cell_type": "code",
   "execution_count": 24,
   "id": "207137e9",
   "metadata": {},
   "outputs": [],
   "source": [
    "import csv\n",
    "\n",
    "with open('APL_grades.csv', 'a', newline='') as APL_grades:           \n",
    "    writer = csv.writer(APL_grades)\n",
    "    writer.writerow([3112021000, 'Κώτσου Νίκος', 4])\n"
   ]
  },
  {
   "cell_type": "markdown",
   "id": "c17d1a0f",
   "metadata": {},
   "source": [
    "# json"
   ]
  },
  {
   "cell_type": "markdown",
   "id": "13e51d8b",
   "metadata": {},
   "source": [
    "Όπως προκύπτει και από το όνομα, ο συμβολισμός JSON, JavaScript Object Notation, προήλθε από την γλώσσα JavaScript αλλά κατέληξε να είναι ένας γενικότερος τρόπος, μαζί με την XML, που χρησιμοποιείται από πολλές γλώσσες για ανταλλαγή δεδομένων. Πλεονέκτημά της, ότι μπορεί εξίσου εύκολα να διαβαστεί και από άνθρωπο και υπολογιστή. Τα αντικείμενα JSON, περιέχουν μια διαχωρισμένη με κόμματα λίστα από ονόματα ιδιοτήτων και τιμές εντός αγκίστρων.\n",
    "```\n",
    "[\n",
    "    {\n",
    "        \"name\": \"Isaac Newton\",\n",
    "        \"year_of_birth\": 1643,\n",
    "        \"field_of_study\": [\"Mathematics\", \"Physics\", \"Astronomy\"]\n",
    "    },\n",
    "    {\n",
    "        \"name\": \"Albert Einstein\",\n",
    "        \"year_of_birth\": 1879,\n",
    "        \"field_of_study\": [\"Physics\", \"Mathematics\"]\n",
    "    }\n",
    "]\n",
    "```\n",
    "Παρατηρούμε ότι μέσα σε αγκύλες [] περιέχεται μία λίστα με αντικείμενα τα οποία βρίσκονται με τη σειρά τους μέσα σε {}. Τα δεδομένα των αντικειμένων σηματοδοτούνται ως ζεύγη \"κλειδι\":τιμή με την τιμή να μπορεί να είναι μία νέα λίστα, συμβολοσειρά μέσα σε \"\" ή και αριθμός."
   ]
  },
  {
   "cell_type": "markdown",
   "id": "14976ef8",
   "metadata": {},
   "source": [
    "Για να γράψουμε σε ένα αρχείο κάποιο αντικείμενο σε μορφή `json`, μπορούμε να χρησιμοποιήσουμε τη συνάρτηση `dump` του αρθρώματος `json`. Η διαδικασία, όπως είδαμε και στην `pickle`, ονομάζεται σειριοποίηση, **serializing** δεδομένων."
   ]
  },
  {
   "cell_type": "code",
   "execution_count": 25,
   "id": "5cf77df4",
   "metadata": {},
   "outputs": [],
   "source": [
    "import json\n",
    "\n",
    "accountData={'accounts': [\n",
    "            {'id': 100, 'client':'Papadopoulos', 'pliromi':155.78},\n",
    "            {'id': 101, 'client':'Alexiou', 'pliromi':326.05},\n",
    "            {'id': 102, 'client':'Damianos', 'pliromi':52.33}\n",
    "            ]}\n",
    "\n",
    "with open('accounts.json', 'w') as accounts:\n",
    "    json.dump(accountData, accounts)"
   ]
  },
  {
   "cell_type": "markdown",
   "id": "cccd7c84",
   "metadata": {},
   "source": [
    "Για να διαβάσουμε τα δεδομένα από ένα αρχείο `json` μπορούμε να χρησιμοποιήσουμε τη μέθοδο `load`, αποσειριοποίηση, **deserializing**, δεδομένων."
   ]
  },
  {
   "cell_type": "code",
   "execution_count": 26,
   "id": "f50ac5c5",
   "metadata": {},
   "outputs": [
    {
     "data": {
      "text/plain": [
       "{'accounts': [{'id': 100, 'client': 'Papadopoulos', 'pliromi': 155.78},\n",
       "  {'id': 101, 'client': 'Alexiou', 'pliromi': 326.05},\n",
       "  {'id': 102, 'client': 'Damianos', 'pliromi': 52.33}]}"
      ]
     },
     "execution_count": 26,
     "metadata": {},
     "output_type": "execute_result"
    }
   ],
   "source": [
    "with open('accounts.json', 'r') as accounts:\n",
    "    accountsData = json.load(accounts)\n",
    "    \n",
    "accountsData"
   ]
  },
  {
   "cell_type": "code",
   "execution_count": 27,
   "id": "171025f8",
   "metadata": {},
   "outputs": [
    {
     "data": {
      "text/plain": [
       "[{'id': 100, 'client': 'Papadopoulos', 'pliromi': 155.78},\n",
       " {'id': 101, 'client': 'Alexiou', 'pliromi': 326.05},\n",
       " {'id': 102, 'client': 'Damianos', 'pliromi': 52.33}]"
      ]
     },
     "execution_count": 27,
     "metadata": {},
     "output_type": "execute_result"
    }
   ],
   "source": [
    "accountsData['accounts']"
   ]
  },
  {
   "cell_type": "code",
   "execution_count": 28,
   "id": "975ffe4e",
   "metadata": {},
   "outputs": [
    {
     "data": {
      "text/plain": [
       "{'id': 100, 'client': 'Papadopoulos', 'pliromi': 155.78}"
      ]
     },
     "execution_count": 28,
     "metadata": {},
     "output_type": "execute_result"
    }
   ],
   "source": [
    "accountsData['accounts'][0]"
   ]
  },
  {
   "cell_type": "markdown",
   "id": "c14184a0",
   "metadata": {},
   "source": [
    "Ενώ με τις `dump` και `load` μεθόδους της `json` τύποι της Python αποθηκεύονται ή φορτώνονται σε αρχεία, οι μέθοδοι `dumps` και `loads` μετατρέπουν αντικείμενα σε `str` και αντίστροφα. Τα λεξικά, `dict`,  μπορούν άμεσα να μετατραπούν σε συμβολοσειρές που είναι συμβατές με το πρότυπο JSON."
   ]
  },
  {
   "cell_type": "code",
   "execution_count": 29,
   "id": "255c2d45",
   "metadata": {},
   "outputs": [
    {
     "data": {
      "text/plain": [
       "(str,\n",
       " '{\"name\": \"Isaac Newton\", \"year_of_birth\": 1643, \"field_of_study\": [\"Mathematics\", \"Physics\", \"Astronomy\"], \"famous_equation:\": \"F = ma\"}')"
      ]
     },
     "execution_count": 29,
     "metadata": {},
     "output_type": "execute_result"
    }
   ],
   "source": [
    "mathematician = {\n",
    "        \"name\": \"Isaac Newton\",\n",
    "        \"year_of_birth\": 1643,\n",
    "        \"field_of_study\": [\"Mathematics\", \"Physics\", \"Astronomy\"]\n",
    "    }\n",
    "mathematician['famous_equation:']='F = ma'\n",
    "s = json.dumps(mathematician)\n",
    "type(s),s"
   ]
  },
  {
   "cell_type": "markdown",
   "id": "5d80c8fe",
   "metadata": {},
   "source": [
    "Η `loads` θα επιστρέψει και πάλι λεξικό."
   ]
  },
  {
   "cell_type": "code",
   "execution_count": 30,
   "id": "7c9d37cf",
   "metadata": {},
   "outputs": [
    {
     "data": {
      "text/plain": [
       "{'name': 'Isaac Newton',\n",
       " 'year_of_birth': 1643,\n",
       " 'field_of_study': ['Mathematics', 'Physics', 'Astronomy'],\n",
       " 'famous_equation:': 'F = ma'}"
      ]
     },
     "execution_count": 30,
     "metadata": {},
     "output_type": "execute_result"
    }
   ],
   "source": [
    "d = json.loads(s);\n",
    "d"
   ]
  },
  {
   "cell_type": "markdown",
   "id": "63d4cc7f",
   "metadata": {},
   "source": [
    "Στην επόμενη περίπτωση, έχουμε μία λίστα με αντικείμενα με την `loads` να επιστρέφει λίστα."
   ]
  },
  {
   "cell_type": "code",
   "execution_count": 31,
   "id": "d6bbc70a",
   "metadata": {},
   "outputs": [],
   "source": [
    "s = \"\"\"\n",
    "[\n",
    "    {\n",
    "        \"name\": \"Isaac Newton\",\n",
    "        \"year_of_birth\": 1643,\n",
    "        \"field_of_study\": [\"Mathematics\", \"Physics\", \"Astronomy\"],\n",
    "        \"famous_equation\": \"F = ma\"\n",
    "        \n",
    "    },\n",
    "    {\n",
    "        \"name\": \"Albert Einstein\",\n",
    "        \"year_of_birth\": 1879,\n",
    "        \"field_of_study\": [\"Physics\", \"Mathematics\"],\n",
    "        \"famous_equation\": \"E = mc^2\"\n",
    "    }\n",
    "]\n",
    "\"\"\"\n",
    "d = json.loads(s)"
   ]
  },
  {
   "cell_type": "markdown",
   "id": "d67f665b",
   "metadata": {},
   "source": [
    "Στο παραπάνω λεξικό το _d[1]_ αναφέρεται στον λεξικό που αφορά τον Albert Einstein με το κλειδί _field_of_study_ να αναφέρεται στη λίστα πεδίων ενδιαφέροντός του. Ο δείκτης -1 επιστρέφει το τελευταίο στοιχείο της λίστας αυτής."
   ]
  },
  {
   "cell_type": "code",
   "execution_count": 32,
   "id": "a64cc5dc",
   "metadata": {},
   "outputs": [
    {
     "data": {
      "text/plain": [
       "'Mathematics'"
      ]
     },
     "execution_count": 32,
     "metadata": {},
     "output_type": "execute_result"
    }
   ],
   "source": [
    "d[1]['field_of_study'][-1]"
   ]
  },
  {
   "cell_type": "markdown",
   "id": "2f43323a",
   "metadata": {},
   "source": [
    "# βιβλιοθήκη `os`"
   ]
  },
  {
   "cell_type": "markdown",
   "id": "546bfb27",
   "metadata": {},
   "source": [
    "Η βιβλιοθήκη `os` αποτελεί ένα built-in module που παρέχει συναρτήσεις διάδρασης με το λειτουργικό σύστημα όπως η διαχείριση φακέλων και αρχείων.\n",
    "\n",
    "- `getcwd`: Επιστρέφει τον τρέχοντα φάκελο (cwd: current working directory).\n",
    "\n",
    "- `mkdir`: Δημιουργεί φάκελο.\n",
    "\n",
    "- `listdir`:περιεχόμενα φακέλου\n",
    "\n",
    "- `rename`: αλλάζει το όνομα αρχείου.\n",
    "\n",
    "- `remove`: Διαγράφει κάποιο αρχείο. Δεν μπορεί να διαγράψει φάκελο.\n",
    "\n",
    "- `rmdir`: Διαγράφει άδειο φάκελο. Αν δεν είναι άδειος εγείρεται εξαίρεση."
   ]
  },
  {
   "cell_type": "code",
   "execution_count": 33,
   "id": "b4b47aa0",
   "metadata": {},
   "outputs": [],
   "source": [
    "import os"
   ]
  },
  {
   "cell_type": "markdown",
   "id": "791d8b30",
   "metadata": {},
   "source": [
    "**Παράδειγμα**\n",
    "\n",
    "Στο επόμενο τμήμα κώδικα η `getcwd` θα επιστρέψει τον φάκελο στον οποίο δουλεύουμε την τρέχουσα στιγμή, τον φάκελο που βρίσκεται ο κώδικάς μας. Στην συνέχεια η `listdir` με παράμετρο τον φάκελο θα επιστρέψει λίστα με τα περιεχόμενα του, τα ονόματα δηλαδή αρχείων και φακέλων. Η `rename` θα αλλάξει το όνομα ενός αρχείου."
   ]
  },
  {
   "cell_type": "code",
   "execution_count": 34,
   "id": "d81b7cd4",
   "metadata": {},
   "outputs": [
    {
     "name": "stdout",
     "output_type": "stream",
     "text": [
      "τρέχων φάκελος:C:\\Users\\akont\\OneDrive - aegean.gr\\Έγγραφα\\python\\!!! notes\\06. files\\06. files (notes)\n"
     ]
    },
    {
     "data": {
      "text/plain": [
       "['.ipynb_checkpoints',\n",
       " '06. files (notes).ipynb',\n",
       " 'accounts.json',\n",
       " 'accounts.txt',\n",
       " 'APL_grades.csv',\n",
       " 'big_accounts.txt',\n",
       " 'data.pkl',\n",
       " 'dir',\n",
       " 'example.bin',\n",
       " 'initialText.txt',\n",
       " 'keimeno.txt',\n",
       " 'points.pkl',\n",
       " 'simple.txt',\n",
       " 'simplezip',\n",
       " 'zipfiles']"
      ]
     },
     "execution_count": 34,
     "metadata": {},
     "output_type": "execute_result"
    }
   ],
   "source": [
    "d = os.getcwd()\n",
    "print('τρέχων φάκελος:'+d)\n",
    "os.listdir(d)"
   ]
  },
  {
   "cell_type": "code",
   "execution_count": 35,
   "id": "0a407b6f",
   "metadata": {},
   "outputs": [
    {
     "data": {
      "text/plain": [
       "['.ipynb_checkpoints',\n",
       " '06. files (notes).ipynb',\n",
       " 'accounts.json',\n",
       " 'APL_grades.csv',\n",
       " 'big_accounts.txt',\n",
       " 'data.pkl',\n",
       " 'dir',\n",
       " 'example.bin',\n",
       " 'initialText.txt',\n",
       " 'keimeno.txt',\n",
       " 'logariasmoi.txt',\n",
       " 'points.pkl',\n",
       " 'simple.txt',\n",
       " 'simplezip',\n",
       " 'zipfiles']"
      ]
     },
     "execution_count": 35,
     "metadata": {},
     "output_type": "execute_result"
    }
   ],
   "source": [
    "os.rename(\"accounts.txt\", \"logariasmoi.txt\")\n",
    "os.listdir(d)"
   ]
  },
  {
   "cell_type": "markdown",
   "id": "c102a002",
   "metadata": {},
   "source": [
    "## Διαγραφή"
   ]
  },
  {
   "cell_type": "markdown",
   "id": "4c251d00",
   "metadata": {},
   "source": [
    "Η `remove` χρησιμοποιείται για την διαγραφή αρχείων. Αν το προς διαγραφή αρχείο δεν βρεθεί θα προκύψει εξαίρεση `FileNotFoundError`."
   ]
  },
  {
   "cell_type": "code",
   "execution_count": 36,
   "id": "85755b67",
   "metadata": {},
   "outputs": [],
   "source": [
    "# os.remove('test.txt')"
   ]
  },
  {
   "cell_type": "markdown",
   "id": "c543043a",
   "metadata": {},
   "source": [
    "Δεν επιτρέπεται η διαγραφή φακέλων με την `remove`. Η προσπάθεια διαγραφής ενός φακέλου θα δημιουργήσει εξαίρεση `PermissionError`."
   ]
  },
  {
   "cell_type": "code",
   "execution_count": 37,
   "id": "b80e1504",
   "metadata": {},
   "outputs": [],
   "source": [
    "#os.remove('dir')"
   ]
  },
  {
   "cell_type": "markdown",
   "id": "47319ea3",
   "metadata": {},
   "source": [
    "Στην περίπτωση που θέλουμε να διαγράψουμε φάκελο θα πρέπει να χρησιμοποιήσουμε την `rmdir`. Αν, όμως, υπάρχουν αρχεία μέσα στον φάκελο θα προκύψει εξαίρεση `OSError`."
   ]
  },
  {
   "cell_type": "code",
   "execution_count": 38,
   "id": "e8f4f26d",
   "metadata": {},
   "outputs": [],
   "source": [
    "# os.rmdir('dir')"
   ]
  },
  {
   "cell_type": "markdown",
   "id": "1dc5c136",
   "metadata": {},
   "source": [
    "Σε πολλές περιπτώσεις διαχείρισης αρχείων πολύ χρήσιμη είναι η λειτουργικότητα των συμβολοσειρών, `str`."
   ]
  },
  {
   "cell_type": "markdown",
   "id": "a3ebe708",
   "metadata": {},
   "source": [
    "**Παράδειγμα**\n",
    "\n",
    "Στον επόμενο κώδικα εμφανίζουμε μόνο τα αρχεία που μας ενδιαφέρουν που είναι τύπου _.txt_ ή _.dat_."
   ]
  },
  {
   "cell_type": "code",
   "execution_count": 39,
   "id": "1fe1538f",
   "metadata": {},
   "outputs": [
    {
     "name": "stdout",
     "output_type": "stream",
     "text": [
      "test.txt\n"
     ]
    }
   ],
   "source": [
    "for filename in os.listdir('dir'):\n",
    "    if filename.endswith('.txt') or filename.endswith('.dat'):\n",
    "        print(filename)"
   ]
  },
  {
   "cell_type": "markdown",
   "id": "38bd2cff",
   "metadata": {},
   "source": [
    "## `scandir`"
   ]
  },
  {
   "cell_type": "markdown",
   "id": "b54bb1ff",
   "metadata": {},
   "source": [
    "Η μέθοδος `scandir` του `os` επιστρέφει έναν **iterator** με εγγραφές αντικείμενα τύπου `DirEntry`, όλα τα αρχεία και τους φακέλους του τρέχοντος φακέλου ή του φακέλου της παραμέτρου `path`. Οι μέθοδοι `is_dir()` και `is_file()` επιστρέφουν `True` όταν η αντίστοιχη εγγραφή είναι φάκελος ή αρχείο αντίστοιχα."
   ]
  },
  {
   "cell_type": "code",
   "execution_count": 40,
   "id": "8fbc6c6d",
   "metadata": {},
   "outputs": [
    {
     "name": "stdout",
     "output_type": "stream",
     "text": [
      "Φάκελος: .ipynb_checkpoints\n",
      "Αρχείο: 06. files (notes).ipynb\n",
      "Αρχείο: accounts.json\n",
      "Αρχείο: APL_grades.csv\n",
      "Αρχείο: big_accounts.txt\n",
      "Αρχείο: data.pkl\n",
      "Φάκελος: dir\n",
      "Αρχείο: example.bin\n",
      "Αρχείο: initialText.txt\n",
      "Αρχείο: keimeno.txt\n",
      "Αρχείο: logariasmoi.txt\n",
      "Αρχείο: points.pkl\n",
      "Αρχείο: simple.txt\n",
      "Φάκελος: simplezip\n",
      "Φάκελος: zipfiles\n"
     ]
    }
   ],
   "source": [
    "for entry in os.scandir():\n",
    "    print(\"Φάκελος:\" if entry.is_dir() else \"Αρχείο:\",entry.name)"
   ]
  },
  {
   "cell_type": "markdown",
   "id": "e9878cd1",
   "metadata": {},
   "source": [
    "Η μέθοδος των αντικειμένων `DirEntry` `stat` επιστρέφει ένα αντικείμενο `os.stat_result` με πληροφορίες όπως:\n",
    "\n",
    "- `st_size`: Μέγεθος αρχείου σε bytes.\n",
    "\n",
    "- `st_mtime`: Χρόνος τελευταίας τροποποίησης.\n",
    "\n",
    "- `st_ctime`: Χρόνος δημιουργίας ή αλλαγής (εξαρτάται από το λειτουργικό σύστημα)."
   ]
  },
  {
   "cell_type": "code",
   "execution_count": 41,
   "id": "b8bdde56",
   "metadata": {},
   "outputs": [
    {
     "name": "stdout",
     "output_type": "stream",
     "text": [
      ".ipynb_checkpoints : Μέγεθος =  0  Τροποποίηση: 1743271230.753809  Δημιουργία: 1742997096.4366615\n"
     ]
    }
   ],
   "source": [
    "entry = next(os.scandir())\n",
    "info = entry.stat()\n",
    "print(entry.name,': Μέγεθος = ', info.st_size,' Τροποποίηση:',info.st_mtime, ' Δημιουργία:',info.st_ctime)"
   ]
  },
  {
   "cell_type": "markdown",
   "id": "e3260cd4",
   "metadata": {},
   "source": [
    "Οι ιδιότητες `st_mtime` και `st_ctime` επιστρέφουν δευτερόλεπτα που έχουν περάσει από το **Unix epoch time** δηλαδή, από την 1η Ιανουαρίου 1970 00:00:00 UTC. Μπορεί να μετατραπεί σε φιλικότερη προς τον χρήστη μορφή με κάποια βιβλιοθήκη όπως η `time`."
   ]
  },
  {
   "cell_type": "code",
   "execution_count": 42,
   "id": "c6451615",
   "metadata": {},
   "outputs": [
    {
     "name": "stdout",
     "output_type": "stream",
     "text": [
      "Όνομα: .ipynb_checkpoints\n",
      "Τελευταία τροποποίηση: Sat Mar 29 20:00:30 2025\n",
      "Χρόνος δημιουργίας/μεταβολής: Wed Mar 26 15:51:36 2025\n"
     ]
    }
   ],
   "source": [
    "import time\n",
    "print('Όνομα:',entry.name)\n",
    "print('Τελευταία τροποποίηση:',time.ctime(info.st_mtime))\n",
    "print('Χρόνος δημιουργίας/μεταβολής:',time.ctime(info.st_ctime))"
   ]
  },
  {
   "cell_type": "markdown",
   "id": "9ba5de07",
   "metadata": {},
   "source": [
    "## Δημιουργία φακέλων"
   ]
  },
  {
   "cell_type": "markdown",
   "id": "325fbbf8",
   "metadata": {},
   "source": [
    "Η `mkdir` μέθοδος δημιουργεί έναν φάκελο ενώ η `makedirs` μπορεί να δημιουργήσει και μία ακολουθία φακέλων. Στο επόμενο τμήμα κώδικα η `mkdir` θα δημιουργήσει το φάκελο _test_ ενώ η `makedirs('1/2/3')` τον φάκελο _1_ που θα περιέχει τον φάκελο _2_ που με την σειρά του θα περιέχει τον φάκελο _3_."
   ]
  },
  {
   "cell_type": "code",
   "execution_count": 43,
   "id": "3802c820",
   "metadata": {},
   "outputs": [],
   "source": [
    "os.mkdir('test')\n",
    "os.makedirs('1/2/3')"
   ]
  },
  {
   "cell_type": "markdown",
   "id": "c37e5667",
   "metadata": {},
   "source": [
    "## Άνοιγμα προγραμμάτων"
   ]
  },
  {
   "cell_type": "markdown",
   "id": "16bd1e44",
   "metadata": {},
   "source": [
    "Στο λειτουργικό σύστημα windows η μέθοδος `startfile` ανοίγει το αρχείο της παραμέτρου στο εξορισμού πρόγραμμα."
   ]
  },
  {
   "cell_type": "code",
   "execution_count": 44,
   "id": "78e2da3a",
   "metadata": {},
   "outputs": [],
   "source": [
    "os.startfile('simple.txt')"
   ]
  },
  {
   "cell_type": "markdown",
   "id": "e8e52902",
   "metadata": {},
   "source": [
    "## `walk`"
   ]
  },
  {
   "cell_type": "markdown",
   "id": "a430cb31",
   "metadata": {},
   "source": [
    "Η συνάρτηση `walk()` της βιβλιοθήκης `os` χρησιμοποιείται για την αναδρομική διέλευση φακέλων και αρχείων. Δημιουργεί έναν iterator με τους φακέλους. Για κάθε φάκελο επιστρέφεται ένα `tuple` με την διαδρομή, _root_, λίστα με τα ονόματα των φακέλων, _dirs_ και λίστα με τα ονόματα των αρχείων, _files_."
   ]
  },
  {
   "cell_type": "code",
   "execution_count": 45,
   "id": "aab34f06",
   "metadata": {},
   "outputs": [
    {
     "name": "stdout",
     "output_type": "stream",
     "text": [
      "Τρέχων φάκελος: zipfiles\n",
      "Υποφάκελοι: ['dir1', 'dir2']\n",
      "Αρχεία: ['text1.txt', 'text2.txt']\n",
      "----------------------------------------\n",
      "Τρέχων φάκελος: zipfiles\\dir1\n",
      "Υποφάκελοι: []\n",
      "Αρχεία: ['text1 in dir1.txt', 'text2 in dir1.txt']\n",
      "----------------------------------------\n",
      "Τρέχων φάκελος: zipfiles\\dir2\n",
      "Υποφάκελοι: ['dir3']\n",
      "Αρχεία: ['text1 in dir2.txt', 'text2 in dir2.txt']\n",
      "----------------------------------------\n",
      "Τρέχων φάκελος: zipfiles\\dir2\\dir3\n",
      "Υποφάκελοι: []\n",
      "Αρχεία: ['text1 in dir 3.txt']\n",
      "----------------------------------------\n"
     ]
    }
   ],
   "source": [
    "for root, dirs, files in os.walk(\"zipfiles\"):\n",
    "    print(\"Τρέχων φάκελος:\", root)\n",
    "    print(\"Υποφάκελοι:\", dirs)\n",
    "    print(\"Αρχεία:\", files)\n",
    "    print(\"-\" * 40)"
   ]
  },
  {
   "cell_type": "markdown",
   "id": "d295a6d9",
   "metadata": {},
   "source": [
    "**Παράδειγμα**\n",
    "\n",
    "Θα μετρήσουμε αριθμό αρχείων και φακέλων στον φάκελο _zipfiles_."
   ]
  },
  {
   "cell_type": "code",
   "execution_count": 46,
   "id": "fb7f1712",
   "metadata": {},
   "outputs": [
    {
     "name": "stdout",
     "output_type": "stream",
     "text": [
      "Files: 7\n",
      "Dirs: 3\n"
     ]
    }
   ],
   "source": [
    "dirsnum,filesnum = 0,0\n",
    "for root, dirs, files in os.walk(\"zipfiles\"):\n",
    "    dirsnum +=len(dirs)\n",
    "    filesnum+=len(files)\n",
    "print('Files:',filesnum)\n",
    "print('Dirs:',dirsnum)"
   ]
  },
  {
   "cell_type": "markdown",
   "id": "1e3bd9d1",
   "metadata": {},
   "source": [
    "**Παράδειγμα**\n",
    "\n",
    "Θα αναζητήσουμε αρχεία τύπου _txt_ και θα εμφανίσουμε τα ονόματά τους."
   ]
  },
  {
   "cell_type": "code",
   "execution_count": 47,
   "id": "d9959edb",
   "metadata": {},
   "outputs": [
    {
     "name": "stdout",
     "output_type": "stream",
     "text": [
      "Αρχείο: zipfiles\\text1.txt\n",
      "Αρχείο: zipfiles\\text2.txt\n",
      "Αρχείο: zipfiles\\dir1\\text1 in dir1.txt\n",
      "Αρχείο: zipfiles\\dir1\\text2 in dir1.txt\n",
      "Αρχείο: zipfiles\\dir2\\text1 in dir2.txt\n",
      "Αρχείο: zipfiles\\dir2\\text2 in dir2.txt\n",
      "Αρχείο: zipfiles\\dir2\\dir3\\text1 in dir 3.txt\n"
     ]
    }
   ],
   "source": [
    "for root, dirs, files in os.walk(\"zipfiles\"):\n",
    "    for file in files:\n",
    "        if file.endswith(\".txt\"):\n",
    "            print(\"Αρχείο:\", os.path.join(root, file))"
   ]
  },
  {
   "cell_type": "markdown",
   "id": "89cc10c8",
   "metadata": {},
   "source": [
    "# Σχετικές, απόλυτες διαδρομές"
   ]
  },
  {
   "cell_type": "markdown",
   "id": "34321cc3",
   "metadata": {},
   "source": [
    "Μία διαδρομή αρχείου μπορεί να είναι σχετική, **relative path**, δηλαδή να σχετίζεται με τον τρέχων φάκελο στον οποίο βρίσκεται και το πρόγραμμα το οποίο εκτελούμε ή απόλυτη, **absolute path**, να ξεκινά δηλαδή από τον αρχικό φάκελο του συστήματος αρχείων. Σε ένα σύστημα με windows ο αρχικός φάκελος θα ήταν ο `C:\\`."
   ]
  },
  {
   "cell_type": "markdown",
   "id": "2ed3733f",
   "metadata": {},
   "source": [
    "# `zipfile`"
   ]
  },
  {
   "cell_type": "markdown",
   "id": "31384810",
   "metadata": {},
   "source": [
    "Το module `zipfile` παρέχει εργαλεία για τη διαχείριση αρχείων ZIP."
   ]
  },
  {
   "cell_type": "code",
   "execution_count": 48,
   "id": "36dcbe27",
   "metadata": {},
   "outputs": [],
   "source": [
    "import zipfile"
   ]
  },
  {
   "cell_type": "markdown",
   "id": "a54297ee",
   "metadata": {},
   "source": [
    "**Παράδειγμα**\n",
    "\n",
    "Έστω δύο αρχεία, _file1.txt_, και _file2.txt_ στον φάκελο _simplezip_. Θα δημιουργήσουμε αρχείο zip με όνομα _simple.zip_.\n",
    "Η παράμετρος `arcname` επιτρέπει την αλλαγή ονόματος του αρχείου. Η παράμετρος compression ορίζει τον τρόπο συμπίεσης. Η εξορισμού τιμή της, `ZIP_STORED` απλά αποθηκεύει στο zip τα αρχεία χωρίς κάποια συμπίεση. Στο παράδειγμα χρησιμοποιείται η `ZIP_DEFLATED` που αποτελεί αλγόριθμο συμπίεσης αρκετά αποδοτικό για κείμενα."
   ]
  },
  {
   "cell_type": "code",
   "execution_count": 49,
   "id": "131b0526",
   "metadata": {},
   "outputs": [
    {
     "name": "stdout",
     "output_type": "stream",
     "text": [
      "Το αρχείο simple.zip δημιουργήθηκε.\n"
     ]
    }
   ],
   "source": [
    "with zipfile.ZipFile(\"simple.zip\", \"w\", compression=zipfile.ZIP_DEFLATED) as zipf:\n",
    "    # Προσθήκη αρχείων στο ZIP\n",
    "    zipf.write(\"simplezip/file1.txt\")\n",
    "    zipf.write(\"simplezip/file2.txt\", arcname='simplezip/zipfile2.txt')\n",
    "\n",
    "print(\"Το αρχείο simple.zip δημιουργήθηκε.\")"
   ]
  },
  {
   "cell_type": "markdown",
   "id": "169c5b51",
   "metadata": {},
   "source": [
    "Για την αποσυμπίεση του αρχείου χρησιμοποιείται η μέθοδος `extractall`."
   ]
  },
  {
   "cell_type": "code",
   "execution_count": 50,
   "id": "0e801a1f",
   "metadata": {},
   "outputs": [
    {
     "name": "stdout",
     "output_type": "stream",
     "text": [
      "Τα περιεχόμενα εξήχθησαν στον φάκελο 'simple_unzipped'.\n"
     ]
    }
   ],
   "source": [
    "with zipfile.ZipFile(\"simple.zip\", \"r\") as zipf:\n",
    "    zipf.extractall(\"simple_unzipped\")\n",
    "print(\"Τα περιεχόμενα εξήχθησαν στον φάκελο 'simple_unzipped'.\")"
   ]
  },
  {
   "cell_type": "markdown",
   "id": "962a4d61",
   "metadata": {},
   "source": [
    "Στην περίπτωση που η δομή φακέλων και υποφακέλων προς συμπίεση είναι πιο πολύπλοκη η `zipfile` μπορεί να συνδυαστεί με την `walk` της `os`."
   ]
  },
  {
   "cell_type": "code",
   "execution_count": 51,
   "id": "64942292",
   "metadata": {},
   "outputs": [
    {
     "name": "stdout",
     "output_type": "stream",
     "text": [
      "Ο φάκελος 'zipfiles' συμπιέστηκε\n"
     ]
    }
   ],
   "source": [
    "with zipfile.ZipFile(\"zipfiles.zip\", \"w\", compression=zipfile.ZIP_DEFLATED) as zipf:\n",
    "    # Αναδρομή στον φάκελο zipfiles\n",
    "    for root, dirs, files in os.walk(\"zipfiles\"):\n",
    "        for file in files:\n",
    "            file_path = os.path.join(root, file)\n",
    "            # Προσθέτουμε το αρχείο στο ZIP με σχετική διαδρομή\n",
    "            zipf.write(file_path, os.path.relpath(file_path, \"zipfiles\"))\n",
    "\n",
    "print(\"Ο φάκελος 'zipfiles' συμπιέστηκε\")"
   ]
  },
  {
   "cell_type": "markdown",
   "id": "69d05d17",
   "metadata": {},
   "source": [
    "# `requests`"
   ]
  },
  {
   "cell_type": "markdown",
   "id": "91808631",
   "metadata": {},
   "source": [
    "Η βιβλιοθήκη `requests` επιτρέπει την αποστολή αιτημάτων σε ιστοσελίδες. Η μέθοδος `get` με παράμετρο την διεύθυνση της σελίδας επιστρέφει ένα αντικείμενο `requests.models.Response` με την απόκριση του Server. Το κείμενο της απόκρισης, σε κωδικοποίηση unicode, δίνεται με την ιδιότητα `text` ενώ η κατάσταση του αιτήματος με την ιδιότητα `status_code`."
   ]
  },
  {
   "cell_type": "code",
   "execution_count": 52,
   "id": "6e9d1c1f",
   "metadata": {},
   "outputs": [
    {
     "data": {
      "text/plain": [
       "'<!DOCTYPE html>\\n\\n<html lang=\"en\" data-content_root=\"./\">\\n  <head>\\n    <meta charset=\"utf-8\" />\\n    <'"
      ]
     },
     "execution_count": 52,
     "metadata": {},
     "output_type": "execute_result"
    }
   ],
   "source": [
    "import requests\n",
    "url = \"https://requests.readthedocs.io/en/stable/\"\n",
    "page = requests.get(url)\n",
    "page.text[:100]"
   ]
  },
  {
   "cell_type": "markdown",
   "id": "5b82c91f",
   "metadata": {},
   "source": [
    "**Παράδειγμα**\n",
    "\n",
    "Το Project Gutenberg είναι μια βιβλιοθήκη με περισσότερα από 75.000 δωρεάν ηλεκτρονικά βιβλία. Θα κατεβάσουμε ένα από αυτά τοπικά στον υπολογιστή μας."
   ]
  },
  {
   "cell_type": "code",
   "execution_count": 53,
   "id": "1a372844",
   "metadata": {},
   "outputs": [
    {
     "name": "stdout",
     "output_type": "stream",
     "text": [
      "Το αρχείο κατέβηκε και αποθηκεύτηκε με επιτυχία.\n"
     ]
    }
   ],
   "source": [
    "import requests\n",
    "url = \"https://www.gutenberg.org/cache/epub/28885/pg28885.txt\"\n",
    "response = requests.get(url)\n",
    "if response.status_code == 200:  # Ελέγχουμε αν η αίτηση ήταν επιτυχής\n",
    "    with open('alice-in-wonderland.txt', 'wb') as file:\n",
    "        file.write(response.content)\n",
    "    print(\"Το αρχείο κατέβηκε και αποθηκεύτηκε με επιτυχία.\")\n",
    "else:\n",
    "    print(\"Η αίτηση απέτυχε, κωδικός κατάστασης:\", response.status_code)"
   ]
  },
  {
   "cell_type": "code",
   "execution_count": null,
   "id": "75269b0f",
   "metadata": {},
   "outputs": [],
   "source": []
  },
  {
   "cell_type": "code",
   "execution_count": null,
   "id": "90a2b086",
   "metadata": {},
   "outputs": [],
   "source": []
  }
 ],
 "metadata": {
  "kernelspec": {
   "display_name": "Python 3 (ipykernel)",
   "language": "python",
   "name": "python3"
  },
  "language_info": {
   "codemirror_mode": {
    "name": "ipython",
    "version": 3
   },
   "file_extension": ".py",
   "mimetype": "text/x-python",
   "name": "python",
   "nbconvert_exporter": "python",
   "pygments_lexer": "ipython3",
   "version": "3.11.4"
  }
 },
 "nbformat": 4,
 "nbformat_minor": 5
}
