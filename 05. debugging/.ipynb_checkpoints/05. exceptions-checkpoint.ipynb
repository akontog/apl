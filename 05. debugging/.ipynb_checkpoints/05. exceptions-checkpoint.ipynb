{
 "cells": [
  {
   "cell_type": "markdown",
   "id": "781a0a2f-3c09-4060-a3ba-1a20632b3d01",
   "metadata": {},
   "source": [
    "<div style=\"padding:20px 0px 20px 0px; text-align:center; font-weight: bold; font-size:150%; background-color: #cce6ff\">5.<br>\n",
    " Εξαιρέσεις\n",
    "</div>"
   ]
  },
  {
   "cell_type": "markdown",
   "id": "f09e0e4f-3bf1-4fe3-b419-3baf84f9a3b9",
   "metadata": {},
   "source": [
    "# Είδη λαθών"
   ]
  },
  {
   "cell_type": "markdown",
   "id": "30bd6f21",
   "metadata": {},
   "source": [
    "Σίγουρα έχουμε παρατηρήσει πως συχνά o διερμηνευτής της Python δεν μπορεί να ερμηνεύσει κάποια εντολή του κώδικά μας λόγω λάθος σύνταξής της. Τα λάθη αυτά ονομάζονται συντακτικά. Σε άλλες περιπτώσεις η σύνταξη είναι σωστή αλλά καταλήγουμε σε μη αναμενόμενο αποτέλεσμα. Σε αυτές τις περιπτώσεις έχουμε κάνει λογικό λάθος. Άλλες φορές, σφάλματα προκύπτουν μη αναμενόμενα κατά την ώρα της εκτέλεσης με αποτέλεσμα το πρόγραμμα να τερματίσει. Για παράδειγμα η μή εύρεση ενός αρχείου ή δικτύου, ή ακόμη και η προσπάθεια διαίρεσης με το 0. Πρόκειται για λάθη κατά την εκτέλεση. Τα λάθη αυτά μπορεί να τα χειριστεί ο προγραμματιστής και το πρόγραμμα δεν θα τερματίσει.\n",
    "\n",
    "- Compilation/Syntax errors, σύντακτικά λάθη\n",
    "\n",
    "- Logical errors, λογικά λάθη\n",
    "\n",
    "- Runtime errors, λάθη κατά την εκτέλεση"
   ]
  },
  {
   "cell_type": "markdown",
   "id": "ad40c6a1",
   "metadata": {},
   "source": [
    "Πρόκεται για συντακτικό λάθος, `SyntaxError`, μία παρένθεση δεν κλείνει."
   ]
  },
  {
   "cell_type": "code",
   "execution_count": null,
   "id": "14029c84",
   "metadata": {},
   "outputs": [],
   "source": [
    "g1 = 7\n",
    "g2 = 6.5\n",
    "avg = (g1+g2/2\n",
    "print(avg)"
   ]
  },
  {
   "cell_type": "code",
   "execution_count": null,
   "id": "dc0df120",
   "metadata": {},
   "outputs": [],
   "source": [
    "Το λάθος είναι λογικό, η παρένθεση κλείνει στο τέλος. Έτσι γίνεται πρώτα η διαίρεση g2/2 και έπειτα η πρόσθεση με το g1.\n",
    "Το αποτέλεσμα είναι μή αναμενόμενο."
   ]
  },
  {
   "cell_type": "code",
   "execution_count": null,
   "id": "4f5c7788",
   "metadata": {},
   "outputs": [],
   "source": [
    "g1 = 7\n",
    "g2 = 6.5\n",
    "avg = (g1+g2/2)\n",
    "print(avg)"
   ]
  },
  {
   "cell_type": "code",
   "execution_count": null,
   "id": "c88e97ab",
   "metadata": {},
   "outputs": [],
   "source": [
    "Στο επόμενο τμήμα κώδικα θα προκύψει λάθος κατά την εκτέλεση. Γίνεται προσπάθεια διαίρεσης με το 0"
   ]
  },
  {
   "cell_type": "code",
   "execution_count": null,
   "id": "65e36ea7",
   "metadata": {},
   "outputs": [],
   "source": [
    "g1 = 7\n",
    "g2 = 6.5\n",
    "c = 0\n",
    "avg = (g1+g2/c)\n",
    "print(avg)"
   ]
  },
  {
   "cell_type": "markdown",
   "id": "62d57080",
   "metadata": {},
   "source": [
    "# Είδη εξαιρέσεων"
   ]
  },
  {
   "cell_type": "markdown",
   "id": "e48c74f8",
   "metadata": {},
   "source": [
    "Στο παραπάνω παράδειγμα προέκυψε εξαίρεση τύπου `ZeroDivisionError`. Στην συνέχεια παρουσιάζονται διάφορες χρήσιμες εξαιρέσεις που συναντάμε συχνά:\n",
    "\n",
    "- `ValueError`: Προσπάθεια μετατροπής σε τύπο χωρίς αυτό να είναι δυνατό.\n",
    "\n",
    "- `ArithmeticError`:\n",
    "\n",
    "    - `ZeroDivisionError`: Διαίρεση με το μηδεν.\n",
    "\n",
    "    - `OverflowError`: Υπερχείλιση, δηλαδή η τιμή δεν χωρά στην μεταβλητή.\n",
    "    \n",
    "- `NameError`: Προσπάθεια πρόσβασης σε μια μεταβλητή που δεν έχει οριστεί.\n",
    "\n",
    "- `KeyError`: Δεν υπάρχει το κλειδί στο λεξικό.\n",
    "\n",
    "- `IndexError`: Ο δείκτης εκτός ορίων σε μία δομή όπως η λίστα.\n",
    "\n",
    "- `TypeError`: Μία συνάρτηση ή ενσωματωμένη λειτουργία χρησιμοποιήθηκε σε αντικείμενο που δεν την υποστηρίζει.\n",
    "\n",
    "- `AttributeError`: Προσπάθεια αναφοράς σε χαρακτηριστικό που δεν υπάρχει.\n",
    "\n",
    "- `FileNotFoundError`: Το αρχείο δεν υπάρχει."
   ]
  },
  {
   "cell_type": "markdown",
   "id": "b5b8f6a7",
   "metadata": {},
   "source": [
    "## `ValueError`"
   ]
  },
  {
   "cell_type": "markdown",
   "id": "e9bcfed6",
   "metadata": {},
   "source": [
    "Γίνεται προσπάθεια μετατροπής του `str` _'pente'_ σε `int`, κάι που δεν είναι εφικτό. Εγείρεται εξαίρεση τύπου `ValueError`."
   ]
  },
  {
   "cell_type": "code",
   "execution_count": null,
   "id": "52772eac",
   "metadata": {},
   "outputs": [],
   "source": [
    "int('pente')"
   ]
  },
  {
   "cell_type": "markdown",
   "id": "cdfffaaa",
   "metadata": {},
   "source": [
    "## `ZeroDivisionError`"
   ]
  },
  {
   "cell_type": "markdown",
   "id": "f3b4f5b3",
   "metadata": {},
   "source": [
    "Είδαμε σε προηγούμενο παράδειγμα ότι η προσπάθεια δαίρεσης με το 0 εγείρει εξαίρεση `ZeroDivisionError`."
   ]
  },
  {
   "cell_type": "code",
   "execution_count": null,
   "id": "707256d9",
   "metadata": {},
   "outputs": [],
   "source": [
    "5/0"
   ]
  },
  {
   "cell_type": "markdown",
   "id": "f0ed10bc",
   "metadata": {},
   "source": [
    "## `OverflowError`"
   ]
  },
  {
   "cell_type": "markdown",
   "id": "b566aba0",
   "metadata": {},
   "source": [
    "`OverflowError` θα προκύψει στην προσπάθεια διαχείρισης πολύ μεγάλων αριθμών όπως ο $e^{1000}$ του παραδείγματος."
   ]
  },
  {
   "cell_type": "code",
   "execution_count": null,
   "id": "e2623878",
   "metadata": {},
   "outputs": [],
   "source": [
    "import math\n",
    "math.exp(1000)"
   ]
  },
  {
   "cell_type": "markdown",
   "id": "9ff2ec98",
   "metadata": {},
   "source": [
    "## `NameError`"
   ]
  },
  {
   "cell_type": "markdown",
   "id": "67d0c38b",
   "metadata": {},
   "source": [
    "`NameError` προκύπτει όταν γίνεται προσπάθεια προσπέλασης σε ένα όνομα που δεν έχει οριστεί."
   ]
  },
  {
   "cell_type": "code",
   "execution_count": null,
   "id": "0122c2e9",
   "metadata": {},
   "outputs": [],
   "source": [
    "a +=1"
   ]
  },
  {
   "cell_type": "markdown",
   "id": "53252a2f",
   "metadata": {},
   "source": [
    "## `KeyError`"
   ]
  },
  {
   "cell_type": "markdown",
   "id": "fec794fd",
   "metadata": {},
   "source": [
    "Το κλειδί _'c'_ δεν υπάρχει στο λεξικό. Προκύπτει εξαίρεση τύπου `KeyError`."
   ]
  },
  {
   "cell_type": "code",
   "execution_count": null,
   "id": "6116a886",
   "metadata": {},
   "outputs": [],
   "source": [
    "d = {'a': 1, 'b': 2}\n",
    "print(d['c'])"
   ]
  },
  {
   "cell_type": "markdown",
   "id": "aba5fcad",
   "metadata": {},
   "source": [
    "## `IndexError`"
   ]
  },
  {
   "cell_type": "markdown",
   "id": "b6573a4c",
   "metadata": {},
   "source": [
    "Γίνεται προσπάθεια προσπέλασης στοιχείου έξω από τα όρια της λίστας. Θα προκύψει εξαίρεση τύπου `IndexError`."
   ]
  },
  {
   "cell_type": "code",
   "execution_count": null,
   "id": "368d23e9",
   "metadata": {},
   "outputs": [],
   "source": [
    "#IndexError: list index out of range\n",
    "L = [1,2,3]\n",
    "print(L[3])"
   ]
  },
  {
   "cell_type": "markdown",
   "id": "ec8c1a32",
   "metadata": {},
   "source": [
    "## `TypeError`"
   ]
  },
  {
   "cell_type": "markdown",
   "id": "096033af",
   "metadata": {},
   "source": [
    "Το αντικείμενο _x_ είναι τύπου `int` δεν υποστηρίζει την μέθοδο `len`. Υπάρχει λάθος στον τύπο, `TypeError`."
   ]
  },
  {
   "cell_type": "code",
   "execution_count": null,
   "id": "a92de192",
   "metadata": {},
   "outputs": [],
   "source": [
    "x = 5\n",
    "len(x)"
   ]
  },
  {
   "cell_type": "markdown",
   "id": "bc242ba2",
   "metadata": {},
   "source": [
    "## `AttributeError`"
   ]
  },
  {
   "cell_type": "markdown",
   "id": "257ac9de",
   "metadata": {},
   "source": [
    "Θα προκύψει `AttributeError` γιατί στην κλάση Person δεν υπάρχει κάποιο χαρακτηριστικό _height_."
   ]
  },
  {
   "cell_type": "code",
   "execution_count": null,
   "id": "200bcf3d",
   "metadata": {},
   "outputs": [],
   "source": [
    "# AttributeError: 'Person' object has no attribute 'height'\n",
    "class Person:\n",
    "    def __init__(self, name, age):\n",
    "        self.name = name\n",
    "        self.age = age\n",
    "person = Person(\"John\", 30)\n",
    "print(person.height)"
   ]
  },
  {
   "cell_type": "markdown",
   "id": "10d50d29",
   "metadata": {},
   "source": [
    "# Προειδοποιήσεις, warning"
   ]
  },
  {
   "cell_type": "markdown",
   "id": "ff8753ef",
   "metadata": {},
   "source": [
    "Ενώ όταν συμβεί κάποιο λάθος ή εξαίρεση που δεν την χειριζόμαστε το πρόγραμμα θα σταματήσει. Αντίθετα, οι προειδοποιήσεις μας δείχνουν κάποιο μήνυμα ενημέρωσης του χρήστη για κάποια ασυνήθιστη κατάσταση αλλά το πρόγραμμα εξακολουθεί την εκτέλεσή του."
   ]
  },
  {
   "cell_type": "markdown",
   "id": "5bc43231",
   "metadata": {},
   "source": [
    "Το άρθρωμα που παρέχει λειτουργικότητα για τη δημιουργία και τον χειρισμό προειδοποιήσεων είναι το `warnings`. Η βασική κλάση από την οποία κληρονομούν όλες οι προειδοποιήσεις είναι η `Warning` με τις επόμενες κλάσεις να κληρονομούν από αυτή:\n",
    "\n",
    "- `UserWarning`: Η εξορισμού κατηγορία των warnings\n",
    "\n",
    "- `DeprecationWarning`: Όπως είδαμε, οι παρωχημένες, προς κατάργηση, λειτουργίες.\n",
    "\n",
    "- `RuntimeWarning`: Χρησιμοποιείται για προειδοποιήσεις που προκύπτουν κατά την εκτέλεση του προγράμματος, όπως οι πιθανές απώλειες ακριβών υπολογισμών ή οι ακατάλληλες χρήσεις δεδομένων.\n",
    "\n",
    "- `SyntaxWarning`: Προβλήματα σύνταξης.\n",
    "\n",
    "- `ImportWarning`: Χρησιμοποιείται όταν υπάρχουν προβλήματα κατά την εισαγωγή ενός module ή πακέτου.\n",
    "\n",
    "- `UnicodeWarning`: Προειδοποιήσεις που έχουν να κάνουν με την κωδικοποίηση.\n",
    "\n",
    "- `BytesWarning`: Δεδομένα τύπου byte που για παράδειγμα συγκρίνονται με άλλους τύπους δεδομένων."
   ]
  },
  {
   "cell_type": "code",
   "execution_count": 1,
   "id": "049ef7cf",
   "metadata": {},
   "outputs": [],
   "source": [
    "import warnings"
   ]
  },
  {
   "cell_type": "markdown",
   "id": "afe8a927",
   "metadata": {},
   "source": [
    "Στην επόμενη συνάρτηση ο καλών προειδοποιείται για προσπάθεια διαίρεσης με το 0."
   ]
  },
  {
   "cell_type": "code",
   "execution_count": null,
   "id": "55ad8192",
   "metadata": {},
   "outputs": [],
   "source": [
    "def divide(a, b):\n",
    "    if b == 0:\n",
    "        warnings.warn(\"Προειδοποίηση: Διαίρεση με μηδέν.\", RuntimeWarning)\n",
    "        return float('inf')\n",
    "    return a / b\n",
    "\n",
    "divide(10, 0)"
   ]
  },
  {
   "cell_type": "markdown",
   "id": "329c07ea",
   "metadata": {},
   "source": [
    "Οι προειδοποιήσεις `DeprecationWarning` στην Python είναι μηνύματα που εγείρονται για να υποδείξουν ότι μια συγκεκριμένη δυνατότητα, μέθοδος ή άρθρωμα πρόκειται να αφαιρεθεί σε μελλοντικές εκδόσεις. Στο επόμενο παράδειγμα, ενημερώνουμε τον χρήστη της συνάρτησής μας ότι βαίνει προς κατάργηση, `DeprecationWarning`."
   ]
  },
  {
   "cell_type": "code",
   "execution_count": null,
   "id": "8b1446b7",
   "metadata": {},
   "outputs": [],
   "source": [
    "def old_function():\n",
    "    warnings.warn(\"Αυτή η συνάρτηση είναι παρωχημένη.\", DeprecationWarning)\n",
    "\n",
    "old_function()"
   ]
  },
  {
   "cell_type": "markdown",
   "id": "de68a153",
   "metadata": {},
   "source": [
    "Στην περίπτωση που μία βιβλιοθήκη, όπως στο παράδειγμα η `stats` δεν έχει εγκατασταθεί στο περιβάλλον και γίνεται προσπάθεια `import` εγείρεται η `ImportError`. Μπορεί να γίνει χειρισμός της και ένα `ImportWarning` να ενημερώσει τον χρήστη."
   ]
  },
  {
   "cell_type": "code",
   "execution_count": 3,
   "id": "0b0cc327",
   "metadata": {},
   "outputs": [
    {
     "name": "stdout",
     "output_type": "stream",
     "text": [
      "Το πρόγραμμα συνεχίζει κανονικά, χωρίς το module 'stats'.\n"
     ]
    },
    {
     "name": "stderr",
     "output_type": "stream",
     "text": [
      "C:\\Users\\akont\\AppData\\Local\\Temp\\ipykernel_2560\\3884000869.py:5: ImportWarning: Το module 'stats' δεν είναι εγκατεστημένο. Ορισμένες λειτουργίες μπορεί να μην είναι διαθέσιμες.\n",
      "  warnings.warn(\n"
     ]
    }
   ],
   "source": [
    "warnings.simplefilter('always', ImportWarning)\n",
    "try:\n",
    "    import stats  # Το module stats πιθανότατα δεν υπάρχει\n",
    "except ImportError:\n",
    "    warnings.warn(\n",
    "        \"Το module 'stats' δεν είναι εγκατεστημένο. Ορισμένες λειτουργίες μπορεί να μην είναι διαθέσιμες.\", \n",
    "        ImportWarning\n",
    "    )\n",
    "\n",
    "print(\"Το πρόγραμμα συνεχίζει κανονικά, χωρίς το module 'stats'.\")"
   ]
  },
  {
   "cell_type": "markdown",
   "id": "a85a02dd",
   "metadata": {},
   "source": [
    "Κάποιες προειδοποιήσεις, όπως παραπάνω η `ImportWarning`, σε κάποια περιβάλλοντα εξορισμού δεν εμφανίζονται. Η `warnings.simplefilter` μπορεί να τεθεί στην τιμή `always` για να εμφανίζεται. Αντίστροφα αν τεθεί `ingore` οι προειδοποιήσεις αγνοούνται."
   ]
  },
  {
   "cell_type": "code",
   "execution_count": 5,
   "id": "dd61ccdc",
   "metadata": {},
   "outputs": [],
   "source": [
    "warnings.simplefilter('ignore', DeprecationWarning)\n",
    "def other_old_function():\n",
    "    warnings.warn(\"Αυτή η συνάρτηση είναι παρωχημένη.\", DeprecationWarning)\n",
    "\n",
    "other_old_function()"
   ]
  },
  {
   "cell_type": "markdown",
   "id": "185d9849",
   "metadata": {},
   "source": [
    "Στην συνέχεια προσπαθούμε να επεξεργαστούμε ένα byte string ως Unicode χωρίς σωστή κωδικοποίηση. Ένα `UnicodeWarning` ταιριάζει στην περίπτωση."
   ]
  },
  {
   "cell_type": "code",
   "execution_count": null,
   "id": "5137a6f8",
   "metadata": {},
   "outputs": [],
   "source": [
    "byte_data = b'\\xe2\\x98\\x83'  \n",
    "\n",
    "try:\n",
    "    decoded_data = byte_data.decode('ascii')\n",
    "except UnicodeDecodeError:\n",
    "    warnings.warn(\"Προειδοποίηση: Σφάλμα κατά την αποκωδικοποίηση των δεδομένων Unicode.\", UnicodeWarning)"
   ]
  },
  {
   "cell_type": "markdown",
   "id": "42fb1886",
   "metadata": {},
   "source": [
    "Το `BytesWarning` προκύπτει όταν υπάρχει πρόβλημα με τη χρήση δεδομένων τύπου bytes, συνήθως όταν γίνεται προσπάθεια να χρησιμοποιηθούν bytes ως str ή όταν υπάρχουν ακατάλληλες μετατροπές μεταξύ τους."
   ]
  },
  {
   "cell_type": "code",
   "execution_count": null,
   "id": "26cc3b54",
   "metadata": {},
   "outputs": [],
   "source": [
    "# Προσπάθεια να συγκρίνουμε ή να δουλέψουμε με bytes και str που έχουν διαφορετικά τύπους δεδομένων\n",
    "byte_data = b'hello'\n",
    "str_data = 'hello'\n",
    "\n",
    "# Εδώ θα υπάρξει μια σύγκριση μεταξύ bytes και str, που είναι δυνατόν να προκαλέσει warning\n",
    "if byte_data == str_data:\n",
    "    print(\"Τα δεδομένα είναι ίδια!\")\n",
    "else:\n",
    "    warnings.warn(\"Προειδοποίηση: Εσφαλμένη σύγκριση δεδομένων τύπου bytes με str.\", BytesWarning)"
   ]
  },
  {
   "cell_type": "markdown",
   "id": "e833eb93",
   "metadata": {},
   "source": [
    "# try...except"
   ]
  },
  {
   "cell_type": "markdown",
   "id": "48c9e624",
   "metadata": {},
   "source": [
    "Η Python χρησιμοποιεί εντολές `try` για τον χειρισμό λαθών, εξαιρέσεων, στον κώδικα. Με αυτόν τον τρόπο, το πρόγραμμα δεν τερματίζει. Η ροή του προγράμματος από το σημείο που συνέβη η εξαίρεση πηγαίνει στην `except` που ταιριάζει με την εξαίρεση."
   ]
  },
  {
   "cell_type": "code",
   "execution_count": null,
   "id": "7e96319d-4507-4c3f-a8f3-f33f699b4f94",
   "metadata": {},
   "outputs": [],
   "source": [
    "try:\n",
    "    number1 = 23\n",
    "    number2 = 0\n",
    "    result = number1/number2\n",
    "    print('Επιτυχής πράξη') # Εάν παραπάνω προκύψει εξαίρεση, η ροή δεν θα φτάσει ποτέ εδώ\n",
    "except ZeroDivisionError:\n",
    "    print('Ο παρονομαστής πρέπει να είναι διάφορος από το 0')"
   ]
  },
  {
   "cell_type": "code",
   "execution_count": null,
   "id": "642ed193-79f2-406c-bec8-cb5cbe86a37b",
   "metadata": {},
   "outputs": [],
   "source": [
    "try:\n",
    "    with open('accounts0.txt', 'r') as accounts:\n",
    "        for item in accounts:\n",
    "            print(item)\n",
    "except FileNotFoundError:\n",
    "    print(\"Το αρχείο δεν υπάρχει!\")"
   ]
  },
  {
   "cell_type": "markdown",
   "id": "ec850427",
   "metadata": {},
   "source": [
    "**Παράδειγμα**\n",
    "\n",
    "Έστω λεξικό με ονόματα βιβλίων για κλειδί και τον αντίστοιχο συγγραφέα τους για τιμή. Σε περίπτωση που το κλειδί, δηλαδή ο τίτλος του βιβλίου, δεν έχει βρεθεί να γίνεται χειρισμός του λάθους και να εμφανίζεται κατάλληλο μήνυμα."
   ]
  },
  {
   "cell_type": "code",
   "execution_count": null,
   "id": "680efb32",
   "metadata": {},
   "outputs": [],
   "source": [
    "books = {\n",
    "    \"Dune\": \"Frank Herbert\",\n",
    "    \"Foundation\": \"Isaac Asimov\",\n",
    "    \"Neuromancer\": \"William Gibson\",\n",
    "    \"Snow Crash\": \"Neal Stephenson\",\n",
    "    \"Hyperion\": \"Dan Simmons\"\n",
    "}\n",
    "try:\n",
    "    title = 'Dune'\n",
    "    #title = 'The Martian'\n",
    "    author = books[title]\n",
    "    print('Το βιβλίο:',title,'γράφτηκε από:',author)\n",
    "except KeyError:\n",
    "    print('Το βιβλίο:',title,'δεν υπάρχει')\n"
   ]
  },
  {
   "cell_type": "markdown",
   "id": "97e26875",
   "metadata": {},
   "source": [
    "## else"
   ]
  },
  {
   "cell_type": "markdown",
   "id": "a79dc7a6",
   "metadata": {},
   "source": [
    "Πολύ συχνά σε ένα τμήμα κώδικα, ειδικά αν ζητείται είσοδος από τον χρήστη, μπορεί να είναι πιθανό να προκύψουν παραπάνω από ένας τύπος εξαίρεσης. Οι τύποι αυτοί μπορούν να ελεγχθούν διαδοχικά. Επίσης, με την `else` μετά τις `except` μπορούμε να θέσουμε κώδικα που θέλουμε να εκτελεστεί αν δεν προκύψει καμία εξαίρεση στο block κώδικα που βρίσκεται στην `try`."
   ]
  },
  {
   "cell_type": "code",
   "execution_count": null,
   "id": "36af9540",
   "metadata": {},
   "outputs": [],
   "source": [
    "try:\n",
    "    number1 = int(input(\"Δώσε 1ο ακέραιο:\"))\n",
    "    number2 = int(input(\"Δώσε 1ο ακέραιο:\"))\n",
    "    result = number1/number2\n",
    "except ValueError:\n",
    "    print('Πρέπει να δώσετε ΜΟΝΟ ακέραιες τιμές')\n",
    "except ZeroDivisionError:\n",
    "    print('Ο παρονομαστής πρέπει να είναι διάφορος από το 0')\n",
    "else:\n",
    "    print('Αποτέλεσμα:',result)"
   ]
  },
  {
   "cell_type": "markdown",
   "id": "86d340e1",
   "metadata": {},
   "source": [
    "Είναι πιθανό σε κώδικα σε ένα `try` block να προκύψει κάποια εξαίρεση αλλά να μην γίνεται χειρισμός της εξαίρεσης αυτής. Τότε η εκτέλεση σταματά. Στο επόμενο παράδειγμα ο τύπος της εξαίρεσης είναι `NameError` αφού δεν έχει δηλωθεί η μεταβλητή _y_ αλλά ο χειρισμός αφορά μόνο την διαίρεση με το 0."
   ]
  },
  {
   "cell_type": "code",
   "execution_count": null,
   "id": "81b574fd",
   "metadata": {},
   "outputs": [],
   "source": [
    "try:\n",
    "    print(2 / y)\n",
    "except ZeroDivisionError:\n",
    "    print('Ο παρονομαστής πρέπει να είναι διάφορος από το 0')"
   ]
  },
  {
   "cell_type": "markdown",
   "id": "b493b8da",
   "metadata": {},
   "source": [
    "## finally"
   ]
  },
  {
   "cell_type": "markdown",
   "id": "f10e2e4b",
   "metadata": {},
   "source": [
    "Παρατηρήσαμε σε προηγούμενο παράδειγμα ότι σε περίπτωση που δεν συμβεί κάποια εξαίρεση μπορούμε να εκτελέσουμε ένα block κώδικα με χρήση της `else`. Υπάρχουν περίπτώσεις που κάποιο block κώδικα θέλουμε να εκτελεστεί σε οποιαδήποτε περίπτωση, είτε αν συμβεί είτε αν δεν συμβεί κάποια εξαίρεση. Τότε γίνεται χρήση της `finally`. Στο επόμενο παράδειγμα δοκιμάστε να δώσετε μή ακέραια τιμή, μηδενική τιμή και ακέραια τιμή διάφορη του 0 και παρατηρήστε. \n",
    "\n",
    "- Είσοδος 0: Ο χειρισμός της μηδενικής τιμής δεν έχει γίνει με αποτέλεσμα το πρόγραμμα να τερματίζει, το `final` όμως εκτελείται.\n",
    "\n",
    "- Είσοδος μή ακέραιος: Υπάρχει χειρισμός για την `ValueError` με αποτέλεσμα η ροή του προγράμματος να συνεχίζει κανονικά. Εμφανίζεται πέρα από το μήνυμα για το `ValueError` και το μήνυμα στο `finally` αλλά και το μήνυμα μετά την `try`.\n",
    "\n",
    "- Είσοδος ακέραιος, μη μηδενικός: Δεν προκύπτει κάποια εξαίρεση, εμφανίζεται το αποτέλεσμα, τα μηνύματα σε `else`, `finally` αλλά και στο τέλος μετά την `try`."
   ]
  },
  {
   "cell_type": "code",
   "execution_count": null,
   "id": "93484592",
   "metadata": {},
   "outputs": [],
   "source": [
    "try:\n",
    "    d = int(input('Δώσε ακέραια τιμή:'))\n",
    "    print(10/d)\n",
    "except ValueError:\n",
    "    print('Πρέπει να δώσετε ΜΟΝΟ ακέραια τιμή.')\n",
    "else:\n",
    "    print('Όλα πήγαν καλά')\n",
    "finally:\n",
    "    print('Αυτο το μήνυμα θα τυπωθεί όπως και να έχει.')\n",
    "print('Όλα τελείωσαν ομαλά')"
   ]
  },
  {
   "cell_type": "markdown",
   "id": "ab2e3eea",
   "metadata": {},
   "source": [
    "Σημειώνεται ότι η `Exception` αποτελεί την υπερκλάση από την οποία κληρονομούν όλες οι εξαιρέσεις. Σε περιπτώσεις που υπάρχουν πολλές πιθανές εξαιρέσεις ή δεν γνωρίζουμε ποια εξαίρεση μπορεί να προκύψει μπορούμε να θέσουμε `except:` και να να πιαστεί οποιαδήποτε εξαίρεση, κάτι που δεν θεωρείται σωστή πρακτική. Επιπλέον, σε μία μόνο `except` μπορούμε να θέσουμε ένα `tuple` εξαιρέσεων."
   ]
  },
  {
   "cell_type": "code",
   "execution_count": null,
   "id": "0bda5c32",
   "metadata": {},
   "outputs": [],
   "source": [
    "try:\n",
    "    L = [1,2,'3']\n",
    "    print(L[1]+L[2]) # TypeError unsupported operand type(s) for +: 'int' and 'str'\n",
    "    print(L[2]+L[3]) # IndexError: list index out of range\n",
    "except:\n",
    "    print('Προέκυψε κάποιο σφάλμα')\n",
    "try:\n",
    "    L = [1,2,'3']\n",
    "    print(L[1]+L[2]) # TypeError unsupported operand type(s) for +: 'int' and 'str'\n",
    "    print(L[2]+L[3]) # IndexError: list index out of range\n",
    "except (TypeError,IndexError):\n",
    "    print('Προέκυψε είτε TypeError είτε IndexError')"
   ]
  },
  {
   "cell_type": "markdown",
   "id": "d794ac73",
   "metadata": {},
   "source": [
    "Το εξορισμού `except` **πρέπει** να είναι τελευταίο μετά από τα εξεδικευμένα."
   ]
  },
  {
   "cell_type": "code",
   "execution_count": null,
   "id": "35d5ed92",
   "metadata": {},
   "outputs": [],
   "source": [
    "try:\n",
    "    L = [1,2,'3']\n",
    "    print(L[1]+L[2]) # TypeError unsupported operand type(s) for +: 'int' and 'str'\n",
    "    print(L[2]+L[3]) # IndexError: list index out of range\n",
    "except:\n",
    "    print('Προέκυψε κάποιο error')\n",
    "except TypeError:\n",
    "    print('Προέκυψε TypeError')\n",
    "except IndexError: \n",
    "    print('Προέκυψε IndexError')"
   ]
  },
  {
   "cell_type": "markdown",
   "id": "f0a2c3fd",
   "metadata": {},
   "source": [
    "# Έγερση εξαιρέσεων"
   ]
  },
  {
   "cell_type": "markdown",
   "id": "00be05a3",
   "metadata": {},
   "source": [
    "Ο προγραμματιστής μπορεί να δημιουργήσει κώδικα που προκαλεί εξαιρέσεις. Μία σωστά υλοποιημένη συνάρτηση, για παράδειγμα, θα πρέπει να ελέγχει αν οι παράμετροί της είναι σωστού τύπου και σε διαφορετική περίπτωση να εγείρει αντίστοιχη εξαίρεση."
   ]
  },
  {
   "cell_type": "code",
   "execution_count": null,
   "id": "812d919f",
   "metadata": {},
   "outputs": [],
   "source": [
    "def square(n):\n",
    "    if not isinstance(n, int |float):\n",
    "        raise TypeError('Η παράμετρος θα πρέπει να είναι αριθμητικό δεδομένο')\n",
    "    return n**2\n",
    "square(42)\n",
    "square('42')"
   ]
  },
  {
   "cell_type": "markdown",
   "id": "65da6afe",
   "metadata": {},
   "source": [
    "**Παράδειγμα**\n",
    "\n",
    "Έστω λογαριασμός τραπέζης στον οποίο επιτρέπονται καταθέσεις και αναλήψεις. Όταν τα ποσά των παραμέτρων είναι αρνητικά εγείρεται `ValueError`. Επιπλέον, η ανάληψη δεν μπορεί να είναι μεγαλύτερη από το υπόλοιπο λογαριασμού. διαφορετικά, αντίστοιχη εξαίρεση θα συμβεί."
   ]
  },
  {
   "cell_type": "code",
   "execution_count": null,
   "id": "ff894d21",
   "metadata": {},
   "outputs": [],
   "source": [
    "class BankAccount:\n",
    "    def __init__(self, balance=0):\n",
    "        if balance < 0:\n",
    "            raise ValueError('Το αρχικό υπόλοιπο δεν μπορεί να είναι αρνητικό.')\n",
    "        self.balance = balance\n",
    "\n",
    "    def deposit(self, amount):\n",
    "        if amount < 0:\n",
    "            raise ValueError('Η κατάθεση δεν μπορεί να είναι αρνητική.')\n",
    "        self.balance += amount\n",
    "        print('Κατατέθηκαν:',amount,'€. Υπόλοιπο:',self.balance,'€')\n",
    "\n",
    "    def withdraw(self, amount):\n",
    "        if amount < 0:\n",
    "            raise ValueError('Η ανάληψη δεν μπορεί να είναι αρνητική.')\n",
    "        if amount > self.balance:\n",
    "            raise ValueError('Η ανάληψη υπερβαίνει το διαθέσιμο υπόλοιπο.')\n",
    "        self.balance -= amount\n",
    "        print('Αναλήφθηκαν:',amount,'€. Υπόλοιπο:',self.balance,'€')\n",
    "\n",
    "    def get_balance(self):\n",
    "        return self.balance\n",
    "\n",
    "\n",
    "try:\n",
    "    account = BankAccount(100)\n",
    "    account.deposit(50)\n",
    "    account.withdraw(30)\n",
    "    account.withdraw(150)\n",
    "except ValueError as e:\n",
    "    print(\"Σφάλμα:\", e)"
   ]
  },
  {
   "cell_type": "markdown",
   "id": "62f3ba76",
   "metadata": {},
   "source": [
    "# Προσαρμοσμένες εξαιρέσεις"
   ]
  },
  {
   "cell_type": "markdown",
   "id": "0dcbd6e8",
   "metadata": {},
   "source": [
    "Ενώ η Python προσφέρει πολλά είδη εξαιρέσεων διαφόρων τύπων, κάποιες φορές θα θέλουμε να δημιουργήσουμε τις δικές μας εξαιρέσεις που θα χειρίζονται εξεδικευμένες περιπτώσεις. Δύναται να δημιουργηθούν προσαρμοσμένα είδη εξαιρέσεων με την κλάση που θα δημιουργηθεί να κληρονομεί από την `Exception`."
   ]
  },
  {
   "cell_type": "code",
   "execution_count": 12,
   "id": "21b1e037",
   "metadata": {},
   "outputs": [
    {
     "name": "stdout",
     "output_type": "stream",
     "text": [
      "5.7\n",
      "Οι βαθμοί πρέπει να είναι στο διάστημα [0,10]\n"
     ]
    }
   ],
   "source": [
    "class GradeError(Exception):\n",
    "    pass\n",
    "# Υπολογίζει τον μέσο όρο των βαθμών\n",
    "def getAvg(grades):\n",
    "    total = 0\n",
    "    for g in grades:\n",
    "        if g < 0 or g > 10:\n",
    "            raise GradeError('Οι βαθμοί πρέπει να είναι στο διάστημα [0,10]')\n",
    "        total +=g\n",
    "    return total/len(grades)\n",
    "try:\n",
    "    print(getAvg([5,6,5,5.5,7]))\n",
    "except GradeError as e:\n",
    "    print(e)\n",
    "try:\n",
    "    print(getAvg([5,6,15,5.5,7]))\n",
    "except GradeError as e:\n",
    "    print(e)"
   ]
  },
  {
   "cell_type": "markdown",
   "id": "894a0ca1",
   "metadata": {},
   "source": [
    "# TODO να δω τα παραδείγματα"
   ]
  },
  {
   "cell_type": "markdown",
   "id": "2c7d0c74",
   "metadata": {},
   "source": [
    "**Παράδειγμα**\n",
    "\n",
    "Θα δημιουργήσουμε μία σειρά εξαιρέσεων για υποστήριξη του συστήματος απογραφής ενός καταστήματος. Οι εξαιρέσεις που μπορούν να συμβούν είναι:\n",
    "\n",
    " - Ένα προϊόν έχει απόθεμα 0 \n",
    "\n",
    " - Δεν υπάρχει το id του προϊόντος\n",
    "\n",
    " - Γίνεται προσπάθειας παραγγελίας μεγαλύτερου αριθμού προϊόντων από το απόθεμα\n"
   ]
  },
  {
   "cell_type": "markdown",
   "id": "e463a683",
   "metadata": {},
   "source": [
    "**Παράδειγμα**\n",
    "\n",
    "Να δημιουργηθεί ένας μηχανισμός ελέγχου ισχυρού κωδικού με την βοήθεια προσαρμοσμένων εξαιρέσεων. Για να γίνει αυτό:"
   ]
  },
  {
   "cell_type": "code",
   "execution_count": null,
   "id": "8c88044f",
   "metadata": {},
   "outputs": [],
   "source": [
    "# password_checker.py\n",
    "class InvalidPasswordError(ValueError):\n",
    "    pass\n",
    "\n",
    "class ShortPasswordError(InvalidPasswordError):\n",
    "    pass\n",
    "\n",
    "class NoNumbersInPasswordError(InvalidPasswordError):\n",
    "    pass\n",
    "\n",
    "class NoSpecialInPasswordError(InvalidPasswordError):\n",
    "    pass\n",
    "\n",
    "def check_password(password):\n",
    "    if len(password) < 8:\n",
    "        raise ShortPasswordError(password)\n",
    "    for n in \"0123456789\":\n",
    "        if n in password:\n",
    "            break\n",
    "    else:\n",
    "        raise NoNumbersInPasswordError(password)\n",
    "    for s in \"?!.\":\n",
    "        if s in password:\n",
    "            break\n",
    "    else:\n",
    "        raise NoSpecialInPasswordError(password)"
   ]
  },
  {
   "cell_type": "code",
   "execution_count": null,
   "id": "e270c102",
   "metadata": {},
   "outputs": [],
   "source": [
    "try:\n",
    "    check_password('1234')\n",
    "except InvalidPasswordError as exc:\n",
    "    print(\"Invalid password\", repr(exc))"
   ]
  },
  {
   "cell_type": "code",
   "execution_count": null,
   "id": "edb369b7",
   "metadata": {},
   "outputs": [],
   "source": []
  }
 ],
 "metadata": {
  "kernelspec": {
   "display_name": "Python 3 (ipykernel)",
   "language": "python",
   "name": "python3"
  },
  "language_info": {
   "codemirror_mode": {
    "name": "ipython",
    "version": 3
   },
   "file_extension": ".py",
   "mimetype": "text/x-python",
   "name": "python",
   "nbconvert_exporter": "python",
   "pygments_lexer": "ipython3",
   "version": "3.11.4"
  }
 },
 "nbformat": 4,
 "nbformat_minor": 5
}
