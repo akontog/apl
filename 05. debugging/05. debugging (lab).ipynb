{
 "cells": [
  {
   "cell_type": "markdown",
   "id": "d6d122dc",
   "metadata": {},
   "source": [
    "<div style=\"padding:20px 0px 20px 0px; text-align:center; font-weight: bold; font-size:170%; background-color: #2d8077; color:#f0b439;\">\n",
    "05.<br>\n",
    "<span style=\"color:#ffffcc;\">Debugging</span>\n",
    "</div>"
   ]
  },
  {
   "cell_type": "markdown",
   "id": "6781d346",
   "metadata": {},
   "source": [
    "# Είδη λαθών"
   ]
  },
  {
   "cell_type": "markdown",
   "id": "8a4f67fb",
   "metadata": {},
   "source": [
    "## Εύρεση Λαθών"
   ]
  },
  {
   "cell_type": "markdown",
   "id": "b9968554",
   "metadata": {},
   "source": [
    "Ακολουθούν τμήματα κώδικα σε python στα οποία υπάρχουν διάφορα λάθη. Εντοπίστε τα, κατηγοριοποιήστε τα και διορθώστε τα:\n",
    "\n",
    "- Compilation/Syntax errors, συντακτικά λάθη\n",
    "\n",
    "- Logical errors, λογικά λάθη\n",
    "\n",
    "- Runtime errors, λάθη κατά την εκτέλεση"
   ]
  },
  {
   "cell_type": "markdown",
   "id": "355e66ba",
   "metadata": {},
   "source": [
    "α) το επόμενο τμήμα κώδικα θα πρέπει να διαβάζει ένα σύνολο θετικών αριθμών και να υπολογίζει και τυπώνει το γινόμενό τους και τον μέσο όρο τους:"
   ]
  },
  {
   "cell_type": "code",
   "execution_count": 0,
   "id": "c823c53a",
   "metadata": {},
   "outputs": [],
   "source": [
    "count = 0\n",
    "product = 1\n",
    "sum_values = '0'\n",
    "x = input(\"Enter x: \")\n",
    "while x > 0:\n",
    "    product = product * x\n",
    "    sum_values = sum_values + x\n",
    "    count = count + 1\n",
    "    x = int(input(\"Enter x: \")\n",
    "avg = product / count \n",
    "print(\"Average:\", avg)\n",
    "print(\"Product:\", product)"
   ]
  },
  {
   "cell_type": "markdown",
   "id": "2d367079",
   "metadata": {},
   "source": [
    "β) Η συνάρτηση count_vowels που ακολουθεί επιχειρείται να μετρήσει τα φωνήεντα στο κείμενο text που δέχεται ως παράμετρο και να επιστρέψει τον αριθμό τους."
   ]
  },
  {
   "cell_type": "code",
   "execution_count": 0,
   "id": "391de3b7",
   "metadata": {},
   "outputs": [],
   "source": [
    "def count_vowels(text):\n",
    "    vowels = ['aeiou']\n",
    "    count = 0\n",
    "    for char in text\n",
    "        if char in vowels:\n",
    "            count = 1 \n",
    "    return count\n",
    "print(\"Φωνήεντα:\",count_vowels(\"hello\")) "
   ]
  },
  {
   "cell_type": "markdown",
   "id": "75d8462e",
   "metadata": {},
   "source": [
    "# Είδη εξαιρέσεων"
   ]
  },
  {
   "cell_type": "markdown",
   "id": "f25801d5",
   "metadata": {},
   "source": [
    "## Εύρεση είδους εξαίρεσης"
   ]
  },
  {
   "cell_type": "markdown",
   "id": "1b53d5f1",
   "metadata": {},
   "source": [
    "Ακολουθούν τμήματα κώδικα σε python στα οποία εγείρονται διάφορες εξαιρέσεις. Προσδιορίστε το είδος της κάθε εξαίρεσης.\n",
    "\n",
    "1. L = [1,2,3];L[3]\n",
    "\n",
    "2. L = [0, 5, 10];L[-1]/L[-3]\n",
    "\n",
    "3. d = {\"a\": 1, \"b\": 2};d[\"c\"]\n",
    "\n",
    "4. t = (1, 2, 3);t[0] = 10\n",
    "\n",
    "5. import greek_islands\n",
    "\n",
    "6. open(\"nofile.txt\", \"r\")"
   ]
  },
  {
   "cell_type": "markdown",
   "id": "2a2bb707",
   "metadata": {},
   "source": [
    "# Προσαρμοσμένες Εξαιρέσεις"
   ]
  },
  {
   "cell_type": "markdown",
   "id": "ede6c8eb",
   "metadata": {},
   "source": [
    "## Σύστημα διαχείρισης αποθήκης"
   ]
  },
  {
   "cell_type": "markdown",
   "id": "5de756de",
   "metadata": {},
   "source": [
    "Υλοποιήστε σύστημα διαχείρισης αποθήκης. Θα πρέπει να δημιουργήσετε κλάση, έστω _Inventory_ με τις επόμενες ιδιότητες και μεθόδους:\n",
    "\n",
    "- Inventory:\n",
    "\n",
    "    - `__init__`: Κατασκευαστής που δημιουργεί το επόμενο, αρχικά άδειο, λεξικό. \n",
    "\n",
    "    - _stock_: Λεξικό, το οποίο για κλειδί έχει το είδος προϊόντος και για τιμή νέο λεξικό με κλειδιά id προϊόντων κσι τιμή το απόθεμά τους στην αποθήκη.\n",
    "\n",
    "    - _order_product_: Μέθοδος η οποία δέχεται κατηγορία, id προϊόντος και αριθμό τεμαχίων και αν η παραγγελία μπορεί να γίνει ενημερώνει το απόθεμα. Μια παραγγελία δεν μπορεί να γίνει όταν δεν υπάρχει το id ή ο αριθμός τεμαχίων της παραγγελίας είναι μεγαλύτερος από το απόθεμα. Στις περιπτώσεις αυτές εγείρεται εξαίρεση _ProductNotFoundError_ ή _InsufficientStockError_ αντίστοιχα.\n",
    "\n",
    "    - _add_product_: Μέθοδος η οποία δέχεται κατηγορία, id προϊόντος και αριθμό τεμαχίων και προσθέτει στο λεξικό της κατηγορίας την νέα εγγραφή. Αν η κατηγορία δεν υπάρχει στο stock, εγείρεται εξαίρεση _CategoryNotFoundError_ ενώ αν το id του προϊόντος υπάρχει στην κατηγορία της παραμέτρου εξαίρεση _ProductExistsError_.\n",
    "\n",
    "    - _add_Stock_: Δέχεται κατηγορία, id προϊόντος και αριθμό τεμαχίων και προσθέτει στην κατηγορία και id της παραμέτρου τον αριθμό τεμαχίων. Αν η κατηγορία δεν υπάρχει στο stock, εγείρεται εξαίρεση _CategoryNotFoundError_ ενώ αν δεν υπάρχει το id στην κατηγορία _ProductNotFoundError_.\n",
    "\n",
    "    - _add_Category_: Δέχεται μία κατηγορία και την προσθέτει στο λεξικό _stock_ με άδειο λεξικό για τιμή. Αν η κατηγορία υπάρχει ήδη, εγείρεται εξαίρεση _CategoryExistsError_.\n",
    "\n",
    "Μία σειρά εξαιρέσεων υποστηρίζει το παραπάνω σύστημα απογραφής. Όλες οι παρακάτω εξαιρέσεις που μπορούν να συμβούν, κληρονομούν από την _InventoryError_ η οποία με την σειρά της κληρονομεί από την `Exception`:\n",
    "\n",
    " - _ProductNotFoundError_: Δεν υπάρχει το id του προϊόντος.\n",
    "\n",
    "  - _CategoryNotFoundError_: Δεν υπάρχει η κατηγορία προϊόντος.\n",
    "\n",
    " - _ProductExistsError_: Το id προϊόντος υπάρχει ήδη.\n",
    "\n",
    " - _CategoryExistsError_: Η κατηγορία υπάρχει ήδη στο λεξικό.\n",
    "\n",
    " - _InsufficientStockError_: Γίνεται προσπάθεια παραγγελίας μεγαλύτερου αριθμού προϊόντων από το απόθεμα.\n",
    "\n",
    "Επιπλέον, αν η κατηγορία και το id δεν είναι τυπου `str` και το απόθεμα δεν είναι τύπου `int` στις παραπάνω μεθόδους εγείρεται εξαίρεση."
   ]
  },
  {
   "cell_type": "code",
   "execution_count": null,
   "id": "89549f74",
   "metadata": {},
   "outputs": [],
   "source": []
  }
 ],
 "metadata": {
  "kernelspec": {
   "display_name": "Python 3 (ipykernel)",
   "language": "python",
   "name": "python3"
  },
  "language_info": {
   "codemirror_mode": {
    "name": "ipython",
    "version": 3
   },
   "file_extension": ".py",
   "mimetype": "text/x-python",
   "name": "python",
   "nbconvert_exporter": "python",
   "pygments_lexer": "ipython3",
   "version": "3.11.4"
  }
 },
 "nbformat": 4,
 "nbformat_minor": 5
}
