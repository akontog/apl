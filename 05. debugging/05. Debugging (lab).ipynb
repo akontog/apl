{
 "cells": [
  {
   "cell_type": "markdown",
   "id": "d6d122dc",
   "metadata": {},
   "source": [
    "<div style=\"padding:20px 0px 20px 0px; text-align:center; font-weight: bold; font-size:170%; background-color: #2d8077; color:#f0b439;\">\n",
    "05.<br>\n",
    "<span style=\"color:#ffffcc;\">Debugging</span>\n",
    "</div>"
   ]
  },
  {
   "cell_type": "markdown",
   "id": "6781d346",
   "metadata": {},
   "source": [
    "# Είδη λαθών"
   ]
  },
  {
   "cell_type": "markdown",
   "id": "8a4f67fb",
   "metadata": {},
   "source": [
    "## Εύρεση Λαθών"
   ]
  },
  {
   "cell_type": "markdown",
   "id": "b9968554",
   "metadata": {},
   "source": [
    "Ακολουθούν τμήματα κώδικα σε python στα οποία υπάρχουν διάφορα λάθη. Εντοπίστε τα, κατηγοριοποιήστε τα και διορθώστε τα:\n",
    "\n",
    "- Compilation/Syntax errors, σύντακτικά λάθη\n",
    "\n",
    "- Logical errors, λογικά λάθη\n",
    "\n",
    "- Runtime errors, λάθη κατά την εκτέλεση"
   ]
  },
  {
   "cell_type": "markdown",
   "id": "355e66ba",
   "metadata": {},
   "source": [
    "α) το επόμενο τμήμα κώδικα θα πρέπει να διαβάζει ένα σύνολο θετικών αριθμών και να υπολογίζει και τυπώνει το γινόμενό τους και τον μέσο όρο τους:"
   ]
  },
  {
   "cell_type": "code",
   "execution_count": null,
   "id": "c823c53a",
   "metadata": {},
   "outputs": [],
   "source": [
    "count = 0\n",
    "product = 1\n",
    "sum_values = '0'\n",
    "x = input(\"Enter x: \")\n",
    "while x > 0:\n",
    "    product = product * x\n",
    "    sum_values = sum_values + x\n",
    "    count = count + 1\n",
    "    x = int(input(\"Enter x: \")\n",
    "avg = product / count \n",
    "print(\"Average:\", avg)\n",
    "print(\"Product:\", product)"
   ]
  },
  {
   "cell_type": "markdown",
   "id": "9ea8c49d",
   "metadata": {},
   "source": [
    " - 3: Λάθος κατά την εκτέλεση, θα πρέπει να τεθεί 0 και όχι '0', έτσι στην γραμμή 7 δεν θα λειτουργήσει η πρόσθεση, TypeError\n",
    "\n",
    " - 4: Λάθος κατά την εκτέλεση, θα πρέπει να μετατραπεί σε int η είσοδος χρήστη της input για να κάνουμε τους υπολογισμούς αλλά και τις συγκρίσεις, π.χ.: 5 x>0.\n",
    " \n",
    " - 9: Συντακτικό λάθος, δεν έχει κλείσει κάποια παρένθεση\n",
    " - 10: Λάθος κατά την εκτέλεση, αν ο χρήστης δώσει απευθείας μή θετικό αριθμό θα γίνει διαίρεση με το 0, μεταβλητή count.\n",
    " \n",
    " - 10: Λογικό λάθος, ο μέσος όρος είναι άθροισμα και όχι γινόμενο δια πλήθος"
   ]
  },
  {
   "cell_type": "code",
   "execution_count": null,
   "id": "7082689c",
   "metadata": {},
   "outputs": [],
   "source": [
    "count = 0\n",
    "product = 1\n",
    "sum_values = 0\n",
    "x = int(input(\"Enter x: \"))\n",
    "while x > 0:\n",
    "    product = product * x\n",
    "    sum_values = sum_values + x\n",
    "    count = count + 1\n",
    "    x = int(input(\"Enter x: \"))\n",
    "if count>0:\n",
    "    avg = sum_values / count \n",
    "    print(\"Average:\", avg)\n",
    "    print(\"Product:\", product)\n",
    "else:\n",
    "    print('No numbers given')"
   ]
  },
  {
   "cell_type": "markdown",
   "id": "2d367079",
   "metadata": {},
   "source": [
    "β) Η συνάρτηση count_vowels που ακολουθεί επιχειρείται να μετρήσει τα φωνήεντα στο κείμενο text που δέχεται ως παράμετρο και να επιστρέψει τον αριθμό τους."
   ]
  },
  {
   "cell_type": "code",
   "execution_count": null,
   "id": "391de3b7",
   "metadata": {},
   "outputs": [],
   "source": [
    "def count_vowels(text):\n",
    "    vowels = ['aeiou']\n",
    "    count = 0\n",
    "    for char in text\n",
    "        if char in vowels:\n",
    "            count = 1 \n",
    "    return count\n",
    "print(\"Φωνήεντα:\",count_vowels(\"hello\")) "
   ]
  },
  {
   "cell_type": "markdown",
   "id": "a9ee3edf",
   "metadata": {},
   "source": [
    "- 2: Λογικό λάθος, δεν μπορεί να επιστρέψει True η char in vowels. Η vowels πρέπει να είναι είτε απλό str είτε λίστα με μεμονωμένους χαρακτήρες\n",
    "\n",
    "- 4: Συντακτικό λάθος, λείπει το :\n",
    "\n",
    "- 6: Λογικό λάθος, θα πρέπει count +=1 και όχι να θέτει κάθε φορά το count=1\n",
    "\n",
    "- 8: Λάθος κατά την εκτέλεση, TypeError, πρόσθεση str με int"
   ]
  },
  {
   "cell_type": "code",
   "execution_count": null,
   "id": "15469dc8",
   "metadata": {},
   "outputs": [],
   "source": [
    "def count_vowels(text):\n",
    "    vowels = 'aeiou'\n",
    "    count = 0\n",
    "    for char in text:\n",
    "        if char in vowels:\n",
    "            count = 1 \n",
    "    return count\n",
    "print(\"Φωνήεντα:\",count_vowels(\"hello\")) "
   ]
  },
  {
   "cell_type": "markdown",
   "id": "75d8462e",
   "metadata": {},
   "source": [
    "# Είδη εξαιρέσεων"
   ]
  },
  {
   "cell_type": "markdown",
   "id": "f25801d5",
   "metadata": {},
   "source": [
    "## Εύρεση είδους εξαίρεσης"
   ]
  },
  {
   "cell_type": "markdown",
   "id": "1b53d5f1",
   "metadata": {},
   "source": [
    "Ακολουθούν τμήματα κώδικα σε python στα οποία εγείρονται διάφορες εξαιρέσεις. Προσδιορίστε το είδος της κάθε εξαίρεσης.\n",
    "\n",
    "- L = [1,2,3];L[3]\n",
    "\n",
    "- L = [0, 5, 10];L[-1]/L[-3]\n",
    "\n",
    "- d = {\"a\": 1, \"b\": 2};d[\"c\"]\n",
    "\n",
    "- t = (1, 2, 3);t[0] = 10\n",
    "\n",
    "- import greek_islands\n",
    "\n",
    "- open(\"nofile.txt\", \"r\")"
   ]
  },
  {
   "cell_type": "code",
   "execution_count": 9,
   "id": "9bda9ca0",
   "metadata": {},
   "outputs": [
    {
     "ename": "IndexError",
     "evalue": "list index out of range",
     "output_type": "error",
     "traceback": [
      "\u001b[1;31m---------------------------------------------------------------------------\u001b[0m",
      "\u001b[1;31mIndexError\u001b[0m                                Traceback (most recent call last)",
      "Cell \u001b[1;32mIn[9], line 1\u001b[0m\n\u001b[1;32m----> 1\u001b[0m L \u001b[38;5;241m=\u001b[39m [\u001b[38;5;241m1\u001b[39m,\u001b[38;5;241m2\u001b[39m,\u001b[38;5;241m3\u001b[39m];L[\u001b[38;5;241m3\u001b[39m]\n",
      "\u001b[1;31mIndexError\u001b[0m: list index out of range"
     ]
    }
   ],
   "source": [
    "L = [1,2,3];L[3]"
   ]
  },
  {
   "cell_type": "code",
   "execution_count": 10,
   "id": "9e486406",
   "metadata": {},
   "outputs": [
    {
     "ename": "ZeroDivisionError",
     "evalue": "division by zero",
     "output_type": "error",
     "traceback": [
      "\u001b[1;31m---------------------------------------------------------------------------\u001b[0m",
      "\u001b[1;31mZeroDivisionError\u001b[0m                         Traceback (most recent call last)",
      "Cell \u001b[1;32mIn[10], line 1\u001b[0m\n\u001b[1;32m----> 1\u001b[0m L \u001b[38;5;241m=\u001b[39m [\u001b[38;5;241m0\u001b[39m, \u001b[38;5;241m5\u001b[39m, \u001b[38;5;241m10\u001b[39m];L[\u001b[38;5;241m-\u001b[39m\u001b[38;5;241m1\u001b[39m]\u001b[38;5;241m/\u001b[39mL[\u001b[38;5;241m-\u001b[39m\u001b[38;5;241m3\u001b[39m]\n",
      "\u001b[1;31mZeroDivisionError\u001b[0m: division by zero"
     ]
    }
   ],
   "source": [
    "L = [0, 5, 10];L[-1]/L[-3]"
   ]
  },
  {
   "cell_type": "code",
   "execution_count": 11,
   "id": "eef0cd4e",
   "metadata": {},
   "outputs": [
    {
     "ename": "KeyError",
     "evalue": "'c'",
     "output_type": "error",
     "traceback": [
      "\u001b[1;31m---------------------------------------------------------------------------\u001b[0m",
      "\u001b[1;31mKeyError\u001b[0m                                  Traceback (most recent call last)",
      "Cell \u001b[1;32mIn[11], line 1\u001b[0m\n\u001b[1;32m----> 1\u001b[0m d \u001b[38;5;241m=\u001b[39m {\u001b[38;5;124m\"\u001b[39m\u001b[38;5;124ma\u001b[39m\u001b[38;5;124m\"\u001b[39m: \u001b[38;5;241m1\u001b[39m, \u001b[38;5;124m\"\u001b[39m\u001b[38;5;124mb\u001b[39m\u001b[38;5;124m\"\u001b[39m: \u001b[38;5;241m2\u001b[39m};d[\u001b[38;5;124m\"\u001b[39m\u001b[38;5;124mc\u001b[39m\u001b[38;5;124m\"\u001b[39m]\n",
      "\u001b[1;31mKeyError\u001b[0m: 'c'"
     ]
    }
   ],
   "source": [
    "d = {\"a\": 1, \"b\": 2};d[\"c\"]"
   ]
  },
  {
   "cell_type": "code",
   "execution_count": 12,
   "id": "fa2a18ed",
   "metadata": {},
   "outputs": [
    {
     "ename": "TypeError",
     "evalue": "'tuple' object does not support item assignment",
     "output_type": "error",
     "traceback": [
      "\u001b[1;31m---------------------------------------------------------------------------\u001b[0m",
      "\u001b[1;31mTypeError\u001b[0m                                 Traceback (most recent call last)",
      "Cell \u001b[1;32mIn[12], line 1\u001b[0m\n\u001b[1;32m----> 1\u001b[0m t \u001b[38;5;241m=\u001b[39m (\u001b[38;5;241m1\u001b[39m, \u001b[38;5;241m2\u001b[39m, \u001b[38;5;241m3\u001b[39m);t[\u001b[38;5;241m0\u001b[39m] \u001b[38;5;241m=\u001b[39m \u001b[38;5;241m10\u001b[39m\n",
      "\u001b[1;31mTypeError\u001b[0m: 'tuple' object does not support item assignment"
     ]
    }
   ],
   "source": [
    "t = (1, 2, 3);t[0] = 10"
   ]
  },
  {
   "cell_type": "code",
   "execution_count": 7,
   "id": "2cb74a3b",
   "metadata": {},
   "outputs": [
    {
     "ename": "ModuleNotFoundError",
     "evalue": "No module named 'greek_islands'",
     "output_type": "error",
     "traceback": [
      "\u001b[1;31m---------------------------------------------------------------------------\u001b[0m",
      "\u001b[1;31mModuleNotFoundError\u001b[0m                       Traceback (most recent call last)",
      "Cell \u001b[1;32mIn[7], line 1\u001b[0m\n\u001b[1;32m----> 1\u001b[0m \u001b[38;5;28;01mimport\u001b[39;00m \u001b[38;5;21;01mgreek_islands\u001b[39;00m\n",
      "\u001b[1;31mModuleNotFoundError\u001b[0m: No module named 'greek_islands'"
     ]
    }
   ],
   "source": [
    "import greek_islands"
   ]
  },
  {
   "cell_type": "code",
   "execution_count": 8,
   "id": "06ec3de2",
   "metadata": {},
   "outputs": [
    {
     "ename": "FileNotFoundError",
     "evalue": "[Errno 2] No such file or directory: 'nofile.txt'",
     "output_type": "error",
     "traceback": [
      "\u001b[1;31m---------------------------------------------------------------------------\u001b[0m",
      "\u001b[1;31mFileNotFoundError\u001b[0m                         Traceback (most recent call last)",
      "Cell \u001b[1;32mIn[8], line 1\u001b[0m\n\u001b[1;32m----> 1\u001b[0m \u001b[38;5;28mopen\u001b[39m(\u001b[38;5;124m\"\u001b[39m\u001b[38;5;124mnofile.txt\u001b[39m\u001b[38;5;124m\"\u001b[39m, \u001b[38;5;124m\"\u001b[39m\u001b[38;5;124mr\u001b[39m\u001b[38;5;124m\"\u001b[39m)\n",
      "File \u001b[1;32m~\\AppData\\Local\\anaconda3\\envs\\pytorch-env\\Lib\\site-packages\\IPython\\core\\interactiveshell.py:286\u001b[0m, in \u001b[0;36m_modified_open\u001b[1;34m(file, *args, **kwargs)\u001b[0m\n\u001b[0;32m    279\u001b[0m \u001b[38;5;28;01mif\u001b[39;00m file \u001b[38;5;129;01min\u001b[39;00m {\u001b[38;5;241m0\u001b[39m, \u001b[38;5;241m1\u001b[39m, \u001b[38;5;241m2\u001b[39m}:\n\u001b[0;32m    280\u001b[0m     \u001b[38;5;28;01mraise\u001b[39;00m \u001b[38;5;167;01mValueError\u001b[39;00m(\n\u001b[0;32m    281\u001b[0m         \u001b[38;5;124mf\u001b[39m\u001b[38;5;124m\"\u001b[39m\u001b[38;5;124mIPython won\u001b[39m\u001b[38;5;124m'\u001b[39m\u001b[38;5;124mt let you open fd=\u001b[39m\u001b[38;5;132;01m{\u001b[39;00mfile\u001b[38;5;132;01m}\u001b[39;00m\u001b[38;5;124m by default \u001b[39m\u001b[38;5;124m\"\u001b[39m\n\u001b[0;32m    282\u001b[0m         \u001b[38;5;124m\"\u001b[39m\u001b[38;5;124mas it is likely to crash IPython. If you know what you are doing, \u001b[39m\u001b[38;5;124m\"\u001b[39m\n\u001b[0;32m    283\u001b[0m         \u001b[38;5;124m\"\u001b[39m\u001b[38;5;124myou can use builtins\u001b[39m\u001b[38;5;124m'\u001b[39m\u001b[38;5;124m open.\u001b[39m\u001b[38;5;124m\"\u001b[39m\n\u001b[0;32m    284\u001b[0m     )\n\u001b[1;32m--> 286\u001b[0m \u001b[38;5;28;01mreturn\u001b[39;00m io_open(file, \u001b[38;5;241m*\u001b[39margs, \u001b[38;5;241m*\u001b[39m\u001b[38;5;241m*\u001b[39mkwargs)\n",
      "\u001b[1;31mFileNotFoundError\u001b[0m: [Errno 2] No such file or directory: 'nofile.txt'"
     ]
    }
   ],
   "source": [
    "open(\"nofile.txt\", \"r\")"
   ]
  },
  {
   "cell_type": "markdown",
   "id": "2a2bb707",
   "metadata": {},
   "source": [
    "# Προσαρμοσμένες Εξαιρέσεις"
   ]
  },
  {
   "cell_type": "markdown",
   "id": "5de756de",
   "metadata": {},
   "source": [
    "Υλοποιήστε σύστημα διαχείρισης αποθήκης. Θα πρέπει να δημιουργήσετε κλάση, έστω _Inventory_ με τις επόμενες ιδιότητες και μεθόδους:\n",
    "\n",
    "- Inventory:\n",
    "    \n",
    "    - `__init__`: Κατασκευαστής που δημιουργεί το επόμενο, αρχικά άδειο, λεξικό. \n",
    "    \n",
    "    - _stock_: Λεξικό, το οποίο για κλειδί έχει το είδος προϊόντος και για τιμή νέο λεξικό με κλειδιά id προϊόντων κσι τιμή το απόθεμά τους στην αποθήκη.\n",
    "    \n",
    "    - _order_product_: Μέθοδος η οποία δέχεται κατηγορία, id προιόντος και αριθμό τεμαχίων και αν η παραγγελία μπορεί να γίνει ενημερώνει το απόθεμα. Μια παραγγελία δεν μπορεί να γίνει όταν δεν υπάρχει το id ή ο αριθμός τεμαχίων της παραγγελίας είναι μεγαλύτερος από το απόθεμα. Στις περιπτώσεις αυτές εγείρεται εξαίρεση _ProductNotFoundError_ ή _InsufficientStockError_ αντίστοιχα.\n",
    "    \n",
    "    - _add_product_: Μέθοδος η οποία δέχεται κατηγορία, id προιόντος και αριθμό τεμαχίων και προσθέτει στο λεξικό της κατηγορίας την νέα εγγραφή. Αν η κατηγορία δεν υπάρχει στο stock, εγείρεται εξαίρεση _CategoryNotFoundError_ ενώ αν το id του προιόντος υπάρχει στην κατηγορία της παραμέτρου εξαίρεση _ProductExistsError_.\n",
    "    \n",
    "    - _add_Stock_: Δέχεται κατηγορία, id προιόντος και αριθμό τεμαχίων και προσθέτει στην κατηγορία και id της παραμέτρου τον αριθμό τεμαχίων. Αν η κατηγορία δεν υπάρχει στο stock, εγείρεται εξαίρεση _CategoryNotFoundError_ ενώ αν δεν υπάρχει το id στην κατηγορία _ProductNotFoundError_.\n",
    "    \n",
    "    - _add_Category_: Δέχεται μία κατηγορία και την προσθέτει στο λεξικό _stock_ με άδειο λεξικό για τιμή. Αν η κατηγορία υπάρχει ήδη, εγείρεται εξαίρεση _CategoryExistsError_.\n",
    "    \n",
    "Μία σειρά εξαιρέσεων υποστηρίζει το παραπάνω σύστημα απογραφής. Όλες οι παρακάτω εξαιρέσεις που μπορούν να συμβούν, κληρονομούν από την _InventoryError_ η οποία με την σειρά της κληρονομεί από την `Exception`:\n",
    "\n",
    "\n",
    " - _ProductNotFoundError_: Δεν υπάρχει το id του προϊόντος.\n",
    " \n",
    "  - _CategoryNotFoundError_: Δεν υπάρχει η κατηγορία προϊόντος.\n",
    "\n",
    " - _ProductExistsError_: Το id προϊόντος υπάρχει ήδη.\n",
    " \n",
    " - _CategoryExistsError_: Η κατηγορία υπάρχει ήση στο λεξικό.\n",
    " \n",
    " - _InsufficientStockError_: Γίνεται προσπάθεια παραγγελίας μεγαλύτερου αριθμού προϊόντων από το απόθεμα.\n",
    "\n",
    "Επιπλέον, αν η κατηγορία και το id δεν είναι τυπου `str` και το απόθεμα δεν είναι τύπου `int` στις παραπάνω μεθόδους εγείρεται εξαίρεση."
   ]
  },
  {
   "cell_type": "code",
   "execution_count": 2,
   "id": "ee411132",
   "metadata": {},
   "outputs": [
    {
     "name": "stdout",
     "output_type": "stream",
     "text": [
      "Η παραγγελία 4 τεμαχίων του προϊόντος 'Dell_XPS13' ολοκληρώθηκε επιτυχώς.\n",
      "Ανεπαρκές απόθεμα για το προϊόν με id 'iPhone_14'. Ζητήθηκαν 12, διαθέσιμα 10.\n",
      "Η κατηγορία 'Laptops' υπάρχει ήδη.\n",
      "Το προϊόν με id 'Galaxy_S23' υπάρχει ήδη.\n"
     ]
    }
   ],
   "source": [
    "# Βασική εξαίρεση απογραφής\n",
    "class InventoryError(Exception):\n",
    "    pass\n",
    "\n",
    "class ProductNotFoundError(InventoryError):\n",
    "    def __init__(self, product_id):\n",
    "        super().__init__(f\"Το προϊόν με id '{product_id}' δεν βρέθηκε.\")\n",
    "\n",
    "class CategoryNotFoundError(InventoryError):\n",
    "    def __init__(self, category):\n",
    "        super().__init__(f\"Η κατηγορία '{category}' δεν βρέθηκε στο απόθεμα.\")\n",
    "\n",
    "class ProductExistsError(InventoryError):\n",
    "    def __init__(self, product_id):\n",
    "        super().__init__(f\"Το προϊόν με id '{product_id}' υπάρχει ήδη.\")\n",
    "\n",
    "class CategoryExistsError(InventoryError):\n",
    "    def __init__(self, category):\n",
    "        super().__init__(f\"Η κατηγορία '{category}' υπάρχει ήδη.\")\n",
    "\n",
    "class InsufficientStockError(InventoryError):\n",
    "    def __init__(self, product_id, requested, available):\n",
    "        super().__init__(f\"Ανεπαρκές απόθεμα για το προϊόν με id '{product_id}'. \"\n",
    "                         f\"Ζητήθηκαν {requested}, διαθέσιμα {available}.\")\n",
    "\n",
    "class Inventory:\n",
    "    def __init__(self):\n",
    "        self.stock = {}\n",
    "\n",
    "    def add_category(self, category):\n",
    "        if not isinstance(category, str):\n",
    "            raise ValueError(\"Η κατηγορία πρέπει να είναι τύπου str.\")\n",
    "        if category in self.stock:\n",
    "            raise CategoryExistsError(category)\n",
    "        self.stock[category] = {}\n",
    "\n",
    "    def add_product(self, category, product_id, stock):\n",
    "        if not (isinstance(category, str) and isinstance(product_id, str) and isinstance(stock, int)):\n",
    "            raise ValueError(\"Λάθος παράμετροι, κατηγορία και id πρέπει να είναι str, και το απόθεμα int.\")\n",
    "        if category not in self.stock:\n",
    "            raise CategoryNotFoundError(category)\n",
    "        if product_id in self.stock[category]:\n",
    "            raise ProductExistsError(product_id)\n",
    "        self.stock[category][product_id] = stock\n",
    "\n",
    "    def add_stock(self, category, product_id, stock):\n",
    "        if not (isinstance(category, str) and isinstance(product_id, str) and isinstance(stock, int)):\n",
    "            raise ValueError(\"Λάθος παράμετροι, κατηγορία και id πρέπει να είναι str, και το απόθεμα int.\")\n",
    "        if category not in self.stock:\n",
    "            raise CategoryNotFoundError(category)\n",
    "        if product_id not in self.stock[category]:\n",
    "            raise ProductNotFoundError(product_id)\n",
    "        self.stock[category][product_id] += stock\n",
    "\n",
    "    def order_product(self, category, product_id, quantity):\n",
    "        if not (isinstance(category, str) and isinstance(product_id, str) and isinstance(stock, int)):\n",
    "            raise ValueError(\"Λάθος παράμετροι, κατηγορία και id πρέπει να είναι str, και το απόθεμα int.\")\n",
    "        if category not in self.stock:\n",
    "            raise CategoryNotFoundError(category)\n",
    "        if product_id not in self.stock[category]:\n",
    "            raise ProductNotFoundError(product_id)\n",
    "        if quantity > self.stock[category][product_id]:\n",
    "            raise InsufficientStockError(product_id, quantity, self.stock[category][product_id])\n",
    "        self.stock[category][product_id] -= quantity\n",
    "        print(f\"Η παραγγελία {quantity} τεμαχίων του προϊόντος '{product_id}' ολοκληρώθηκε επιτυχώς.\")\n",
    "\n",
    "# Παράδειγμα χρήσης\n",
    "inventory = Inventory()\n",
    "\n",
    "# Προσθήκη κατηγοριών\n",
    "inventory.add_category(\"Laptops\")\n",
    "inventory.add_category(\"Smartphones\")\n",
    "\n",
    "# Προσθήκη προϊόντων\n",
    "inventory.add_product(\"Laptops\", \"Dell_XPS13\", 5)\n",
    "inventory.add_product(\"Laptops\", \"MacBook_Pro\", 3)\n",
    "inventory.add_product(\"Smartphones\", \"iPhone_14\", 10)\n",
    "inventory.add_product(\"Smartphones\", \"Galaxy_S23\", 8)\n",
    "\n",
    "# Προσθήκη αποθέματος\n",
    "inventory.add_stock(\"Laptops\", \"Dell_XPS13\", 2)\n",
    "\n",
    "# Παραγγελίες\n",
    "try:\n",
    "    inventory.order_product(\"Laptops\", \"Dell_XPS13\", 4)\n",
    "except InventoryError as e:\n",
    "    print(e)\n",
    "\n",
    "try:\n",
    "    inventory.order_product(\"Smartphones\", \"iPhone_14\", 12)\n",
    "except InventoryError as e:\n",
    "    print(e)\n",
    "\n",
    "try:\n",
    "    inventory.add_category(\"Laptops\")\n",
    "except InventoryError as e:\n",
    "    print(e)\n",
    "\n",
    "try:\n",
    "    inventory.add_product(\"Smartphones\", \"Galaxy_S23\", 5)\n",
    "except InventoryError as e:\n",
    "    print(e)\n"
   ]
  },
  {
   "cell_type": "code",
   "execution_count": null,
   "id": "611c8d1d",
   "metadata": {},
   "outputs": [],
   "source": []
  }
 ],
 "metadata": {
  "kernelspec": {
   "display_name": "Python 3 (ipykernel)",
   "language": "python",
   "name": "python3"
  },
  "language_info": {
   "codemirror_mode": {
    "name": "ipython",
    "version": 3
   },
   "file_extension": ".py",
   "mimetype": "text/x-python",
   "name": "python",
   "nbconvert_exporter": "python",
   "pygments_lexer": "ipython3",
   "version": "3.11.4"
  }
 },
 "nbformat": 4,
 "nbformat_minor": 5
}
