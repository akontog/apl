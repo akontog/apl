{
 "cells": [
  {
   "cell_type": "markdown",
   "id": "6463aa41",
   "metadata": {},
   "source": [
    "<div style=\"padding:20px 0px 20px 0px; text-align:center; font-weight: bold; font-size:170%; background-color: #2d8077; color:#f0b439;\">\n",
    "01.<br>\n",
    "<span style=\"color:#ffffcc;\">Εισαγωγή στην Python (εργαστήριο)</span>\n",
    "</div>"
   ]
  },
  {
   "cell_type": "markdown",
   "id": "b65a1fc6",
   "metadata": {},
   "source": [
    "# Βασικοί Τύποι Δεδομένων"
   ]
  },
  {
   "cell_type": "markdown",
   "id": "8fea82ab",
   "metadata": {},
   "source": [
    "## Εφαρμογή type"
   ]
  },
  {
   "cell_type": "markdown",
   "id": "627cce23",
   "metadata": {},
   "source": [
    "Έστω οι μεταβλητές:\n",
    "```\n",
    "v1 = 10\n",
    "v2 = 3.14\n",
    "v3 = True\n",
    "v4 = \"Python\"\n",
    "v5 = 5+4j\n",
    "```\n",
    "Εφαρμόστε την `type` για κάθε μία και στην συνέχεια θέστε\n",
    "```\n",
    "v12 = v1+v2\n",
    "v13 = v1+v3\n",
    "v15 = v1+v5\n",
    "v23 = v2+v3\n",
    "v25 = v2+v5\n",
    "v35 = v3+v5\n",
    "```\n",
    "Εμφανίστε το αποτέλεσμα και βρείτε τον τύπο των παραπάνω μεταβλητών."
   ]
  },
  {
   "cell_type": "code",
   "execution_count": 5,
   "id": "7eb82842",
   "metadata": {},
   "outputs": [
    {
     "data": {
      "text/plain": [
       "(6+4j)"
      ]
     },
     "execution_count": 5,
     "metadata": {},
     "output_type": "execute_result"
    }
   ],
   "source": [
    "v1 = 10\n",
    "v2 = 3.14\n",
    "v3 = True\n",
    "v4 = \"4\"\n",
    "v5 = 5+4j"
   ]
  },
  {
   "cell_type": "code",
   "execution_count": 6,
   "id": "29e5fe3a",
   "metadata": {},
   "outputs": [],
   "source": [
    "v12 = v1+v2\n",
    "v13 = v1+v3\n",
    "v15 = v1+v5\n",
    "v23 = v2+v3\n",
    "v25 = v2+v5\n",
    "v35 = v3+v5"
   ]
  },
  {
   "cell_type": "code",
   "execution_count": 7,
   "id": "bd4542e0",
   "metadata": {},
   "outputs": [
    {
     "data": {
      "text/plain": [
       "11"
      ]
     },
     "execution_count": 7,
     "metadata": {},
     "output_type": "execute_result"
    }
   ],
   "source": [
    "v13"
   ]
  },
  {
   "cell_type": "markdown",
   "id": "d9c1e61f",
   "metadata": {},
   "source": [
    "## Συναρτήσεις int, float, complex, bool, str"
   ]
  },
  {
   "cell_type": "markdown",
   "id": "eeef677c",
   "metadata": {},
   "source": [
    "Εφαρμόστε τις `int()`, `float()`, `str()`, `bool()`, `complex()` με παράμετρο το 42."
   ]
  },
  {
   "cell_type": "code",
   "execution_count": 8,
   "id": "df5ac9f8",
   "metadata": {},
   "outputs": [
    {
     "data": {
      "text/plain": [
       "(42, 42.0, '42', True, (42+0j))"
      ]
     },
     "execution_count": 8,
     "metadata": {},
     "output_type": "execute_result"
    }
   ],
   "source": [
    "int(42),float(42),str(42),bool(42),complex(42)"
   ]
  },
  {
   "cell_type": "markdown",
   "id": "f7d813f0",
   "metadata": {},
   "source": [
    "# Τελεστές Operators"
   ]
  },
  {
   "cell_type": "markdown",
   "id": "f15388c8",
   "metadata": {},
   "source": [
    "## Εφαρμογή δυαδικών, bitwise τελεστών"
   ]
  },
  {
   "cell_type": "markdown",
   "id": "cea1c360",
   "metadata": {},
   "source": [
    "## Προτεραιότητα τελεστών"
   ]
  },
  {
   "cell_type": "code",
   "execution_count": null,
   "id": "ab519279",
   "metadata": {},
   "outputs": [],
   "source": []
  },
  {
   "cell_type": "markdown",
   "id": "324780a3",
   "metadata": {},
   "source": [
    "# Συμβολοσειρές string"
   ]
  },
  {
   "cell_type": "markdown",
   "id": "f8a2c802",
   "metadata": {},
   "source": [
    "## Παλίνδρομο"
   ]
  },
  {
   "cell_type": "markdown",
   "id": "9850aae4",
   "metadata": {},
   "source": [
    "Παλίνδρομη είναι μία λέξη ή φράση η οποία διαβάζεται με τον ίδιο τρόπο και από αριστερά και από δεξιά. Έστω συμβολοσειρά s. Βρείτε αν είναι παλίνδρομη ή όχι. Παράδειγμα:\n",
    "\n",
    "- _anna_: Είναι παλίνδρομη\n",
    "\n",
    "- _samos_: Δεν είναι παλίνδρομη"
   ]
  },
  {
   "cell_type": "code",
   "execution_count": 9,
   "id": "372bdc4f",
   "metadata": {},
   "outputs": [
    {
     "data": {
      "text/plain": [
       "True"
      ]
     },
     "execution_count": 9,
     "metadata": {},
     "output_type": "execute_result"
    }
   ],
   "source": [
    "s = 'anna'\n",
    "s == s[::-1]"
   ]
  },
  {
   "cell_type": "markdown",
   "id": "6c5deff0",
   "metadata": {},
   "source": [
    "## Συνένωση"
   ]
  },
  {
   "cell_type": "markdown",
   "id": "e43e0fb8",
   "metadata": {},
   "source": [
    "Με δεδομένη μία συμβολοσειρά _s_, δημιουργήστε νέα συμβολοσειρά η οποία είναι η ένωση της αρχικής με ένα κενό και στην συνέχει η αντίστοφή της αρχικής. Παράδειγμα:\n",
    "\n",
    "- _Samos_ -> _Samos somaS_"
   ]
  },
  {
   "cell_type": "code",
   "execution_count": 10,
   "id": "f4ec5098",
   "metadata": {},
   "outputs": [
    {
     "data": {
      "text/plain": [
       "'Samos somaS'"
      ]
     },
     "execution_count": 10,
     "metadata": {},
     "output_type": "execute_result"
    }
   ],
   "source": [
    "s = 'Samos'\n",
    "s + ' ' + s[::-1]"
   ]
  },
  {
   "cell_type": "markdown",
   "id": "c282e506",
   "metadata": {},
   "source": [
    "Με δεδομένη μία συμβολοσειρά s, και ενός χαρακτηρα _ch_:\n",
    "\n",
    "- Ελέγξτε αν ο χαρακτήρας υπάρχει στη συμβολοσειρά.\n",
    "\n",
    "- βρείτε το πλήθος εμφανίσεων του.\n",
    "\n",
    "- Βρείτε τη θέση της πρώτης εμφάνισης του."
   ]
  },
  {
   "cell_type": "code",
   "execution_count": 12,
   "id": "b812358c",
   "metadata": {},
   "outputs": [
    {
     "data": {
      "text/plain": [
       "(True, 2, 1)"
      ]
     },
     "execution_count": 12,
     "metadata": {},
     "output_type": "execute_result"
    }
   ],
   "source": [
    "s = 'Karlovasi'\n",
    "ch = 'a'\n",
    "ch in s, s.count(ch),s.index(ch)"
   ]
  },
  {
   "cell_type": "markdown",
   "id": "1431ee83",
   "metadata": {},
   "source": [
    "## Αντιστροφή ψηφίων"
   ]
  },
  {
   "cell_type": "markdown",
   "id": "928ba038",
   "metadata": {},
   "source": [
    "Να γραφεί πρόγραμμα που με δεδομένο έναν τριψήφιο αριθμό και θα αντιστρέφει τα ψηφία του. Δοκιμάστε του επόμενους τρόπους:\n",
    "\n",
    " - 1. Χρήση `str` και τεχνικές `slicing`.\n",
    " \n",
    " - 2. Χρήση τελεστών `%`, `//`."
   ]
  },
  {
   "cell_type": "markdown",
   "id": "d722216d",
   "metadata": {},
   "source": [
    "# Είσοδος / Έξοδος"
   ]
  },
  {
   "cell_type": "markdown",
   "id": "536ae6e0",
   "metadata": {},
   "source": [
    "## Αντιμετάθεση"
   ]
  },
  {
   "cell_type": "markdown",
   "id": "5dc716fb",
   "metadata": {},
   "source": [
    "Αναπτύξετε πρόγραμμα σε γλώσσα python που θα διαβάζει δύο αριθμούς, θα τους καταχωρεί σε δύο μεταβλητές a και b και θα αντιμεταθέτει τις τιμές τους. "
   ]
  },
  {
   "cell_type": "markdown",
   "id": "45d40f64",
   "metadata": {},
   "source": [
    "## Μετατροπή Φαρενάιτ - Κελσίου"
   ]
  },
  {
   "cell_type": "markdown",
   "id": "1eb98358",
   "metadata": {},
   "source": [
    "Να γραφεί πρόγραμμα το οποίο θα διαβάζει μια θερμοκρασία σε βαθμούς Φαρενάιτ και θα την μετατρέπει σε βαθμούς Κελσίου. Ο τύπος που εκφράζει τη σχέση των βαθμών αυτών: $C = \\frac{5}{9} \\cdot (F - 32)$ "
   ]
  },
  {
   "cell_type": "markdown",
   "id": "1612115f",
   "metadata": {},
   "source": [
    "## Κύκλος"
   ]
  },
  {
   "cell_type": "markdown",
   "id": "74fa20e7",
   "metadata": {},
   "source": [
    "Να γραφεί πρόγραμμα που να διαβάζει το μήκος της ακτίνας ενός κύκλου και να τυπώνει τη διάμετρο, τη περίμετρο και το εμβαδόν αυτού του κύκλου."
   ]
  },
  {
   "cell_type": "markdown",
   "id": "128a51b3",
   "metadata": {},
   "source": [
    "## Υπολογισμός δευτερολέπτων"
   ]
  },
  {
   "cell_type": "markdown",
   "id": "06c96012",
   "metadata": {},
   "source": [
    "Να γραφεί πρόγραμμα το οποίο θα διαβάζει έναν ακέραιο που παριστάνει το σύνολο των δευτερολέπτων ενός χρονικού διαστήματος και θα εμφανίζει πόσες ημέρες, ώρες, λεπτά και δευτερόλεπτα περιλαμβάνει το διάστημα. Για παράδειγμα αν διαβάσει τον ακέραιο 100000 η απάντηση θα είναι: 1 ημέρες 3 ώρες 46 λεπτά 40 δευτερόλεπτα, Σημείωση: η ημέρα έχει 86400 δευτερόλεπτα."
   ]
  },
  {
   "cell_type": "code",
   "execution_count": null,
   "id": "da7631a4",
   "metadata": {},
   "outputs": [],
   "source": []
  }
 ],
 "metadata": {
  "kernelspec": {
   "display_name": "Python 3 (ipykernel)",
   "language": "python",
   "name": "python3"
  },
  "language_info": {
   "codemirror_mode": {
    "name": "ipython",
    "version": 3
   },
   "file_extension": ".py",
   "mimetype": "text/x-python",
   "name": "python",
   "nbconvert_exporter": "python",
   "pygments_lexer": "ipython3",
   "version": "3.11.4"
  }
 },
 "nbformat": 4,
 "nbformat_minor": 5
}
