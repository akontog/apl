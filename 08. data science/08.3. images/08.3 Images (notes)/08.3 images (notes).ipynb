{
 "cells": [
  {
   "cell_type": "markdown",
   "id": "98cef84a",
   "metadata": {},
   "source": [
    "<div style=\"padding:20px 0px 20px 0px; text-align:center; font-weight: bold; font-size:150%; background-color: #cce6ff\">08.3.<br>\n",
    " Εικόνες\n",
    "</div>\n",
    "\n",
    "---"
   ]
  },
  {
   "cell_type": "markdown",
   "id": "300791a1",
   "metadata": {},
   "source": [
    "Υπάρχουν διάφορες βιβλιοθήκες επεξεργασίας εικόνας στην python όπως η openCV και η pillow. Οι ψηφιακές εικόνες, όμως, δεν είναι τίποτα παραπάνω από πίνακες αριθμών. Με τη βιβλιοθήκη `NumPy`, μπορούμε να επεξεργαστούμε εικόνες σαν να είναι απλοί πίνακες εφαρμόζοντας διάφορους μετασχηματισμούς. Η βιβλιοθήκη `matplotlib` θα μας βοηθήσει να εμφανίσουμε να ανακτήσουμε και να αποθηκεύσουμε τα αποτελέσματα των μετασχηματισμών μας και πάλι ως εικόνες. Έτσι, χωρίς πρόσθετες βιβλιοθήκες, μόνο με `NumPy` και `matplotlib`, μπορούμε να υλοποιήσουμε πολλές από τις βασικές εφαρμογές της ψηφιακής επεξεργασίας εικόνας. Πέρα από το υποπακέτο `pyplot` της `matplotlib` Θα χρησιμοποιηθεί και το `image` για ανάκτηση και αποθήκευση εικόνων."
   ]
  },
  {
   "cell_type": "code",
   "execution_count": null,
   "id": "35ff15eb",
   "metadata": {},
   "outputs": [],
   "source": [
    "import numpy as np\n",
    "import matplotlib.pyplot as plt\n",
    "import matplotlib.image as img"
   ]
  },
  {
   "cell_type": "markdown",
   "id": "ea7fca47",
   "metadata": {},
   "source": [
    "# Αναπαράσταση"
   ]
  },
  {
   "cell_type": "markdown",
   "id": "27f318a8",
   "metadata": {},
   "source": [
    "## Τύποι εικόνας"
   ]
  },
  {
   "cell_type": "markdown",
   "id": "f9f0b82b",
   "metadata": {},
   "source": [
    "Κάθε εικόνα αποθηκεύεται ως πολυδιάστατος πίνακας με τον πίνακα να είναι δύο διαστάσεων αν η εικόνα είναι σε αποχρώσεις του γκρι και τριών διαστάσεων για τις έγχρωμες εικόνες. Κάθε αριθμός, στοιχείο, του πίνακα αντιστοιχεί σε ένα εικονοστοιχείο, pixel, ή, όταν πρόκειται για έγχρωμη εικόνα, μια τριάδα αριθμών, με τον κάθε αριθμό να καθορίζει το χρώμα αντίστοιχα:\n",
    "\n",
    "    - R: Red, Κόκκινο\n",
    "    - G: Green, Πράσινο\n",
    "    - B: Blue, Μπλε"
   ]
  },
  {
   "cell_type": "markdown",
   "id": "dc4a8522",
   "metadata": {},
   "source": [
    "Στην συνέχεια με την μέθοδο `imread` της `matplotlib.pyplot` θα ανακτήσουμε μια έγχρωμη εικόνα. Παρατηρούμε ότι οι εικόνες εισάγονται ως πίνακες `NumPy`."
   ]
  },
  {
   "cell_type": "code",
   "execution_count": null,
   "id": "04bd1bf0",
   "metadata": {},
   "outputs": [],
   "source": [
    "rgbimage = plt.imread(\"sail.jpg\")\n",
    "type(rgbimage)"
   ]
  },
  {
   "cell_type": "markdown",
   "id": "2043f75c",
   "metadata": {},
   "source": [
    "## Σχήμα εικόνας"
   ]
  },
  {
   "cell_type": "markdown",
   "id": "3b102aad",
   "metadata": {},
   "source": [
    "Ελέγχοντας το σχήμα θα επιβεβαιώσουμε τις τρεις διαστάσεις της έγχρωμης εικόνας. Στο δείκτη 0 της τρίτης διάστασης αποθηκεύεται το κόκκινο χρώμα, στην δεύτερη το πράσινο και στην τρίτη το μπλε. Τα τρία βασικά χρώματα όπως αυτά αποθηκεύονται σε μια εικόνα ονομάζονται και κανάλια, **channels**."
   ]
  },
  {
   "cell_type": "code",
   "execution_count": null,
   "id": "2afead32",
   "metadata": {},
   "outputs": [],
   "source": [
    "rgbimage.shape"
   ]
  },
  {
   "cell_type": "markdown",
   "id": "63b6ffeb",
   "metadata": {},
   "source": [
    "## Τύποι δεδομένων"
   ]
  },
  {
   "cell_type": "markdown",
   "id": "44602f95",
   "metadata": {},
   "source": [
    "Κάθε χρώμα απαιτεί 8 δυαδικά ψηφία, bit, για να αναπαρασταθεί, κάτι που σημαίνει ότι για κάθε χρώμα μπορούμε να έχουμε αριθμούς από το 0 έως το 255. Ο τύπος των πινάκων θα είναι int8, δηλαδή ακέραιος με 8 bit."
   ]
  },
  {
   "cell_type": "code",
   "execution_count": null,
   "id": "ad0cfd0f",
   "metadata": {},
   "outputs": [],
   "source": [
    "rgbimage.dtype"
   ]
  },
  {
   "cell_type": "markdown",
   "id": "cb9a26a6",
   "metadata": {},
   "source": [
    "Σημειώνεται ότι οι png εικόνες κανονικοποιούνται στο διάστημα [0.0,1.0] με το κάτω άκρο του διαστήματος να σημαίνει απουσία χρώματος και το άνω άκρο το μέγιστο.\n",
    "\n",
    "Για την grayscale εικόνα:\n",
    "\n",
    "    - 0.0: μαύρο\n",
    "    - 1.0: άσπρο\n",
    "    - (0.0,1.0): αποχρώσεις του γκρι\n",
    "\n",
    "Ο τύπος του πίνακα στον οποίο είναι αποθηκευμένη η εικόνα png θα είναι float."
   ]
  },
  {
   "cell_type": "code",
   "execution_count": null,
   "id": "bf7f9007",
   "metadata": {},
   "outputs": [],
   "source": [
    "pngimage = plt.imread(\"sail.png\")\n",
    "pngimage.dtype,pngimage.min(),pngimage.max()"
   ]
  },
  {
   "cell_type": "markdown",
   "id": "c1af17d1",
   "metadata": {},
   "source": [
    "# Δημιουργία και εμφάνιση"
   ]
  },
  {
   "cell_type": "markdown",
   "id": "4f6b94ce",
   "metadata": {},
   "source": [
    "Χρησιμοποιώντας τη NumPy, μπορούμε να δημιουργήσουμε εικόνες από το μηδέν. Απλά γεμίζουμε έναν πίνακα με τιμές. Με την βοήθεια της `pyplot` της `matplotlib` μπορούμε να εμφανίσουμε το αποτέλεσμα. Στην ίδια βιβλιοθήκη η `image` μπορεί να χρησιμοποιηθεί για να αποθηκευτεί τοπικά."
   ]
  },
  {
   "cell_type": "markdown",
   "id": "46ffd0b9",
   "metadata": {},
   "source": [
    "## imgshow"
   ]
  },
  {
   "cell_type": "markdown",
   "id": "b29a8825",
   "metadata": {},
   "source": [
    "Η `imshow` αποτελεί μέθοδο της pyplot στην βιβλιοθήκη `matplotlib` που χρησιμοποιείται για την εμφάνιση πινάκων ως εικόνες σε ένα γράφημα. Με την παράμετρο `cmap` μπορούμε να προσαρμόσουμε το χρώμα της εικόνας που θα παραχθεί σε:\n",
    "\n",
    "- `gray` ή `binary`: αποχρώσεις του γκρι.\n",
    "\n",
    "- `hot`: για χρήση σε θερμικές απικονίσεις.\n",
    "\n",
    "- `viridis`: με χρώμα.\n",
    "\n",
    "- `coolwarm`: όταν έχουμε και αρνητικές τιμές.\n",
    "\n",
    "- `terrain` ή `ocean`: για γεωγραφικά δεδομένα.\n"
   ]
  },
  {
   "cell_type": "markdown",
   "id": "7e74d791",
   "metadata": {},
   "source": [
    "Θα διαβάσουμε και πάλι την εικόνα _sail.jpg_ με την βοήθεια της `imread` της `pyplot`. Θα εμφανίσουμε την ανάλυσή της καθώς και τον τύπο αποθήκευσης των εικονοστοιχείων της. "
   ]
  },
  {
   "cell_type": "code",
   "execution_count": null,
   "id": "0c76646c",
   "metadata": {},
   "outputs": [],
   "source": [
    "sailimage = plt.imread(\"sail.jpg\")\n",
    "sailimage.shape,sailimage.dtype"
   ]
  },
  {
   "cell_type": "markdown",
   "id": "296aa70f",
   "metadata": {},
   "source": [
    "Για να δείξουμε την εικόνα μπορούμε να χρησιμοποιήσουμε τη μέθοδο `imshow`. Αν εμφανίσουμε τους άξονες, μέθοδος `axis` με παράμετρο `On` αλλά και εξορισμού, θα γίνει ορατό ότι το εικονοστοιχείο (0,0) βρίσκεται στο πάνω αριστερά μέρος της εικόνας που εκτείνεται μέχρι το (611,405) σύμφωνα με την ανάλυσή της. Με παράμετρο `Off` στην `axis` θα εμφανιστεί μόνο η εικόνα χωρίς άξονες."
   ]
  },
  {
   "cell_type": "code",
   "execution_count": null,
   "id": "1291cf1b",
   "metadata": {},
   "outputs": [],
   "source": [
    "plt.imshow(sailimage)\n",
    "plt.axis(\"On\")\n",
    "plt.show()"
   ]
  },
  {
   "cell_type": "markdown",
   "id": "7be9e79a",
   "metadata": {},
   "source": [
    "## Εικόνα από πίνακα"
   ]
  },
  {
   "cell_type": "markdown",
   "id": "8d3133ec",
   "metadata": {},
   "source": [
    "**Παράδειγμα**\n",
    "\n",
    "Θα δημιουργηθεί ένας τυχαίος πίνακας NumPy διαστάσεων 200x200 τυχαίων αριθμών στο `[0,1)` και στην συνέχεια θα εμφανιστεί ως εικόνα με χρήση γκρί παλέτας χρωμάτων, `cmap='gray'`. Θα προστεθεί μια χρωματική μπάρα, `colorbar`, δίπλα στην εικόνα, ώστε να φαίνεται η αντιστοίχιση των τιμών 0-1 σε αποχρώσεις του γκρι."
   ]
  },
  {
   "cell_type": "code",
   "execution_count": null,
   "id": "6752bda9",
   "metadata": {},
   "outputs": [],
   "source": [
    "random_image = np.random.random([200, 200])\n",
    "plt.imshow(random_image, cmap='gray')\n",
    "plt.colorbar();"
   ]
  },
  {
   "cell_type": "markdown",
   "id": "d6e7bb3b",
   "metadata": {},
   "source": [
    "Για έγχρωμη εικόνα απαιτείται άλλη μία διάσταση."
   ]
  },
  {
   "cell_type": "code",
   "execution_count": null,
   "id": "69a6647a",
   "metadata": {},
   "outputs": [],
   "source": [
    "random_image = np.random.random([200, 200,3])\n",
    "plt.imshow(random_image)\n",
    "plt.colorbar();"
   ]
  },
  {
   "cell_type": "markdown",
   "id": "d229bb1d",
   "metadata": {},
   "source": [
    "**Παράδειγμα**\n",
    "\n",
    "Θα σχεδιάσουμε ένα σπίτι με την βοήθεια πίνακα NumPy.\n",
    "\n",
    "- Μαύρο φόντο μεγέθους 500x500.\n",
    "\n",
    "- Λευκό σπίτι μεγέθους 250x200 στο κάτω μέρος της εικόνας και στο κέντρο του πλάτους της,\n",
    "\n",
    "- Στο κάτω μέρος και προς τα αριστερά του σπιτιού μία γκρί πόρτα μεγέθους 50x100.\n",
    "\n",
    "- Προς τα δεξιά ένα γκρι τετράγωνο παράθυρο πλευράς 50.\n",
    "\n",
    "- Τριγωνική σκεπή του σπιτιού."
   ]
  },
  {
   "cell_type": "code",
   "execution_count": null,
   "id": "fc9c2d44",
   "metadata": {},
   "outputs": [],
   "source": [
    "house = np.zeros((500, 500))\n",
    "house_width = 250\n",
    "house_height = 200\n",
    "house[300:300 + house_height, 125:125 + house_width] = 1\n",
    "door_width = 50\n",
    "door_height = 100\n",
    "house[400:400 + door_height, 200:200 + door_width] = 0.5\n",
    "window_size = 50\n",
    "house[350:350 + window_size, 280:280 + window_size] = 0.8\n",
    "roof_top = 200\n",
    "roof_base_y = 300\n",
    "roof_left = 125\n",
    "roof_right = 125 + house_width\n",
    "roof_middle = (roof_left + roof_right)/2\n",
    "for y in range(roof_top, roof_base_y):\n",
    "    x1 = int(roof_middle - (y - roof_top) * ((roof_middle - roof_left) / (roof_base_y - roof_top)))\n",
    "    x2 = int(roof_middle + (y - roof_top) * ((roof_right - roof_middle) / (roof_base_y - roof_top)))\n",
    "    house[y, x1:x2] = 0.6  # Χρώμα σκεπής\n",
    "plt.imshow(house, cmap='gray')\n",
    "plt.colorbar()\n",
    "plt.show()"
   ]
  },
  {
   "cell_type": "markdown",
   "id": "7e3f5cd3",
   "metadata": {},
   "source": [
    "Με την `ListedColormap` μπορούμε να φτιάξουμε ένα δικό μας colormap. Θα καθορίσουμε λίστα χρωμάτων καθώς και τα όρια τιμών στα οποία θα αντιστοιχίσουμε τα χρώματα αυτά."
   ]
  },
  {
   "cell_type": "code",
   "execution_count": null,
   "id": "38ef54c7",
   "metadata": {},
   "outputs": [],
   "source": [
    "from matplotlib.colors import ListedColormap\n",
    "colorslist = ['white',  # 0.0 - φόντο\n",
    "          'brown',  # 0.5 - πόρτα\n",
    "          'red',    # 0.6 - σκεπή\n",
    "          'skyblue',# 0.8 - παράθυρο\n",
    "          'gray']   # 1.0 - τοίχος\n",
    "\n",
    "# Δημιουργία colormap αντιστοιχίζοντας τις τιμές\n",
    "mycmap = ListedColormap(colorslist)\n",
    "bounds = [-0.05, 0.45, 0.55, 0.65, 0.85, 1.05]\n",
    "mynorm = plt.matplotlib.colors.BoundaryNorm(bounds, len(colorslist))\n",
    "plt.imshow(house, cmap=mycmap, norm=mynorm)\n",
    "plt.colorbar(label=\"Value\")\n",
    "plt.title(\"Σχέδιο Σπιτιού με Χρώματα\")\n",
    "plt.show()"
   ]
  },
  {
   "cell_type": "markdown",
   "id": "c0f5561d",
   "metadata": {},
   "source": [
    "## Αποθήκευση"
   ]
  },
  {
   "cell_type": "markdown",
   "id": "95b2a49c",
   "metadata": {},
   "source": [
    "Μπορούμε να αποθηκεύσουμε έναν δισδιάστατο πίνακα αριθμών numpy ως αρχείο εικόνας με τη χρήση της συνάρτησης `imsave()` του πακέτου `image` της βιβλιοθήκης `matplotlib` ως εξής: "
   ]
  },
  {
   "cell_type": "code",
   "execution_count": null,
   "id": "df8ed7c1",
   "metadata": {},
   "outputs": [],
   "source": [
    "img.imsave('house.jpg', house)"
   ]
  },
  {
   "cell_type": "markdown",
   "id": "1a8fe03a",
   "metadata": {},
   "source": [
    "**Παράδειγμα**\n",
    "\n",
    "Θα δημιουργηθεί μία εικόνα σκακιέρας. Αρχικά ορίζεται ένας 8x8 πίνακας με μηδενικά. Στην συνέχεια θέτουμε 1 στις κατάλληλες θέσεις, εναλλάξ. Η εικόνα θα αποθηκευτεί τοπικά στον υπολογιστή με όνομα \"chessboard.jpg\". Η ανάλυση της εικόνας θα είναι όσο και η ανάλυση του πίνακα, δηλαδή 8x8."
   ]
  },
  {
   "cell_type": "code",
   "execution_count": null,
   "id": "c8ba287e",
   "metadata": {},
   "outputs": [],
   "source": [
    "chessboard = np.zeros((8, 8))\n",
    "chessboard[1::2, ::2] = 1\n",
    "chessboard[::2, 1::2] = 1\n",
    "\n",
    "plt.imshow(chessboard)\n",
    "plt.title('Chessboard')\n",
    "plt.show()\n",
    "img.imsave('chessboard.jpg', chessboard)"
   ]
  },
  {
   "cell_type": "markdown",
   "id": "51ad3217",
   "metadata": {},
   "source": [
    "Με κατάλληλη χρήση της `repeat` και στους δύο άξονες μπορούμε να αυξήσουμε την ανάλυση της σκακιέρας."
   ]
  },
  {
   "cell_type": "code",
   "execution_count": null,
   "id": "15e75aee",
   "metadata": {},
   "outputs": [],
   "source": [
    "chessboard = np.zeros((8, 8))\n",
    "chessboard[1::2, ::2] = 1\n",
    "chessboard[::2, 1::2] = 1\n",
    "scale = 50\n",
    "\n",
    "scaled = np.repeat(np.repeat(chessboard, scale, axis=0), scale, axis=1)\n",
    "\n",
    "plt.imshow(high_res, cmap='gray')\n",
    "plt.axis('off')\n",
    "plt.title('Scaled Chessboard')\n",
    "plt.show()\n",
    "\n",
    "img.imsave('scaled_chessboard.jpg', scaled, cmap='gray')"
   ]
  },
  {
   "cell_type": "markdown",
   "id": "c290da56-c28a-49d9-b261-defdac847a70",
   "metadata": {},
   "source": [
    "# Μετατροπή και Επεξεργασία"
   ]
  },
  {
   "cell_type": "markdown",
   "id": "8d07b2a2",
   "metadata": {},
   "source": [
    "Χρησιμοποιώντας πίνακες της βιβλιοθήκης NumPy μπορούμε να πραγματοποιήσουμε διάφορες βασικές μετατροπές και επεξεργασίες χρησιμοποιώντας απλές μαθηματικές πράξεις και λειτουργίες πίνακα."
   ]
  },
  {
   "cell_type": "markdown",
   "id": "911d2a1f",
   "metadata": {},
   "source": [
    "## Χρώμα"
   ]
  },
  {
   "cell_type": "markdown",
   "id": "327fc9e4",
   "metadata": {},
   "source": [
    "Όπως είδαμε, μια έγχρωμη εικόνα στην πραγματικότητα είναι ένας πίνακας τριών διαστάσεων με το σχήμα των πρώτων δύο να αποτελεί την ανάλυσή της και την τρίτη διάσταση τα κανάλια, δηλαδή τα χρώματά της. Ένας απλός τρόπος μετατροπής την εικόνας σε grayscale είναι να πάρουμε την μέση τιμή των τριών καναλιών που αποτελούν τον τρίτο άξονα, `axis=2` των δεδομένων μας."
   ]
  },
  {
   "cell_type": "code",
   "execution_count": null,
   "id": "5710eba0",
   "metadata": {},
   "outputs": [],
   "source": [
    "rgbimage = plt.imread(\"sail.jpg\")\n",
    "grayscaleimage = rgbimage.mean(axis=2)\n",
    "rgbimage.shape,grayscaleimage.shape"
   ]
  },
  {
   "cell_type": "markdown",
   "id": "e44532c9",
   "metadata": {},
   "source": [
    "Το εξορισμού χρώμα απεικόνισης στην `imgshow` είναι έγχρωμο. Θα πρέπει να δηλώσουμε `cmap='gray'` για να γίνει πιο φανερό ότι πρόκειται για grayscale εικόνα. Η προσθήκη `colormap` μπορεί να μας βοηθήσει να δούμε και τις αντιστοιχείς χρώματος με τιμές."
   ]
  },
  {
   "cell_type": "code",
   "execution_count": null,
   "id": "22cf040a",
   "metadata": {},
   "outputs": [],
   "source": [
    "plt.imshow(grayscaleimage, cmap='gray')\n",
    "plt.colorbar()"
   ]
  },
  {
   "cell_type": "markdown",
   "id": "8351791a",
   "metadata": {},
   "source": [
    "Μπορούμε εύκολα να διαχωρίσουμε την εικόνα στα τρία βασικά χρώματα παίρνοντας κάθε φορά μόνο μια τιμή από την 3η διάσταση των χρωμάτων."
   ]
  },
  {
   "cell_type": "code",
   "execution_count": null,
   "id": "46d130c4-846c-4948-9fc5-6b92a7688952",
   "metadata": {},
   "outputs": [],
   "source": [
    "colors = ['Reds','Greens','Blues']\n",
    "\n",
    "for channel in range(3):\n",
    "    plt.title(colors[channel])\n",
    "    plt.imshow(rgbimage[:,:,channel],cmap=colors[channel])\n",
    "    plt.axis('Off')\n",
    "    plt.colorbar()\n",
    "    plt.show()"
   ]
  },
  {
   "cell_type": "markdown",
   "id": "f1c89a21",
   "metadata": {},
   "source": [
    "Εφόσον η εικόνα μας είναι `int8` μπορούμε να πάρουμε το αρνητικό της αφαιρώντας από το 255 την τιμή κάθε pixel. Λόγω broadcasting η πράξη αυτή συντακτικά έχει την μορφή 255 - image. Αν η εικόνα είναι `float64` η πράξη θα έχει την μορφή 1.0 - image."
   ]
  },
  {
   "cell_type": "code",
   "execution_count": null,
   "id": "2cb227a4",
   "metadata": {},
   "outputs": [],
   "source": [
    "rgbimage.dtype"
   ]
  },
  {
   "cell_type": "code",
   "execution_count": null,
   "id": "0ed90e03",
   "metadata": {},
   "outputs": [],
   "source": [
    "negative = 255 - rgbimage\n",
    "plt.imshow(negative)"
   ]
  },
  {
   "cell_type": "markdown",
   "id": "24b1e05b",
   "metadata": {},
   "source": [
    "Η εικόνα μας, για απλότητα θα χρησιμοποιήσουμε την grayscale εκδοχή, μπορεί να μετατραπεί σε ασπρόμαυρη. Εικόνα δηλαδή που θα έχει μόνο άσπρα και μαύρα εικονοστοιχεία. Μπορεί να τεθεί ένα κατώφλι, threshold, έστω στη μέση του [0,255] και με τη βοήθεια της `where` θα θέσουμε την εικόνα ασπρόμαυρη."
   ]
  },
  {
   "cell_type": "code",
   "execution_count": null,
   "id": "a9e70014",
   "metadata": {},
   "outputs": [],
   "source": [
    "threshold = 128\n",
    "binaryimage =  np.where(grayscaleimage < threshold, 0, 255).astype(np.uint8)\n",
    "plt.imshow(binaryimage, cmap='gray')"
   ]
  },
  {
   "cell_type": "markdown",
   "id": "aaf0b3ac",
   "metadata": {},
   "source": [
    "Στη συνέχεια, με τη βοήθεια ιστογράμματος, βλέπουμε την κατανομή των τιμών των pixels από 0 έως 255. "
   ]
  },
  {
   "cell_type": "code",
   "execution_count": null,
   "id": "3a7727ea",
   "metadata": {},
   "outputs": [],
   "source": [
    "image = plt.imread(\"sail.jpg\")\n",
    "grayscale_image = np.mean(image, axis=2)\n",
    "plt.hist(grayscale_image.ravel(), bins=256, range=(0, 255), color='gray', alpha=0.7)\n",
    "plt.title(\"Ιστόγραμμα Εικόνας\")\n",
    "plt.xlabel(\"Τιμή Pixel (0-255)\")\n",
    "plt.ylabel(\"Συχνότητα\")\n",
    "plt.show()"
   ]
  },
  {
   "cell_type": "markdown",
   "id": "759994dc",
   "metadata": {},
   "source": [
    "Τα επόμενα τρία διαδοχικά ιστογράμματα δείχνουν στην έγχρωμη εικόνα την κατανομή των pixels στα αντίστοιχα κανάλια."
   ]
  },
  {
   "cell_type": "code",
   "execution_count": null,
   "id": "279666b0",
   "metadata": {},
   "outputs": [],
   "source": [
    "image = plt.imread(\"sail.jpg\")\n",
    "fig, ax = plt.subplots(1, 3, figsize=(15, 5))\n",
    "\n",
    "ax[0].hist(image[:,:,0].ravel(), bins=256, range=(0, 255), color='red', alpha=0.7)\n",
    "ax[0].set_title(\"Κόκκινο Κανάλι\")\n",
    "ax[0].set_xlabel(\"Τιμή Pixel (0-255)\")\n",
    "ax[0].set_ylabel(\"Συχνότητα\")\n",
    "\n",
    "ax[1].hist(image[:,:,1].ravel(), bins=256, range=(0, 255), color='green', alpha=0.7)\n",
    "ax[1].set_title(\"Πράσινο Κανάλι\")\n",
    "ax[1].set_xlabel(\"Τιμή Pixel (0-255)\")\n",
    "ax[1].set_ylabel(\"Συχνότητα\")\n",
    "\n",
    "ax[2].hist(image[:,:,2].ravel(), bins=256, range=(0, 255), color='blue', alpha=0.7)\n",
    "ax[2].set_title(\"Μπλε Κανάλι\")\n",
    "ax[2].set_xlabel(\"Τιμή Pixel (0-255)\")\n",
    "ax[2].set_ylabel(\"Συχνότητα\")\n",
    "\n",
    "plt.tight_layout()\n",
    "plt.show()\n"
   ]
  },
  {
   "cell_type": "markdown",
   "id": "a6a0261d",
   "metadata": {},
   "source": [
    "## Αποκοπή"
   ]
  },
  {
   "cell_type": "markdown",
   "id": "39cd3dcd",
   "metadata": {},
   "source": [
    "Μπορούμε να εξάγουμε ένα μέρος της εικόνας με χρήση τεχνικών **slicing** ή και **masking**."
   ]
  },
  {
   "cell_type": "markdown",
   "id": "b549e1b8",
   "metadata": {},
   "source": [
    "**Παράδειγμα**\n",
    "\n",
    "Θα εξάγουμε το ιστιοφόρο από την εικόνα από τις συντεταγμένες (160,40) μέχρι και (270,350). Προσοχή θα πρέπει να δοθεί ότι πρώτα έχουμε τις κατακόρυφες συντεταγμένες και στη συνέχεια τις οριζόντιες: [y1:y2, x1:x2, :]."
   ]
  },
  {
   "cell_type": "code",
   "execution_count": null,
   "id": "791e764b",
   "metadata": {},
   "outputs": [],
   "source": [
    "sailimage = plt.imread(\"sail.jpg\")\n",
    "#croppedimage = sailimage.crop((160, 40, 270, 350))\n",
    "croppedimage = sailimage[40:350,160:270,:]\n",
    "plt.imshow(croppedimage)\n",
    "plt.show()"
   ]
  },
  {
   "cell_type": "markdown",
   "id": "173236e7",
   "metadata": {},
   "source": [
    "Με την βοήθεια **masking** μπορούμε να αποκλείσουμε τμήματα της εικόνας, ή και να τονίσουμε άλλα."
   ]
  },
  {
   "cell_type": "code",
   "execution_count": null,
   "id": "b6a464f5",
   "metadata": {},
   "outputs": [],
   "source": [
    "sailimage = plt.imread(\"sail.jpg\")\n",
    "\n",
    "height, width, _ = sailimage.shape\n",
    "center = (height // 2, width // 2 -110) \n",
    "radius = 130\n",
    "# Συντεταγμένες όλων των pixels της εικόνας\n",
    "x = np.linspace(0, width-1, width)\n",
    "y = np.linspace(0, height-1, height)\n",
    "X, Y = np.meshgrid(x, y)\n",
    "# True, μέσα στον κύκλο\n",
    "mask = (X - center[1])**2 + (Y - center[0])**2 <= radius**2\n",
    "\n",
    "masked_image = sailimage.copy()\n",
    "# Εκτός του κύκλου, όλα μαύρα\n",
    "masked_image[~mask] = 0\n",
    "\n",
    "plt.imshow(masked_image)\n",
    "plt.show()"
   ]
  },
  {
   "cell_type": "markdown",
   "id": "77047cd9",
   "metadata": {},
   "source": [
    "## Περιστροφή"
   ]
  },
  {
   "cell_type": "markdown",
   "id": "83210fe1",
   "metadata": {},
   "source": [
    "Η `rot90` είναι μια μέθοδος που περιστρέφει πίνακες της NumPy, αντίθετα στην φορά του ρολογιού, και εφόσον και οι εικόνες είναι πίνακες, μπορούν να χρησιμοποιηθούν και για εικόνες."
   ]
  },
  {
   "cell_type": "code",
   "execution_count": null,
   "id": "8ee30f00",
   "metadata": {},
   "outputs": [],
   "source": [
    "a = np.arange(12).reshape(3,4)\n",
    "ra = np.rot90(a)\n",
    "a,ra"
   ]
  },
  {
   "cell_type": "code",
   "execution_count": null,
   "id": "30e7ad93",
   "metadata": {},
   "outputs": [],
   "source": [
    "sailimage = plt.imread(\"sail.jpg\")\n",
    "rotatedimage = np.rot90(sailimage)\n",
    "plt.imshow(rotatedimage)\n",
    "plt.show()"
   ]
  },
  {
   "cell_type": "markdown",
   "id": "09cee1a7",
   "metadata": {},
   "source": [
    "Η δεύτερη παράμετρος, που εξορισμού είναι 1 μπορεί να τεθεί διαφορετικά για να περιστρέψει περισσότερες φορές τον πίνακα, άρα και την εικόνα. "
   ]
  },
  {
   "cell_type": "code",
   "execution_count": null,
   "id": "87280e3f",
   "metadata": {},
   "outputs": [],
   "source": [
    "sailimage = plt.imread(\"sail.jpg\")\n",
    "rotatedimage = np.rot90(sailimage,2)\n",
    "plt.imshow(rotatedimage)\n",
    "plt.show()"
   ]
  },
  {
   "cell_type": "markdown",
   "id": "c412ecbf",
   "metadata": {},
   "source": [
    "Με χρήση της μεθόδου `fliplr` θα επιστραφούν πίνακες και εικόνες συμμετρικές ως προς τον οριζόντιο άξονα. "
   ]
  },
  {
   "cell_type": "code",
   "execution_count": null,
   "id": "61b3c7c5",
   "metadata": {},
   "outputs": [],
   "source": [
    "a = np.arange(12).reshape(3,4)\n",
    "ra = np.rot90(a,2)\n",
    "flr = np.fliplr(a)\n",
    "a,ra,flr"
   ]
  },
  {
   "cell_type": "code",
   "execution_count": null,
   "id": "ece98940",
   "metadata": {},
   "outputs": [],
   "source": [
    "sailimage = plt.imread(\"sail.jpg\")\n",
    "flippedimage = np.fliplr(sailimage)\n",
    "plt.imshow(flippedimage)\n",
    "plt.show()"
   ]
  },
  {
   "cell_type": "markdown",
   "id": "d6f2cdfd",
   "metadata": {},
   "source": [
    "Με την σειρά της η `flipud` θα επιστρέψει συμμετρικές εικόνες ως προς τον y άξονα."
   ]
  },
  {
   "cell_type": "code",
   "execution_count": null,
   "id": "3ab001da",
   "metadata": {},
   "outputs": [],
   "source": [
    "sailimage = plt.imread(\"sail.jpg\")\n",
    "flippedimage = np.flipud(sailimage)\n",
    "plt.imshow(flippedimage)\n",
    "plt.show()"
   ]
  },
  {
   "cell_type": "markdown",
   "id": "823f1de8",
   "metadata": {},
   "source": [
    "# Συνέλιξη, Convolution"
   ]
  },
  {
   "cell_type": "markdown",
   "id": "d93a278b",
   "metadata": {},
   "source": [
    "Η συνέλιξη αποτελεί βασική τεχνική στην επεξεργασία σήματος, εικόνας και την υπολογιστική όραση. Ένας από τους κύριους σκοπούς της συνέλιξης είναι η εξαγωγή χρήσιμων χαρακτηριστικών από τις εικόνες. Εφαρμόζοντας διαφορετικούς πυρήνες, **kernels**, μπορούμε να τονίσουμε συγκεκριμένα μοτίβα, άκρα, υφές ή άλλα χαρακτηριστικά που υπάρχουν στην εικόνα. Αυτά τα χαρακτηριστικά είναι απαραίτητα για εργασίες όπως η ανίχνευση αντικειμένων, η κατηγοριοποίηση, η ταξινόμηση, η τμηματοποίηση κ.ά. Βασική ιδέα της συνέλιξης είναι το \"γλίστρημα\" του **kernel** πάνω από την εικόνα. Κάθε στοιχείο του πολλαπλασιάζεται με το αντίστοιχο στοιχείο στην περιοχή της εικόνας, και στη συνέχεια τα αποτελέσματα αυτών των πολλαπλασιασμών προστίθενται για να παραχθεί το αποτέλεσμα για το κάθε pixel της εξόδου."
   ]
  },
  {
   "cell_type": "markdown",
   "id": "8fdffc19",
   "metadata": {},
   "source": [
    "## Διανύσματα"
   ]
  },
  {
   "cell_type": "markdown",
   "id": "99ee77d1",
   "metadata": {},
   "source": [
    "Η τιμή της ακολουθίας σε κάθε n των ακολουθιών a και b δίνεται από τον τύπο:\n",
    "$$(a * b)[n] = \\sum_{k=0}^{K-1} a[k] \\cdot b[n - k]$$\n",
    "Στην συνέλιξη, και συγκεκριμμένα στην full mode έκδοσή της, θα προκύψει πίνακας μεγέθους $\\text{len}(x) + \\text{len}(h) - 1$."
   ]
  },
  {
   "cell_type": "markdown",
   "id": "f3999f77",
   "metadata": {},
   "source": [
    "**Παράδειγμα**\n",
    "\n",
    "Έστω:\n",
    "\n",
    "- Πυρήνας: $h = [-1,\\ 1,\\ 2]$\n",
    "\n",
    "- Σήμα: $x = [3,\\ 4 ]$\n",
    "\n",
    "Το διάνυσμα που θα προκύψει στο παράδειγμά έχει μέγεθος $2 + 3 - 1 = 4$. Αρχικά, θα αντιστραφεί το σήμα και το κάθε στοιχείο θα υπολογιστεί με τα επόμενα βήματα:\n",
    "\n",
    "- 1ο στοιχείο\n",
    "$$\n",
    "\\begin{array}{cccccc}\n",
    "   &4 & 3 &   \\\\\n",
    "   &  & * &   \\\\\n",
    "   &  &-1 & 1 & 2 & \\\\\n",
    "   &  &-3 & - & - & - &   &\\\\\n",
    "\\end{array}\n",
    "$$\n",
    "\n",
    "- 2ο στοιχείο\n",
    "$$\n",
    "\\begin{array}{cccccc}\n",
    "   &  & 4 & 3 &   &   \\\\\n",
    "   &  & * & * &  &   \\\\\n",
    "   &  &-1 & 1 & 2 & \\\\\n",
    "   &  &-3 &-1 & - & - &   & \\\\\n",
    "\\end{array}\n",
    "$$\n",
    "\n",
    "- 3ο στοιχείο\n",
    "$$\n",
    "\\begin{array}{cccccc}\n",
    "   &  &   & 4 & 3 &   \\\\\n",
    "   &  &   & * & * &   \\\\\n",
    "   &  &-1 & 1 & 2 & \\\\\n",
    "   &  &-3 &-1 &10 & - &   & \\\\\n",
    "\\end{array}\n",
    "$$\n",
    "\n",
    "- 4ο στοιχείο\n",
    "$$\n",
    "\\begin{array}{cccccc}\n",
    "   &  &   &   & 4 & 3 &   \\\\\n",
    "   &  &   &   & * &   \\\\\n",
    "   &  &-1 & 1 & 2 & \\\\\n",
    "   &  &-3 &-1 &10 & 8 &   & \\\\\n",
    "\\end{array}\n",
    "$$\n",
    "\n",
    "Στη συνέχεια η διαδικασία υλοποιείται με την μέθοδο `convolve` της NumPy η οποία δέχεται το σήμα και τον πυρήνα αντίστοιχα και επιστρέφει την συνέλιξη."
   ]
  },
  {
   "cell_type": "code",
   "execution_count": null,
   "id": "d720e1dd",
   "metadata": {},
   "outputs": [],
   "source": [
    "x = np.array([3, 4])\n",
    "h = np.array([-1, 1, 2])\n",
    "np.convolve(x, h)"
   ]
  },
  {
   "cell_type": "markdown",
   "id": "7d48df58",
   "metadata": {},
   "source": [
    "Ο παραπάνω τρόπος αφορά τον εξορισμού τρόπο συνέλιξης ο οποίος θέτοντας 0 όταν ο πίνακας που ολισθαίνει δεν είναι πάνω από τον άλλο. Υπάρχουν και άλλοι τρόποι συνέλιξης όπως ο `same` που δεν αλλάζει το μέγεθος του πίνακα ή ο `valid` που εκτελεί πράξεις μόνο όταν αυτές μπορούν να γίνουν."
   ]
  },
  {
   "cell_type": "code",
   "execution_count": null,
   "id": "55f7ba12",
   "metadata": {},
   "outputs": [],
   "source": [
    "np.convolve(x, h,mode=\"same\"),np.convolve(x, h,mode=\"valid\")"
   ]
  },
  {
   "cell_type": "markdown",
   "id": "29ca06d9",
   "metadata": {},
   "source": [
    "## Πίνακες, εικόνες"
   ]
  },
  {
   "cell_type": "markdown",
   "id": "3c2df515",
   "metadata": {},
   "source": [
    "Στο επόμενο παράδειγμα, ο πυρήνας αποτελεί ένα φίλτρο sobel για ανίχνευση κάθετων ακμών.\n",
    "\n",
    "$$\n",
    "\\begin{bmatrix}\n",
    "-1 &  0 &  1 \\\\\n",
    "-2 &  0 &  2 \\\\\n",
    "-1 &  0 &  1\n",
    "\\end{bmatrix}\n",
    "$$\n",
    "\n",
    "Στην βιβλιοθήκη `NumPy` δεν περιλαμβάνεται κάποια μέθοδος εφαρμογής της συνέλιξης σε 2d πίνακες. Στην συνέχεια θα χρησιμοποιηθεί η `convolve2d` της βιβλιοθήκης `scipy`."
   ]
  },
  {
   "cell_type": "code",
   "execution_count": null,
   "id": "5dedc90e",
   "metadata": {},
   "outputs": [],
   "source": [
    "from scipy.signal import convolve2d\n",
    "sailimage = plt.imread(\"sail.jpg\")\n",
    "flat_image = np.sum(sailimage, axis=2)\n",
    "# Kernel Sobel-X για ανίχνευση οριζόντιων ακμών\n",
    "kernel = np.array([[-1,  0,  1],\n",
    "                   [-2,  0,  2],\n",
    "                   [-1,  0,  1]])\n",
    "edges_x = convolve2d(flat_image, kernel, mode='same')\n",
    "plt.imshow(edges_x)"
   ]
  },
  {
   "cell_type": "markdown",
   "id": "9b732772-7c99-4bd0-87eb-2eba214a55fa",
   "metadata": {},
   "source": [
    "# Μελέτη Περίπτωσης: Ανίχνευση περιγράμματος με εφαρμογή του λαπλασιανού τελεστή"
   ]
  },
  {
   "cell_type": "markdown",
   "id": "169059ea",
   "metadata": {},
   "source": [
    "Ο τελεστής Laplace ορίζεται ως:\n",
    "$$\\nabla ^2 f(x,y) = \\frac{\\partial ^2  f(x,y)}{\\partial x^2} +\\frac{\\partial ^2 f(x,y)}{\\partial y^2}$$\n",
    "\n",
    "Ο τελεστής εφαρμόζεται πάνω σε μια παραγωγίσιμη συνάρτηση, $f(x,y)$ δύο μεταβλητών.\n",
    "\n",
    "Σε διακριτή μορφή ο τελεστής είναι:\n",
    "\n",
    "$$\\Delta f(i,j) = \\frac{f(i+1,j) + f(i-1,j) + f(i,j+1) + f(i,j-1) -4 f(i,j)}{h}$$\n",
    "\n",
    "όπου $f(i,j)$ η τιμή της συνάρτησης στα σημεία $(i,j)$ ενός ορθογώνιου πλέγματος οριζόντιας και κατακόρυφης απόστασης $h$.\n",
    "\n",
    "Ο διακριτός τελεστής μπορεί να εφαρμοστεί για την ανίχνευση περιγραμμάτων σε μια ψηφιακή εικόνα. Η συνάρτηση $f$ περιγράφει τη φωτεινότητα του εικονοστοιχείου (pixel) $i,j$.\n",
    "\n",
    "Στην εφαρμογή που ακολουθεί εφαρμόζουμε τον τελεστή πάνω στα στοιχεία ενός πίνακα numpy ο οποίος περιέχει τις φωτεινότητες των εικονοστοιχείων μιας εικόνας. "
   ]
  },
  {
   "cell_type": "markdown",
   "id": "3ab77076",
   "metadata": {},
   "source": [
    "Η υλοποίηση του τελεστή στη numpy δίνεται ως εξής: "
   ]
  },
  {
   "cell_type": "code",
   "execution_count": null,
   "id": "043e1c9e-3c67-4fed-a6f7-3777fc4cc342",
   "metadata": {},
   "outputs": [],
   "source": [
    "def laplacian(array):\n",
    "    n = array.shape[0] # Πρώτη διάσταση (γραμμές)\n",
    "    m = array.shape[1] # Δεύτερη διάσταση (στήλες)\n",
    "\n",
    "    d = np.zeros((n,m))\n",
    "    for i in range(1,n-1):\n",
    "        for j in range(1,m-1):\n",
    "            d[i,j] =  array[i-1,j] + array[i+1,j] + array[i, j-1]+array[i,j+1] - 4. * array[i,j]\n",
    "            \n",
    "    return d * .25\n"
   ]
  },
  {
   "cell_type": "markdown",
   "id": "3b8838b1",
   "metadata": {},
   "source": [
    "Μια πιο αποδοτική υλοποίηση με χρήση της τεχνικής του vectorization:"
   ]
  },
  {
   "cell_type": "code",
   "execution_count": null,
   "id": "eeec040a",
   "metadata": {},
   "outputs": [],
   "source": [
    "def laplacian_v(array):\n",
    "    n = array.shape[0]\n",
    "    m = array.shape[1]\n",
    "    d = array[:n-2, 1:m-1] + array[2:, 1:m-1] + array[1:n-1, :m-2] + array[1:n-1, 2:] - 4. * array[1:n-1, 1:m-1]\n",
    "    d *= .25\n",
    "    return d\n"
   ]
  },
  {
   "cell_type": "markdown",
   "id": "8ec6fe27",
   "metadata": {},
   "source": [
    "Η φωτεινότητα των στοιχείων της εικόνας προκύπτει αθροίζοντας τις τιμές των τριών καναλιών των χρωμάτων με κατάλληλη κλήση της συνάρτησης `sum()`. Εδώ η `sum()` αθροίζει τα στοιχεία του πίνακα img κατά την τρίτη διάσταση η οποία περιγράφει το κανάλι (axis=2)."
   ]
  },
  {
   "cell_type": "code",
   "execution_count": null,
   "id": "6cd63120",
   "metadata": {},
   "outputs": [],
   "source": [
    "sailimage = plt.imread(\"sail.jpg\")\n",
    "flat_image = np.sum(sailimage, axis=2)\n",
    "plt.imshow(flat_image)\n",
    "plt.axis('Off')\n",
    "plt.show()"
   ]
  },
  {
   "cell_type": "code",
   "execution_count": null,
   "id": "e9c69fd5",
   "metadata": {},
   "outputs": [],
   "source": [
    "ii = laplacian_v(flat_image)\n",
    "plt.imshow(ii)\n",
    "plt.axis('Off')\n",
    "plt.show()"
   ]
  },
  {
   "cell_type": "markdown",
   "id": "0dd350c1",
   "metadata": {},
   "source": [
    "Μπορούμε να πάρουμε μια πιο έντονη απεικόνιση, επιλέγοντας από τον πίνακα τις τιμές με φωτεινότητα πάνω από ένα όριο (την τιμή 30):"
   ]
  },
  {
   "cell_type": "code",
   "execution_count": null,
   "id": "6dd11398",
   "metadata": {},
   "outputs": [],
   "source": [
    "plt.imshow(ii > 30)\n",
    "plt.axis('Off')\n",
    "plt.show()"
   ]
  },
  {
   "cell_type": "code",
   "execution_count": null,
   "id": "dbc2dd70",
   "metadata": {},
   "outputs": [],
   "source": []
  }
 ],
 "metadata": {
  "kernelspec": {
   "display_name": "Python 3 (ipykernel)",
   "language": "python",
   "name": "python3"
  },
  "language_info": {
   "codemirror_mode": {
    "name": "ipython",
    "version": 3
   },
   "file_extension": ".py",
   "mimetype": "text/x-python",
   "name": "python",
   "nbconvert_exporter": "python",
   "pygments_lexer": "ipython3",
   "version": "3.11.4"
  }
 },
 "nbformat": 4,
 "nbformat_minor": 5
}
