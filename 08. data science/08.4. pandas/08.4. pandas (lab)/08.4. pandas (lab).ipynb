{
 "cells": [
  {
   "cell_type": "markdown",
   "id": "0a55eb86",
   "metadata": {},
   "source": [
    "# Στατιστικά Euro"
   ]
  },
  {
   "cell_type": "markdown",
   "id": "50dfcdc1",
   "metadata": {},
   "source": [
    "Για την επόμενη εργασία θα χρειαστείτε τις βιβλιοθήκες pandas και την `pyplot` της `matplotlib`."
   ]
  },
  {
   "cell_type": "code",
   "execution_count": null,
   "id": "e63194ae",
   "metadata": {},
   "outputs": [],
   "source": []
  },
  {
   "cell_type": "markdown",
   "id": "ebac33ab",
   "metadata": {},
   "source": [
    "Δίνεται το CSV αρχείο «euro2020.csv» από τον ιστότοπο https://data.world/ που περιέχει δεδομένα για όλους τους αγώνες του Euro 2024. Διαβάστε το με την βοήθεια της βιβλιοθήκης `pandas` και τη μέθοδο `read_csv`."
   ]
  },
  {
   "cell_type": "code",
   "execution_count": null,
   "id": "80daa6c6",
   "metadata": {},
   "outputs": [],
   "source": []
  },
  {
   "cell_type": "markdown",
   "id": "4b019c11",
   "metadata": {},
   "source": [
    "Κάθε εγγραφή περιέχει και έναν αγώνα με διάφορα στοιχεία. Βρείτε με την βοήθεια της ιδιότητας `shape` το σχήμα των δεδομένων. Πόσοι αγώνες με πόσα στοιχεία για τον καθένα."
   ]
  },
  {
   "cell_type": "code",
   "execution_count": null,
   "id": "a9105db0",
   "metadata": {},
   "outputs": [],
   "source": []
  },
  {
   "cell_type": "markdown",
   "id": "050794bf",
   "metadata": {},
   "source": [
    "Η ιδιότητα `columns` θα μας δώσει συγκεκριμένα τα ονόματα της κάθε στήλης που στην Ελληνική τους μετάφραση είναι:\n",
    "(['ΟνομαΟμάδαςΕντός', 'ΟνομαΟμάδαςΕκτός', 'ΗμερομηνίαΚαιΏρα (ώρα κεντρικής Ευρώπης', 'Κωδικός Αγώνα', 'ΌνομαΓύρου', 'ΗμέραΑγώνα', 'Συνεδρία', 'ΛεπτάΑγώνα', 'Τραυματισμός', 'Αριθμός Φάσεων', 'Φάση', 'Σκορ Εντός', 'Σκορ Εκτός', 'Κατάσταση Αγώνα', 'Κωδικός Σταδίου', 'Διαιτητής', 'Βοηθός Διαιτητής', 'Υγρασία', 'Θερμοκρασία', 'Ταχύτητα Ανέμου'])"
   ]
  },
  {
   "cell_type": "code",
   "execution_count": null,
   "id": "7f000a55",
   "metadata": {},
   "outputs": [],
   "source": []
  },
  {
   "cell_type": "markdown",
   "id": "05459593",
   "metadata": {},
   "source": [
    "Με την βοήθεια της μεθόδου `head()` επίσης μπορούμε να πάρουμε μία εικόνα των δεδομένων μας με τις 5 πρώτες εγγραφές."
   ]
  },
  {
   "cell_type": "code",
   "execution_count": null,
   "id": "e4d09a1f",
   "metadata": {},
   "outputs": [],
   "source": []
  },
  {
   "cell_type": "markdown",
   "id": "d87e109f",
   "metadata": {},
   "source": [
    "Στην ανάλυσή μας θα πρέπει να απαντήσουμε στις επόμενες ερωτήσεις."
   ]
  },
  {
   "cell_type": "markdown",
   "id": "2b0acb41",
   "metadata": {},
   "source": [
    "1.\tΠοια ήταν η μέση θερμοκρασία κατά τη διάρκεια των αγώνων;"
   ]
  },
  {
   "cell_type": "code",
   "execution_count": null,
   "id": "9da13862",
   "metadata": {},
   "outputs": [],
   "source": []
  },
  {
   "cell_type": "markdown",
   "id": "08422ce5",
   "metadata": {},
   "source": [
    "2.\tΠοιο ήταν το μέγιστο επίπεδο υγρασίας και σε ποιον αγώνα σημειώθηκε;"
   ]
  },
  {
   "cell_type": "code",
   "execution_count": null,
   "id": "d473901c",
   "metadata": {},
   "outputs": [],
   "source": []
  },
  {
   "cell_type": "markdown",
   "id": "d80971b9",
   "metadata": {},
   "source": [
    "3.\tΠοιο ήταν το σκορ του τελικού μεταξύ ποιων ομάδων; Σημειώνεται ότι ο τελικός είναι πάντα ο τελευταίος αγώνας μίας μεγάλης διοργάνωσης."
   ]
  },
  {
   "cell_type": "code",
   "execution_count": null,
   "id": "c9ca2e7f",
   "metadata": {},
   "outputs": [],
   "source": []
  },
  {
   "cell_type": "markdown",
   "id": "2e159293",
   "metadata": {},
   "source": [
    "4.\tΠοιος διαιτητής διεύθυνε τον αγώνα μεταξύ Belgium και Russia;"
   ]
  },
  {
   "cell_type": "code",
   "execution_count": null,
   "id": "17ed9fd4",
   "metadata": {},
   "outputs": [],
   "source": []
  },
  {
   "cell_type": "markdown",
   "id": "173ce261",
   "metadata": {},
   "source": [
    "5.\tΠόσοι αγώνες διεξήχθησαν στις 12/06/2021;"
   ]
  },
  {
   "cell_type": "code",
   "execution_count": null,
   "id": "33b6981a",
   "metadata": {},
   "outputs": [],
   "source": []
  },
  {
   "cell_type": "markdown",
   "id": "3930f5dc",
   "metadata": {},
   "source": [
    "6.\tΔημιουργήστε ένα plot στο οποίο θα απεικονίζεται η υγρασία και η ταχύτητα του ανέμου κατά την διάρκεια καθενός από τους 51 αγώνες."
   ]
  },
  {
   "cell_type": "code",
   "execution_count": null,
   "id": "77aef567",
   "metadata": {},
   "outputs": [],
   "source": []
  },
  {
   "cell_type": "markdown",
   "id": "5f9c3f37",
   "metadata": {},
   "source": [
    "7. Εμφανίστε μοναδικά ονόματα των γύρων RoundName του τουρνουά. Στην συνέχεια εμφανίστε τον αριθμό των αγώνων που έγιναν σε κάθε γύρο. Μπορείτε, κάνοντας χρήση της reindex και του αποτελέσματος του πρώτου ερωτήματος, να εμφανίσετε τους αγώνες ανά σειρά εμφάνισης στο αρχείο."
   ]
  },
  {
   "cell_type": "code",
   "execution_count": null,
   "id": "4a774824",
   "metadata": {},
   "outputs": [],
   "source": []
  },
  {
   "cell_type": "markdown",
   "id": "c88c2727",
   "metadata": {},
   "source": [
    "8.\tΔημιουργήστε ένα ιστόγραμμα με τον αριθμό των αγώνων για κάθε αριθμό γκολ που σημειώθηκαν σε αυτόν."
   ]
  },
  {
   "cell_type": "code",
   "execution_count": null,
   "id": "607e6663",
   "metadata": {},
   "outputs": [],
   "source": []
  },
  {
   "cell_type": "markdown",
   "id": "3c773851",
   "metadata": {},
   "source": [
    "9. Δημιουργήστε ένα γράφημα πίτας με τις συνολικές νίκες, ισοπαλίες και ήττες των τυπικά γηπεδούχων."
   ]
  },
  {
   "cell_type": "code",
   "execution_count": null,
   "id": "6507b878",
   "metadata": {},
   "outputs": [],
   "source": []
  }
 ],
 "metadata": {
  "kernelspec": {
   "display_name": "Python 3 (ipykernel)",
   "language": "python",
   "name": "python3"
  },
  "language_info": {
   "codemirror_mode": {
    "name": "ipython",
    "version": 3
   },
   "file_extension": ".py",
   "mimetype": "text/x-python",
   "name": "python",
   "nbconvert_exporter": "python",
   "pygments_lexer": "ipython3",
   "version": "3.11.4"
  }
 },
 "nbformat": 4,
 "nbformat_minor": 5
}
