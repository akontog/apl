{
 "cells": [
  {
   "cell_type": "markdown",
   "id": "781a0a2f-3c09-4060-a3ba-1a20632b3d01",
   "metadata": {},
   "source": [
    "<div style=\"padding:20px 0px 20px 0px; text-align:center; font-weight: bold; font-size:150%; background-color: #cce6ff\">08.4. <br>\n",
    " Pandas\n",
    "</div>"
   ]
  },
  {
   "cell_type": "markdown",
   "id": "2d824f59-c487-40d9-bde5-2bd639c5ef0e",
   "metadata": {},
   "source": [
    "Μια από τις πιο δημοφιλείς βιβλιοθήκες της Python για ανάλυση δεδομένων είναι η Pandas. Είναι ανοιχτού λογισμικού και βασίζεται στην NumPy. Επιτρέπει στους προγραμματιστές της Python να δουλεύουν με δεδομένα 'υπολογιστικού φύλλου'. Η Pandas εισάγει δύο νέους τύπους δεδομένων, το `DataFrame` και το `Series`. Ενώ ο πρώτος μπορεί να παραστήσει όλα τα δεδομένα, ο δεύτερος τύπος αναπαριστά μία στήλη του `DataFrame`."
   ]
  },
  {
   "cell_type": "markdown",
   "id": "b6623bee",
   "metadata": {},
   "source": [
    "Ο πρότυπος τρόπος εισαγωγής της `pandas` είναι με χρήση του alias `pd`."
   ]
  },
  {
   "cell_type": "code",
   "execution_count": null,
   "id": "0b687240",
   "metadata": {},
   "outputs": [],
   "source": [
    "import pandas as pd\n",
    "# Άλλες βιβλιοθήκες που θα χρησιμοποιηθούν\n",
    "import matplotlib.pyplot as plt\n",
    "import numpy as np"
   ]
  },
  {
   "cell_type": "markdown",
   "id": "1bedadbb-d0cd-4639-9eb6-f19e93c3498d",
   "metadata": {},
   "source": [
    "# DataFrames"
   ]
  },
  {
   "cell_type": "markdown",
   "id": "26733390-8646-4fd7-bc5c-5781feccb119",
   "metadata": {},
   "source": [
    "## Δημιουργία"
   ]
  },
  {
   "cell_type": "markdown",
   "id": "0c56994a",
   "metadata": {},
   "source": [
    "### Λίστες, Λεξικά"
   ]
  },
  {
   "cell_type": "markdown",
   "id": "50f80f26",
   "metadata": {},
   "source": [
    "Μπορούμε να δημιουργήσουμε `DataFrame` από λίστες python που περιέχονται σε λεξικό. Το κλειδί του λεξικού αποτελεί το όνομα της στήλης και τα στοιχεία της λίστας γίνονται στοιχεία της στήλης. Θα πρέπει οι λίστες να έχουν ίδιο μέγεθος το οποίο θα είναι και ο αριθμός των γραμμών στο `DataFrame`."
   ]
  },
  {
   "cell_type": "code",
   "execution_count": null,
   "id": "2a455148",
   "metadata": {},
   "outputs": [],
   "source": [
    "# Οι λίστες με τα δεδομένα\n",
    "titles = [\"Ανάλυση Πολλών Μεταβλητών\", \"Γραμμική Άλγεβρα\", \"Διαφορικές Εξισώσεις\", \"Θεωρία Πιθανοτήτων\"]\n",
    "authors = [\"Γιώργος Καταργύρης\", \"Σταμάτης Χαρίτος\", \"Νίκος Χριστοδούλου\", \"Δημήτρης Ανδρέου\"]\n",
    "years = [2020, 2018, 2019, 2017]\n",
    "categories = [\"Ανάλυση\", \"Άλγεβρα\", \"Διαφορικές Εξισώσεις\", \"Πιθανότητες\"]\n",
    "pages = [400, 350, 320, 280]\n",
    "prices = [25.99, 20.5, 22.75, 18.99]\n",
    "stocks = [10, 15, 5, 20]\n",
    "# Δημιουργία του DataFrame\n",
    "df = pd.DataFrame({\n",
    "    'title': titles,\n",
    "    'author': authors,\n",
    "    'year': years,\n",
    "    'category': categories,\n",
    "    'pages': pages,\n",
    "    'price': prices,\n",
    "    'stock': stocks\n",
    "})\n",
    "df"
   ]
  },
  {
   "cell_type": "markdown",
   "id": "fe4da333",
   "metadata": {},
   "source": [
    "Ένα `DataFrame` μπορεί να δημιουργηθεί και από λεξικό που με τη σειρά του περιέχει λεξικά."
   ]
  },
  {
   "cell_type": "code",
   "execution_count": null,
   "id": "95b2a49c",
   "metadata": {},
   "outputs": [],
   "source": [
    "equations = {\n",
    "    'Equation 1': {'x': 2, 'y': 3, 'Result': 10},\n",
    "    'Equation 2': {'x': 4, 'y': -2, 'Result': 5}\n",
    "}\n",
    "\n",
    "equationsdf = pd.DataFrame.from_dict(equations, orient='index')\n",
    "equationsdf"
   ]
  },
  {
   "cell_type": "markdown",
   "id": "f47f87b9",
   "metadata": {},
   "source": [
    "Αν κάποιο όνομα κλειδιού δεν περιλαμβάνεται ή έχει διαφορετικό όνομα τότε τα αντίστοιχα στοιχεία στο `DataFrame` που δεν περιλαμβάνουν το όνομα θα έχουν ως περιεχόμενο `NaN`. Υπάρχει ο κίνδυνος να δημιουργηθούν πολλές NaN τιμές αν τα ονόματα κλειδιών των λεξικών είναι αναντίστοιχα."
   ]
  },
  {
   "cell_type": "code",
   "execution_count": null,
   "id": "a223d612",
   "metadata": {},
   "outputs": [],
   "source": [
    "equationsNan = {\n",
    "    'Equation 1': {'x': 2, 'z': 3, 'result': 10},\n",
    "    'Equation 2': {'x': 4, 'y': -2, 'Result': 5}\n",
    "}\n",
    "equationsnandf = pd.DataFrame.from_dict(equationsNan, orient='index')\n",
    "equationsnandf"
   ]
  },
  {
   "cell_type": "markdown",
   "id": "b3478510",
   "metadata": {},
   "source": [
    "### JSON"
   ]
  },
  {
   "cell_type": "markdown",
   "id": "71a6007d",
   "metadata": {},
   "source": [
    "Ένα `DataFrame` μπορεί επίσης να δημιουργηθεί από ένα κατάλληλα διαμορφωμένο αρχείο json.\n",
    "\n",
    "Μορφή αρχείου:\n",
    "```\n",
    "[\n",
    "    {\n",
    "      \"title\": \"Ανάλυση Πολλών Μεταβλητών\",\n",
    "      \"author\": \"Γιώργος Καταργύρης\",\n",
    "      ... \n",
    "```"
   ]
  },
  {
   "cell_type": "code",
   "execution_count": null,
   "id": "6fdd0499",
   "metadata": {},
   "outputs": [],
   "source": [
    "booksdf = pd.read_json('books.json')\n",
    "booksdf"
   ]
  },
  {
   "cell_type": "markdown",
   "id": "d5d97b84",
   "metadata": {},
   "source": [
    "### CSV"
   ]
  },
  {
   "cell_type": "markdown",
   "id": "48155dda",
   "metadata": {},
   "source": [
    "Ένα `DataFrame` μπορεί να δημιουργηθεί και από ένα αρχείο CSV όπως το επόμενο.\n",
    "\n",
    "Μορφή αρχείου:\n",
    "```\n",
    "ank,CCA3,Country/Territory,Capital,Continent,2022 Population,2020 Population,2015 Population,2010 Population,2000 Population,1990 Population,1980 Population,1970 Population,Area (km²),Density (per km²),Growth Rate,World Population Percentage\n",
    "36,AFG,Afghanistan,Kabul,Asia,41128771,38972230,33753499,28189672,19542982,10694796,12486631,10752971,652230,63.0587,1.0257,0.52\n",
    "```\n",
    "\n",
    " Πηγή αρχείου: https://www.kaggle.com/datasets/iamsouravbanerjee/world-population-dataset/data <br>\n",
    " "
   ]
  },
  {
   "cell_type": "code",
   "execution_count": null,
   "id": "cba9f47f",
   "metadata": {},
   "outputs": [],
   "source": [
    "countriesdf = pd.read_csv(\"world_population.csv\")\n",
    "countriesdf"
   ]
  },
  {
   "cell_type": "markdown",
   "id": "b2c7d941",
   "metadata": {},
   "source": [
    "## Μέθοδοι / Ιδιότητες"
   ]
  },
  {
   "cell_type": "markdown",
   "id": "fbf37a87",
   "metadata": {},
   "source": [
    "### head, tail"
   ]
  },
  {
   "cell_type": "markdown",
   "id": "89ee5cdc",
   "metadata": {},
   "source": [
    "Συχνά τα δεδομένα που θέλουμε να επεξεργαστούμε περιέχουν πολλές εγγραφές. Θέλουμε να αποκτήσουμε μία εικόνα τους αλλά όχι να τα δούμε όλα. Οι μέθοδοι του `DataFrame` `head` και `tail` μας επιτρέπουν να δούμε ένα μέρος τους. Εξορισμού εμφανίζονται 5 γραμμές εκτός αν θέσουμε κάποια, διαφορετική από 5, παράμετρο."
   ]
  },
  {
   "cell_type": "code",
   "execution_count": null,
   "id": "b3c5f332",
   "metadata": {},
   "outputs": [],
   "source": [
    "countriesdf.head()"
   ]
  },
  {
   "cell_type": "markdown",
   "id": "428356cb",
   "metadata": {},
   "source": [
    "Αντί να εμφανίσουμε τις, εξορισμού, 5 τελευταίες γραμμές, θα εμφανίσουμε τις 3 τελευταίες"
   ]
  },
  {
   "cell_type": "code",
   "execution_count": null,
   "id": "f687c26e",
   "metadata": {},
   "outputs": [],
   "source": [
    "countriesdf.tail(3)"
   ]
  },
  {
   "cell_type": "markdown",
   "id": "458b9100",
   "metadata": {},
   "source": [
    "### shape, dtypes, columns"
   ]
  },
  {
   "cell_type": "markdown",
   "id": "d770f357",
   "metadata": {},
   "source": [
    "Με την ιδιότητα `shape` μπορούμε να δούμε το σχήμα του `DataFrame`. Το σχήμα επιστρέφεται με τη μορφή ενός `tuple` όπου περιλαμβάνονται οι γραμμές και στήλες του."
   ]
  },
  {
   "cell_type": "markdown",
   "id": "cc741ca4",
   "metadata": {},
   "source": [
    "**Παράδειγμα**\n",
    "\n",
    "Θα επιστραφούν ο αριθμός των χωρών και των χαρακτηριστικών τους όπως έχουν αποθηκευτεί στο CSV και μετατραπεί σε DataFrame."
   ]
  },
  {
   "cell_type": "code",
   "execution_count": null,
   "id": "f37200fe",
   "metadata": {},
   "outputs": [],
   "source": [
    "countriesdf.shape"
   ]
  },
  {
   "cell_type": "markdown",
   "id": "60a53164",
   "metadata": {},
   "source": [
    "Οι τύποι δεδομένων κάθε στήλης δίνονται από την ιδιότητα `dtypes` ενώ η `columns` μας δίνει τα ονόματα των στηλών."
   ]
  },
  {
   "cell_type": "code",
   "execution_count": null,
   "id": "67d9713c",
   "metadata": {},
   "outputs": [],
   "source": [
    "print(countriesdf.dtypes)\n",
    "print(countriesdf.columns)"
   ]
  },
  {
   "cell_type": "markdown",
   "id": "c6694d02",
   "metadata": {},
   "source": [
    "### info, describe, sample"
   ]
  },
  {
   "cell_type": "markdown",
   "id": "66e33888",
   "metadata": {},
   "source": [
    "Αναλυτικότερες πληροφορίες για το `DataFrame` μας, ουσιαστικά όλα τα παραπάνω, μπορούμε να πάρουμε μέσω της μεθόδου `info()`."
   ]
  },
  {
   "cell_type": "code",
   "execution_count": null,
   "id": "077d3154",
   "metadata": {
    "scrolled": true
   },
   "outputs": [],
   "source": [
    "countriesdf.info()"
   ]
  },
  {
   "cell_type": "markdown",
   "id": "80ffa827",
   "metadata": {},
   "source": [
    "Η μέθοδος `describe` εμφανίζει διάφορα περιγραφικά στατιστικά από τις στήλες που έχουν αριθμητικά δεδομένα."
   ]
  },
  {
   "cell_type": "code",
   "execution_count": null,
   "id": "061bf741",
   "metadata": {},
   "outputs": [],
   "source": [
    "countriesdf.describe()"
   ]
  },
  {
   "cell_type": "markdown",
   "id": "9a16b889",
   "metadata": {},
   "source": [
    "Για δειγματολειπτικό έλεγχο σε datasets μπορεί να χρησιμοποιηθεί η `sample` η οποία επιλέγει τυχαία γραμμές από το `DataFrame` μας."
   ]
  },
  {
   "cell_type": "code",
   "execution_count": null,
   "id": "f84900e1",
   "metadata": {},
   "outputs": [],
   "source": [
    "sampledf = countriesdf.sample(10)\n",
    "sampledf"
   ]
  },
  {
   "cell_type": "markdown",
   "id": "3acbd026",
   "metadata": {},
   "source": [
    "## Επιλογή στηλών"
   ]
  },
  {
   "cell_type": "markdown",
   "id": "7fd36fa0",
   "metadata": {},
   "source": [
    "Με έναν αριθμό εργαλείων μπορούμε να επιλέξουμε έναν αριθμό στηλών ή γραμμών από το συνολικό `DataFrame`. "
   ]
  },
  {
   "cell_type": "markdown",
   "id": "2978c876",
   "metadata": {},
   "source": [
    "Με το όνομα των στηλών που θέλουμε να περιλαμβάνεται στην επιλογή μας μπορούμε να επιλέξουμε συγκεκριμμένες στήλες παίρνοντας ένα νέο `DataFrame`."
   ]
  },
  {
   "cell_type": "code",
   "execution_count": null,
   "id": "0ca47ad4",
   "metadata": {},
   "outputs": [],
   "source": [
    "recent_population_area = countriesdf[['2022 Population','Area (km²)']]\n",
    "recent_population_area.head()"
   ]
  },
  {
   "cell_type": "markdown",
   "id": "73b1f924",
   "metadata": {},
   "source": [
    "Επιλέγοντας μόνο μία στήλη, ουσιαστικά, δεν έχουμε πλέον ένα νέο `DataFrame` αλλά ένα αντικείμενο τύπου `Series`. Μπορούμε να χρησιμοποιήσουμε και τον συμβολισμό τελείας όπως φαίνεται στο παράδειγμα"
   ]
  },
  {
   "cell_type": "code",
   "execution_count": null,
   "id": "0ef72867",
   "metadata": {},
   "outputs": [],
   "source": [
    "#continents = countriesdf['Continent']\n",
    "continents = countriesdf.Continent\n",
    "type(continents)"
   ]
  },
  {
   "cell_type": "markdown",
   "id": "da54ee2d",
   "metadata": {},
   "source": [
    "Εαν θέλουμε μόνο μία στήλη αλλά επιθυμούμε αντικείμενο τύπου `DataFrame` θα πρέπει να χρησιμοποιήσουμε διπλή αγκύλη."
   ]
  },
  {
   "cell_type": "code",
   "execution_count": null,
   "id": "221c0d4b",
   "metadata": {},
   "outputs": [],
   "source": [
    "continentsdf = countriesdf[['Continent']]\n",
    "type(continentsdf)"
   ]
  },
  {
   "cell_type": "markdown",
   "id": "d7a0581b",
   "metadata": {},
   "source": [
    "### Στήλες και συναρτήσεις"
   ]
  },
  {
   "cell_type": "markdown",
   "id": "1f7905cf",
   "metadata": {},
   "source": [
    "Επιλέγοντας μόνο μια στήλη και συνδυάζοντας με συνάρτηση μπορούμε να πάρουμε μεγέθη όπως ο συνολικός πληθυσμός της γης."
   ]
  },
  {
   "cell_type": "code",
   "execution_count": null,
   "id": "e18bee20",
   "metadata": {},
   "outputs": [],
   "source": [
    "countriesdf['2022 Population'].sum()"
   ]
  },
  {
   "cell_type": "markdown",
   "id": "d69a7a6c",
   "metadata": {},
   "source": [
    "**Παράδειγμα**\n",
    "\n",
    "Επιλέγοντας την στήλη _'Growth Rate'_ μπορούμε να δούμε ότι οι περισσότερες χώρες έχουν ρυθμό ανάπτυξης του πληθυσμού από 1.00 έως 1.04. Για να απεικονιστεί το γεγονός αυτό, μπορεί να γίνει χρήση ενός ιστογράμματος, μέθοδος `hist`."
   ]
  },
  {
   "cell_type": "code",
   "execution_count": null,
   "id": "070aff6d",
   "metadata": {},
   "outputs": [],
   "source": [
    "countriesdf['Growth Rate'].plot.hist()"
   ]
  },
  {
   "cell_type": "markdown",
   "id": "07697b2d",
   "metadata": {},
   "source": [
    "## Επιλογή γραμμών"
   ]
  },
  {
   "cell_type": "markdown",
   "id": "48e8a19f",
   "metadata": {},
   "source": [
    "**Παράδειγμα**\n",
    "\n",
    "Στο επόμενο παράδειγμα παίρνουμε μόνο τις γραμμές όπου η στήλη _continent_ είναι ίση με _'Europe'_"
   ]
  },
  {
   "cell_type": "code",
   "execution_count": null,
   "id": "0dcc84fe",
   "metadata": {},
   "outputs": [],
   "source": [
    "europeanCountries = countriesdf[countriesdf.Continent=='Europe']\n",
    "europeanCountries.head()"
   ]
  },
  {
   "cell_type": "markdown",
   "id": "d4296c3e",
   "metadata": {},
   "source": [
    "Έχει ένα ενδιαφέρον να απεικονίσουμε τον ρυθμό ανάπτυξης στην Ευρώπη σε αντιδιαστολή με την Ασία ή την Αφρική."
   ]
  },
  {
   "cell_type": "code",
   "execution_count": null,
   "id": "69bb4912",
   "metadata": {},
   "outputs": [],
   "source": [
    "# Δημιουργούμε πλέγμα 4 γραφημάτων με 2 γραμμές (nrows) και στήλες (ncols) \n",
    "fig, axes = plt.subplots(nrows=2, ncols=2, figsize=(12, 10))\n",
    "# Εμφάνιση πάνω αριστερά ax=axes[0, 0]\n",
    "countriesdf[countriesdf['Continent'] == 'Africa']['Growth Rate'].plot.hist(ax=axes[0, 0], title='Africa')\n",
    "# Εμφάνιση πάνω δεξιά ax=axes[0, 1]\n",
    "countriesdf[countriesdf['Continent'] == 'Asia']['Growth Rate'].plot.hist(ax=axes[0, 1], title='Asia')\n",
    "# Εμφάνιση κάτω αριστερά ax=axes[1, 0]\n",
    "countriesdf[countriesdf['Continent'] == 'Europe']['Growth Rate'].plot.hist(ax=axes[1, 0], title='Europe')\n",
    "# Εμφάνιση κάτω δεξιά ax=axes[1, 1]\n",
    "countriesdf[countriesdf['Continent'] == 'North America']['Growth Rate'].plot.hist(ax=axes[1, 1], title='North America')\n",
    "\n",
    "plt.show()"
   ]
  },
  {
   "cell_type": "markdown",
   "id": "2e06bd91",
   "metadata": {},
   "source": [
    "    Μπορούμε να κάνουμε και χρήση πολύπλοκων συνθηκών κάνοντας χρήση τελεστών όπως η and, `&` και η or, `|`."
   ]
  },
  {
   "cell_type": "markdown",
   "id": "7a98f017",
   "metadata": {},
   "source": [
    "**Παράδειγμα**\n",
    "\n",
    "Χώρες που ανήκουν στην Ήπειρο Ασία και επιπλέον είχαν πληθυσμό το 2022 μεγαλύτερο από 100.000.000."
   ]
  },
  {
   "cell_type": "code",
   "execution_count": null,
   "id": "9fb0d5c8",
   "metadata": {},
   "outputs": [],
   "source": [
    "asianBigPopCountries = countriesdf[(countriesdf.Continent=='Asia') & (countriesdf['2022 Population']>100_000_000)]\n",
    "asianBigPopCountries"
   ]
  },
  {
   "cell_type": "markdown",
   "id": "17c23fd9",
   "metadata": {},
   "source": [
    "**Παράδειγμα**\n",
    "\n",
    "Χώρες που ανήκουν στην Ήπειρο Ωκεανία και επιπλέον έχουν μείωση πληθυσμού από το 2000 ή πληθυσμό μικρότερο των 10.000."
   ]
  },
  {
   "cell_type": "code",
   "execution_count": null,
   "id": "417921eb",
   "metadata": {
    "scrolled": true
   },
   "outputs": [],
   "source": [
    "oceaniaSmallOrDecreasePop = countriesdf[(countriesdf.Continent=='Oceania') & \n",
    "                                        ((countriesdf['2022 Population']<countriesdf['2000 Population']) |\n",
    "                                         (countriesdf['2022 Population']<10_000))]\n",
    "#oceaniaSmallOrDecreasePop = countriesdf[(countriesdf['2022 Population']<countriesdf['2000 Population'])]\n",
    "oceaniaSmallOrDecreasePop"
   ]
  },
  {
   "cell_type": "markdown",
   "id": "e4a989ea",
   "metadata": {},
   "source": [
    "**Παράδειγμα**\n",
    "\n",
    "Συνδυάζοντας συνθήκες και συναρτήσεις μπορούμε, για παράδειγμα, να μετρήσουμε πόσες είναι μεγάλες πληθυσμιακά χώρες (>50.000.000) στην Ευρώπη ή την Ασία (ή και στα δύο)"
   ]
  },
  {
   "cell_type": "code",
   "execution_count": null,
   "id": "9ab73ec3",
   "metadata": {},
   "outputs": [],
   "source": [
    "print('Europe (>50000000):',countriesdf[(countriesdf.Continent=='Europe') & \n",
    "                  (countriesdf['2022 Population']>50_000_000)]['Country/Territory'].count())\n",
    "print('Asis (>50000000):',countriesdf[(countriesdf.Continent=='Asia') & \n",
    "                  (countriesdf['2022 Population']>50_000_000)]['Country/Territory'].count())\n",
    "print('Asia + Europe (>50000000):',countriesdf[((countriesdf.Continent=='Asia') | (countriesdf.Continent=='Europe')) & \n",
    "                  (countriesdf['2022 Population']>50_000_000)]['Country/Territory'].count())"
   ]
  },
  {
   "cell_type": "markdown",
   "id": "87531139",
   "metadata": {},
   "source": [
    "Θέλουμε να δούμε που ανήκει η Ρωσία σύμφωνα με τα δεδομένα μας."
   ]
  },
  {
   "cell_type": "code",
   "execution_count": null,
   "id": "2be82833",
   "metadata": {},
   "outputs": [],
   "source": [
    "countriesdf[countriesdf['Country/Territory']=='Russia']"
   ]
  },
  {
   "cell_type": "markdown",
   "id": "41e64069",
   "metadata": {},
   "source": [
    "### nlargest, nsmallest"
   ]
  },
  {
   "cell_type": "markdown",
   "id": "767b2848",
   "metadata": {},
   "source": [
    "Η `nlargest` αποτελεί μέθοδο του `DataFrame` που επιστρέφει τις εγγραφές με τις μεγαλύτερες τιμές. Αντίστοιχα η `nsmallest` επιστρέφει τις μικρότερες."
   ]
  },
  {
   "cell_type": "markdown",
   "id": "a9a65d74",
   "metadata": {},
   "source": [
    "**Παράδειγμα**\n",
    "\n",
    "Θα γίνει επιλογή των δέκα πιο πυκνοκατοικημένων και των πέντε μικρότερων σε έκταση χωρών"
   ]
  },
  {
   "cell_type": "code",
   "execution_count": null,
   "id": "f4a792cb",
   "metadata": {},
   "outputs": [],
   "source": [
    "top10_density = countriesdf.nlargest(10, 'Density (per km²)')\n",
    "top10_density[['Country/Territory','Density (per km²)']]"
   ]
  },
  {
   "cell_type": "code",
   "execution_count": null,
   "id": "8cbb8ea1",
   "metadata": {},
   "outputs": [],
   "source": [
    "bottom5_area_countries = countriesdf.nsmallest(5, 'Area (km²)')\n",
    "bottom5_area_countries[['Country/Territory','Area (km²)']]"
   ]
  },
  {
   "cell_type": "markdown",
   "id": "2e9b96f0",
   "metadata": {},
   "source": [
    "**Παράδειγμα**\n",
    "\n",
    "Ενδιαφέρουσα μέτρηση αποτελεί η πορεία των μεγαλύτερων πληθυσμιακά χωρών στην πορεία των τελευταίων ετών. Για την καλύτερη απεικόνιση θα χρησιμοποιηθεί γράφημα."
   ]
  },
  {
   "cell_type": "markdown",
   "id": "ae4c2e6f",
   "metadata": {},
   "source": [
    "Αρχικά θα γίνει επιλογή των 10 μεγαλύτερων χωρών με βάση τον πληθυσμό του 2022."
   ]
  },
  {
   "cell_type": "code",
   "execution_count": null,
   "id": "06983935",
   "metadata": {},
   "outputs": [],
   "source": [
    "top10_countries = countriesdf.nlargest(10, '2022 Population')\n",
    "top10_countries"
   ]
  },
  {
   "cell_type": "markdown",
   "id": "fac97dae",
   "metadata": {},
   "source": [
    "Επιλέγουμε μόνο τις στήλες που μας ενδιαφέρουν και αφορούν πληθυσμό χωρών ανά έτος. Οι στήλες αυτές περιλαμβάνουν την λέξη Population"
   ]
  },
  {
   "cell_type": "code",
   "execution_count": null,
   "id": "9e0e7643",
   "metadata": {},
   "outputs": [],
   "source": [
    "population_columns = top10_countries.filter(like='Population').columns\n",
    "population_columns"
   ]
  },
  {
   "cell_type": "markdown",
   "id": "a7ca3044",
   "metadata": {},
   "source": [
    "Αντιστρέφουμε τις στήλες (από το 1970 έως το 2022) και αφαίρούμε την στήλη 'World Population Percentage' που περιέχει την λέξη _Population_ αλλά δεν την θέλουμε στα δεδομένα μας."
   ]
  },
  {
   "cell_type": "code",
   "execution_count": null,
   "id": "803bec0e",
   "metadata": {},
   "outputs": [],
   "source": [
    "population_columns = population_columns[-2::-1]\n",
    "population_columns"
   ]
  },
  {
   "cell_type": "markdown",
   "id": "0099e111",
   "metadata": {},
   "source": [
    "Θα δημιουργηθούν ετικέτες που περιέχουν μόνο το κάθε έτος και όχι όλο το όνομα της στήλης."
   ]
  },
  {
   "cell_type": "code",
   "execution_count": null,
   "id": "81ed484c",
   "metadata": {},
   "outputs": [],
   "source": [
    "labels = [col[0:4] for col in population_columns];labels"
   ]
  },
  {
   "cell_type": "markdown",
   "id": "0cfd5435",
   "metadata": {},
   "source": [
    "Μετά την παραπάνω προεργασία θα δημιουργηθεί το γράφημα γραμμής για κάθε χώρα"
   ]
  },
  {
   "cell_type": "code",
   "execution_count": null,
   "id": "3a939b69",
   "metadata": {},
   "outputs": [],
   "source": [
    "plt.figure(figsize=(12, 8))\n",
    "for index, row in top10_countries.iterrows():\n",
    "    plt.plot(labels, row[population_columns], label=row['Country/Territory'])\n",
    "plt.xlabel('Έτος')\n",
    "plt.ylabel('Πληθυσμός')\n",
    "plt.title('Εξέλιξη του πληθυσμού των 10 μεγαλύτερων χωρών από το 1970 έως το 2022 ')\n",
    "plt.legend()\n",
    "plt.grid(True)\n",
    "plt.show()"
   ]
  },
  {
   "cell_type": "markdown",
   "id": "f43130cf",
   "metadata": {},
   "source": [
    "### loc, iloc"
   ]
  },
  {
   "cell_type": "markdown",
   "id": "49f394ac",
   "metadata": {},
   "source": [
    "Δύο πολύ χρήσιμες μέθοδοι των `DataFrame` που χρησιμοποιούνται για την επιλογή γραμμών και στηλών είναι οι `loc` και `iloc`. Η `loc` χρησιμοποιείται για επιλογή μέσω ετικετών ενώ η `iloc` μέσω δεικτών."
   ]
  },
  {
   "cell_type": "markdown",
   "id": "51295d47",
   "metadata": {},
   "source": [
    "**Παράδειγμα**\n",
    "\n",
    "Θα εμφανίσουμε:\n",
    "\n",
    "- ευρωπαικές χώρες με ρυθμό ανάπτυξης μεγαλύτερο από 1.02\n",
    "\n",
    "- όλες τις πρωτεύουσες αλφαβητικά\n",
    "\n",
    "- όλα τα πληθυσμιακά στοιχεία της χώρας με το μεγαλύτερο πληθυσμό (countriesdf['2022 Population'].idxmax())"
   ]
  },
  {
   "cell_type": "code",
   "execution_count": null,
   "id": "863060ab",
   "metadata": {},
   "outputs": [],
   "source": [
    "countriesdf.loc[(countriesdf['Continent']=='Europe') & (countriesdf['Growth Rate']>1.02)]"
   ]
  },
  {
   "cell_type": "code",
   "execution_count": null,
   "id": "536d8edb",
   "metadata": {},
   "outputs": [],
   "source": [
    "countriesdf.iloc[:,3].sort_values()"
   ]
  },
  {
   "cell_type": "code",
   "execution_count": null,
   "id": "afa9a376",
   "metadata": {},
   "outputs": [],
   "source": [
    "countriesdf.iloc[countriesdf['2022 Population'].idxmax(),5:12]"
   ]
  },
  {
   "cell_type": "markdown",
   "id": "b4eef0c1",
   "metadata": {},
   "source": [
    "### tilde ~"
   ]
  },
  {
   "cell_type": "markdown",
   "id": "6b56131b",
   "metadata": {},
   "source": [
    "Ο τελεστής `~` ορίζει άρνηση. "
   ]
  },
  {
   "cell_type": "markdown",
   "id": "e0ec1e6c",
   "metadata": {},
   "source": [
    "**Παράδειγμα**\n",
    "\n",
    "Έτσι αν, για παράδειγμα, δεν θέλουμε η χώρα να περιέχει το γράμμα 'A' στην συντομογραφία της, θα χρησιμοποιήσουμε τον τελεστή σε συνδυασμό με την `contains` της `str`."
   ]
  },
  {
   "cell_type": "code",
   "execution_count": null,
   "id": "81811491",
   "metadata": {},
   "outputs": [],
   "source": [
    "noacountriesdf = countriesdf[~countriesdf['CCA3'].str.contains('A')]\n",
    "noacountriesdf.shape"
   ]
  },
  {
   "cell_type": "markdown",
   "id": "a38ff1f6",
   "metadata": {},
   "source": [
    "### isin"
   ]
  },
  {
   "cell_type": "markdown",
   "id": "cd321e78",
   "metadata": {},
   "source": [
    "Η μέθοδος `isin()` του `DataFrame` χρησιμοποιείται για να επιλέξουμε γραμμές του `DataFrame` με βάση τις τιμές σε ένα συγκεκριμένο πεδίο. Μπορούμε να χρησιμοποιήσουμε την `isin()` για να εφαρμόσουμε φίλτρα στα δεδομένα μας. "
   ]
  },
  {
   "cell_type": "markdown",
   "id": "dd9040d5",
   "metadata": {},
   "source": [
    "**Παράδειγμα**\n",
    "\n",
    "Στο επόμενο παράδειγμα θέλουμε να πάρουμε τις χώρες της Νότιας και Βόρειας Αμερικής αλλά δεν θέλουμε να περιλαμβάνονται στις μετρήσεις μας οι 5 μικρότερες πληθυσμιακά χώρες. Συνδυάζεται η χρήση `isin` και `~`."
   ]
  },
  {
   "cell_type": "code",
   "execution_count": null,
   "id": "b48bda20",
   "metadata": {},
   "outputs": [],
   "source": [
    "americadf = countriesdf[countriesdf['Continent'].isin(['South America', 'North America'])]\n",
    "americadf.shape"
   ]
  },
  {
   "cell_type": "code",
   "execution_count": null,
   "id": "7738ef93",
   "metadata": {},
   "outputs": [],
   "source": [
    "smallest5 = americadf.sort_values(by='2022 Population', ascending=True).head(5)\n",
    "restcounttries = americadf[~americadf['Country/Territory'].isin(smallest5['Country/Territory'])]\n",
    "restcounttries.shape"
   ]
  },
  {
   "cell_type": "markdown",
   "id": "7b3ec9e6",
   "metadata": {},
   "source": [
    "## for"
   ]
  },
  {
   "cell_type": "markdown",
   "id": "ee7d3c64",
   "metadata": {},
   "source": [
    "Έχουμε δει τις δομές επανάληψης `for` να εφαρμόζονται σε συλλογές δεδομένων όπως οι λίστες και οι συμβολοσειρές αλλά και οι πίνακες NumPy. Οι δομές `for` μπορούν με παρόμοιο τρόπο να εφαρμοστούν και σε ένα `DataFrame`."
   ]
  },
  {
   "cell_type": "markdown",
   "id": "b821e878",
   "metadata": {},
   "source": [
    "Παρατηρούμε, όμως, ότι η απλή εφαρμογή της `for` στις πρώτες 3 εγγραφές δεν θα προσπελάσει τις εγγραφές, όπως ίσως αναμέναμε, αλλά τα ονόματα των στηλών."
   ]
  },
  {
   "cell_type": "code",
   "execution_count": null,
   "id": "26dc25fe",
   "metadata": {},
   "outputs": [],
   "source": [
    "for v in countriesdf.head(3):\n",
    "    print(v)"
   ]
  },
  {
   "cell_type": "markdown",
   "id": "45d845aa",
   "metadata": {},
   "source": [
    "Θα πρέπει ρητά να αναφέρουμε ότι η επανάληψη θα πρέπει να γίνει στις γραμμές του `DataFrame` κάνοντας χρήση της μεθόδου `iterrows` η οποία επιστρέφει `tuple` με την ετικέτα, εδώ αριθμό γραμμής, και τα δεδομένα της γραμμής."
   ]
  },
  {
   "cell_type": "code",
   "execution_count": null,
   "id": "b963f40a",
   "metadata": {},
   "outputs": [],
   "source": [
    "for label,row in countriesdf.head(3).iterrows():\n",
    "    print(label,\":\",row)"
   ]
  },
  {
   "cell_type": "markdown",
   "id": "faa8bf08",
   "metadata": {},
   "source": [
    "Μπορούμε να καθορίσουμε ποιο ακριβώς στοιχείο θέλουμε επιλέγοντας την στήλη, ή τις στήλες."
   ]
  },
  {
   "cell_type": "code",
   "execution_count": null,
   "id": "22fa8ede",
   "metadata": {},
   "outputs": [],
   "source": [
    "for label,row in countriesdf.head().iterrows():\n",
    "    print(label,\":\",row.Capital)"
   ]
  },
  {
   "cell_type": "markdown",
   "id": "ebbbe131",
   "metadata": {},
   "source": [
    "## Συνδυασμός Δεδομένων"
   ]
  },
  {
   "cell_type": "markdown",
   "id": "5c27aac2",
   "metadata": {},
   "source": [
    "### Ομαδοποίηση"
   ]
  },
  {
   "cell_type": "markdown",
   "id": "587f6945",
   "metadata": {},
   "source": [
    "Η μέθοδος `groupby` χρησιμοποιείται για την εφαρμογή συνάρτησης σε ομαδοποίηση των δεδομένων."
   ]
  },
  {
   "cell_type": "markdown",
   "id": "92690755",
   "metadata": {},
   "source": [
    "**Παράδειγμα**\n",
    "\n",
    "Θα εμφανιστεί το άθροισμα της έκτασης των χωρών ανά Ήπειρο. Στη συνέχεια γράφημα πίτας με ποσοστιαία απεικόνιση των συνολικών εκτάσεων."
   ]
  },
  {
   "cell_type": "code",
   "execution_count": null,
   "id": "7fcfbd7c",
   "metadata": {},
   "outputs": [],
   "source": [
    "cont = countriesdf.groupby(['Continent'])[['Area (km²)']].sum();cont"
   ]
  },
  {
   "cell_type": "code",
   "execution_count": null,
   "id": "5a04c963",
   "metadata": {},
   "outputs": [],
   "source": [
    "cont.plot(kind='pie', y='Area (km²)', figsize=(8, 8), autopct='%1.1f%%')\n",
    "plt.title('Συνολική Έκταση χωρών ανά Ήπειρο')\n",
    "plt.show()"
   ]
  },
  {
   "cell_type": "markdown",
   "id": "2825743f",
   "metadata": {},
   "source": [
    "**Παράδειγμα**\n",
    "\n",
    "Ακολουθεί μέσος όρος πληθυσμιακής πυκνότητας ανά Ήπειρο σε πίνακα και αντίστοιχο ραβδόγραμμα."
   ]
  },
  {
   "cell_type": "code",
   "execution_count": null,
   "id": "746023fc",
   "metadata": {},
   "outputs": [],
   "source": [
    "countries_density = countriesdf.groupby(['Continent'])[['Density (per km²)']].mean();countries_density"
   ]
  },
  {
   "cell_type": "code",
   "execution_count": null,
   "id": "b4d454d3",
   "metadata": {
    "scrolled": true
   },
   "outputs": [],
   "source": [
    "countries_density.plot(kind='bar', figsize=(10, 6))\n",
    "plt.title('Μέση Πυκνότητα Χωρών ανά Ηπείρο')\n",
    "plt.xlabel('Ηπείρος')\n",
    "plt.ylabel('Μέση Πυκνότητα (κάτοικοι/τ.χλμ)')\n",
    "plt.xticks(rotation=45)\n",
    "plt.show()"
   ]
  },
  {
   "cell_type": "markdown",
   "id": "dcb249f4",
   "metadata": {},
   "source": [
    "### Merge"
   ]
  },
  {
   "cell_type": "markdown",
   "id": "e03066dc",
   "metadata": {},
   "source": [
    "Η `merge()` αποτελεί την ένωση μεταξύ δύο DataFrames. Συνδυάζει γραμμές από δύο πίνακες με βάση μια κοινή στήλη."
   ]
  },
  {
   "cell_type": "markdown",
   "id": "2e0d3521",
   "metadata": {},
   "source": [
    "**Παράδειγμα**\n",
    "\n",
    "Αρχικά θα ομαδοποιηθούν οι χώρες κατά ήπειρο και θα βρεθεί η χώρα με τον ελάχιστο πληθυσμό το 2022 για κάθε μία. Στη συνέχεια θα γίνει συγχώνευση με όλα τα δεδομένα χωρών εφόσον η countries_min_pop περιλαμβάνει μόνο την ήπειρο στην οποία ανήκει η χώρα και τον πληθυσμό της το 2022."
   ]
  },
  {
   "cell_type": "code",
   "execution_count": null,
   "id": "dcc45f11",
   "metadata": {},
   "outputs": [],
   "source": [
    "countries_min_pop = countriesdf.groupby(['Continent'])[['2022 Population']].min()\n",
    "merged_df = pd.merge(countries_min_pop, countriesdf, on='2022 Population')\n",
    "merged_df[['Continent', 'Country/Territory']]"
   ]
  },
  {
   "cell_type": "markdown",
   "id": "64d18434",
   "metadata": {},
   "source": [
    "Υπάρχουν τεσσάρων ειδών συγχωνεύσεις όπως αυτές μπορούν να εφαρμοστούν μέσω της παραμέτρου της `merge`, `how`.\n",
    "\n",
    "- `inner`: Διατηρεί μόνο τις κοινές εγγραφές, δηλαδή id που υπάρχουν και στα δύο DataFrames.\n",
    "\n",
    "- `outer`: Επιστρέφει όλες τις εγγραφές και από τους δύο πίνακες. Όπου δεν υπάρχει αντιστοίχιση, εμφανίζεται NaN.\n",
    "\n",
    "- `left`: Διατηρεί όλα τα στοιχεία του πρώτου πίνακα, left, και συνδέει από τον δεύτερο όπου είναι δυνατό.\n",
    "\n",
    "- `right`: Διατηρεί όλα τα στοιχεία του δεύτερου πίνακα, right, και συνδέει από τον πρώτο όπου είναι δυνατό."
   ]
  },
  {
   "cell_type": "markdown",
   "id": "ad950484",
   "metadata": {},
   "source": [
    "**Παράδειγμα**\n",
    "\n",
    "Έχουμε δύο DataFrames όπως αυτά προκύπτουν από τα λεξικά _students_ και _grades_. Το λεξικό _students_ περιλαμβάνει λίστα με _id_ φοιτητών καθώς και τα ονόματά τους. Το λεξικό _grades_ id φοιτητών με κλειδί _student_id_ και βαθμούς σε κάποιο μάθημα, κλειδί _grade_. Θα εφαρμοστούν και τα τέσσερα είδη συγχωνεύσεων."
   ]
  },
  {
   "cell_type": "code",
   "execution_count": null,
   "id": "03a40eaa",
   "metadata": {},
   "outputs": [],
   "source": [
    "students = pd.DataFrame({\n",
    "    'id': [1, 2, 3],\n",
    "    'name': ['Alan', 'John', 'Donald']\n",
    "})\n",
    "\n",
    "grades = pd.DataFrame({\n",
    "    'student_id': [2, 3, 4],\n",
    "    'grade': [8, 9, 7]\n",
    "})"
   ]
  },
  {
   "cell_type": "markdown",
   "id": "2ad6025c",
   "metadata": {},
   "source": [
    "Η εξορισμού συγχώνευση αν δεν τεθεί διαφορετικά είναι η `inner`. Επειδή οι στήλες στις οποίες θέλουμε να συγχωνεύσουμε τα δεδομένα έχουν διαφορετικό όνομα θα πρέπει να τις θέσουμε με τις παραμέτρους `left_on`, `right_on`. Θα επιστραφούν οι εγγραφές με κοινά id και στους δύο πίνακες."
   ]
  },
  {
   "cell_type": "code",
   "execution_count": null,
   "id": "96d8f232",
   "metadata": {},
   "outputs": [],
   "source": [
    "pd.merge(students, grades, left_on='id', right_on='student_id', how='inner')"
   ]
  },
  {
   "cell_type": "markdown",
   "id": "d4d505bc",
   "metadata": {},
   "source": [
    "Η `outer` θα επιστρέψει όλες τις εγγραφές των δύο πινάκων. Στις περιπτώσεις που τα id δεν αντιστοιχούν οι τιμές θα είναι `NaN`."
   ]
  },
  {
   "cell_type": "code",
   "execution_count": null,
   "id": "69b34d78",
   "metadata": {},
   "outputs": [],
   "source": [
    "pd.merge(students, grades, left_on='id', right_on='student_id', how='outer')"
   ]
  },
  {
   "cell_type": "markdown",
   "id": "cdf3639b",
   "metadata": {},
   "source": [
    "Στην συνέχεια εφαρμόζεται η `left`. Θα διατηρηθούν όλα τα στοιχεία του αριστερού πίνακα. Όπου υπάρχουν στοιχεία στον δεύτερο πίνακα θα κρατηθούν. Διαφορετικά, οι τιμές θα είναι `NaN`."
   ]
  },
  {
   "cell_type": "code",
   "execution_count": null,
   "id": "99f7877d",
   "metadata": {},
   "outputs": [],
   "source": [
    "pd.merge(students, grades, left_on='id', right_on='student_id', how='left')"
   ]
  },
  {
   "cell_type": "markdown",
   "id": "4af5ff70",
   "metadata": {},
   "source": [
    "Αντίστροφα, στην `right` θα κρατηθούν όλες οι εγγραφές του δεξιού πίνακα."
   ]
  },
  {
   "cell_type": "code",
   "execution_count": null,
   "id": "473c30d5",
   "metadata": {},
   "outputs": [],
   "source": [
    "pd.merge(students, grades, left_on='id', right_on='student_id', how='right')"
   ]
  },
  {
   "cell_type": "markdown",
   "id": "c903b9cf",
   "metadata": {},
   "source": [
    "## Προσαρμογή Δεδομένων"
   ]
  },
  {
   "cell_type": "markdown",
   "id": "3a7e7392",
   "metadata": {},
   "source": [
    "### Ταξινόμηση"
   ]
  },
  {
   "cell_type": "markdown",
   "id": "80cfa9f9",
   "metadata": {},
   "source": [
    "Μπορούμε να ταξινομήσουμε ένα `DataFrame` ως προς όποιο χαρακτηριστικό θέλουμε. "
   ]
  },
  {
   "cell_type": "markdown",
   "id": "f2a5a109",
   "metadata": {},
   "source": [
    "**Παράδειγμα**\n",
    "\n",
    "Στο επόμενο παράδειγμα θα επιλέξουμε τις πρώτες 10 χώρες ως προς τον πληθυσμό τους το 2022. Στην συνέχεια θα επιλέξουμε τις 5 μικρότερες, `ascending=True`, ως προς την έκταση. Θα δημιουργήσουμε και bar chart που θα απεικονίζει τον πληθυσμό."
   ]
  },
  {
   "cell_type": "code",
   "execution_count": null,
   "id": "3748c417",
   "metadata": {},
   "outputs": [],
   "source": [
    "top10countries = countriesdf.sort_values(by=['2022 Population'], ascending=False).head(10)\n",
    "top10countries"
   ]
  },
  {
   "cell_type": "code",
   "execution_count": null,
   "id": "a5f6f7cb",
   "metadata": {},
   "outputs": [],
   "source": [
    "plt.figure(figsize=(10,6))\n",
    "plt.bar(top10countries['Country/Territory'], top10countries['2022 Population'], color='blue')\n",
    "plt.xlabel('Χώρα')\n",
    "plt.ylabel('Πληθυσμός το 2022')\n",
    "plt.title('Πληθυσμοί των 10 Πρώτων Χωρών το 2022')\n",
    "plt.xticks(rotation=45, ha='right')\n",
    "plt.tight_layout()\n",
    "plt.show()"
   ]
  },
  {
   "cell_type": "code",
   "execution_count": null,
   "id": "cdca8872",
   "metadata": {
    "scrolled": false
   },
   "outputs": [],
   "source": [
    "smallest5countries = countriesdf.sort_values(by=['Area (km²)'], ascending=True).head()\n",
    "smallest5countries"
   ]
  },
  {
   "cell_type": "markdown",
   "id": "8e33b237",
   "metadata": {},
   "source": [
    "### NaN, κενές τιμές, missing values "
   ]
  },
  {
   "cell_type": "markdown",
   "id": "427e6782",
   "metadata": {},
   "source": [
    "Θα δημιουργήσουμε ένα νέο `DataFrame` το οποίο θα μας βοηθήσει να εφαρμόσουμε διάφορες μεθόδους επεξεργασίας του. Θα παρατηρήσουμε ότι περιλαμβάνει και άγνωστες τιμές, κάτι πολύ συχνό στην ανάλυση δεδομένων."
   ]
  },
  {
   "cell_type": "code",
   "execution_count": null,
   "id": "6cdf4bba",
   "metadata": {},
   "outputs": [],
   "source": [
    "data = {\n",
    "    'Name': ['Alan Turing', 'Grace Hopper', 'Ada Lovelace', 'Donald Knuth', 'Tim Berners-Lee', \n",
    "             'Linus Torvalds', 'Dennis Ritchie', 'John von Neumann', 'Barbara Liskov', 'Margaret Hamilton', None],\n",
    "    'Age': [41, 85, None, 83, 68, 53, None, 53, 32, 36, 46],\n",
    "    'Salary': [70_000, 45_000, None, 120_000, 110_000, None, 185_000, 98_000, 102_000, 115_000, 55_000]\n",
    "}\n",
    "df = pd.DataFrame(data)\n",
    "df"
   ]
  },
  {
   "cell_type": "markdown",
   "id": "cea24dd0",
   "metadata": {},
   "source": [
    "Η τιμή NaN, συντομογραφία του \"Not a Number\" χρησιμοποιείται για να δηλώσει ελλιπείς ή μη έγκυρες αριθμητικές τιμές. Είναι αριθμός, float, αλλά δεν ισούται με κανέναν άλλο αριθμό, ούτε με τον εαυτό του."
   ]
  },
  {
   "cell_type": "code",
   "execution_count": null,
   "id": "9192eb6b",
   "metadata": {},
   "outputs": [],
   "source": [
    "df.loc[2, 'Age'],df.loc[5, 'Salary'],df.loc[2, 'Age']==df.loc[5, 'Salary'],type(df.loc[2, 'Age'])"
   ]
  },
  {
   "cell_type": "markdown",
   "id": "04b3e6b9",
   "metadata": {},
   "source": [
    "Η `isnull`, ή η ισοδύναμή της `isna()`, ελέγχουν ένα `DataFrame` για NaN ή None τιμές."
   ]
  },
  {
   "cell_type": "code",
   "execution_count": null,
   "id": "e0e4cb63",
   "metadata": {},
   "outputs": [],
   "source": [
    "df.isnull()"
   ]
  },
  {
   "cell_type": "markdown",
   "id": "1f0b7098",
   "metadata": {},
   "source": [
    "Με την βοήθεια της `sum` μπορούμε να μετρήσουμε και τον ακριβή αριθμό τους."
   ]
  },
  {
   "cell_type": "code",
   "execution_count": null,
   "id": "5f790f40",
   "metadata": {},
   "outputs": [],
   "source": [
    "df.isnull().sum()"
   ]
  },
  {
   "cell_type": "markdown",
   "id": "669499f3",
   "metadata": {},
   "source": [
    "Συχνά, οι κενές τιμές προκαλούν προβλήματα σε υπολογισμούς και διαγράμματα. Θα πρέπει, λοιπόν, να τις διαχειριστούμε. Τρόποι διαχείρισης μπορεί για παράδειγμα να είναι:\n",
    "\n",
    "    - Αντικατάσταση της κενής τιμής με τον μέσο όρο των υπόλοιπων τιμών.\n",
    "    \n",
    "    - Αντικατάσταση με 'Unknown'.\n",
    "    \n",
    "    - Αφαίρεση όλων των σειρών που περιλαμβάνουν κενές τιμές."
   ]
  },
  {
   "cell_type": "code",
   "execution_count": null,
   "id": "ea8a2d51",
   "metadata": {},
   "outputs": [],
   "source": [
    "df['Age'].fillna(df['Age'].mean(), inplace=True);df"
   ]
  },
  {
   "cell_type": "markdown",
   "id": "64751f9c",
   "metadata": {},
   "source": []
  },
  {
   "cell_type": "code",
   "execution_count": null,
   "id": "e35000a3",
   "metadata": {},
   "outputs": [],
   "source": [
    "df['Name'].fillna('Unknown', inplace=True);df"
   ]
  },
  {
   "cell_type": "markdown",
   "id": "d8054eba",
   "metadata": {},
   "source": []
  },
  {
   "cell_type": "code",
   "execution_count": null,
   "id": "9d184e6c",
   "metadata": {},
   "outputs": [],
   "source": [
    "df = df.dropna();df"
   ]
  },
  {
   "cell_type": "markdown",
   "id": "20f2e55d",
   "metadata": {},
   "source": [
    "### Προσαρμογή στηλών"
   ]
  },
  {
   "cell_type": "markdown",
   "id": "7dbb63f9",
   "metadata": {},
   "source": [
    "Παρατηρούμε ότι οι ηλικίες είναι τύπου `float`, κάτι πολλές φορές όχι και τόσο βολικό. Στην περίπτωσή μας, λόγω του ότι υπήρχαν τιμές NaN οι οποίες είναι float όλη η στήλη μετατράπηκε αυτόματα σε `float`. Αλλάζουμε τον τύπο της στήλης με την `astype`."
   ]
  },
  {
   "cell_type": "code",
   "execution_count": null,
   "id": "ff20c0ee",
   "metadata": {},
   "outputs": [],
   "source": [
    "df['Age'] = df['Age'].astype(int);df.head()"
   ]
  },
  {
   "cell_type": "markdown",
   "id": "dcbf990f",
   "metadata": {},
   "source": [
    "Μπορούμε να εφαρμόσουμε μια συνάρτηση σε μία στήλη με την μέθοδο `apply`. "
   ]
  },
  {
   "cell_type": "markdown",
   "id": "0dd54535",
   "metadata": {},
   "source": [
    "**Παράδειγμα**\n",
    "\n",
    "Πέρασε μια χρονιά και θέλουμε να μεγαλώσουμε τις ηλικίες όλων των υπαλλήλων μας."
   ]
  },
  {
   "cell_type": "code",
   "execution_count": null,
   "id": "06581166",
   "metadata": {},
   "outputs": [],
   "source": [
    "df['Age'] = df['Age'].apply(lambda x: x + 1);df.head()"
   ]
  },
  {
   "cell_type": "markdown",
   "id": "a6a08cff",
   "metadata": {},
   "source": [
    "Η παραπάνω, απλή, αλλαγή μπορεί να γίνει και απλά με τον τελεστή `+`."
   ]
  },
  {
   "cell_type": "code",
   "execution_count": null,
   "id": "56087e29",
   "metadata": {},
   "outputs": [],
   "source": [
    "df['Age'] = df['Age']+1;df.head()"
   ]
  },
  {
   "cell_type": "markdown",
   "id": "9824d5f4",
   "metadata": {},
   "source": [
    "Με την μέθοδο loc, στην οποία καθορίζουμε τις γραμμές στις οποίες θα εφαρμοστούν οι αλλαγές, αποφεύγουμε και προειδοποιήσεις. "
   ]
  },
  {
   "cell_type": "code",
   "execution_count": null,
   "id": "63d30745",
   "metadata": {},
   "outputs": [],
   "source": [
    "df.loc[:, 'Age'] = df['Age'] + 1;df.head()"
   ]
  },
  {
   "cell_type": "markdown",
   "id": "8f2be108",
   "metadata": {},
   "source": [
    "## Προσθήκη στήλης"
   ]
  },
  {
   "cell_type": "markdown",
   "id": "5b295598",
   "metadata": {},
   "source": [
    "Η στήλη _Salary_ θα μπορούσε να μετατραπεί σε κατηγορική, για παράδειγμα ο μισθός να τεθεί ως χαμηλός, _low_, όταν είναι από 0 έως 100.000 ή υψηλός, _high_ όταν είναι από 100.000 και πάνω.  Αυτό μπορεί να γίνει και σε νέα στήλη, όπως εδώ στην στήλη _SalaryLevel_."
   ]
  },
  {
   "cell_type": "code",
   "execution_count": null,
   "id": "74a4d19a",
   "metadata": {},
   "outputs": [],
   "source": [
    "df.loc[:, 'SalaryLevel'] = df['Salary'].apply(lambda x: 'High' if x > 100_000 else 'Low');df.head()"
   ]
  },
  {
   "cell_type": "markdown",
   "id": "7016c6f7",
   "metadata": {},
   "source": [
    "Η μέθοδος `cut` κατηγοριοποιεί αριθμητικές τιμές σε διαστήματα, `bins`. Παρατηρούμε ότι με n bins θα δημιουργηθούν n-1 κατηγορίες."
   ]
  },
  {
   "cell_type": "code",
   "execution_count": null,
   "id": "437501a4",
   "metadata": {},
   "outputs": [],
   "source": [
    "bins = [0, 50_000, 100_000, 150_000, float('inf')]\n",
    "labels = ['Low', 'Medium', 'High', 'Very High']\n",
    "df.loc[:, 'SalaryMoreLevels'] = pd.cut(df['Salary'], bins=bins, labels=labels)\n",
    "df.head()"
   ]
  },
  {
   "cell_type": "markdown",
   "id": "d89a453d",
   "metadata": {},
   "source": [
    "Εναλλακτικά με `loc` και με χρήση συνθηκών:"
   ]
  },
  {
   "cell_type": "code",
   "execution_count": null,
   "id": "a7c90578",
   "metadata": {},
   "outputs": [],
   "source": [
    "df.loc[df['Age'] < 50, 'AgeLevel'] = 'Young'\n",
    "df.loc[df['Age'] >= 50, 'AgeLevel'] = 'Old'\n",
    "df.head()"
   ]
  },
  {
   "cell_type": "markdown",
   "id": "0b5dcb04",
   "metadata": {},
   "source": [
    "# Series"
   ]
  },
  {
   "cell_type": "markdown",
   "id": "e1b2e61f",
   "metadata": {},
   "source": [
    "Είδαμε και παραπάνω ότι όταν επιλέγουμε μια στήλη από ένα `DataFrame` το αποτέλεσμα είναι ένα αντικείμενο τύπου `Series`. Με το αντικείμενο αυτό, η βιβλιοθήκη pandas παρέχει τον τρόπο παράστασης δεδομένων μιας διάστασης Χρησιμοποιώντας δύο παράλληλους πίνακες. Ένας κρατά τα δεδομένα και ένας χρησιμοποιείται για την δεικτοδότησή τους."
   ]
  },
  {
   "cell_type": "markdown",
   "id": "fc48e0b3",
   "metadata": {},
   "source": [
    "## Δημιουργία "
   ]
  },
  {
   "cell_type": "markdown",
   "id": "ea4fae97",
   "metadata": {},
   "source": [
    "Ένα αντικείμενο τύπου `Series` μπορεί να δημιουργηθεί από μια λίστα. Αν δεν παρέχονται δείκτες η δεικτοδότηση γίνεται αυτόματα ξεκινώντας από το 0."
   ]
  },
  {
   "cell_type": "code",
   "execution_count": 2,
   "id": "a4d7f148",
   "metadata": {},
   "outputs": [
    {
     "data": {
      "text/plain": [
       "0    42\n",
       "1    -3\n",
       "2     2\n",
       "3     8\n",
       "dtype: int64"
      ]
     },
     "execution_count": 2,
     "metadata": {},
     "output_type": "execute_result"
    }
   ],
   "source": [
    "s1 = pd.Series([42,-3,2,8]);s1"
   ]
  },
  {
   "cell_type": "markdown",
   "id": "bc01ae1e",
   "metadata": {},
   "source": [
    "Διαφορετικά με χρήση της παραμέτρου `index` μπορουν να τεθούν διαφορετικοί δείκτες."
   ]
  },
  {
   "cell_type": "code",
   "execution_count": null,
   "id": "076ba939",
   "metadata": {},
   "outputs": [],
   "source": [
    "s2 = pd.Series([42,-3,2,8], index = ['a','b','c','d']);s2"
   ]
  },
  {
   "cell_type": "markdown",
   "id": "a306d56f",
   "metadata": {},
   "source": [
    "Το παραπάνω μπορεί να επιτευχθεί και με τη χρήση λεξικού. Τα κλειδιά του λεξικού αποτελούν τους δείκτες και οι τιμές του τα δεδομένα."
   ]
  },
  {
   "cell_type": "code",
   "execution_count": null,
   "id": "2473cd2a",
   "metadata": {},
   "outputs": [],
   "source": [
    "s3 = pd.Series({'a':42,'b':-3,'c':2, 'd':8});s3"
   ]
  },
  {
   "cell_type": "markdown",
   "id": "68b43efe",
   "metadata": {},
   "source": [
    "**Παράδειγμα**\n",
    "\n",
    "Θα δημιουργηθεί ένα `Series` από λεξικό με δείκτες ονόματα πόλεων και δεδομένα τους πληθυσμούς τους."
   ]
  },
  {
   "cell_type": "code",
   "execution_count": 6,
   "id": "898b3402",
   "metadata": {},
   "outputs": [
    {
     "data": {
      "text/plain": [
       "Tokyo            37435191\n",
       "Delhi            29399141\n",
       "Shanghai         26317104\n",
       "São Paulo        21846507\n",
       "Mumbai           21578796\n",
       "Mexico City      21382382\n",
       "Beijing          21041807\n",
       "Osaka            19222613\n",
       "Cairo            19075900\n",
       "New York City    18713220\n",
       "dtype: int64"
      ]
     },
     "execution_count": 6,
     "metadata": {},
     "output_type": "execute_result"
    }
   ],
   "source": [
    "citiesdict = {\n",
    "    'Tokyo': 37435191,\n",
    "    'Delhi': 29399141,\n",
    "    'Shanghai': 26317104,\n",
    "    'São Paulo': 21846507,\n",
    "    'Mumbai': 21578796,\n",
    "    'Mexico City': 21382382,\n",
    "    'Beijing': 21041807,\n",
    "    'Osaka': 19222613,\n",
    "    'Cairo': 19075900,\n",
    "    'New York City': 18713220\n",
    "}\n",
    "cities = pd.Series(citiesdict)\n",
    "cities"
   ]
  },
  {
   "cell_type": "markdown",
   "id": "8aa3441f",
   "metadata": {},
   "source": [
    "## Μέθοδοι, Ιδιότητες"
   ]
  },
  {
   "cell_type": "markdown",
   "id": "3b9a5f63",
   "metadata": {},
   "source": [
    "Η ιδιότητα `values` περιέχει τις τιμές ενός `Series` ενώ η `index` τις ετικέτες τους."
   ]
  },
  {
   "cell_type": "code",
   "execution_count": null,
   "id": "adb14023",
   "metadata": {},
   "outputs": [],
   "source": [
    "cities.values,cities.index"
   ]
  },
  {
   "cell_type": "markdown",
   "id": "e06ff6d0",
   "metadata": {},
   "source": [
    "Η μέθοδος `unique` επιστρέφει έναν πίνακα NumPy που περιλαμβάνει όλες τις μοναδικές τιμές ενός `Series`."
   ]
  },
  {
   "cell_type": "code",
   "execution_count": null,
   "id": "6ed63f45",
   "metadata": {},
   "outputs": [],
   "source": [
    "pd.Series([1, 2, 3, 2]).unique()"
   ]
  },
  {
   "cell_type": "markdown",
   "id": "474bbad8",
   "metadata": {},
   "source": [
    "Παρόμοια με την `unique` η μέθοδος `value_counts` επιστρέφει νέο `Series` πέρα από τις μοναδικές τιμές και τις εμφανίσεις της κάθε μιας στο `Series`. Οι ετικέτες είναι οι μοναδικές τιμές και οι τιμές του `Series` οι εμφανίσεις τους."
   ]
  },
  {
   "cell_type": "code",
   "execution_count": 5,
   "id": "55693467",
   "metadata": {},
   "outputs": [
    {
     "data": {
      "text/plain": [
       "2    2\n",
       "1    1\n",
       "3    1\n",
       "Name: count, dtype: int64"
      ]
     },
     "execution_count": 5,
     "metadata": {},
     "output_type": "execute_result"
    }
   ],
   "source": [
    "pd.Series([1, 2, 3, 2]).value_counts()"
   ]
  },
  {
   "cell_type": "markdown",
   "id": "d7d6340f",
   "metadata": {},
   "source": [
    "**Παράδειγμα**\n",
    "\n",
    "Με δεδομένο το `Series` _continents_ στο οποίο έχουμε πάρει την Ήπειρο κάθε χώρας στα δεδομένα μας, εφαρμόζουμε την `value_counts()` για να βρούμε τον αριθμό χωρών ανά Ήπειρο. Στην συνέχεια εμφανίζουμε σε γράφημα πίτας το αποτέλεσμα."
   ]
  },
  {
   "cell_type": "code",
   "execution_count": null,
   "id": "3effa4d8",
   "metadata": {},
   "outputs": [],
   "source": [
    "countriespercontinent = continents.value_counts()\n",
    "countriespercontinent"
   ]
  },
  {
   "cell_type": "code",
   "execution_count": null,
   "id": "5154a894",
   "metadata": {},
   "outputs": [],
   "source": [
    "plt.figure(figsize=(8, 8))\n",
    "plt.pie(countriespercontinent, labels=countriespercontinent.index)\n",
    "plt.title('Αριθμός Χωρών / Ήπειρο')\n",
    "plt.show()"
   ]
  },
  {
   "cell_type": "markdown",
   "id": "b394ec41",
   "metadata": {},
   "source": [
    "Με τη μέθοδο `concat` της pandas μπορούμε να συνδυάσουμε `Series` για να δημιουργήσουμε `DataFrame`."
   ]
  },
  {
   "cell_type": "code",
   "execution_count": null,
   "id": "9e9bad09",
   "metadata": {},
   "outputs": [],
   "source": [
    "ab = pd.Series(list('αβγδεζηθικλμνξοπρστυφχψω'))\n",
    "nums = pd.Series(np.arange(24))\n",
    "df = pd.concat([ab, nums],axis=1)\n",
    "df.head()"
   ]
  },
  {
   "cell_type": "markdown",
   "id": "6f42876d",
   "metadata": {},
   "source": [
    "Μέθοδοι και τελεστές που εφαρμόζονται στα `DataFrame` μπορούν να χρησιμοποιηθούν και στα `Series`. Στην συνέχεια θα χρησιμοποιηθεί η μέθοδος `isin` και ο τελεστής `~` για να διαγράψουμε δεδομένα από ένα `Series` όταν αυτά υπάρχουν σε ένα δεύτερο `Series`."
   ]
  },
  {
   "cell_type": "code",
   "execution_count": null,
   "id": "a565ce18",
   "metadata": {},
   "outputs": [],
   "source": [
    "primes = pd.Series([2, 3, 5, 7, 11, 13, 17, 19])\n",
    "odds = pd.Series([1, 3, 5, 7, 9, 11, 13, 15, 17, 19])\n",
    "odds[~odds.isin(primes)]"
   ]
  },
  {
   "cell_type": "markdown",
   "id": "7cd4ecac",
   "metadata": {},
   "source": [
    "## Προσπέλαση"
   ]
  },
  {
   "cell_type": "markdown",
   "id": "80c6aa69",
   "metadata": {},
   "source": [
    "Τα στοιχεία ενός αντικειμένου `Series` μπορούν να προσπελαστούν με μια σειρά τρόπων παρόμοιων με άλλες δομές. Επιπλέον υποστηρίζεται το φιλτράρισμα τιμών όπως και στα `DataFrame`."
   ]
  },
  {
   "cell_type": "markdown",
   "id": "34a08d91",
   "metadata": {},
   "source": [
    "### Δείκτες, ετικέτες, slicing"
   ]
  },
  {
   "cell_type": "markdown",
   "id": "d62bd263",
   "metadata": {},
   "source": [
    "Όταν τα `series` περιλαμβάνουν ετικέτες μπορούμε να προσπελάσουμε ένα στοιχείο είτε με τον αύξοντα αριθμό είτε με την ετικέτα που αντιστοιχεί."
   ]
  },
  {
   "cell_type": "code",
   "execution_count": null,
   "id": "17d2e7a6",
   "metadata": {},
   "outputs": [],
   "source": [
    "cities[1],cities['Delhi']"
   ]
  },
  {
   "cell_type": "markdown",
   "id": "3aa10df4",
   "metadata": {},
   "source": [
    "Ο γνωστός μας από άλλες δομές όπως οι λίστες, οι συμβολοσειρές ή οι πίνακες NumPy, τρόπος επιλογής μέσω **slicing** λειτουργεί και εδώ."
   ]
  },
  {
   "cell_type": "code",
   "execution_count": null,
   "id": "05a10c38",
   "metadata": {},
   "outputs": [],
   "source": [
    "cities[1:3],cities[5:],cities[::3]"
   ]
  },
  {
   "cell_type": "markdown",
   "id": "67cb4ec8",
   "metadata": {},
   "source": [
    "Ο παραπάνω τρόπος λειτουργεί και με τα ονόματα των δεικτών. Η διαφορά είναι ότι, σε αντίθεση με ότι έχουμε συνηθίσει, περιλαμβάνεται και ο τελευταίος δείκτης."
   ]
  },
  {
   "cell_type": "code",
   "execution_count": null,
   "id": "328de283",
   "metadata": {},
   "outputs": [],
   "source": [
    "cities['São Paulo':'Osaka']"
   ]
  },
  {
   "cell_type": "markdown",
   "id": "932ff47a",
   "metadata": {},
   "source": [
    "Με χρηση της `for` προσπελαύνονται τιμές, ετικέτες ή και τα δύο σε ένα `Series`."
   ]
  },
  {
   "cell_type": "code",
   "execution_count": 13,
   "id": "2af79b47",
   "metadata": {},
   "outputs": [
    {
     "name": "stdout",
     "output_type": "stream",
     "text": [
      "37435191 29399141 26317104 21846507 21578796 21382382 21041807 19222613 19075900 18713220 \n",
      "Tokyo Delhi Shanghai São Paulo Mumbai Mexico City Beijing Osaka Cairo New York City \n",
      "Tokyo : 37435191 Delhi : 29399141 Shanghai : 26317104 São Paulo : 21846507 Mumbai : 21578796 Mexico City : 21382382 Beijing : 21041807 Osaka : 19222613 Cairo : 19075900 New York City : 18713220 "
     ]
    }
   ],
   "source": [
    "for v in cities:\n",
    "    print(v,end=' ')\n",
    "print()\n",
    "for i in cities.index:\n",
    "    print(i,end=' ')\n",
    "print()\n",
    "for i,v in cities.items():\n",
    "    print(i,\":\",v,end=' ')"
   ]
  },
  {
   "cell_type": "markdown",
   "id": "eda82114",
   "metadata": {},
   "source": [
    "### Φιλτράρισμα"
   ]
  },
  {
   "cell_type": "markdown",
   "id": "9457deef",
   "metadata": {},
   "source": [
    "**Παράδειγμα**\n",
    "\n",
    "Με τη βοήθεια φιλτραρίσματος θα επιλεγούν:\n",
    "\n",
    "- πόλεις με πληθυσμό μεγαλύτερο των 25.000.000.\n",
    "\n",
    "- πόλεις με πληθυσμό μεγαλύτερο των 20.000.000 και μικρότερο των 25.000.000.\n",
    "\n",
    "- Πόλεις που το όνομά τους ξεκινά από M.\n",
    "\n",
    "- Πόλεις που δεν ξεκινούν από S και έχουν πληθυσμό μικρότερο από 22.000.000."
   ]
  },
  {
   "cell_type": "code",
   "execution_count": null,
   "id": "55f15fd3",
   "metadata": {},
   "outputs": [],
   "source": [
    "cities[cities >25_000_000]"
   ]
  },
  {
   "cell_type": "code",
   "execution_count": null,
   "id": "43479529",
   "metadata": {},
   "outputs": [],
   "source": [
    "cities[(cities >20_000_000) & (cities < 25_000_000)]"
   ]
  },
  {
   "cell_type": "code",
   "execution_count": 14,
   "id": "11e7edf3",
   "metadata": {},
   "outputs": [
    {
     "data": {
      "text/plain": [
       "Mumbai         21578796\n",
       "Mexico City    21382382\n",
       "dtype: int64"
      ]
     },
     "execution_count": 14,
     "metadata": {},
     "output_type": "execute_result"
    }
   ],
   "source": [
    "cities[cities.index.str.startswith('M')]"
   ]
  },
  {
   "cell_type": "code",
   "execution_count": 15,
   "id": "8c1adf76",
   "metadata": {},
   "outputs": [
    {
     "data": {
      "text/plain": [
       "Mumbai           21578796\n",
       "Mexico City      21382382\n",
       "Beijing          21041807\n",
       "Osaka            19222613\n",
       "Cairo            19075900\n",
       "New York City    18713220\n",
       "dtype: int64"
      ]
     },
     "execution_count": 15,
     "metadata": {},
     "output_type": "execute_result"
    }
   ],
   "source": [
    "cities[(~cities.index.str.startswith('S')) & (cities < 22_000_000)]"
   ]
  },
  {
   "cell_type": "markdown",
   "id": "c506cddd",
   "metadata": {},
   "source": [
    "# Μελέτη Περίπτωσης: Iris"
   ]
  },
  {
   "cell_type": "markdown",
   "id": "6e9d0fcc",
   "metadata": {},
   "source": [
    "Το Iris αποτελεί ένα από τα παλαιότερα datasets στην μηχανική μάθηση. Περιέχει πληροφορίες για τα χαρακτηριστικά των λουλουδιών του είδους Iris. Κάθε παρατήρηση αντιστοιχεί σε ένα μοναδικό λουλούδι και περιλαμβάνει τα εξής χαρακτηριστικά:\n",
    "\n",
    "- Μήκος του Σέπαλου, Sepal Length, σε εκατοστά\n",
    "\n",
    "- Πλάτος του Σέπαλου, Sepal Width, σε εκατοστά\n",
    "\n",
    "- Μήκος του Πετάλου, Petal Length, σε εκατοστά\n",
    "\n",
    "- Πλάτος του Πετάλου, Petal Width, σε εκατοστά\n",
    "\n",
    "- Είδος του Λουλουδιού, Species: Setosa, Versicolor, Virginica\n"
   ]
  },
  {
   "cell_type": "markdown",
   "id": "ab2d98af",
   "metadata": {},
   "source": [
    "Στην συνέχεια, εισάγουμε από αρχείο CSV τις μετρήσεις και εμφανίζουμε τα ονόματα στηλών και το σχήμα του DataFrame που δημιουργήσαμε. Παρατηρούμε ότι το dataset περιέχει 150 μετρήσεις από 6, μαζί με το μοναδικό id, χαρακτηριστικά. \n",
    "```\n",
    "Id,SepalLengthCm,SepalWidthCm,PetalLengthCm,PetalWidthCm,Species\n",
    "1,5.1,3.5,1.4,0.2,Iris-setosa\n",
    "2,4.9,3.0,1.4,0.2,Iris-setosa\n",
    "3,4.7,3.2,1.3,0.2,Iris-setosa\n",
    "```"
   ]
  },
  {
   "cell_type": "code",
   "execution_count": 16,
   "id": "f89b5b96",
   "metadata": {},
   "outputs": [
    {
     "name": "stdout",
     "output_type": "stream",
     "text": [
      "Index(['Id', 'SepalLengthCm', 'SepalWidthCm', 'PetalLengthCm', 'PetalWidthCm',\n",
      "       'Species'],\n",
      "      dtype='object')\n",
      "(150, 6)\n"
     ]
    }
   ],
   "source": [
    "import pandas as pd\n",
    "import matplotlib.pyplot as plt\n",
    "import numpy as np\n",
    "df = pd.read_csv('Iris.csv')\n",
    "print(df.columns)\n",
    "print(df.shape)"
   ]
  },
  {
   "cell_type": "markdown",
   "id": "dd1c5790",
   "metadata": {},
   "source": [
    "Μια εικόνα του dataset μπορεί να πάρει κανείς με την εμφάνιση 5 τυχαίων γραμμών του."
   ]
  },
  {
   "cell_type": "code",
   "execution_count": 17,
   "id": "c8937d70",
   "metadata": {},
   "outputs": [
    {
     "data": {
      "text/html": [
       "<div>\n",
       "<style scoped>\n",
       "    .dataframe tbody tr th:only-of-type {\n",
       "        vertical-align: middle;\n",
       "    }\n",
       "\n",
       "    .dataframe tbody tr th {\n",
       "        vertical-align: top;\n",
       "    }\n",
       "\n",
       "    .dataframe thead th {\n",
       "        text-align: right;\n",
       "    }\n",
       "</style>\n",
       "<table border=\"1\" class=\"dataframe\">\n",
       "  <thead>\n",
       "    <tr style=\"text-align: right;\">\n",
       "      <th></th>\n",
       "      <th>Id</th>\n",
       "      <th>SepalLengthCm</th>\n",
       "      <th>SepalWidthCm</th>\n",
       "      <th>PetalLengthCm</th>\n",
       "      <th>PetalWidthCm</th>\n",
       "      <th>Species</th>\n",
       "    </tr>\n",
       "  </thead>\n",
       "  <tbody>\n",
       "    <tr>\n",
       "      <th>74</th>\n",
       "      <td>75</td>\n",
       "      <td>6.4</td>\n",
       "      <td>2.9</td>\n",
       "      <td>4.3</td>\n",
       "      <td>1.3</td>\n",
       "      <td>Iris-versicolor</td>\n",
       "    </tr>\n",
       "    <tr>\n",
       "      <th>33</th>\n",
       "      <td>34</td>\n",
       "      <td>5.5</td>\n",
       "      <td>4.2</td>\n",
       "      <td>1.4</td>\n",
       "      <td>0.2</td>\n",
       "      <td>Iris-setosa</td>\n",
       "    </tr>\n",
       "    <tr>\n",
       "      <th>30</th>\n",
       "      <td>31</td>\n",
       "      <td>4.8</td>\n",
       "      <td>3.1</td>\n",
       "      <td>1.6</td>\n",
       "      <td>0.2</td>\n",
       "      <td>Iris-setosa</td>\n",
       "    </tr>\n",
       "    <tr>\n",
       "      <th>80</th>\n",
       "      <td>81</td>\n",
       "      <td>5.5</td>\n",
       "      <td>2.4</td>\n",
       "      <td>3.8</td>\n",
       "      <td>1.1</td>\n",
       "      <td>Iris-versicolor</td>\n",
       "    </tr>\n",
       "    <tr>\n",
       "      <th>92</th>\n",
       "      <td>93</td>\n",
       "      <td>5.8</td>\n",
       "      <td>2.6</td>\n",
       "      <td>4.0</td>\n",
       "      <td>1.2</td>\n",
       "      <td>Iris-versicolor</td>\n",
       "    </tr>\n",
       "  </tbody>\n",
       "</table>\n",
       "</div>"
      ],
      "text/plain": [
       "    Id  SepalLengthCm  SepalWidthCm  PetalLengthCm  PetalWidthCm  \\\n",
       "74  75            6.4           2.9            4.3           1.3   \n",
       "33  34            5.5           4.2            1.4           0.2   \n",
       "30  31            4.8           3.1            1.6           0.2   \n",
       "80  81            5.5           2.4            3.8           1.1   \n",
       "92  93            5.8           2.6            4.0           1.2   \n",
       "\n",
       "            Species  \n",
       "74  Iris-versicolor  \n",
       "33      Iris-setosa  \n",
       "30      Iris-setosa  \n",
       "80  Iris-versicolor  \n",
       "92  Iris-versicolor  "
      ]
     },
     "execution_count": 17,
     "metadata": {},
     "output_type": "execute_result"
    }
   ],
   "source": [
    "df.sample(5)"
   ]
  },
  {
   "cell_type": "markdown",
   "id": "1f72e836",
   "metadata": {},
   "source": [
    "Εκτός από την τυχαία εμφάνιση χαρακτηριστικών εποπτική εικόνα μπορούν να δώσουν τα γραφήματα. Θα δημιουργηθούν δύο διαγράμματα, ένα θα αφορά μέγεθος σέπαλου και ένα μέγεθος πέταλου. Τα χρώματα θα αντιστοιχηθούν με είδος φυτού, κάτι που μπορεί να γίνει με ένα λεξικό. Τα γραφήματα θα παρουσιαστούν ως υποδιαγράμματα σε 1 γραμμή και 2 στήλες."
   ]
  },
  {
   "cell_type": "code",
   "execution_count": 18,
   "id": "d80b5274",
   "metadata": {},
   "outputs": [
    {
     "data": {
      "image/png": "[encoded data removed]",
      "text/plain": [
       "<Figure size 1400x600 with 2 Axes>"
      ]
     },
     "metadata": {},
     "output_type": "display_data"
    }
   ],
   "source": [
    "colors = {'Iris-setosa': 'blue', 'Iris-versicolor': 'green', 'Iris-virginica': 'red'}\n",
    "\n",
    "fig, axs = plt.subplots(1, 2, figsize=(14, 6))\n",
    "\n",
    "# Υποδιάγραμμα 1: Sepal Width / Sepal Length\n",
    "for species in df['Species'].unique():\n",
    "    subset = df[df['Species'] == species]\n",
    "    axs[0].plot(subset['SepalWidthCm'], subset['SepalLengthCm'], marker='o', linestyle='', ms=8, label=species, color=colors[species])\n",
    "axs[0].set_xlabel('Sepal Width (cm)')\n",
    "axs[0].set_ylabel('Sepal Length (cm)')\n",
    "axs[0].set_title('Sepal Width vs Sepal Length')\n",
    "axs[0].legend()\n",
    "axs[0].grid(True)\n",
    "\n",
    "# Υποδιάγραμμα 2: Petal Length / Petal Width\n",
    "for species in df['Species'].unique():\n",
    "    subset = df[df['Species'] == species]\n",
    "    axs[1].plot(subset['PetalWidthCm'], subset['PetalLengthCm'], marker='o', linestyle='', ms=8, label=species, color=colors[species])\n",
    "axs[1].set_xlabel('Petal Width (cm)')\n",
    "axs[1].set_ylabel('Petal Length (cm)')\n",
    "axs[1].set_title('Petal Width vs Petal Length')\n",
    "axs[1].legend()\n",
    "axs[1].grid(True)\n",
    "\n",
    "plt.tight_layout()\n",
    "plt.show()"
   ]
  },
  {
   "cell_type": "markdown",
   "id": "e8c10835",
   "metadata": {},
   "source": [
    "Στην συνέχεια θα επιχειρηθεί παρουσίαση των παραπάνω δεδομένων σε ένα γράφημα. Οι δύο άξονες απεικονίζουν μέγεθος σεπάλου αλλά το πέταλο απεικονίζεται μέσω του μεγέθους του κάθε κύκλου."
   ]
  },
  {
   "cell_type": "code",
   "execution_count": null,
   "id": "6905ef04",
   "metadata": {},
   "outputs": [],
   "source": [
    "from matplotlib.lines import Line2D\n",
    "from matplotlib.patches import Patch\n",
    "legend_elements = [Line2D([0], [0], marker='o', color='b', label='Iris-setosa',\n",
    "                          markerfacecolor='b', markersize=15),\n",
    "                   Line2D([0], [0], marker='o', color='g', label='Iris-versicolor',\n",
    "                          markerfacecolor='g', markersize=15),\n",
    "                   Line2D([0], [0], marker='o', color='r', label='Iris-virginica',\n",
    "                          markerfacecolor='r', markersize=15),\n",
    "                   Line2D([0], [0], marker='o', color='k', label='Μέγεθος κύκλου: Μέγεθος πετάλου',\n",
    "                          markerfacecolor='k', markersize=5)]\n",
    "fig, ax = plt.subplots()\n",
    "for species in df['Species'].unique():\n",
    "    subset = df[df['Species'] == species]\n",
    "    size = subset['PetalWidthCm'] * subset['PetalLengthCm'] * 50  # Υπολογισμός μεγέθους ανάλογα με το γινόμενο των δύο στηλών PetalWidthCm και PetalLengthCm\n",
    "    plt.scatter(subset['SepalWidthCm'], subset['SepalLengthCm'], s=size, label=species, color=colors[species], alpha=0.7)\n",
    "\n",
    "plt.grid(True)\n",
    "plt.xlabel('Sepal Width (cm)')\n",
    "plt.ylabel('Sepal Length (cm)')\n",
    "plt.title('Sepal / Petal Size')\n",
    "plt.show()"
   ]
  },
  {
   "cell_type": "markdown",
   "id": "5b4c67de",
   "metadata": {},
   "source": [
    "Το επόμενο γράφημα παρουσιάζει τα δεδομένα σε 3 άξονες με τον νέο άξονα να απεικονίζει το μέγεθος PetalWidthCm*PetalLengthCm."
   ]
  },
  {
   "cell_type": "code",
   "execution_count": null,
   "id": "216c8083",
   "metadata": {},
   "outputs": [],
   "source": [
    "# Δημιουργία 3D subplot\n",
    "fig = plt.figure(figsize=(12, 8))\n",
    "ax = fig.add_subplot(111, projection='3d')\n",
    "\n",
    "# Σχεδίαση σημείων στο 3D plot\n",
    "for species in df['Species'].unique():\n",
    "    subset = df[df['Species'] == species]\n",
    "    size = 50 \n",
    "    ax.scatter(subset['SepalWidthCm'], subset['SepalLengthCm'], subset['PetalWidthCm']*subset['PetalLengthCm'], s=size, label=species, color=colors[species], alpha=0.7)\n",
    "\n",
    "# Ετικέτες και τίτλος\n",
    "ax.set_xlabel('Sepal Width (cm)')\n",
    "ax.set_ylabel('Sepal Length (cm)')\n",
    "ax.set_zlabel('Petal Width (cm) * Petal Length (cm)')\n",
    "ax.set_title('Sepal and Petal Dimensions')\n",
    "\n",
    "# Προσθήκη επεξηγηματικού legend\n",
    "#for species, color in colors.items():\n",
    " #   ax.scatter([], [], [], color=color, label=species)\n",
    "\n",
    "ax.legend()\n",
    "\n",
    "plt.show()"
   ]
  },
  {
   "cell_type": "markdown",
   "id": "0a577cf2",
   "metadata": {},
   "source": [
    "Ακολουθεί εφαρμογή μηχανικής μάθησης με χρήση του Perceptron και νευρωνικών δικτύων. Σημειώνεται ότι η διαδικασία μπορεί να αυτοματοποιηθεί και βελτιστοποιηθεί μέσω εξειδικευμένων βιβλιοθηκών της Python όπως η PyTorch."
   ]
  },
  {
   "cell_type": "markdown",
   "id": "675c4d38",
   "metadata": {},
   "source": [
    "Η κλάση που ακολουθεί υλοποιεί έναν απλό Perceptron, έναν βασικό νευρώνα, δηλαδή, μηχανικής μάθησης που κάνει δυαδική ταξινόμηση βάσει εισόδων και εκπαιδεύεται με εποπτευόμενο τρόπο. Αναλυτικότερα οι μέθοδοι που υλοποιούνται:\n",
    "\n",
    "- `__init__`: κατασκευαστής της κλάσης ο οποίος δέχεται αριθμό εισόδων, χαρακτηριστικών, _n_input_ και ρυθμό μάθησης, learning rate, _alpha_. Αρχικοποιεί, επιπλέον, τα βάρη, weights _w_ και το bias _b_ στο 0.\n",
    "\n",
    "- forward: δέχεται είσοδο x και υπολογίζει έξοδο κάνοντας χρήση των βαρών και του bias.\n",
    "\n",
    "- update_weights: Αποτελεί την βασική μέθοδο εκπαίδευσης. Ανανεώνει τα βάρη και το bias ανάλογα με την επιθυμητή έξοδο t και την έξοδο που παράγει η μέθοδος forward."
   ]
  },
  {
   "cell_type": "code",
   "execution_count": 21,
   "id": "a81fee38",
   "metadata": {},
   "outputs": [],
   "source": [
    "class Perceptron:\n",
    "    def __init__(self, n_input, alpha = 0.1):\n",
    "    # Αρχικοποιούμε τις παραμέτρους (και bias) στο 0\n",
    "        self.w = np.zeros(n_input)\n",
    "        self.b =  0\n",
    "        self.alpha = alpha\n",
    "    def forward(self, x):\n",
    "        s = np.inner(self.w, x) + self.b\n",
    "        if s > 0:\n",
    "            return 1\n",
    "        return 0\n",
    "    def update_weights(self, x, t):\n",
    "        delta = self.alpha * (t - self.forward(x))\n",
    "        self.w += delta * x\n",
    "        self.b += delta"
   ]
  },
  {
   "cell_type": "markdown",
   "id": "dec170f9",
   "metadata": {},
   "source": [
    "Η κλάση Setosa που ακολουθεί κληρονομεί από την Perceptron, εξειδικεύοντας για το είδος Setosa. Περιλαμβάνει τις επόμενες μεθόδους.\n",
    "\n",
    "- `__init__`: Κατασκευαστής ο οποίος δέχεται το αρχείο με τα δεδομένα και τον αριθμό αυτών που θα χρησιμοποιηθεί για εκπαίδευση. Καλεί τον κατασκευαστή του Perceptron που θα έχει 4 εισόδους, όσα και τα χαρκατηριστικά. Παράγει το DataFrame από το CSV αρχείο με τα δεδομένα και διαχωρίζει τα δεδεομένα σε δείγμα και test set.\n",
    "\n",
    "- row2net: Δέχεται μία γραμμή από τα δεδομένα και την μετατρέπει σε είσοδο (και έξοδο) του perceptron.\n",
    "\n",
    "- train: Υλοποιείται η εκπαίδευση του perceptron  με τα δεδομένα εκπαίδευσης.\n",
    "\n",
    "- test: Κάνοντας χρήση των test δεδομένων (self.test_set) ελέγχει την ακρίβεια υπολογίζοντας το ποσοστό των σωστών προβλέψεων στο test set κάνοντας χρήση του εκπαιδευμένου perceptron."
   ]
  },
  {
   "cell_type": "code",
   "execution_count": 22,
   "id": "443053b8",
   "metadata": {},
   "outputs": [],
   "source": [
    "class Setosa(Perceptron): \n",
    "    def __init__(self, iris_file, train_number = 70):\n",
    "        super().__init__(4)\n",
    "        df = pd.read_csv(iris_file)\n",
    "        self.train_set = df.sample(train_number)\n",
    "        self.test_set = df[~df.Id.isin(train.Id)]\n",
    "    def row2net(row):\n",
    "        sepal_length = row['SepalLengthCm']\n",
    "        sepal_width = row['SepalLengthCm']\n",
    "        petal_length = row['PetalLengthCm']\n",
    "        petal_width = row['PetalWidthCm']\n",
    "        species = row['Species']\n",
    "\n",
    "        inp = np.array((sepal_length, sepal_width, petal_length, petal_width))\n",
    "        if (species == 'Iris-setosa'):\n",
    "            out = 1.0\n",
    "        else: \n",
    "            out = 0.0\n",
    "        return inp, out\n",
    "    def train(self, epochs=1):\n",
    "        for _ in range(epochs):\n",
    "            for _,row in self.train_set.iterrows():\n",
    "                inp, out = Setosa.row2net(row)  \n",
    "                self.update_weights(inp, out)\n",
    "    def test(self):\n",
    "        correct = 0\n",
    "        total = len(self.test_set)\n",
    "        for _, row in self.test_set.iterrows():\n",
    "            inp, out = Setosa.row2net(row)\n",
    "\n",
    "            i = self.forward(inp)\n",
    "\n",
    "            if i == out:\n",
    "                correct += 1\n",
    "\n",
    "        print(\"Ακρίβεια: \", correct/total )"
   ]
  },
  {
   "cell_type": "markdown",
   "id": "c62a7bc1",
   "metadata": {},
   "source": [
    "Στην συνέχεια παίρνουμε δειγματοληπτικά 100 γραμμές για εκπαίδευση του μοντέλου μας, το train set. Οι εγγραφές που δεν ανήκουν σε αυτές τις 100 θα χρησιμοποιηθούν για έλεγχο τις παραπάνω εκπαίδευσης."
   ]
  },
  {
   "cell_type": "code",
   "execution_count": 23,
   "id": "4b1f387e",
   "metadata": {},
   "outputs": [
    {
     "name": "stdout",
     "output_type": "stream",
     "text": [
      "Total set: 150 Train set: 100 Test set: 50\n"
     ]
    }
   ],
   "source": [
    "train = df.sample(100)\n",
    "test = df[~df.Id.isin(train.Id)]\n",
    "print('Total set:',len(df),'Train set:', len(train),'Test set:',len(test)) # Μήκος του κάθε set"
   ]
  },
  {
   "cell_type": "markdown",
   "id": "8af7251e",
   "metadata": {},
   "source": [
    "Δημιουργείται το αντικείμενο Setosa, εκπαιδεύεται και ελέγχεται η ακρίβεια του μοντέλου. "
   ]
  },
  {
   "cell_type": "code",
   "execution_count": 24,
   "id": "5fe84d28",
   "metadata": {},
   "outputs": [
    {
     "name": "stdout",
     "output_type": "stream",
     "text": [
      "Ακρίβεια:  1.0\n"
     ]
    }
   ],
   "source": [
    "st = Setosa('Iris.csv')\n",
    "st.train()\n",
    "st.test()"
   ]
  },
  {
   "cell_type": "code",
   "execution_count": null,
   "id": "002d19c0",
   "metadata": {},
   "outputs": [],
   "source": []
  }
 ],
 "metadata": {
  "kernelspec": {
   "display_name": "Python 3 (ipykernel)",
   "language": "python",
   "name": "python3"
  },
  "language_info": {
   "codemirror_mode": {
    "name": "ipython",
    "version": 3
   },
   "file_extension": ".py",
   "mimetype": "text/x-python",
   "name": "python",
   "nbconvert_exporter": "python",
   "pygments_lexer": "ipython3",
   "version": "3.11.4"
  }
 },
 "nbformat": 4,
 "nbformat_minor": 5
}
