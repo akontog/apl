{
 "cells": [
  {
   "cell_type": "markdown",
   "id": "9532ae3d",
   "metadata": {},
   "source": [
    "<div style=\"padding:20px 0px 20px 0px; text-align:center; font-weight: bold; font-size:170%; background-color: #2d8077; color:#f0b439;\">\n",
    "08.2<br>\n",
    "<span style=\"color:#ffffcc;\">Data Science - matplotlib</span>\n",
    "</div>\n",
    "\n",
    "---"
   ]
  },
  {
   "cell_type": "markdown",
   "id": "9252813a-125c-4adf-8796-6dbb17eec5a2",
   "metadata": {},
   "source": [
    "H `matplotlib` σχεδιάστηκε και υλοποιήθηκε από τον John Hunter για τις ανάγκες της διατριβής του. Η εμπορική άδεια του matlab που χρησιμοποιούσε δεν του ήταν αρκετή και έτσι δημιούργησε την δική του βιβλιοθήκη. Όπως είναι φυσικό η διεπαφή της βιβλιοθήκης, στην πραγματικότητα μια από τις δύο, μοιάζει αρκετά με αυτή του matlab. Εξάλλου το mat στο όνομα `matplotlib` προκύπτει από αυτήν.\n",
    "\n",
    "Όπως και πολλές άλλες βιβλιοθήκες, η `matplotlib` οργανώνεται σε διάφορα αρθρώματα και συναρτήσεις. Η πιο κλασική μέθοδος εισαγωγής για διάφορα γραφήματα είναι η εισαγωγή του `pyplot` κάνοντας χρήση του alias plt. Συχνά, βοηθητικά χρησιμοποιείται και η `numpy`."
   ]
  },
  {
   "cell_type": "code",
   "execution_count": null,
   "id": "d9cb4375",
   "metadata": {},
   "outputs": [],
   "source": [
    "import matplotlib.pyplot as plt\n",
    "import numpy  as np"
   ]
  },
  {
   "cell_type": "markdown",
   "id": "27e9bf6e",
   "metadata": {},
   "source": [
    "# Διεπαφές"
   ]
  },
  {
   "cell_type": "markdown",
   "id": "ec308777",
   "metadata": {},
   "source": [
    "Η βιβλιοθήκη `matplotlib` προσφέρει δύο βασικούς τρόπους, διεπαφές, για τη δημιουργία γραφημάτων."
   ]
  },
  {
   "cell_type": "markdown",
   "id": "c3fc0a76",
   "metadata": {},
   "source": [
    "## pyplot"
   ]
  },
  {
   "cell_type": "markdown",
   "id": "212764db",
   "metadata": {},
   "source": [
    "Αποτελεί την απλούστερη άλλα λιγότερο ευέλικτη διεπαφή. Μιμείται τη μέθοδο δημιουργίας γραφικών του matlab με όλες τις εντολές να κάνουν αλλαγές και να τροποποιούν το ίδιο σχήμα."
   ]
  },
  {
   "cell_type": "markdown",
   "id": "1d60c547",
   "metadata": {},
   "source": [
    "Αναλυτικότερα, στο επόμενο παράδειγμα:\n",
    "\n",
    "- Ορίζουμε δύο ακολουθίες τιμών για τις συντεταγμένες των σημείων όπως λίστες ή πίνακες NumPy.\n",
    "    - Τα x είναι οι τετμημένες (οριζόντιος άξονας)\n",
    "\n",
    "    - Τα y είναι οι τεταγμένες (κατακόρυφος άξονας)\n",
    "\n",
    "- Η `plot` θα σχεδιάσει γραμμές οι οποίες θα ενώσουν τα σημεία με κάθε σημείο να συμβολίζεται με έναν μικρό κύκλο, `marker='o'`.\n",
    "\n",
    "- Τα όρια των αξόνων που θα σχεδιαστούν ορίζονται από τις `xlim`, `ylim`. Συγκεκριμένα, και στους δύο άξονες θα σχεδιαστεί το γράφημα στο [-1,5].\n",
    "\n",
    "- Ετικέτες θα προστεθούν στους άξονες μέσω των `xlabel`, `ylabel` και ο τίτλος του γραφήματος μέσω της `title`.\n",
    "\n",
    "- Ένα πλέγμα στο γράφημα θα ενεργοποιηθεί μέσω της `grid`.\n",
    "\n",
    "- Η `show` εμφανίζει το γράφημα στην οθόνη."
   ]
  },
  {
   "cell_type": "code",
   "execution_count": null,
   "id": "3d3c580c",
   "metadata": {},
   "outputs": [],
   "source": [
    "#x = [0, 2, 4]\n",
    "#y = [0, 3, 2]\n",
    "x = np.arange(0,6,2)\n",
    "y = np.array([0,3,2])\n",
    "plt.plot(x, y, marker='o')\n",
    "plt.xlim(-1, 5)\n",
    "plt.ylim(-1, 5)\n",
    "plt.xlabel(\"x\")\n",
    "plt.ylabel(\"y\")\n",
    "plt.title(\"Γράφημα\")\n",
    "plt.grid()\n",
    "plt.show()"
   ]
  },
  {
   "cell_type": "markdown",
   "id": "126d68e3",
   "metadata": {},
   "source": [
    "Η εντολή `show()` είναι υποχρεωτική όταν το πρόγραμμα υλοποιείται ως σενάριο, python script. Σε περιβάλλον της διαδραστικής python, όπου εκτελούνται αυτές οι σημειώσεις, η χρήση της δεν είναι απαραίτητη."
   ]
  },
  {
   "cell_type": "markdown",
   "id": "77e7a054",
   "metadata": {},
   "source": [
    "## Αντικειμενοστραφής διεπαφή"
   ]
  },
  {
   "cell_type": "markdown",
   "id": "236ab27a",
   "metadata": {},
   "source": [
    "Η προσέγγιση της αντικειμενοστραφούς διεπαφής προσφέρει μεγαλύτερη ευελιξία και καθαρότητα στον χειρισμό σύνθετων γραφημάτων. Το τελικό γράφημα δημιουργείται μέσα από τη συνεργασία μιας σειράς αντικειμένων:\n",
    "\n",
    "- `Figure`, ο καμβάς.\n",
    "\n",
    "- `Axes`, η περιοχή σχεδίασης.\n",
    "\n",
    "- `Axis`, οι άξονες που εμφανίζονται στο γράφημα, υπεύθυνοι για τα διαστημάτα, tick, τις ετικέτες, label, και της κλίμακας, scale, για κάθε άξονα.\n",
    "\n",
    "- `Artist`, ότι εμφανίζεται πάνω στο γράφημα."
   ]
  },
  {
   "cell_type": "markdown",
   "id": "c5c7abbb",
   "metadata": {},
   "source": [
    "- Ορίζουμε τις δύο λίστες τιμών για τις τετμημένες και τεταγμένες των σημείων.\n",
    "\n",
    "- Η `plt.subplots()` δημιουργεί ένα αντικείμενο `Figure`, fig, και ένα αντικείμενο `Axes`, ax, και τα επιστρέφει.\n",
    "\n",
    "- Η `ax.plot(x, y, marker='o')` σχεδιάζει γραμμές, Line2D Artist, που ενώνουν τα σημεία συμβολίζοντάς τα με μικρούς κύκλους, παράμετρος `marker` ίση με `'o'`.\n",
    "\n",
    "- Τα όρια των αξόνων ρυθμίζονται με την `ax.set_xlim` για τον άξονα x και `ax.set_ylim` για τον άξονα y. Το επόμενο γράφημα θα προβληθεί στο διάστημα [−1,5] και στους δύο άξονες.\n",
    "\n",
    "- Οι ετικέτες των αξόνων προστίθενται με `ax.set_xlabel` και `ax.set_ylabel` και ο τίτλος του γραφήματος προστίθεται με την `ax.set_title`.\n",
    "\n",
    "- Δημιουργήθηκαν και `Text` `Artist` με την `ax.text`.\n",
    "\n",
    "- Το πλέγμα ενεργοποιείται με την `ax.grid()`, grid `Artist`.\n",
    "\n",
    "- Τέλος, η `plt.show()` εμφανίζει το γράφημα στην οθόνη."
   ]
  },
  {
   "cell_type": "code",
   "execution_count": null,
   "id": "c26167b2",
   "metadata": {},
   "outputs": [],
   "source": [
    "x = np.arange(0,6,2)\n",
    "y = np.array([0,3,2])\n",
    "fig, ax = plt.subplots()\n",
    "ax.plot(x, y, marker='o')\n",
    "ax.set_title(\"Γράφημα\")\n",
    "ax.set_xlabel(\"x\")\n",
    "ax.set_ylabel(\"y\")\n",
    "ax.set_xlim(-1, 5)\n",
    "ax.set_ylim(-1, 5)\n",
    "for xi, yi in zip(x, y):\n",
    "    label = \"(\" + str(xi) + \", \" + str(yi) + \")\"\n",
    "    ax.text(xi + 0.1, yi + 0.1, label, fontsize=9, color='blue')\n",
    "ax.grid()\n",
    "plt.show()"
   ]
  },
  {
   "cell_type": "markdown",
   "id": "691a6459",
   "metadata": {},
   "source": [
    "# Συντεταγμένες"
   ]
  },
  {
   "cell_type": "markdown",
   "id": "9093cdbb",
   "metadata": {},
   "source": [
    "H `matplotlib` υποστηρίζει καρτεσιανές αλλά και πολικές συντεταγμένες."
   ]
  },
  {
   "cell_type": "markdown",
   "id": "74ed013a",
   "metadata": {},
   "source": [
    "## Καρτεσιανές"
   ]
  },
  {
   "cell_type": "markdown",
   "id": "52a05076",
   "metadata": {},
   "source": [
    "Ένα σημείο σε καρτεσιανές συντεταγμένες αναπαρίσταται ως (x, y), όπου:\n",
    "\n",
    " - **x**: Οριζόντια απόσταση από την αρχή των αξόνων\n",
    "\n",
    " - **y**: Κατακόρυφη απόσταση\n",
    "\n",
    "Η σχεδίαση στο καρτεσιανό επίπεδο είναι η προεπιλεγμένη μορφή στα γραφήματα της pyplot."
   ]
  },
  {
   "cell_type": "code",
   "execution_count": null,
   "id": "3751f0e6",
   "metadata": {},
   "outputs": [],
   "source": [
    "x = np.arange(0,6,2)\n",
    "y = np.array([0,3,2])\n",
    "plt.plot(x, y, marker='o')\n",
    "plt.xlim(-1, 5)\n",
    "plt.ylim(-1, 5)\n",
    "plt.grid()\n",
    "plt.title(\"Καρτεσιανές Συντεταγμένες\")\n",
    "plt.show()"
   ]
  },
  {
   "cell_type": "markdown",
   "id": "1769ca1f",
   "metadata": {},
   "source": [
    "## Πολικές"
   ]
  },
  {
   "cell_type": "markdown",
   "id": "4ada220d",
   "metadata": {},
   "source": [
    "Ένα σημείο στο πολικό σύστημα αναπαρίσταται ως (r, θ):\n",
    "\n",
    "- **r**: Απόσταση από την αρχή των αξόνων\n",
    "\n",
    "- **θ**: Γωνία υπό την οποία μετράμε την απόσταση αυτή.\n",
    "\n",
    "Για την σχεδίαση γραφημάτων με πολικές συντεταγμένες θα πρέπει να χρησιμοποιήσουμε την παράμετρο `polar=True` με χρήση της αντικειμενοστραφούς προσέγγισης ή απευθείας την μέθοδο `polar` όπως στην επόμενη εφαρμογή της matlab προσέγγισης."
   ]
  },
  {
   "cell_type": "code",
   "execution_count": null,
   "id": "ed2149e8",
   "metadata": {},
   "outputs": [],
   "source": [
    "r = np.array([0, 2])\n",
    "theta = np.array([0, np.pi / 4])\n",
    "plt.polar(theta, r, marker='o')\n",
    "plt.title(\"Πολικές Συντεταγμένες\")\n",
    "plt.show()"
   ]
  },
  {
   "cell_type": "markdown",
   "id": "f1c11d41",
   "metadata": {},
   "source": [
    "**Παράδειγμα**\n",
    "\n",
    "Θα σχεδιάσουμε ένα γράφημα με πολικές συντεταγμένες χρησιμοποιώντας την αντικειμενοστραφή προσέγγιση. Θα σχεδιαστούν περισσότερα σημεία τα οποία και δηλώνονται με πίνακες της NumPy, _r_ και _theta_. Για την δημιουργία της τελευταίας χρησιμοποιείται και η μέθοδος μετατροπής από μοίρες σε ακτίνια `deg2rad`."
   ]
  },
  {
   "cell_type": "code",
   "execution_count": null,
   "id": "d6e3832d",
   "metadata": {},
   "outputs": [],
   "source": [
    "fig = plt.figure()\n",
    "ax = fig.add_subplot(projection='polar')\n",
    "r=np.ones(9)\n",
    "theta = np.deg2rad(np.arange(0,361,45))\n",
    "plt.polar(theta,r,marker='o')\n",
    "ax.set_ylim(0,2)\n",
    "plt.show()"
   ]
  },
  {
   "cell_type": "markdown",
   "id": "2bb16bf3",
   "metadata": {},
   "source": [
    "**Παράδειγμα**: Μετατροπή από καρτεσιανές σε πολικές\n",
    "\n",
    "Για ένα σημείο $(x, y)$, οι πολικές συντεταγμένες $(r, \\theta)$ δίνονται από:\n",
    "- $r = \\sqrt{x^2 + y^2}$\n",
    "\n",
    "- $\\theta = \\tan^{-1}\\left(\\frac{y}{x}\\right)$\n",
    "\n",
    "Αρχικά, οι συντεταγμένες θα μετατραπούν από καρτεσιανές σε πολικές. Στην συνέχεια, οι δύο τρόποι εμφάνισης θα παρουσιαστούν δίπλα-δίπλα μέσω της `subplot` στην οποία θα θέσουμε 1 γραμμή και 2 στήλες, με το καρτεσιανό υπογράφημα στην πρώτη στήλη και το πολικό στην δεύτερη. Η `np.arctan2(y, x)` επιστρέφει τη γωνία θ σε ακτίνια."
   ]
  },
  {
   "cell_type": "code",
   "execution_count": null,
   "id": "5034ac81",
   "metadata": {},
   "outputs": [],
   "source": [
    "x = np.arange(0,6,2)\n",
    "y = np.array([0,3,2])\n",
    "\n",
    "r = np.sqrt(x**2 + y**2)\n",
    "theta = np.arctan2(y, x)\n",
    "plt.figure(figsize=(10, 5))\n",
    "\n",
    "plt.subplot(1, 2, 1)\n",
    "plt.plot(x, y, marker='o')\n",
    "plt.title(\"Καρτεσιανές Συντεταγμένες\")\n",
    "plt.xlabel(\"x\")\n",
    "plt.ylabel(\"y\")\n",
    "plt.grid(True)\n",
    "plt.axis('equal')\n",
    "\n",
    "plt.subplot(1, 2, 2, projection='polar')\n",
    "plt.plot(theta, r, marker='o')\n",
    "plt.title(\"Πολικές Συντεταγμένες\")\n",
    "\n",
    "plt.tight_layout()\n",
    "plt.show()\n"
   ]
  },
  {
   "cell_type": "markdown",
   "id": "6498b034",
   "metadata": {},
   "source": [
    "# Γραφήματα Περιγραφικής Στατιστικής"
   ]
  },
  {
   "cell_type": "markdown",
   "id": "8da3e104",
   "metadata": {},
   "source": [
    "Τα γραφήματα αποτελούν βασικό εργαλείο για την απεικόνιση, κατανόηση και ερμηνεία δεδομένων. Μέσω διαγραμμάτων μπορούμε να παρατηρήσουμε μοτίβα, συγκεντρώσεις τιμών, συχνότητες και σχέσεις μεταξύ μεταβλητών. Η οπτική αναπαράσταση καθιστά τα δεδομένα πιο προσιτά και βοηθά στη λήψη τεκμηριωμένων αποφάσεων."
   ]
  },
  {
   "cell_type": "markdown",
   "id": "9a0263f1",
   "metadata": {},
   "source": [
    "## Διάγραμμα διασποράς, Scatter Plot"
   ]
  },
  {
   "cell_type": "markdown",
   "id": "a088148f",
   "metadata": {},
   "source": [
    "Κάθε σημείο στο `scatter` plot αντιπροσωπεύει μια τιμή για τις δύο μεταβλητές στους άξονες x και y. Είναι ιδιαίτερα χρήσιμο για παρατήρηση συσχετίσεων ανάμεσα στις δύο μεταβλητές."
   ]
  },
  {
   "cell_type": "markdown",
   "id": "5c11497f",
   "metadata": {},
   "source": [
    "**Παράδειγμα**\n",
    "\n",
    "Παρατηρούμε ένα παράδειγμα στο οποίο μελετούμε την συσχέτιση της πυκνότητας πληθυσμού μιας χώρας με την υψομετρική διαφορά στην επικράτειά της. Η παράμετρος `color` καθορίζει το χρώμα των σημείων και η `marker` το σχήμα τους. Η `annotate` προσθέτει μία σημείωση δίπλα στο σημείο, εδώ την χώρα που αυτό αφορά. Η `grid`, όπως έχει αναφερθεί, θέτει ένα πλέγμα στο γράφημα όταν η παράμετρος είναι `True`, εξορισμού είναι `False`."
   ]
  },
  {
   "cell_type": "code",
   "execution_count": null,
   "id": "da05f7e2",
   "metadata": {},
   "outputs": [],
   "source": [
    "countries = ['Νεπάλ', 'Ελβετία', 'Ολλανδία', 'Μπαγκλαντές', 'Βολιβία', \n",
    "             'ΗΠΑ', 'Κίνα', 'Ινδία', 'Ρωσία',  'Αυστραλία']\n",
    "population_density = [203, 214, 417, 1265, 10, \n",
    "                      36, 153, 464, 9,  3]\n",
    "average_elevation = [3295, 1350, 30, 85, 1192, \n",
    "                     760, 1500, 160, 600,  330]  \n",
    "plt.scatter(population_density, average_elevation, color='blue', marker='x')\n",
    "for i, country in enumerate(countries):\n",
    "    plt.annotate(country, (population_density[i], average_elevation[i]))\n",
    "plt.xlabel('Πυκνότητα Πληθυσμού (κάτοικοι/km²)')\n",
    "plt.ylabel('Μέση Υψομετρική Διαφορά (μέτρα)')\n",
    "plt.title('Πυκνότητας Πληθυσμού / Υψομετρικής Διαφοράς')\n",
    "plt.grid(True)\n",
    "plt.show()"
   ]
  },
  {
   "cell_type": "markdown",
   "id": "a4e22ead",
   "metadata": {},
   "source": [
    "## Ραβδόγραμμα bar"
   ]
  },
  {
   "cell_type": "markdown",
   "id": "0b5bc562",
   "metadata": {},
   "source": [
    "Το ραβδόγραμμα αποτελεί ένα είδος γραφήματος που απεικονίζει δεδομένα τα οποία θέλουμε να συγκρίνουμε. Το γεγονός ότι κάθε μπάρα είναι άμεσα συγκρίσιμη με τις υπόλοιπες τα καθιστά ιδανικά για περιπτώσεις όπως δημογραφικά στοιχεία, αποτελέσματα ερευνών κτλ. Δημιουργείται με την μέθοδο `bar`."
   ]
  },
  {
   "cell_type": "markdown",
   "id": "7e3613b9",
   "metadata": {},
   "source": [
    "**Παράδειγμα**\n",
    "\n",
    "Στο επόμενο παράδειγμα απεικονίζονται πληθυσμοί 5 χωρών."
   ]
  },
  {
   "cell_type": "code",
   "execution_count": null,
   "id": "94f7201d",
   "metadata": {},
   "outputs": [],
   "source": [
    "countries = ['Κίνα', 'Ινδία', 'ΗΠΑ', 'Ινδονησία', 'Πακιστάν']\n",
    "populations = [1.4, 1.42, 0.334, 0.277, 0.24]\n",
    "plt.bar(countries, populations, color='green')\n",
    "plt.xlabel('Χώρες')\n",
    "plt.ylabel('Πληθυσμός (σε δισεκατομμύρια)')\n",
    "plt.title('Πληθυσμός Χωρών')\n",
    "plt.show()"
   ]
  },
  {
   "cell_type": "markdown",
   "id": "61a6080d",
   "metadata": {},
   "source": [
    "Το ραβδόγραμμα μπορεί να είναι και οριζόντιο κάνοντας χρήση της `boxh` αντί της `box`. Επιπλέον, αντί να θέσουμε ένα χρώμα στην παράμετρο `color`, θέσαμε λίστα χρωμάτων ώστε να έχουμε διαφορετικό χρώμα σε κάθε μπάρα."
   ]
  },
  {
   "cell_type": "code",
   "execution_count": null,
   "id": "917f8a24",
   "metadata": {
    "scrolled": true
   },
   "outputs": [],
   "source": [
    "countries = ['Κίνα', 'Ινδία', 'ΗΠΑ', 'Ινδονησία', 'Πακιστάν']\n",
    "colors = [\"yellow\",\"red\",\"green\",\"blue\",\"purple\"]\n",
    "populations = [1.4, 1.42, 0.334, 0.277, 0.24]\n",
    "plt.barh(countries, populations, color=colors)\n",
    "plt.xlabel('Χώρες')\n",
    "plt.ylabel('Πληθυσμός (σε δισεκατομμύρια)')\n",
    "plt.title('Πληθυσμός Χωρών')\n",
    "plt.show()"
   ]
  },
  {
   "cell_type": "markdown",
   "id": "6231a215",
   "metadata": {},
   "source": [
    "### subplot"
   ]
  },
  {
   "cell_type": "markdown",
   "id": "bf347fed",
   "metadata": {},
   "source": [
    "Με τη μέθοδο `subplot` έχουμε την δυνατότητα να δημιουργήσουμε πολλαπλά σχέδια στο ίδιο γράφημα. Δέχεται 2 παραμέτρους που αφορούν τις γραμμές και τις στήλες που θα τοποθετηθούν τα υπογραφήματα. Για παράδειγμα στο επόμενο γράφημα επιθυμούμε 4 γραφήματα σε 2 γραμμές και στήλες. Πιθανό είναι να απαιτείται και αλλαγή στο μέγεθος του γραφήματος με τη ιδιότητα `figsize` που δέχεται ένα `tuple` με 2 τιμές για πλάτος και ύψος. Η μέθοδος `grid` σχεδιάζει το πλέγμα μόνο στον άξονα `y`, μέσω της παραμέτρου `axis` και έχει τεθεί το σχέδιο `--` μέσω της `linestyle`."
   ]
  },
  {
   "cell_type": "code",
   "execution_count": null,
   "id": "d2f0c3f2",
   "metadata": {},
   "outputs": [],
   "source": [
    "countries = ['Κίνα', 'Ινδία', 'ΗΠΑ', 'Ινδονησία', 'Πακιστάν']\n",
    "population_1990 = [1140, 873, 248, 196, 126]\n",
    "population_2000 = [1267, 1028, 282, 214, 150]\n",
    "population_2010 = [1338, 1241, 309, 240, 177]\n",
    "population_2020 = [1441, 1380, 331, 270, 225]\n",
    "years = ['1990', '2000', '2010', '2020']"
   ]
  },
  {
   "cell_type": "code",
   "execution_count": null,
   "id": "e244ef23",
   "metadata": {},
   "outputs": [],
   "source": [
    "fig, axs = plt.subplots(2, 2, figsize=(12, 10))\n",
    "fig.suptitle('Πληθυσμοί Χωρών Ανά Δεκαετία', fontsize=16)\n",
    "populations = [population_1990, population_2000, population_2010, population_2020]\n",
    "\n",
    "for i, ax in enumerate(axs.flat):\n",
    "    ax.bar(countries, populations[i], color='skyblue')\n",
    "    ax.set_title(f'Αποτελέσματα για το {years[i]}')\n",
    "    ax.set_ylabel('Πληθυσμός (σε εκατομμύρια)')\n",
    "    ax.set_ylim(0, 1600)  # Ορισμός άξονα y\n",
    "    ax.grid(axis='y', linestyle='--')\n",
    "plt.tight_layout()  # Ρύθμιση διάταξης\n",
    "plt.show()"
   ]
  },
  {
   "cell_type": "markdown",
   "id": "ea669f96",
   "metadata": {},
   "source": [
    "### Ομαδοποιημένο ραβδόγραμμα"
   ]
  },
  {
   "cell_type": "markdown",
   "id": "519cb252",
   "metadata": {},
   "source": [
    "Στην δομή επανάληψης `for` που ακολουθεί στο επόμενο παράδειγμα καλούνται διαδοχικές `bar` για κάθε δεκαετία δημιουργώντας ομαδοποιημένο ραβδόγραμμα. Η προσέγγιση για αυτό το σχετικά σύνθετο γράφημα είναι η αντικειμενοστραφής με προσθήκη των `bar` στο αντικείμενο `axes`. Βάση του πλάτος και της κάθε ράβδου υπολογίζονται και οι συντεταγμένες των ετικετών στον x άξονα, `set_xticks`, `set_xticklabels`.\n",
    "\n",
    "Η `legend` εμφανίζει αυτοματοποιημένα ένα υπόμνημα στο γράφημα. Εξορισμού εδώ θα βάλει τις δεκαετίες και μέσω της παραμέτρου `title` έχουμε θέσει και έναν τίτλο."
   ]
  },
  {
   "cell_type": "code",
   "execution_count": null,
   "id": "e6a6a84c",
   "metadata": {},
   "outputs": [],
   "source": [
    "populations = [population_1990, population_2000, population_2010, population_2020]\n",
    "x = list(range(len(countries)))\n",
    "width = 0.2\n",
    "\n",
    "fig, ax = plt.subplots(figsize=(10, 6))\n",
    "\n",
    "for i in range(len(years)):\n",
    "    ax.bar([pos + i * width for pos in x], populations[i], width, label=years[i])\n",
    "\n",
    "# Ρυθμίσεις γραφήματος\n",
    "ax.set_xlabel('Χώρες')\n",
    "ax.set_ylabel('Πληθυσμός (σε εκατομμύρια)')\n",
    "ax.set_title('Πληθυσμοί Χωρών Ανά Δεκαετία')\n",
    "ax.set_xticks([pos + width * 1.5 for pos in x])  # Κεντρική θέση για τις χώρες\n",
    "ax.set_xticklabels(countries)\n",
    "ax.legend(title='Δεκαετίες')\n",
    "ax.grid(axis='y', linestyle='--')\n",
    "\n",
    "plt.tight_layout()\n",
    "plt.show()"
   ]
  },
  {
   "cell_type": "markdown",
   "id": "039df15f",
   "metadata": {},
   "source": [
    "**Παράδειγμα**\n",
    "\n",
    "Στο επόμενο παράδειγμα χρησιμοποιούμε δεδομένα από 1000 ρίψεις ζαριών και δείχνουμε με τη βοήθεια ιστογράμματος τη συχνότητα εμφάνισης κάθε αριθμού (1 έως 6)."
   ]
  },
  {
   "cell_type": "markdown",
   "id": "b1e57d49",
   "metadata": {},
   "source": [
    "Η μέθοδος `randint(a, b, size=n)` της βιβλιοθήκης numpy δημιουργεί έναν πίνακα `ndarray` με n τυχαίους ακεραίους από a έως b, το οποίο δεν συμπεριλαμβάνεται.\n",
    "\n",
    "- Στην μέθοδο `bar` θέτουμε χρώμα skyblue με μαύρο περίγραμμα, `edgecolor`.\n",
    "\n",
    "- Η μέθοδος `grid` σχεδιάζει το πλέγμα μόνο στον άξονα `y`, μέσω της παραμέτρου `axis` και έχει τεθεί το σχέδιο `--` μέσω της `linestyle`."
   ]
  },
  {
   "cell_type": "code",
   "execution_count": null,
   "id": "74aba484",
   "metadata": {},
   "outputs": [],
   "source": [
    "import numpy as np\n",
    "num = 1000\n",
    "rolls = np.random.randint(1, 7, size=num)\n",
    "unique, counts = np.unique(rolls, return_counts=True)\n",
    "plt.bar(unique, counts, color='skyblue', edgecolor='black')\n",
    "plt.title('Κατανομή Αποτελεσμάτων από '+str(num)+' ρίψεις ζαριών')\n",
    "plt.xlabel('Αριθμός Ζαριού')\n",
    "plt.ylabel('Συχνότητα')\n",
    "plt.xticks(np.arange(1, 7))\n",
    "plt.grid(axis='y', linestyle='--')\n",
    "plt.show()"
   ]
  },
  {
   "cell_type": "markdown",
   "id": "26bd7bc1",
   "metadata": {},
   "source": [
    "## Κυκλικό διάγραμμα, Pie Chart"
   ]
  },
  {
   "cell_type": "markdown",
   "id": "19c77d3b",
   "metadata": {},
   "source": [
    "Το κυκλικό διάγραμμα, ή διάγραμμα πίτας, pie chart, χρησιμοποιείται για την ανάδειξη των μεγαλύτερων και μικρότερων κατηγοριών, αλλά δεν είναι τόσο αποτελεσματικό για τη σύγκριση πολλών κατηγοριών με κοντινά ποσοστά.\n",
    "\n",
    "Η παράμετρος `colors` δέχεται μια λίστα χρωμάτων για τα τμήματα του διαγράμματος, η `labels` τα ονόματα των κατηγοριών."
   ]
  },
  {
   "cell_type": "markdown",
   "id": "b6ed0ed1",
   "metadata": {},
   "source": [
    "**Παράδειγμα**\n",
    "\n",
    "Το επόμενο παράδειγμα δείχνει την κατανομή του πληθυσμού στις ηπείρους. Αναδεικνύεται ο μεγάλος πληθυσμός της Ασίας αλλά με μια πρώτη ματιά δεν φαίνεται ξεκάθαρα αν η Ευρώπη ή η Λατινική Αμερική έχει μεγαλύτερο πληθυσμό."
   ]
  },
  {
   "cell_type": "code",
   "execution_count": null,
   "id": "e27593d3",
   "metadata": {},
   "outputs": [],
   "source": [
    "continents = ['Ασία', 'Αφρική', 'Ευρώπη', 'Λατινική Αμερική και Καραϊβική', 'Βόρεια Αμερική', 'Ωκεανία']\n",
    "populationPercentage = [59.5, 17.2, 9.6, 8.4, 4.8, 0.5]\n",
    "plt.pie(populationPercentage, labels=continents, colors=['gold', 'lightgreen', 'lightblue', 'salmon', 'orange', 'purple'])\n",
    "plt.title('Κατανομή Παγκόσμιου Πληθυσμού ανά Ήπειρο')\n",
    "plt.show()"
   ]
  },
  {
   "cell_type": "markdown",
   "id": "17f23aba",
   "metadata": {},
   "source": [
    "Επιπλέον, χρήσιμες παράμετροι που μπορούν να τεθούν:\n",
    "\n",
    "- `startangle`: θα θέσει την αρχική γωνία εκκίνησης των δεδομένων.\n",
    "\n",
    "- `shadow`: Αν η σκιά τεθεί ως True, εξορισμού είναι False, δίνεται μία τρισδιάστατη αίσθηση.\n",
    "\n",
    "- `autopct`: Εμφανίζει τις τιμές μορφοποιώντας και τον τρόπο εμφάνισης.\n",
    "\n",
    "- `explode`: Απομακρύνει ένα ή περισσότερα μέρη από το κέντρο τονίζοντάς τα.\n",
    "\n",
    "- `counterclock`: Αν τεθεί ως False, εξορισμού True, τα δεδομένα εμφανίζονται με τη φορά του ρολογιού."
   ]
  },
  {
   "cell_type": "code",
   "execution_count": null,
   "id": "4af135dd",
   "metadata": {},
   "outputs": [],
   "source": [
    "explode = [0,0,0,0.2,0,0]\n",
    "colors=['gold', 'lightgreen', 'lightblue', 'salmon', 'orange', 'purple']\n",
    "plt.pie(populationPercentage, \n",
    "        labels=continents, \n",
    "        colors = colors, \n",
    "        startangle=45, \n",
    "        shadow=True, \n",
    "        autopct='%1.1f%%',\n",
    "        explode = explode,\n",
    "        counterclock=False)\n",
    "plt.title('Κατανομή Παγκόσμιου Πληθυσμού ανά Ήπειρο')\n",
    "plt.show()"
   ]
  },
  {
   "cell_type": "markdown",
   "id": "d27a3adf",
   "metadata": {},
   "source": [
    "### Διάγραμμα Donut "
   ]
  },
  {
   "cell_type": "markdown",
   "id": "d38e3887",
   "metadata": {},
   "source": [
    "Τα διαγράμματα donut είναι παρόμοια με τα κυκλικά, αλλά έχουν μια τρύπα στο κέντρο, μοιάζοντας με ντόνατ. Χρησιμοποιούνται για να δείξουν ποσοστιαία κατανομή, ακριβώς όπως τα pie charts, απλώς με διαφορετική αισθητική. Αφήνουν χώρο στο κέντρο για τοποθέτηση κειμένου. Δημιουργούνται θέτοντας ένα **patch** κύκλου στην μέση. Τα patches δημιουργούν σχήματα και θα συζητηθούν στην συνέχεια.\n",
    "Η μέθοδος `gca()`, get current axes, επιστρέφει το τρέχον υποσύστημα αξόνων, ένα αντικείμενο `axes`, στο οποίο σχεδιάζεται το γράφημα. Έτσι, μπορούμε να προσθέσουμε γραφικά όπως εδώ τον κύκλο στην μέση του γραφήματος πίτας."
   ]
  },
  {
   "cell_type": "code",
   "execution_count": null,
   "id": "458fde3f",
   "metadata": {},
   "outputs": [],
   "source": [
    "import matplotlib.patches as patches\n",
    "continents = ['Ασία', 'Αφρική', 'Ευρώπη', 'Λατινική Αμερική και Καραϊβική', 'Βόρεια Αμερική', 'Ωκεανία']\n",
    "populationPercentage = [59.5, 17.2, 9.6, 8.4, 4.8, 0.5]\n",
    "colors=['gold', 'lightgreen', 'lightblue', 'salmon', 'orange', 'purple']\n",
    "plt.pie(populationPercentage, labels=continents,colors=colors,autopct='%1.1f%%')\n",
    "innercircle = patches.Circle((0,0), 0.70, fc='white')\n",
    "plt.gca().add_artist(innercircle)\n",
    "plt.title('Κατανομή Παγκόσμιου Πληθυσμού ανά Ήπειρο')\n",
    "plt.show()"
   ]
  },
  {
   "cell_type": "markdown",
   "id": "95c9822f",
   "metadata": {},
   "source": [
    "## Ιστόγραμμα, Histogram"
   ]
  },
  {
   "cell_type": "markdown",
   "id": "5710b8a3",
   "metadata": {},
   "source": [
    "Χρησιμοποιείται για την απεικόνιση της κατανομής συχνοτήτων ενός συνόλου δεδομένων. Αποτελείται από ράβδους που αναπαριστούν πόσες φορές εμφανίζονται τιμές σε συγκεκριμένα διαστήματα, `bins`. Τα ιστογράμματα είναι ιδιαίτερα χρήσιμα όταν θέλουμε να αναλύσουμε τη δομή των δεδομένων και να παρατηρήσουμε μοτίβα, όπως η συγκέντρωση των δεδομένων γύρω από κάποια τιμή ή η ύπαρξη ακροτάτων. Η μέθοδος παρουσίασης ιστογράμματος στο `matplotlib` είναι η `hist` με παράμετρο τα δεδομένα και τον αριθμό των διαστημάτων, `bins`."
   ]
  },
  {
   "cell_type": "markdown",
   "id": "d7486210",
   "metadata": {},
   "source": [
    "**Παράδειγμα**\n",
    "\n",
    "Παρουσιάζονται δεδομένα πυκνότητας πληθυσμού, κάτοικοι, δηλαδή, ανά τετραγωνικό χιλιόμετρο. Τα δεδομένα μας θα ομαδοποιηθούν σε 10 διαστήματα και θα παρουσιαστούν σε ιστόγραμμα."
   ]
  },
  {
   "cell_type": "code",
   "execution_count": null,
   "id": "0e7bb0da",
   "metadata": {},
   "outputs": [],
   "source": [
    "population_density = [203, 214, 417, 1265, 10, 36, 153, 464, 9, 103, \n",
    "                      3, 340, 66, 151, 526, 119, 233, 226, 25, 52, 15,\n",
    "                      100, 500, 1200, 900, 800, 50, 600, 30, 75, 200, \n",
    "                      410, 350, 230, 70, 540, 95, 85, 105, 450, 310]\n",
    "plt.hist(population_density, bins=10, edgecolor='black', color='blue')\n",
    "plt.title('Κατανομή Πυκνότητας Πληθυσμού')\n",
    "plt.xlabel('Πυκνότητα Πληθυσμού (κάτοικοι/km²)')\n",
    "plt.ylabel('Συχνότητα Χωρών')\n",
    "plt.show()"
   ]
  },
  {
   "cell_type": "markdown",
   "id": "e190dd33",
   "metadata": {},
   "source": [
    "## Διάγραμμα σφάλματος, error bar"
   ]
  },
  {
   "cell_type": "markdown",
   "id": "5d7d55e9",
   "metadata": {},
   "source": [
    "Το διάγραμμα με γραμμές σφάλματος είναι ένα είδος γραφήματος που χρησιμοποιείται όταν θέλουμε να παρουσιάσουμε τιμές με την αβεβαιότητά τους, δηλαδή να δείξουμε όχι μόνο τις μετρήσεις αλλά και το περιθώριο σφάλματος ή διακύμανσης γύρω από αυτές. Η μέθοδος παρουσίασης των διαγραμμάτων σφάλματος στο matplotlib είναι η `errorbar` που δέχεται τα δεδομένα καθώς και τις διακυμάνσεις, το σφάλμα δηλαδή στον άξονα x, `xerr` ή y, `yerr`."
   ]
  },
  {
   "cell_type": "markdown",
   "id": "dd7bee4d",
   "metadata": {},
   "source": [
    "**Παράδειγμα**\n",
    "\n",
    "Σε ένα πείραμα παρακολουθείται η θερμοκρασία σε 5 διαδοχικές μέρες και έχει γίνει καταγραφή του μέσου όρου αλλά και το πιθανό σφάλμα μέτρησης."
   ]
  },
  {
   "cell_type": "code",
   "execution_count": null,
   "id": "7a903c28",
   "metadata": {},
   "outputs": [],
   "source": [
    "days = np.arange(1,6)\n",
    "temperatures = np.array([22.4, 23.1, 21.9, 22.8, 23.5])\n",
    "std_devs = np.array([0.5, 0.3, 0.6, 0.4, 0.2])\n",
    "plt.errorbar(days, temperatures, yerr=std_devs)\n",
    "plt.title('Μετρήσεις θερμοκρασίας')\n",
    "plt.xlabel('Ημέρα')\n",
    "plt.ylabel('Θερμοκρασία (°C)')\n",
    "plt.grid(True)\n",
    "plt.show()"
   ]
  },
  {
   "cell_type": "markdown",
   "id": "284c9d9e",
   "metadata": {},
   "source": [
    "Το σφάλμα θα μπορούσε να αφορά αντί για μέτρηση θερμοκρασίας την χρονική στιγμή που έχει γίνει η καταγραφή. Τότε η παράμετρος θα πρέπει να είναι αντί για `yerr`, `xerr`."
   ]
  },
  {
   "cell_type": "code",
   "execution_count": null,
   "id": "0b718bb0",
   "metadata": {},
   "outputs": [],
   "source": [
    "days = np.arange(1,6)\n",
    "temperature = np.array([22.1, 23.5, 21.8, 24.0, 22.7])\n",
    "\n",
    "# Αβεβαιότητα στις μέρες (π.χ. ±0.5 μέρες καθυστέρηση/αβεβαιότητα καταγραφής)\n",
    "x_errors = np.array([0.2, 0.3, 0.1, 0.4, 0.5])\n",
    "\n",
    "plt.errorbar(days, temperature, xerr=x_errors, fmt='o', ecolor='blue', capsize=5)\n",
    "plt.xlabel(\"Ημέρα\")\n",
    "plt.ylabel(\"Θερμοκρασία (°C)\")\n",
    "plt.title(\"Μετρήσεις Θερμοκρασίας με Αβεβαιότητα στον χρόνο καταγραφής\")\n",
    "plt.grid(True)\n",
    "plt.show()\n"
   ]
  },
  {
   "cell_type": "markdown",
   "id": "19a168a9",
   "metadata": {},
   "source": [
    "Λάθη θα μπορούσαν να υπάρχουν και στους δύο άξονες. Στο επόμενο γράφημα δίνονται δεδομένα και στις δύο σχετικές παραμέτρους. Επιπλέον, για καλύτερη παρουσίαση δίνονται οι επόμενοι παράμετροι:\n",
    "\n",
    "- `fmt`: διαφορετικό σχήμα σημείων.\n",
    "\n",
    "- `ecolor`: χρώμα των γραμμών σφάλματος.\n",
    "\n",
    "- `capsize`: μήκος των «καπέλων», caps, στις άκρες των γραμμών σφάλματος.\n",
    "\n",
    "- `elinewidth`: πάχος των γραμμών σφάλματος\n",
    "\n",
    "- `markerfacecolor`: Γεμίζει τα σχήματα των σημείων με χρώμα."
   ]
  },
  {
   "cell_type": "code",
   "execution_count": null,
   "id": "75ca4bf5",
   "metadata": {},
   "outputs": [],
   "source": [
    "days = np.arange(1,6)\n",
    "temperature = np.array([22.1, 23.5, 21.8, 24.0, 22.7])\n",
    "# Αβεβαιότητα στη μέρα καταγραφής (±0.5)\n",
    "x_errors = np.array([0.5, 0.5, 0.5, 0.5, 0.5])\n",
    "# Αβεβαιότητα στη μέτρηση θερμοκρασίας (±0.3°C)\n",
    "y_errors = np.array([0.3, 0.2, 0.4, 0.3, 0.2])\n",
    "\n",
    "# Διάγραμμα με xerr και yerr\n",
    "plt.errorbar(days, temperature, xerr=x_errors, yerr=y_errors, fmt='s', \n",
    "             ecolor='red', capsize=5, elinewidth=2, markerfacecolor='black')\n",
    "plt.xlabel(\"Ημέρα\")\n",
    "plt.ylabel(\"Θερμοκρασία (°C)\")\n",
    "plt.title(\"Μετρήσεις Θερμοκρασίας με Αβεβαιότητες σε Ημέρες και Μετρήσεις\")\n",
    "plt.grid(True)\n",
    "plt.show()"
   ]
  },
  {
   "cell_type": "markdown",
   "id": "960dfe03",
   "metadata": {},
   "source": [
    "## Διαγράμματα box and whisker"
   ]
  },
  {
   "cell_type": "markdown",
   "id": "1f8351e6",
   "metadata": {},
   "source": [
    "Τα boxplot είναι διαγράμματα που απεικονίζουν κατανομή των δεδομένων μας μέσω των επόμενων μεγεθών.\n",
    "\n",
    "- Εύρος, Ελάχιστη-Μέγιστη τιμή\n",
    "\n",
    "- 1ο, Q1, και 3ο, Q3, τεταρτημόριο\n",
    "\n",
    "- Διάμεσος, Median ή Q2\n",
    "\n",
    "Επιπλέον, απεικονίζουν και δεδομένα που μπορεί να θεωρηθούν ακραίες τιμές, **outliers**."
   ]
  },
  {
   "cell_type": "markdown",
   "id": "cd18c1db",
   "metadata": {},
   "source": [
    "**Παράδειγμα**\n",
    "\n",
    "Θα παρουσιαστούν βαθμοί φοιτητών σε ένα μάθημα. Στο γράφημα είναι ορατά στοιχεία όπως η διάμεσος, Q2, μία γραμμή στη μέση του κουτιού, τα τεταρτημόρια Q1 και Q3 στο πάνω και κάτω μέρος του κουτιού. Στα μουστάκια, whiskers, απεικονίζονται τιμές που δεν είναι ouliers. Οι τελευταίες στα επόμενα δεδομένα θεωρούνται οι 0.5 και 10."
   ]
  },
  {
   "cell_type": "code",
   "execution_count": null,
   "id": "5da240b6",
   "metadata": {},
   "outputs": [],
   "source": [
    "grades = [5, 6, 6.5, 7, 7.5, 4, 6, 5.5, 4.5, 5.5, 5, 6, 0.5, 10]\n",
    "plt.boxplot(grades)\n",
    "plt.title('Κατανομή Βαθμών Φοιτητών')\n",
    "plt.ylabel('Βαθμός')\n",
    "plt.grid(True)\n",
    "plt.show()"
   ]
  },
  {
   "cell_type": "markdown",
   "id": "ca193602",
   "metadata": {},
   "source": [
    "**Παράδειγμα**\n",
    "\n",
    "Με τον τύπο αυτόν διαγράμματος μπορούν να συγκριθούν οι κατανομές πολλών διαφορετικών ομάδων δεδομένων όπως για παράδειγμα, στην συνέχεια οι βαθμοί φοιτητών σε πέντε διαφορετικά μαθήματα. Παρέχεται, έτσι, γρήγορη εποπτεία των βαθμών. Επιπλέον, στο παράδειγμα φαίνεται ο μέσος όρος σε κάθε μάθημα μέσω της παραμέτρου `showmeans=True` και έχουν τεθεί ετικέτες με την παράμετρο `labels`."
   ]
  },
  {
   "cell_type": "code",
   "execution_count": null,
   "id": "2692646f",
   "metadata": {},
   "outputs": [],
   "source": [
    "grades = {\n",
    "    'Απειροστικός':     [4, 5, 6, 6.5, 7, 8, 8.5, 9, 10, 10, 0],\n",
    "    'Πληροφορική': [5, 5.5, 6, 7, 7.5, 8, 9, 9.5, 10, 1],\n",
    "    'Στατιστική':     [3, 4, 5, 6, 7, 8, 9, 10, 10, 10],\n",
    "    'Ανάλυση':         [6, 6.5, 7, 7.5, 8, 8.5, 9, 9.5, 10],\n",
    "    'Θεωρία Αριθμών':         [2, 3, 4, 5, 6, 6.5, 7, 8, 9, 10, 0, 1]\n",
    "}\n",
    "plt.figure(figsize=(10, 6))\n",
    "plt.boxplot(grades.values(), labels=grades.keys(), showmeans=True)\n",
    "plt.title('Κατανομή Βαθμολογιών')\n",
    "plt.ylabel('Βαθμοί')\n",
    "plt.grid(axis='y')\n",
    "plt.show()"
   ]
  },
  {
   "cell_type": "markdown",
   "id": "2cabbf2e",
   "metadata": {},
   "source": [
    "## Διάγραμμα αράχνης, spider chart"
   ]
  },
  {
   "cell_type": "markdown",
   "id": "8a1f3b5c",
   "metadata": {},
   "source": [
    "Στο διάγραμμα αράχνης κάθε άξονας αντιπροσωπεύει μια μεταβλητή και όλοι οι άξονες ξεκινούν από το ίδιο κεντρικό σημείο. Οι τιμές για κάθε μεταβλητή συνδέονται με γραμμές για να σχηματίσουν ένα πολύγωνο. Δημιουργείται πολύ απλούστερα με πολικές συντεταγμένες. Είναι ιδανικό για σύγκριση δεξιοτήτων σε αθλητές και γενικότερα αξιολογήσεις με πολλά κριτήρια."
   ]
  },
  {
   "cell_type": "code",
   "execution_count": null,
   "id": "7037fa0e",
   "metadata": {},
   "outputs": [],
   "source": [
    "categories = ['Ταχύτητα', 'Ισχύς', 'Ακρίβεια', 'Αντοχή', 'Ευκινησία']\n",
    "stats = [90, 75, 95, 80, 90]\n",
    "N = len(categories)\n",
    "angles = [n / float(N) * 2 * np.pi for n in range(N)]\n",
    "angles += angles[:1]\n",
    "fig = plt.figure(figsize=(8, 8))\n",
    "ax = fig.add_subplot(111, polar=True)\n",
    "stats = stats + stats[:1]\n",
    "ax.plot(angles, stats, linewidth=2, linestyle='solid')\n",
    "ax.fill(angles, stats, alpha=0.4)\n",
    "ax.set_thetagrids(np.degrees(angles[:-1]), categories)\n",
    "ax.set_ylim(0, 100)\n",
    "plt.title('Spider Chart')\n",
    "plt.show()"
   ]
  },
  {
   "cell_type": "markdown",
   "id": "4d6fcb58",
   "metadata": {},
   "source": [
    "# Διαγράμματα γραμμής, plot"
   ]
  },
  {
   "cell_type": "markdown",
   "id": "81bdc1b4",
   "metadata": {},
   "source": [
    "Αν ενδιαφερόμαστε για την κατανόηση των αλλαγών των δεδομένων κατά τη διάρκεια μιας περιόδου, το διάγραμμα γραμμής είναι η κατάλληλη οπτικοποίηση. Απεικονίζουν ξεκάθαρα τάσεις, μοτίβα ή διακυμάνσεις, διευκολύνοντας την παρακολούθηση αλλαγών μέσα στον χρόνο."
   ]
  },
  {
   "cell_type": "markdown",
   "id": "20acdbc2-7458-460d-bc12-0c095e19b769",
   "metadata": {
    "slideshow": {
     "slide_type": "fragment"
    },
    "tags": []
   },
   "source": [
    "Η βασική μορφή της εντολής για γραφήματα γραμμής είναι η εξής:\n",
    "\n",
    "```Python\n",
    "plt.plot(δεδομένα_x, δεδομένα_y)\n",
    "```\n",
    "Τα δεδομένα για τους δύο άξονες πρέπει να έχουν τον ίδιο αριθμό στοιχείων, ενώ τα δεδομένα για το x μπορούν να παραλειφθούν. Η `plot` δημιουργεί ένα γράφημα γραμμής."
   ]
  },
  {
   "cell_type": "code",
   "execution_count": null,
   "id": "3df6b9b3-4c78-46e9-9be0-689450228078",
   "metadata": {
    "slideshow": {
     "slide_type": "subslide"
    },
    "tags": []
   },
   "outputs": [],
   "source": [
    "y = np.array([i**2 for i in range(10)])\n",
    "plt.plot(y)\n",
    "plt.grid(True)\n",
    "plt.show()"
   ]
  },
  {
   "cell_type": "markdown",
   "id": "9453c4b3-36c8-4503-86c8-00932398cc7a",
   "metadata": {
    "slideshow": {
     "slide_type": "subslide"
    },
    "tags": []
   },
   "source": [
    "Στο παραπάνω παράδειγμα, οι τιμές για τον άξονα x παραλείπονται, οπότε εννοείται η ακολουθία `range(10)`, οι ακέραιοι δηλαδή από 0 έως 9. Αν θέλουμε να ορίσουμε συγκεκριμένες τιμές για τον άξονα x, δίνουμε στην `plot` την αντίστοιχη ακολουθία τιμών. Επιπλέον, ένα σύνολο εντολών καθορίζουν τα χαρακτηριστικά του γραφήματος όπως τον τίτλο, τη λεζάντα, την κατακόρυφη θέση του άξονα $x$, κλπ.\n",
    "\n",
    "Τα σύμβολα `$` στην `title`, και οπουδήποτε υπάρχει κείμενο, χρησιμοποιούνται για τη μορφοποίηση μαθηματικών εξισώσεων σε γλώσσα LaTeX."
   ]
  },
  {
   "cell_type": "code",
   "execution_count": null,
   "id": "2a43ec44-d12f-4e98-8865-af66dfe232b0",
   "metadata": {
    "slideshow": {
     "slide_type": "subslide"
    },
    "tags": []
   },
   "outputs": [],
   "source": [
    "x_data = np.arange(0, 1000, 10)\n",
    "y_data = x_data ** 2\n",
    "plt.plot(x_data, y_data)\n",
    "plt.title(\"Η συνάρτηση $y = x^2$\")\n",
    "plt.show()"
   ]
  },
  {
   "cell_type": "markdown",
   "id": "c39b4772",
   "metadata": {},
   "source": [
    "**Παράδειγμα**\n",
    "\n",
    "Σκοπός του επόμενου παραδείγματος είναι η μελέτη της ευθύγραμμης ομαλά μεταβαλλόμενη κίνησης με σχετικά διαγράμματα. Υπενθυμίζεται ότι η ταχύτητα και η απόσταση που διανύει ένα σώμα στην μονάδα του χρόνου δίνονται από τις εξισώσεις:\n",
    "\n",
    "- $ v(t) = v_0 + at $\n",
    "\n",
    "- $ s(t) = s_0 + v_0 t + \\frac{1}{2} a t^2 $\n",
    "\n",
    "Θα υποθέσουμε ότι αρχικά η θέση θα είναι 0 και η ταχύτητα $10 m/sec$. Επίσης θα υποθέσουμε ότι η επιτάχυνση είναι $2 m/sec^2$"
   ]
  },
  {
   "cell_type": "code",
   "execution_count": null,
   "id": "1e5b4968",
   "metadata": {},
   "outputs": [],
   "source": [
    "s0,v0,a = 0,10,2\n",
    "# Χρονικό διάστημα\n",
    "t = np.arange(0, 10.5, 0.5) \n",
    "# Υπολογισμός θέσης s για κάθε t\n",
    "s = s0 + v0 * t + 0.5 * a * t**2\n",
    "# Υπολογισμός ταχύτητας για κάθε t\n",
    "v =  v0 + a * t"
   ]
  },
  {
   "cell_type": "code",
   "execution_count": null,
   "id": "ef7396b8",
   "metadata": {},
   "outputs": [],
   "source": [
    "# Σχεδίαση του γραφήματος μετατόπισης χρόνου \n",
    "plt.plot(t, s, marker='x', color='b')\n",
    "plt.xlabel('Χρόνος (s)')\n",
    "plt.ylabel('Θέση (m)')\n",
    "plt.title('Ευθύγραμμη Ομαλά Επιταχυνόμενη Κίνηση')\n",
    "plt.grid(True)\n",
    "plt.show()"
   ]
  },
  {
   "cell_type": "code",
   "execution_count": null,
   "id": "98369699",
   "metadata": {},
   "outputs": [],
   "source": [
    "plt.plot(t, v, marker='o', color='r')\n",
    "plt.xlabel('Χρόνος (s)')\n",
    "plt.ylabel('ταχύτητα (m/s)')\n",
    "plt.title('Ευθύγραμμη Ομαλά Επιταχυνόμενη Κίνηση')\n",
    "#plt.grid(False)\n",
    "plt.show()"
   ]
  },
  {
   "cell_type": "markdown",
   "id": "f39a2ead",
   "metadata": {},
   "source": [
    "## Πολλαπλά plots"
   ]
  },
  {
   "cell_type": "markdown",
   "id": "444cfcc2",
   "metadata": {},
   "source": [
    "Αν η μέθοδος `show` ακολουθήσει δύο ή περισσότερες κλήσεις της `plot`, στο γράφημα θα εμφανιστούν όλα τα γραφήματα που έχουν τεθεί ως εκείνη τη στιγμή.\n",
    "\n",
    "Σε συνέχεια του προηγούμενου παραδείγματος επιθυμούμε να συγκρίνουμε μετατοπίσεις δύο σωμάτων, ενός με ευθύγραμμη ομαλά επιταχυνόμενη κίνηση και ενός που κινείται ομαλά. Πέρα από την εμφάνισή τους σε ένα διάγραμμα έχει τεθεί λεζάντα διαφορετικά σχήματα στα σημεία καθώς και στυλ γραμμής. Στο 2ο `plot` όλες οι επιλογές έχουν τεθεί συνδυαστικά ('y^--' - 'κίτρινο, τρίγωνο, διακεκομμένη γραμμή')."
   ]
  },
  {
   "cell_type": "code",
   "execution_count": null,
   "id": "f500776c",
   "metadata": {},
   "outputs": [],
   "source": [
    "# Χρονικό διάστημα\n",
    "t = np.arange(0, 10.5, 0.5)   # Από 0 έως 10 δευτερόλεπτα ανά 0.5 sec\n",
    "# Αρχικές συνθήκες επιταχυνόμενης\n",
    "v0 = 2  # Αρχική ταχύτητα\n",
    "a = 5  # Επιτάχυνση\n",
    "# Υπολογισμός θέσης s για κάθε t\n",
    "s1 = v0 * t + 0.5 * a * t**2\n",
    "plt.plot(t, s1, marker='s', color='r', linestyle='-.', label=\"Ομαλά επιταχυνόμενη\")\n",
    "# Αρχικές συνθήκες ομαλής\n",
    "v = 25 # ταχύτητα\n",
    "# Υπολογισμός ταχύτητας για κάθε t\n",
    "s2 = v * t\n",
    "plt.plot(t, s2, 'y^--', label=\"Ομαλή\")\n",
    "\n",
    "plt.xlabel('Χρόνος (s)')\n",
    "plt.ylabel('Θέση (ft)')\n",
    "plt.title('Σύγκριση Κινήσεων')\n",
    "plt.yticks(range(0,300,30),[round(i * 3.28,2) for i in range(0, 300, 30)])\n",
    "plt.xticks(range(0,10))\n",
    "plt.legend()\n",
    "plt.grid(True)\n",
    "plt.show()"
   ]
  },
  {
   "cell_type": "markdown",
   "id": "8d0d8042-f187-42ce-a20f-884ad5744de5",
   "metadata": {},
   "source": [
    "**Παράδειγμα**: Ρίψη κέρματος\n",
    "\n",
    "Ρίχνουμε ένα νόμισμα $N=10000$ φορές και μετράμε τον αριθμό των κεφαλών, $k$, σε σχέση με τον συνολικό αριθμό ρίψεων, $Ν$."
   ]
  },
  {
   "cell_type": "markdown",
   "id": "320e9330-40ae-4eb5-b845-4605d7bf7b63",
   "metadata": {},
   "source": [
    "Για την προσομοίωση της ρίψης του νομίσματος, χρησιμοποιούμε τη συνάρτηση `randint` της `random` της NumPy. Η συνάρτηση καλείται ως εξής: \n",
    "\n",
    "```Python\n",
    "randint(αρχή, τέλος, αριθμός)\n",
    "```\n",
    "όπου `αρχή` είναι η κατώτερος και `τέλος` είναι ο επόμενος από τον ανώτερο ακέραιο που επιλέγεται τυχαία από τη συνάρτηση. Θα δημιουργηθεί πίνακας με `αριθμός` τυχαία στοιχεία. Θα υποθέσουμε ότι 1 = κορώνα και 0 = γράμματα"
   ]
  },
  {
   "cell_type": "code",
   "execution_count": null,
   "id": "09c364bc",
   "metadata": {},
   "outputs": [],
   "source": [
    "N = 10000 \n",
    "flips = np.random.randint(0, 2, size=N)\n",
    "flips"
   ]
  },
  {
   "cell_type": "markdown",
   "id": "1ff452f8",
   "metadata": {},
   "source": [
    "Η `cumsum` επιστρέφει το αθροιστικό άθροισμα, άρα των αριθμό των κορώνων, εφόσων υποθέσαμε ότι 1 = κορώνα, μέχρι κάθε ρίψη."
   ]
  },
  {
   "cell_type": "code",
   "execution_count": null,
   "id": "7dbd5674",
   "metadata": {},
   "outputs": [],
   "source": [
    "cumulative_heads = np.cumsum(flips)\n",
    "cumulative_heads"
   ]
  },
  {
   "cell_type": "markdown",
   "id": "a374fd36",
   "metadata": {},
   "source": [
    "Τα δεδομένα θα ομαδοποιηθούν σε ομάδες των 50 ρίψεων. Η T_values θα μας επιστρέψει τις τιμές 50, 100, 150,..., 10.000 και η k_values πόσες κορώνες ήρθαν μέχρι εκείνη την στιγμή."
   ]
  },
  {
   "cell_type": "code",
   "execution_count": null,
   "id": "7e63ba49",
   "metadata": {},
   "outputs": [],
   "source": [
    "batch = 50\n",
    "T_values = np.arange(batch, N + 1, batch)\n",
    "k_values = cumulative_heads[T_values - 1]"
   ]
  },
  {
   "cell_type": "markdown",
   "id": "f2c6db1e-3184-45f9-b988-22ca07e206c9",
   "metadata": {},
   "source": [
    "Η μεταβλητή `difs` υπολογίζει τη διαφορά μεταξύ του αναμενόμενου αριθμού κεφαλών, $\\frac{N}{2}$, και του παρατηρούμενου αριθμού κεφαλών, `k`, όπως προκύπτει από την προσομοίωση. Η k_per_n επιστρέφει τον λόγο των κεφαλών, k, προς τον τρέχοντα αριθμό ρίψεων, T, $\\frac{k}{T}$."
   ]
  },
  {
   "cell_type": "code",
   "execution_count": null,
   "id": "947181a3-c851-48e8-b25f-11043a483b7c",
   "metadata": {},
   "outputs": [],
   "source": [
    "difs = k_values - T_values / 2\n",
    "k_per_n = k_values / T_values"
   ]
  },
  {
   "cell_type": "markdown",
   "id": "afa5dc11-a85c-426c-8f3e-5b661c571b14",
   "metadata": {},
   "source": [
    "Στη συνέχεια, σχεδιάζουμε τον λόγο $\\frac{k}{T}$ για διαφορετικό αριθμό ρίψεων με τη συνάρτηση `plot` του πακέτου `matplotlib.pyplot`. Οι τιμές για τον άξονα  𝑥 του γραφήματος υπολογίζονται με την `arange` από την τιμή 1 ως 10000 με βήμα batch = 50."
   ]
  },
  {
   "cell_type": "code",
   "execution_count": null,
   "id": "300ee705-4e98-41af-9980-76054c13c46a",
   "metadata": {},
   "outputs": [],
   "source": [
    "plt.plot(T_values, k_per_n, label = \"k/T\")\n",
    "plt.axhline(0.5, color=\"brown\")\n",
    "plt.legend()\n",
    "plt.show()"
   ]
  },
  {
   "cell_type": "markdown",
   "id": "03743950-8bfd-4405-b6ad-27757d6a8e06",
   "metadata": {},
   "source": [
    "Ενώ ο λόγος $\\frac{k}{T}$ τείνει στο 0.5 καθώς το $N$ μεγαλώνει, όπως φαίνεται στο παραπάνω διάγραμμα, η διαφορά $k-\\frac{N}{2}$ έχει την παρακάτω μορφή:"
   ]
  },
  {
   "cell_type": "code",
   "execution_count": null,
   "id": "88427cb2-c39d-4c25-9672-491d4be8133e",
   "metadata": {
    "scrolled": true
   },
   "outputs": [],
   "source": [
    "plt.plot(T_values, difs, label = \"k - N/2\")\n",
    "plt.axhline(0, color=\"brown\")\n",
    "plt.legend()\n",
    "plt.show()"
   ]
  },
  {
   "cell_type": "markdown",
   "id": "a0c4b2fe-7b60-4287-9b64-3722c696e177",
   "metadata": {},
   "source": [
    "Βλέπουμε ότι η διασπορά των τιμών της διαφοράς $k-N$ μεγαλώνει καθώς το $N$ γίνεται όλο και μεγαλύτερο. Η μέση τιμή του $k-\\frac{N}{2}$ παραμένει 0. Το παραπάνω πείραμα πραγματοποίησε χωρίς τη χρήση υπολογιστή, με την απλή ρίψη νομίσματος, ο Βρετανός μαθηματικός <a href=\"https://en.wikipedia.org/wiki/John_Edmund_Kerrich\">John Edmund Kerrich</a> κατά τη διάρκεια της αιχμαλωσίας του κατά τον Δεύτερο Παγκόσμιο Πόλεμο.\n",
    "\n",
    "Προσομοιώσεις της παραπάνω μορφής, οι οποίες εμπλέκουν τυχαίους αριθμούς στους υπολογισμούς, ονομάζονται προσομοιώσεις Monte Carlo."
   ]
  },
  {
   "cell_type": "markdown",
   "id": "5a843d0d",
   "metadata": {},
   "source": [
    "**Παράδειγμα**\n",
    " \n",
    " Θα σχεδιαστεί το γράφημα της συνάρτησης του ημιτόνου από το -2π έως το 2π. Με την `linspace` θα δημιουργηθούν ισαπέχουσες τιμές για τα x και με τη βοήθεια της `np.sin` που εφαρμόζεται σε όλο τον πίνακα θα δημιουργηθούν και τα y των σημείων της παράστασης."
   ]
  },
  {
   "cell_type": "code",
   "execution_count": null,
   "id": "70521715",
   "metadata": {
    "colab": {
     "base_uri": "https://localhost:8080/",
     "height": 430
    },
    "id": "70521715",
    "outputId": "fd0c83fa-c2ac-4d3c-a5b4-924f0f113936",
    "slideshow": {
     "slide_type": "fragment"
    },
    "tags": []
   },
   "outputs": [],
   "source": [
    "x_data = np.linspace(-2* np.pi, 2 * np.pi, num=100)\n",
    "y_data = np.sin(x_data)\n",
    "plt.plot(x_data, y_data)\n",
    "plt.show()"
   ]
  },
  {
   "cell_type": "markdown",
   "id": "6d40c020",
   "metadata": {},
   "source": [
    "## Μέθοδοι pyplot"
   ]
  },
  {
   "cell_type": "markdown",
   "id": "359faac2",
   "metadata": {},
   "source": [
    "Τα επόμενα γραφήματα κάνουν χρήση της matlab διεπαφής. Οι μέθοδοί της matplotlib.pyplot που χρησιμοποιούνται:\n",
    "\n",
    "- `plot`: Δέχεται τις τιμές που θα αποτελέσουν τα δεδομένα του γραφήματος. Μπορεί να δεχτεί και διάφορες επιλογές εμφάνισης. Στο επόμενο παράδειγμα το σύμβολο για κάθε σημείο, *marker*, και το χρώμα, *color* (`b`: μπλε (blue), `g`: πράσινο (green), `r`: κόκκινο (red), `c`: κυανό (cyan), `m`: φούξια (magenta), `y`: κίτρινο (yellow), `k`: μαύρο (black), `w`: λευκό (white)). Σε παράδειγμα που ακολουθεί θέτουμε λεζάντα για κάθε γράφημα μέσω της *label* καθώς και μορφή γραμμής μέσω της *linestyle*.\n",
    "\n",
    "- `figure`: Δημιουργεί μία νέα εικόνα στην οποία θα σχεδιαστεί το γράφημα θέτοντας διάφορες ιδιότητες της.\n",
    "\n",
    "- `subplot`: Σε περίπτωση που θέλουμε πολλά γραφήματα σε μία εικόνα καθορίζεται το πλέγμα των γραφημάτων και η θέση του επόμενου γραφήματος.\n",
    "\n",
    "- `xlabel`: Ορίζει ετικέτα στον άξονα x.\n",
    "\n",
    "- `ylabel`: Ορίζει ετικέτα στον άξονα y.\n",
    "\n",
    "- `xticks`: Ορίζει τα σημεία στον άξονα x.\n",
    "\n",
    "- `yticks`: Ορίζει τα σημεία στον άξονα y.\n",
    "\n",
    "- `title`: Γενικός τίτλος γραφήματος.\n",
    "\n",
    "- `grid`: Προσθέτει πλέγμα στο γράφημα. Αν οριστεί ως `False` ή δεν καλεστεί καθόλου, το γράφημα δεν θα περιλαμβάνει πλέγμα.\n",
    "\n",
    "- `legend`: Προσθέτει λεζάντα στο γράφημα.\n",
    "\n",
    "- `show`: Εμφανίζει το γράφημα."
   ]
  },
  {
   "cell_type": "markdown",
   "id": "5196dbb7",
   "metadata": {},
   "source": [
    "Στην λεζάντα, όπως αυτή προστίθεται με την παράμετρο `legend` το κείμενο μπορεί να μορφοποιηθεί χρησιμοποιώντας LaTeX. Για να γίνει αυτό, το κείμενο θα πρέπει να περιέχεται ανάμεσα σε σύμβολα `$`."
   ]
  },
  {
   "cell_type": "markdown",
   "id": "8af3bc02",
   "metadata": {},
   "source": [
    "**Παράδειγμα**\n",
    "\n",
    "Θα εμφανίσουμε δύο γραφικές παραστάσεις των επόμενων συναρτήσεων:\n",
    "\n",
    "- $f(x) = \\frac{2}{3}x^2 + 5$\n",
    "\n",
    "- $g(x) = \\frac{1}{2}x^3-x^2+1$"
   ]
  },
  {
   "cell_type": "code",
   "execution_count": null,
   "id": "df7db611",
   "metadata": {},
   "outputs": [],
   "source": [
    "f = lambda x: 2/3*x**2+5\n",
    "g = lambda x: 1/2*x**3-x**2+1\n",
    "x = np.linspace(-5, 5, num=100)\n",
    "y = f(x)\n",
    "plt.plot(x, y, label='$f(x) = \\\\frac{2}{3}x^2 + 5$')\n",
    "y = g(x)\n",
    "plt.plot(x, y, label='$g(x) = \\\\frac{1}{2}x^3-x^2+1$')\n",
    "plt.xlabel('x')\n",
    "plt.ylabel('y')\n",
    "plt.axhline(0, color='black', linewidth=1)  # Οριζόντιος άξονας (y=0)\n",
    "plt.axvline(0, color='black', linewidth=1)  # Κατακόρυφος άξονας (x=0)\n",
    "plt.legend()\n",
    "plt.show()"
   ]
  },
  {
   "cell_type": "markdown",
   "id": "bbdd7d77",
   "metadata": {},
   "source": [
    "**Παράδειγμα**\n",
    "\n",
    " Θα σχεδιαστούν τέσσερα  γραφήματα αντίστοιχων συναρτήσεων:\n",
    "\n",
    " - $y=2x+1$\n",
    "\n",
    " - $y=x^2−4x+4$\n",
    "\n",
    " - $y=sin(x)$\n",
    "\n",
    " - $y=e^x$"
   ]
  },
  {
   "cell_type": "code",
   "execution_count": null,
   "id": "06105753",
   "metadata": {},
   "outputs": [],
   "source": [
    "# Ορισμός συναρτήσεων\n",
    "def linear(x):\n",
    "    return 2 * x + 1\n",
    "def quadratic(x):\n",
    "    return x**2 - 4 * x + 4\n",
    "def sinusoidal(x):\n",
    "    return np.sin(x)\n",
    "def exponential(x):\n",
    "    return np.exp(x)\n",
    "x = np.linspace(-10, 10, 100)\n",
    "plt.figure(figsize=(12, 8))\n",
    "# Γράφημα 1: Γραμμική συνάρτηση\n",
    "plt.subplot(2, 2, 1)  # Πρώτο γράφημα (1η γραμμή, 1η στήλη)\n",
    "plt.plot(x, linear(x), color='b', linestyle='-', marker='o', label='$y=2x+1$')\n",
    "plt.title('Γραμμική συνάρτηση')\n",
    "plt.xlabel('x')\n",
    "plt.ylabel('y')\n",
    "plt.grid(True)\n",
    "plt.legend()\n",
    "# Γράφημα 2: Τετραγωνική συνάρτηση\n",
    "plt.subplot(2, 2, 2)  # Δεύτερο γράφημα (1η γραμμή, 2η στήλη)\n",
    "plt.plot(x, quadratic(x), color='g', linestyle='--', marker='s', label='$y=x^2-4x+4$')\n",
    "plt.title('Τετραγωνική συνάρτηση')\n",
    "plt.xlabel('x')\n",
    "plt.ylabel('y')\n",
    "plt.grid(True)\n",
    "plt.legend()\n",
    "# Γράφημα 3: Ημιτονοειδής συνάρτηση\n",
    "plt.subplot(2, 2, 3)  # Τρίτο γράφημα (2η γραμμή, 1η στήλη)\n",
    "plt.plot(x, sinusoidal(x), color='r', linestyle='-.', marker='x', label='$y=sin(x)$')\n",
    "plt.title('Ημιτονοειδής συνάρτηση')\n",
    "plt.xlabel('x')\n",
    "plt.ylabel('y')\n",
    "plt.grid(True)\n",
    "plt.legend()\n",
    "# Γράφημα 4: Εκθετική συνάρτηση\n",
    "plt.subplot(2, 2, 4)  # Τέταρτο γράφημα (2η γραμμή, 2η στήλη)\n",
    "plt.plot(x, exponential(x), color='m', linestyle=':', marker='^', label='$y=e^x$')\n",
    "plt.title('Εκθετική συνάρτηση')\n",
    "plt.xlabel('x')\n",
    "plt.ylabel('y')\n",
    "plt.grid(True)\n",
    "plt.legend()\n",
    "plt.tight_layout()\n",
    "plt.show()"
   ]
  },
  {
   "cell_type": "markdown",
   "id": "2669b738",
   "metadata": {},
   "source": [
    "# Διαγράμματα Ισοϋψών, Contour Plots"
   ]
  },
  {
   "cell_type": "markdown",
   "id": "21c02e23",
   "metadata": {},
   "source": [
    "Τα contour plots, διαγράμματα ισοϋψών, χρησιμοποιούνται για να απεικονίσουν συναρτήσεις δύο μεταβλητών σε δισδιάστατο επίπεδο. Αντί να δείχνουν το ύψος (z-τιμή) με έναν τρίτο άξονα, όπως σε ένα 3D γράφημα, το κάνουν μέσω καμπυλών. Κάθε καμπύλη ενώνει σημεία που έχουν την ίδια τιμή z. Είναι ιδιαίτερα χρήσιμα για την οπτικοποίηση πεδίων, για παράδειγμα θερμοκρασίας, ύψους, πίεσης, ή για την κατανόηση της τοπογραφίας μιας επιφάνειας.\n",
    "\n",
    "Η βιβλιοθήκη matplotlib παρέχει τις μεθόδους `contour()` και `contourf()` για τη δημιουργία τέτοιων γραφημάτων."
   ]
  },
  {
   "cell_type": "markdown",
   "id": "3f607507",
   "metadata": {},
   "source": [
    "**Παράδειγμα**\n",
    "\n",
    "Θα αποτυπωθεί η συνάρτηση δύο μεταβλητών $f(x, y) = \\sin(x^2 + y^2) \\cdot \\cos(x \\cdot y)$ με την βοήθεια contour plot. Λόγω του ότι αποτελεί συνάρτηση δύο μεταβλητών θα φανεί χρήσιμη και η `meshgrid` η οποία δημιουργεί πλέγματα συντεταγμένων από πίνακες NumPy. Τα σημεία x και y δημιουργήθηκαν ως πίνακες NumPy με τη βοήθεια της `linspace`."
   ]
  },
  {
   "cell_type": "code",
   "execution_count": null,
   "id": "6614aaf8",
   "metadata": {},
   "outputs": [],
   "source": [
    "def f(x, y):\n",
    "    return np.sin(x**2 + y**2) * np.cos(x * y)\n",
    "x = np.linspace(0, 8, 100)\n",
    "y = np.linspace(0, 8, 100)\n",
    "\n",
    "X, Y = np.meshgrid(x, y)\n",
    "Z = f(X, Y)\n",
    "plt.contour(X, Y, Z);"
   ]
  },
  {
   "cell_type": "markdown",
   "id": "389baab0",
   "metadata": {},
   "source": [
    "Στο παραπάνω παράδειγμα οι ισοϋψείς τέθηκαν αυτοματοποιημένα από την python. Η παράμετρος `levels` μας επιτρέπει να καθορίσουμε μόνοι μας τα όρια των ισοϋψών γραμμών στα οποία θα τοποθετηθούν οι γραμμές."
   ]
  },
  {
   "cell_type": "code",
   "execution_count": null,
   "id": "4a5423a4",
   "metadata": {},
   "outputs": [],
   "source": [
    "def f(x, y):\n",
    "    return np.sin(x**2 + y**2) * np.cos(x * y)\n",
    "x = np.linspace(0, 8, 100)\n",
    "y = np.linspace(0, 8, 100)\n",
    "\n",
    "X, Y = np.meshgrid(x, y)\n",
    "Z = f(X, Y)\n",
    "plt.contour(X, Y, Z,  levels=np.linspace(-1, 1, 21));"
   ]
  },
  {
   "cell_type": "markdown",
   "id": "58cc3929",
   "metadata": {},
   "source": [
    "Η `contourf()` θα γεμίσει τις περιοχές ανάμεσα στις ισοϋψείς με κατάλληλα χρώματα. Η `colorbar()` θα δημιουργήσει μπάρα στην οποία θα φαίνονται οι τιμές της Z για κάθε χρώμα. Η παράμετρος `cmap` θέτει την χρωματική παλέτα που μπορεί να είναι:\n",
    "\n",
    "- 'viridis': Η προεπιλεγμένη χρωματική παλέτα του matplotlib με φάσμα από το κίτρινο έως το μοβ.\n",
    "\n",
    "- 'plasma': Παλέτα που ξεκινά από το κίτρινο και φτάνει στο μοβ με έντονη αντίθεση.\n",
    "\n",
    "- 'inferno': Παλέτα με θερμικά χρώματα που ξεκινούν από το μαύρο έως το κίτρινο-πορτοκαλί.\n",
    "\n",
    "- 'coolwarm': Παλέτα με αποχρώσεις του μπλε και του κόκκινου, κατάλληλη για δεδομένα που περιλαμβάνουν τόσο θετικές όσο και αρνητικές τιμές.\n",
    "\n",
    "- 'cividis': Χρωματική παλέτα κατάλληλη για άτομα με προβλήματα όρασης, με καθαρές διαφορές χρωμάτων.\n",
    "\n",
    "- 'spring': Παλέτα με χρώματα από ροζ έως πράσινο.\n",
    "\n",
    "- 'summer': Παλέτα που ξεκινά από το πράσινο και καταλήγει στο κίτρινο.\n",
    "\n",
    "- 'autumn': Παλέτα με αποχρώσεις του κόκκινου και πορτοκαλί.\n",
    "\n",
    "- 'winter': Παλέτα με αποχρώσεις του μπλε και πράσινου.\n",
    "\n",
    "Η `alpha` θέτει την διαφάνεια των περιοχών που έχουν χρωματιστεί "
   ]
  },
  {
   "cell_type": "code",
   "execution_count": null,
   "id": "909605e1",
   "metadata": {},
   "outputs": [],
   "source": [
    "plt.contourf(X, Y, Z,cmap='coolwarm', alpha=0.7);\n",
    "plt.colorbar();"
   ]
  },
  {
   "cell_type": "markdown",
   "id": "9b04146c",
   "metadata": {},
   "source": [
    "# patches"
   ]
  },
  {
   "cell_type": "markdown",
   "id": "84c61abc",
   "metadata": {},
   "source": [
    "Η `patches` στη βιβλιοθήκη `matplotlib` χρησιμοποιείται για σχεδίαση γεωμετρικών σχημάτων. Παρέχει πολλές κλάσεις για διάφορα είδη σχημάτων.\n",
    "\n",
    "- `Rectangle`: Ορθογώνιο, στο οποίο θέτουμε την κάτω αριστερά γωνια, το πλάτος και το ύψος.\n",
    "\n",
    "- `Circle`: Κύκλος με κέντρο και ακτίνα.\n",
    "\n",
    "- `Ellipse`: Έλλειψη με κέντρο, πλάτος και ύψος.\n",
    "\n",
    "- `Polygon`: Πολύγωνο με κορυφές.\n",
    "\n",
    "- `Arc`: Τόξο, με καθορισμένη αρχική και τελική γωνία.\n",
    "\n",
    "- `RegularPolygon`: Κανονικό πολύγωνο με κέντρο, αριθμό κορυφών, ακτίνα, δηλαδή απόσταση των κορυφών από το κέντρο."
   ]
  },
  {
   "cell_type": "code",
   "execution_count": null,
   "id": "dd8807bc",
   "metadata": {},
   "outputs": [],
   "source": [
    "import matplotlib.patches as patches\n",
    "fig, ax = plt.subplots()\n",
    "rect = patches.Rectangle((1, 1), 3, 2, edgecolor='blue', facecolor='lightblue')\n",
    "ax.add_patch(rect)\n",
    "ax.set_xlim(0, 5)\n",
    "ax.set_ylim(0, 4)\n",
    "ax.set_aspect('equal')  # Ισομετρική κλίμακα\n",
    "plt.show()"
   ]
  },
  {
   "cell_type": "markdown",
   "id": "68e5f72c",
   "metadata": {},
   "source": [
    "**Παράδειγμα**\n",
    "\n",
    "Θα δημιουργήσουμε ένα σχήμα με κύκλους με κέντρο σε τυχαία σημεία με x στο $[0,10)$, και y στο $[0,10)$ με τυχαίες ακτίνες στο $[0.2,0.8)$ και διάφορα χρώματα περιγράμματος και γεμίσματος."
   ]
  },
  {
   "cell_type": "code",
   "execution_count": null,
   "id": "4b14597d",
   "metadata": {},
   "outputs": [],
   "source": [
    "fig, ax = plt.subplots(figsize=(6, 6))\n",
    "\n",
    "num_circles = 200\n",
    "\n",
    "colors = ['red', 'blue', 'green', 'purple', 'orange', 'brown', 'black']\n",
    "\n",
    "for _ in range(num_circles):\n",
    "    x = np.random.uniform(0, 10)\n",
    "    y = np.random.uniform(0, 10)\n",
    "    r = np.random.uniform(0.2, 0.8)\n",
    "    edge_color = np.random.choice(colors)  # Επιλογή τυχαίου χρώματος\n",
    "    face_color = np.random.choice(colors)\n",
    "    circle = patches.Circle((x, y), r, edgecolor=edge_color, facecolor=face_color, linewidth=2)\n",
    "    ax.add_patch(circle)\n",
    "\n",
    "\n",
    "ax.set_xlim(0, 10)\n",
    "ax.set_ylim(0, 10)\n",
    "ax.set_title(\"Τυχαίοι Κύκλοι με Διάφορα Περιγράμματα\")\n",
    "plt.show()\n"
   ]
  },
  {
   "cell_type": "markdown",
   "id": "290d172e",
   "metadata": {},
   "source": [
    "**Παράδειγμα**\n",
    "\n",
    "Θα δημιουργήσουμε ένα κανονικό πολύγωνο με κέντρο το (0.5,0.5). Ο αριθμός των κορυφών θα είναι 6, άρα πρόκειται για κανονικό εξάγωνο με την απόσταση κάθε κορυφής από το κέντρο να είναι 0.3. Η παράμετρος `orientation` θα καθορίσει αν θα υπάρχει κάποια περιστροφή στο σχήμα το οποίο θα έχει κίτρινη επιφάνεια, `facecolor`, και μαύρο περίγραμμα, `edgecolor`.\n",
    "\n",
    "Στην συνέχεια θα προσθέσουμε έναν περιγεγραμμένο κύκλο. "
   ]
  },
  {
   "cell_type": "code",
   "execution_count": null,
   "id": "0ab03cc4",
   "metadata": {},
   "outputs": [],
   "source": [
    "center = (0.5,0.5)\n",
    "R = 0.3\n",
    "fig, ax = plt.subplots()\n",
    "hexagon = patches.RegularPolygon(center, numVertices=6, radius=R, orientation=0, facecolor='yellow', edgecolor='black')\n",
    "ax.add_patch(hexagon)\n",
    "circle = patches.Circle(center, R, edgecolor='blue', facecolor='none', linestyle='--')\n",
    "ax.add_patch(circle)\n",
    "ax.set_aspect('equal')\n",
    "plt.grid(True)\n",
    "plt.show()"
   ]
  }
 ],
 "metadata": {
  "kernelspec": {
   "display_name": "Python 3 (ipykernel)",
   "language": "python",
   "name": "python3"
  },
  "language_info": {
   "codemirror_mode": {
    "name": "ipython",
    "version": 3
   },
   "file_extension": ".py",
   "mimetype": "text/x-python",
   "name": "python",
   "nbconvert_exporter": "python",
   "pygments_lexer": "ipython3",
   "version": "3.11.4"
  }
 },
 "nbformat": 4,
 "nbformat_minor": 5
}
