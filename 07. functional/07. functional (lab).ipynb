{
 "cells": [
  {
   "cell_type": "markdown",
   "id": "e49832d6",
   "metadata": {},
   "source": [
    "<div style=\"padding:20px 0px 20px 0px; text-align:center; font-weight: bold; font-size:170%; background-color: #2d8077; color:#f0b439;\">\n",
    "07.<br>\n",
    "<span style=\"color:#ffffcc;\">Συναρτησιακός Προγραμματισμός, functional programming (εργαστήριο)</span>\n",
    "</div>"
   ]
  },
  {
   "cell_type": "markdown",
   "id": "82a6de72",
   "metadata": {},
   "source": [
    "# Γνήσιες συναρτήσεις, pure functions"
   ]
  },
  {
   "cell_type": "markdown",
   "id": "4461fa4b",
   "metadata": {},
   "source": [
    "Ποιές από τις επόμενες συναρτήσεις **δεν** αποτελούν γνήσιες, **pure** συναρτήσεις και γιατί;"
   ]
  },
  {
   "cell_type": "code",
   "execution_count": 1,
   "id": "cbceafd2",
   "metadata": {},
   "outputs": [],
   "source": [
    "# α)\n",
    "def square(x):\n",
    "    return x * x"
   ]
  },
  {
   "cell_type": "code",
   "execution_count": 2,
   "id": "2160ff66",
   "metadata": {},
   "outputs": [],
   "source": [
    "# β)\n",
    "total = 0\n",
    "\n",
    "def addToTotal(x):\n",
    "    global total\n",
    "    total += x\n",
    "    return total"
   ]
  },
  {
   "cell_type": "code",
   "execution_count": 3,
   "id": "b6f45eda",
   "metadata": {},
   "outputs": [],
   "source": [
    "# γ)\n",
    "import random\n",
    "def getRandomMultiple(x):\n",
    "    return x*random.randint(1, 100)"
   ]
  },
  {
   "cell_type": "code",
   "execution_count": 4,
   "id": "016cebd5",
   "metadata": {},
   "outputs": [],
   "source": [
    "# δ)\n",
    "def multiplyList(L, factor):\n",
    "    for i in range(len(L)):\n",
    "        L[i] *= factor\n",
    "    return L"
   ]
  },
  {
   "cell_type": "markdown",
   "id": "58f58858",
   "metadata": {},
   "source": []
  },
  {
   "cell_type": "markdown",
   "id": "816ef1e9",
   "metadata": {},
   "source": [
    "# Αναδρομή"
   ]
  },
  {
   "cell_type": "markdown",
   "id": "f5bbcbce",
   "metadata": {},
   "source": [
    "## Δύναμη"
   ]
  },
  {
   "cell_type": "markdown",
   "id": "658b47a6",
   "metadata": {},
   "source": [
    "Να υλοποιηθούν αναδρομικες συναρτήσεις οι οποίες να δέχονται ακέραιους αριθμούς _a_ και _n_ και να υπολογίζουν και να επιστρέφουν τη δύναμη $a^n$. \n",
    "\n",
    "α) Με τον αναδρομικό τύπο της δύναμης:\n",
    "$$\n",
    "a^n =\n",
    "\\begin{cases} \n",
    "1, & \\text{αν } n = 0 \\\\ \n",
    "\\frac{1}{a \\cdot a^{n+1}}, & \\text{αν } n < 0 \\\\ \n",
    "a \\cdot a^{n-1}, & \\text{αν } n > 0\n",
    "\\end{cases}\n",
    "$$\n",
    "\n",
    "β) Με την αποδοτικότερη μέθοδο ύψωσης σε δύναμη δια του τετραγωνισμού\n",
    "$$\n",
    "a^n =\n",
    "\\begin{cases}\n",
    "1 & \\text{αν } n = 0 \\\\\n",
    "\\left(a^{n/2}\\right)^2 & \\text{αν } n \\text{ είναι άρτιος} \\\\\n",
    "a \\times a^{n-1} & \\text{αν } n \\text{ είναι περιττός}\n",
    "\\end{cases}\n",
    "$$"
   ]
  },
  {
   "cell_type": "code",
   "execution_count": 5,
   "id": "818cf275",
   "metadata": {},
   "outputs": [],
   "source": [
    "# α)\n"
   ]
  },
  {
   "cell_type": "code",
   "execution_count": 6,
   "id": "85503e75",
   "metadata": {},
   "outputs": [],
   "source": [
    "# β) \n"
   ]
  },
  {
   "cell_type": "markdown",
   "id": "cace1e0c",
   "metadata": {},
   "source": [
    "## Εύρεση πρώτου"
   ]
  },
  {
   "cell_type": "markdown",
   "id": "45f853e1",
   "metadata": {},
   "source": [
    "Γράψε αναδρομικη συνάρτηση _isPrime_ σε Pyhton που ελέγχει αν ένας αριθμός είναι πρώτος ή όχι. Ένας ακέραιος μεγαλύτερος από το 1 αριθμός λέγεται πρώτος αν διαιρείται μόνο με τον εαυτό του και το 1."
   ]
  },
  {
   "cell_type": "code",
   "execution_count": null,
   "id": "cd8e5cfa",
   "metadata": {},
   "outputs": [],
   "source": []
  },
  {
   "cell_type": "markdown",
   "id": "ca483213",
   "metadata": {},
   "source": [
    "# lambda"
   ]
  },
  {
   "cell_type": "markdown",
   "id": "3b28a7f6",
   "metadata": {},
   "source": [
    "## Αυθαίρετος αριθμός παραμέτρων"
   ]
  },
  {
   "cell_type": "markdown",
   "id": "b8aebb00",
   "metadata": {},
   "source": [
    "Να γραφεί μία συνάρτηση με τη χρήση lambda, η οποία θα υπολογίζει τον μέσο όρο οποιουδήποτε αριθμού αριθμητικών τιμών που της δίνονται ως ορίσματα."
   ]
  },
  {
   "cell_type": "code",
   "execution_count": null,
   "id": "c1640d4f",
   "metadata": {},
   "outputs": [],
   "source": []
  },
  {
   "cell_type": "markdown",
   "id": "c1b9b273",
   "metadata": {},
   "source": [
    "## Παραγοντικό, lambda και αναδρομή"
   ]
  },
  {
   "cell_type": "markdown",
   "id": "3e4206ac",
   "metadata": {},
   "source": [
    "Γράψτε μια αναδρομική συνάρτηση υπολογισμού παραγοντικού (factorial) με χρήση lambda expression."
   ]
  },
  {
   "cell_type": "code",
   "execution_count": null,
   "id": "74736ccd",
   "metadata": {},
   "outputs": [],
   "source": []
  },
  {
   "cell_type": "markdown",
   "id": "8e21bdc5",
   "metadata": {},
   "source": [
    "## Ταξινόμηση"
   ]
  },
  {
   "cell_type": "markdown",
   "id": "6a880203",
   "metadata": {},
   "source": [
    "Σε ένα πανεπιστημιακό ίδρυμα οι αριθμοί μητρώου των φοιτητών έχουν της εξής δομή: Τα τρία πρώτα ψηφία αναφέρονται στο τμήμα, τα επόμενα τέσσερα στο έτος εγγρφής και τα επόμενα, και τελευταία, τρία στην σειρά εγγρααφής στο τμήμα. Με την βοήθεια lambda έκφρασης ταξινομήστε τους αριθμούς μητρώου σύμφωνα με το έτος εισαγωγής των φοιτητών."
   ]
  },
  {
   "cell_type": "code",
   "execution_count": null,
   "id": "b3573812",
   "metadata": {},
   "outputs": [],
   "source": []
  },
  {
   "cell_type": "code",
   "execution_count": null,
   "id": "5d6e25ca",
   "metadata": {
    "scrolled": true
   },
   "outputs": [],
   "source": []
  },
  {
   "cell_type": "markdown",
   "id": "bb42fa8b",
   "metadata": {},
   "source": [
    "Χωρίς lambda έκφραση."
   ]
  },
  {
   "cell_type": "code",
   "execution_count": null,
   "id": "bfda5585",
   "metadata": {},
   "outputs": [],
   "source": []
  },
  {
   "cell_type": "markdown",
   "id": "8f233ffe",
   "metadata": {},
   "source": [
    "## lambda και comprehension"
   ]
  },
  {
   "cell_type": "markdown",
   "id": "26ca4598",
   "metadata": {},
   "source": [
    "Δημιουργήστε με την βοήθεια `lambda` έκφρασης και τεχνική comprehension μία μέθοδο μετατροπής έκφρασης στα αρχικά της γράμματα. Για παράδειγμα η έκφραση 'laughing out loud' θα πρέπει να μετατραπεί σε 'lol'. Μπορείτε να χρησιμοποιήσετε και τις μεθόδους `split` και `join` που μετατρέπουν ένα `str` σε `list` και αντίστροφα."
   ]
  },
  {
   "cell_type": "code",
   "execution_count": null,
   "id": "48a760df",
   "metadata": {},
   "outputs": [],
   "source": []
  },
  {
   "cell_type": "markdown",
   "id": "a7d1367e",
   "metadata": {},
   "source": [
    "# Closure"
   ]
  },
  {
   "cell_type": "markdown",
   "id": "25139f3e",
   "metadata": {},
   "source": [
    "1. Υλοποιήστε συνάρτηση _applyDiscount(discount)_, η οποία δέχεται ένα ποσοστό έκπτωσης και επιστρέφει μια εσωτερική συνάρτηση που εφαρμόζει την έκπτωση σε μια τιμή προϊόντος.\n",
    "\n",
    "2. Η εσωτερική συνάρτηση, _apply(price)_ θα δέχεται μια αρχική τιμή, _price_, και θα επιστρέφει την τιμή μετά την εφαρμογή της έκπτωσης.\n",
    "\n",
    "3. Δημιουργήστε δύο διαφορετικά closures για να υπολογίσετε εκπτώσεις, salesdiscount με έκπτωση 25% και memberdiscount με έκπτωση 30%. Δοκιμάστε για μία αρχική τιμή, έστω 100."
   ]
  },
  {
   "cell_type": "code",
   "execution_count": null,
   "id": "b908a367",
   "metadata": {},
   "outputs": [],
   "source": []
  },
  {
   "cell_type": "markdown",
   "id": "5455cb8e",
   "metadata": {},
   "source": [
    "# Closure"
   ]
  },
  {
   "cell_type": "markdown",
   "id": "726af376",
   "metadata": {},
   "source": [
    "Υλοποιήστε μία συνάρτηση η οποία θα υπολογίζει το τελικό κόστος ενός προϊόντος με φόρο και έκπτωση χρησιμοποιώντας τεχνική closure. Πρώτα θα εφαρμόζεται ο φόρος, ο οποίος θα είναι 17% και στην συνέχεια η έκπτωση που θα είναι 20%. Για να υλοποιήσετε την συνάρτηση:\n",
    "\n",
    "1. Η συνάρτηση, έστω _totalCost_, Θα δέχεται αρχική τιμή, _price_, και θα επιστρέφει συνάρτηση _tax_.\n",
    "\n",
    "2. Η εσωτερική συνάρτηση _tax_ θα δέχεται τον φόρο, _taxrate_ και θα επιστρέφει την συνάρτηση _discount_.\n",
    "\n",
    "3. Η _discount_ δέχεται το ποσοστό έκπτωσης, _discountrate_ και επιστρέφει τελική τιμή σύμφωνα με τον τύπο: $\\text{Final Price} = ( \\text{price} \\times (1 + \\text{taxrate}) ) \\times (1 - \\text{discountrate})$"
   ]
  },
  {
   "cell_type": "code",
   "execution_count": null,
   "id": "9c0c98a5",
   "metadata": {},
   "outputs": [],
   "source": []
  },
  {
   "cell_type": "markdown",
   "id": "77cd3d93",
   "metadata": {},
   "source": [
    "# Decorators"
   ]
  },
  {
   "cell_type": "markdown",
   "id": "11877463",
   "metadata": {},
   "source": [
    "Υλοποιήστε έναν **decorator** στη Python που μετρά και εμφανίζει τον χρόνο εκτέλεσης μιας συνάρτησης. Η συνάρτηση, έστω _timingDecorator_ θα πρέπει:\n",
    "\n",
    "1. Να καταγράφει την ώρα έναρξης της συνάρτησης. Για την καταγραφή μπορεί να χρησιμοποιηθεί η συνάρτηση `time()` της βιβλιοθήκης `time`.\n",
    "\n",
    "2. Να εκτελεί την συνάρτηση που έχει δεχτεί ως παράμετρο. Η συνάρτηση που θα δέχεται θα μπορεί να έχει οποιονδήποτε αριθμό και τύπο ορισμάτων.\n",
    "\n",
    "3. Να καταγράφει την ώρα λήξης και να εμφανίζει τον συνολικό χρόνο εκτέλεσης.\n",
    "\n",
    "4. Εφαρμόστε τον **decorator** σε συνάρτηση η οποία θα δέχεται  έναν αριθμό n και θα επιστρέφει όλους τους πρώτους αριθμούς μέχρι τον αριθμό n."
   ]
  },
  {
   "cell_type": "code",
   "execution_count": null,
   "id": "eca1cc16",
   "metadata": {},
   "outputs": [],
   "source": []
  },
  {
   "cell_type": "markdown",
   "id": "e2944079",
   "metadata": {},
   "source": [
    "# map"
   ]
  },
  {
   "cell_type": "markdown",
   "id": "b8c9fa69",
   "metadata": {},
   "source": [
    "## Εφαρμογή υπό συνθήκη"
   ]
  },
  {
   "cell_type": "markdown",
   "id": "34c34ea1",
   "metadata": {},
   "source": [
    "Χρησιμοποιήστε τη `map` και μία `lambda` έκφραση, ώστε να επεξεργαστείτε μια λίστα από ακέραιους αριθμούς ως εξής:\n",
    "\n",
    "- Αν ο αριθμός είναι άρτιος παραμένει ως έχει.\n",
    "\n",
    "- Αν ο αριθμός είναι περιττός, προστίθεται 1 στον αριθμό, ώστε να γίνει άρτιος.\n",
    "\n",
    "Παράδειγμα η λίστα [1, 2, 3, 4] θα πρέπει να μετατραπεί σε [2, 2, 4, 4]"
   ]
  },
  {
   "cell_type": "markdown",
   "id": "df90d590",
   "metadata": {},
   "source": [
    "Μία επιπλέον εξωτερική της _decorator_ συνάρτηση θα μας επιτρέψει να εισάγουμε μία μεταβλητή όπως ο αριθμό των επαναλήψεων."
   ]
  },
  {
   "cell_type": "code",
   "execution_count": 18,
   "id": "b542cf94",
   "metadata": {},
   "outputs": [
    {
     "name": "stdout",
     "output_type": "stream",
     "text": [
      "Γεια!\n",
      "Γεια!\n",
      "Γεια!\n"
     ]
    }
   ],
   "source": [
    "def repeat_decorator(n):\n",
    "    def decorator(func):\n",
    "        def wrapper():\n",
    "            for _ in range(n):\n",
    "                func()\n",
    "        return wrapper\n",
    "    return decorator\n",
    "\n",
    "@repeat_decorator(3)\n",
    "def say_hi():\n",
    "    print(\"Γεια!\")\n",
    "say_hi()"
   ]
  },
  {
   "cell_type": "markdown",
   "id": "e58ef4b4",
   "metadata": {},
   "source": [
    "Τα παραπάνω παραδείγματα δεν περιελάμβαναν παραμέτρους. Για να μπορεί ο **decorator** μας να δεχτεί οποιονδήποτε αριθμό παραμέτρων θα πρέπει να χρησιμοποιήσουμε το σχήμα *args, για πλειάδα παραμ΄έτρων ή \\*\\*kwargs για ζεύγη λέξεων κλειδιών=ορισμάτων."
   ]
  },
  {
   "cell_type": "code",
   "execution_count": 20,
   "id": "69d900aa",
   "metadata": {},
   "outputs": [
    {
     "name": "stdout",
     "output_type": "stream",
     "text": [
      "Γεια! Alex\n",
      "Bye bye Kostis\n"
     ]
    }
   ],
   "source": [
    "def decorator(func):\n",
    "    def wrapper(*args):\n",
    "        func(*args)\n",
    "    return wrapper\n",
    "\n",
    "@decorator\n",
    "def say_hi(name):\n",
    "    print(\"Γεια!\", name)\n",
    "\n",
    "say_hi(\"Alex\")\n",
    "\n",
    "@decorator\n",
    "def say_greeting(greet,name):\n",
    "    print(greet, name)\n",
    "    \n",
    "say_greeting(\"Bye bye\",\"Kostis\")"
   ]
  },
  {
   "cell_type": "markdown",
   "id": "339cbfe8",
   "metadata": {},
   "source": [
    "**Παράδειγμα**\n",
    "\n",
    "Στο επόμενο παράδειγμα χρήσης **decorator** θα επιτραπεί μόνο σε εξουσιοδοτημένους χρήστες να εκτελέσουν μια συνάρτηση. Ο **decorator** _limited_access_ επιτρέπει την πρόσβαση μόνο στον ρόλο της παραμέτρου. Αναλυτικότερα:\n",
    "\n",
    "- limited_access(role): Δέχεται το ρόλο στον οποίο επιτρέπεται η πρόσβαση, εδώ \"admin\" και επιστρέφει τον decorator.\n",
    "\n",
    "- decorator(func): Δέχεται τη συνάρτηση, εδώ _limited_data_, και επιστρέφει τον _wrapper_.\n",
    "\n",
    "- wrapper(user): Εκτελείται κάθε φορά που καλείται η _limited_data_."
   ]
  },
  {
   "cell_type": "code",
   "execution_count": 15,
   "id": "3c29ce2f",
   "metadata": {},
   "outputs": [
    {
     "name": "stdout",
     "output_type": "stream",
     "text": [
      "Όνομα: Alice Ρόλος: admin\n",
      "Επιτρέπεται η πρόσβαση\n",
      "Δεδομένα περιορισμενης πρόσβασης...\n",
      "Όνομα: Bob Ρόλος: user\n",
      "Απαγορεύεται η πρόσβαση\n"
     ]
    }
   ],
   "source": [
    "def limited_access(role):\n",
    "    def decorator(func):\n",
    "        def wrapper(user):\n",
    "            print('Όνομα:',user['name'],'Ρόλος:',user['role'])\n",
    "            if user.get(\"role\") == role:\n",
    "                print('Επιτρέπεται η πρόσβαση')\n",
    "                return func(user)\n",
    "            else:\n",
    "                print('Απαγορεύεται η πρόσβαση')\n",
    "                return None\n",
    "        return wrapper\n",
    "    return decorator\n",
    "\n",
    "# Συνάρτηση που προστατεύεται με decorator\n",
    "@limited_access(\"admin\")\n",
    "def limited_data(user):\n",
    "    print(\"Δεδομένα περιορισμενης πρόσβασης...\")\n",
    "\n",
    "# Παράδειγμα χρήσης\n",
    "admin_user = {\"name\": \"Alice\", \"role\": \"admin\"}\n",
    "regular_user = {\"name\": \"Bob\", \"role\": \"user\"}\n",
    "\n",
    "limited_data(admin_user)\n",
    "limited_data(regular_user)\n"
   ]
  },
  {
   "cell_type": "code",
   "execution_count": null,
   "id": "611f6e22",
   "metadata": {},
   "outputs": [],
   "source": []
  },
  {
   "cell_type": "markdown",
   "id": "13b7eb8c",
   "metadata": {},
   "source": [
    "## Εφαρμογή σε πολλές λίστες"
   ]
  },
  {
   "cell_type": "markdown",
   "id": "a9d0cbdc",
   "metadata": {},
   "source": [
    "Ο υπολογισμός της $x^y mod n$ βρίσκει εφαρμογή στην θεωρία αριθμών και την κρυπτογραφία. Με δεδομένη μία λίστα αριθμών _N_, μία λίστα εκθετών _e_ και λίστα _m_ γράψτε ένα πρόγραμμα Python που χρησιμοποιεί τη μέθοδο map για να υπολογίσει την παραπάνω έκφραση."
   ]
  },
  {
   "cell_type": "code",
   "execution_count": null,
   "id": "5f953edd",
   "metadata": {},
   "outputs": [],
   "source": []
  },
  {
   "cell_type": "code",
   "execution_count": null,
   "id": "622b3563",
   "metadata": {},
   "outputs": [],
   "source": []
  }
 ],
 "metadata": {
  "kernelspec": {
   "display_name": "Python 3 (ipykernel)",
   "language": "python",
   "name": "python3"
  },
  "language_info": {
   "codemirror_mode": {
    "name": "ipython",
    "version": 3
   },
   "file_extension": ".py",
   "mimetype": "text/x-python",
   "name": "python",
   "nbconvert_exporter": "python",
   "pygments_lexer": "ipython3",
   "version": "3.11.4"
  }
 },
 "nbformat": 4,
 "nbformat_minor": 5
}
