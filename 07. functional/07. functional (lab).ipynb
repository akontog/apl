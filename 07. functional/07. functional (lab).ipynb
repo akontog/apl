{
 "cells": [
  {
   "cell_type": "markdown",
   "id": "e49832d6",
   "metadata": {},
   "source": [
    "<div style=\"padding:20px 0px 20px 0px; text-align:center; font-weight: bold; font-size:170%; background-color: #2d8077; color:#f0b439;\">\n",
    "07.<br>\n",
    "<span style=\"color:#ffffcc;\">Συναρτησιακός Προγραμματισμός, functional programming (εργαστήριο)</span>\n",
    "</div>"
   ]
  },
  {
   "cell_type": "markdown",
   "id": "82a6de72",
   "metadata": {},
   "source": [
    "# Γνήσιες συναρτήσεις, pure functions"
   ]
  },
  {
   "cell_type": "markdown",
   "id": "4461fa4b",
   "metadata": {},
   "source": [
    "Ποιές από τις επόμενες συναρτήσεις **δεν** αποτελούν γνήσιες, **pure** συναρτήσεις και γιατί;"
   ]
  },
  {
   "cell_type": "code",
   "execution_count": null,
   "id": "cbceafd2",
   "metadata": {},
   "outputs": [],
   "source": [
    "# α)\n",
    "def square(x):\n",
    "    return x * x"
   ]
  },
  {
   "cell_type": "code",
   "execution_count": 16,
   "id": "2160ff66",
   "metadata": {},
   "outputs": [],
   "source": [
    "# β)\n",
    "total = 0\n",
    "\n",
    "def addToTotal(x):\n",
    "    global total\n",
    "    total += x\n",
    "    return total"
   ]
  },
  {
   "cell_type": "code",
   "execution_count": null,
   "id": "b6f45eda",
   "metadata": {},
   "outputs": [],
   "source": [
    "# γ)\n",
    "import random\n",
    "def getRandomMultiple(x):\n",
    "    return x*random.randint(1, 100)"
   ]
  },
  {
   "cell_type": "code",
   "execution_count": null,
   "id": "016cebd5",
   "metadata": {},
   "outputs": [],
   "source": [
    "# δ)\n",
    "def multiplyList(L, factor):\n",
    "    for i in range(len(L)):\n",
    "        L[i] *= factor\n",
    "    return L"
   ]
  },
  {
   "cell_type": "markdown",
   "id": "58f58858",
   "metadata": {},
   "source": [
    "α) pure\n",
    "β) Μεταβάλλει μια global μεταβλητή (total).\n",
    "  Κάθε φορά που καλούμε την add_to_total θα πάρουμε διαφορετικά αποτελέσματα.\n",
    "γ) Δεν επιστρέφει κάθε φορά το ίδιο αποτέλεσμα αν δεχτεί την ίδια παράμετρο.\n",
    "δ) η συνάρτηση τροποποιεί την είσοδο."
   ]
  },
  {
   "cell_type": "markdown",
   "id": "816ef1e9",
   "metadata": {},
   "source": [
    "# Αναδρομή"
   ]
  },
  {
   "cell_type": "markdown",
   "id": "f5bbcbce",
   "metadata": {},
   "source": [
    "## Δύναμη"
   ]
  },
  {
   "cell_type": "markdown",
   "id": "658b47a6",
   "metadata": {},
   "source": [
    "Να υλοποιηθούν αναδρομικες συναρτήσεις οι οποίες να δέχονται ακέραιους αριθμούς _a_ και _n_ και να υπολογίζουν και να επιστρέφουν τη δύναμη $a^n$. \n",
    "\n",
    "α) Με τον αναδρομικό τύπο της δύναμης:\n",
    "$$\n",
    "a^n =\n",
    "\\begin{cases} \n",
    "1, & \\text{αν } n = 0 \\\\ \n",
    "\\frac{1}{a \\cdot a^{n+1}}, & \\text{αν } n < 0 \\\\ \n",
    "a \\cdot a^{n-1}, & \\text{αν } n > 0\n",
    "\\end{cases}\n",
    "$$\n",
    "\n",
    "β) Με την αποδοτικότερη μέθοδο ύψωσης σε δύναμη δια του τετραγωνισμού\n",
    "$$\n",
    "a^n =\n",
    "\\begin{cases}\n",
    "1 & \\text{αν } n = 0 \\\\\n",
    "\\left(a^{n/2}\\right)^2 & \\text{αν } n \\text{ είναι άρτιος} \\\\\n",
    "a \\times a^{n-1} & \\text{αν } n \\text{ είναι περιττός}\n",
    "\\end{cases}\n",
    "$$"
   ]
  },
  {
   "cell_type": "code",
   "execution_count": null,
   "id": "818cf275",
   "metadata": {},
   "outputs": [],
   "source": [
    "# α)\n",
    "def power(a, b):\n",
    "    if b == 0:\n",
    "        return 1\n",
    "    if b < 0:\n",
    "        return 1 / a*power(a, b+1)\n",
    "    return a * power(a, b - 1)\n",
    "\n",
    "power(2, 3),power(5, 0),power(2, -2)"
   ]
  },
  {
   "cell_type": "code",
   "execution_count": null,
   "id": "85503e75",
   "metadata": {},
   "outputs": [],
   "source": [
    "# β) \n",
    "def fastExponentiation(a, n):\n",
    "    if n == 0:\n",
    "        return 1\n",
    "    elif n < 0:\n",
    "        return 1 / fastExponentiation(a, -n)\n",
    "    elif n % 2 == 0:\n",
    "        return fastExponentiation(a, n // 2)*fastExponentiation(a, n // 2)\n",
    "    else:\n",
    "        return a * fastExponentiation(a, n - 1)\n",
    "fastExponentiation(2, 3),fastExponentiation(5, 0),fastExponentiation(2, -2)"
   ]
  },
  {
   "cell_type": "markdown",
   "id": "cace1e0c",
   "metadata": {},
   "source": [
    "## Εύρεση πρώτου"
   ]
  },
  {
   "cell_type": "markdown",
   "id": "45f853e1",
   "metadata": {},
   "source": [
    "Γράψε αναδρομικη συνάρτηση _isPrime_ σε Pyhton που ελέγχει αν ένας αριθμός είναι πρώτος ή όχι. Ένας ακέραιος μεγαλύτερος από το 1 αριθμός λέγεται πρώτος αν διαιρείται μόνο με τον εαυτό του και το 1."
   ]
  },
  {
   "cell_type": "code",
   "execution_count": null,
   "id": "cd8e5cfa",
   "metadata": {},
   "outputs": [],
   "source": [
    "def isPrime(number, divisor=2):\n",
    "    if number <= 1:\n",
    "        return False\n",
    "    if divisor == number:\n",
    "        return True\n",
    "    if number % divisor == 0:\n",
    "        return False\n",
    "    return isPrime(number, divisor + 1)\n",
    "isPrime(7),isPrime(9)"
   ]
  },
  {
   "cell_type": "markdown",
   "id": "3b7ee75f",
   "metadata": {},
   "source": [
    "## Χελώνα και αναδρομή"
   ]
  },
  {
   "cell_type": "code",
   "execution_count": null,
   "id": "229ec277",
   "metadata": {},
   "outputs": [],
   "source": []
  },
  {
   "cell_type": "markdown",
   "id": "ca483213",
   "metadata": {},
   "source": [
    "# lambda"
   ]
  },
  {
   "cell_type": "markdown",
   "id": "3b28a7f6",
   "metadata": {},
   "source": [
    "## Αυθαίρετος αριθμός παραμέτρων"
   ]
  },
  {
   "cell_type": "markdown",
   "id": "b8aebb00",
   "metadata": {},
   "source": [
    "Να γραφεί μία συνάρτηση με τη χρήση lambda, η οποία θα υπολογίζει τον μέσο όρο οποιουδήποτε αριθμού αριθμητικών τιμών που της δίνονται ως ορίσματα."
   ]
  },
  {
   "cell_type": "code",
   "execution_count": null,
   "id": "c1640d4f",
   "metadata": {},
   "outputs": [],
   "source": [
    "myavg = lambda *args : sum(args)/len(args)\n",
    "myavg(4,5,6,10)"
   ]
  },
  {
   "cell_type": "markdown",
   "id": "c1b9b273",
   "metadata": {},
   "source": [
    "## Παραγοντικό, lambda και αναδρομή"
   ]
  },
  {
   "cell_type": "markdown",
   "id": "3e4206ac",
   "metadata": {},
   "source": [
    "Γράψτε μια αναδρομική συνάρτηση υπολογισμού παραγοντικού (factorial) με χρήση lambda expression."
   ]
  },
  {
   "cell_type": "code",
   "execution_count": null,
   "id": "74736ccd",
   "metadata": {},
   "outputs": [],
   "source": [
    "fact = lambda n: 1 if n==0 else n * fact(n-1)\n",
    "fact(5)"
   ]
  },
  {
   "cell_type": "markdown",
   "id": "8f233ffe",
   "metadata": {},
   "source": [
    "## lambda και comprehension"
   ]
  },
  {
   "cell_type": "markdown",
   "id": "26ca4598",
   "metadata": {},
   "source": [
    "Δημιουργήστε με την βοήθεια `lambda` έκφρασης και τεχνική comprehension μία μέθοδο μετατροπής έκφρασης στα αρχικά της γράμματα. Για παράδειγμα η έκφραση 'laughing out loud' θα πρέπει να μετατραπεί σε 'lol'. Μπορείτε να χρησιμοποιήσετε και τις μεθόδους split και join που μετατρέπουν ένα `str` σε `list` και αντίστροφα."
   ]
  },
  {
   "cell_type": "code",
   "execution_count": null,
   "id": "48a760df",
   "metadata": {},
   "outputs": [],
   "source": [
    "s = 'laughing out loud'\n",
    "''.join([(lambda x:x[0])(w) for w in s.split()])"
   ]
  },
  {
   "cell_type": "markdown",
   "id": "a7d1367e",
   "metadata": {},
   "source": [
    "# Nested functions / Closure"
   ]
  },
  {
   "cell_type": "markdown",
   "id": "726af376",
   "metadata": {},
   "source": [
    "Υλοποιήστε μία συνάρτηση η οποία θα υπολογίζει το τελικό κόστος ενός προϊόντος με φόρο και έκπτωση χρησιμοποιώντας τεχνική closure. Πρώτα θα εφαρμόζεται ο φόρος, ο οποίος θα είναι 17% και στην συνέχεια η έκπτωση που θα είναι 20%. Για να υλοποιήσετε την συνάρτηση:\n",
    "\n",
    "1. Η συνάρτηση, έστω _totalCost_, Θα δέχεται αρχική τιμή, _price_, και θα επιστρέφει συνάρτηση _tax_.\n",
    "\n",
    "2. Η εσωτερική συνάρτηση _tax_ θα δέχεται τον φόρο, _taxrate_ και επιστρέφει την συνάρτηση _discount_.\n",
    "\n",
    "3. Η _discount_ δέχεται το ποσοστό έκπτωσης, _discountrate_ και επιστρέφει τελική τιμή σύμφωνα με τον τύπο: $\\text{Final Price} = ( \\text{price} \\times (1 + \\text{taxrate}) ) \\times (1 - \\text{discountrate})$"
   ]
  },
  {
   "cell_type": "code",
   "execution_count": 10,
   "id": "9c0c98a5",
   "metadata": {},
   "outputs": [
    {
     "name": "stdout",
     "output_type": "stream",
     "text": [
      "93.60000000000001\n"
     ]
    }
   ],
   "source": [
    "def totalCost(price):\n",
    "    def tax(taxrate):\n",
    "        def discount(discountrate):\n",
    "            return (price * (taxrate+1))*(1-discountrate)\n",
    "        return discount\n",
    "    return tax\n",
    "\n",
    "price = 100\n",
    "taxrate = .17\n",
    "discountrate = .20\n",
    "\n",
    "totalcostf = totalCost(price)\n",
    "taxf = totalcostf(taxrate)\n",
    "discountf = taxf(discountrate)\n",
    "print(discountf)"
   ]
  },
  {
   "cell_type": "markdown",
   "id": "77cd3d93",
   "metadata": {},
   "source": [
    "# Decorators"
   ]
  },
  {
   "cell_type": "markdown",
   "id": "11877463",
   "metadata": {},
   "source": [
    "Υλοποιήστε έναν **decorator** στη Python που μετρά και εμφανίζει τον χρόνο εκτέλεσης μιας συνάρτησης. Η συνάρτηση, έστω _timingDecorator_ θα πρέπει:\n",
    "\n",
    "1. Να καταγράφει την ώρα έναρξης της συνάρτησης. Για την καταγραφή μπορεί να χρησιμοποιηθεί η συνάρτηση `time()` της βιβλιοθήκης `time`.\n",
    "\n",
    "2. Να εκτελεί την συνάρτηση που έχει δεχτεί ως παράμετρο. Η συνάρτηση που θα δέχεται θα μπορεί να έχει οποιονδήποτε αριθμό και τύπο ορισμάτων.\n",
    "\n",
    "3. Να καταγράφει την ώρα λήξης και να εμφανίζει τον συνολικό χρόνο εκτέλεσης.\n",
    "\n",
    "4. Εφαρμόστε τον **decorator** σε συνάρτηση η οποία θα δέχεται  έναν αριθμό n και θα επιστρέφει όλους τους πρώτους αριθμούς μέχρι τον αριθμό n."
   ]
  },
  {
   "cell_type": "code",
   "execution_count": 15,
   "id": "eca1cc16",
   "metadata": {},
   "outputs": [
    {
     "name": "stdout",
     "output_type": "stream",
     "text": [
      "Χρόνος εκτέλεσης: 2.0019936561584473 δευτερόλεπτα\n",
      "Η συνάρτηση ολοκληρώθηκε!\n",
      "Χρόνος εκτέλεσης: 0.0034797191619873047 δευτερόλεπτα\n"
     ]
    },
    {
     "data": {
      "text/plain": [
       "[2,\n",
       " 3,\n",
       " 5,\n",
       " 7,\n",
       " 11,\n",
       " 13,\n",
       " 17,\n",
       " 19,\n",
       " 23,\n",
       " 29,\n",
       " 31,\n",
       " 37,\n",
       " 41,\n",
       " 43,\n",
       " 47,\n",
       " 53,\n",
       " 59,\n",
       " 61,\n",
       " 67,\n",
       " 71,\n",
       " 73,\n",
       " 79,\n",
       " 83,\n",
       " 89,\n",
       " 97,\n",
       " 101,\n",
       " 103,\n",
       " 107,\n",
       " 109,\n",
       " 113,\n",
       " 127,\n",
       " 131,\n",
       " 137,\n",
       " 139,\n",
       " 149,\n",
       " 151,\n",
       " 157,\n",
       " 163,\n",
       " 167,\n",
       " 173,\n",
       " 179,\n",
       " 181,\n",
       " 191,\n",
       " 193,\n",
       " 197,\n",
       " 199,\n",
       " 211,\n",
       " 223,\n",
       " 227,\n",
       " 229,\n",
       " 233,\n",
       " 239,\n",
       " 241,\n",
       " 251,\n",
       " 257,\n",
       " 263,\n",
       " 269,\n",
       " 271,\n",
       " 277,\n",
       " 281,\n",
       " 283,\n",
       " 293,\n",
       " 307,\n",
       " 311,\n",
       " 313,\n",
       " 317,\n",
       " 331,\n",
       " 337,\n",
       " 347,\n",
       " 349,\n",
       " 353,\n",
       " 359,\n",
       " 367,\n",
       " 373,\n",
       " 379,\n",
       " 383,\n",
       " 389,\n",
       " 397,\n",
       " 401,\n",
       " 409,\n",
       " 419,\n",
       " 421,\n",
       " 431,\n",
       " 433,\n",
       " 439,\n",
       " 443,\n",
       " 449,\n",
       " 457,\n",
       " 461,\n",
       " 463,\n",
       " 467,\n",
       " 479,\n",
       " 487,\n",
       " 491,\n",
       " 499,\n",
       " 503,\n",
       " 509,\n",
       " 521,\n",
       " 523,\n",
       " 541,\n",
       " 547,\n",
       " 557,\n",
       " 563,\n",
       " 569,\n",
       " 571,\n",
       " 577,\n",
       " 587,\n",
       " 593,\n",
       " 599,\n",
       " 601,\n",
       " 607,\n",
       " 613,\n",
       " 617,\n",
       " 619,\n",
       " 631,\n",
       " 641,\n",
       " 643,\n",
       " 647,\n",
       " 653,\n",
       " 659,\n",
       " 661,\n",
       " 673,\n",
       " 677,\n",
       " 683,\n",
       " 691,\n",
       " 701,\n",
       " 709,\n",
       " 719,\n",
       " 727,\n",
       " 733,\n",
       " 739,\n",
       " 743,\n",
       " 751,\n",
       " 757,\n",
       " 761,\n",
       " 769,\n",
       " 773,\n",
       " 787,\n",
       " 797,\n",
       " 809,\n",
       " 811,\n",
       " 821,\n",
       " 823,\n",
       " 827,\n",
       " 829,\n",
       " 839,\n",
       " 853,\n",
       " 857,\n",
       " 859,\n",
       " 863,\n",
       " 877,\n",
       " 881,\n",
       " 883,\n",
       " 887,\n",
       " 907,\n",
       " 911,\n",
       " 919,\n",
       " 929,\n",
       " 937,\n",
       " 941,\n",
       " 947,\n",
       " 953,\n",
       " 967,\n",
       " 971,\n",
       " 977,\n",
       " 983,\n",
       " 991,\n",
       " 997]"
      ]
     },
     "execution_count": 15,
     "metadata": {},
     "output_type": "execute_result"
    }
   ],
   "source": [
    "import time\n",
    "\n",
    "def timingDecorator(func):\n",
    "    def wrapper(*args, **kwargs):\n",
    "        start_time = time.time()\n",
    "        result = func(*args, **kwargs)  # Εκτέλεση αρχικής συνάρτησης\n",
    "        end_time = time.time()\n",
    "        print('Χρόνος εκτέλεσης:', end_time - start_time, 'δευτερόλεπτα')\n",
    "        return result\n",
    "    return wrapper\n",
    "\n",
    "@timingDecorator\n",
    "def slow_function():\n",
    "    time.sleep(2)  # Προσομοίωση καθυστέρησης 2 δευτερολέπτων\n",
    "    return \"Η συνάρτηση ολοκληρώθηκε!\"\n",
    "\n",
    "@timingDecorator\n",
    "def find_primes(n):\n",
    "    primes = []\n",
    "    for num in range(2, n + 1):\n",
    "        is_prime = all(num % i != 0 for i in range(2, int(num ** 0.5) + 1))\n",
    "        if is_prime:\n",
    "            primes.append(num)\n",
    "    return primes\n",
    "# Εκτέλεση της συνάρτησης\n",
    "print(slow_function())\n",
    "\n",
    "find_primes(1000)"
   ]
  },
  {
   "cell_type": "markdown",
   "id": "e2944079",
   "metadata": {},
   "source": [
    "# map"
   ]
  },
  {
   "cell_type": "markdown",
   "id": "b8c9fa69",
   "metadata": {},
   "source": [
    "## Εφαρμογή υπό συνθήκη"
   ]
  },
  {
   "cell_type": "markdown",
   "id": "34c34ea1",
   "metadata": {},
   "source": [
    "Χρησιμοποιήστε τη `map` και μία `lambda` έκφραση, ώστε να επεξεργαστείτε μια λίστα από ακέραιους αριθμούς ως εξής:\n",
    "\n",
    "- Αν ο αριθμός είναι άρτιος παραμένει ως έχει.\n",
    "\n",
    "- Αν ο αριθμός είναι περιττός, προστίθεται 1 στον αριθμό, ώστε να γίνει άρτιος.\n",
    "\n",
    "Παράδειγμα η λίστα [1, 2, 3, 4] θα πρέπει να μετατραπεί σε [2, 2, 4, 4]"
   ]
  },
  {
   "cell_type": "code",
   "execution_count": null,
   "id": "611f6e22",
   "metadata": {},
   "outputs": [],
   "source": [
    "L = [1, 2, 3, 4]\n",
    "list(map(lambda x: x if x%2==0 else x+1, L))"
   ]
  },
  {
   "cell_type": "markdown",
   "id": "13b7eb8c",
   "metadata": {},
   "source": [
    "## Εφαρμογή σε πολλές λίστες"
   ]
  },
  {
   "cell_type": "markdown",
   "id": "a9d0cbdc",
   "metadata": {},
   "source": [
    "Ο υπολογισμός της $x^y mod n$ βρίσκει εφαρμογή στην θεωρία αριθμών και την κρυπτογραφία. Με δεδομένη μία λίστα αριθμών _N_, μία λίστα εκθετών _e_ και λίστα _m_ γράψτε ένα πρόγραμμα Python που χρησιμοποιεί τη μέθοδο map για να υπολογίσει την παραπάνω έκφραση."
   ]
  },
  {
   "cell_type": "code",
   "execution_count": null,
   "id": "5f953edd",
   "metadata": {},
   "outputs": [],
   "source": [
    "N = [2, 3, 4]\n",
    "e = [10, 10, 10]\n",
    "m = [5,10,15]\n",
    "list(map(lambda x, y, z: x**y%z, N, e,m))"
   ]
  },
  {
   "cell_type": "code",
   "execution_count": null,
   "id": "622b3563",
   "metadata": {},
   "outputs": [],
   "source": []
  }
 ],
 "metadata": {
  "kernelspec": {
   "display_name": "Python 3 (ipykernel)",
   "language": "python",
   "name": "python3"
  },
  "language_info": {
   "codemirror_mode": {
    "name": "ipython",
    "version": 3
   },
   "file_extension": ".py",
   "mimetype": "text/x-python",
   "name": "python",
   "nbconvert_exporter": "python",
   "pygments_lexer": "ipython3",
   "version": "3.11.4"
  }
 },
 "nbformat": 4,
 "nbformat_minor": 5
}
