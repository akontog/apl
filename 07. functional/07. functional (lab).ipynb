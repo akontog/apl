{
 "cells": [
  {
   "cell_type": "markdown",
   "id": "e49832d6",
   "metadata": {},
   "source": [
    "<div style=\"padding:20px 0px 20px 0px; text-align:center; font-weight: bold; font-size:170%; background-color: #2d8077; color:#f0b439;\">\n",
    "07.<br>\n",
    "<span style=\"color:#ffffcc;\">Συναρτησιακός Προγραμματισμός, functional programming (εργαστήριο)</span>\n",
    "</div>"
   ]
  },
  {
   "cell_type": "markdown",
   "id": "82a6de72",
   "metadata": {},
   "source": [
    "# Γνήσιες συναρτήσεις, pure functions"
   ]
  },
  {
   "cell_type": "markdown",
   "id": "4461fa4b",
   "metadata": {},
   "source": [
    "Ποιες από τις επόμενες συναρτήσεις **δεν** αποτελούν γνήσιες, **pure** συναρτήσεις και γιατί;"
   ]
  },
  {
   "cell_type": "code",
   "execution_count": 1,
   "id": "cbceafd2",
   "metadata": {},
   "outputs": [],
   "source": [
    "# α)\n",
    "def square(x):\n",
    "    return x * x"
   ]
  },
  {
   "cell_type": "code",
   "execution_count": 2,
   "id": "2160ff66",
   "metadata": {},
   "outputs": [],
   "source": [
    "# β)\n",
    "total = 0\n",
    "\n",
    "def addToTotal(x):\n",
    "    global total\n",
    "    total += x\n",
    "    return total"
   ]
  },
  {
   "cell_type": "code",
   "execution_count": 3,
   "id": "b6f45eda",
   "metadata": {},
   "outputs": [],
   "source": [
    "# γ)\n",
    "import random\n",
    "def getRandomMultiple(x):\n",
    "    return x*random.randint(1, 100)"
   ]
  },
  {
   "cell_type": "code",
   "execution_count": 4,
   "id": "016cebd5",
   "metadata": {},
   "outputs": [],
   "source": [
    "# δ)\n",
    "def multiplyList(L, factor):\n",
    "    for i in range(len(L)):\n",
    "        L[i] *= factor\n",
    "    return L"
   ]
  },
  {
   "cell_type": "markdown",
   "id": "816ef1e9",
   "metadata": {},
   "source": [
    "# Αναδρομή"
   ]
  },
  {
   "cell_type": "markdown",
   "id": "d19c421b",
   "metadata": {},
   "source": [
    "## Αριθμός ψηφίων"
   ]
  },
  {
   "cell_type": "markdown",
   "id": "49de54bd",
   "metadata": {},
   "source": [
    "Να υλοποιηθεί συνάρτηση, έστω _getSumDigits_ η οποία δέχεται παράμετρο φυσικό αριθμό _n_ και επιστρέφει το άθροισμα των ψηφίων του. Ο υπολογισμός να γίνει αναδρομικά\n",
    "\n",
    "Παράδειγμα κλήσης:\n",
    "```\n",
    ">>>getSumDigits(453)\n",
    "\n",
    "12\n",
    "```"
   ]
  },
  {
   "cell_type": "code",
   "execution_count": null,
   "id": "7640990a",
   "metadata": {},
   "outputs": [],
   "source": []
  },
  {
   "cell_type": "markdown",
   "id": "cace1e0c",
   "metadata": {},
   "source": [
    "## Εύρεση πρώτου"
   ]
  },
  {
   "cell_type": "markdown",
   "id": "45f853e1",
   "metadata": {},
   "source": [
    "Γράψε αναδρομική συνάρτηση _isPrime_ σε Pyhton που ελέγχει αν ένας αριθμός είναι πρώτος ή όχι. Ένας ακέραιος μεγαλύτερος από το 1 αριθμός λέγεται πρώτος αν διαιρείται μόνο με τον εαυτό του και το 1."
   ]
  },
  {
   "cell_type": "code",
   "execution_count": null,
   "id": "cd8e5cfa",
   "metadata": {},
   "outputs": [],
   "source": []
  },
  {
   "cell_type": "markdown",
   "id": "f5bbcbce",
   "metadata": {},
   "source": [
    "## Δύναμη"
   ]
  },
  {
   "cell_type": "markdown",
   "id": "658b47a6",
   "metadata": {},
   "source": [
    "Να υλοποιηθούν αναδρομικές συναρτήσεις οι οποίες να δέχονται ακέραιους αριθμούς _a_ και _n_ και να υπολογίζουν και να επιστρέφουν τη δύναμη $a^n$.\n",
    "\n",
    "α) Με τον αναδρομικό τύπο της δύναμης:\n",
    "$$\n",
    "a^n =\n",
    "\\begin{cases}\n",
    "1, & \\text{αν } n = 0 \\\\\n",
    "\\frac{1}{a \\cdot a^{n+1}}, & \\text{αν } n < 0 \\\\\n",
    "a \\cdot a^{n-1}, & \\text{αν } n > 0\n",
    "\\end{cases}\n",
    "$$\n",
    "\n",
    "β) Με την αποδοτικότερη μέθοδο ύψωσης σε δύναμη δια του τετραγωνισμού\n",
    "$$\n",
    "a^n =\n",
    "\\begin{cases}\n",
    "1 & \\text{αν } n = 0 \\\\\n",
    "\\left(a^{n/2}\\right)^2 & \\text{αν } n \\text{ είναι άρτιος} \\\\\n",
    "a \\times a^{n-1} & \\text{αν } n \\text{ είναι περιττός}\n",
    "\\end{cases}\n",
    "$$"
   ]
  },
  {
   "cell_type": "code",
   "execution_count": null,
   "id": "818cf275",
   "metadata": {},
   "outputs": [],
   "source": []
  },
  {
   "cell_type": "code",
   "execution_count": null,
   "id": "85503e75",
   "metadata": {},
   "outputs": [],
   "source": []
  },
  {
   "cell_type": "markdown",
   "id": "ca483213",
   "metadata": {},
   "source": [
    "# lambda"
   ]
  },
  {
   "cell_type": "markdown",
   "id": "3b28a7f6",
   "metadata": {},
   "source": [
    "## Αυθαίρετος αριθμός παραμέτρων"
   ]
  },
  {
   "cell_type": "markdown",
   "id": "b8aebb00",
   "metadata": {},
   "source": [
    "Να γραφεί μία συνάρτηση με τη χρήση έκφρασης lambda, η οποία θα υπολογίζει τον μέσο όρο οποιουδήποτε αριθμού αριθμητικών τιμών που της δίνονται ως ορίσματα."
   ]
  },
  {
   "cell_type": "code",
   "execution_count": null,
   "id": "c1640d4f",
   "metadata": {},
   "outputs": [],
   "source": []
  },
  {
   "cell_type": "markdown",
   "id": "c1b9b273",
   "metadata": {},
   "source": [
    "## Παραγοντικό, lambda και αναδρομή"
   ]
  },
  {
   "cell_type": "markdown",
   "id": "3e4206ac",
   "metadata": {},
   "source": [
    "Γράψτε μια αναδρομική συνάρτηση υπολογισμού παραγοντικού, factorial, με χρήση lambda expression."
   ]
  },
  {
   "cell_type": "code",
   "execution_count": null,
   "id": "74736ccd",
   "metadata": {},
   "outputs": [],
   "source": []
  },
  {
   "cell_type": "markdown",
   "id": "8e21bdc5",
   "metadata": {},
   "source": [
    "## Ταξινόμηση"
   ]
  },
  {
   "cell_type": "markdown",
   "id": "6a880203",
   "metadata": {},
   "source": [
    "Σε ένα πανεπιστημιακό ίδρυμα οι αριθμοί μητρώου των φοιτητών έχουν της εξής δομή: Τα τρία πρώτα ψηφία αναφέρονται στο τμήμα, τα επόμενα τέσσερα στο έτος εγγραφής και τα επόμενα, και τελευταία, τρία στην σειρά εγγραφής στο τμήμα. Με την βοήθεια lambda έκφρασης ταξινομήστε τους αριθμούς μητρώου σύμφωνα με το έτος εισαγωγής των φοιτητών."
   ]
  },
  {
   "cell_type": "code",
   "execution_count": 11,
   "id": "b3573812",
   "metadata": {},
   "outputs": [
    {
     "data": {
      "text/plain": [
       "['3112021010',\n",
       " '3112022112',\n",
       " '3122019100',\n",
       " '3122021121',\n",
       " '3132022111',\n",
       " '3142023110']"
      ]
     },
     "execution_count": 11,
     "metadata": {},
     "output_type": "execute_result"
    }
   ],
   "source": [
    "ids = [\"3112021010\", \"3122019100\", \"3132022111\", \"3112022112\", \"3142023110\", \"3122021121\"]\n",
    "sorted(ids)"
   ]
  },
  {
   "cell_type": "code",
   "execution_count": null,
   "id": "5d6e25ca",
   "metadata": {
    "scrolled": true
   },
   "outputs": [],
   "source": []
  },
  {
   "cell_type": "markdown",
   "id": "8f233ffe",
   "metadata": {},
   "source": [
    "## lambda και comprehension"
   ]
  },
  {
   "cell_type": "markdown",
   "id": "26ca4598",
   "metadata": {},
   "source": [
    "Δημιουργήστε με την βοήθεια `lambda` έκφρασης και τεχνική comprehension μία μέθοδο μετατροπής έκφρασης στα αρχικά της γράμματα. Για παράδειγμα η έκφραση 'laughing out loud' θα πρέπει να μετατραπεί σε 'lol'. Μπορείτε να χρησιμοποιήσετε και τις μεθόδους `split` και `join` που μετατρέπουν ένα `str` σε `list` και αντίστροφα."
   ]
  },
  {
   "cell_type": "code",
   "execution_count": 1,
   "id": "48a760df",
   "metadata": {},
   "outputs": [],
   "source": [
    "s = 'laughing out loud'\n"
   ]
  },
  {
   "cell_type": "markdown",
   "id": "a7d1367e",
   "metadata": {},
   "source": [
    "# Closure"
   ]
  },
  {
   "cell_type": "markdown",
   "id": "60f8fdc7",
   "metadata": {},
   "source": [
    "## Εφαρμογή έκπτωσης"
   ]
  },
  {
   "cell_type": "markdown",
   "id": "25139f3e",
   "metadata": {},
   "source": [
    "1. Υλοποιήστε συνάρτηση _applyDiscount(discount)_, η οποία δέχεται ένα ποσοστό έκπτωσης και επιστρέφει μια εσωτερική συνάρτηση που εφαρμόζει την έκπτωση σε μια τιμή προϊόντος.\n",
    "\n",
    "2. Η εσωτερική συνάρτηση, _apply(price)_ θα δέχεται μια αρχική τιμή, _price_, και θα επιστρέφει την τιμή μετά την εφαρμογή της έκπτωσης.\n",
    "\n",
    "3. Δημιουργήστε δύο διαφορετικά closures για να υπολογίσετε εκπτώσεις, salesdiscount με έκπτωση 25% και memberdiscount με έκπτωση 30%. Δοκιμάστε για μία αρχική τιμή, έστω 100."
   ]
  },
  {
   "cell_type": "code",
   "execution_count": null,
   "id": "b908a367",
   "metadata": {},
   "outputs": [],
   "source": []
  },
  {
   "cell_type": "markdown",
   "id": "5455cb8e",
   "metadata": {},
   "source": [
    "## Τελικό κόστος"
   ]
  },
  {
   "cell_type": "markdown",
   "id": "726af376",
   "metadata": {},
   "source": [
    "Υλοποιήστε μία συνάρτηση η οποία θα υπολογίζει το τελικό κόστος ενός προϊόντος με φόρο και έκπτωση χρησιμοποιώντας τεχνική closure. Πρώτα θα εφαρμόζεται ο φόρος, ο οποίος θα είναι 17% και στην συνέχεια η έκπτωση που θα είναι 20%. Για να υλοποιήσετε την συνάρτηση:\n",
    "\n",
    "1. Η συνάρτηση, έστω _totalCost_, Θα δέχεται αρχική τιμή, _price_, και θα επιστρέφει συνάρτηση _tax_.\n",
    "\n",
    "2. Η εσωτερική συνάρτηση _tax_ θα δέχεται τον φόρο, _taxrate_ και θα επιστρέφει την συνάρτηση _discount_.\n",
    "\n",
    "3. Η _discount_ δέχεται το ποσοστό έκπτωσης, _discountrate_ και επιστρέφει τελική τιμή σύμφωνα με τον τύπο: $\\text{Final Price} = ( \\text{price} \\times (1 + \\text{taxrate}) ) \\times (1 - \\text{discountrate})$."
   ]
  },
  {
   "cell_type": "code",
   "execution_count": null,
   "id": "9c0c98a5",
   "metadata": {},
   "outputs": [],
   "source": []
  },
  {
   "cell_type": "markdown",
   "id": "77cd3d93",
   "metadata": {},
   "source": [
    "# Decorators"
   ]
  },
  {
   "cell_type": "markdown",
   "id": "f45aa5ad",
   "metadata": {},
   "source": [
    "## Χρόνος εκτέλεσης"
   ]
  },
  {
   "cell_type": "markdown",
   "id": "11877463",
   "metadata": {},
   "source": [
    "Υλοποιήστε έναν **decorator** στη Python που μετρά και εμφανίζει τον χρόνο εκτέλεσης μιας συνάρτησης. Η συνάρτηση, έστω _timingDecorator_ θα πρέπει:\n",
    "\n",
    "1. Να καταγράφει την ώρα έναρξης της συνάρτησης. Για την καταγραφή μπορεί να χρησιμοποιηθεί η συνάρτηση `time()` της βιβλιοθήκης `time`.\n",
    "\n",
    "2. Να εκτελεί την συνάρτηση που έχει δεχτεί ως παράμετρο. Η συνάρτηση που θα δέχεται θα μπορεί να έχει οποιονδήποτε αριθμό και τύπο ορισμάτων.\n",
    "\n",
    "3. Να καταγράφει την ώρα λήξης και να εμφανίζει τον συνολικό χρόνο εκτέλεσης.\n",
    "\n",
    "4. Εφαρμόστε τον **decorator** σε συνάρτηση η οποία θα δέχεται  έναν αριθμό n και θα επιστρέφει όλους τους πρώτους αριθμούς μέχρι τον αριθμό n."
   ]
  },
  {
   "cell_type": "code",
   "execution_count": null,
   "id": "eca1cc16",
   "metadata": {},
   "outputs": [],
   "source": []
  },
  {
   "cell_type": "markdown",
   "id": "e2944079",
   "metadata": {},
   "source": [
    "# map, filter, recude"
   ]
  },
  {
   "cell_type": "markdown",
   "id": "b8c9fa69",
   "metadata": {},
   "source": [
    "## Εφαρμογή υπό συνθήκη"
   ]
  },
  {
   "cell_type": "markdown",
   "id": "34c34ea1",
   "metadata": {},
   "source": [
    "Χρησιμοποιήστε τη `map` και μια έκφραση `lambda`, ώστε να επεξεργαστείτε μια λίστα από ακέραιους αριθμούς ως εξής:\n",
    "\n",
    "- Αν ο αριθμός είναι άρτιος παραμένει ως έχει.\n",
    "\n",
    "- Αν ο αριθμός είναι περιττός, προστίθεται 1 στον αριθμό, ώστε να γίνει άρτιος.\n",
    "\n",
    "Παράδειγμα η λίστα [1, 2, 3, 4] θα πρέπει να μετατραπεί σε [2, 2, 4, 4]"
   ]
  },
  {
   "cell_type": "code",
   "execution_count": 2,
   "id": "611f6e22",
   "metadata": {},
   "outputs": [],
   "source": [
    "L = [1, 2, 3, 4]\n"
   ]
  },
  {
   "cell_type": "markdown",
   "id": "13b7eb8c",
   "metadata": {},
   "source": [
    "## Εφαρμογή σε πολλές λίστες"
   ]
  },
  {
   "cell_type": "markdown",
   "id": "a9d0cbdc",
   "metadata": {},
   "source": [
    "Ο υπολογισμός της $x^y mod n$ βρίσκει εφαρμογή στην θεωρία αριθμών και την κρυπτογραφία. Με δεδομένη μία λίστα αριθμών _N_, μία λίστα εκθετών _e_ και λίστα _m_ γράψτε ένα πρόγραμμα Python που χρησιμοποιεί τη μέθοδο map για να υπολογίσει την παραπάνω έκφραση."
   ]
  },
  {
   "cell_type": "code",
   "execution_count": 3,
   "id": "5f953edd",
   "metadata": {},
   "outputs": [],
   "source": [
    "N = [2, 3, 4]\n",
    "e = [10, 10, 10]\n",
    "m = [5,10,15]"
   ]
  },
  {
   "cell_type": "markdown",
   "id": "a891e846",
   "metadata": {},
   "source": [
    "## Εύρεση μεγαλύτερου με χρήση reduce"
   ]
  },
  {
   "cell_type": "markdown",
   "id": "c64f89af",
   "metadata": {},
   "source": [
    "Με την βοήθεια `reduce` και `lambda` έκφρασης υλοποιήστε διαδικασία η οποία επιστρέφει τον μέγιστο μίας λίστας. Επαληθεύστε την απάντησή σας με την βοήθεια της `max`."
   ]
  },
  {
   "cell_type": "code",
   "execution_count": 4,
   "id": "88ad7a45",
   "metadata": {},
   "outputs": [],
   "source": [
    "from functools import reduce\n"
   ]
  },
  {
   "cell_type": "markdown",
   "id": "65740078",
   "metadata": {},
   "source": [
    "## Υλοποίηση any, all με χρήση reduce"
   ]
  },
  {
   "cell_type": "markdown",
   "id": "fe330a74",
   "metadata": {},
   "source": [
    "Με την βοήθεια `reduce` και `lambda` έκφρασης υλοποιήστε:\n",
    "\n",
    "1. διαδικασία η οποία επιστρέφει `True` αν και μόνο αν όλα τα στοιχεία μίας συλλογής είναι True. Διαφορετικά επιστρέφει `False`.\n",
    "\n",
    "2. διαδικασία η οποία επιστρέφει `True` αν έστω ένα στοιχείο μίας συλλογής είναι `True`. Διαφορετικά επιστρέφει `False`.\n",
    "\n",
    "Επαληθεύστε με την βοήθεια των `all` και `any` αντίστοιχα."
   ]
  },
  {
   "cell_type": "code",
   "execution_count": 21,
   "id": "66c3465d",
   "metadata": {},
   "outputs": [],
   "source": [
    "from functools import reduce\n",
    "L1 = [True,True,True,False,True]\n",
    "L2 = [True,True,True,True,True]\n",
    "L3 = [False,False,False,False]"
   ]
  },
  {
   "cell_type": "code",
   "execution_count": 5,
   "id": "be9a0ff4",
   "metadata": {},
   "outputs": [],
   "source": [
    "# 1\n"
   ]
  },
  {
   "cell_type": "code",
   "execution_count": 6,
   "id": "2172f58b",
   "metadata": {},
   "outputs": [],
   "source": [
    "# 2\n"
   ]
  }
 ],
 "metadata": {
  "kernelspec": {
   "display_name": "Python 3 (ipykernel)",
   "language": "python",
   "name": "python3"
  },
  "language_info": {
   "codemirror_mode": {
    "name": "ipython",
    "version": 3
   },
   "file_extension": ".py",
   "mimetype": "text/x-python",
   "name": "python",
   "nbconvert_exporter": "python",
   "pygments_lexer": "ipython3",
   "version": "3.11.4"
  }
 },
 "nbformat": 4,
 "nbformat_minor": 5
}
