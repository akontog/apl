{
 "cells": [
  {
   "cell_type": "markdown",
   "metadata": {},
   "source": [
    "<div style=\"padding:20px 0px 20px 0px; text-align:center; font-weight: bold; font-size:170%; background-color: #2d8077; color:#f0b439;\">\n",
    "07.<br>\n",
    "<span style=\"color:#ffffcc;\">Συναρτησιακός Προγραμματισμός</span>\n",
    "</div>\n",
    "\n",
    "---"
   ]
  },
  {
   "cell_type": "markdown",
   "metadata": {},
   "source": [
    "Ο συναρτησιακός προγραμματισμός αποτελεί προγραμματιστικό υπόδειγμα στο οποίο δεν έχουμε *ανάθεση τιμών δεδομένων σε μεταβλητές* αλλά *ορισμό συναρτήσεων* και *εφαρμογή συναρτήσεων στις παραμέτρους τους*.\n",
    "\n",
    "Στον συναρτησιακό προγραμματισμό χειριζόμαστε συναρτήσεις όπως τα δεδομένα, functions as first class objects, ώς βασικά δομικά στοιχεία."
   ]
  },
  {
   "cell_type": "markdown",
   "metadata": {},
   "source": [
    "# Είδη συναρτήσεων"
   ]
  },
  {
   "cell_type": "markdown",
   "metadata": {},
   "source": [
    "- **Built-in, ενσωματωμένες συναρτήσεις**: Συναρτήσεις που είναι ορισμένες στην Python και είναι πάντα διαθέσιμες. π.χ. `print`, `len` κ.ο.κ.\n",
    "\n",
    "- **Ορισμένες από τον χρήστη**: Έχουν δημιουργηθεί από τον χρήστη για την επίλυση διάφορων λειτουργιών. π.χ. def sub(a,b): return a-b.\n",
    "\n",
    "- **Γνήσιες συναρτήσεις**: Συναρτήσεις που επιστρέφουν πάντα το ίδιο αποτέλεσμα για τα ίδια ορίσματα. Επιπλέον, δεν εξαρτώνται από οποιαδήποτε αλλαγή κατάστασης ή δεδομένων κατά την εκτέλεση ενός προγράμματος.\n",
    "\n",
    "- **Αναδρομικές συναρτήσεις**: Συναρτήσεις που καλούν τον εαυτό τους κατά τη διάρκεια της εκτέλεσής τους. π.χ. def fact(n): return 1 if n == 0 else n * fact(n - 1)\n",
    "\n",
    "- **Anonymous/lambda συναρτήσεις**: Τυπικά μικρές συναρτήσεις, ορισμένες με την βοήθεια της `lambda`. π.χ. lambda x:x**2.\n",
    "\n",
    "- **High Order συναρτήσεις**: Συναρτήσεις που δέχονται άλλες συναρτήσεις ως παραμέτρους ή επιστρέφουν κάποια συνάρτηση. π.χ.: def applyop(op, x, y): return op(x, y) όπου op μία συνάρτηση.\n",
    "\n",
    "- **Decorators**: Συναρτήσεις που τροποποιούν ή επεκτείνουν τη συμπεριφορά άλλων συναρτήσεων ή μεθόδων χωρίς να αλλάζουν τον κώδικά τους.\n",
    "\n",
    "- **Nested συναρτήσεις**: Συναρτήσεις που ορίζονται μέσα σε άλλες συναρτήσεις. Δίνουν την δυνατότητα της τεχνικής **closure**.\n",
    "\n",
    "- **Generator συναρτήσεις**: Κάνουν χρήση της `yield` για να δημιουργήσουν σειρά τιμών. Έχουν αναλυθεί στην ενότητα των δομών δεδομένων."
   ]
  },
  {
   "cell_type": "markdown",
   "metadata": {},
   "source": [
    "# Ενσωματωμένες, built-in συναρτήσεις"
   ]
  },
  {
   "cell_type": "markdown",
   "metadata": {},
   "source": [
    "Οι built-in συναρτήσεις παρέχονται απευθείας από τη γλώσσα Python. Είναι διαθέσιμες χωρίς την ανάγκη εισαγωγής κάποιας βιβλιοθήκης. Υπάρχουν ενσωματωμένες συναρτήσεις για διάφορες εργασίες. Ενδεικτικά:\n",
    "\n",
    "- Είσοδος/Έξοδος\n",
    "\n",
    "    - `print`: Εμφανίζει δεδομένα στην οθόνη.\n",
    "    \n",
    "    - `input`: Λαμβάνει είσοδο από τον χρήστη ως string.\n",
    "\n",
    "- Μαθηματικές Συναρτήσεις\n",
    "\n",
    "    - `abs`: Επιστρέφει την απόλυτη τιμή ενός αριθμού.\n",
    "    \n",
    "    - `round`: Στρογγυλοποιεί έναν αριθμό στο πλησιέστερο ακέραιο ή στον καθορισμένο αριθμό δεκαδικών.\n",
    "    \n",
    "    - `pow`Υπολογίζει την δύναμη $a^b$. Ισοδύναμο με a**b.\n",
    "    \n",
    "- Συλλογές\n",
    "\n",
    "    - `len`: επιστρέφει το μήκος μιας συλλογής.\n",
    "\n",
    "    - `sum`: επιστρέφει το άθροισμα των στοιχείων μιας συλλογής αριθμών.\n",
    "\n",
    "    - `min`: επιστρέφει το μικρότερο στοιχείο μιας συλλογής.\n",
    "\n",
    "    - `max`: επιστρέφει το μεγαλύτερο στοιχείο μιας συλλογής.\n",
    "\n",
    "    - `sorted`: επιστρέφει ταξινομημένη λίστα από τα στοιχεία μιας συλλογής.\n",
    "\n",
    "    - `reversed`: επιστρέφει αντίστροφο **iterator** μιας συλλογής.\n",
    "    \n",
    "    - `any`: Επιστρέφει `True` αν κάποιο στοιχείο μιας συλλογής αξιολογείται ως αληθές.\n",
    "\n",
    "    - `all`: Επιστρέφει `True` αν όλα τα στοιχεία μιας συλλογής αξιολογούνται ως αληθή.\n",
    "\n",
    "    - `zip`: Συνδυάζει πολλά **iterable** αντικείμενα σε ένα **iterator**.\n",
    "    \n",
    "- Έλεγχος τύπου, αντικειμένου \n",
    "\n",
    "    - `type`: Επιστρέφει τον τύπο δεδομένων ενός αντικειμένου.\n",
    "    \n",
    "    - `isinstance`: Ελέγχει αν ένα αντικείμενο είναι συγκεκριμένου τύπου ή ανήκει σε υποκλάση του.\n",
    "    \n",
    "- Μετατροπές τύπων\n",
    "\n",
    "    - `int`: Μετατρέπει μια τιμή σε ακέραιο.\n",
    "\n",
    "    - `float`: Μετατρέπει μια τιμή σε δεκαδικό αριθμό.\n",
    "    \n",
    "    - `str`: Μετατρέπει μια τιμή σε συμβολοσειρά.\n",
    "    \n",
    "    - `list`: Μετατρέπει ένα **iterable** σε λίστα.\n",
    "    \n",
    "    - `dict`: Δημιουργεί ένα λεξικό από ζεύγη κλειδιών και τιμών.\n",
    "    \n",
    "    - `set`: Δημιουργεί ένα σύνολο από ένα iterable.\n",
    "    \n",
    "    - `tuple`: Μετατρέπει ένα **iterable** σε πλειάδα."
   ]
  },
  {
   "cell_type": "markdown",
   "metadata": {},
   "source": [
    "# Ορισμένες από τον χρήστη"
   ]
  },
  {
   "cell_type": "markdown",
   "metadata": {},
   "source": [
    "Όπως έχει αναφερθεί, συναρτήσεις δημιουργούνται από τον χρήστη με τη `def`. Στο επόμενο παράδειγμα συνάρτησης περιλαμβάνεται και docstring που περιγράφει την λειτουργικότητα."
   ]
  },
  {
   "cell_type": "code",
   "execution_count": null,
   "metadata": {},
   "outputs": [],
   "source": [
    "def greet(name):\n",
    "    \"\"\"\n",
    "    Επιστρέφει έναν χαιρετισμό για το όνομα της παραμέτρου.\n",
    "    Παράμετροι:\n",
    "        name (str): Το όνομα του ατόμου που θα χαιρετηθεί.\n",
    "    Επιστρέφει:\n",
    "        str: Ένας χαιρετισμός που περιλαμβάνει το όνομα.\n",
    "    \"\"\"\n",
    "    return 'Γεια σου '+name\n",
    "greet('Alex')"
   ]
  },
  {
   "cell_type": "markdown",
   "metadata": {},
   "source": [
    "# Γνήσιες συναρτήσεις, pure functions"
   ]
  },
  {
   "cell_type": "markdown",
   "metadata": {},
   "source": [
    "Γνήσιες συναρτήσεις, **pure functions**, είναι οι συναρτήσεις που:\n",
    "\n",
    "- το αποτέλεσμά τους θα είναι πάντα το ίδιο όσες φορές και να καλέσουμε την συνάρτηση με τις ίδιες παραμέτρους.\n",
    "\n",
    "- σε περίπτωση που οι παράμετροι είναι **mutable** δεν θα πρέπει να αλλάζουν μέσα στην συνάρτηση.\n",
    "\n",
    "- δεν θα υπάρχουν παρενέργειες, δεν θα μεταβάλλονται εξωτερικές της συνάρτησης μεταβλητές.\n",
    "\n",
    "Τα χαρακτηριστικά αυτά κάνουν τις γνήσιες συναρτήσεις κατάλληλες για χρήση στην αναδρομή, σε συναρτήσεις υψηλής τάξης και γενικότερα στον συναρτησιακό προγραμματισμό.\n",
    "\n",
    "Τα επόμενα παραδείγματα δείχνουν την διαφορά μή γνήσιας και γνήσιας συνάρτησης."
   ]
  },
  {
   "cell_type": "markdown",
   "metadata": {},
   "source": [
    "Η επόμενη συνάρτηση έχει \"παρενέργειες\". Επηρεάζεται η εξωτερική μεταβλητή _res_."
   ]
  },
  {
   "cell_type": "code",
   "execution_count": null,
   "metadata": {},
   "outputs": [],
   "source": [
    "res = 0\n",
    "def add(x,y):\n",
    "    global res\n",
    "    res = x + y\n",
    "add(4,3)\n",
    "print(res)"
   ]
  },
  {
   "cell_type": "markdown",
   "metadata": {},
   "source": [
    "Η επόμενη έκδοση αποτελεί γνήσια συνάρτηση χωρίς \"παρενέργειες\". Κάθε φορά που καλούμε, για παράδειγμα, add(4,3) θα επιστρέφεται η τιμή 7."
   ]
  },
  {
   "cell_type": "code",
   "execution_count": null,
   "metadata": {},
   "outputs": [],
   "source": [
    "res = 0\n",
    "def add(x,y):\n",
    "    return x + y\n",
    "res = add(4,3)\n",
    "print(res)"
   ]
  },
  {
   "cell_type": "markdown",
   "metadata": {},
   "source": [
    "Η επόμενη συνάρτηση εξαρτάται από την εξωτερική λίστα _L_. Οπουδήποτε αλλού καλεστεί θα εξαρτάται από μία αντίστοιχη λίστα την οποία και μεταβάλει."
   ]
  },
  {
   "cell_type": "code",
   "execution_count": null,
   "metadata": {},
   "outputs": [],
   "source": [
    "L = [1,2,3,4,5]\n",
    "def changeList():\n",
    "    L[0]=100\n",
    "    L[-1]=100\n",
    "changeList()\n",
    "print(L)"
   ]
  },
  {
   "cell_type": "markdown",
   "metadata": {},
   "source": [
    "Μέσα στην συνάρτηση _changeList_ η λίστα _L_ της παραμέτρου δεν επηρεάζεται. Αποτελεί γνήσια συνάρτηση."
   ]
  },
  {
   "cell_type": "code",
   "execution_count": null,
   "metadata": {},
   "outputs": [],
   "source": [
    "\n",
    "L = [1,2,3,4,5]\n",
    "def changeList(L):\n",
    "    newL = L[:]\n",
    "    newL[0]=100\n",
    "    newL[-1]=100\n",
    "    return newL\n",
    "LL = changeList(L)\n",
    "print(L)\n",
    "print(LL)"
   ]
  },
  {
   "cell_type": "markdown",
   "metadata": {},
   "source": [
    "# Αναδρομικές Συναρτήσεις"
   ]
  },
  {
   "cell_type": "markdown",
   "metadata": {},
   "source": [
    "Στο συναρτησιακό προγραμματισμό αποφεύγεται η χρήση δομών επανάληψης και προτιμάται η χρήση αναδρομής. Οι αναδρομικές συναρτήσεις καλούν τον εαυτό τους, είτε άμεσα είτε έμμεσα, μέσω άλλων συναρτήσεων ή μεθόδων."
   ]
  },
  {
   "cell_type": "markdown",
   "metadata": {},
   "source": [
    "**Παράδειγμα**\n",
    "\n",
    "Το παραγοντικό ενός αριθμού n!, ορίζεται ως το γινόμενο όλων των ακέραιων αριθμών από το 1 έως το n. Στην αναδρομική του μορφή, ορίζεται ως εξής:\n",
    "$$\n",
    "n! =\n",
    "\\begin{cases} \n",
    "1 & \\text{αν } n = 0 \\\\\n",
    "n \\cdot (n-1)! & \\text{αν } n > 0\n",
    "\\end{cases}\n",
    "$$"
   ]
  },
  {
   "cell_type": "code",
   "execution_count": null,
   "metadata": {},
   "outputs": [],
   "source": [
    "def factorial(n):\n",
    "    if n == 0:\n",
    "        return 1\n",
    "    else:\n",
    "        return n * factorial(n - 1)\n",
    "factorial(5)"
   ]
  },
  {
   "cell_type": "markdown",
   "metadata": {},
   "source": [
    "Προσοχή θα πρέπει να δίνεται πέρα από την κλήση της συνάρτησης με διαφορετική παράμετρο, στο παράδειγμα για $n-1$, και ο τρόπος τερματισμού της αναδρομής, στο παράδειγμα n==0. Η μή ύπαρξη θα οδηγήσει σε εξαίρεση τύπου `RecursionError`."
   ]
  },
  {
   "cell_type": "code",
   "execution_count": null,
   "metadata": {},
   "outputs": [],
   "source": [
    "def factorial(n):\n",
    "        return n * factorial(n - 1)\n",
    "factorial(5)"
   ]
  },
  {
   "cell_type": "markdown",
   "metadata": {},
   "source": [
    "**Παράδειγμα**\n",
    " \n",
    "Έστω η σειρά Fibonacci: $$0, 1, 1, 2, 3, 5, 8, 13,... $$ η οποία ορίζεται ως:\n",
    "$$f_0 = 0$$\n",
    "$$f_1 = 1$$\n",
    "$$f_n = f_{n-1} + f_{n-2},  n > 1.$$\n",
    "Για τον υπολογισμό των όρων της Fibonacci, μπορεί να υλοποιηθεί αναδρομική συνάρτηση ως εξής:"
   ]
  },
  {
   "cell_type": "code",
   "execution_count": null,
   "metadata": {},
   "outputs": [],
   "source": [
    "def recur_fibo(n):\n",
    "   if n <= 1:\n",
    "       return n  \n",
    "   else:\n",
    "       return(recur_fibo(n-1) + recur_fibo(n-2))\n",
    "\n",
    "nterms = 10\n",
    "print(\"Ακολουθία Fibonacci:\")\n",
    "for i in range(nterms):\n",
    "    print(recur_fibo(i), end= \" \")\n"
   ]
  },
  {
   "cell_type": "markdown",
   "metadata": {},
   "source": [
    "## Memoization"
   ]
  },
  {
   "cell_type": "markdown",
   "metadata": {},
   "source": [
    "Η παραπάνω αναδρομική διαδικασία έχει την εξής ανεπιθύμητη συνέπεια: Πολλοί όροι της ακολουθίας υπολογίζονται πολλές φορές. Για παράδειγμα, για να υπολογίσουμε τον όρο $f_4$, υπολογίζουμε τους όρους $f_3$ και $f_2$. Για να υπολογίζουμε τον $f_5$ υπολογίζουμε τον $f_4$ και ξαναυπολογίζουμε τον $f_3$. Έτσι, οδηγούμαστε σε έναν εκθετικό αριθμό υπολογισμών όρων οι οποίοι έχουν υπολογιστεί ξανά σε προηγούμενη φάση της εκτέλεσης του αλγορίθμου.\n",
    "```\n",
    "        f(5)\n",
    "       /    \\\n",
    "   f(4)      f(3)\n",
    "  /   \\      /   \\\n",
    "f(3)  f(2) f(2)  f(1)\n",
    " / \\    / \\  / \\\n",
    "f(2) f(1) f(1) f(0)\n",
    " / \\  / \\\n",
    "f(1) f(0)\n",
    "```\n",
    "Για να αποφύγουμε το παραπάνω πρόβλημα, χρησιμοποιούμε την επόμενη τεχνική. \n",
    "\n",
    "Αποθηκεύουμε τους όρους τους οποίους έχουμε ήδη υπολογίσει σε έναν πίνακα, έστω _mem_. Σε κάθε κλήση της  συνάρτησης _fiboMemo_, ελέγχουμε αν ο συγκεκριμένος όρος έχει ήδη υπολογιστεί και βρίσκεται στον πίνακα _mem_. Αν ναι, τον επιστρέφουμε ως έχει, διαφορετικά εκτελούμε τη συνάρτηση _recurFiboMemo_ η οποία υπολογίζει τον εκάστοτε όρο της ακολουθίας σύμφωνα με τον αναδρομικό ορισμό. Προσέξτε ότι η δεύτερη συνάρτηση καλεί την _fiboMemo_ ώστε με αυτό τον τρόπο να αξιοποιεί τους όρους που έχουν ήδη υπολογιστεί. Έχουμε δηλαδή, μια κατάσταση η οποία ονομάζεται **έμμεση αναδρομή**.\n",
    "\n",
    "Η παραπάνω τεχνική της αποθήκευσης των ενδιάμεσων αποτελεσμάτων ονομάζεται **memoization** και στην περίπτωση της fibonacci μειώνει την πολυπλοκότητα από εκθετική $O(n^2)$ σε γραμμική $Ο(n)$."
   ]
  },
  {
   "cell_type": "code",
   "execution_count": null,
   "metadata": {},
   "outputs": [],
   "source": [
    "mem = 100 * [-1] # Αρχικά ο πίνακας έχει τιμές -1\n",
    "\n",
    "def fiboMemo(n):\n",
    "    if mem[n] == -1:  # Έχει υπολογιστεί προηγουμένως ο αντίστοιχος όρος;\n",
    "        mem[n] = recurFiboMemo(n)\n",
    "    return mem[n]\n",
    "\n",
    "def recurFiboMemo(n):\n",
    "   if n == 0:\n",
    "       return 0\n",
    "   if n == 1:\n",
    "       return 1\n",
    "   return fiboMemo(n-1) + fiboMemo(n-2)\n",
    "\n",
    "print(fiboMemo(70))"
   ]
  },
  {
   "cell_type": "markdown",
   "metadata": {},
   "source": [
    "## Δυναμικός προγραμματισμός"
   ]
  },
  {
   "cell_type": "markdown",
   "metadata": {},
   "source": [
    "Η εύρεση των αριθμών Fibonacci παραπάνω αποτελεί ένα πολύ απλό παράδειγμα μιας ευρύτερης στρατηγικής για την υπολογιστική επίλυση προβλημάτων η οποία ονομάζεται **δυναμικός προγραμματισμός**. Η τεχνική αυτή στοχεύει στην επίλυση ενός σύνθετου προβλήματος μέσω της αναγωγής του σε απλούστερα υπο-προβλήματα τα οποία επιλύονται πρώτα και οδηγούν εν τέλει στη λύση του ευρύτερου, σύνθετου προβλήματος.\n",
    "\n",
    "Στο παράδειγμα με τους αριθμούς Fibonnaci, η εύρεση του όρου στη θέση $n$ της ακολουθίας ανάγεται στην εύρεση των όρων $n-1$ και $n-2$ της ακολουθίας. Αυτή η έκφραση του προβλήματος *από πάνω προς τα κάτω* οδηγεί στην αναδρομική διαδικασία που είδαμε στην προηγούμενη υποενότητα.\n",
    "\n",
    "Είναι δυνατόν σε κάποιες περιπτώσεις να αποφύγουμε τον αναδρομικό ορισμό του προβλήματος, ορίζοντας τον υπολογισμό *από κάτω προς τα πάνω*, δηλ. από τις πιο απλές περιπτώσεις προς τις πιο σύνθετες.  Για την ακολουθία Fibonacci, η συνάρτηση χωρίς τη χρήση αναδρομής μπορεί να γραφεί ως εξής:"
   ]
  },
  {
   "cell_type": "code",
   "execution_count": null,
   "metadata": {},
   "outputs": [],
   "source": [
    "def fiboIter(n):\n",
    "    if n == 0:\n",
    "        return n\n",
    "    a = 0\n",
    "    b = 1\n",
    "    \n",
    "    for i in range(2, n + 1):\n",
    "        #c = b;b = a + b;a = c\n",
    "        a, b = b, a + b\n",
    "    return b \n",
    "    \n",
    "print(fiboIter(70))"
   ]
  },
  {
   "cell_type": "markdown",
   "metadata": {},
   "source": [
    "Η συνάρτηση _fiboIter_, χρησιμοποιεί τις μεταβλητές _a_ και _b_ για να αποθηκεύσει τους δύο προηγούμενους όρους της ακολουθίας, τροποποιώντας τους κατάλληλα σε κάθε επανάληψη. Η τρίτη μεταβλητή, _c_, χρησιμοποιείται ως ενδιάμεσος, βοηθητικός χώρος αποθήκευσης."
   ]
  },
  {
   "cell_type": "markdown",
   "metadata": {},
   "source": [
    "## Χελώνα, `turtle`"
   ]
  },
  {
   "cell_type": "markdown",
   "metadata": {},
   "source": [
    "Η βιβλιοθήκη `turtle`, η οποία εισάγεται με τον επόμενο τρόπο, παρέχει ένα γραφικό περιβάλλον σχεδίασης που επιτρέπει στους χρήστες να δημιουργούν σχέδια χρησιμοποιώντας ένα αντικείμενο \"χελώνα\". Είναι δημοφιλής για την εκπαίδευση και διδασκαλία βασικών εννοιών προγραμματισμού, καθώς προσφέρει έναν διαδραστικό και οπτικό τρόπο πειραματισμού."
   ]
  },
  {
   "cell_type": "code",
   "execution_count": null,
   "metadata": {},
   "outputs": [],
   "source": [
    "import turtle"
   ]
  },
  {
   "cell_type": "markdown",
   "metadata": {},
   "source": [
    "**Παράδειγμα**\n",
    "\n",
    "Στο επόμενο τμήμα κώδικα δημιουργείται μία οθόνη με γαλάζιο φόντο και μία χελώνα η οποία σχεδιάζει με κόκκινο φόντο και πάχος 3 ένα τετράγωνο."
   ]
  },
  {
   "cell_type": "code",
   "execution_count": null,
   "metadata": {},
   "outputs": [],
   "source": [
    "screen = turtle.Screen()\n",
    "screen.bgcolor(\"lightblue\")\n",
    "\n",
    "# Δημιουργία μιας \"χελώνας\"\n",
    "t = turtle.Turtle()\n",
    "t.color(\"red\")\n",
    "t.pensize(3)\n",
    "\n",
    "# Τετράγωνο\n",
    "for i in range(4):\n",
    "    t.forward(100)\n",
    "    t.left(90)\n",
    "\n",
    "# Κλείσιμο του παραθύρου όταν ο χρήστης κάνει κλικ\n",
    "screen.exitonclick()"
   ]
  },
  {
   "cell_type": "markdown",
   "metadata": {},
   "source": [
    "Η βιβλιοθήκη `turtle` μπορεί να χρησιμοποιηθεί σε συνδυασμό με την αναδρομή για δημιουργία πολύπλοκων γεωμετρικών σχεδίων όπως είναι τα **fractals**."
   ]
  },
  {
   "cell_type": "markdown",
   "metadata": {},
   "source": [
    "**Παράδειγμα** \n",
    "\n",
    "Τρποποιώντας το παραπάνω παράδειγμα, αντί να σχηματίσουμε ένα τετραγωνο θα δημιουργήσουμε συνάρτηση η οποία καλέί τον εαυτό της αλλάζοντας λίγο το μήκος του διαστήματος που θα κινηθεί η χελώνα. Δημιουργούμε έτσι μία σπείρα η οποία μπορεί και να προσαρμοστεί αλλάζοντας τιμές όπως η γωνία, το όριο και το βήμα ή το αρχικό μήκος."
   ]
  },
  {
   "cell_type": "code",
   "execution_count": null,
   "metadata": {},
   "outputs": [],
   "source": [
    "import turtle\n",
    "screen = turtle.Screen()\n",
    "screen.bgcolor(\"lightblue\")\n",
    "\n",
    "t = turtle.Turtle()\n",
    "t.color(\"red\")\n",
    "t.pensize(2)\n",
    "t.speed(0)\n",
    "\n",
    "def draw_spiral(t, length=5, increment=5, angle=90, limit=100):\n",
    "    if length > limit:  # Βάση τερματισμού\n",
    "        return\n",
    "    t.forward(length)\n",
    "    t.left(angle)\n",
    "    # Κλήση του εαυτού της με αυξημένο μήκος\n",
    "    draw_spiral(t, length + increment, increment, angle, limit)\n",
    "draw_spiral(t)\n",
    "screen.exitonclick()"
   ]
  },
  {
   "cell_type": "markdown",
   "metadata": {},
   "source": [
    "**Παράδειγμα**\n",
    "\n",
    "Ένα κλασικό παράδειγμα αναδρομικής σχεδίασης αποτελεί το αναδρομικο δέντρο που ακολουθεί."
   ]
  },
  {
   "cell_type": "code",
   "execution_count": null,
   "metadata": {},
   "outputs": [],
   "source": [
    "import turtle\n",
    "\n",
    "def draw_tree(t, branch_length, angle, depth):\n",
    "    \"\"\"\n",
    "    Αναδρομική συνάρτηση για σχεδίαση δέντρου.\n",
    "\n",
    "    Args:\n",
    "        t: Το αντικείμενο Turtle.\n",
    "        branch_length: Το μήκος του κλαδιού.\n",
    "        angle: Η γωνία διακλάδωσης.\n",
    "        depth: Το βάθος της αναδρομής (επίπεδα δέντρου).\n",
    "    \"\"\"\n",
    "    if depth == 0:  # Βάση της αναδρομής\n",
    "        return\n",
    "\n",
    "    # Σχεδίαση κύριου κλάδου\n",
    "    t.forward(branch_length)\n",
    "    \n",
    "    # Σχεδίαση αριστερής διακλάδωσης\n",
    "    t.left(angle)\n",
    "    draw_tree(t, branch_length * 0.7, angle, depth - 1)\n",
    "    \n",
    "    # Επιστροφή στην αρχική θέση\n",
    "    t.right(2 * angle)\n",
    "    draw_tree(t, branch_length * 0.7, angle, depth - 1)\n",
    "    \n",
    "    # Επιστροφή στην αρχική γωνία\n",
    "    t.left(angle)\n",
    "    t.backward(branch_length)\n",
    "\n",
    "# Ρύθμιση της Turtle\n",
    "t = turtle.Turtle()\n",
    "screen = turtle.Screen()\n",
    "screen.bgcolor(\"white\")\n",
    "\n",
    "t.color(\"green\")\n",
    "t.speed(0)  # Μέγιστη ταχύτητα\n",
    "t.left(90)  # Στρέφει τη χελώνα προς τα πάνω\n",
    "t.up()\n",
    "t.goto(0, -200)  # Ξεκινά από κάτω\n",
    "t.down()\n",
    "\n",
    "# Κλήση της αναδρομικής συνάρτησης\n",
    "draw_tree(t, branch_length=100, angle=30, depth=5)\n",
    "screen.exitonclick()\n",
    "    "
   ]
  },
  {
   "cell_type": "markdown",
   "metadata": {},
   "source": [
    "# Anonymous/lambda συναρτήσεις"
   ]
  },
  {
   "cell_type": "markdown",
   "metadata": {},
   "source": [
    "Μια έκφραση `lambda` είναι μια ειδική έκφραση η οποία ορίζει μια *ανώνυμη* συνάρτηση. Για παράδειγμα, η έκφραση"
   ]
  },
  {
   "cell_type": "code",
   "execution_count": null,
   "metadata": {},
   "outputs": [],
   "source": [
    "inc = lambda x : x + 1\n",
    "inc"
   ]
  },
  {
   "cell_type": "markdown",
   "metadata": {},
   "source": [
    "Ορίζει τη συνάρτηση η οποία αντιστοιχίζει την τιμή x + 1 στην τιμή x. Η μεταβλητή πριν το `:` είναι η παράμετρος και μετά το `:` η επιστρεφόμενη τιμή. Είναι αντίστοιχη της συνάρτησης:"
   ]
  },
  {
   "cell_type": "code",
   "execution_count": null,
   "metadata": {},
   "outputs": [],
   "source": [
    "def incf(x):\n",
    "    return x+1\n",
    "incf"
   ]
  },
  {
   "cell_type": "code",
   "execution_count": null,
   "metadata": {},
   "outputs": [],
   "source": [
    "inc(5),incf(5)"
   ]
  },
  {
   "cell_type": "markdown",
   "metadata": {},
   "source": [
    "**Παράδειγμα**\n",
    "\n",
    "Η επόμενη `lambda` έκφραση υπολογίζει την τιμή του πολυωνύμου $f(x)=x^2+3x+1$."
   ]
  },
  {
   "cell_type": "code",
   "execution_count": null,
   "metadata": {},
   "outputs": [],
   "source": [
    "my_poly = lambda x: x ** 2 + 3 * x + 1\n",
    "my_poly(3)"
   ]
  },
  {
   "cell_type": "markdown",
   "metadata": {},
   "source": [
    "**Παράδειγμα**\n",
    "\n",
    "Η επόμενη εκφραση αντιστρέφει τα `str` της παραμέτρου."
   ]
  },
  {
   "cell_type": "code",
   "execution_count": null,
   "metadata": {},
   "outputs": [],
   "source": [
    "rev = lambda s:s[::-1]\n",
    "rev('Samos')"
   ]
  },
  {
   "cell_type": "markdown",
   "metadata": {},
   "source": [
    "Είναι δυνατόν να οριστούν εκφράσεις `lambda` με περισσότερες από μία μεταβλητές."
   ]
  },
  {
   "cell_type": "code",
   "execution_count": null,
   "metadata": {},
   "outputs": [],
   "source": [
    "add = lambda x,y: x + y\n",
    "multiply = lambda x,y,z: x*y*z\n",
    "add(4,5),multiply(2,3,4)"
   ]
  },
  {
   "cell_type": "markdown",
   "metadata": {},
   "source": [
    "**Παράδειγμα**\n",
    "\n",
    "Θα δημιουργηθεί `lambda` έκφραση που δέχεται τις πλευρές ενός ορθογωνίου και επιστρέφει την περίμετρό του."
   ]
  },
  {
   "cell_type": "code",
   "execution_count": null,
   "metadata": {},
   "outputs": [],
   "source": [
    "rectPerimeter = lambda x, y: x * 2 + y * 2\n",
    "rectPerimeter(3,5)"
   ]
  },
  {
   "cell_type": "markdown",
   "metadata": {},
   "source": [
    "Κάνοντας χρήση τεχνικής **packing** μία έκφραση `lambda` μπορεί να δεχτεί αυθαίρετο αριθμό παραμέτρων."
   ]
  },
  {
   "cell_type": "code",
   "execution_count": null,
   "metadata": {},
   "outputs": [],
   "source": [
    "mylen = lambda *args : len(args)\n",
    "mylen(4,5,6,7)"
   ]
  },
  {
   "cell_type": "markdown",
   "metadata": {},
   "source": [
    "Οι εκφράσεις `lambda` ορίζουν συναρτήσεις που επιστρέφουν τιμή οποιοδήποτε τύπου. Παράδειγμα συνάρτησης που επιστρέφει τιμή `bool`."
   ]
  },
  {
   "cell_type": "code",
   "execution_count": null,
   "metadata": {},
   "outputs": [],
   "source": [
    "predicate = lambda a : a > 0"
   ]
  },
  {
   "cell_type": "markdown",
   "metadata": {},
   "source": [
    "Η παραπάνω συνάρτηση επιστρέφει `True` αν η παράμετρός της είναι μεγαλύτερη από το 0 και `False` διαφορετικά."
   ]
  },
  {
   "cell_type": "code",
   "execution_count": null,
   "metadata": {},
   "outputs": [],
   "source": [
    "predicate(-5),predicate(5)"
   ]
  },
  {
   "cell_type": "markdown",
   "metadata": {},
   "source": [
    "Υπάρχει η δυνατότητα η `lambda` έκφραση να καλεστεί με την δημιουργία της χωρίς να απαιτείται να δοθεί κάποιο όνομα. Οι `lambda` εκφράσεις ονομάζονται και ανώνυμες συναρτήσεις."
   ]
  },
  {
   "cell_type": "code",
   "execution_count": null,
   "metadata": {},
   "outputs": [],
   "source": [
    "(lambda x:x**2)(4)"
   ]
  },
  {
   "cell_type": "markdown",
   "metadata": {},
   "source": [
    "**Παράδειγμα**\n",
    "\n",
    "Ακολουθεί μετατροπή συνάρτησης εύρεσης και επιστροφής μεγίστου από κλασική συνάρτηση σε `lambda` έκφραση."
   ]
  },
  {
   "cell_type": "code",
   "execution_count": null,
   "metadata": {},
   "outputs": [],
   "source": [
    "def maximum(a,b):\n",
    "    if a>b:\n",
    "        return a\n",
    "    return b\n",
    "maximum(5,6)"
   ]
  },
  {
   "cell_type": "code",
   "execution_count": null,
   "metadata": {},
   "outputs": [],
   "source": [
    "maximum = lambda a,b:a if a>b else b\n",
    "maximum(5,6)"
   ]
  },
  {
   "cell_type": "markdown",
   "metadata": {},
   "source": [
    "**Παράδειγμα**\n",
    "\n",
    "Μια αναδρομική υλοποίηση, έστω, του υπολογισμού των αριθμών Fibonacci, μπορεί να γραφτεί και ως `lambda` έκφραση."
   ]
  },
  {
   "cell_type": "code",
   "execution_count": null,
   "metadata": {},
   "outputs": [],
   "source": [
    "fib = lambda x: x if x <= 1 else fib(x - 1) + fib(x - 2)\n",
    "for i in range(10):\n",
    "    print(fib(i),end=' ')"
   ]
  },
  {
   "cell_type": "markdown",
   "metadata": {},
   "source": [
    "**Παράδειγμα**\n",
    "\n",
    "Θα δημιουργήσουμε ένα απλό υπολογιστή τσέπης με χρήση λεξικού και `lambda` εκφράσεων."
   ]
  },
  {
   "cell_type": "code",
   "execution_count": null,
   "metadata": {},
   "outputs": [],
   "source": [
    "calculator = {\n",
    "    'add': lambda x, y: x + y,\n",
    "    'subtract': lambda x, y: x - y,\n",
    "    'multiply': lambda x, y: x * y,\n",
    "    'divide': lambda x, y: x / y,\n",
    "}\n",
    "calculator['multiply'](2, 3)"
   ]
  },
  {
   "cell_type": "markdown",
   "metadata": {},
   "source": [
    "Η συνάρτηση `sorted` χρησιμοποιείται για να ταξινομήσει ένα `iterable`, για παράδειγμα μία λίστα, επιστρέφοντας ένα νέο ταξινομημένο αντικείμενο. Όταν χρησιμοποιούμε μια lambda έκφραση ως επιχείρημα στην μη υποχρεωτική παράμετρο `key`, μπορούμε να καθορίσουμε πώς θα γίνει η ταξινόμηση, δηλαδή ποιο στοιχείο του αντικειμένου θα χρησιμοποιηθεί για να καθοριστεί η σειρά ταξινόμησης."
   ]
  },
  {
   "cell_type": "markdown",
   "metadata": {},
   "source": [
    "**Παράδειγμα**\n",
    "\n",
    "Στο επόμενο παράδειγμα η λίστα _islands_ αποτελείται από αντίστοιχες πλειάδες με ονόματα και τις αντίστοιχες εκτάσεις ελληνικών νησιών. Η `sorted` θα τα ταξινομήσει με τον εξορισμού τρόπο της σύγκρισης του πρώτου στοιχείου του κάθε `tuple`, δηλαδή αλφαβητικά."
   ]
  },
  {
   "cell_type": "code",
   "execution_count": null,
   "metadata": {},
   "outputs": [],
   "source": [
    "islands = [(\"Samos\", 477), (\"Ikaria\", 255), (\"Kriti\", 8261), (\"Rodos\", 1401), (\"Mykonos\", 105), (\"Zakynthos\", 406)]\n",
    "sorted(islands)"
   ]
  },
  {
   "cell_type": "markdown",
   "metadata": {},
   "source": [
    "Αν επιθυμούμε ταξινόμηση ως προς την έκταση θα πρέπει να το δηλώσουμε με χρήση της παραμέτρου `key` που συνδυάζεται συντακτικά ευκολότερα με μία έκφραση `lambda`. Η παράμετρος `reverse` στην επόμενη εφαρμογή ταξινομεί σε φθίνουσα διάταξη."
   ]
  },
  {
   "cell_type": "code",
   "execution_count": null,
   "metadata": {},
   "outputs": [],
   "source": [
    "sorted(islands, key=lambda island: island[1], reverse=True)"
   ]
  },
  {
   "cell_type": "markdown",
   "metadata": {},
   "source": [
    "Οι εκφράσεις `lambda` χρησιμοποιούνται με την τεχνική **comprehension** εφαρμόζοντας τη συνάρτηση σε κάθε στοιχείο μιας λίστας."
   ]
  },
  {
   "cell_type": "code",
   "execution_count": null,
   "metadata": {},
   "outputs": [],
   "source": [
    "[(lambda x:x**2)(i) for i in range(1,10)]"
   ]
  },
  {
   "cell_type": "markdown",
   "metadata": {},
   "source": [
    "Μπορούμε να συνδυάσουμε την τεχνική comprehension με συνθήκες και εκφράσεις `lambda`."
   ]
  },
  {
   "cell_type": "markdown",
   "metadata": {},
   "source": [
    "**Παράδειγμα**\n",
    "\n",
    "Θα διπλασιάσουμε μόνο τα περιττά στοιχεία μίας λίστας."
   ]
  },
  {
   "cell_type": "code",
   "execution_count": null,
   "metadata": {},
   "outputs": [],
   "source": [
    "L = [1,4,5,7,8,9,11,14,16,17]\n",
    "[(lambda x:2*x)(i) if i%2==1 else i for i in L ]"
   ]
  },
  {
   "cell_type": "markdown",
   "metadata": {},
   "source": [
    "Οι εκφράσεις `lambda` χρησιμοποιούνται συχνά με συναρτήσεις υψηλής τάξης που είτε ορίζονται από τον προγραμματιστή είτε υπάρχυν στην γλώσσα όπως οι `map`, `filter`, και `reduce`."
   ]
  },
  {
   "cell_type": "markdown",
   "metadata": {},
   "source": [
    "# Συναρτήσεις υψηλής τάξης, high order"
   ]
  },
  {
   "cell_type": "markdown",
   "metadata": {},
   "source": [
    "## Ανάθεση συναρτήσεων σε μεταβλητές"
   ]
  },
  {
   "cell_type": "markdown",
   "metadata": {},
   "source": [
    "Μία συνάρτηση μπορεί να ανατεθεί σε μία μεταβλητή που μπορεί, πλέον, να χρησιμοποιηθεί αντί της συνάρτησης."
   ]
  },
  {
   "cell_type": "code",
   "execution_count": null,
   "metadata": {},
   "outputs": [],
   "source": [
    "def double_fun(x):\n",
    "    return 2 * x\n",
    "multtwo = double_fun\n",
    "multtwo(4)"
   ]
  },
  {
   "cell_type": "markdown",
   "metadata": {},
   "source": [
    "Ο τύπος της μεταβλητής _multtwo_ θα είναι `function`."
   ]
  },
  {
   "cell_type": "code",
   "execution_count": null,
   "metadata": {},
   "outputs": [],
   "source": [
    "type(multtwo)"
   ]
  },
  {
   "cell_type": "markdown",
   "metadata": {},
   "source": [
    "Ακόμη και αν η αρχική συνάρτηση διαγραφεί, μπορεί ακόμη να έχουμε πρόσβαση μέσω της νέας συνάρτησης στην οποία έει ανατεθεί."
   ]
  },
  {
   "cell_type": "code",
   "execution_count": null,
   "metadata": {},
   "outputs": [],
   "source": [
    "del double_fun\n",
    "multtwo(6)"
   ]
  },
  {
   "cell_type": "markdown",
   "metadata": {},
   "source": [
    "## Συναρτήσεις ως παράμετροι άλλων συναρτήσεων"
   ]
  },
  {
   "cell_type": "markdown",
   "metadata": {},
   "source": [
    "Οι επόμενες συναρτήσεις, _add_, _sub_, _mult_ επιστρέφουν άθροισμα, διαφορά και γινόμενο δύο αριθμών. Η συνάρτηση _apply_op_ που ακολουθεί δέχεται δύο αριθμούς και μία από τις συναρτήσεις και εφαρμόζει την συνάρτηση."
   ]
  },
  {
   "cell_type": "code",
   "execution_count": null,
   "metadata": {},
   "outputs": [],
   "source": [
    "def add(a, b):\n",
    "  return a + b\n",
    "def sub(a, b):\n",
    "  return a - b\n",
    "def mult(a, b):\n",
    "  return a * b\n",
    "def apply_op(a,b,op):\n",
    "    return op(a,b)\n",
    "apply_op(4,3,add),apply_op(4,3,sub),apply_op(4,3,mult)"
   ]
  },
  {
   "cell_type": "markdown",
   "metadata": {},
   "source": [
    "Εφαρμόσαμε διάφορες συναρτήσεις παιρνόντας τες ως παραμέτρους σε μια νέα συνάρτηση. Μπορούμε να εφαρμόσουμε κάποια συνάρτηση σε όλα τα δεδομένα μίας δομής όπως η λίστα σε μία λειτουργία που όπως θα δούμε στην συνέχεια υλοποιείται στην Python μέσω της `map`. "
   ]
  },
  {
   "cell_type": "code",
   "execution_count": null,
   "metadata": {},
   "outputs": [],
   "source": [
    "def double_fun(x):\n",
    "    return 2 * x\n",
    "def my_map(func, values):\n",
    "    return [func(value) for value in values]\n",
    "L=[10, 20, 30]\n",
    "my_map(double_fun,L)"
   ]
  },
  {
   "cell_type": "markdown",
   "metadata": {},
   "source": [
    "**Παράδειγμα**\n",
    "\n",
    "Έστω ότι θέλουμε να υπολογίσουμε το άρθροισμα: $$\\sum_{i=0}^n {i^2}$$ Αυτό υπολογίζεται από την ακόλουθη συνάρτηση:"
   ]
  },
  {
   "cell_type": "code",
   "execution_count": null,
   "metadata": {},
   "outputs": [],
   "source": [
    "def mysum(n):\n",
    "    s = 0\n",
    "    for i in range(n+1):\n",
    "        s += i * i\n",
    "    return s\n",
    "mysum(3)"
   ]
  },
  {
   "cell_type": "markdown",
   "metadata": {},
   "source": [
    "Θα μπορούσαμε να υπολογίσουμε το παραπάνω άθροισμα για οποιαδήποτε συνάρτηση $f$:  $$\\sum_{i=0}^n {f(i)}$$"
   ]
  },
  {
   "cell_type": "code",
   "execution_count": null,
   "metadata": {},
   "outputs": [],
   "source": [
    "def sum_fun(fun,n): # Η συνάρτηση fun είναι παράμετρος της sum_fun\n",
    "    s = 0\n",
    "    for i in range(n+1):\n",
    "        s += fun(i) # Εφαρμογή της συνάρτησης fun στην τιμή i\n",
    "    return s\n",
    "\n",
    "def sq(x):\n",
    "    return x * x\n",
    "\n",
    "print(sum_fun(sq, 3))"
   ]
  },
  {
   "cell_type": "markdown",
   "metadata": {},
   "source": [
    "Μια συνάρτηση η οποία δέχεται ως παράμετρο μια άλλη συνάρτηση ονομάζεται **συνάρτηση ανώτερης τάξης**, **high order function**."
   ]
  },
  {
   "cell_type": "markdown",
   "metadata": {},
   "source": [
    "Στα προηγούμενα παραδείγματα είδαμε συναρτήσεις που μπορούσαν να περαστούν ως παράμετροι άλλων συναρτήσεων. Η σύνταξη μπορεί να απλοποιηθεί με τη χρήση `lambda` εκφράσεων."
   ]
  },
  {
   "cell_type": "code",
   "execution_count": null,
   "metadata": {},
   "outputs": [],
   "source": [
    "def apply_op(a,b,op):\n",
    "    return op(a,b)\n",
    "print(apply_op(3,2,lambda x, y: x + y))\n",
    "print(apply_op(3,2,lambda x, y: x - y))\n",
    "print(apply_op(3,2,lambda x, y: x * y)) "
   ]
  },
  {
   "cell_type": "markdown",
   "metadata": {},
   "source": [
    "## Συνάρτηση που επιστρέφει συνάρτηση"
   ]
  },
  {
   "cell_type": "markdown",
   "metadata": {},
   "source": [
    "Με τη χρήση μιας έκφρασης `lambda` μπορούμε να ορίσουμε συναρτήσεις στην Python οι οποίες επιστρέφουν νέες συναρτήσεις. "
   ]
  },
  {
   "cell_type": "markdown",
   "metadata": {},
   "source": [
    "Για παράδειγμα, η συνάρτηση που ακολουθεί επιστρέφει το μονώνυμο $a x ^n$ για κάθε $a$ και $n$."
   ]
  },
  {
   "cell_type": "code",
   "execution_count": null,
   "metadata": {},
   "outputs": [],
   "source": [
    "def new_fun(a,n):\n",
    "    return lambda x: a * x ** n"
   ]
  },
  {
   "cell_type": "markdown",
   "metadata": {},
   "source": [
    "Το μονώνυμο που επιστρέφεται είναι μια νέα συνάρτηση την οποία μπορούμε να εφαρμόσουμε σε κάποια τιμή. Για παράδειγμα, για να υπολογίσουμε την τιμή $3 x ^2$ για $x = 4$ δίνουμε:"
   ]
  },
  {
   "cell_type": "code",
   "execution_count": null,
   "metadata": {},
   "outputs": [],
   "source": [
    "new_fun(3,2)(4)"
   ]
  },
  {
   "cell_type": "markdown",
   "metadata": {},
   "source": [
    "Στο παραπάνω, η `new_fun(3,2)` είναι η *συνάρτηση* που αντιστοιχεί στο μονώνυμο $3 x ^2$. Η έκφραση  `new_fun(3,2)(4)` είναι η εφαρμογή της παραπάνω συνάρτησης στην τιμή 4."
   ]
  },
  {
   "cell_type": "markdown",
   "metadata": {},
   "source": [
    "Η ίδια λειτουργία μπορεί να υλοποιηθεί και με **nested** συναρτήσεις. "
   ]
  },
  {
   "cell_type": "code",
   "execution_count": null,
   "metadata": {},
   "outputs": [],
   "source": [
    "def new_fun(a, n):\n",
    "    def inner(x):\n",
    "        return a * x ** n\n",
    "    return inner\n",
    "new_fun(3,2)(4)"
   ]
  },
  {
   "cell_type": "markdown",
   "metadata": {},
   "source": [
    "# Nested functions / Closure"
   ]
  },
  {
   "cell_type": "markdown",
   "metadata": {},
   "source": [
    "Το γεγονός ότι μία συνάρτηση μπορεί να επιστρέψει συνάρτηση σε συνδυασμό με τις nested συναρτήσεις καθιστά δυνατό σε μία συνάρτηση να θυμάται τιμές σε μία τεχνική που λέγεται **closure**. "
   ]
  },
  {
   "cell_type": "markdown",
   "metadata": {},
   "source": [
    "Στο επόμενο παράδειγμα, η εσωτερική συνάρτηση _inner_ διατηρεί πρόσβαση στην μεταβλητή _mem_ της _outer_. Η _savedf_ αποτελεί συνάρτηση η οποία, όμως, \"θυμάται\" την _mem_."
   ]
  },
  {
   "cell_type": "code",
   "execution_count": null,
   "metadata": {},
   "outputs": [],
   "source": [
    "def outer():\n",
    "    mem = \"saved\"\n",
    "    def inner(): \n",
    "        print(mem) \n",
    "    return inner\n",
    "savedf = outer()\n",
    "savedf()\n",
    "savedf()\n",
    "type(savedf)"
   ]
  },
  {
   "cell_type": "markdown",
   "metadata": {},
   "source": [
    "Αντί να χρησιμοποιηθεί τοπική μεταβλητή, η μεταβλητή που θέλουμε να \"θυμάται\" μπορεί να περαστεί ως παράμετρος ."
   ]
  },
  {
   "cell_type": "code",
   "execution_count": null,
   "metadata": {},
   "outputs": [],
   "source": [
    "def outer(mem):\n",
    "    def inner(): \n",
    "        print(mem) \n",
    "    return inner"
   ]
  },
  {
   "cell_type": "code",
   "execution_count": null,
   "metadata": {},
   "outputs": [],
   "source": [
    "save = outer('saved')\n",
    "save()\n",
    "save()\n",
    "othersave = outer('other')\n",
    "othersave()"
   ]
  },
  {
   "cell_type": "markdown",
   "metadata": {},
   "source": [
    "**Παράδειγμα**\n",
    "\n",
    "Θα δημιουργήσουμε συναρτήσεις που υψώνουν σε δύναμη με την βοήθεια επιστρεφόμενης συνάρτησης. "
   ]
  },
  {
   "cell_type": "code",
   "execution_count": null,
   "metadata": {},
   "outputs": [],
   "source": [
    "def makeExponent(base):\n",
    "    def exponent(x):\n",
    "        return x ** base\n",
    "    return exponent\n",
    "square = makeExponent(2)  # x^2\n",
    "cube = makeExponent(3)    # x^3\n",
    "\n",
    "square(5),cube(5) # 25 (5^2), 125 (5^3)"
   ]
  },
  {
   "cell_type": "markdown",
   "metadata": {},
   "source": [
    "**Παράδειγμα**\n",
    "\n",
    "Θα υποθέσουμε ότι τιμές των οποίων τη μέση τιμή θέλουμε να υπολογίσουμε έρχονται σταδιακά. Κάθε φορα που καλείται η συνάρτηση με την νά τιμή θα υπολογίζεται η μέχρι εκείνη την στιγμή μέση τιμή."
   ]
  },
  {
   "cell_type": "code",
   "execution_count": 5,
   "metadata": {},
   "outputs": [
    {
     "data": {
      "text/plain": [
       "(10.0, 8.5, 7.5)"
      ]
     },
     "execution_count": 5,
     "metadata": {},
     "output_type": "execute_result"
    }
   ],
   "source": [
    "def makeMean():\n",
    "    values = []\n",
    "    def mean(n):\n",
    "        values.append(n)\n",
    "        return sum(values)/len(values)\n",
    "    return mean\n",
    "mymean = makeMean()\n",
    "mymean(10),mymean(7),mymean(5.5)"
   ]
  },
  {
   "cell_type": "markdown",
   "metadata": {},
   "source": [
    "# Decorators"
   ]
  },
  {
   "cell_type": "markdown",
   "metadata": {},
   "source": [
    "Αποτελούν μηχανισμό που επιτρέπει την τροποποίηση της συμπεριφοράς μιας συνάρτησης ή μιας μεθόδου χωρίς να αλλάζουμε τον κώδικά της. "
   ]
  },
  {
   "cell_type": "markdown",
   "metadata": {},
   "source": [
    "Για να δηλώσουμε μία συνάρτηση ως **decorator** χρησιμοποιούμε το σύμβολο `@` με το όνομα της συνάρτησης. Η εσωτερική συνάρτηση, στο παράδειγμά μας _wrapper_ είναι απαραίτητη για να υλοποιηθεί σωστά ένας **decorator** που μπορεί να προσθέσει συμπεριφορές πριν ή και μετά την αρχική συνάρτηση."
   ]
  },
  {
   "cell_type": "code",
   "execution_count": null,
   "metadata": {},
   "outputs": [],
   "source": [
    "def simple_decorator(func):\n",
    "    def wrapper():\n",
    "        print(\"Πριν από την κλήση της συνάρτησης.\")\n",
    "        func()\n",
    "        print(\"Μετά την κλήση της συνάρτησης.\")\n",
    "    return wrapper\n",
    "\n",
    "@simple_decorator\n",
    "def say_hello():\n",
    "    print(\"Γεια σου κόσμε!\")\n",
    "\n",
    "say_hello()\n",
    "\n",
    "@simple_decorator\n",
    "def say_goodbye():\n",
    "    print(\"Αντίο κόσμε!\")\n",
    "\n",
    "say_goodbye()"
   ]
  },
  {
   "cell_type": "markdown",
   "metadata": {},
   "source": [
    "Εναλλακτικά μπορούμε να χρησιμοποιήσουμε την επόμενη σύνταξη."
   ]
  },
  {
   "cell_type": "code",
   "execution_count": null,
   "metadata": {},
   "outputs": [],
   "source": [
    "def say_something():\n",
    "    print('anything')\n",
    "\n",
    "say_dec = simple_decorator(say_something)\n",
    "say_dec()"
   ]
  },
  {
   "cell_type": "markdown",
   "metadata": {},
   "source": [
    "Μία επιπλέον εξωτερική της _decorator_ συνάρτηση θα μας επιτρέψει να εισάγουμε μία μεταβλητή όπως ο αριθμό των επαναλήψεων."
   ]
  },
  {
   "cell_type": "code",
   "execution_count": null,
   "metadata": {},
   "outputs": [],
   "source": [
    "def repeat_decorator(n):\n",
    "    def decorator(func):\n",
    "        def wrapper():\n",
    "            for _ in range(n):\n",
    "                func()\n",
    "        return wrapper\n",
    "    return decorator\n",
    "\n",
    "@repeat_decorator(3)\n",
    "def say_hi():\n",
    "    print(\"Γεια!\")\n",
    "say_hi()"
   ]
  },
  {
   "cell_type": "markdown",
   "metadata": {},
   "source": [
    "Τα παραπάνω παραδείγματα δεν περιελάμβαναν παραμέτρους. Για να μπορεί ο **decorator** μας να δεχτεί οποιονδήποτε αριθμό παραμέτρων θα πρέπει να χρησιμοποιήσουμε το σχήμα *args, για πλειάδα παραμ΄έτρων ή \\*\\*kwargs για ζεύγη λέξεων κλειδιών=ορισμάτων."
   ]
  },
  {
   "cell_type": "code",
   "execution_count": null,
   "metadata": {},
   "outputs": [],
   "source": [
    "def decorator(func):\n",
    "    def wrapper(*args):\n",
    "        func(*args)\n",
    "    return wrapper\n",
    "\n",
    "@decorator\n",
    "def say_hi(name):\n",
    "    print(\"Γεια!\", name)\n",
    "\n",
    "say_hi(\"Alex\")\n",
    "\n",
    "@decorator\n",
    "def say_greeting(greet,name):\n",
    "    print(greet, name)\n",
    "    \n",
    "say_greeting(\"Bye bye\",\"Kostis\")"
   ]
  },
  {
   "cell_type": "markdown",
   "metadata": {},
   "source": [
    "**Παράδειγμα**\n",
    "\n",
    "Στο επόμενο παράδειγμα χρήσης **decorator** θα επιτραπεί μόνο σε εξουσιοδοτημένους χρήστες να εκτελέσουν μια συνάρτηση. Ο **decorator** _limited_access_ επιτρέπει την πρόσβαση μόνο στον ρόλο της παραμέτρου. Αναλυτικότερα:\n",
    "\n",
    "- limited_access(role): Δέχεται το ρόλο στον οποίο επιτρέπεται η πρόσβαση, εδώ \"admin\" και επιστρέφει τον decorator.\n",
    "\n",
    "- decorator(func): Δέχεται τη συνάρτηση, εδώ _limited_data_, και επιστρέφει τον _wrapper_.\n",
    "\n",
    "- wrapper(user): Εκτελείται κάθε φορά που καλείται η _limited_data_."
   ]
  },
  {
   "cell_type": "code",
   "execution_count": null,
   "metadata": {},
   "outputs": [],
   "source": [
    "def limited_access(role):\n",
    "    def decorator(func):\n",
    "        def wrapper(user):\n",
    "            print('Όνομα:',user['name'],'Ρόλος:',user['role'])\n",
    "            if user.get(\"role\") == role:\n",
    "                print('Επιτρέπεται η πρόσβαση')\n",
    "                return func(user)\n",
    "            else:\n",
    "                print('Απαγορεύεται η πρόσβαση')\n",
    "                return None\n",
    "        return wrapper\n",
    "    return decorator\n",
    "\n",
    "# Συνάρτηση που προστατεύεται με decorator\n",
    "@limited_access(\"admin\")\n",
    "def limited_data(user):\n",
    "    print(\"Δεδομένα περιορισμενης πρόσβασης...\")\n",
    "\n",
    "# Παράδειγμα χρήσης\n",
    "admin_user = {\"name\": \"Alice\", \"role\": \"admin\"}\n",
    "regular_user = {\"name\": \"Bob\", \"role\": \"user\"}\n",
    "\n",
    "limited_data(admin_user)\n",
    "limited_data(regular_user)\n"
   ]
  },
  {
   "cell_type": "markdown",
   "metadata": {},
   "source": [
    "**Παράδειγμα**\n",
    "\n",
    "Η τεχνική **memoization** που αναφέρθηκε στην αναδρομή μπορεί να υλοποιηθεί και με **decorators** και το λεγόμενο **caching**, προσωρινή αποθήκευση. Στο επόμενο παράδειγμα θα υπολογιστεί ο n-οστος αριθμός fibonacci χωρίς caching αλλά και με την _cache_. Στην συνάρτηση αυτή αποθηκεύται κάθε ενδιάμεσο αποτέλεσμα σε λεξικό αποτρέποντας τον επαναλαμβανόμενο υπολογισμό των ίδιων όρων, κάτι που οδηγεί σε σημαντική μείωση του χρόνου εκτέλεσης."
   ]
  },
  {
   "cell_type": "code",
   "execution_count": null,
   "metadata": {},
   "outputs": [],
   "source": [
    "import time\n",
    "def cache(func):\n",
    "    cached_results = {}\n",
    "    def wrapper(*args):\n",
    "        if args in cached_results:\n",
    "            return cached_results[args]\n",
    "        result = func(*args)\n",
    "        cached_results[args] = result\n",
    "        return result\n",
    "    return wrapper\n",
    "\n",
    "@cache\n",
    "def fibonacci_caching(n):\n",
    "    if n <= 1:\n",
    "        return n\n",
    "    return fibonacci_caching(n - 1) + fibonacci_caching(n - 2)\n",
    "def fibonacci_no_caching(n):\n",
    "    if n <= 1:\n",
    "        return n\n",
    "    return fibonacci_no_caching(n - 1) + fibonacci_no_caching(n - 2)\n",
    "n = 35\n",
    "start = time.time()\n",
    "result = fibonacci_no_caching(n)\n",
    "print('Χρόνος (χωρίς caching):',time.time() - start)\n",
    "print('Αποτέλεσμα:',result)\n",
    "start = time.time()\n",
    "result = fibonacci_caching(n)\n",
    "print('Χρόνος (με caching):',time.time() - start)\n",
    "print('Αποτέλεσμα:',result)"
   ]
  },
  {
   "cell_type": "markdown",
   "metadata": {},
   "source": [
    "# High order συναρτήσεις, map, filter, reduce"
   ]
  },
  {
   "cell_type": "markdown",
   "metadata": {},
   "source": [
    "## Η συνάρτηση `map`"
   ]
  },
  {
   "cell_type": "markdown",
   "metadata": {},
   "source": [
    "Η συνάρτηση ανώτερης τάξης `map` εφαρμόζει μια συνάρτηση στα στοιχεία μιας συλλογής `iterable` η οποία μπορεί να χρησιμοποιηθεί σε μια επανάληψη."
   ]
  },
  {
   "cell_type": "markdown",
   "metadata": {},
   "source": [
    "**Παράδειγμα**\n",
    "\n",
    "Στο επόμενο παράδειγμα η έκφραση `lambda` υψώνει στο τετράγωνο όλα τα στοιχεία της λίστας [1,2,3]."
   ]
  },
  {
   "cell_type": "code",
   "execution_count": null,
   "metadata": {},
   "outputs": [],
   "source": [
    "S = map(lambda z: z**2,[1,2,3])\n",
    "list(S)"
   ]
  },
  {
   "cell_type": "markdown",
   "metadata": {},
   "source": [
    "**Παράδειγμα**\n",
    "\n",
    "Θα δημιουργήσουμε μία λίστα με τέλεια τετράγωνα με τρεις τρόπους:\n",
    "\n",
    "- `map` και `lambda` έκφραση.\n",
    "\n",
    "- `map` και κλάσική συνάρτηση.\n",
    "\n",
    "- **comprehension**."
   ]
  },
  {
   "cell_type": "code",
   "execution_count": null,
   "metadata": {},
   "outputs": [],
   "source": [
    "# α)\n",
    "sq_list = list(map(lambda x: x**2, range(10)))\n",
    "print(sq_list)"
   ]
  },
  {
   "cell_type": "code",
   "execution_count": null,
   "metadata": {},
   "outputs": [],
   "source": [
    "# β)\n",
    "def sq(x):\n",
    "    return x**2\n",
    "sq_list_2 = list(map(sq, range(10)))\n",
    "print(sq_list_2)"
   ]
  },
  {
   "cell_type": "code",
   "execution_count": null,
   "metadata": {},
   "outputs": [],
   "source": [
    "# γ)\n",
    "sq_list_3 = [x**2 for x in range(10)]\n",
    "print(sq_list_3)"
   ]
  },
  {
   "cell_type": "markdown",
   "metadata": {},
   "source": [
    "**Παράδειγμα**\n",
    "\n",
    "Στο επόμενο παράδειγμα δημιουργείται ένα set με στοιχεία κατά 1 μικρότερα από την λίστα. Η ανώνυμη συνάρτηση εφαρμόζεται στα στοιχεία ενός συνόλου και από τη δομή iterable που προκύπτει επιστρέφεται ένα νέο σύνολο με τη συνάρτηση `set`."
   ]
  },
  {
   "cell_type": "code",
   "execution_count": null,
   "metadata": {},
   "outputs": [],
   "source": [
    "set(map(lambda a: a - 1, [0,1,2]))"
   ]
  },
  {
   "cell_type": "markdown",
   "metadata": {},
   "source": [
    "**Παράδειγμα**\n",
    "\n",
    "Στην συνέχεια μία λίστα με `str` θα μετατραπεί σε λίστα με `int`."
   ]
  },
  {
   "cell_type": "code",
   "execution_count": null,
   "metadata": {},
   "outputs": [],
   "source": [
    "list(map(int, ['1', '2', '3']))"
   ]
  },
  {
   "cell_type": "markdown",
   "metadata": {},
   "source": [
    "**Παράδειγμα** Συνάρτηση αντιστροφής συμβολοσειρέας\n",
    "\n",
    "Θα ορίσουμε μία συνάρτηση με όνομα _reverse_ η οποία αντισρέφει την συμβολοσειρά, ή και λίστα, την οποία δέχεται. "
   ]
  },
  {
   "cell_type": "code",
   "execution_count": null,
   "metadata": {},
   "outputs": [],
   "source": [
    "def reverse(s):\n",
    "    return s[::-1] ## Επιστρέφεται η αντίστροφη της συμβολοσειρέας s \n",
    "\n",
    "reverse(\"κανονικά\")"
   ]
  },
  {
   "cell_type": "markdown",
   "metadata": {},
   "source": [
    "Εφαρμόζουμε την παραπάνω συνάρτηση σε όλα τα στοιχεία μιας λίστας με συμβολοσειρές και παίρνουμε μια νέα λίστα με τη συνάρτηση `list`:"
   ]
  },
  {
   "cell_type": "code",
   "execution_count": null,
   "metadata": {},
   "outputs": [],
   "source": [
    "iterator = map(reverse,[\"ένα\", \"ακόμη\", \"παράδειγμα\"])\n",
    "list(iterator)"
   ]
  },
  {
   "cell_type": "markdown",
   "metadata": {},
   "source": [
    "Η `map` μπορεί να εφαρμοστεί σε περισσότερες από μία συλλογές. "
   ]
  },
  {
   "cell_type": "code",
   "execution_count": null,
   "metadata": {},
   "outputs": [],
   "source": [
    "i = map(lambda a,b: (a,b), [1,2,3],[\"x\",\"y\",\"z\"])\n",
    "list(i)"
   ]
  },
  {
   "cell_type": "markdown",
   "metadata": {},
   "source": [
    "Το ίδιο αποτέλεσμα μπορούμε να πάρουμε με την εντολή `zip`:"
   ]
  },
  {
   "cell_type": "code",
   "execution_count": null,
   "metadata": {},
   "outputs": [],
   "source": [
    "list(zip([1,2,3],[\"x\",\"y\",\"z\"]))"
   ]
  },
  {
   "cell_type": "markdown",
   "metadata": {},
   "source": [
    "Το παραπάνω είναι διαφορετικό από τη λίστα με όλους τους συνδυασμούς ζευγών των δύο λιστών, η οποία μπορεί να υπολογιστεί ως:"
   ]
  },
  {
   "cell_type": "code",
   "execution_count": null,
   "metadata": {},
   "outputs": [],
   "source": [
    "[(a,b) for a in [1,2,3] for b in [\"x\",\"y\",\"z\"]]"
   ]
  },
  {
   "cell_type": "markdown",
   "metadata": {},
   "source": [
    "Εναλλακτικά ως:"
   ]
  },
  {
   "cell_type": "code",
   "execution_count": null,
   "metadata": {},
   "outputs": [],
   "source": [
    "out = []\n",
    "for a in [1,2,3]:\n",
    "    for b in [\"x\",\"y\",\"z\"]:\n",
    "        out.append((a, b))\n",
    "print(out)"
   ]
  },
  {
   "cell_type": "markdown",
   "metadata": {},
   "source": [
    "**Παράδειγμα**\n",
    "\n",
    "Δίνονται δύο λίστες, η _N_ και η _e_. Δημιουργήστε νέα λίστα η οποία υψώνει κάθε στοιχείο της _N_ στο αντίστοιχο στοιχείο της _e_."
   ]
  },
  {
   "cell_type": "code",
   "execution_count": null,
   "metadata": {},
   "outputs": [],
   "source": [
    "N = [2,3,4];e = [10,5,0]\n",
    "list(map(lambda x,y:x**y,N,e))"
   ]
  },
  {
   "cell_type": "markdown",
   "metadata": {},
   "source": [
    "Η επόμενη χρήση της `map` μας επιτρέπει την είσοδο ακέραιων τιμών διαδοχικά χωρίς την χρήση ξεχωριστών `input`."
   ]
  },
  {
   "cell_type": "code",
   "execution_count": null,
   "metadata": {},
   "outputs": [],
   "source": [
    "v = input('Δώσε τρεις ακεραίους').split()\n",
    "x, y, z = map(int, v)\n",
    "x + y + z"
   ]
  },
  {
   "cell_type": "code",
   "execution_count": null,
   "metadata": {},
   "outputs": [],
   "source": [
    "v = input('Δώσε ακεραίους').split()\n",
    "for i in map(int, v):\n",
    "    print(i,end=' ')"
   ]
  },
  {
   "cell_type": "markdown",
   "metadata": {},
   "source": [
    "## Η συνάρτηση `filter`"
   ]
  },
  {
   "cell_type": "markdown",
   "metadata": {},
   "source": [
    "Η εντολή `filter` εφαρμόζει ένα κατηγόρημα  πάνω σε μια συλλογή **iterable** και επιστρέφει μόνο τα στοιχεία της συλλογής που επαληθεύουν το κατηγόρημα. Ένα κατηγόρημα είναι μια συνάρτηση η οποία επιστρέφει μια λογική τιμή, `True` ή `False`."
   ]
  },
  {
   "cell_type": "code",
   "execution_count": null,
   "metadata": {},
   "outputs": [],
   "source": [
    "def is_even(n):\n",
    "    return n % 2 == 0"
   ]
  },
  {
   "cell_type": "code",
   "execution_count": null,
   "metadata": {},
   "outputs": [],
   "source": [
    "iterat_1  = filter(is_even,[12,33,45,66,102,109])\n",
    "list(iterat_1)"
   ]
  },
  {
   "cell_type": "markdown",
   "metadata": {},
   "source": [
    "Το παραπάνω μπορεί να επιτευχθεί με μία έκφραση `lambda`."
   ]
  },
  {
   "cell_type": "code",
   "execution_count": null,
   "metadata": {},
   "outputs": [],
   "source": [
    "iterat_2  = filter(lambda n:n%2==0,[12,33,45,66,102,109])\n",
    "list(iterat_2)"
   ]
  },
  {
   "cell_type": "markdown",
   "metadata": {},
   "source": [
    "Το ίδιο αποτέλεσμα μπορούμε να πάρουμε με τη μορφή ενός list comprehension:"
   ]
  },
  {
   "cell_type": "code",
   "execution_count": null,
   "metadata": {},
   "outputs": [],
   "source": [
    "iterat_3 = [x for x in [12,33,45,66,102,109] if is_even(x)]\n",
    "list(iterat_3)"
   ]
  },
  {
   "cell_type": "markdown",
   "metadata": {},
   "source": [
    "**Παράδειγμα**\n",
    "\n",
    "Χρήση της `filter` για επιλογή μόνο των ονομάτων που ξεκινούν με φωνήεν."
   ]
  },
  {
   "cell_type": "markdown",
   "metadata": {},
   "source": [
    "Με χρήση `lambda` έκφρασης."
   ]
  },
  {
   "cell_type": "code",
   "execution_count": null,
   "metadata": {},
   "outputs": [],
   "source": [
    "names = [\"Alan Turing\",\"Grace Hopper\",\"John von Neumann\",\"Ada Lovelace\",\"Tim Berners-Lee\",\n",
    "    \"Donald Knuth\",\"Barbara Liskov\",\"Dennis Ritchie\",\"Linus Torvalds\",\"Edsger Dijkstra\"]\n",
    "\n",
    "list(filter(lambda name: name[0].lower() in 'aeiou', names))"
   ]
  },
  {
   "cell_type": "markdown",
   "metadata": {},
   "source": [
    "Με χρήση συνάρτησης."
   ]
  },
  {
   "cell_type": "code",
   "execution_count": null,
   "metadata": {},
   "outputs": [],
   "source": [
    "def fromVowel(name):\n",
    "    return name[0].lower() in 'aeiou'\n",
    "list(filter(fromVowel,names))"
   ]
  },
  {
   "cell_type": "markdown",
   "metadata": {},
   "source": [
    "**Παράδειγμα**\n",
    "\n",
    "Χρήση της `filter` για εύρεση κοινών στοιχείων."
   ]
  },
  {
   "cell_type": "code",
   "execution_count": null,
   "metadata": {},
   "outputs": [],
   "source": [
    "odd = [1,3,5,7,9]\n",
    "primes = [2,3,5,7]\n",
    "print (list(filter(lambda x: x in odd, primes)))"
   ]
  },
  {
   "cell_type": "markdown",
   "metadata": {},
   "source": [
    "## Η συνάρτηση `reduce`"
   ]
  },
  {
   "cell_type": "markdown",
   "metadata": {},
   "source": [
    "Η συνάρτηση `reduce` δημιουργεί μια μοναδική τιμή από μια συλλογή εφαρμόζοντας διαδοχικά μια συνάρτηση δύο παραμέτρων στα στοιχεία της συλλογής. Θα πρέπει πρώτα να εισαχθεί μέσω του module `functools`."
   ]
  },
  {
   "cell_type": "code",
   "execution_count": null,
   "metadata": {},
   "outputs": [],
   "source": [
    "from functools import reduce\n",
    "\n",
    "reduce(lambda x, y: x+y, [3,4,5,6,7])"
   ]
  },
  {
   "cell_type": "markdown",
   "metadata": {},
   "source": [
    "Η παραπάνω εντολή αθροίζει τα στοιχεία της λίστας."
   ]
  },
  {
   "cell_type": "markdown",
   "metadata": {},
   "source": [
    "Η ίδια λειτουργία μπορεί να υλοποιηθεί με συνάρτηση αντί για `lambda` έκφραση."
   ]
  },
  {
   "cell_type": "code",
   "execution_count": null,
   "metadata": {},
   "outputs": [],
   "source": [
    "def f(x,y):\n",
    "    return x+y\n",
    "reduce(f, [\"Alan\",\"John\",\"Ada\",\"Tim\"])"
   ]
  },
  {
   "cell_type": "markdown",
   "metadata": {},
   "source": [
    "**Παράδειγμα**\n",
    "\n",
    "Υπολογισμός παραγοντικού $n!$ με τη `reduce`"
   ]
  },
  {
   "cell_type": "code",
   "execution_count": null,
   "metadata": {},
   "outputs": [],
   "source": [
    "def my_factorial(n):\n",
    "    return reduce(lambda a,b: a * b, range(1, n + 1))\n",
    "\n",
    "print(my_factorial(12))"
   ]
  },
  {
   "cell_type": "markdown",
   "metadata": {},
   "source": [
    "Είναι δυνατόν να καλέσουμε τη `reduce` με μια αρχική τιμή ως εξής:"
   ]
  },
  {
   "cell_type": "code",
   "execution_count": null,
   "metadata": {},
   "outputs": [],
   "source": [
    "def conc(a,b):\n",
    "    return a +\", \"+ b # Συνένωση συμβολοσειρών.\n",
    "\n",
    "reduce(conc,[\"ένα\",\"δύο\",\"τρία\"],\"μηδέν\")"
   ]
  },
  {
   "cell_type": "markdown",
   "metadata": {},
   "source": [
    "**Παράδειγμα**\n",
    "\n",
    "Στο επόμενο παράδειγμα υπολογίζεται το άθροισμα 10+1+2+3+4."
   ]
  },
  {
   "cell_type": "code",
   "execution_count": null,
   "metadata": {},
   "outputs": [],
   "source": [
    "reduce(lambda x, y: x+y, [1,2,3,4],10)"
   ]
  },
  {
   "cell_type": "markdown",
   "metadata": {},
   "source": [
    "## Συνδυασμός"
   ]
  },
  {
   "cell_type": "markdown",
   "metadata": {},
   "source": [
    "Μια ισχυρή τεχνική στον συναρτησιακό προγραμματισμό είναι ο συνδυασμός των `map`, `reduce` και `filter`. "
   ]
  },
  {
   "cell_type": "markdown",
   "metadata": {},
   "source": [
    "**Παράδειγμα**\n",
    "\n",
    "Θα υπολογίσουμε το επόμενο άθροισμα:\n",
    "$$\\sum_{i=0}^n {i^2}$$"
   ]
  },
  {
   "cell_type": "code",
   "execution_count": null,
   "metadata": {},
   "outputs": [],
   "source": [
    "n=10\n",
    "reduce(lambda x, y: x + y, map(lambda x: x ** 2, range(1,n+1)))"
   ]
  },
  {
   "cell_type": "markdown",
   "metadata": {},
   "source": [
    "**Παράδειγμα**\n",
    "\n",
    "Ο υπολογισμός της έκφρασης $$\\sum_{i=0}^{n}{f(i)}$$ μπορεί να γίνει με την επόμενη συνάρτηση."
   ]
  },
  {
   "cell_type": "code",
   "execution_count": null,
   "metadata": {},
   "outputs": [],
   "source": [
    "def sum_fun2(fun, n):\n",
    "    return reduce(lambda a,b: a+b, map(fun,range(n+1)))\n",
    "\n",
    "print(sum_fun2(lambda x: x*x, 3))"
   ]
  },
  {
   "cell_type": "markdown",
   "metadata": {},
   "source": [
    "**Παράδειγμα**\n",
    "\n",
    "Θα δημιουργησουμε μία λίστα με πρώτους αριθμούς με:\n",
    "\n",
    "- Χρήση επαναλήψεων\n",
    "\n",
    "- Συνδυασμός `map`, `filter`, `lambda` και συνάρτησης `all` για εύρεση πρώτων αριθμών από το 1 έως το 100."
   ]
  },
  {
   "cell_type": "code",
   "execution_count": null,
   "metadata": {},
   "outputs": [],
   "source": [
    "n=50"
   ]
  },
  {
   "cell_type": "code",
   "execution_count": null,
   "metadata": {},
   "outputs": [],
   "source": [
    "primes = []\n",
    "for x in range(1, n):\n",
    "    count = 0\n",
    "    for y in range(1, x + 1):\n",
    "        if x % y == 0:\n",
    "            count += 1\n",
    "    if count == 2:\n",
    "        primes.append(x)\n",
    "print(primes)"
   ]
  },
  {
   "cell_type": "code",
   "execution_count": null,
   "metadata": {},
   "outputs": [],
   "source": [
    "primes = list(filter(lambda x:all(x % y != 0 for y in range(2, x)), range(2, n)))\n",
    "print(primes)"
   ]
  },
  {
   "cell_type": "code",
   "execution_count": null,
   "metadata": {},
   "outputs": [],
   "source": []
  }
 ],
 "metadata": {
  "kernelspec": {
   "display_name": "Python 3 (ipykernel)",
   "language": "python",
   "name": "python3"
  },
  "language_info": {
   "codemirror_mode": {
    "name": "ipython",
    "version": 3
   },
   "file_extension": ".py",
   "mimetype": "text/x-python",
   "name": "python",
   "nbconvert_exporter": "python",
   "pygments_lexer": "ipython3",
   "version": "3.11.4"
  }
 },
 "nbformat": 4,
 "nbformat_minor": 2
}
