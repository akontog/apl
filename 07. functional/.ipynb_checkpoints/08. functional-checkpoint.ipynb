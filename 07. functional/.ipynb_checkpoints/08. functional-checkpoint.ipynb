{
 "cells": [
  {
   "cell_type": "markdown",
   "metadata": {},
   "source": [
    "<div style=\"padding:20px 0px 20px 0px; text-align:center; font-weight: bold; font-size:170%; background-color: #2d8077; color:#f0b439;\">\n",
    "08.<br>\n",
    "<span style=\"color:#ffffcc;\">Συναρτησιακός Προγραμματισμός</span>\n",
    "</div>\n",
    "\n",
    "---"
   ]
  },
  {
   "cell_type": "markdown",
   "metadata": {},
   "source": [
    "Ο συναρτησιακός προγραμματισμός αποτελεί προγραμματιστικό υπόδειγμα στο οποίο δεν έχουμε *ανάθεση τιμών δεδομένων σε μεταβλητές* αλλά *ορισμό συναρτήσεων* και *εφαρμογή συναρτήσεων στις παραμέτρους τους*.\n",
    "\n",
    "Στον συναρτησιακό προγραμματισμό χειριζόμαστε συναρτήσεις όπως τα δεδομένα, functions as first class objects, ώς βασικά δομικά στοιχεία."
   ]
  },
  {
   "cell_type": "markdown",
   "metadata": {},
   "source": [
    "# Είδη συναρτήσεων"
   ]
  },
  {
   "cell_type": "markdown",
   "metadata": {},
   "source": [
    "-  **Built-in Functions**: Συναρτήσεις που είναι ορισμένες στην Python και είναι πάντα διαθέσιμες. π.χ. `print`, `len` κ.ο.κ.\n",
    "\n",
    "-  **Ορισμένες από τον χρήστη**: Έχουν δημιουργηθεί από τον χρήστη για την επίλυση διάφορων λειτουργιών. π.χ. def sub(a,b): return a-b.\n",
    "\n",
    "-  **Γνήσιες συναρτήσεις**: Συναρτήσεις που επιστρέφουν πάντα το ίδιο αποτέλεσμα εάν περάσουν τα ίδια ορίσματα. Επιπλέον, δεν εξαρτάται από οποιαδήποτε αλλαγή κατάστασης ή δεδομένων κατά την εκτέλεση ενός προγράμματος.\n",
    "\n",
    "-  **Αναδρομικές συναρτήσεις**: Συναρτήσεις που καλούν τον εαυτό τους κατά τη διάρκεια της εκτέλεσής τους. π.χ. def fact(n): return 1 if n == 0 else n * fact(n - 1)\n",
    "\n",
    "-  **Anonymous/lambda συναρτήσεις**: Τυπικά μικρές συναρτήσεις ορισμένες με την βοήθεια της `lambda`. π.χ. lambda x:x**2.\n",
    "\n",
    "-  **High Order συναρτήσεις**: Συναρτήσεις που δέχονται άλλες συναρτήσεις ως παραμέτρους ή επιστρέφουν κάποια συνάρτηση. π.χ.: def applyop(op, x, y): return op(x, y) όπου op μία συνάρτηση.\n",
    "\n",
    "-  **Nested συναρτήσεις**:Συναρτήσεις που ορίζονται μέσα σε άλλες συναρτήσεις. Δίνουν την δυνατότητα της τεχνικής closure.\n",
    "\n",
    "-  **Generator συναρτήσεις**: Κάνουν χρήση της `yield` για να δημιουργήσουν σειρά τιμών. Έχουν αναλυθεί στην ενότητα των δομών δεδομένων."
   ]
  },
  {
   "cell_type": "markdown",
   "metadata": {},
   "source": [
    "# Ενσωματωμένες, built-in συναρτήσεις"
   ]
  },
  {
   "cell_type": "markdown",
   "metadata": {},
   "source": [
    "Οι built-in συναρτήσεις παρέχονται απευθείας από τη γλώσσα Python. Είναι διαθέσιμες χωρίς την ανάγκη εισαγωγής κάποιας βιβλιοθήκης. Υπάρχουν ενσωματωμένες συναρτήσεις για διάφορες εργασίες:\n",
    "\n",
    "- Είσοδος/Έξοδος\n",
    "\n",
    "    - `print`\n",
    "    \n",
    "    - `input`\n",
    "\n",
    "- Μαθηματικές Συναρτήσεις\n",
    "\n",
    "    - `abs`\n",
    "    \n",
    "    - `round`\n",
    "    \n",
    "    - `pow`\n",
    "    \n",
    "- Συλλογές\n",
    "\n",
    "    - \n",
    "    \n",
    "    -\n",
    "    \n",
    "- Έλεγχος τύπου, αντικειμένου \n",
    "\n",
    "    - `type`\n",
    "    \n",
    "    - `isinstance`"
   ]
  },
  {
   "cell_type": "markdown",
   "metadata": {},
   "source": [
    "# Ορισμένες από τον χρήστη"
   ]
  },
  {
   "cell_type": "markdown",
   "metadata": {},
   "source": [
    "Όπως έχει αναφερθεί, συναρτήσεις δημιουργούνται από τον χρήστη με τη `def`."
   ]
  },
  {
   "cell_type": "code",
   "execution_count": null,
   "metadata": {},
   "outputs": [],
   "source": [
    "def greet(name):\n",
    "    \"\"\"\n",
    "    Επιστρέφει έναν χαιρετισμό για το όνομα της παραμέτρου.\n",
    "    \"\"\"\n",
    "    return 'Γεια σου',name\n",
    "greet('Alex')"
   ]
  },
  {
   "cell_type": "markdown",
   "metadata": {},
   "source": [
    "# Γνήσιες συναρτήσεις Pure functions"
   ]
  },
  {
   "cell_type": "markdown",
   "metadata": {},
   "source": [
    "Γνήσιες συναρτήσεις, pure functions, είναι οι συναρτήσεις που:\n",
    "\n",
    "- το αποτέλεσμά τους θα είναι πάντα το ίδιο όσες φορές και να καλέσουμε την συνάρτηση αν οι παράμετροι είναι ίδιες.\n",
    "\n",
    "- Σε περίπτωση που οι παράμετροι είναι **mutable** δεν θα πρέπει να αλλάζουν.\n",
    "\n",
    "Τα επόμενα παραδείγματα δείχνουν την διαφορά μή γνήσιας και γνήσιας συνάρτησης."
   ]
  },
  {
   "cell_type": "markdown",
   "metadata": {},
   "source": [
    "Η επόμενη συνάρτηση έχει \"παρενέργειες\". Επηρεάζεται η εξωτερική μεταβλητή res."
   ]
  },
  {
   "cell_type": "code",
   "execution_count": 1,
   "metadata": {},
   "outputs": [
    {
     "name": "stdout",
     "output_type": "stream",
     "text": [
      "7\n"
     ]
    }
   ],
   "source": [
    "res = 0\n",
    "def add(x,y):\n",
    "    global res\n",
    "    res = x + y\n",
    "add(4,3)\n",
    "print(res)"
   ]
  },
  {
   "cell_type": "markdown",
   "metadata": {},
   "source": [
    "Η επόμενη έκδοση αποτελεί γνήσια συνάρτηση χωρίς \"παρενέργειες\""
   ]
  },
  {
   "cell_type": "code",
   "execution_count": 2,
   "metadata": {},
   "outputs": [
    {
     "name": "stdout",
     "output_type": "stream",
     "text": [
      "7\n"
     ]
    }
   ],
   "source": [
    "res = 0\n",
    "def add(x,y):\n",
    "    return x + y\n",
    "res = add(4,3)\n",
    "print(res)"
   ]
  },
  {
   "cell_type": "markdown",
   "metadata": {},
   "source": [
    "Η επόμενη συνάρτηση εξαρτάται από την εξωτερική λίστα _L_. Οπουδήποτε αλλού καλεστεί θα εξαρτάται από μία αντίστοιχη λίστα."
   ]
  },
  {
   "cell_type": "code",
   "execution_count": 3,
   "metadata": {},
   "outputs": [
    {
     "name": "stdout",
     "output_type": "stream",
     "text": [
      "[100, 2, 3, 4, 100]\n"
     ]
    }
   ],
   "source": [
    "L = [1,2,3,4,5]\n",
    "def changeList():\n",
    "    L[0]=100\n",
    "    L[-1]=100\n",
    "changeList()\n",
    "print(L)"
   ]
  },
  {
   "cell_type": "markdown",
   "metadata": {},
   "source": [
    "Μέσα στην συνάρτηση _changeList_ η λίστα _L_ της παραμέτρου δεν επηρεάζεται. Αποτελεί γνήσια συνάρτηση."
   ]
  },
  {
   "cell_type": "code",
   "execution_count": 4,
   "metadata": {},
   "outputs": [
    {
     "name": "stdout",
     "output_type": "stream",
     "text": [
      "[1, 2, 3, 4, 5]\n",
      "[100, 2, 3, 4, 100]\n"
     ]
    }
   ],
   "source": [
    "\n",
    "L = [1,2,3,4,5]\n",
    "def changeList(L):\n",
    "    newL = L[:]\n",
    "    newL[0]=100\n",
    "    newL[-1]=100\n",
    "    return newL\n",
    "LL = changeList(L)\n",
    "print(L)\n",
    "print(LL)"
   ]
  },
  {
   "cell_type": "markdown",
   "metadata": {},
   "source": [
    "# Αναδρομικές Συναρτήσεις"
   ]
  },
  {
   "cell_type": "markdown",
   "metadata": {},
   "source": [
    "\n",
    "Στο συναρτησιακό προγραμματισμό αποφεύγεται η χρήση δομών επανάληψης και προτιμάται η χρήση αναδρομής. Οι αναδρομικές συναρτήσεις ή μέθοδοι καλούν τους εαυτούς τους, είτε άμεσα είτε έμμεσα μέσω άλλων συναρτήσεων ή μεθόδων."
   ]
  },
  {
   "cell_type": "markdown",
   "metadata": {},
   "source": [
    "**Παράδειγμα**\n",
    "\n",
    "Όπως σε κάθε γλώσσα υψηλού επιπέδου, έτσι και στην Python μπορεί να υλοποιηθεί η διαδικασία της αναδρομής. \n",
    "Έστω η σειρά Fibonacci: $$0, 1, 1, 2, 3, 5, 8, 13,... $$ η οποία ορίζεται ως:\n",
    "$$f_0 = 0$$\n",
    "$$f_1 = 1$$\n",
    "$$f_n = f_{n-1} + f_{n-2},  n > 1.$$\n",
    "Για τον υπολογισμό των όρων της Fibonacci, μπορεί να υλοποιηθεί αναδρομική συνάρτηση ως εξής:\n",
    "</div>"
   ]
  },
  {
   "cell_type": "code",
   "execution_count": 3,
   "metadata": {},
   "outputs": [
    {
     "name": "stdout",
     "output_type": "stream",
     "text": [
      "Ακολουθία Fibonacci:\n",
      "0 1 1 2 3 5 8 13 21 34 "
     ]
    }
   ],
   "source": [
    "# Αναδρομικός υπολογισμός των όρων της ακολουθίας fibonacci\n",
    "def recur_fibo(n):\n",
    "   if n <= 1:\n",
    "       return n  \n",
    "   else:\n",
    "       return(recur_fibo(n-1) + recur_fibo(n-2))\n",
    "\n",
    "nterms = 10\n",
    "print(\"Ακολουθία Fibonacci:\")\n",
    "for i in range(nterms):\n",
    "    print(recur_fibo(i), end= \" \")\n"
   ]
  },
  {
   "cell_type": "markdown",
   "metadata": {},
   "source": [
    "## Memoization"
   ]
  },
  {
   "cell_type": "markdown",
   "metadata": {},
   "source": [
    "Η παραπάνω αναδρομική διαδικασία έχει την εξής ανεπιθύμητη συνέπεια: Πολλοί όροι της ακολουθίας υπολογίζονται πολλές φορές. Για παράδειγμα, για να υπολογίσουμε τον όρο $f_4$, υπολογίζουμε τους όρους $f_3$ kai $f_2$. Για να υπολογίζουμε τον $f_5$ υπολογίζουμε τον $f_4$ και ξαναυπολογίζουμε τον $f_3$. Έτσι, οδηγούμαστε σε έναν εκθετικό αριθμό υπολογισμών όρων οι οποίοι έχουν υπολογιστεί ξανά σε προηγούμενη φάση της εκτέλεσης του αλγορίθμου.\n",
    "\n",
    "Για να αποφύγουμε το παραπάνω πρόβλημα, χρησιμοποιούμε την επόμενη τεχνική. Αποθηκεύουμε τους όρους τους οποίους έχουμε ήδη υπολογίσει σε έναν πίνακα, _mem_. Σε κάθε κλήση της  συνάρτησης _fiboMemo_, ελέγχουμε αν ο συγκεκριμένος όρος έχει ήδη υπολογιστεί και βρίσκεται στον πίνακα _mem_. Αν ναι, τον επιστρέφουμε ως έχει, διαφορετικά εκτελούμε τη συνάρτηση _recurFiboMemo_ η οποία υπολογίζει τον εκάστοτε όρο της ακολουθίας σύμφωνα με τον αναδρομικό ορισμό. Προσέξτε ότι η δεύτερη συνάρτηση καλεί την _fiboMemo_ ώστε με αυτό τον τρόπο να αξιοποιεί τους όρους που έχουν ήδη υπολογιστεί. Έχουμε δηλ. μια κατάσταση η οποία ονομάζεται **έμμεση αναδρομή**.\n",
    "\n",
    "Η παραπάνω τεχνική της αποθήκευσης των ενδιάμεσων αποτελεσμάτων ονομάζεται **memoization**."
   ]
  },
  {
   "cell_type": "code",
   "execution_count": 2,
   "metadata": {},
   "outputs": [
    {
     "name": "stdout",
     "output_type": "stream",
     "text": [
      "190392490709135\n"
     ]
    }
   ],
   "source": [
    "mem = 100 * [-1] # Αρχικά ο πίνακας έχει τιμές -1\n",
    "\n",
    "def fiboMemo(n):\n",
    "    if mem[n] == -1:  # Έχει υπολογιστεί προηγουμένως ο αντίστοιχος όρος;\n",
    "        mem[n] = recurFiboMemo(n)\n",
    "    return mem[n]\n",
    "\n",
    "def recurFiboMemo(n):\n",
    "   if n == 0:\n",
    "       return 0\n",
    "   if n == 1:\n",
    "       return 1\n",
    "   return fiboMemo(n-1) + fiboMemo(n-2)\n",
    "\n",
    "print(fiboMemo(70))"
   ]
  },
  {
   "cell_type": "markdown",
   "metadata": {},
   "source": [
    "## Δυναμικός προγραμματισμός"
   ]
  },
  {
   "cell_type": "markdown",
   "metadata": {},
   "source": [
    "Η εύρεση των αριθμών Fibonacci παραπάνω αποτελεί ένα πολύ απλό παράδειγμα μιας ευρύτερης στρατηγικής για την υπολογιστική επίλυση προβλημάτων η οποία ονομάζεται **δυναμικός προγραμματισμός**. Η τεχνική αυτή στοχεύει στην επίλυση ενός σύνθετου προβλήματος μέσω της αναγωγής του σε απλούστερα υπο-προβλήματα τα οποία επιλύονται πρώτα και οδηγούν εν τέλει στη λύση του ευρύτερου, σύνθετου προβλήματος.\n",
    "\n",
    "Στο παράδειγμα με τους αριθμούς Fibonnaci, η εύρεση του όρου στη θέση $n$ της ακολουθίας ανάγεται στην εύρεση των όρων $n-1$ και $n-2$ της ακολουθίας. Αυτή η έκφραση του προβλήματος *από πάνω προς τα κάτω* οδηγεί στην αναδρομική διαδικασία που είδαμε στην προηγούμενη υποενότητα.\n",
    "\n",
    "Είναι δυνατόν σε κάποιες περιπτώσεις να αποφύγουμε τον αναδρομικό ορισμό του προβλήματος, ορίζοντας τον υπολογισμό *από κάτω προς τα πάνω*, δηλ. από τις πιο απλές περιπτώσεις προς τις πιο σύνθετες.  Για την ακολουθία Fibonacci, η συνάρτηση χωρίς τη χρήση αναδρομής μπορεί να γραφεί ως εξής:"
   ]
  },
  {
   "cell_type": "code",
   "execution_count": 3,
   "metadata": {},
   "outputs": [
    {
     "name": "stdout",
     "output_type": "stream",
     "text": [
      "190392490709135\n"
     ]
    }
   ],
   "source": [
    "def fiboIter(n):\n",
    "    if n == 0:\n",
    "        return n\n",
    "    a = 0\n",
    "    b = 1\n",
    "    \n",
    "    for i in range(2, n + 1):\n",
    "        #c = b;b = a + b;a = c\n",
    "        a, b = b, a + b\n",
    "    return b \n",
    "    \n",
    "print(fiboIter(70))"
   ]
  },
  {
   "cell_type": "markdown",
   "metadata": {},
   "source": [
    "Η συνάρτηση _fiboIter_, χρησιμοποιεί τις μεταβλητές _a_ και _b_ για να αποθηκεύσει τους δύο προηγούμενους όρους της ακολουθίας, τροποποιώντας τους κατάλληλα σε κάθε επανάληψη. Η τρίτη μεταβλητή, _c_, χρησιμοποιείται ως ενδιάμεσος, βοηθητικός χώρος αποθήκευσης."
   ]
  },
  {
   "cell_type": "markdown",
   "metadata": {},
   "source": [
    "# Anonymous/lambda συναρτήσεις"
   ]
  },
  {
   "cell_type": "markdown",
   "metadata": {},
   "source": [
    "Μια έκφραση λάμδα είναι μια ειδική έκφραση η οποία ορίζει μια *ανώνυμη* συνάρτηση. Για παράδειγμα, η έκφραση"
   ]
  },
  {
   "cell_type": "code",
   "execution_count": 3,
   "metadata": {},
   "outputs": [
    {
     "data": {
      "text/plain": [
       "<function __main__.<lambda>(x)>"
      ]
     },
     "execution_count": 3,
     "metadata": {},
     "output_type": "execute_result"
    }
   ],
   "source": [
    "inc = lambda x : x + 1\n",
    "inc"
   ]
  },
  {
   "cell_type": "markdown",
   "metadata": {},
   "source": [
    "Ορίζει τη συνάρτηση η οποία αντιστοιχίζει την τιμή x + 1 στην τιμή x. Η μεταβλητή πριν το `:` είναι η παράμετρος και μετά το `:` η επιστρεφόσμενη τιμή. Είναι αντίστοιχη της συνάρτησης:"
   ]
  },
  {
   "cell_type": "code",
   "execution_count": 4,
   "metadata": {},
   "outputs": [
    {
     "data": {
      "text/plain": [
       "<function __main__.incf(x)>"
      ]
     },
     "execution_count": 4,
     "metadata": {},
     "output_type": "execute_result"
    }
   ],
   "source": [
    "def incf(x):\n",
    "    return x+1\n",
    "incf"
   ]
  },
  {
   "cell_type": "code",
   "execution_count": 2,
   "metadata": {},
   "outputs": [
    {
     "ename": "NameError",
     "evalue": "name 'inc' is not defined",
     "output_type": "error",
     "traceback": [
      "\u001b[1;31m---------------------------------------------------------------------------\u001b[0m",
      "\u001b[1;31mNameError\u001b[0m                                 Traceback (most recent call last)",
      "Cell \u001b[1;32mIn[2], line 1\u001b[0m\n\u001b[1;32m----> 1\u001b[0m inc(\u001b[38;5;241m5\u001b[39m),incf(\u001b[38;5;241m5\u001b[39m)\n",
      "\u001b[1;31mNameError\u001b[0m: name 'inc' is not defined"
     ]
    }
   ],
   "source": [
    "inc(5),incf(5)"
   ]
  },
  {
   "cell_type": "code",
   "execution_count": 16,
   "metadata": {},
   "outputs": [
    {
     "data": {
      "text/plain": [
       "19"
      ]
     },
     "execution_count": 16,
     "metadata": {},
     "output_type": "execute_result"
    }
   ],
   "source": [
    "my_poly = lambda y: y ** 2 + 3 * y + 1\n",
    "my_poly(3)"
   ]
  },
  {
   "cell_type": "markdown",
   "metadata": {},
   "source": [
    "Είναι δυνατόν να οριστούν εκφράσεις λάμδα με περισσότερες από μία μεταβλητές:"
   ]
  },
  {
   "cell_type": "code",
   "execution_count": 17,
   "metadata": {},
   "outputs": [
    {
     "data": {
      "text/plain": [
       "16"
      ]
     },
     "execution_count": 17,
     "metadata": {},
     "output_type": "execute_result"
    }
   ],
   "source": [
    "two_variable_fun = lambda x, y: x * 2 + y * 2\n",
    "\n",
    "two_variable_fun(3,5)"
   ]
  },
  {
   "cell_type": "markdown",
   "metadata": {},
   "source": [
    "Οι εκφράσεις λάμδα ορίζουν συναρτήσεις που επιστρέφουν τιμή οποιοδήποτε τύπου. Παράδειγμα συνάρτησης που επιστρέφει τιμή `bool`."
   ]
  },
  {
   "cell_type": "code",
   "execution_count": 2,
   "metadata": {},
   "outputs": [],
   "source": [
    "predicate = lambda a : a > 0"
   ]
  },
  {
   "cell_type": "markdown",
   "metadata": {},
   "source": [
    "Η παραπάνω συνάρτηση επιστρέφει `True` αν η παράμετρός της είναι μεγαλύτερη από το 0 και `False` διαφορετικά."
   ]
  },
  {
   "cell_type": "code",
   "execution_count": 4,
   "metadata": {},
   "outputs": [
    {
     "name": "stdout",
     "output_type": "stream",
     "text": [
      "False\n",
      "True\n"
     ]
    }
   ],
   "source": [
    "print(predicate(-5))\n",
    "print(predicate(5))"
   ]
  },
  {
   "cell_type": "markdown",
   "metadata": {},
   "source": [
    "Υπάρχει η δυνατότητα η `lambda` έκφραση να καλεστεί με την δημιουργία της χωρίς να απαιτείται να δοθεί κάποιο όνομα."
   ]
  },
  {
   "cell_type": "code",
   "execution_count": 5,
   "metadata": {},
   "outputs": [
    {
     "data": {
      "text/plain": [
       "16"
      ]
     },
     "execution_count": 5,
     "metadata": {},
     "output_type": "execute_result"
    }
   ],
   "source": [
    "(lambda x:x**2)(4)"
   ]
  },
  {
   "cell_type": "markdown",
   "metadata": {},
   "source": [
    "# Συναρτήσεις υψηλής τάξης (high order)"
   ]
  },
  {
   "cell_type": "markdown",
   "metadata": {},
   "source": [
    "## Ανάθεση συναρτήσεων σε μεταβλητές"
   ]
  },
  {
   "cell_type": "code",
   "execution_count": 6,
   "metadata": {},
   "outputs": [],
   "source": [
    "def fun(x):\n",
    "    return 2 * x\n",
    "\n",
    "the_function = fun"
   ]
  },
  {
   "cell_type": "code",
   "execution_count": 7,
   "metadata": {},
   "outputs": [
    {
     "data": {
      "text/plain": [
       "8"
      ]
     },
     "execution_count": 7,
     "metadata": {},
     "output_type": "execute_result"
    }
   ],
   "source": [
    "the_function(4)"
   ]
  },
  {
   "cell_type": "markdown",
   "metadata": {},
   "source": [
    "Τύπος της μεταβλητής _the_function_:"
   ]
  },
  {
   "cell_type": "code",
   "execution_count": 8,
   "metadata": {},
   "outputs": [
    {
     "data": {
      "text/plain": [
       "function"
      ]
     },
     "execution_count": 8,
     "metadata": {},
     "output_type": "execute_result"
    }
   ],
   "source": [
    "type(the_function)"
   ]
  },
  {
   "cell_type": "markdown",
   "metadata": {},
   "source": [
    "## Συναρτήσεις ως παράμετροι άλλων συναρτήσεων"
   ]
  },
  {
   "cell_type": "markdown",
   "metadata": {},
   "source": [
    "Έστω οι επόμενες συναρτήσεις οι οποίες επιστρέφουν το άθροισμα και την διαφορά δύο αριθμών."
   ]
  },
  {
   "cell_type": "code",
   "execution_count": 9,
   "metadata": {},
   "outputs": [],
   "source": [
    "def add(a, b):\n",
    "  return a + b\n",
    "\n",
    "def sub(a, b):\n",
    "  return a - b"
   ]
  },
  {
   "cell_type": "markdown",
   "metadata": {},
   "source": [
    "Η επόμενη συνάρτηση δέχεται τρεις αριθμούς και μία συνάρτηση και πολλαπλασιάζει τον πρώτο αριθμό με το αποτέλεσμα της εφαρμογής της συνάρτησης στους άλλους δύο αριθμούς."
   ]
  },
  {
   "cell_type": "code",
   "execution_count": 10,
   "metadata": {},
   "outputs": [
    {
     "name": "stdout",
     "output_type": "stream",
     "text": [
      "20\n",
      "4\n"
     ]
    }
   ],
   "source": [
    "def times(a,b,c,func):\n",
    "    return a*func(b,c)\n",
    "print(times(4,3,2,add)) # 4*(3+2)\n",
    "print(times(4,3,2,sub)) # 4*(3-2)"
   ]
  },
  {
   "cell_type": "markdown",
   "metadata": {},
   "source": [
    "Έστω ότι θέλουμε να υπολογίσουμε το άρθροισμα: $$\\sum_{i=0}^n {i^2}$$"
   ]
  },
  {
   "cell_type": "markdown",
   "metadata": {},
   "source": [
    "Αυτό υπολογίζεται από την ακόλουθη συνάρτηση:"
   ]
  },
  {
   "cell_type": "code",
   "execution_count": 11,
   "metadata": {},
   "outputs": [
    {
     "name": "stdout",
     "output_type": "stream",
     "text": [
      "14\n"
     ]
    }
   ],
   "source": [
    "def sum(n):\n",
    "    s = 0\n",
    "    for i in range(n+1):\n",
    "        s += i * i\n",
    "    return s\n",
    "\n",
    "print(sum(3))"
   ]
  },
  {
   "cell_type": "markdown",
   "metadata": {},
   "source": [
    "Θα μπορούσαμε να υπολογίσουμε το παραπάνω άθροισμα για οποιαδήποτε συνάρτηση $f$:  $$\\sum_{i=0}^n {f(i)}$$"
   ]
  },
  {
   "cell_type": "code",
   "execution_count": 12,
   "metadata": {},
   "outputs": [
    {
     "name": "stdout",
     "output_type": "stream",
     "text": [
      "14\n"
     ]
    }
   ],
   "source": [
    "def sum_fun(fun,n): # Η συνάρτηση fun είναι παράμετρος της sum_fun\n",
    "    s = 0\n",
    "    for i in range(n+1):\n",
    "        s += fun(i) # Εφαρμογή της συνάρτησης fun στην τιμή i\n",
    "    return s\n",
    "\n",
    "def sq(x):\n",
    "    return x * x\n",
    "\n",
    "print(sum_fun(sq, 3))"
   ]
  },
  {
   "cell_type": "markdown",
   "metadata": {},
   "source": [
    "Μια συνάρτηση η οποία δέχεται ως παράμετρο μια άλλη συνάρτηση ονομάζεται *συνάρτηση ανώτερης τάξης*."
   ]
  },
  {
   "cell_type": "markdown",
   "metadata": {},
   "source": [
    "### `lambda` ως παράμετρος συνάρτησης"
   ]
  },
  {
   "cell_type": "markdown",
   "metadata": {},
   "source": [
    "Στα προηγούμενα παραδείγματα είδαμε συναρτήσεις που μπορούσαν να περαστούν ως παράμετροι άλλων συναρτήσεων. Αυτό μπορεί να απλοποιηθεί με τη χρήση `lambda` εκφράσεων."
   ]
  },
  {
   "cell_type": "code",
   "execution_count": 26,
   "metadata": {},
   "outputs": [
    {
     "name": "stdout",
     "output_type": "stream",
     "text": [
      "20\n",
      "4\n"
     ]
    }
   ],
   "source": [
    "def times(a,b,c,func):\n",
    "    return a*func(b,c)\n",
    "print(times(4,3,2,lambda x, y: x + y)) # 4*(3+2)\n",
    "print(times(4,3,2,lambda x, y: x - y)) # 4*(3-2)"
   ]
  },
  {
   "cell_type": "markdown",
   "metadata": {},
   "source": [
    "## Συνάρτηση που επιστρέφει συνάρτηση"
   ]
  },
  {
   "cell_type": "markdown",
   "metadata": {},
   "source": [
    "Με τη χρήση μιας έκφρασης λάμδα μπορούμε να ορίσουμε συναρτήσεις στην Python οι οποίες επιστρέφουν νέες συναρτήσεις. Για παράδειγμα, η συνάρτηση"
   ]
  },
  {
   "cell_type": "code",
   "execution_count": 19,
   "metadata": {},
   "outputs": [],
   "source": [
    "def new_fun(a,n):\n",
    "    return lambda x: a * x ** n"
   ]
  },
  {
   "cell_type": "markdown",
   "metadata": {},
   "source": [
    "επιστρέφει το μονώνυμο $a x ^n$ για κάθε $a$ και $n$."
   ]
  },
  {
   "cell_type": "markdown",
   "metadata": {},
   "source": [
    "Το μονώνυμο που επιστρέφεται είναι μια νέα συνάρτηση την οποία μπορούμε να εφαρμόσουμε σε κάποια τιμή. Για παράδειγμα, για να υπολογίσουμε την τιμή $3 x ^2$ για $x = 4$ δίνουμε:"
   ]
  },
  {
   "cell_type": "code",
   "execution_count": 20,
   "metadata": {},
   "outputs": [
    {
     "data": {
      "text/plain": [
       "48"
      ]
     },
     "execution_count": 20,
     "metadata": {},
     "output_type": "execute_result"
    }
   ],
   "source": [
    "new_fun(3,2)(4)"
   ]
  },
  {
   "cell_type": "markdown",
   "metadata": {},
   "source": [
    "Στο παραπάνω, η `new_fun(3,2)` είναι η *συνάρτηση* που αντιστοιχεί στο μονώνυμο $3 x ^2$. Η έκφραση  `new_fun(3,2)(4)` είναι η εφαρμογή της παραπάνω συνάρτησης στην τιμή 4."
   ]
  },
  {
   "cell_type": "markdown",
   "metadata": {},
   "source": [
    "**Παράδειγμα**\n",
    "\n",
    "Ακολουθεί μετατροπή συνάρτησης εύρεσης και επιστροφής μεγίστου σε `lambda` συνάρτηση."
   ]
  },
  {
   "cell_type": "code",
   "execution_count": 21,
   "metadata": {},
   "outputs": [
    {
     "data": {
      "text/plain": [
       "6"
      ]
     },
     "execution_count": 21,
     "metadata": {},
     "output_type": "execute_result"
    }
   ],
   "source": [
    "def maximum(a,b):\n",
    "    if a>b:\n",
    "        return a\n",
    "    return b\n",
    "maximum(5,6)"
   ]
  },
  {
   "cell_type": "code",
   "execution_count": 22,
   "metadata": {},
   "outputs": [
    {
     "data": {
      "text/plain": [
       "6"
      ]
     },
     "execution_count": 22,
     "metadata": {},
     "output_type": "execute_result"
    }
   ],
   "source": [
    "maximum = lambda a,b:a if a>b else b\n",
    "maximum(5,6)"
   ]
  },
  {
   "cell_type": "markdown",
   "metadata": {},
   "source": [
    "# Nested functions / Closure\n",
    "Το γεγονός ότι μία συνάρτηση μπορεί να επιστρέψει συνάρτηση σε συνδυασμό με τις nested συναρτήσεις καθιστά δυνατό σε μία συνάρτηση να θυμάται τιμές σε μία τεχνική που λέγεται **closure**."
   ]
  },
  {
   "cell_type": "code",
   "execution_count": 23,
   "metadata": {},
   "outputs": [],
   "source": [
    "def outer(mem):\n",
    "    def inner(): \n",
    "        print(mem) \n",
    "    return inner"
   ]
  },
  {
   "cell_type": "code",
   "execution_count": 24,
   "metadata": {},
   "outputs": [
    {
     "name": "stdout",
     "output_type": "stream",
     "text": [
      "saved\n"
     ]
    }
   ],
   "source": [
    "save = outer('saved')\n",
    "save()"
   ]
  },
  {
   "cell_type": "code",
   "execution_count": 25,
   "metadata": {},
   "outputs": [
    {
     "name": "stdout",
     "output_type": "stream",
     "text": [
      "9\n",
      "11\n"
     ]
    }
   ],
   "source": [
    "def makeadd(a):  \n",
    "    def add(b):  \n",
    "        return a + b  \n",
    "    return add\n",
    "add4 = makeadd(4)  \n",
    "print(add4(5))\n",
    "add6 = makeadd(6)  \n",
    "print(add6(5))"
   ]
  },
  {
   "cell_type": "markdown",
   "metadata": {},
   "source": [
    "# High order συναρτήσεις, map, filter, reduce"
   ]
  },
  {
   "cell_type": "markdown",
   "metadata": {},
   "source": [
    "## Η συνάρτηση `map`"
   ]
  },
  {
   "cell_type": "markdown",
   "metadata": {},
   "source": [
    "Η συνάρτηση ανώτερης τάξης `map` εφαρμόζει μια συνάρτηση στα στοιχεία μιας συλλογής `iterable` η οποία μπορεί να χρησιμοποιηθεί σε μια επανάληψη (βλ. παρακάτω)."
   ]
  },
  {
   "cell_type": "markdown",
   "metadata": {},
   "source": [
    "Στο επόμενο παράδειγμα η έκφραση lambda υψώνει στο τετράγωνο όλα τα στοιχεία της λίστας [1,2,3]."
   ]
  },
  {
   "cell_type": "code",
   "execution_count": 27,
   "metadata": {},
   "outputs": [
    {
     "data": {
      "text/plain": [
       "[1, 4, 9]"
      ]
     },
     "execution_count": 27,
     "metadata": {},
     "output_type": "execute_result"
    }
   ],
   "source": [
    "i = map(lambda z: z**2,[1,2,3])\n",
    "list(i)"
   ]
  },
  {
   "cell_type": "markdown",
   "metadata": {},
   "source": [
    "Με χρήση μιας έκφρασης λάμδα:"
   ]
  },
  {
   "cell_type": "code",
   "execution_count": 28,
   "metadata": {},
   "outputs": [
    {
     "data": {
      "text/plain": [
       "{-1, 0, 1}"
      ]
     },
     "execution_count": 28,
     "metadata": {},
     "output_type": "execute_result"
    }
   ],
   "source": [
    "i2 = map(lambda a: a - 1, {0,1,2})\n",
    "set(i2)"
   ]
  },
  {
   "cell_type": "markdown",
   "metadata": {},
   "source": [
    "Στο παραπάνω παράδειγμα, η ανώνυμη συνάρτηση εφαρμόζεται στα στοιχεία ενός συνόλου και από τη δομή iterable που προκύπτει επιστρέφεται ένα νέο σύνολο με τη συνάρτηση `set`."
   ]
  },
  {
   "cell_type": "markdown",
   "metadata": {},
   "source": [
    "#### Παράδειγμα Συνάρτηση αντιστροφής συμβολοσειρέας\n",
    "Θα ορίσουμε μία συνάρτηση με όνομα reverse η οποία αντισρέφει την συμβολοσειρά ( ή και λίστα) την οποία δέχεται. "
   ]
  },
  {
   "cell_type": "code",
   "execution_count": 29,
   "metadata": {},
   "outputs": [
    {
     "data": {
      "text/plain": [
       "'άκινονακ'"
      ]
     },
     "execution_count": 29,
     "metadata": {},
     "output_type": "execute_result"
    }
   ],
   "source": [
    "def reverse(s):\n",
    "    return s[::-1] ## Επιστρέφεται η αντίστροφη της συμβολοσειρέας s \n",
    "\n",
    "reverse(\"κανονικά\")"
   ]
  },
  {
   "cell_type": "markdown",
   "metadata": {},
   "source": [
    "Εφαρμόζουμε την παραπάνω συνάρτηση σε όλα τα στοιχεία μιας λίστας με συμβολοσειρές και παίρνουμε μια νέα λίστα με τη συνάρτηση `list`:"
   ]
  },
  {
   "cell_type": "code",
   "execution_count": 30,
   "metadata": {},
   "outputs": [
    {
     "data": {
      "text/plain": [
       "['ανέ', 'ημόκα', 'αμγιεδάραπ']"
      ]
     },
     "execution_count": 30,
     "metadata": {},
     "output_type": "execute_result"
    }
   ],
   "source": [
    "iterator = map(reverse,[\"ένα\", \"ακόμη\", \"παράδειγμα\"])\n",
    "list(iterator)"
   ]
  },
  {
   "cell_type": "markdown",
   "metadata": {},
   "source": [
    "Με τη `map` είναι δυνατόν να δημιουργήσουμε μια νέα λίστα από μια δεδομένη λίστα ως εξής:"
   ]
  },
  {
   "cell_type": "code",
   "execution_count": 31,
   "metadata": {},
   "outputs": [
    {
     "name": "stdout",
     "output_type": "stream",
     "text": [
      "[0, 1, 4, 9, 16, 25, 36, 49, 64, 81]\n"
     ]
    }
   ],
   "source": [
    "sq_list = list(map(lambda x: x**2, range(10)))\n",
    "print(sq_list)"
   ]
  },
  {
   "cell_type": "markdown",
   "metadata": {},
   "source": [
    "Η αντίστοιχη ενέργεια μπορεί να επιτευχθεί χωρίς την χρήση lambda αλλά με κλάσική συνάρτηση"
   ]
  },
  {
   "cell_type": "code",
   "execution_count": 32,
   "metadata": {},
   "outputs": [
    {
     "name": "stdout",
     "output_type": "stream",
     "text": [
      "[0, 1, 4, 9, 16, 25, 36, 49, 64, 81]\n"
     ]
    }
   ],
   "source": [
    "def sq(x):\n",
    "    return x**2\n",
    "sq_list_2 = list(map(sq, range(10)))\n",
    "print(sq_list_2)"
   ]
  },
  {
   "cell_type": "markdown",
   "metadata": {},
   "source": [
    "Χωρίς τη χρήση της `map` η παραπάνω λίστα μπορεί να κατασκευαστεί με χρήση list comprehension. "
   ]
  },
  {
   "cell_type": "code",
   "execution_count": 33,
   "metadata": {},
   "outputs": [
    {
     "name": "stdout",
     "output_type": "stream",
     "text": [
      "[0, 1, 4, 9, 16, 25, 36, 49, 64, 81]\n"
     ]
    }
   ],
   "source": [
    "sq_list_3 = [x**2 for x in range(10)]\n",
    "print(sq_list_3)"
   ]
  },
  {
   "cell_type": "markdown",
   "metadata": {},
   "source": [
    "Η `map` μπορεί να εφαρμοστεί σε περισσότερες από μία συλλογές. "
   ]
  },
  {
   "cell_type": "code",
   "execution_count": 34,
   "metadata": {},
   "outputs": [
    {
     "data": {
      "text/plain": [
       "[(1, 'x'), (2, 'y'), (3, 'z')]"
      ]
     },
     "execution_count": 34,
     "metadata": {},
     "output_type": "execute_result"
    }
   ],
   "source": [
    "i = map(lambda a,b: (a,b), [1,2,3],[\"x\",\"y\",\"z\"])\n",
    "list(i)"
   ]
  },
  {
   "cell_type": "markdown",
   "metadata": {},
   "source": [
    "Το ίδιο αποτέλεσμα μπορούμε να πάρουμε με την εντολή `zip`:"
   ]
  },
  {
   "cell_type": "code",
   "execution_count": 35,
   "metadata": {},
   "outputs": [
    {
     "data": {
      "text/plain": [
       "[(1, 'x'), (2, 'y'), (3, 'z')]"
      ]
     },
     "execution_count": 35,
     "metadata": {},
     "output_type": "execute_result"
    }
   ],
   "source": [
    "list(zip([1,2,3],[\"x\",\"y\",\"z\"]))"
   ]
  },
  {
   "cell_type": "markdown",
   "metadata": {},
   "source": [
    "Το παραπάνω είναι διαφορετικό από τη λίστα με όλους τους συνδυασμούς ζευγών των δύο λιστών, η οποία μπορεί να υπολογιστεί ως:"
   ]
  },
  {
   "cell_type": "code",
   "execution_count": 36,
   "metadata": {},
   "outputs": [
    {
     "data": {
      "text/plain": [
       "[(1, 'x'),\n",
       " (1, 'y'),\n",
       " (1, 'z'),\n",
       " (2, 'x'),\n",
       " (2, 'y'),\n",
       " (2, 'z'),\n",
       " (3, 'x'),\n",
       " (3, 'y'),\n",
       " (3, 'z')]"
      ]
     },
     "execution_count": 36,
     "metadata": {},
     "output_type": "execute_result"
    }
   ],
   "source": [
    "[(a,b) for a in [1,2,3] for b in [\"x\",\"y\",\"z\"]]"
   ]
  },
  {
   "cell_type": "markdown",
   "metadata": {},
   "source": [
    "Εναλλακτικά ως:"
   ]
  },
  {
   "cell_type": "code",
   "execution_count": 37,
   "metadata": {},
   "outputs": [
    {
     "name": "stdout",
     "output_type": "stream",
     "text": [
      "[(1, 'x'), (1, 'y'), (1, 'z'), (2, 'x'), (2, 'y'), (2, 'z'), (3, 'x'), (3, 'y'), (3, 'z')]\n"
     ]
    }
   ],
   "source": [
    "out = []\n",
    "for a in [1,2,3]:\n",
    "    for b in [\"x\",\"y\",\"z\"]:\n",
    "        out.append((a, b))\n",
    "print(out)"
   ]
  },
  {
   "cell_type": "markdown",
   "metadata": {},
   "source": [
    "## Η συνάρτηση `filter`"
   ]
  },
  {
   "cell_type": "markdown",
   "metadata": {},
   "source": [
    "Η εντολή`filter` εφαρμόζει ένα κατηγόρημα  πάνω σε μια συλλογή iterable και επιστρέφει μόνο τα στοιχεία της συλλογής που επαληθεύουν το κατηγόρημα. Ένα κατηγόρημα είναι μια συνάρτηση η οποία επιστρέφει μια λογική τιμή (`true` ή `false`)."
   ]
  },
  {
   "cell_type": "code",
   "execution_count": 38,
   "metadata": {},
   "outputs": [],
   "source": [
    "def is_even(n):\n",
    "    return n % 2 == 0"
   ]
  },
  {
   "cell_type": "code",
   "execution_count": 39,
   "metadata": {},
   "outputs": [
    {
     "data": {
      "text/plain": [
       "[12, 66, 102]"
      ]
     },
     "execution_count": 39,
     "metadata": {},
     "output_type": "execute_result"
    }
   ],
   "source": [
    "iterat_1  = filter(is_even,[12,33,45,66,102,109])\n",
    "list(iterat_1)"
   ]
  },
  {
   "cell_type": "markdown",
   "metadata": {},
   "source": [
    "Το παραπάνω μπορεί να επιτευχθεί με μία έκφρασε lambda"
   ]
  },
  {
   "cell_type": "code",
   "execution_count": 40,
   "metadata": {},
   "outputs": [
    {
     "data": {
      "text/plain": [
       "[12, 66, 102]"
      ]
     },
     "execution_count": 40,
     "metadata": {},
     "output_type": "execute_result"
    }
   ],
   "source": [
    "iterat_2  = filter(lambda n:n%2==0,[12,33,45,66,102,109])\n",
    "list(iterat_2)"
   ]
  },
  {
   "cell_type": "markdown",
   "metadata": {},
   "source": [
    "Το ίδιο αποτέλεσμα μπορούμε να πάρουμε με τη μορφή ενός list comprehension:"
   ]
  },
  {
   "cell_type": "code",
   "execution_count": 41,
   "metadata": {},
   "outputs": [
    {
     "data": {
      "text/plain": [
       "[12, 66, 102]"
      ]
     },
     "execution_count": 41,
     "metadata": {},
     "output_type": "execute_result"
    }
   ],
   "source": [
    "iterat_3 = [x for x in [12,33,45,66,102,109] if is_even(x)]\n",
    "list(iterat_3)"
   ]
  },
  {
   "cell_type": "markdown",
   "metadata": {},
   "source": [
    "#### Παράδειγμα\n",
    "Χρήση της filter για επιλογή μόνο των ονομάτων που ξεκινούν με φωνήεν"
   ]
  },
  {
   "cell_type": "code",
   "execution_count": 42,
   "metadata": {},
   "outputs": [
    {
     "data": {
      "text/plain": [
       "['Alan Turing', 'Ada Lovelace', 'Edsger Dijkstra']"
      ]
     },
     "execution_count": 42,
     "metadata": {},
     "output_type": "execute_result"
    }
   ],
   "source": [
    "names = [\"Alan Turing\",\"Grace Hopper\",\"John von Neumann\",\"Ada Lovelace\",\"Tim Berners-Lee\",\n",
    "    \"Donald Knuth\",\"Barbara Liskov\",\"Dennis Ritchie\",\"Linus Torvalds\",\"Edsger Dijkstra\"]\n",
    "\n",
    "list(filter(lambda name: name[0].lower() in 'aeiou', names))"
   ]
  },
  {
   "cell_type": "code",
   "execution_count": 43,
   "metadata": {},
   "outputs": [
    {
     "data": {
      "text/plain": [
       "['Alan Turing', 'Ada Lovelace', 'Edsger Dijkstra']"
      ]
     },
     "execution_count": 43,
     "metadata": {},
     "output_type": "execute_result"
    }
   ],
   "source": [
    "# Με χρήση συνάρτησης\n",
    "def fromVowel(name):\n",
    "    return name[0].lower() in 'aeiou'\n",
    "list(filter(fromVowel,names))"
   ]
  },
  {
   "cell_type": "markdown",
   "metadata": {},
   "source": [
    "#### Παράδειγμα\n",
    "Χρήση της filter για εύρεση κοινών στοιχείων."
   ]
  },
  {
   "cell_type": "code",
   "execution_count": 44,
   "metadata": {},
   "outputs": [
    {
     "name": "stdout",
     "output_type": "stream",
     "text": [
      "[3, 5, 7]\n"
     ]
    }
   ],
   "source": [
    "odd = [1,3,5,7,9]\n",
    "primes = [2,3,5,7]\n",
    "print (list(filter(lambda x: x in odd, primes)))"
   ]
  },
  {
   "cell_type": "markdown",
   "metadata": {},
   "source": [
    "## Η συνάρτηση `reduce`"
   ]
  },
  {
   "cell_type": "markdown",
   "metadata": {},
   "source": [
    "Η συνάρτηση `reduce` δημιουργεί μια μοναδική τιμή από μια συλλογή εφαρμόζοντας διαδοχικά μια συνάρτηση δύο παραμέτρων στα στοιχεία της συλλογής."
   ]
  },
  {
   "cell_type": "code",
   "execution_count": 45,
   "metadata": {},
   "outputs": [
    {
     "data": {
      "text/plain": [
       "25"
      ]
     },
     "execution_count": 45,
     "metadata": {},
     "output_type": "execute_result"
    }
   ],
   "source": [
    "from functools import reduce\n",
    "\n",
    "reduce(lambda x, y: x+y, [3,4,5,6,7])"
   ]
  },
  {
   "cell_type": "markdown",
   "metadata": {},
   "source": [
    "Η παραπάνω εντολή αθροίζει τα στοιχεία της λίστας."
   ]
  },
  {
   "cell_type": "markdown",
   "metadata": {},
   "source": [
    "Η ίδια λειτουργία μπορεί να υλοποιηθεί με συνάρτηση αντί για lambda έκφραση."
   ]
  },
  {
   "cell_type": "code",
   "execution_count": 46,
   "metadata": {},
   "outputs": [
    {
     "data": {
      "text/plain": [
       "'AlanJohnAdaTim'"
      ]
     },
     "execution_count": 46,
     "metadata": {},
     "output_type": "execute_result"
    }
   ],
   "source": [
    "def f(x,y):\n",
    "    return x+y\n",
    "reduce(f, [\"Alan\",\"John\",\"Ada\",\"Tim\"])"
   ]
  },
  {
   "cell_type": "markdown",
   "metadata": {},
   "source": [
    "#### Υπολογισμός παραγοντικού με τη `reduce`"
   ]
  },
  {
   "cell_type": "markdown",
   "metadata": {},
   "source": [
    "Μπορούμε να υπολογίσουμε την τιμή $n!$ με χρήση της `reduce` ως εξής:"
   ]
  },
  {
   "cell_type": "code",
   "execution_count": 47,
   "metadata": {},
   "outputs": [
    {
     "name": "stdout",
     "output_type": "stream",
     "text": [
      "479001600\n"
     ]
    }
   ],
   "source": [
    "def my_factorial(n):\n",
    "    return reduce(lambda a,b: a * b, range(1, n + 1))\n",
    "\n",
    "print(my_factorial(12))"
   ]
  },
  {
   "cell_type": "markdown",
   "metadata": {},
   "source": [
    "### Συνδυασμός `map` και `reduce`"
   ]
  },
  {
   "cell_type": "markdown",
   "metadata": {},
   "source": [
    "Μια ισχυρή τεχνική στον συναρτησιακό προγραμματισμό είναι ο συνδυασμός των `map` και `reduce`. "
   ]
  },
  {
   "cell_type": "markdown",
   "metadata": {},
   "source": [
    "Παράδειγμα: Ο υπολογισμός της έκφρασης $$\\sum_{i=0}^{n}{f(i)}$$ μπορεί να γίνει με τη συνάρτηση:"
   ]
  },
  {
   "cell_type": "code",
   "execution_count": 48,
   "metadata": {},
   "outputs": [
    {
     "name": "stdout",
     "output_type": "stream",
     "text": [
      "14\n"
     ]
    }
   ],
   "source": [
    "def sum_fun2(fun, n):\n",
    "    return reduce(lambda a,b: a+b, map(fun,range(n+1)))\n",
    "\n",
    "print(sum_fun2(lambda x: x*x, 3))"
   ]
  },
  {
   "cell_type": "markdown",
   "metadata": {},
   "source": [
    "Για να υπολογίσουμε το επόμενο άθροισμα:\n",
    "$$\\sum_{i=0}^n {i^2}$$"
   ]
  },
  {
   "cell_type": "code",
   "execution_count": 49,
   "metadata": {},
   "outputs": [
    {
     "data": {
      "text/plain": [
       "385"
      ]
     },
     "execution_count": 49,
     "metadata": {},
     "output_type": "execute_result"
    }
   ],
   "source": [
    "reduce(lambda x, y: x + y, map(lambda x: x ** 2, range(1,11)))"
   ]
  },
  {
   "cell_type": "markdown",
   "metadata": {},
   "source": [
    "### H `reduce` με αρχικοποίηση"
   ]
  },
  {
   "cell_type": "markdown",
   "metadata": {},
   "source": [
    "Είναι δυνατόν να καλέσουμε τη `reduce` με μια αρχική τιμή ως εξής:"
   ]
  },
  {
   "cell_type": "code",
   "execution_count": 50,
   "metadata": {},
   "outputs": [
    {
     "data": {
      "text/plain": [
       "'μηδέν, ένα, δύο, τρία'"
      ]
     },
     "execution_count": 50,
     "metadata": {},
     "output_type": "execute_result"
    }
   ],
   "source": [
    "def conc(a,b):\n",
    "    return a +\", \"+ b # Συνένωση συμβολοσειρών.\n",
    "\n",
    "reduce(conc,[\"ένα\",\"δύο\",\"τρία\"],\"μηδέν\")"
   ]
  },
  {
   "cell_type": "code",
   "execution_count": 51,
   "metadata": {},
   "outputs": [
    {
     "data": {
      "text/plain": [
       "20"
      ]
     },
     "execution_count": 51,
     "metadata": {},
     "output_type": "execute_result"
    }
   ],
   "source": [
    "# Στο επόμενο παράδειγμα υπολογίζεται το άθροισμα 10+1+2+3+4.\n",
    "reduce(lambda x, y: x+y, [1,2,3,4],10)"
   ]
  },
  {
   "cell_type": "markdown",
   "metadata": {},
   "source": [
    "### Παράδειγμα \n",
    "Συνδυασμός map, reduce, filter για εύρεση πρώτων αριθμών από το 1 έως το 100"
   ]
  },
  {
   "cell_type": "code",
   "execution_count": 85,
   "metadata": {},
   "outputs": [
    {
     "data": {
      "text/plain": [
       "'2 3 5 7 11 13 17 19 23 29 31 37 41 43 47 53 59 61 67 71 73 79 83 89 97'"
      ]
     },
     "execution_count": 85,
     "metadata": {},
     "output_type": "execute_result"
    }
   ],
   "source": [
    "import math\n",
    "' '.join(map(str, # Μετατροπή ακεραίων σε str και συνένωσή τους\n",
    "             filter(lambda x:x!=0,map(  # Φιλτράρονται μόνο τα διάφορα από το 0\n",
    "                lambda y:y*reduce(\n",
    "                    lambda x,y:x*y!=0,map(\n",
    "                    lambda x,y=y:y%x,   # Υπόλοιπο όλων των αριθμών y από το 2 έως το 100 με τους αριθμούς μέχρι sqrt(y)+1\n",
    "                            range(2,int(math.sqrt(y)+1))),1),\n",
    "                            range(2,100)))))"
   ]
  }
 ],
 "metadata": {
  "kernelspec": {
   "display_name": "Python 3 (ipykernel)",
   "language": "python",
   "name": "python3"
  },
  "language_info": {
   "codemirror_mode": {
    "name": "ipython",
    "version": 3
   },
   "file_extension": ".py",
   "mimetype": "text/x-python",
   "name": "python",
   "nbconvert_exporter": "python",
   "pygments_lexer": "ipython3",
   "version": "3.11.4"
  }
 },
 "nbformat": 4,
 "nbformat_minor": 2
}
