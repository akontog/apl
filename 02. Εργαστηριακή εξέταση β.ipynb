{
 "cells": [
  {
   "cell_type": "markdown",
   "id": "d4007b76",
   "metadata": {},
   "source": [
    "<div style=\"padding:20px 0px 20px 0px; text-align:center; font-weight: bold; font-size:170%; background-color: #2d8077; color:#f0b439;\">\n",
    "02.<br>\n",
    "<span style=\"color:#ffffcc;\">Εργαστηριακή Εξέταση</span>\n",
    "</div>\n",
    "\n",
    "---"
   ]
  },
  {
   "cell_type": "markdown",
   "id": "7aae4914",
   "metadata": {},
   "source": [
    "# Isogram"
   ]
  },
  {
   "cell_type": "markdown",
   "id": "a7d4a78a",
   "metadata": {},
   "source": [
    "Ένα isogram είναι μια λέξη ή πρόταση όπου κανένα γράμμα δεν επαναλαμβάνεται. Οι χαρακτήρες που δεν είναι γράμματα (π.χ. κενά, σημεία στίξης) αγνοούνται. Η σύγκριση γίνεται χωρίς διάκριση πεζών-κεφαλαίων.\n",
    "\n",
    "1. Να γραφεί συνάρτηση isIsogram(sentence, alphabet) η οποία δέχεται μία πρόταση και ένα αλφάβητο, και επιστρέφει True αν η πρόταση είναι isogram με βάση το δοσμένο αλφάβητο (δηλαδή περιέχει το πολύ μία φορά κάθε γράμμα του αλφαβήτου).\n",
    "```\n",
    ">>> isIsogram(\"The quick brown fox\", \"abcdefghijklmnopqrstuvwxyz\")\n",
    "False\n",
    "\n",
    ">>> isIsogram(\"Dermatoglyphics\", \"abcdefghijklmnopqrstuvwxyz\")\n",
    "True\n",
    "```"
   ]
  },
  {
   "cell_type": "code",
   "execution_count": null,
   "id": "933af5ba",
   "metadata": {},
   "outputs": [],
   "source": []
  },
  {
   "cell_type": "markdown",
   "id": "abb60e46",
   "metadata": {},
   "source": [
    "# Αριθμοί Armstrong"
   ]
  },
  {
   "cell_type": "markdown",
   "id": "bcdc9df0",
   "metadata": {},
   "source": [
    "Ένας Armstrong ή ναρκισσιστικός αριθμός είναι ένας φυσικός αριθμός που ισούται με το άθροισμα των ψηφίων του, καθένα υψωμένο στη δύναμη του πλήθους των ψηφίων του. Για παράδειγμα: $153=1^3+5^3+3^3$\n",
    "\n",
    "1. Να γραφεί συνάρτηση isArmstrong(n) η οποία δέχεται έναν φυσικό αριθμό n και επιστρέφει True αν ο αριθμός είναι Armstrong.\n",
    "\n",
    "Παράδειγμα κλήσης:\n",
    "```\n",
    ">>> isArmstrong(153)\n",
    "True\n",
    "\n",
    ">>> isArmstrong(100)\n",
    "False\n",
    "```\n",
    "2. Με τη βοήθεια της συνάρτησης και list comprehension να δημιουργηθεί λίστα με όλους τους αριθμούς Armstrong από 0 μέχρι 10.000.\n",
    "\n",
    "Παράδειγμα εκτέλεσης\n",
    "```\n",
    "[0, 1, 2, 3, 4, 5, 6, 7, 8, 9, 153, 370, 371, 407, 1634, 8208, 9474]\n",
    "```"
   ]
  },
  {
   "cell_type": "code",
   "execution_count": null,
   "id": "b22dc5d8",
   "metadata": {},
   "outputs": [],
   "source": []
  },
  {
   "cell_type": "markdown",
   "id": "1fa970c2",
   "metadata": {},
   "source": [
    "# Συσκευές"
   ]
  },
  {
   "cell_type": "markdown",
   "id": "54dcf2da",
   "metadata": {},
   "source": [
    "Θα πρέπει να δημιουργήσετε μια εφαρμογή που διαχειρίζεται διάφορους τύπους συσκευών, κλάση Device, όπως smartphones, κλάση Smartphone, laptops, κλάση Laptop, και servers, κλάση Server. Η ιεραρχία των κλάσεων που θα πρέπει να υλοποιήσετε φαίνεται και στο επόμενο σχήμα.\n",
    "```\n",
    "       Vehicle\n",
    "          │\n",
    "  ┌───────┴────────┐\n",
    "  │                │\n",
    " Car           Motorcycle\n",
    "  │\n",
    " Truck\n",
    "```\n",
    "Device: Γονική κλάση\n",
    "\n",
    "    -`__init__`: Κατασκευαστής, προσθέτει 1 στη device_count και σύμφωνα με αυτή δίνει αυτόματα id στη συσκευή.\n",
    "\n",
    "    - device_count: Στατική μεταβλητή που μετρά το σύνολο των συσκευών.\n",
    "\n",
    "    - id: Αυτόματο μοναδικό ID.\n",
    "\n",
    "    - getPowerConsumption(): Αφηρημένη μέθοδος που επιστρέφει την κατανάλωση ισχύος (σε Watt).\n",
    "\n",
    "Smartphone:\n",
    "\n",
    "    -`__init__`: Καλεί τον κατασκευαστή της γονικής κλάσης Device. Δέχεται αριθμό εφαρμογών.\n",
    "\n",
    "    - apps: Αριθμός εγκατεστημένων εφαρμογών.\n",
    "\n",
    "    - `__str__`: Επιστρέφει str με τα χαρακτηριστικά του smartphone, π.χ.: Smartphone ID: 1, Apps: 20, Power Consumption: 7.0\n",
    "\n",
    "    - getPowerConsumption(): Επιστρέφει την τιμή 5 προσθέτοντας τον αριθμό των εφαρμογών επί 0.1.\n",
    "\n",
    "Laptop:\n",
    "\n",
    "    -`__init__`: Καλεί τον κατασκευαστή της γονικής κλάσης Smartphone. Δέχεται αριθμό εφαρμογών και μέγεθος μνήμης RAM σε GB.\n",
    "\n",
    "    - ram: Ποσότητα μνήμης RAM σε GB.\n",
    "\n",
    "    - `__str__`: Επιστρέφει str με τα χαρακτηριστικά του laptop, π.χ.: Laptop ID: 2, Apps: 10, RAM: 16GB, Power Consumption: 23.2\n",
    "\n",
    "    - getPowerConsumption(): Επιστρέφει την τιμή 20 προσθέτοντας το μέγεθος RAM επί 0.2.\n",
    "\n",
    "Server:\n",
    "    \n",
    "    - `__init__`: Καλεί τον κατασκευαστή της γονικής κλάσης Device. Δέχεται αριθμό πυρήνων (CPU cores).\n",
    "\n",
    "    - cores: Αριθμός πυρήνων του επεξεργαστή.\n",
    "\n",
    "    - `__str__`: Επιστρέφει str με τα χαρακτηριστικά του server, π.χ.: Server ID: 3, Cores: 4, Power Consumption: 90\n",
    "\n",
    "    - getPowerConsumption(): Επιστρέφει την τιμή 50 προσθέτοντας τον αριθμό των πυρήνων επί 10.\n",
    "\n",
    "Θα πρέπει να δημιουργήσετε τρία αντικείμενα, ένα από κάθε είδος, και να τα εισάγετε σε μία λίστα. Στη συνέχεια να προσπελάσετε τη λίστα εμφανίζοντας τα χαρακτηριστικά τους:\n",
    "\n",
    "Παράδειγμα εκτέλεσης:\n",
    "```\n",
    "Smartphone ID: 1, Apps: 20, Power Consumption: 7.0\n",
    "Laptop ID: 2, Apps: 10, RAM: 16GB, Power Consumption: 23.2\n",
    "Server ID: 3, Cores: 4, Power Consumption: 90\n",
    "```"
   ]
  },
  {
   "cell_type": "code",
   "execution_count": null,
   "id": "24ee98bd",
   "metadata": {},
   "outputs": [],
   "source": []
  },
  {
   "cell_type": "code",
   "execution_count": 0,
   "id": "2c2deb93",
   "metadata": {},
   "outputs": [],
   "source": []
  }
 ],
 "metadata": {
  "kernelspec": {
   "display_name": "Python 3 (ipykernel)",
   "language": "python",
   "name": "python3"
  },
  "language_info": {
   "codemirror_mode": {
    "name": "ipython",
    "version": 3
   },
   "file_extension": ".py",
   "mimetype": "text/x-python",
   "name": "python",
   "nbconvert_exporter": "python",
   "pygments_lexer": "ipython3",
   "version": "3.11.4"
  }
 },
 "nbformat": 4,
 "nbformat_minor": 5
}
