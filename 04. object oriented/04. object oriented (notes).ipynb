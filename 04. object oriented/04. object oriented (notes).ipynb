{
 "cells": [
  {
   "cell_type": "markdown",
   "id": "f1bb8a3c",
   "metadata": {},
   "source": [
    "<div style=\"padding:20px 0px 20px 0px; text-align:center; font-weight: bold; font-size:170%; background-color: #2d8077; color:#f0b439;\">\n",
    "04.<br>\n",
    "<span style=\"color:#ffffcc;\">Αντικειμενοστρεφής προγραμματισμός</span>\n",
    "</div>\n",
    "\n",
    "---"
   ]
  },
  {
   "cell_type": "markdown",
   "id": "df5a5799",
   "metadata": {
    "id": "df5a5799",
    "slideshow": {
     "slide_type": "slide"
    },
    "tags": []
   },
   "source": [
    "# Η Λίστα ως αντικείμενο"
   ]
  },
  {
   "cell_type": "markdown",
   "id": "f529d470",
   "metadata": {
    "id": "f529d470"
   },
   "source": [
    "Έστω η επόμενη λίστα"
   ]
  },
  {
   "cell_type": "code",
   "execution_count": null,
   "id": "d41c2098",
   "metadata": {
    "id": "d41c2098"
   },
   "outputs": [],
   "source": [
    "L = ['a','b','c']"
   ]
  },
  {
   "cell_type": "markdown",
   "id": "abd9f16c",
   "metadata": {
    "id": "abd9f16c"
   },
   "source": [
    "Όπως έχουμε δει και σε απλούς τύπους, η `type` επιστρέφει τον τύπο του αντικειμένου της λίστας."
   ]
  },
  {
   "cell_type": "code",
   "execution_count": null,
   "id": "31ad1a66",
   "metadata": {
    "colab": {
     "base_uri": "https://localhost:8080/"
    },
    "id": "31ad1a66",
    "outputId": "c7eaae0d-a4dd-439c-cde7-c2e6a7d4e9ec"
   },
   "outputs": [],
   "source": [
    "print(type(L))"
   ]
  },
  {
   "cell_type": "markdown",
   "id": "5e32eb0e-fa8f-4e7a-8e1c-ccecca54da6f",
   "metadata": {
    "id": "aef54e70"
   },
   "source": [
    "Κάθε δεδομένο ανάλογα με τον τύπο του είτε αυτός είναι απλός `int`, `float`, `complex`, `boοlean`, `str` είτε σύνθετος όπως οι λίστες, `list` έχουν ιδιαίτερα χαρακτηριστικά και ιδιότητες, **attributes**, καθώς και αντίστοιχες διαδικασίες χειρισμού τους δηλαδή μεθόδους, **methods**."
   ]
  },
  {
   "cell_type": "markdown",
   "id": "28c39245-d6b7-4a20-8d65-bf4735ee863e",
   "metadata": {
    "id": "aef54e70",
    "slideshow": {
     "slide_type": "subslide"
    },
    "tags": []
   },
   "source": [
    "Ο τύπος της παραπάνω λίστας είναι `class 'list'`. Μια κλάση, `class`, αποτελεί έναν μηχανισμό για τον ορισμό του τύπου για μια κατηγορία αντικειμένων. Κάθε κλάση περιλαμβάνει λειτουργίες και ιδιότητες. Για παράδειγμα, μία λειτουργία του αντικειμένου L που είναι τύπου `list` αποτελεί η συνάρτηση `append()`. Οι συναρτήσεις που αποτελούν λειτουργία κάποιας κλάσης αποκαλούνται μέθοδοι."
   ]
  },
  {
   "cell_type": "code",
   "execution_count": null,
   "id": "9d566b7d",
   "metadata": {
    "id": "9d566b7d"
   },
   "outputs": [],
   "source": [
    "L.append('d')"
   ]
  },
  {
   "cell_type": "markdown",
   "id": "d0a6bcbd",
   "metadata": {
    "id": "d0a6bcbd"
   },
   "source": [
    "Το σχετικό είδος προγραμματισμού ονομάζεται **αντικειμενοστρεφής** προγραμματισμός, **object oriented** programming."
   ]
  },
  {
   "cell_type": "markdown",
   "id": "d1d563c6",
   "metadata": {
    "id": "d1d563c6",
    "slideshow": {
     "slide_type": "slide"
    },
    "tags": []
   },
   "source": [
    "# Κλάσεις και Αντικείμενα"
   ]
  },
  {
   "cell_type": "markdown",
   "id": "e86bdba9",
   "metadata": {
    "id": "e86bdba9"
   },
   "source": [
    "Πέρα από τις κλάσεις που έχουν οριστεί από του δημιουργούς της Python, έχουμε την δυνατότητα να ορίσουμε τις δικές μας κλάσεις με δικές μας μεθόδους και ιδιότητες. Στην συνέχεια ορίζεται η κλάση του σημείου στο επίπεδο."
   ]
  },
  {
   "cell_type": "code",
   "execution_count": null,
   "id": "0835abd4",
   "metadata": {
    "id": "0835abd4"
   },
   "outputs": [],
   "source": [
    "class Point:\n",
    "    pass"
   ]
  },
  {
   "cell_type": "markdown",
   "id": "e207359d",
   "metadata": {
    "id": "e207359d"
   },
   "source": [
    "Όπως έχουμε δει, η εντολή `pass` δεν έχει κάποιο αποτέλεσμα. Εφόσον, όμως, η κλάση _Point_ είναι σύνθετη εντολή απαιτείται να υπάρχει κάτι στο σώμα της."
   ]
  },
  {
   "cell_type": "markdown",
   "id": "3ef52fa0",
   "metadata": {},
   "source": [
    "Μπορούμε να δημιουργήσουμε νέα αντικείμενα, **objects**, ή στιγμιότυπα, **instances**, όπως εναλλακτικά ονομάζονται, του τύπου, κλάσης, _Point_ με τον επόμενο τρόπο."
   ]
  },
  {
   "cell_type": "code",
   "execution_count": null,
   "id": "dae9060e",
   "metadata": {},
   "outputs": [],
   "source": [
    "p1 = Point()\n",
    "p2 = Point()"
   ]
  },
  {
   "cell_type": "markdown",
   "id": "56ddcd7d",
   "metadata": {},
   "source": [
    "Αν προσπαθήσουμε να εμφανίσουμε τα αντικείμενα αυτά, θα δούμε το όνομα της κλάσης της οποίας είναι στιγμιότυπα καθώς και το σημείο της μνήμης μας στο οποίο είναι αποθηκευμένα. Αργότερα θα δούμε με ποιόν τρόπο μπορούμε να αλλάξουμε τα στοιχεία εμφάνισης."
   ]
  },
  {
   "cell_type": "code",
   "execution_count": null,
   "id": "7b375828",
   "metadata": {},
   "outputs": [],
   "source": [
    "p1,p2"
   ]
  },
  {
   "cell_type": "markdown",
   "id": "e30ff264",
   "metadata": {},
   "source": [
    "## Κατασκευαστής"
   ]
  },
  {
   "cell_type": "markdown",
   "id": "0e041711",
   "metadata": {
    "id": "07f85c81",
    "slideshow": {
     "slide_type": "slide"
    },
    "tags": []
   },
   "source": [
    "Η συνάρτηση `__init__` αποτελεί μία ειδική μέθοδο της κλάσης που ονομάζεται κατασκευαστής αντικειμένων. Ο ρόλος ενός κατασκευαστή είναι να δημιουργήσει και να επιστρέψει ένα αντικείμενο μιας δεδομένης κλάσης, δίνοντας, συνήθως, και αρχικές τιμές στις μεταβλητές του αντικειμένου. Η απόδοσή τους στα πεδία _x_, _y_ γίνεται κατά την αρχικοποίηση του αντικειμένου.\n",
    "Η λέξη `self` αναφέρεται στο αντικείμενο στο οποίο αναφέρεται ο κατασκευαστής και πάντα αποτελεί πρώτη παράμετρο του\n",
    "κατασκευαστή αλλά και των περισσότερων μεθόδων μίας κλάσης. Έτσι, η εντολή `self.x = xx` δίνει στη μεταβλητή _x_ του αντικειμένου την τιμή _xx_."
   ]
  },
  {
   "cell_type": "markdown",
   "id": "07f85c81",
   "metadata": {
    "id": "07f85c81",
    "slideshow": {
     "slide_type": "slide"
    },
    "tags": []
   },
   "source": [
    "Ο επόμενος κώδικας ορίζει τον νέο τύπο αντικειμένων, _Point_, να περιέχει δύο ιδιότητες, **attributes**, _x_, _y_ που αντιστοιχούν στις συντεταγμένες ενός σημείου στο επίπεδο."
   ]
  },
  {
   "cell_type": "code",
   "execution_count": null,
   "id": "b30ec9d4",
   "metadata": {
    "id": "b30ec9d4"
   },
   "outputs": [],
   "source": [
    "class Point:\n",
    "    def __init__(self, xx, yy):\n",
    "        self.x = xx\n",
    "        self.y = yy"
   ]
  },
  {
   "cell_type": "markdown",
   "id": "2a88b196",
   "metadata": {
    "id": "2a88b196",
    "slideshow": {
     "slide_type": ""
    },
    "tags": []
   },
   "source": [
    "Πλέον, για την δημιουργία αντικειμένων απαιτούνται δύο τιμές, όσες και οι παράμετροι της `__init__` μετά την _self_."
   ]
  },
  {
   "cell_type": "code",
   "execution_count": null,
   "id": "b32b4522",
   "metadata": {
    "id": "b32b4522"
   },
   "outputs": [],
   "source": [
    "p1 = Point(10,5)\n",
    "origin = Point(0,0)"
   ]
  },
  {
   "cell_type": "markdown",
   "id": "c02a7f87",
   "metadata": {
    "id": "c02a7f87",
    "slideshow": {
     "slide_type": "subslide"
    },
    "tags": []
   },
   "source": [
    "Τα αντικείμενα στα οποία αναφέρονται οι μεταβλητές _p1_, _origin_ είναι του τύπου της κλάσης _Point_. Το αντικείμενο _p1_ έχει συντεταγμένες _x=10_ και _y=5_ σύμφωνα με την αρχικοποίηση των πεδίων στον κώδικα της κλάσης _Point_. Αντίστοιχα το αντικείμενο _origin_ έχει συντεταγμένες (0,0).\n",
    "\n",
    "Ο τελεστής `.` δίνει πρόσβαση στις ιδιότητες, χαρακτηριστικά, και τις μεθόδους, λειτουργίες, ενός αντικειμένου."
   ]
  },
  {
   "cell_type": "code",
   "execution_count": null,
   "id": "4e6eb071",
   "metadata": {
    "colab": {
     "base_uri": "https://localhost:8080/"
    },
    "id": "4e6eb071",
    "outputId": "df4e3df4-a28d-48f4-c763-16b4759e5404"
   },
   "outputs": [],
   "source": [
    "p1.x,p1.y"
   ]
  },
  {
   "cell_type": "markdown",
   "id": "93fd5102",
   "metadata": {},
   "source": [
    "## Ιδιότητες"
   ]
  },
  {
   "cell_type": "markdown",
   "id": "aca96992",
   "metadata": {
    "id": "aca96992"
   },
   "source": [
    "Οι μεταβλητές _x_, _y_ είναι μεταβλητές του αντικειμένου της κλάσης _Point_ και ονομάζονται ιδιότητες, **attributes**.\n",
    "Αν θέλουμε να αλλάξουμε τις τιμές των _x_, _y_:"
   ]
  },
  {
   "cell_type": "code",
   "execution_count": null,
   "id": "79c2dc41",
   "metadata": {
    "colab": {
     "base_uri": "https://localhost:8080/"
    },
    "id": "79c2dc41",
    "outputId": "f342ec40-5da0-42e4-cb68-d06d12ed88ce"
   },
   "outputs": [],
   "source": [
    "p1.x = 5.5\n",
    "p1.y = 4.7\n",
    "p1.x,p1.y"
   ]
  },
  {
   "cell_type": "markdown",
   "id": "1af3ca42",
   "metadata": {
    "id": "1af3ca42",
    "slideshow": {
     "slide_type": "slide"
    },
    "tags": []
   },
   "source": [
    "## Μέθοδοι"
   ]
  },
  {
   "cell_type": "markdown",
   "id": "2f2f251b",
   "metadata": {},
   "source": [
    "Ορίζουμε μεθόδους με τον ίδιο τρόπο που ορίζουμε συναρτήσεις, απλά στο σώμα μίας κλάσης. Στο παράδειγμά μας ορίζουμε την _distance_from_origin_ για υπολογισμό απόστασης από την αρχή των αξόνων και _display_ για την εμφάνιση των συντεταγμένων του σημείου."
   ]
  },
  {
   "cell_type": "code",
   "execution_count": null,
   "id": "be9a71f9",
   "metadata": {
    "id": "be9a71f9",
    "slideshow": {
     "slide_type": ""
    },
    "tags": []
   },
   "outputs": [],
   "source": [
    "class Point:\n",
    "    # Κατασκευαστής\n",
    "    def __init__(self, xx, yy):\n",
    "        self.x = xx\n",
    "        self.y = yy\n",
    "        \n",
    "    # Απόσταση από την αρχή των αξόνων\n",
    "    def distance_from_origin(self):\n",
    "        xx = self.x\n",
    "        yy = self.y\n",
    "        return (xx * xx + yy * yy) ** 0.5\n",
    "        \n",
    "    # Εμφάνιση σημείου\n",
    "    def display(self):\n",
    "        print('('+str(self.x)+','+str(self.y)+')')"
   ]
  },
  {
   "cell_type": "markdown",
   "id": "23337a4f",
   "metadata": {
    "id": "23337a4f",
    "slideshow": {
     "slide_type": "notes"
    },
    "tags": []
   },
   "source": [
    "Η μέθοδος _distance_from_origin_ επιστρέφει την απόσταση ενός αντικειμένου από την αρχή των αξόνων. Το επόμενο πρόγραμμα, στο οποίο καλείται η μέθοδος από το αντικείμενο _pnt_, θα δώσει στην έξοδο την τιμή 5.0. Η τιμή που επιστρέφει η _distance_from_origin_ εξαρτάται από το αντικείμενο στο οποίο αυτή εφαρμόζεται. Με την σειρά της η _display_ εμφανίζει το σημείο στην μορφή (x,y). Η παράμετρος _self_ είναι μια αναφορά στο ίδιο το αντικείμενο από το οποίο καλείται."
   ]
  },
  {
   "cell_type": "code",
   "execution_count": null,
   "id": "68951908",
   "metadata": {
    "colab": {
     "base_uri": "https://localhost:8080/"
    },
    "id": "68951908",
    "outputId": "031b5fb4-37a3-499a-ae49-747d55820b90",
    "slideshow": {
     "slide_type": "subslide"
    },
    "tags": []
   },
   "outputs": [],
   "source": [
    "pnt = Point(3.0,4.0)\n",
    "pnt.display()\n",
    "dist = pnt.distance_from_origin()\n",
    "dist"
   ]
  },
  {
   "cell_type": "markdown",
   "id": "ce2914cc",
   "metadata": {
    "id": "ce2914cc",
    "slideshow": {
     "slide_type": "subslide"
    },
    "tags": []
   },
   "source": [
    "Στην επόμενη παραλλαγή η μέθοδος _distance_ δέχεται ως παράμετρο ένα αντικείμενο της κλάσης _Point_ και επιστρέφει την απόσταση από αυτό."
   ]
  },
  {
   "cell_type": "code",
   "execution_count": null,
   "id": "d40dfd1b",
   "metadata": {
    "id": "d40dfd1b",
    "slideshow": {
     "slide_type": ""
    },
    "tags": []
   },
   "outputs": [],
   "source": [
    "class Point:\n",
    "    # Κατασκευαστής\n",
    "    def __init__(self, x,y):\n",
    "        self.x = x\n",
    "        self.y = y\n",
    "        \n",
    "    # Εμφάνιση σημείου\n",
    "    def display(self):\n",
    "        print(f'({self.x},{self.y})')\n",
    "        \n",
    "    # Απόσταση από την αρχή των αξόνων\n",
    "    def distance_from_origin(self):\n",
    "        xx = self.x\n",
    "        yy = self.y\n",
    "        return (xx * xx + yy * yy) ** 0.5\n",
    "        \n",
    "    # Μέθοδος με παράμετρο αντικείμενο\n",
    "    def distance(self, p):\n",
    "        xx = self.x - p.x\n",
    "        yy = self.y - p.y\n",
    "        return (xx * xx + yy * yy) ** 0.5"
   ]
  },
  {
   "cell_type": "code",
   "execution_count": null,
   "id": "5df235ba",
   "metadata": {
    "colab": {
     "base_uri": "https://localhost:8080/"
    },
    "id": "5df235ba",
    "outputId": "d8a29bc4-a280-4e12-99fb-b5ff61c623a3",
    "slideshow": {
     "slide_type": "subslide"
    },
    "tags": []
   },
   "outputs": [],
   "source": [
    "p = Point(2,2)\n",
    "q = Point(5,7)\n",
    "dist = p.distance(q)\n",
    "print(dist)"
   ]
  },
  {
   "cell_type": "markdown",
   "id": "So-3sxtggZdR",
   "metadata": {
    "id": "So-3sxtggZdR",
    "slideshow": {
     "slide_type": "slide"
    },
    "tags": []
   },
   "source": [
    "Δύο μεταβλητές είναι δυνατόν να αναφέρονται στο ίδιο αντικείμενο και με τον τελεστή `is` μπορούμε να ελέγξουμε αν η κοινή αναφορά ισχύει. Στο επόμενο παράδειγμα οι _p1_ και _p2_ δείχνουν στο ίδιο σημείο. Η _p3_ όμως παρόλο που το σημείο έχει τις ίδιες συντεταγμένες είναι ένα διαφορετικό αντικείμενο."
   ]
  },
  {
   "cell_type": "code",
   "execution_count": null,
   "id": "20e84984",
   "metadata": {
    "colab": {
     "base_uri": "https://localhost:8080/"
    },
    "id": "20e84984",
    "outputId": "7655f5c9-b2d8-48b6-fc55-02567d0dc4c7",
    "slideshow": {
     "slide_type": ""
    },
    "tags": []
   },
   "outputs": [],
   "source": [
    "p1 = Point(12.5,15.7)\n",
    "p2 = p1\n",
    "p3 = Point(12.5,15.7)\n",
    "print('p1 is p2 =',p1 is p2)\n",
    "print('p1 is p3 =',p1 is p3)"
   ]
  },
  {
   "cell_type": "markdown",
   "id": "c1b60784",
   "metadata": {},
   "source": [
    "## Ιδιότητες κλάσης"
   ]
  },
  {
   "cell_type": "markdown",
   "id": "HAyQO5PJhSaI",
   "metadata": {
    "id": "HAyQO5PJhSaI",
    "slideshow": {
     "slide_type": "notes"
    },
    "tags": []
   },
   "source": [
    "Μπορούν να οριστούν μεταβλητές σε μια κλάση οι οποίες να είναι δεδομένα της κλάσης και όχι του κάθε αντικειμένου της κλάσης. Οι μεταβλητές κλάσης μοιράζονται από όλα τα αντικείμενα μίας κλάσης αντίθετα με τις μεταβλητές αντικειμένων που ανήκουν ξεχωριστά σε κάθε αντικείμενο."
   ]
  },
  {
   "cell_type": "markdown",
   "id": "149bcae3",
   "metadata": {},
   "source": [
    "**Παράδειγμα**\n",
    "\n",
    "Θα οριστεί μία ιδιότητα κλάσης για την _Point_ η οποία θα κρατά το συνολικό πλήθος των σημείων που δημιουργούνται σε ένα πρόγραμμα."
   ]
  },
  {
   "cell_type": "code",
   "execution_count": null,
   "id": "88653755",
   "metadata": {
    "id": "88653755",
    "slideshow": {
     "slide_type": "subslide"
    },
    "tags": []
   },
   "outputs": [],
   "source": [
    "class Point:\n",
    "\n",
    "  num_of_points = 0 # Ιδιότητα κλάσης\n",
    "\n",
    "  def __init__(self, x,y):\n",
    "    self.x = x\n",
    "    self.y = y\n",
    "    Point.num_of_points += 1\n",
    "\n",
    "  def display(self):\n",
    "      print(f'({self.x},{self.y})')\n",
    "\n",
    "  def distance(self, p):\n",
    "      xx = self.x - p.x\n",
    "      yy = self.y - p.y\n",
    "      return (xx * xx + yy * yy) ** .5"
   ]
  },
  {
   "cell_type": "markdown",
   "id": "4b7b4b94",
   "metadata": {},
   "source": [
    "Έχουμε πρόσβαση στην ιδιότητα κλάσης χωρίς να είναι απαραίτητο να έχουμε δημιουργήσει αντικείμενο. Μπορούμε να προσπελάσουμε την ιδιότητα απευθείας με το όνομα της κλάσης. Δεν έχει δημιουργηθεί ακόμη κάποιο αντικείμενο."
   ]
  },
  {
   "cell_type": "code",
   "execution_count": null,
   "id": "11ZrtAK0AAnZ",
   "metadata": {
    "colab": {
     "base_uri": "https://localhost:8080/"
    },
    "id": "11ZrtAK0AAnZ",
    "outputId": "93cda09b-3756-44d5-b1f6-cb93e30eedcc",
    "slideshow": {
     "slide_type": "subslide"
    },
    "tags": []
   },
   "outputs": [],
   "source": [
    "Point.num_of_points"
   ]
  },
  {
   "cell_type": "markdown",
   "id": "e8af8f0e",
   "metadata": {},
   "source": [
    "Η πρόσβαση μπορεί να γίνει και από τον δείκτη p του αντικειμένου. Πλέον, έχει δημιουργηθεί ένα αντικείμενο."
   ]
  },
  {
   "cell_type": "code",
   "execution_count": null,
   "id": "3yeabg_uAL-1",
   "metadata": {
    "colab": {
     "base_uri": "https://localhost:8080/"
    },
    "id": "3yeabg_uAL-1",
    "outputId": "79dd152d-3aa2-4c0c-c1e6-839e57a64d47"
   },
   "outputs": [],
   "source": [
    "p = Point(1,1)\n",
    "p.num_of_points"
   ]
  },
  {
   "cell_type": "markdown",
   "id": "cc79f5e6",
   "metadata": {},
   "source": [
    "Θα δημιουργηθεί και 2ο αντικείμενο. Η προσπέλαση στην μεταβλητή κλάσης _num_of_points_ θα γίνει με το όνομά της."
   ]
  },
  {
   "cell_type": "code",
   "execution_count": null,
   "id": "rL9nqzoAAI-J",
   "metadata": {
    "colab": {
     "base_uri": "https://localhost:8080/"
    },
    "id": "rL9nqzoAAI-J",
    "outputId": "0e977e88-a34f-4d84-89cd-8882ea88ea0b"
   },
   "outputs": [],
   "source": [
    "# Δημιουργία και δεύτερου αντικειμένου\n",
    "q = Point(2,2)\n",
    "Point.num_of_points"
   ]
  },
  {
   "cell_type": "markdown",
   "id": "ACMluEnuixSg",
   "metadata": {
    "id": "ACMluEnuixSg",
    "slideshow": {
     "slide_type": ""
    },
    "tags": []
   },
   "source": [
    "Η μεταβλητή _num_of_points_ αποτελεί χαρακτηριστικό της κλάσης _Point_ και όχι του κάθε αντικειμένου της κλάσης χωριστά. Η πρόσβαση σε αυτό γίνεται είτε μέσω του ονόματος της κλάσης, _Point.num_of_points_, είτε μέσω μεταβλητής που δείχνει σε κάποιο από τα αντικείμενα, _p.num_of_points_. Αντίθετα, η πρόσβαση στις μεταβλητές αντικειμένου γίνεται μόνο με αναφορά στο εκάστοτε αντικείμενο."
   ]
  },
  {
   "cell_type": "markdown",
   "id": "ebbe4e2d",
   "metadata": {},
   "source": [
    "## Μέθοδοι κλάσης"
   ]
  },
  {
   "cell_type": "markdown",
   "id": "752d3bc1",
   "metadata": {},
   "source": [
    "Μια `classmethod` έχει πρόσβαση στην ίδια την κλάση μέσω της παραμέτρου `cls` και μπορεί να τροποποιήσει την κατάσταση της κλάσης. Για παράδειγμα μπορεί να αυξήσει την στατική μεταβλητή _num_of_points_. Χρησιμοποιείται συνήθως για να δημιουργεί νέα αντικείμενα, **factory methods**, ή να δουλεύει με δεδομένα που αφορούν ολόκληρη την κλάση. Στις class μεθόδους χρησιμοποιούμε την σημείωση `classmethod` για να ορίσουμε ότι η μέθοδος είναι κλάσης."
   ]
  },
  {
   "cell_type": "markdown",
   "id": "196dd43b",
   "metadata": {},
   "source": [
    "**Παράδειγμα**\n",
    " \n",
    "Στο επόμενο παράδειγμα η μέθοδος κλάσης δημιουργεί αντικείμενα _Point_ από μία μεταβλητή τύπου `str` που περιέχει συντεταγμένες."
   ]
  },
  {
   "cell_type": "code",
   "execution_count": null,
   "id": "576ca781",
   "metadata": {},
   "outputs": [],
   "source": [
    "class Point:\n",
    "\n",
    "    num_of_points = 0  # Στατική μεταβλητή\n",
    "    def __init__(self, x, y):\n",
    "        self.x = x\n",
    "        self.y = y\n",
    "        Point.num_of_points += 1\n",
    "    def display(self):\n",
    "        print(f'({self.x},{self.y})')\n",
    "    # Μέθοδος κλάσης που δημιουργεί σημείο από string συντεταγμένων\n",
    "    @classmethod\n",
    "    def from_string(cls, coord_str):\n",
    "        # Διαχωρισμός του string και μετατροπή σε ακέραιους\n",
    "        x, y = coord_str.split(',')\n",
    "        x, y = int(x), int(y)\n",
    "        # Δημιουργούμε νέο αντικείμενο Point και επιστρέφουμε\n",
    "        return cls(x, y)\n",
    "p1 = Point(1, 2)\n",
    "print('Αριθμός σημείων:',Point.num_of_points)\n",
    "# Δημιουργία σημείου από string συντεταγμένων\n",
    "p2 = Point.from_string(\"3,4\")\n",
    "p2.display()  # (3,4)\n",
    "print('Αριθμός σημείων:',Point.num_of_points)"
   ]
  },
  {
   "cell_type": "markdown",
   "id": "j6bqeqP_Xij-",
   "metadata": {
    "id": "j6bqeqP_Xij-",
    "slideshow": {
     "slide_type": "slide"
    },
    "tags": []
   },
   "source": [
    "## Static μέθοδοι"
   ]
  },
  {
   "cell_type": "markdown",
   "id": "KsZp5C3OmxJb",
   "metadata": {
    "id": "KsZp5C3OmxJb",
    "slideshow": {
     "slide_type": "skip"
    },
    "tags": []
   },
   "source": [
    "Μια μέθοδος μπορεί να οριστεί μέσα σε μια κλάση ως μέθοδος `static` και σε αυτή την περίπτωση δεν έχει την παράμετρο `self` αλλά ούτε και τη `cls`. Οι μέθοδοι αυτές υλοποιούν μία διαδικασία που δεν μπορεί να επηρεάσει ούτε την κλάση αλλά ούτε και κάποιο αντικείμενο."
   ]
  },
  {
   "cell_type": "markdown",
   "id": "978e1ab6",
   "metadata": {},
   "source": [
    "**Παράδειγμα**\n",
    "\n",
    "  Η κλάση _Point_ περιλαμβάνει τις μεθόδους _distance_ και _coord_distance_ με παρόμοια λειτουργία: Υπολογίζουν και επιστρέφουν την απόσταση μεταξύ δύο σημείων.\n",
    "\n",
    "* Η μέθοδος _distance_ επιστρέφει μια τιμή η οποία εξαρτάται από τα δεδομένα του αντικειμένου πάνω στο οποίο αυτή δρα: _aPoint.distance(anotherPoint)_. Μια τέτοια μέθοδος ονομάζεται *μέθοδος αντικειμένου*.\n",
    "\n",
    "* Αντίθετα, η μέθοδος _coord_distance_ *δεν* καλείται πάνω σε κάποιο αντικείμενο και η τιμή που επιστρέφει εξαρτάται *μόνο* από τις τιμές των παραμέτρων της. Μια τέτοια μέθοδος ονομάζεται `static`. Η κλήση της γίνεται μέσω του ονόματος της κλάσης και όχι πάνω σε  κάποια μεταβλητή αντικειμένου. Έτσι, μια κλήση της μορφής\n",
    "\n",
    "```Python\n",
    "aPoint.coord_distance(x1,y1,x2,y2) ## Συντακτικό λάθος\n",
    "```\n",
    "δεν είναι επιτρεπτή.\n",
    "Κατά την δήλωση μίας static μεθόδου δηλώνουμε, όχι υποχρεωτικά, ότι η μέθοδος είναι static με την σημείωση `@staticmethod`:"
   ]
  },
  {
   "cell_type": "code",
   "execution_count": null,
   "id": "jC9HkR5lihhr",
   "metadata": {
    "id": "jC9HkR5lihhr",
    "slideshow": {
     "slide_type": "subslide"
    },
    "tags": []
   },
   "outputs": [],
   "source": [
    "class Point:\n",
    "\n",
    "  num_of_points = 0\n",
    "\n",
    "  def __init__(self, x,y):\n",
    "    self.x = x\n",
    "    self.y = y\n",
    "    Point.num_of_points += 1\n",
    "\n",
    "  def display(self):\n",
    "      print(f'({self.x},{self.y})')\n",
    "\n",
    "  # απόσταση από σημείο\n",
    "  def distance(self, q):\n",
    "    dx = self.x - q.x\n",
    "    dy = self.y - q.y\n",
    "    return (dx * dx + dy * dy) ** .5\n",
    "\n",
    "  # Απόσταση δύο σημείων που ορίζονται από τις συντεταγμένες τους\n",
    "  @staticmethod\n",
    "  def coord_distance(x1,y1, x2, y2):\n",
    "    dx = x1 - x2\n",
    "    dy = y1 - y2\n",
    "    return (dx * dx + dy * dy) ** .5"
   ]
  },
  {
   "cell_type": "code",
   "execution_count": null,
   "id": "3ZBBDOElnKda",
   "metadata": {
    "id": "3ZBBDOElnKda",
    "slideshow": {
     "slide_type": "subslide"
    },
    "tags": []
   },
   "outputs": [],
   "source": [
    "a = Point(1,1)\n",
    "b = Point(2,2)"
   ]
  },
  {
   "cell_type": "markdown",
   "id": "xxvvdQhBgtlO",
   "metadata": {
    "id": "xxvvdQhBgtlO"
   },
   "source": [
    "Κλήση της μεθόδου _distance_ η οποία είναι μέθοδος αντικειμένου. Υπάρχουν δύο τρόποι κλήσης:\n",
    "\n",
    "- αντικείμενο1.μέθοδος(αντικείμενο2)\n",
    "\n",
    "- ΌνομαΚλάσης.μέθοδος(αντικείμενο1,αντικείμενο2)"
   ]
  },
  {
   "cell_type": "code",
   "execution_count": null,
   "id": "YQlChVYSgsHN",
   "metadata": {
    "colab": {
     "base_uri": "https://localhost:8080/"
    },
    "id": "YQlChVYSgsHN",
    "outputId": "a8ee8eee-7856-4226-9c2e-60d2e2126db4"
   },
   "outputs": [],
   "source": [
    "a.distance(b), Point.distance(a,b)"
   ]
  },
  {
   "cell_type": "markdown",
   "id": "lH3LPNhFgyhW",
   "metadata": {
    "id": "lH3LPNhFgyhW"
   },
   "source": [
    "Κλήση της μεθόδου _coord_distance_ η οποία υποχρεωτικά γίνεται με χρήση του ονόματος της κλάσης."
   ]
  },
  {
   "cell_type": "code",
   "execution_count": null,
   "id": "KsK_Fs2-gx3r",
   "metadata": {
    "colab": {
     "base_uri": "https://localhost:8080/"
    },
    "id": "KsK_Fs2-gx3r",
    "outputId": "f02624e7-5c0e-469b-d7d6-4363c1ff2562"
   },
   "outputs": [],
   "source": [
    "Point.coord_distance(1, 1, 2, 2)"
   ]
  },
  {
   "cell_type": "markdown",
   "id": "UfR5VkxKpB3A",
   "metadata": {
    "id": "UfR5VkxKpB3A",
    "slideshow": {
     "slide_type": "subslide"
    },
    "tags": []
   },
   "source": [
    "# Τροποποιήσιμα αντικείμενα, mutable"
   ]
  },
  {
   "cell_type": "markdown",
   "id": "b520bf00",
   "metadata": {},
   "source": [
    "Τα αντικείμενα που δημιουργούνται με τον παραπάνω τρόπο είναι τροποποιήσιμα, **mutable** και μπορούν να χρησιμοποιηθούν ως στοιχεία σε μία δομή όπως για παράδειγμα μία λίστα."
   ]
  },
  {
   "cell_type": "code",
   "execution_count": null,
   "id": "G9UcukANndV5",
   "metadata": {
    "colab": {
     "base_uri": "https://localhost:8080/"
    },
    "id": "G9UcukANndV5",
    "outputId": "1f737f3f-b757-4a8b-821c-e6eafbbcc82c"
   },
   "outputs": [],
   "source": [
    "polyline = [Point(1,1), Point(1,2), Point(3.5,5.3)]\n",
    "for p in polyline:\n",
    "  p.display()"
   ]
  },
  {
   "cell_type": "markdown",
   "id": "fa53b15f",
   "metadata": {},
   "source": [
    "Δεν είναι καλή πρακτική, όμως, να χρησιμοποιηθούν σε δομές που απαιτούν **immutable**, μη τροποποιήσιμα αντικείμενα, όπως για παράδειγμα να αποτελέσουν κλειδί σε ένα λεξικό. Τα λεξικά χρησιμοποιούν τη hash value ενός κλειδιού για να αποθηκεύουν και να ανακτούν τιμές. Αν ένα αντικείμενο είναι mutable, τότε η hash value του μπορεί να αλλάξει αν τροποποιηθεί, κάτι που διαταράσσει τη λειτουργία του λεξικού."
   ]
  },
  {
   "cell_type": "code",
   "execution_count": null,
   "id": "4780715d",
   "metadata": {},
   "outputs": [],
   "source": [
    "p = Point(0,0)\n",
    "pointdict = {p:\"origin\"}\n",
    "# Το κλειδι αλλάζει, όχι καλή πρακτική\n",
    "p.x = 5\n",
    "p.y = 3\n",
    "pointdict[p]"
   ]
  },
  {
   "cell_type": "markdown",
   "id": "11b99f53",
   "metadata": {},
   "source": [
    "Όταν γίνει προσπάθεια χρήσης **mutable**, και άρα **unhashable** αντικειμένου built-in κλάσης της Python όπως η λίστα ως κλειδί, ενημερωνόμαστε από την Python με εξαίρεση. Όχι όμως όταν το **unhashable** αντικείμενο είναι δικό μας."
   ]
  },
  {
   "cell_type": "code",
   "execution_count": null,
   "id": "3c8f269a",
   "metadata": {},
   "outputs": [],
   "source": [
    "#d = {[1, 2, 3]: \"value\"}"
   ]
  },
  {
   "cell_type": "markdown",
   "id": "xF9P1myRpVU7",
   "metadata": {
    "id": "xF9P1myRpVU7",
    "slideshow": {
     "slide_type": "slide"
    },
    "tags": []
   },
   "source": [
    "# Κληρονομικότητα"
   ]
  },
  {
   "cell_type": "markdown",
   "id": "bbf35090",
   "metadata": {},
   "source": [
    "Είναι δυνατόν να δημιουργήσουμε μια κλάση αντικειμένων η οποία να βασίζεται σε μια ήδη υπάρχουσα κλάση. Κληρονομούμε με αυτόν τον τρόπο τις ιδιότητες και τις μεθόδους της προσθέτοντας και άλλες ή και προσαρμόζοντας, **override**, κάποιες από αυτές."
   ]
  },
  {
   "cell_type": "markdown",
   "id": "b07b4385",
   "metadata": {},
   "source": [
    "**Παράδειγμα**\n",
    "\n",
    "Στην κλάση _ColorPoint_ θα επεκτείνουμε την _Point_ ώστε να μπορούμε να θέσουμε και χρώμα στα σημεία.\n",
    "\n",
    "- Η κλήση της `__init__` της υπερκλάσης μπορεί να γίνει με το όνομά της και τον τελεστή `.` ή με την `super` που θα αναφερθεί αμέσως μετά."
   ]
  },
  {
   "cell_type": "code",
   "execution_count": null,
   "id": "C36Umv6DpPHg",
   "metadata": {
    "id": "C36Umv6DpPHg"
   },
   "outputs": [],
   "source": [
    "class ColoredPoint(Point):\n",
    "  def __init__(self, x, y, color):\n",
    "    Point.__init__(self, x, y)\n",
    "    self.color = color"
   ]
  },
  {
   "cell_type": "markdown",
   "id": "NYcsI9vBpzzM",
   "metadata": {
    "id": "NYcsI9vBpzzM"
   },
   "source": [
    "Ο παραπάνω κώδικας δημιουργεί μια νέα κλάση, υποκλάση της _Point_, η οποία κληρονομεί τις ιδιότητες και τις μεθόδους της υπερκλάσης οι οποίες μπορούν και να προσπελαστούν, κληθούν με χρήση του τελεστή `.`."
   ]
  },
  {
   "cell_type": "code",
   "execution_count": null,
   "id": "ciAMm2xKpzBQ",
   "metadata": {
    "colab": {
     "base_uri": "https://localhost:8080/"
    },
    "id": "ciAMm2xKpzBQ",
    "outputId": "c47c27cd-c3be-4cbe-f914-cb061e120460"
   },
   "outputs": [],
   "source": [
    "cp = ColoredPoint(1,2,'RED')\n",
    "cp2 = ColoredPoint(3,4,'GREEN')\n",
    "cp.distance(cp2),cp.x"
   ]
  },
  {
   "cell_type": "markdown",
   "id": "f04ec7a4",
   "metadata": {},
   "source": [
    "## super"
   ]
  },
  {
   "cell_type": "markdown",
   "id": "0BWTwFSgqDGX",
   "metadata": {
    "id": "0BWTwFSgqDGX",
    "slideshow": {
     "slide_type": "subslide"
    },
    "tags": []
   },
   "source": [
    "Η συνάρτηση `super()` χρησιμοποιείται στην Python για να καλέσει μεθόδους της υπερκλάσης, **superclass** στην οποία ανήκει η τρέχουσα κλάση. Έτσι, αντί του ονόματος της υπερκλάσης για την κλήση του κατασκευαστή της μπορεί να χρησιμοποιηθεί η `super()`."
   ]
  },
  {
   "cell_type": "code",
   "execution_count": null,
   "id": "55CCRNbJqAvk",
   "metadata": {
    "id": "55CCRNbJqAvk",
    "slideshow": {
     "slide_type": ""
    },
    "tags": []
   },
   "outputs": [],
   "source": [
    "class ColoredPoint(Point):\n",
    "  def __init__(self, x, y, color):\n",
    "    super().__init__(x, y)\n",
    "    self.color = color"
   ]
  },
  {
   "cell_type": "markdown",
   "id": "whz_7M-gqMu3",
   "metadata": {
    "id": "whz_7M-gqMu3",
    "slideshow": {
     "slide_type": "slide"
    },
    "tags": []
   },
   "source": [
    "## Υπέρβαση, overriding"
   ]
  },
  {
   "cell_type": "markdown",
   "id": "ddec28bb",
   "metadata": {},
   "source": [
    "Η υποκλάση, **subclass** είναι δυνατόν να υλοποιεί με διαφορετικό τρόπο μια μέθοδο της υπερκλάσης, **superclass**. Στην περίπτωση αυτή λέμε ότι η υποκλάση κάνει **override** τη μέθοδο της υπερκλάσης."
   ]
  },
  {
   "cell_type": "markdown",
   "id": "a66d2463",
   "metadata": {},
   "source": [
    "**Παράδειγμα**\n",
    "\n",
    "  Θα δημιουργήσουμε μία κλάση σημείου στον τρισδιάστατο χώρο. Η μέθοδος _distance_ πλέον υπολογίζει με διαφορετικό τρόπο την απόσταση. Η υπογραφή της, δηλαδή το όνομα και η λίστα παραμέτρων της μεθόδου, είναι ίδια με την υπερκλάση της."
   ]
  },
  {
   "cell_type": "code",
   "execution_count": null,
   "id": "-Hq4gmcODsTW",
   "metadata": {
    "id": "-Hq4gmcODsTW"
   },
   "outputs": [],
   "source": [
    "class Point3D(Point):\n",
    "  def __init__(self,x,y,z):\n",
    "    super().__init__(x,y)\n",
    "    self.z = z\n",
    "\n",
    "  # Υπέρβαση της μεθόδου distance:\n",
    "  def distance(self, p):\n",
    "    dx = self.x - p.x\n",
    "    dy = self.y - p.y\n",
    "    dz = self.z - p.z\n",
    "    return (dx * dx + dy * dy + dz * dz) ** 0.5"
   ]
  },
  {
   "cell_type": "code",
   "execution_count": null,
   "id": "OVHXpWciFBF_",
   "metadata": {
    "colab": {
     "base_uri": "https://localhost:8080/"
    },
    "id": "OVHXpWciFBF_",
    "outputId": "a909909d-22d4-46ae-967d-0d49a8e5cd1e"
   },
   "outputs": [],
   "source": [
    "p1 = Point3D(1,2,3)\n",
    "p2 = Point3D(4,5,6)\n",
    "p1.distance(p2)"
   ]
  },
  {
   "cell_type": "markdown",
   "id": "8UFrTGXDEq0Z",
   "metadata": {
    "id": "8UFrTGXDEq0Z",
    "slideshow": {
     "slide_type": "subslide"
    },
    "tags": []
   },
   "source": [
    "Έχουμε την δυνατότητα να καλέσουμε και την μέθοδο στην υπερκλάση μέσω της `super()`."
   ]
  },
  {
   "cell_type": "code",
   "execution_count": null,
   "id": "kd9A4z2eEqaE",
   "metadata": {
    "id": "kd9A4z2eEqaE"
   },
   "outputs": [],
   "source": [
    "class Point3D(Point):\n",
    "  def __init__(self,x,y,z):\n",
    "    super().__init__(x,y)\n",
    "    self.z = z\n",
    "\n",
    "  # Υπέρβαση της μεθόδου distance:\n",
    "  def distance(self, p):\n",
    "    dxy = super().distance(p)\n",
    "    dz = self.z - p.z\n",
    "    return (dxy * dxy + dz * dz) ** 0.5"
   ]
  },
  {
   "cell_type": "code",
   "execution_count": null,
   "id": "tWIMdCHVFT43",
   "metadata": {
    "colab": {
     "base_uri": "https://localhost:8080/"
    },
    "id": "tWIMdCHVFT43",
    "outputId": "9188fe99-8fde-4a5f-b8c4-d6bf07e944d4"
   },
   "outputs": [],
   "source": [
    "p1 = Point3D(1,2,3)\n",
    "p2 = Point3D(4,5,6)\n",
    "p1.distance(p2)"
   ]
  },
  {
   "cell_type": "markdown",
   "id": "nuf2Iqi0Fb-i",
   "metadata": {
    "id": "nuf2Iqi0Fb-i",
    "slideshow": {
     "slide_type": "slide"
    },
    "tags": []
   },
   "source": [
    "## Πολυμορφισμός"
   ]
  },
  {
   "cell_type": "markdown",
   "id": "e3e6a6da",
   "metadata": {},
   "source": [
    "Μέσω της υπέρβασης, **override**, των μεθόδων μιας υπερκλάσης μπορούμε να δημιουργήσουμε διαφορετικές υλοποιήσεις για το ίδιο όνομα μεθόδου ανάλογα με την υποκλάση."
   ]
  },
  {
   "cell_type": "markdown",
   "id": "7a59d191",
   "metadata": {},
   "source": [
    "**Παράδειγμα**\n",
    "\n",
    "Οι κλάσεις _Fish_, _Feline_ κληρονομούν από την _Animal_ και τα αντικείμενα της κάθε μίας κινούνται με διαφορετικό τρόπο. Η μέθοδος _move_ θα γίνει **override** για κάθε μέθοδο που κληρονομεί από την _Animal_."
   ]
  },
  {
   "cell_type": "code",
   "execution_count": null,
   "id": "32dfdec7-2583-4357-99b9-351c24749cc5",
   "metadata": {
    "id": "U0zJFy86FmS9"
   },
   "outputs": [],
   "source": [
    "class Animal:\n",
    "  def __init__(self,name):\n",
    "    self.name = name\n",
    "  def move(self):\n",
    "    pass # Κενή υλοποίηση"
   ]
  },
  {
   "cell_type": "code",
   "execution_count": null,
   "id": "1e93342a-c991-4280-810d-e0eea3cd7bed",
   "metadata": {
    "id": "U0zJFy86FmS9"
   },
   "outputs": [],
   "source": [
    "class Fish(Animal):\n",
    "  def move(self): # Υπέρβαση της μεθόδου move\n",
    "    print('swims...')"
   ]
  },
  {
   "cell_type": "code",
   "execution_count": null,
   "id": "d8e89f19-1dd8-40ab-8fe3-0985c8a25b29",
   "metadata": {
    "id": "U0zJFy86FmS9"
   },
   "outputs": [],
   "source": [
    "class Feline(Animal):\n",
    "  def move(self): # Υπέρβαση της μεθόδου move\n",
    "    print('walks...')"
   ]
  },
  {
   "cell_type": "code",
   "execution_count": null,
   "id": "diG54WLQF9D2",
   "metadata": {
    "colab": {
     "base_uri": "https://localhost:8080/"
    },
    "id": "diG54WLQF9D2",
    "outputId": "2faf8ecc-1b50-48ac-a080-b94ba1f733ee"
   },
   "outputs": [],
   "source": [
    "myPets = [Fish('Nemo the fish'), Feline('Milu the cat'), Feline('John the tiger')]\n",
    "for pet in myPets:\n",
    "  print(pet.name, end=' ')\n",
    "  pet.move()"
   ]
  },
  {
   "cell_type": "markdown",
   "id": "XLce2RVrGkfd",
   "metadata": {
    "id": "XLce2RVrGkfd",
    "slideshow": {
     "slide_type": "subslide"
    },
    "tags": []
   },
   "source": [
    "**Παράδειγμα**\n",
    " \n",
    "Θα δημιουργήσουμε μία βασική κλάση σχήματος, _Shape_, και διάφορα γεωμετρικά σχήματα που κληρονομούν από αυτή. Όλα τα σχήματα διαθέτουν μία μέθοδο υπολογισμού του εμβαδού τους με ίδιο όνομα, _area_ αλλά διαφορετική υλοποίηση ανάλογα το είδος του σχήματος. Το τετράγωνο, _Square_,  κληρονομεί τόσο από την _Ortho_ όσο και από την _RegularPolygon_. Αποτελεί παράδειγμα πολλαπλής κληρονομικότητας, **multiple inheritance**."
   ]
  },
  {
   "cell_type": "code",
   "execution_count": null,
   "id": "d768be81-b50a-42a1-b1f7-e3f66138bca9",
   "metadata": {
    "id": "pKjY_heSGnSz",
    "slideshow": {
     "slide_type": ""
    },
    "tags": []
   },
   "outputs": [],
   "source": [
    "import math\n",
    "# Υπερκλάση για σχήματα\n",
    "class Shape:\n",
    "    def area(self):\n",
    "        pass # Κενή υλοποίηση\n",
    "\n",
    "class Ortho(Shape):\n",
    "  def __init__(self, a, b):\n",
    "    self.a = a\n",
    "    self.b = b\n",
    "\n",
    "  def area(self):\n",
    "    return self.a * self.b\n",
    "\n",
    "class Triangle(Shape):\n",
    "  def __init__(self, a, b, c):\n",
    "    self.a = a\n",
    "    self.b = b\n",
    "    self.c = c\n",
    "\n",
    "  def area(self):\n",
    "    '''\n",
    "    Υπολογισμός εμβαδού τριγώνου από\n",
    "    τα μήκη των πλευρών με τον τύπο του Ήρωνα, βλ.\n",
    "    https://www.mathopenref.com/heronsformula.html\n",
    "    '''\n",
    "    p = (self.a + self.b + self.c) / 2\n",
    "    return math.sqrt(p * (p - self.a) * (p - self.b) * (p - self.c))\n",
    "\n",
    "class RegularPolygon(Shape):\n",
    "  def __init__(self, a, n):\n",
    "    self.a = a\n",
    "    self.n = n\n",
    "\n",
    "  def area(self):\n",
    "    phi = math.pi / self.n\n",
    "    return 0.5 * self.n * self.a **2 * math.tan(phi)\n",
    "\n",
    "  def radius(self):\n",
    "    '''\n",
    "    Ακτίνα κύκλου περιγεγραμμένου σε κανονικό πολύγωνο\n",
    "    '''\n",
    "\n",
    "    phi = math.pi / self.n\n",
    "    r = self.a / math.cos(phi)\n",
    "    return r\n",
    "class Square(Ortho, RegularPolygon):\n",
    "  def __init__(self, a):\n",
    "    Ortho.__init__(self, a, a)\n",
    "    RegularPolygon.__init__(self, 0.5 * a, 4)"
   ]
  },
  {
   "cell_type": "markdown",
   "id": "6ed19d37",
   "metadata": {},
   "source": [
    "Στη συνέχεια στη λίστα _myShapes_ θα εισάγουμε τέσσερα σχήματα διάφορων τύπων. Θα υπολογίσουμε το συνολικό εμβαδόν όλων των σχημάτων της λίστας χωρίς να χρειάζεται να κάνουμε κάτι διαφορετικό για κάθε σχήμα παρά να καλέσουμε την _area_. Ειδικά για το σχήμα τύπου _Square_ η μέθοδος _area()_ που καλείται είναι αυτή της πρώτης υπερκλάσης _Ortho_."
   ]
  },
  {
   "cell_type": "code",
   "execution_count": null,
   "id": "fNeUju1_Idx5",
   "metadata": {
    "colab": {
     "base_uri": "https://localhost:8080/"
    },
    "id": "fNeUju1_Idx5",
    "outputId": "5affd8a5-5904-4dcc-b6aa-6c6c724657ab",
    "slideshow": {
     "slide_type": ""
    },
    "tags": []
   },
   "outputs": [],
   "source": [
    "myShapes = [Ortho(2, 3), Square(5), Triangle(3, 4, 5),Square(1)]\n",
    "sum_area = 0\n",
    "for shape in myShapes:\n",
    "  sum_area += shape.area()\n",
    "print('Συνολικό εμβαδό:' , sum_area)\n",
    "sq = Square(1)\n",
    "print('Ακτίνα περιγεγραμμένου κύκλου: ', sq.radius())"
   ]
  },
  {
   "cell_type": "markdown",
   "id": "njSe_-5GI3fM",
   "metadata": {
    "id": "njSe_-5GI3fM",
    "slideshow": {
     "slide_type": "slide"
    },
    "tags": []
   },
   "source": [
    "**Παράδειγμα**\n",
    "\n",
    "Ακολουθεί ένα σύνθετο παράδειγμα κληρονομικότητας. Ορίζονται δύο κλάσεις _A_ και _B_ η οποία κληρονομεί από την _A_. Η _B_ κάνει **override** την fun της _A_ την οποία όμως και καλεί με την `super`. Υπάρχει και μία ιδιότητα κλάσης, η _t_ στην οποία έχουν πρόσβαση με τον ίδιο τρόπο και οι δύο κλάσεις."
   ]
  },
  {
   "cell_type": "code",
   "execution_count": null,
   "id": "037b5fca-7083-4991-ac0f-28412e219769",
   "metadata": {
    "id": "LZII5f26I2GE"
   },
   "outputs": [],
   "source": [
    "class A:\n",
    "  t = 0\n",
    "  def __init__(self, p):\n",
    "    self.p = p\n",
    "  def fun(self):\n",
    "    A.t += 2\n",
    "    self.increase()\n",
    "    return A.t\n",
    "  def increase(self):\n",
    "    A.t += 1\n",
    "    self.p += 1\n",
    "class B(A):\n",
    "  def __init__(self, p):\n",
    "    super().__init__(p)\n",
    "    # ή Α.__init__(self,p)\n",
    "    self.p += 3\n",
    "  def fun(self):\n",
    "    return 3 * super().fun()\n",
    "  def increase(self):\n",
    "    self.p += 5"
   ]
  },
  {
   "cell_type": "code",
   "execution_count": null,
   "id": "YYrFtnD3JL-x",
   "metadata": {
    "colab": {
     "base_uri": "https://localhost:8080/"
    },
    "id": "YYrFtnD3JL-x",
    "outputId": "4580fb23-60b3-428b-d4a6-e7d640c59c86",
    "slideshow": {
     "slide_type": "subslide"
    },
    "tags": []
   },
   "outputs": [],
   "source": [
    "list = [A(1), B(2)]\n",
    "sum = 0\n",
    "for a in list:\n",
    "  sum += a.fun()\n",
    "\n",
    "print(sum) # 18\n",
    "print(A.t) # 5\n",
    "print(B.t) # 5\n",
    "print(list[0].p)  #  2\n",
    "print(list[1].p)  # 10"
   ]
  },
  {
   "cell_type": "markdown",
   "id": "1926bd6f",
   "metadata": {},
   "source": [
    "# Αφηρημένες κλάσεις, abstract class"
   ]
  },
  {
   "cell_type": "markdown",
   "id": "18eec4d6",
   "metadata": {},
   "source": [
    "Αφηρημένη, **abstract**, είναι μια κλάση που δεν μπορεί να δημιουργηθεί αντικείμενό της απευθείας. Προορίζεται να χρησιμοποιηθεί ως βάση για άλλες κλάσεις. Συνήθως περιέχουν τουλάχιστον μία αφηρημένη μέθοδο, δηλαδή μια μέθοδο που δηλώνεται αλλά δεν υλοποιείται με τις υποκλάσεις να πρέπει να την υλοποιούν."
   ]
  },
  {
   "cell_type": "markdown",
   "id": "eb9c5e0e",
   "metadata": {},
   "source": [
    "Η δημιουργία αφηρημένων κλάσεων και μεθόδων γίνεται με τη χρήση του αρθρώματος `abc`. Μία αφηρημένη μέθοδος που πρέπει να υλοποιηθεί δηλώνεται με την `@abstractmethod`. Δεν έχει υλοποίηση και για τον λόγο αυτό χρησιμοποιείται η εντολή `pass`."
   ]
  },
  {
   "cell_type": "code",
   "execution_count": null,
   "id": "27d7c392",
   "metadata": {},
   "outputs": [],
   "source": [
    "from abc import ABC, abstractmethod\n",
    "\n",
    "class Animal(ABC):\n",
    "    @abstractmethod\n",
    "    def make_sound(self):\n",
    "        pass  \n",
    "\n",
    "    def move(self):\n",
    "        print(\"Κινούμαι!\")\n",
    "\n",
    "# Υποκλάση που υλοποιεί την αφηρημένη μέθοδο\n",
    "class Dog(Animal):\n",
    "    def make_sound(self):\n",
    "        print(\"Γαβ!\")\n",
    "# Υποκλάση που δεν υλοποιεί την αφηρημένη μέθοδο\n",
    "class Cat(Animal):\n",
    "    pass"
   ]
  },
  {
   "cell_type": "markdown",
   "id": "6e8b6e00",
   "metadata": {},
   "source": [
    "Και οι δύο επόμενες προσπάθειες δημιουργίας αντικειμένου αποτυγχάνουν. Στην πρώτη περίπτωση δεν μπορεί να δημιουργηθεί αντικείμενο από αφηρημένη κλάση ενώ στην δεύτερη δεν έχει υλοποιηθεί η αφηρημένη μέθοδος."
   ]
  },
  {
   "cell_type": "code",
   "execution_count": null,
   "id": "2fc5ffc5",
   "metadata": {},
   "outputs": [],
   "source": [
    "#animal = Animal()\n",
    "#cat = Cat()"
   ]
  },
  {
   "cell_type": "markdown",
   "id": "081f0228",
   "metadata": {},
   "source": [
    "Η υποκλάση _Dog_ υλοποιεί την αφηρημένη μέθοδο και μπορεί να δημιουργηθεί αντικείμενό της."
   ]
  },
  {
   "cell_type": "code",
   "execution_count": null,
   "id": "e1e8c9eb",
   "metadata": {},
   "outputs": [],
   "source": [
    "dog = Dog()\n",
    "dog.make_sound()\n",
    "dog.move()"
   ]
  },
  {
   "cell_type": "markdown",
   "id": "197d85cf",
   "metadata": {},
   "source": [
    "# Μέθοδοι Dunder"
   ]
  },
  {
   "cell_type": "markdown",
   "id": "51c8b47a",
   "metadata": {},
   "source": [
    "Οι **dunder** ή αλλιώς **magic** ή **special** μέθοδοι είναι ειδικές μέθοδοι των αντικειμένων της Python που ξεκινούν και τελειώνουν με 2 σύμβολα '\\_'. Παράδειγμα τέτοιας μεθόδου είναι και ο κατασκευαστής `__init__`. Το όνομα που έχει καθιερωθεί για αυτές προκύπτει ακριβώς από το σύμβολο '\\_' underscore, **d**ouble **under**score, **dunder**, methods. Οι μέθοδοι αυτές επιτρέπουν στον προγραμματιστή να καθορίσει πώς τα αντικείμενα μιας κλάσης συμπεριφέρονται όταν χρησιμοποιούνται σε συγκεκριμένες περιπτώσεις, όπως η αρχικοποίηση, η εμφάνιση η σύγκριση, η πρόσθεση, κ.λπ.."
   ]
  },
  {
   "cell_type": "markdown",
   "id": "ac5e1e70",
   "metadata": {},
   "source": [
    "## `__str__`, `__repr__`"
   ]
  },
  {
   "cell_type": "markdown",
   "id": "76d82223",
   "metadata": {},
   "source": [
    "Αν τυπώσουμε με τη βοήθεια της `print` ένα αντικείμενο της κλάσης _Point_ θα εμφανιστεί το όνομα της κλάσης, _Point_, τον χώρο που ορίστηκε, `__main__` καθώς και μία διεύθυνση μνήμης στην οποία έχει αποθηκευτεί το αντικείμενο."
   ]
  },
  {
   "cell_type": "code",
   "execution_count": null,
   "id": "ec3f1e6a",
   "metadata": {},
   "outputs": [],
   "source": [
    "class Point:\n",
    "    def __init__(self, xx, yy):\n",
    "        self.x = xx\n",
    "        self.y = yy\n",
    "p1 = Point(4,3)\n",
    "print(p1)"
   ]
  },
  {
   "cell_type": "markdown",
   "id": "f8a0a2f3",
   "metadata": {},
   "source": [
    "Για να αλλάξει αυτή η συμπεριφορά θα πρέπει να οριστεί η **dunder** μέθοδος `__str__` η οποία θα πρέπει να επιστρέψει την επιθυμητή αναπαράσταση του αντικείμένου για τον τελικό χρήστη. Η `print` στην πραγματικότητα καλεί την `__str__` του κάθε αντικειμένου. Η ίδια τιμή επιστρέφεται όταν καλείται η συνάρτηση `str()` για το αντικείμενο μετατρέποντας το σε αλφαριθμητικό."
   ]
  },
  {
   "cell_type": "code",
   "execution_count": null,
   "id": "bdd32845",
   "metadata": {},
   "outputs": [],
   "source": [
    "class Point:\n",
    "    def __init__(self, xx, yy):\n",
    "        self.x = xx\n",
    "        self.y = yy\n",
    "    def __str__(self):\n",
    "        return '('+str(self.x)+','+str(self.y)+')'\n",
    "p1 = Point(4,3)\n",
    "print(p1)\n",
    "str(p1)"
   ]
  },
  {
   "cell_type": "markdown",
   "id": "3da77acb",
   "metadata": {},
   "source": [
    "Όταν τυπώνουμε απευθείας το αντικείμενο στην κονσόλα ή το notebook χωρίς χρήση `print` δεν καλείται η `__str__` αλλά μία άλλη **dunder** μέθοδος η `__repr__`. Η `__repr__` καλείται, επίσης, αν καλεστεί η `print` αλλά δεν έχει υλοποιηθεί η `__str__`."
   ]
  },
  {
   "cell_type": "code",
   "execution_count": null,
   "id": "2857c5ec",
   "metadata": {},
   "outputs": [],
   "source": [
    "p1"
   ]
  },
  {
   "cell_type": "code",
   "execution_count": null,
   "id": "2b2816c3",
   "metadata": {},
   "outputs": [],
   "source": [
    "class Point:\n",
    "    def __init__(self, xx, yy):\n",
    "        self.x = xx\n",
    "        self.y = yy\n",
    "    def __str__(self):\n",
    "        return '('+str(self.x)+','+str(self.y)+')'\n",
    "    def __repr__(self):\n",
    "        return '('+str(self.x)+','+str(self.y)+')'\n",
    "p1 = Point(4,3)\n",
    "p1"
   ]
  },
  {
   "cell_type": "markdown",
   "id": "051c80d8",
   "metadata": {},
   "source": [
    "Σε γενικές γραμμές, η `__repr__` θα πρέπει να δίνει μια ακριβή και μοναδική αναπαράσταση του αντικειμένου, χρήσιμη για debugging ενώ η `__str__` θα πρέπει να επιστρέφει μια φιλική, κατανοητή αναπαράσταση του αντικειμένου για τον τελικό χρήστη."
   ]
  },
  {
   "cell_type": "markdown",
   "id": "45f6e074",
   "metadata": {},
   "source": [
    "## Αριθμητικοί τελεστές"
   ]
  },
  {
   "cell_type": "markdown",
   "id": "2e7151a8",
   "metadata": {},
   "source": [
    "Αν στην συνέχεια προσπαθήσουμε να προσθέσουμε δύο σημεία η Python δεν θα ξέρει πως να τα προσθέσει εγείροντας σχετικό σφάλμα."
   ]
  },
  {
   "cell_type": "code",
   "execution_count": null,
   "id": "c9e867c5",
   "metadata": {},
   "outputs": [],
   "source": [
    "p2 = Point(3.4,1)\n",
    "#p1+p2"
   ]
  },
  {
   "cell_type": "markdown",
   "id": "10aec596",
   "metadata": {},
   "source": [
    "Αν, αντίστροφα, αντί να προσθέσουμε δύο ακεραίους με χρήση τελεστή `+`, μπορούμε να καλέσουμε την αντίστοιχη dunder μέθοδο `__add__`. Στην πραγματικότητα, ο λόγος που μπορούμε να προσθέσουμε δύο ακεραίους μεταξύ τους είναι το ότι ο δημιουργός της κλάσης `int` έχει υλοποιήσει την λειτουργία μέσω της `__add__`."
   ]
  },
  {
   "cell_type": "code",
   "execution_count": null,
   "id": "e23f0846",
   "metadata": {},
   "outputs": [],
   "source": [
    "4+3,(4).__add__(3)"
   ]
  },
  {
   "cell_type": "markdown",
   "id": "875f0c68",
   "metadata": {},
   "source": [
    "Στην δική μας κλάση θα πρέπει, αντίστοιχα, να υλοποιήσουμε την **dunder** μέθοδο `__add__` η οποία θα δημιουργεί και θα επιστρέφει ένα νέο αντικείμενο τύπου _Point_ που θα αθροίζει τις αντίστοιχες συντεταγμένες. Στην περίπτωση αυτή λέμε ότι η πράξη `+` υπερφορτώνεται, **overload**."
   ]
  },
  {
   "cell_type": "code",
   "execution_count": null,
   "id": "9d714887",
   "metadata": {},
   "outputs": [],
   "source": [
    "class Point:\n",
    "    def __init__(self, xx, yy):\n",
    "        self.x = xx\n",
    "        self.y = yy\n",
    "    def __str__(self):\n",
    "        return '('+str(self.x)+','+str(self.y)+')'\n",
    "    def __add__(self,p):\n",
    "        return Point(self.x + p.x, self.y + p.y)\n",
    "p1 = Point(4,3)\n",
    "p2 = Point(3.4,1)\n",
    "p3 = p1+p2\n",
    "print(p3)"
   ]
  },
  {
   "cell_type": "markdown",
   "id": "348b6359",
   "metadata": {},
   "source": [
    "Αντίστοιχα με την `__sub__` μπορούμε να αφαιρέσουμε δύο σημεία και με την `__mul__` να πολλαπλασιάσουμε το σημείο με έναν αριθμό. Γενικότερα, υποστηρίζεται η υπερφόρτωση των αριθμητικών τελεστών με αντίστοιχες **dunder** μεθόδους.\n",
    "\n",
    "| **Τελεστής** | **Μέθοδος**           |\n",
    "|-------------|--------------------------------|\n",
    "| `+`         | `__add__`       |\n",
    "| `-`         | `__sub__`       |\n",
    "| `*`         | `__mul__`       |\n",
    "| `/`         | `__truediv__`   |\n",
    "| `//`        | `__floordiv__`  |\n",
    "| `%`         | `__mod__`       |\n",
    "| `**`        | `__pow__` |"
   ]
  },
  {
   "cell_type": "code",
   "execution_count": null,
   "id": "d60dfb9d",
   "metadata": {},
   "outputs": [],
   "source": [
    "class Point:\n",
    "    def __init__(self, xx, yy):\n",
    "        self.x = xx\n",
    "        self.y = yy\n",
    "    def __str__(self):\n",
    "        return '('+str(self.x)+','+str(self.y)+')'\n",
    "    def __add__(self,p):\n",
    "        return Point(self.x + p.x, self.y + p.y)\n",
    "    def __sub__(self, p):\n",
    "        return Point(self.x - p.x, self.y - p.y)\n",
    "    def __mul__(self, scalar):\n",
    "        return Point(self.x * scalar, self.y * scalar)\n",
    "p1 = Point(4,3)\n",
    "p2 = Point(3.4,1)\n",
    "p3 = p1-p2\n",
    "print(p3)\n",
    "p4 = Point(4,3)\n",
    "print(p1*3)"
   ]
  },
  {
   "cell_type": "markdown",
   "id": "bd30085a",
   "metadata": {},
   "source": [
    "## Συγκριτικοί τελεστές"
   ]
  },
  {
   "cell_type": "markdown",
   "id": "5959870b",
   "metadata": {},
   "source": [
    "Με τον ίδιο τρόπο με τους αριθμητικούς τελεστές έχουμε την δυνατότητα να υπερφορτώσουμε τους συγκριτικούς τελεστές:\n",
    "\n",
    "| **Τελεστής** | **Μέθοδος**            |\n",
    "|-------------|--------------------------------|\n",
    "| `==`        | `__eq__`        |\n",
    "| `!=`        | `__ne__`        |\n",
    "| `<`         | `__lt__`        |\n",
    "| `<=`        | `__le__`        |\n",
    "| `>`         | `__gt__`        |\n",
    "| `>=`        | `__ge__`        |"
   ]
  },
  {
   "cell_type": "markdown",
   "id": "c5093a74",
   "metadata": {},
   "source": [
    "**Παράδειγμα**\n",
    "\n",
    "Για να μπορούμε να συγκρίνουμε την ισότητα δύο σημείων των κλάσεων _Point_ με τον τελεστή `==` θα τον υπερφορτώσουμε με την μέθοδο `__eq__`."
   ]
  },
  {
   "cell_type": "code",
   "execution_count": null,
   "id": "0ee73424",
   "metadata": {},
   "outputs": [],
   "source": [
    "class Point:\n",
    "    def __init__(self, xx, yy):\n",
    "        self.x = xx\n",
    "        self.y = yy\n",
    "    def __str__(self):\n",
    "        return '('+str(self.x)+','+str(self.y)+')'\n",
    "    def __add__(self,p):\n",
    "        return Point(self.x + p.x, self.y + p.y)\n",
    "    def __sub__(self, p):\n",
    "        return Point(self.x - p.x, self.y - p.y)\n",
    "    def __eq__(self, p):\n",
    "        return self.x == p.x and self.y == p.y\n",
    "    def __mul__(self, scalar):\n",
    "        return Point(self.x * scalar, self.y * scalar)\n",
    "p1 = Point(4,3)\n",
    "p2 = Point(3.4,1)\n",
    "p4 = Point(4,3)\n",
    "print(p1==p4)\n",
    "print(p1==p2)"
   ]
  },
  {
   "cell_type": "markdown",
   "id": "bd859697",
   "metadata": {},
   "source": [
    "## Διαγραφή Αντικειμένων,  `__del__`"
   ]
  },
  {
   "cell_type": "markdown",
   "id": "5aa11ff0",
   "metadata": {},
   "source": [
    "Ένα αντικείμενο διαγράφεται όταν κανένας δείκτης δεν δείχνει πλέον σε αυτό. Η διαγραφή γίνεται από τον garbage collector της python και την ώρα της διαγραφής καλείται η dunder μέθοδος `__del__` του κάθε αντικειμένου. Η εντολή `del` της Python αφαιρεί μία αναφορά προς ένα αντικείμενο, κάτι που μπορεί να γίνει και αν απλά ο δείκτης \"δείξει\" κάπου αλλού."
   ]
  },
  {
   "cell_type": "markdown",
   "id": "b37b1062",
   "metadata": {},
   "source": [
    "**Παράδειγμα**\n",
    "\n",
    "Η κλάση _Person_ έχει υλοποίηση της `__del__` με μία απλή εκτύπωση του ονόματος στο αντικείμενο που διαγράφεται. Δημιουργούνται αρχικά δύο αντικείμενα στα οποία δείχνουν οι δείκτες _p1_ και _p2_. Όταν το _p2_ δείξει στο _p1_, `p2 = p1`, δεν υπάρχει πλέον δείκτης που δείχνει στον _John_ με αποτέλεσμα την διαγραφή του από τον garbage collector. Στην συνέχεια, αφου δημιουργηθεί ένα τρίτο αντικείμενο στο οποίο δείχνει ο δείκτης _p3_, ο δείκτης διαγράφεται ρητά μέσω της `del`. Και πάλι και μετά την διαγραφή του δείκτη, ο garbage collector θα διαγράψει και το αντικείμενο Steve.\n",
    "Σε ένα περιβάλλον όπως το Spyder ή το Pycharm ο παρακάτω κώδικας θα εμφανίσει:\n",
    "```\n",
    "Alan is created.\n",
    "John is created.\n",
    "John  is being deleted.\n",
    "Steve is created.\n",
    "Steve  is being deleted.\n",
    "```\n",
    "Σε περιβάλλον όπως το jupyter μπορεί να περιλαμβάνει επιπλέον αναφορές στα αντικείμενα και η garbage collection να εκτελείται πολλαπλές φορές με αποτέλεσμα η εκτύπωση να είναι διαφορετική."
   ]
  },
  {
   "cell_type": "code",
   "execution_count": null,
   "id": "0057a24d",
   "metadata": {},
   "outputs": [],
   "source": [
    "class Person:\n",
    "    def __init__(self, name):\n",
    "        self.name = name\n",
    "        print(self.name,'is created.')\n",
    "    \n",
    "    def __del__(self):\n",
    "        print(self.name,' is being deleted.')\n",
    "p1 = Person(\"Alan\")\n",
    "p2 = Person(\"John\")\n",
    "p2 = p1 \n",
    "p3 = Person(\"Steve\")\n",
    "del p3"
   ]
  },
  {
   "cell_type": "markdown",
   "id": "450c7e24",
   "metadata": {},
   "source": [
    "# Iterables και Iterators"
   ]
  },
  {
   "cell_type": "markdown",
   "id": "a14850d1",
   "metadata": {},
   "source": [
    "## Iterables"
   ]
  },
  {
   "cell_type": "markdown",
   "id": "50d886e6",
   "metadata": {},
   "source": [
    "Τα **iterables** αποτελούν αντικείμενα τα οποία μπορούν να χρησιμοποιηθούν μέσα σε μια επανάληψη `for`. Οι λίστες, τα σύνολα, οι συλλογές και τα λεξικά είναι αντικείμενα **iterable**. Τα `str` είναι και αυτά **iterable** αντικείμενα.\n",
    "\n",
    "- Ένας **iterator** είναι ένα αντικείμενο το οποίο διατρέχει με ένα συγκεκριμένο τρόπο τα στοιχεία ενός **iterabe**.\n",
    "\n",
    "- Ένα **iterable** είναι ένα αντικείμενο το οποίο αναπαριστά μια συλλογή και το οποίο διαθέτει ένα **iterator** για τη διάσχισή τους."
   ]
  },
  {
   "cell_type": "markdown",
   "id": "817774f1",
   "metadata": {},
   "source": [
    "## `next`, `iter`"
   ]
  },
  {
   "cell_type": "markdown",
   "id": "b20366cb",
   "metadata": {},
   "source": [
    "Ένα **iterable** διαθέτει μια dunder μέθοδο `__iter__()` η οποία επιστρέφει έναν `iterator`  για τα στοιχεία της συλλογής και μια μέθοδο `__next__()` η οποία επιστρέφει κάθε φορά που καλείται το επόμενο στοιχείο της συλλογής. Όλοι οι `iterable` τύποι αντικειμένων έχουν υλοποιημένη την μέθοδο `__iter__` η οποία χρησιμοποιείται για να επιστραφεί ο `iterator`. Επιπλέον, ο `iterator` μπορεί να επιστραφεί με μία `for`."
   ]
  },
  {
   "cell_type": "code",
   "execution_count": null,
   "id": "9da69ff8",
   "metadata": {},
   "outputs": [],
   "source": [
    "s = 'Alan'\n",
    "it = iter(s)\n",
    "print(next(it))\n",
    "print(next(it))\n",
    "print(next(it))\n",
    "print(next(it))\n",
    "for c in s:\n",
    "    print(c,end=' ')"
   ]
  },
  {
   "cell_type": "markdown",
   "id": "4b889d81",
   "metadata": {},
   "source": [
    "Αν για ένα iterator, ενώ δεν έχει άλλα στοιχεία, καλεστεί η `next`, εγείρεται μια εξαίρεση `StopIteration`."
   ]
  },
  {
   "cell_type": "code",
   "execution_count": null,
   "id": "e275e39c",
   "metadata": {},
   "outputs": [],
   "source": [
    "L = [42, 3.14]\n",
    "it = iter(L)\n",
    "print(next(it))\n",
    "print(next(it))\n",
    "#print(next(it))"
   ]
  },
  {
   "cell_type": "markdown",
   "id": "b99deb47",
   "metadata": {},
   "source": [
    "Η μέθοδος `__iter__` χρησιμοποιείται παρόμοια με την `__init__` για αρχικοποιήσεις. Πρέπει όμως αντίθετα με την `__init__` να επιστρέφει το `iterable` αντικείμενο."
   ]
  },
  {
   "cell_type": "code",
   "execution_count": null,
   "id": "8d9d7dab",
   "metadata": {},
   "outputs": [],
   "source": [
    "class MyList:\n",
    "    numbers=[1,2,3,4,5]\n",
    "    \n",
    "    def __iter__(self):\n",
    "        return MyList.numbers.__iter__()\n",
    "\n",
    "num = MyList()\n",
    "it = iter(num)\n",
    "for n in num:\n",
    "    print(n)"
   ]
  },
  {
   "cell_type": "markdown",
   "id": "a6c6f824",
   "metadata": {},
   "source": [
    "Στο ακόλουθο παράδειγμα, η λίστα _MyList2_ υλοποιεί έναν `iterator` ο οποίος διατρέχει τα στοιχεία της λίστας _numbers_ από το τελευταίο ως το πρώτο."
   ]
  },
  {
   "cell_type": "code",
   "execution_count": null,
   "id": "9e1af598",
   "metadata": {},
   "outputs": [],
   "source": [
    "class MyList2:\n",
    "    numbers=[1,2,3,4,5]\n",
    "    \n",
    "    def __init__(self):\n",
    "        self.pos = 5\n",
    "    \n",
    "    def __iter__(self):\n",
    "        return self\n",
    "\n",
    "    def __next__(self):\n",
    "        if self.pos > 0:\n",
    "            self.pos -= 1\n",
    "            return MyList2.numbers[self.pos]\n",
    "        else: \n",
    "            raise StopIteration\n",
    "    \n",
    "num_list = MyList2()\n",
    "it = iter(num_list)\n",
    "for n in it:\n",
    "    print(n)"
   ]
  },
  {
   "cell_type": "markdown",
   "id": "cb01ab2c",
   "metadata": {},
   "source": [
    "Η συνάρτηση `iter` επιστρέφει έναν `iterator` ενός `iterable` αντικειμένου το οποίο δέχεται ως παράμετρο:"
   ]
  },
  {
   "cell_type": "code",
   "execution_count": null,
   "id": "ef769be6",
   "metadata": {},
   "outputs": [],
   "source": [
    "my_list = MyList2()\n",
    "my_iterator = iter(my_list)"
   ]
  },
  {
   "cell_type": "markdown",
   "id": "9bd4ccac",
   "metadata": {},
   "source": [
    "Η συνάρτηση`next` η οποία επιστρέφει το επόμενο στοιχείο στη συλλογή για τον δεδομένο `iterator`:"
   ]
  },
  {
   "cell_type": "code",
   "execution_count": null,
   "id": "c6fe2884",
   "metadata": {},
   "outputs": [],
   "source": [
    "next(my_iterator),next(my_iterator),next(my_iterator),next(my_iterator),next(my_iterator)"
   ]
  },
  {
   "cell_type": "markdown",
   "id": "57efba1f",
   "metadata": {},
   "source": [
    "Η επόμενη κλήση της `next()` θα εγείρει μια εξαίρεση `StopIteration`:"
   ]
  },
  {
   "cell_type": "code",
   "execution_count": null,
   "id": "1b531016",
   "metadata": {},
   "outputs": [],
   "source": [
    "# next(my_iterator)"
   ]
  },
  {
   "cell_type": "markdown",
   "id": "2200c751",
   "metadata": {},
   "source": [
    "Προσέξτε ότι η παραπάνω υλοποίηση του **iterator** της λίστας δεν είναι πλήρης, καθώς επιτρέπει τη χρήση του iterator για τη διάσχιση των στοιχείων της λίστας μόνο μια φορά (γιατί;)"
   ]
  },
  {
   "cell_type": "code",
   "execution_count": null,
   "id": "f8986bd3",
   "metadata": {},
   "outputs": [],
   "source": []
  },
  {
   "cell_type": "code",
   "execution_count": null,
   "id": "62f80293",
   "metadata": {},
   "outputs": [],
   "source": []
  }
 ],
 "metadata": {
  "kernelspec": {
   "display_name": "Python 3 (ipykernel)",
   "language": "python",
   "name": "python3"
  },
  "language_info": {
   "codemirror_mode": {
    "name": "ipython",
    "version": 3
   },
   "file_extension": ".py",
   "mimetype": "text/x-python",
   "name": "python",
   "nbconvert_exporter": "python",
   "pygments_lexer": "ipython3",
   "version": "3.11.4"
  }
 },
 "nbformat": 4,
 "nbformat_minor": 5
}
