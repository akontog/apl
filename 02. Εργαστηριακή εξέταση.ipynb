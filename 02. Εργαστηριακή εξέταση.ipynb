{
 "cells": [
  {
   "cell_type": "markdown",
   "id": "d4007b76",
   "metadata": {},
   "source": [
    "<div style=\"padding:20px 0px 20px 0px; text-align:center; font-weight: bold; font-size:170%; background-color: #2d8077; color:#f0b439;\">\n",
    "02.<br>\n",
    "<span style=\"color:#ffffcc;\">Εργαστηριακή Εξέταση</span>\n",
    "</div>\n",
    "\n",
    "---"
   ]
  },
  {
   "cell_type": "markdown",
   "id": "7aae4914",
   "metadata": {},
   "source": [
    "# Παντόγραμμα, pangram"
   ]
  },
  {
   "cell_type": "markdown",
   "id": "a7d4a78a",
   "metadata": {},
   "source": [
    "Pangram είναι μια πρόταση στην οποία χρησιμοποιούνται όλα τα γράμματα του αλφαβήτου τουλάχιστον μία φορά. Για παράδειγμα για το Λατινικό και Ελληνικό αλφάβητο:\n",
    "\n",
    "- \"the quick brown fox jumps over the lazy dog\"\n",
    "\n",
    "- \"ξεσκεπαζω την ψυχοφθορα σας βδελυγμια\"\n",
    "\n",
    "Να γραφεί συνάρτηση, έστω _isPangram(sentence,alphabet)_, η οποία δέχεται μια πρόταση, _sentence_ και το αλφάβητο, _alphabet_ και επιστρέφει True αν η πρόταση αποτελεί pangram, διαφορετικά επιστρέφει False. Αν δηλαδή όλα τα γράμματα του _alphabet_ υπάρχουν στη _sentence_.\n",
    "\n",
    "Παραδείγματα κλήσης:\n",
    "```\n",
    "\n",
    ">>> isPangram(\"the quick brown fox jumps over the lazy dog\",\"abcdefghijklmnopqrstuvwxyz\")\n",
    "\n",
    "True\n",
    "\n",
    ">>> isPangram(\"Hello world\",\"abcdefghijklmnopqrstuvwxyz\")\n",
    "\n",
    "False\n",
    "\n",
    ">>> isPangram(\"ξεσκεπαζω την ψυχοφθορα σας βδελυγμια\",\"αβγδεζηθικλμνξοπρστυφχψω\")\n",
    "\n",
    "True\n",
    "```"
   ]
  },
  {
   "cell_type": "code",
   "execution_count": null,
   "id": "933af5ba",
   "metadata": {},
   "outputs": [],
   "source": []
  },
  {
   "cell_type": "markdown",
   "id": "abb60e46",
   "metadata": {},
   "source": [
    "# Αριθμοί Munchausen"
   ]
  },
  {
   "cell_type": "markdown",
   "id": "bcdc9df0",
   "metadata": {},
   "source": [
    "Ένας τέλειος ψηφίο-προς-ψηφίο αριθμός, perfect digit-to-digit invariant - pddi), γνωστός και ως αριθμός Munchausen, είναι ένας φυσικός αριθμός ο οποίος είναι ίσος με το άθροισμα των ψηφίων του, το καθένα υψωμένο στη δύναμη του εαυτού του.\n",
    "Για παράδειγμα: $3435 = 3^3 + 4^4 + 3^3 + 5^5$\n",
    "\n",
    "1. Να γραφεί συνάρτηση η οποία δέχεται έναν φυσικό αριθμό n και επιστρέφει True αν ο αριθμός είναι Munchausen. Προσοχή! Θα πρέπει να γίνει η σύμβαση $0^0=1$.\n",
    "\n",
    "Παράδειγμα κλήσης:\n",
    "```\n",
    ">>>isMunchausen(3435)\n",
    "\n",
    "True\n",
    "```\n",
    "2. Με τη βοήθεια της συνάρτησης και list comprehension να δημιουργηθεί λίστα με όλους τους αριθμούς Munchausen από 0 μέχρι 10.000\n",
    "\n",
    "Παράδειγμα εκτέλεσης\n",
    "```\n",
    "[1, 3435]\n",
    "```"
   ]
  },
  {
   "cell_type": "code",
   "execution_count": null,
   "id": "b22dc5d8",
   "metadata": {},
   "outputs": [],
   "source": []
  },
  {
   "cell_type": "markdown",
   "id": "47da0a80",
   "metadata": {},
   "source": [
    "# Ψηφιακή ρίζα και ακολουθία του διπλασιασμού"
   ]
  },
  {
   "cell_type": "markdown",
   "id": "9071efe9",
   "metadata": {},
   "source": [
    "Υλοποιήστε συνάρτηση, _getDigitalRoot_, η οποία δέχεται έναν φυσικό αριθμό _n_ και επιστρέφει συνεχώς το άθροισμα των ψηφίων του μέχρι να καταλήξει σε μονοψήφιο αριθμό, υπολογίζει δηλαδή, τη λεγόμενη \"ψηφιακή ρίζα\".\n",
    "\n",
    "Για παράδειγμα για n = 850:\n",
    "1. Άθροισμα ψηφίων 850: 8 + 5 + 0 = 13\n",
    "\n",
    "2. Άθροισμα ψηφίων 13: 1 + 3 = 4\n",
    "Παράδειγμα κλήσης:\n",
    "```\n",
    ">>> getDigitalRoot(850)\n",
    "\n",
    "4\n",
    "```\n",
    "Υλοποιήστε συνάρτηση, _sequenceSteps_, που δέχεται έναν αριθμό _n_ και ξεκινώντας από τον _n_ παράγει μια ακολουθία σύμφωνα με τους επόμενους κανόνες:\n",
    "\n",
    "- Αν ο αριθμός είναι μονός, διπλασιάζεται.\n",
    "\n",
    "- Αν ο αριθμός είναι ζυγός, αντικαθίσταται από την ψηφιακή ρίζα του αριθμού\n",
    "\n",
    "- Η διαδικασία πρέπει να σταματά αν εμφανιστεί δεύτερη φορά ένας αριθμός στην ακολουθία ή αν αυτή φτάσει στον αριθμό 1.\n",
    "\n",
    "Η συνάρτηση επιστρέφει την ακολουθία σε μορφή λίστας.\n",
    "\n",
    "\n",
    "Μετά την κλήση της συνάρτησης εμφανίστε την ακολουθία και τον αριθμό των βημάτων που χρειάστηκαν.\n",
    "\n",
    "Παράδειγμα κλήσης:\n",
    "```\n",
    ">>> getSequenceSteps(25)\n",
    "\n",
    "[25, 50, 5, 10, 1] \n",
    "\n",
    ">>> getSequenceSteps(36)\n",
    "\n",
    "[36, 9, 18, 9]\n",
    "```\n",
    "\n",
    "Παραδείγματα εκτελέσεων:\n",
    "```\n",
    "25->50->5->10->1\n",
    "Αριθμός βημάτων: 5\n",
    "\n",
    "36->9->18->9\n",
    "Αριθμός βημάτων: 4\n",
    "```"
   ]
  },
  {
   "cell_type": "code",
   "execution_count": null,
   "id": "647468ff",
   "metadata": {},
   "outputs": [],
   "source": []
  },
  {
   "cell_type": "markdown",
   "id": "1fa970c2",
   "metadata": {},
   "source": [
    "# Οχήματα"
   ]
  },
  {
   "cell_type": "markdown",
   "id": "54dcf2da",
   "metadata": {},
   "source": [
    "Θα πρέπει να δημιουργήσετε μια εφαρμογή που διαχειρίζεται διάφορους τύπους οχημάτων, κλάση Vehicle, όπως αυτοκίνητα, κλάση Car, μοτοσικλέτες, κλάση Motorcycle, και φορτηγά, κλάση Truck. Η ιεραρχία των κλάσεων που θα πρέπει να υλοποιήσετε φαίνεται και στο επόμενο σχήμα.\n",
    "```\n",
    "       Vehicle\n",
    "          │\n",
    "  ┌───────┴────────┐\n",
    "  │                │\n",
    " Car           Motorcycle\n",
    "  │\n",
    " Truck\n",
    "```\n",
    "Κάθε κλάση θα έχει τις παρακάτω ιδιότητες και μεθόδους:\n",
    "\n",
    "- Vehicle: Αφηρημένη γονική κλάση\n",
    "\n",
    "    - `__init__`: Κατασκευαστής, προσθέτει 1 στην _vehicle_count_ και σύμφωνα με αυτή δίνει αυτόματα _id_ στο όχημα.\n",
    "\n",
    "    - _vehicle_count_: Στατική μεταβλητή που μετρά το σύνολο των οχημάτων.\n",
    "\n",
    "    - id: Αυτόματο μοναδικό ID.\n",
    "\n",
    "    - getFuelConsumption(): Αφηρημένη μέθοδος.\n",
    "\n",
    "- Car:\n",
    "\n",
    "    - `__init__`: Καλεί τον κατασκευαστή της γονικής κλάσης Vehicle. Δέχεται αριθμό επιβατών.\n",
    "\n",
    "    - _passengers_: Αριθμό επιβατών.\n",
    "\n",
    "    - `__str__`: Επιστρέφει str με τα χαρακτηριστικά του αυτοκινήτου, π.χ.: Car ID: 1, Passengers: 4, Fuel Consumption: 12.0\n",
    "\n",
    "    - getFuelConsumption(): Επιστρέφει την τιμή 10 προσθέτοντας τον αριθμό των επιβατών επί 0.5.\n",
    "\n",
    "- Truck:\n",
    "\n",
    "    - `__init__`: Καλεί τον κατασκευαστή της γονικής κλάσης Car.  Δέχεται αριθμό τόνων φορτίου και επιβατών.\n",
    "\n",
    "    - _load_: φορτίο φορτηγού σε τόνους.\n",
    "\n",
    "    - `__str__`: Επιστρέφει str με τα χαρακτηριστικά του φορτηγού, π.χ.: Truck ID: 2, Passengers: 2, Load: 5 tons, Fuel Consumption: 27.5\n",
    "\n",
    "    - getFuelConsumption(): Επιστρέφει την τιμή 20 προσθέτοντας τον αριθμό των τόνων του φορτίου επί 1.5.\n",
    "\n",
    "- Motorcycle:\n",
    "\n",
    "    - `__init__`: Καλεί τον κατασκευαστή της γονικής κλάσης Vehicle.\n",
    "\n",
    "    - `__str__`: Επιστρέφει str με τα χαρακτηριστικά του φορτηγού, π.χ.: Motorcycle ID: 3, Fuel Consumption: 5\n",
    "\n",
    "    - getFuelConsumption(): Επιστρέφει την τιμή 5.\n",
    "\n",
    "Θα πρέπει να δημιουργήσετε τρία αντικείμενα, ένα από κάθε είδος, και να τα εισάγετε σε μία λίστα. Στην συνέχεια να προσπελάσετε τη λίστα εμφανίζοντας τα χαρακτηριστικά τους:\n",
    "\n",
    "Παράδειγμα εκτέλεσης:\n",
    "```\n",
    "Car ID: 1, Passengers: 4, Fuel Consumption: 12.0\n",
    "Truck ID: 2, Passengers: 2, Load: 5 tons, Fuel Consumption: 27.5\n",
    "Motorcycle ID: 3, Fuel Consumption: 5\n",
    "```"
   ]
  },
  {
   "cell_type": "code",
   "execution_count": null,
   "id": "24ee98bd",
   "metadata": {},
   "outputs": [],
   "source": [
    "\n"
   ]
  },
  {
   "cell_type": "code",
   "execution_count": 0,
   "id": "2c2deb93",
   "metadata": {},
   "outputs": [],
   "source": []
  }
 ],
 "metadata": {
  "kernelspec": {
   "display_name": "Python 3 (ipykernel)",
   "language": "python",
   "name": "python3"
  },
  "language_info": {
   "codemirror_mode": {
    "name": "ipython",
    "version": 3
   },
   "file_extension": ".py",
   "mimetype": "text/x-python",
   "name": "python",
   "nbconvert_exporter": "python",
   "pygments_lexer": "ipython3",
   "version": "3.11.4"
  }
 },
 "nbformat": 4,
 "nbformat_minor": 5
}
