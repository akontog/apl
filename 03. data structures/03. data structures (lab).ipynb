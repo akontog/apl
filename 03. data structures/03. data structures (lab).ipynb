{
 "cells": [
  {
   "cell_type": "markdown",
   "id": "ce384ddc",
   "metadata": {},
   "source": [
    "<div style=\"padding:20px 0px 20px 0px; text-align:center; font-weight: bold; font-size:170%; background-color: #2d8077; color:#f0b439;\">\n",
    "03.<br>\n",
    "<span style=\"color:#ffffcc;\">Δομές δεδομένων, data structures (εργαστήριο)</span>\n",
    "</div>"
   ]
  },
  {
   "cell_type": "markdown",
   "id": "a3f42c25-2475-4a1b-9e1d-572526fc18c0",
   "metadata": {},
   "source": [
    "# Λίστες"
   ]
  },
  {
   "cell_type": "markdown",
   "id": "73a59c5a",
   "metadata": {},
   "source": [
    "## Αντιστροφή"
   ]
  },
  {
   "cell_type": "markdown",
   "id": "ade68bf9",
   "metadata": {},
   "source": [
    "Έστω λίστα  L = [10,20,30,40,50]. Αντιστρέψτε την με τους επόμενους τρόπους:\n",
    "\n",
    "1. Χρήση της μεθόδου reverse.\n",
    "\n",
    "2. Χρήση της συνάρτησης reversed.\n",
    "\n",
    "3. Τεχνική Slicing\n",
    "\n",
    "4. Επανάληψη και εισαγωγή στην αρχή με την μέθοδο insert.\n",
    "\n",
    "5. Επανάληψη και in-place αντιμετάθεση.\n",
    "\n",
    "6. List Comprehension.\n",
    "\n",
    "7. Χρήση αναδρομικής συνάρτησης.\n",
    "\n",
    "8. Με τη βοήθεια στοίβας."
   ]
  },
  {
   "cell_type": "code",
   "execution_count": null,
   "id": "34899387",
   "metadata": {},
   "outputs": [],
   "source": [
    "# 1. Χρήση της μεθόδου reverse.\n"
   ]
  },
  {
   "cell_type": "code",
   "execution_count": null,
   "id": "c52de3d9",
   "metadata": {},
   "outputs": [],
   "source": [
    "# 2. Χρήση της συνάρτησης reversed.\n"
   ]
  },
  {
   "cell_type": "code",
   "execution_count": null,
   "id": "79c66255",
   "metadata": {},
   "outputs": [],
   "source": [
    "# 3. Τεχνική Slicing\n"
   ]
  },
  {
   "cell_type": "code",
   "execution_count": null,
   "id": "12fdb9c2",
   "metadata": {},
   "outputs": [],
   "source": [
    "# 4. Επανάληψη και εισαγωγή στην αρχή με την μέθοδο insert.\n"
   ]
  },
  {
   "cell_type": "code",
   "execution_count": null,
   "id": "90c12442",
   "metadata": {},
   "outputs": [],
   "source": [
    "# 5. Επανάληψη και in-place αντιμετάθεση.\n"
   ]
  },
  {
   "cell_type": "code",
   "execution_count": null,
   "id": "d4526849",
   "metadata": {},
   "outputs": [],
   "source": [
    "# 6. List Comprehension\n"
   ]
  },
  {
   "cell_type": "code",
   "execution_count": null,
   "id": "67e526b2",
   "metadata": {},
   "outputs": [],
   "source": [
    "# 7. Χρήση αναδρομικής συνάρτησης\n"
   ]
  },
  {
   "cell_type": "code",
   "execution_count": null,
   "id": "4dfa1470",
   "metadata": {},
   "outputs": [],
   "source": [
    "# 8. Με τη βοήθεια στοίβας.\n"
   ]
  },
  {
   "cell_type": "markdown",
   "id": "d81de66c",
   "metadata": {},
   "source": [
    "## Ακρωνύμιο"
   ]
  },
  {
   "cell_type": "markdown",
   "id": "452c29c1",
   "metadata": {},
   "source": [
    "Αρκτικόλεξο ή ακρωνύμιο ονομάζεται ο σύντομος τρόπος γραφής που παράγεται απo τα αρχικά γράμματα ή τις συλλαβές των λέξεων μιας επωνυμίας ή και φράσης που γράφεται πάντα με κεφαλαία γράμματα. Υλοποιήστε συνάρτηση η οποία θα δέχεται μία φράση σε `str` και θα επιστρέφει το ακρωνύμιό της.\n",
    "\n",
    "Παράδειγμα κλήσης:\n",
    "```\n",
    ">>>getAcronym('laughing out loud')\n",
    "\n",
    "'LOL'\n",
    "```"
   ]
  },
  {
   "cell_type": "code",
   "execution_count": null,
   "id": "0178ea5e",
   "metadata": {},
   "outputs": [],
   "source": []
  },
  {
   "cell_type": "markdown",
   "id": "a5e3cb4c",
   "metadata": {},
   "source": [
    "## SpongeCase"
   ]
  },
  {
   "cell_type": "markdown",
   "id": "094932fb",
   "metadata": {},
   "source": [
    "Τα Sponge case είναι ένας τρόπος παρουσίασης κειμένου κατά τον οποίο τα γράμματα εναλλάσσονται από πεζά σε κεφαλαία. Παράδειγμα 'hElLo WoRlD'. Να γραφεί συνάρτηση η οποία δέχεται ένα κείμενο, το μετατρέπει σε Sponge case και το επιστρέφει.\n",
    "\n",
    "Παράδειγμα κλήσης:\n",
    "```\n",
    ">>> getSpongeCase(\"Hello World\")\n",
    "\n",
    "'hElLo WoRlD'\n",
    "```\n",
    "Σημείωση: Μπορείτε να χρησιμοποιήσετε την μέθοδο της `str`, `isalpha` η οποία επιστρέφει `True` αν οι χαρακτήρες του `str` είναι γράμματα του αλφαβήτου και όχι κενά, αριθμητικά ψηφία ή σύμβολα."
   ]
  },
  {
   "cell_type": "code",
   "execution_count": null,
   "id": "f9ab2344",
   "metadata": {},
   "outputs": [],
   "source": []
  },
  {
   "cell_type": "markdown",
   "id": "a5126630",
   "metadata": {},
   "source": [
    "## Δημιουργία τυχαίου password"
   ]
  },
  {
   "cell_type": "markdown",
   "id": "ef09a67f",
   "metadata": {},
   "source": [
    "Δημιουργήστε συνάρτηση, έστω _generatePassword_ η οποία θα δέχεται έναν φυσικό, μεγαλύτερο ή ίσο με 5 αριθμό και θα δημιουργεί έναν τυχαίο ισχυρό κωδικό. Ο κωδικός αυτός θα περιέχει:\n",
    "\n",
    "    - τουλάχιστον ένα πεζό, \"abcdefghijklmnopqrstuvwxyz\", και ένα κεφαλαίο, \"ABCDEFGHIJKLMNOPQRSTUVWXYZ\", λατινικό χαρακτήρα.\n",
    "\n",
    "    - τουλάχιστον 2 αριθμητικά ψηφία \"0123456789\".\n",
    "\n",
    "    - τουλάχιστον 1 ειδικό σύμβολο \"!@#$%^&*()_-+=?<>[\".\n",
    "\n",
    "Απαιτείται η βιβλιοθήκη `random` και οι μέθοδοι:\n",
    "\n",
    "- `choice` όπου επιλέγει τυχαίο στοιχείο ενός iterable.\n",
    "\n",
    "- `shuffle` όπου \"ανακατεύει\" τα στοιχεία του iterable.\n",
    "\n",
    "Παράδειγμα κλήσης:\n",
    "```\n",
    ">>> generatePassword(7)\n",
    "\n",
    "'0mR6sL$'\n",
    "```"
   ]
  },
  {
   "cell_type": "code",
   "execution_count": null,
   "id": "c5290ec9",
   "metadata": {},
   "outputs": [],
   "source": []
  },
  {
   "cell_type": "markdown",
   "id": "937bbdc3",
   "metadata": {},
   "source": [
    "## Ταξινομημένη λίστα"
   ]
  },
  {
   "cell_type": "markdown",
   "id": "0377c6bb",
   "metadata": {},
   "source": [
    "Να γραφεί συνάρτηση, _isSorted_, η οποία να ελέγχει εάν μία λίστα που δέχεται σαν παράμετρο είναι ταξινομημένη είτε σε φθίνουσα είτε σε αύξουσα σειρά. Να επιστρέφει True ή False αντίστοιχα.\n",
    "\n",
    "Παράδειγμα κλήσης:\n",
    "```\n",
    ">>> isSorted([5,4,2,1])\n",
    "\n",
    "True\n",
    "```"
   ]
  },
  {
   "cell_type": "code",
   "execution_count": null,
   "id": "62453b52",
   "metadata": {},
   "outputs": [],
   "source": []
  },
  {
   "cell_type": "markdown",
   "id": "e08425db",
   "metadata": {},
   "source": [
    "## Ταξινόμηση φυσαλίδας (bubble sort)"
   ]
  },
  {
   "cell_type": "markdown",
   "id": "eadf5b77",
   "metadata": {},
   "source": [
    "Δημιουργήστε συνάρτηση, _bubbleSort_ που υλοποιεί τον αλγόριθμο ταξινόμησης φυσαλίδας, bubble sort, ταξινόμησης σε αύξουσα σειρά. Ο αλγόριθμος συγκρίνει κάθε δύο γειτονικά στοιχεία και τα ανταλλάσσει εφόσον είναι σε λάθος σειρά. Η διαδικασία επαναλαμβάνεται μέχρι ο πίνακας να είναι πλήρως ταξινομημένος.\n",
    "\n",
    "Παράδειγμα κλήσης:\n",
    "```\n",
    ">>> bubbleSort([64, 34, 25, 12, 22, 11, 90])\n",
    "\n",
    "[11, 12, 22, 25, 34, 64, 90]\n",
    "```"
   ]
  },
  {
   "cell_type": "code",
   "execution_count": null,
   "id": "6277ba13",
   "metadata": {},
   "outputs": [],
   "source": []
  },
  {
   "cell_type": "markdown",
   "id": "cfb4b01a",
   "metadata": {},
   "source": [
    "## Κόσκινο του Ερατοσθένη"
   ]
  },
  {
   "cell_type": "markdown",
   "id": "7a1951c9",
   "metadata": {},
   "source": [
    "Το \"Κόσκινο του Ερατοσθένη\" αποτελεί έναν αλγόριθμο για την εύρεση όλων των πρώτων αριθμών μέχρι έναν συγκεκριμένο ακέραιο. Να δημιουργηθεί συνάρτηση, έστω _eratosthenesSieve_, η οποία θα δέχεται έναν αριθμό, m, και θα επιστρέφει μία λίστα με όλους τους πρώτους μέχρι τον αριθμό αυτό. Η διαδικασία έχει ως εξής:\n",
    "\n",
    "1. Δημιουργούμε μια λίστα από διαδοχικούς ακέραιους από το 2 μέχρι το m: (2, 3, 4, …, m).\n",
    "\n",
    "2. Αρχικά, το p είναι ίσο με 2, τον 1ο πρώτο αριθμό,\n",
    "\n",
    "3. Διαγράφουμε από τη λίστα όλα τα πολλαπλάσια του p στη λίστα (2p, 3p, 4p, κτλ.)\n",
    "\n",
    "4. Βρίσκουμε τον 1ο αριθμό που απομένει στη λίστα μετά τον p (αυτός ο αριθμός είναι ο επόμενος πρώτος αριθμός) και αντικαθιστούμε το p με αυτόν τον αριθμό.\n",
    "\n",
    "5. Επαναλαμβάνουμε τα βήματα 3 και 4 μέχρι το 𝑝 να είναι μεγαλύτερο από $\\sqrt{m}$.\n",
    "\n",
    "6. Όλοι οι αριθμοί που απομένουν στη λίστα είναι πρώτοι αριθμοί.\n",
    "\n",
    "Παράδειγμα κλήσης:\n",
    "```\n",
    ">>> eratosthenesSieve(30)\n",
    "\n",
    "[2, 3, 5, 7, 11, 13, 17, 19, 23, 29]\n",
    "```"
   ]
  },
  {
   "cell_type": "code",
   "execution_count": null,
   "id": "40717025",
   "metadata": {},
   "outputs": [],
   "source": []
  },
  {
   "cell_type": "markdown",
   "id": "37412d03",
   "metadata": {},
   "source": [
    "## Διαιρέτες"
   ]
  },
  {
   "cell_type": "markdown",
   "id": "371de75c",
   "metadata": {},
   "source": [
    "Να υλοποιηθεί συνάρτηση _getDivisors_ η οποία δέχεται έναν φυσικό αριθμό και επιστρέφει λίστα με όλους τους θετικούς διαιρέτες του.\n",
    "\n",
    "Παράδειγμα κλήσης:\n",
    "```\n",
    ">>> getDivisors(34)\n",
    "\n",
    "[1, 2, 17, 34]\n",
    "```"
   ]
  },
  {
   "cell_type": "code",
   "execution_count": null,
   "id": "a9651c80",
   "metadata": {},
   "outputs": [],
   "source": []
  },
  {
   "cell_type": "markdown",
   "id": "4d886dc3",
   "metadata": {},
   "source": [
    "## Υπακολουθίες με άθροισμα"
   ]
  },
  {
   "cell_type": "markdown",
   "id": "f02f490a",
   "metadata": {},
   "source": [
    "Να γραφεί πρόγραμμα σε Python το οποίο θα φτιάχνει μια λίστα, _data_, με N τυχαίους ακεραίους στο διάστημα [−10, 10].\n",
    "\n",
    "Στη συνέχεια δημιουργήστε συνάρτηση _findsubsequences_ που Θα ζητάει από τον χρήστη έναν ακέραιο αριθμό, _check_, και θα τυπώνει όλες τις υπακολουθίες στοιχείων της λίστας που έχουν άθροισμα ίσο με _check_.\n",
    "\n",
    "Παράδειγμα κλήσης:\n",
    "```\n",
    ">>>findSubsequences([ 4, 2, -3, -1, 0, 4 ],0)\n",
    "[-3, -1, 0, 4]\n",
    "[0]\n",
    "```\n",
    "Σημείωση: Θα χρειαστείτε την βιβλιοθήκη `random` και τις μεθόδους της `random.randint(-10, 10)`, για παραγωγή τυχαίων αριθμών, και `random.seed(s)` αν θέλετε να παράγετε την ίδια ακολουθία κάθε φορά για έλεγχο ορθότητας."
   ]
  },
  {
   "cell_type": "code",
   "execution_count": null,
   "id": "beecfeae",
   "metadata": {},
   "outputs": [],
   "source": []
  },
  {
   "cell_type": "markdown",
   "id": "06d3fb2c",
   "metadata": {},
   "source": [
    "## Λίστα σε λίστα"
   ]
  },
  {
   "cell_type": "markdown",
   "id": "ff362d44",
   "metadata": {},
   "source": [
    "Να γραφεί συνάρτηση _listInList_ η οποία θα δέχεται δύο λίστες και θα ελέγχει εάν η πρώτη λίστα περιέχεται μέσα στην άλλη επιστρέφοντας True ή False αντίστοιχα.\n",
    "\n",
    "Παραδείγματα κλήσης:\n",
    "```\n",
    "origList = [1, 2, 3, 4, 5, 6, 7, 8, 9, 10]\n",
    "\n",
    ">>>listInList(origList,[1])\n",
    "\n",
    "True\n",
    "\n",
    ">>>listInList(origList,[3, 4, 5]\n",
    "\n",
    "True\n",
    "\n",
    ">>>listInList(origList,[3,7,8]\n",
    "\n",
    "False\n",
    "```"
   ]
  },
  {
   "cell_type": "code",
   "execution_count": null,
   "id": "408996fc",
   "metadata": {},
   "outputs": [],
   "source": []
  },
  {
   "cell_type": "markdown",
   "id": "b0add7c1",
   "metadata": {},
   "source": [
    "## Αντιστροφή με στοίβα"
   ]
  },
  {
   "cell_type": "markdown",
   "id": "37de0ab6",
   "metadata": {},
   "source": [
    "Να γράψετε συνάρτηση _reverseStack_ η οποία θα δέχεται ένα `str` και θα το εμφανίζει αντεστραμμένο, με τη χρήση στοίβας.\n",
    "\n",
    "Παράδειγμα κλήσης:\n",
    "```\n",
    ">>> reverseStack('samos')\n",
    "\n",
    "'somas'\n",
    "```"
   ]
  },
  {
   "cell_type": "code",
   "execution_count": null,
   "id": "fa556e91",
   "metadata": {},
   "outputs": [],
   "source": []
  },
  {
   "cell_type": "markdown",
   "id": "ff769afb",
   "metadata": {},
   "source": [
    "## Όλα διαφορετικά"
   ]
  },
  {
   "cell_type": "markdown",
   "id": "56ed2270",
   "metadata": {},
   "source": [
    "Να γραφεί συνάρτηση _allDifferent_ η οποία να δέχεται μία λίστα, έστω _L_ και να επιστρέφει True αν όλα τα στοιχεία της λίστας είναι διαφορετικά ή False αν βρει έστω δύο ίδια. Η συνάρτηση να υλοποιηθεί:\n",
    "\n",
    "1. Με χρήση μίας βοηθητικής λίστας\n",
    "\n",
    "2. Με χρήση συνόλου\n",
    "\n",
    "Παράδειγμα κλήσεων:\n",
    "```\n",
    ">>> allDifferent([3, 5, 2, 4, 1, 9, 6, 8, 0, 7])\n",
    "\n",
    "True\n",
    "\n",
    ">>> allDifferent([3, 5, 2, 4, 2, 9, 6, 8, 0, 7])\n",
    "\n",
    "False\n",
    "```"
   ]
  },
  {
   "cell_type": "code",
   "execution_count": null,
   "id": "90d50545",
   "metadata": {},
   "outputs": [],
   "source": []
  },
  {
   "cell_type": "code",
   "execution_count": null,
   "id": "78abc30b",
   "metadata": {},
   "outputs": [],
   "source": []
  },
  {
   "cell_type": "markdown",
   "id": "0ad240d1",
   "metadata": {},
   "source": [
    "## Τρέχων μέσος"
   ]
  },
  {
   "cell_type": "markdown",
   "id": "1f20408d",
   "metadata": {},
   "source": [
    "Να γραφεί συνάρτηση _currentAVG_ η οποία να δέχεται ως παραμέτρους δύο λίστες, έστω λίστα _L_ _Ν_ στοιχείων, καθώς και λίστα _M_ με _Ν-1_ στοιχεία, και να ελέγχει αν κάθε στοιχείο Β[i] είναι ο μέσος όρος των στοιχείων Α[i] και Α[i+1], δηλαδή αν M[i] = (L[i] + L[i+1])/2. Σε περίπτωση που ισχύει να επιστρέφει True, διαφορετικά False.\n",
    "\n",
    "Παράδειγμα κλήσεων:\n",
    "```\n",
    "L = [1, 3, 5, 10, 15]\n",
    "M = [2, 4, 7.5, 12.5]\n",
    "\n",
    ">>> currentAVG(L, M)\n",
    "\n",
    "True\n",
    "```\n",
    "Δοκιμάστε την συνάρτησή σας για τις επόμενες λίστες."
   ]
  },
  {
   "cell_type": "code",
   "execution_count": null,
   "id": "3317d825",
   "metadata": {},
   "outputs": [],
   "source": [
    "L = [1, 3, 5, 10, 15]\n",
    "M = [2, 4, 7.5, 12.5]"
   ]
  },
  {
   "cell_type": "code",
   "execution_count": null,
   "id": "2b1af373-e808-4824-8c7e-f2037c78f78e",
   "metadata": {},
   "outputs": [],
   "source": []
  },
  {
   "cell_type": "markdown",
   "id": "db529fcf-4829-4c55-9be8-d9638a2f3cb0",
   "metadata": {},
   "source": [
    "# Λεξικά"
   ]
  },
  {
   "cell_type": "markdown",
   "id": "a63d6ff4",
   "metadata": {},
   "source": [
    "## Απλές ασκήσεις με λεξικά"
   ]
  },
  {
   "cell_type": "markdown",
   "id": "fc3300ff-bb30-47c4-b8f4-788853b9b244",
   "metadata": {},
   "source": [
    "**α**. Υλοποιήστε συνάρτηση, έστω _combineDicts_ η οποία θα συνδυάζει δύο λεξικά της μορφής `str`: `int` σε ένα. Στο λεξικό που θα προκύψει οι τιμές των κοινών κλειδιών θα προστεθούν μεταξύ τους.\n",
    "\n",
    "Παράδειγμα κλήσης:\n",
    "```\n",
    ">>>d1 = {'a': 1, 'b': 2, 'c': 3}\n",
    ">>>d2 = {'a': 3, 'b': 2, 'd': 4}\n",
    ">>> combineDicts(d1,d2)\n",
    "\n",
    "{'a': 4, 'b': 4, 'c': 3, 'd': 4}\n",
    "```"
   ]
  },
  {
   "cell_type": "code",
   "execution_count": null,
   "id": "67e946f3-7e77-42d2-8729-275af475bba8",
   "metadata": {},
   "outputs": [],
   "source": []
  },
  {
   "cell_type": "markdown",
   "id": "99e31678-ffdb-41cd-bfa5-6d61796d68c5",
   "metadata": {},
   "source": [
    "**β**. Υλοποιήστε συνάρτηση, έστω _countFrequencies_, η οποία θα δέχεται ένα λεξικό, _d_, και θα δημιουργεί ένα νέο λεξικό το οποίο θα έχει για κλειδιά τις τιμές του _d_ και για τιμές την συχνότητα εμφάνισης των τιμών στο _d_.\n",
    "\n",
    "Παράδειγμα κλήσης:\n",
    "```\n",
    ">>>d = {'a': 1, 'b': 2, 'c': 1, 'd': 3, 'e': 2, 'f': 3, 'g': 1}\n",
    ">>>countFrequencies(d)\n",
    "\n",
    "{1: 3, 2: 2, 3: 2}\n",
    "```"
   ]
  },
  {
   "cell_type": "code",
   "execution_count": null,
   "id": "9ac9920b-b080-4d3a-84fe-1bd2c8d207e5",
   "metadata": {},
   "outputs": [],
   "source": []
  },
  {
   "cell_type": "markdown",
   "id": "e0aee409",
   "metadata": {},
   "source": [
    "**γ**. Να υλοποιηθεί συνάρτηση, έστω _filterEven_, η οποία θα δέχεται ένα λεξικό και θα επιστρέφει ένα νέο λεξικό που θα περιλαμβάνει μόνο τα στοιχεία των οποίων η τιμή είναι άρτια.\n",
    "\n",
    "Παράδειγμα κλήσης:\n",
    "```\n",
    ">>>d = {'a': 10, 'b': 15, 'c': 20, 'd': 25, 'e': 30}\n",
    ">>>filterEven(d)\n",
    "\n",
    "{'a': 10, 'c': 20, 'e': 30}\n",
    "```"
   ]
  },
  {
   "cell_type": "code",
   "execution_count": null,
   "id": "6db82c28-80b0-4735-86ba-1da568f8e8ee",
   "metadata": {},
   "outputs": [],
   "source": []
  },
  {
   "cell_type": "markdown",
   "id": "e020a862-8d4b-4d0d-bd62-e8c28047ff2f",
   "metadata": {},
   "source": [
    "**δ**. Να υλοποιηθεί συνάρτηση, έστω _combineDicts_, η οποία συνδυάζει δύο ή περισσότερα λεξικά σε ένα, δημιουργώντας μια λίστα τιμών για κάθε κοινό κλειδί. Αν ένα κλειδί υπάρχει μόνο σε ένα λεξικό, απλά θα υπάρχει η τιμή σε λίστα.\n",
    "\n",
    "Παράδειγμα κλήσης:\n",
    "```\n",
    ">>>dict1 = {'a': 1, 'b': 2, 'c': 3}\n",
    ">>>dict2 = {'b': 4, 'c': 5, 'd': 6}\n",
    ">>>combineDicts(dict1, dict2)\n",
    "\n",
    "{'a': [1], 'b': [2, 4], 'c': [3, 5], 'd': [6]}\n",
    "```"
   ]
  },
  {
   "cell_type": "code",
   "execution_count": null,
   "id": "2ac2bedb",
   "metadata": {},
   "outputs": [],
   "source": []
  },
  {
   "cell_type": "markdown",
   "id": "13d6cec8",
   "metadata": {},
   "source": [
    "*ε. Να υλοποιηθεί συνάρτηση, έστω _reverseDict_ η οποία να δέχεται ένα λεξικό και να αντιστρέφει τα κλειδιά με τις τιμές επιστρέφοντας το νέο λεξικό.\n",
    "\n",
    "Παράδειγμα κλήσης:\n",
    "```\n",
    ">>>d = {'a': 1, 'b': 2, 'c': 3}\n",
    ">>>reverseDict(d)\n",
    "\n",
    "{1: 'a', 2: 'b', 3: 'c'}\n",
    "```"
   ]
  },
  {
   "cell_type": "code",
   "execution_count": null,
   "id": "2d6c7882",
   "metadata": {},
   "outputs": [],
   "source": []
  },
  {
   "cell_type": "markdown",
   "id": "4b61172d",
   "metadata": {},
   "source": [
    "## Λεξικό - long if"
   ]
  },
  {
   "cell_type": "markdown",
   "id": "9c295b77",
   "metadata": {},
   "source": [
    "Να δημιουργηθεί μια βοηθητική συνάρτηση, έστω _getPrice_, για ένα κατάστημα φαγητού. Δέχεται το όνομα ενός φαγητού ή ποτού, και το πρόγραμμα επιστρέφει την τιμή του προϊόντος. Αν η είσοδος δεν είναι στην λίστα του καταστήματος θα επιστρέφει -1. Θα πρέπει να γίνει με δύο τρόπους:\n",
    "\n",
    "α) χρήση if.\n",
    "\n",
    "β) χρήση λεξικού.\n",
    "\n",
    "Στην συνέχεια δίνεται ενδεικτικός κατάλογος τιμών.\n",
    "\n",
    "\"souvlaki\": 3.50, \"salad\": 2.00, \"soda\": 1.50, \"beer\": 2.50\n",
    "\n",
    "Παράδειγμα κλήσης:\n",
    "```\n",
    ">>>getPrice(\"souvlaki\")\n",
    "\n",
    "3.5\n",
    "\n",
    ">>>getPrice(\"pizza\")\n",
    "\n",
    "-1\n",
    "```"
   ]
  },
  {
   "cell_type": "code",
   "execution_count": null,
   "id": "fa029ebf",
   "metadata": {},
   "outputs": [],
   "source": [
    "# α if\n"
   ]
  },
  {
   "cell_type": "code",
   "execution_count": null,
   "id": "d98778d0",
   "metadata": {},
   "outputs": [],
   "source": [
    "# β λεξικό\n"
   ]
  },
  {
   "cell_type": "markdown",
   "id": "84a74030",
   "metadata": {},
   "source": [
    "## Two-Sum Problem"
   ]
  },
  {
   "cell_type": "markdown",
   "id": "8faf5006",
   "metadata": {},
   "source": [
    "Να γραφεί πρόγραμμα σε Python το οποίο:\n",
    "\n",
    "1. Θα φτιάχνει μια λίστα, έστω _data_ με N τυχαίους ακεραίους στο διάστημα [−10, 10].\n",
    "\n",
    "2. Θα καλεί συνάρτηση _twoSums_ η οποία θα υλοποιηθεί που Θα δέχεται λίστα και ακέραιο αριθμό, έστω _check_ και θα τυπώνει όλα τα ζευγάρια της λίστας που έχουν άθροισμα check.\n",
    "\n",
    "3. Θα καλεί συνάρτηση _twoSumsDict_ η οποία θα υλοποιεί την παραπάνω διαδικασία χωρίς χρήση εμφώλευσης αλλά με χρήση λεξικού.\n",
    "\n",
    "Παράδειγμα κλήσης:\n",
    "```\n",
    ">>>twoSums([ 8, 7, 2, 5, 3, 1 ], 10)\n",
    "8 + 2\n",
    "7 + 3\n",
    "```\n",
    "Σημείωση: Θα χρειαστείτε την βιβλιοθήκη `random` και τις μεθόδους της `random.randint(a,b)`, για παραγωγή τυχαίων αριθμών, και `random.seed(s)` για να θέσετε κάποιον σπόρο αν θέλετε να παράγετε την ίδια ακολουθία κάθε φορά για έλεγχο ορθότητας."
   ]
  },
  {
   "cell_type": "code",
   "execution_count": null,
   "id": "23e813b8",
   "metadata": {},
   "outputs": [],
   "source": []
  },
  {
   "cell_type": "markdown",
   "id": "9f84a80e",
   "metadata": {},
   "source": [
    "## Δείκτης ισορροπίας, equilibrium index"
   ]
  },
  {
   "cell_type": "markdown",
   "id": "fdbe949a",
   "metadata": {},
   "source": [
    "Ο Δείκτης ισορροπίας, **equilibrium index**, είναι η θέση _i_ σε έναν πίνακα όπου το άθροισμα των στοιχείων στα αριστερά είναι ίσo με το άθροισμα των στοιχείων στα δεξιά.\n",
    "\n",
    "Ένας αποδοτικός αλγόριθμος εύρεσης του δείκτη ισορροπίας λειτουργεί ως εξής:\n",
    "\n",
    "1. Υπολογίζουμε το συνολικό άθροισμα του πίνακα, έστω _rightsum_.\n",
    "\n",
    "2. Διατρέχουμε τον πίνακα από τα αριστερά αθροίζοντας σε ένα νέο άθροισμα, έστω _leftsum_ κάθε νέο στοιχείο το οποίο στην συνέχεια θα αφαιρεθεί από το _rightsum_.\n",
    "\n",
    "3. Αν τα δύο αθροίσματα, _leftsum_ και _rightsum_ γίνουν ίσα, έχουμε βρει το equilibrium index. Διαφορετικά, αν η επανάληψη τελειώσει, δεν υπάρχει δείκτης ισορροπίας.\n",
    "\n",
    "Για παράδειγμα, για τον πίνακα L = [2, 2, 6, 1, 3]\n",
    "$$\n",
    "\\begin{array}{|c|c|c|c|}\n",
    "\\hline\n",
    "\\text{Δείκτης, i} & \\text{Αριστερό Άθροισμα }, leftsum & \\text{Δεξιό Άθροισμα }, rightsum & \\text{Έλεγχος Ισορροπίας} \\\\\n",
    "\\hline\n",
    "0 & 0 & 13 & Όχι \\\\\n",
    "1 & 2 & 10  & Όχι \\\\\n",
    "2 & 4 & 4  & Ναι \\\\\n",
    "\\hline\n",
    "\\end{array}\n",
    "$$\n",
    "\n",
    "Παράδειγμα κλήσης:\n",
    "```\n",
    ">>>getEquilibriumIndex([2, 2, 6, 1, 3])\n",
    "\n",
    "2\n",
    "```"
   ]
  },
  {
   "cell_type": "code",
   "execution_count": null,
   "id": "7e789dfd",
   "metadata": {},
   "outputs": [],
   "source": []
  },
  {
   "cell_type": "markdown",
   "id": "087a94b9-9cf4-475e-961b-27848edcd65f",
   "metadata": {},
   "source": [
    "## Harry Potter"
   ]
  },
  {
   "cell_type": "markdown",
   "id": "90d89695-2387-4849-9ad4-612bd5a6445b",
   "metadata": {},
   "source": [
    "Να γραφεί συνάρτηση, έστω _getHogwartsHouses_, η οποία δέχεται μία λίστα με πρωτοετείς μαθητές του hogwarts και μία λίστα με τους οίκους και κατανέμει τυχαία τους μαθητές σε οίκο. Η συνάρτηση θα επιστρέφει λεξικό όπου κλειδί θα είναι το όνομα του οίκου και τιμή μία λίστα με τους μαθητές.\n",
    "\n",
    "Παράδειγμα κλήσης:\n",
    "```\n",
    ">>>getHogwartsHouses(students, houses)\n",
    "\n",
    "{'Gryffindor': ['Ginny Weasley'],\n",
    " 'Hufflepuff': ['Hermione Granger', 'Luna Lovegood', 'George Weasley'],\n",
    " 'Ravenclaw': ['Harry Potter', 'Ron Weasley', 'Neville Longbottom'],\n",
    " 'Slytherin': ['Draco Malfoy', 'Fred Weasley']}\n",
    "```\n",
    "Σημείωση: Απαιτείται χρήση της βιβλιοθήκης `random`. Βολική μέθοδός της η `random.choice` που δέχεται μία λίστα και επιστρέφει ένα τυχαίο στοιχείο της."
   ]
  },
  {
   "cell_type": "code",
   "execution_count": null,
   "id": "58333f9d-5f1a-4522-bdc4-701b39638a97",
   "metadata": {},
   "outputs": [],
   "source": [
    "students = [\n",
    "    \"Harry Potter\",\n",
    "    \"Hermione Granger\",\n",
    "    \"Ron Weasley\",\n",
    "    \"Draco Malfoy\",\n",
    "    \"Luna Lovegood\",\n",
    "    \"Neville Longbottom\",\n",
    "    \"Ginny Weasley\",\n",
    "    \"Fred Weasley\",\n",
    "    \"George Weasley\"\n",
    "]\n",
    "houses = [\"Gryffindor\",\"Hufflepuff\",\"Ravenclaw\" ,\"Slytherin\"]"
   ]
  },
  {
   "cell_type": "code",
   "execution_count": null,
   "id": "0c2381b1-1f9b-4524-9c6e-c9571cbf8d82",
   "metadata": {},
   "outputs": [],
   "source": [
    "\n"
   ]
  },
  {
   "cell_type": "markdown",
   "id": "59b18f2b-3535-4a3c-82e7-57549ea46299",
   "metadata": {},
   "source": [
    "## Αποθήκη βιβλίων"
   ]
  },
  {
   "cell_type": "markdown",
   "id": "0083e548-4471-49a8-aa64-f9d1e303fed2",
   "metadata": {},
   "source": [
    "Έστω μία αποθήκη βιβλίων που κρατάει σε λεξικό, έστω _books_, πληροφορίες για το απόθεμα όπως αυτές αποτυπώνονται στο παράδειγμα που ακολουθεί.\n",
    "\n",
    "Να γραφεί συνάρτηση, έστω _orderBooks_ η οποία δέχεται μία παραγγελία από κάποιο βιβλιοπωλείο σε μορφή λίστας από tuple όπως η _orders_ που ακολουθεί, και επιστρέφει είτε την τελική τιμή της παραγγελίας είτε την τιμή -1 αν η παραγγελία δεν μπορεί να επιτευχθεί. Αν η παραγγελία μπορεί να γίνει θα ενημερώνει και το απόθεμα.\n",
    "\n",
    "Στο κυρίως πρόγραμμα μετά από κάθε κλήση της συνάρτησης πέρα από την τιμή της παραγγελίας (ή -1 αν αυτή δεν είναι δυνατόν να γίνει) θα εμφανίζεται το συνολικό απόθεμα.\n",
    "\n",
    "Παράδειγμα κλήσης:\n",
    "```\n",
    "orders = [(\"Harry Potter and the Philosopher's Stone\", 1), (\"To Kill a Mockingbird\", 2)]\n",
    ">>>orderBooks(books,orders)\n",
    "\n",
    "40.99\n",
    "Νέο απόθεμα:\n",
    "Harry Potter and the Philosopher's Stone: 4\n",
    "To Kill a Mockingbird: 6\n",
    "1984: 3\n",
    "orders = [(\"Harry Potter and the Philosopher's Stone\", 1), (\"1984\", 4)]\n",
    ">>>orderBooks(books,orders)\n",
    "\n",
    "-1\n",
    "Νέο απόθεμα:\n",
    "Harry Potter and the Philosopher's Stone: 4\n",
    "To Kill a Mockingbird: 6\n",
    "1984: 3\n",
    "```"
   ]
  },
  {
   "cell_type": "code",
   "execution_count": null,
   "id": "e43ff5b5-9a7f-4fb1-918c-1b9f7b3f4ab6",
   "metadata": {},
   "outputs": [],
   "source": [
    "books = {\n",
    "    \"Harry Potter and the Philosopher's Stone\": {\n",
    "        \"Συγγραφέας\": \"J.K. Rowling\",\n",
    "        \"Έτος Έκδοσης\": 1997,\n",
    "        \"Κατηγορία\": \"Φαντασία\",\n",
    "        \"Αριθμός Σελίδων\": 320,\n",
    "        \"Τιμή\": 15.99,\n",
    "        \"Απόθεμα\": 5\n",
    "    },\n",
    "    \"To Kill a Mockingbird\": {\n",
    "        \"Συγγραφέας\": \"Harper Lee\",\n",
    "        \"Έτος Έκδοσης\": 1960,\n",
    "        \"Κατηγορία\": \"Λογοτεχνία\",\n",
    "        \"Αριθμός Σελίδων\": 281,\n",
    "        \"Τιμή\": 12.50,\n",
    "        \"Απόθεμα\": 8\n",
    "    },\n",
    "    \"1984\": {\n",
    "        \"Συγγραφέας\": \"George Orwell\",\n",
    "        \"Έτος Έκδοσης\": 1949,\n",
    "        \"Κατηγορία\": \"Διανόησης\",\n",
    "        \"Αριθμός Σελίδων\": 328,\n",
    "        \"Τιμή\": 10.75,\n",
    "        \"Απόθεμα\": 3\n",
    "    }\n",
    "}\n",
    "orders = [(\"Harry Potter and the Philosopher's Stone\", 1), (\"To Kill a Mockingbird\", 2)]"
   ]
  },
  {
   "cell_type": "code",
   "execution_count": null,
   "id": "4dfa5b33-1217-4a92-91ab-d3e3e1abdbbf",
   "metadata": {},
   "outputs": [],
   "source": []
  },
  {
   "cell_type": "markdown",
   "id": "c63fb974-aa0f-49bb-a02e-ccb30cb98849",
   "metadata": {},
   "source": [
    "## Ισοτιμίες Νομισμάτων"
   ]
  },
  {
   "cell_type": "markdown",
   "id": "63806a33-365d-405c-a440-59093989102b",
   "metadata": {},
   "source": [
    "Έστω το λεξικό, _exchangerates_, που με τη σειρά του περιέχει λεξικά με συντελεστές μετατροπής μεταξύ νομισμάτων. Να γραφεί συνάρτηση, έστω _convert_ η οποία να δέχεται εκτός από το λεξικό, ένα ποσό και δύο νομίσματα, το νόμισμα στο οποίο είναι το ποσό και το νόμισμα στο οποίο θέλουμε να γίνει η μετατροπή. Η συνάρτηση θα επιστρέφει το ποσό στο 2ο νόμισμα. Αν τα νομίσματα δεν υπάρχουν στο λεξικό να επιστρέφει αντίστοιχο μήνυμα.\n",
    "\n",
    "Παράδειγμα κλήσης:\n",
    "```\n",
    ">>>convert(exchangerates,'EUR','GBP',10)\n",
    "\n",
    "8.7\n",
    "```"
   ]
  },
  {
   "cell_type": "code",
   "execution_count": null,
   "id": "ea683341-983d-4468-869c-f573ab9309eb",
   "metadata": {},
   "outputs": [],
   "source": [
    "exchangerates = {\n",
    "    \"USD\": {\"EUR\": 0.83, \"GBP\": 0.72, \"JPY\": 109.62, \"AUD\": 1.29, \"CAD\": 1.25},\n",
    "    \"EUR\": {\"USD\": 1.20, \"GBP\": 0.87, \"JPY\": 129.37, \"AUD\": 1.53, \"CAD\": 1.48},\n",
    "    \"GBP\": {\"USD\": 1.39, \"EUR\": 1.14, \"JPY\": 149.68, \"AUD\": 1.78, \"CAD\": 1.72},\n",
    "    \"JPY\": {\"USD\": 0.0091, \"EUR\": 0.0077, \"GBP\": 0.0067, \"AUD\": 0.012, \"CAD\": 0.011},\n",
    "    \"AUD\": {\"USD\": 0.77, \"EUR\": 0.65, \"GBP\": 0.56, \"JPY\": 82.93, \"CAD\": 0.97},\n",
    "    \"CAD\": {\"USD\": 0.80, \"EUR\": 0.68, \"GBP\": 0.58, \"JPY\": 89.45, \"AUD\": 1.03}\n",
    "}\n"
   ]
  },
  {
   "cell_type": "markdown",
   "id": "2d385dea",
   "metadata": {},
   "source": [
    "# Tuples"
   ]
  },
  {
   "cell_type": "markdown",
   "id": "b01bdc12",
   "metadata": {},
   "source": [
    "## Tuples - σημεία στο επίπεδο"
   ]
  },
  {
   "cell_type": "markdown",
   "id": "3da5ce4a",
   "metadata": {},
   "source": [
    "Δίνεται μια λίστα με σημεία στο καρτεσιανό επίπεδο, τα οποία αναπαρίστανται ως tuples της μορφής _(x, y)_ όπως στο η _points_ στο παράδειγμα. Γράψτε συνάρτηση _distanceFromOrigin(point)_ που υπολογίζει και επιστρέφει την απόσταση ενός σημείου από την αρχή των αξόνων χρησιμοποιώντας τον τύπο $d = \\sqrt{x^2 + y^2}$.\n",
    "\n",
    "Να δημιουργείται λίστα που αντί για τα ίδια τα σημεία να περιέχει τις παραπάνω αποστάσεις. Να εμφανίζεται, η μεγαλύτερη απόσταση.\n",
    "\n",
    "Παράδειγμα κλήσης:\n",
    "```\n",
    ">>> distanceFromOrigin((1, 2))\n",
    "\n",
    "2.23606797749979\n",
    "```"
   ]
  },
  {
   "cell_type": "code",
   "execution_count": null,
   "id": "6a646d99",
   "metadata": {},
   "outputs": [],
   "source": [
    "points = [(1, 2), (3, 4), (5, 1), (2, -3), (-1, -2)]"
   ]
  },
  {
   "cell_type": "code",
   "execution_count": null,
   "id": "e6a0f43e",
   "metadata": {},
   "outputs": [],
   "source": []
  },
  {
   "cell_type": "markdown",
   "id": "778db149",
   "metadata": {},
   "source": [
    "# Λίστα με tuples"
   ]
  },
  {
   "cell_type": "markdown",
   "id": "8c18cf67",
   "metadata": {},
   "source": [
    "Έστω μια λίστα με tuples, όπου κάθε `tuple` περιέχει το όνομα ενός προϊόντος, την κατηγορία του και την τιμή του όπως η _products_ του παραδείγματος.\n",
    "\n",
    "1. Βρείτε το συνολικό κόστος όλων των προϊόντων.\n",
    "\n",
    "2. Δημιουργήστε μία νέα λίστα που θα περιέχει μόνο τα προϊόντα κατηγορίας _Electronics_ που έχουν τιμή μεγαλύτερη από 100.\n",
    "\n",
    "3. Βρείτε το κόστος ανά κατηγορία."
   ]
  },
  {
   "cell_type": "code",
   "execution_count": null,
   "id": "a2f15330",
   "metadata": {},
   "outputs": [],
   "source": [
    "products = [\n",
    "    (\"Laptop\", \"Electronics\", 1200),\n",
    "    (\"Desk\", \"Furniture\", 200),\n",
    "    (\"Chair\", \"Furniture\", 100),\n",
    "    (\"Headphones\", \"Electronics\", 150),\n",
    "    (\"USB\", \"Electronics\", 70),\n",
    "    (\"Book\", \"Stationery\", 20),\n",
    "    (\"Pen\", \"Stationery\", 5)\n",
    "]"
   ]
  },
  {
   "cell_type": "code",
   "execution_count": null,
   "id": "7c78f621",
   "metadata": {},
   "outputs": [],
   "source": [
    "# 1\n"
   ]
  },
  {
   "cell_type": "code",
   "execution_count": null,
   "id": "db4869a4",
   "metadata": {},
   "outputs": [],
   "source": [
    "# 2\n"
   ]
  },
  {
   "cell_type": "code",
   "execution_count": null,
   "id": "27d5e4c6",
   "metadata": {},
   "outputs": [],
   "source": [
    "# 3\n"
   ]
  },
  {
   "cell_type": "markdown",
   "id": "2219563e",
   "metadata": {},
   "source": [
    "## Ρωμαική αρίθμηση"
   ]
  },
  {
   "cell_type": "markdown",
   "id": "9e78abac",
   "metadata": {},
   "source": [
    "Δίνεται λίστα πλειάδων στην οποία βρίσκονται ταξινομημένοι σε φθίνουσα σειρά δεκαδικοί αριθμοί με τους αντίστοιχους Ρωμαϊκούς αριθμούς.\n",
    "```\n",
    "romannumerals = [\n",
    "        (1000, 'M'), (900, 'CM'), (500, 'D'), (400, 'CD'),\n",
    "        (100, 'C'), (90, 'XC'), (50, 'L'), (40, 'XL'),\n",
    "        (10, 'X'), (9, 'IX'), (5, 'V'), (4, 'IV'), (1, 'I')\n",
    "    ]\n",
    "```\n",
    "\n",
    "Υλοποιήστε συνάρτηση, έστω _getRoman_ η οποία θα δέχεται ακέραιο αριθμό και θα επιστρέφει τον αντίστοιχο Ρωμαϊκό.  Θα πρέπει, επαναληπτικά, να ξεκινά από τη μεγαλύτερη τιμή και να αφαιρεί από τον δεκαδικό αριθμό ενώ προσθέτει το αντίστοιχο ρωμαϊκό σύμβολο στη μεταβλητή roman.\n",
    "\n",
    "\n",
    "Παράδειγμα κλήσης:\n",
    "```\n",
    ">>>getRoman(1234)\n",
    "\n",
    "'MCCXXXIV'\n",
    "```"
   ]
  },
  {
   "cell_type": "code",
   "execution_count": null,
   "id": "81e1c31d",
   "metadata": {},
   "outputs": [],
   "source": []
  },
  {
   "cell_type": "markdown",
   "id": "35245d2f",
   "metadata": {},
   "source": [
    "# Sets"
   ]
  },
  {
   "cell_type": "markdown",
   "id": "99a58b26",
   "metadata": {},
   "source": [
    "## Ξένα σύνολα"
   ]
  },
  {
   "cell_type": "markdown",
   "id": "8b70fc1e",
   "metadata": {},
   "source": [
    "Η μέθοδος `isdisjoint` χρησιμοποιείται για να ελέγξει αν δύο σύνολα είναι ξένα μεταξύ τους. Υλοποιήστε συνάρτηση _myDisjoint_ που να επιστρέφει _True_ αν δύο σύνολα που δέχεται ως παράμετρο είναι ξένα και False αν έχουν τουλάχιστον ένα κοινό σημείο.\n",
    "\n",
    "Παράδειγμα κλήσης:\n",
    "```\n",
    ">>> s1 = {1, 2, 3}\n",
    ">>> s2 = {3, 4, 5}\n",
    ">>> s3 = {4, 5, 6}\n",
    ">>> myDisjoint(s1, s2)\n",
    "\n",
    "False\n",
    "\n",
    ">>> myDisjoint(s1, s3)\n",
    "\n",
    "True\n",
    "\n",
    ">>> s1.isdisjoint(s2)\n",
    "\n",
    "False\n",
    "\n",
    ">>> s1.isdisjoint(s3)\n",
    "\n",
    "True\n",
    "```"
   ]
  },
  {
   "cell_type": "code",
   "execution_count": null,
   "id": "c1ed1b3a",
   "metadata": {},
   "outputs": [],
   "source": []
  },
  {
   "cell_type": "markdown",
   "id": "a9de000f",
   "metadata": {},
   "source": [
    "# Διαφορά, συμμετρική διαφορά"
   ]
  },
  {
   "cell_type": "markdown",
   "id": "d627e788",
   "metadata": {},
   "source": [
    "1. Γράψτε μια συνάρτηση _myDifference(a, b)_ που υπολογίζει τη διαφορά του συνόλου _a_ από το _b_, τα στοιχεία δηλαδή που ανήκουν στο a αλλά όχι στο b. Επαληθεύστε χρησιμοποιώντας την ενσωματωμένη μέθοδο `difference`.\n",
    "\n",
    "2. Γράψτε μια συνάρτηση _mySymmetricDifference(a, b)_ που υπολογίζει τη συμμετρική διαφορά των συνόλων _a_ και _b, τα στοιχεία δηλαδή που ανήκουν είτε στο a είτε στο b, αλλά όχι και στα δύο. Μπορείτε να κάνετε χρήση της _myDifference_ από το προηγούμενο ερώτημα. Επαληθεύστε χρησιμοποιώντας την ενσωματωμένη μέθοδο `symmetric_difference`.\n",
    "\n",
    "Παράδειγμα κλήσης:\n",
    "```\n",
    ">>> s1 = {1, 2, 3}\n",
    ">>> s2 = {3, 4, 5}\n",
    ">>> s3 = {4, 5, 6}\n",
    ">>> myDifference(s1,s2)\n",
    "\n",
    "{1, 2}\n",
    "\n",
    ">>> s1.difference(s2)\n",
    "\n",
    "{1, 2}\n",
    ">>> mySymmetricDifference(s1, s2)\n",
    "\n",
    "{1, 2, 4, 5}\n",
    "\n",
    ">>> s1.symmetric_difference(s2)\n",
    "\n",
    "{1, 2, 4, 5}\n",
    "```"
   ]
  },
  {
   "cell_type": "code",
   "execution_count": null,
   "id": "8ad819ab",
   "metadata": {},
   "outputs": [],
   "source": [
    "s1 = {1, 2, 3}\n",
    "s2 = {3, 4, 5}\n",
    "s3 = {4, 5, 6}"
   ]
  },
  {
   "cell_type": "code",
   "execution_count": null,
   "id": "20468353",
   "metadata": {},
   "outputs": [],
   "source": []
  },
  {
   "cell_type": "code",
   "execution_count": null,
   "id": "85540343",
   "metadata": {},
   "outputs": [],
   "source": []
  },
  {
   "cell_type": "markdown",
   "id": "487a917e",
   "metadata": {},
   "source": [
    "# Ομοιότητα Jaccard, Dice-Sorensen"
   ]
  },
  {
   "cell_type": "markdown",
   "id": "91f5cdfe",
   "metadata": {},
   "source": [
    "Η ομοιότητα, similarity Jaccard αποτελεί τρόπο υπολογισμού της ομοιότητας μεταξύ δύο συνόλων. Ο δείκτης κυμαίνεται από 0 έως 1, όπου τιμές κοντά στο 1 υποδηλώνουν μεγαλύτερη ομοιότητα μεταξύ των δύο συνόλων δεδομένων. Αν δύο σύνολα δεδομένων έχουν ακριβώς τα ίδια στοιχεία, τότε ο Δείκτης Ομοιότητας Jaccard θα είναι 1. Αν δεν έχουν κανένα κοινό στοιχείο, τότε ο Δείκτης Ομοιότητας Jaccard θα είναι 0. Δίνεται από τον τύπο:\n",
    "$$J(A, B) = \\frac{|A \\cap B|}{|A \\cup B|}$$\n",
    "\n",
    "Αντίστροφα η απόσταση, Jaccard distance, μετρά την ανομοιότητα δύο συνόλων και δίνεται: Jaccard Distance = 1 - J(A, B).\n",
    "\n",
    "Άλλος τρόπος μέτρησης της ομοιότητας και απόστασης δύο συνόλων αποτελεί ο συντελεστής Dice-Sorensen που δίνεται από τον τύπο: $\\displaystyle DS(A, B)={\\frac {2|A\\cap B|}{|A|+|B|}}$ με την απόσταση να είναι Dice-Sorensen Distance - DS(A, B).\n",
    "\n",
    "Να υλοποιηθεί:\n",
    "\n",
    "1. Συνάρτηση, _jaccardSimilarity_ η οποία δέχεται δύο σύνολα και επιστρέφει την ομοιότητα Jaccard.\n",
    "\n",
    "2. Συνάρτηση, _jaccardDistance_ που δέχεται δύο σύνολα και κάνοντας χρήση της παραπάνω συνάρτησης επιστρέφει την απόσταση Jaccard.\n",
    "\n",
    "3. Συνάρτηση, _dicesorensenSimilarity_ η οποία δέχεται δύο σύνολα και επιστρέφει την ομοιότητα Dice-Sorensen.\n",
    "\n",
    "4. Συνάρτηση, _dicesorensenDistance_ που δέχεται δύο σύνολα και κάνοντας χρήση της παραπάνω συνάρτησης επιστρέφει την απόσταση Dice-Sorensen.\n",
    "\n",
    "5. Στην συνέχεια δημιουργήστε δύο set με όλους τους περιττούς, έστω _odds_, και όλους τους πρώτους, έστω _primes_, αριθμούς μέχρι το 20 και καλώντας κατάλληλα τις παραπάνω συναρτήσεις βρείτε τις ομοιότητες και αποστάσεις Jaccard και Dice-Sorensen μεταξύ τους.\n",
    "\n",
    "Παράδειγμα κλήσης:\n",
    "```\n",
    ">>>jaccardSimilarity(odds,primes)\n",
    "\n",
    "0.6363636363636364\n",
    ">>>jaccardDistance(odds,primes)\n",
    "\n",
    "0.36363636363636365\n",
    "\n",
    ">>>dicesorensenSimilarity(odds,primes)\n",
    "\n",
    "0.7777777777777778\n",
    ">>>dicesorensenDistance(odds,primes)\n",
    "\n",
    "0.2222222222222222\n",
    "```"
   ]
  },
  {
   "cell_type": "code",
   "execution_count": null,
   "id": "c9ea664c",
   "metadata": {},
   "outputs": [],
   "source": []
  },
  {
   "cell_type": "markdown",
   "id": "e9042b37",
   "metadata": {},
   "source": [
    "# comprehension"
   ]
  },
  {
   "cell_type": "markdown",
   "id": "3028727b",
   "metadata": {},
   "source": [
    "## *Τέλεια τετράγωνα"
   ]
  },
  {
   "cell_type": "markdown",
   "id": "c3fa4e36",
   "metadata": {},
   "source": [
    "Υλοποιήστε τμήμα κώδικα το οποίο να δημιουργεί με τεχνική comprehension λίστα με όλα τα τέλεια τετράγωνα σε ένα εύρος [st,end]."
   ]
  },
  {
   "cell_type": "code",
   "execution_count": null,
   "id": "252cbba6",
   "metadata": {},
   "outputs": [],
   "source": []
  },
  {
   "cell_type": "markdown",
   "id": "abb60e46",
   "metadata": {},
   "source": [
    "## *Ισχυροί αριθμοί, strong numbers"
   ]
  },
  {
   "cell_type": "markdown",
   "id": "bcdc9df0",
   "metadata": {},
   "source": [
    "Ένας αριθμός λέγεται ισχυρός αριθμός, strong number, αν ισούται με το άθροισμα των παραγοντικών των ψηφίων του.\n",
    "\n",
    "Παράδειγμα:\n",
    "\n",
    "145=1!+4!+5!=1+24+120=145\n",
    "\n",
    "1. Να γραφεί συνάρτηση, έστω _isStrong_, η οποία δέχεται έναν φυσικό αριθμό _n_ και επιστρέφει True αν ο αριθμός είναι ισχυρός.\n",
    "\n",
    "Παράδειγμα κλήσης:\n",
    "```\n",
    ">>>isStrong(145)\n",
    "\n",
    "True\n",
    "```\n",
    "2. Με τη βοήθεια της συνάρτησης και list comprehension να δημιουργηθεί λίστα με όλους τους ισχυρούς αριθμούς στο διάστημα \n",
    "[1,1.000.000].\n",
    "\n",
    "Παράδειγμα αποτελέσματος\n",
    "```\n",
    "Strong numbers: [1, 2, 145, 40585]\n",
    "```"
   ]
  },
  {
   "cell_type": "code",
   "execution_count": null,
   "id": "b22dc5d8",
   "metadata": {},
   "outputs": [],
   "source": []
  },
  {
   "cell_type": "markdown",
   "id": "97f6f5a9",
   "metadata": {},
   "source": [
    "## any, all"
   ]
  },
  {
   "cell_type": "markdown",
   "id": "811940b3",
   "metadata": {},
   "source": [
    "Δίνεται μία λίστα λεξικών με το κάθε λεξικό να περιλαμβάνει πληροφορίες για διάφορους ποδοσφαιριστές. Κάθε ένας έχει τα επόμενα χαρακτηριστικά:\n",
    "\n",
    "- **position**: Η θέση που παίζει, π.χ., \"Forward\", \"Midfielder\", \"Defender\"\n",
    "\n",
    "- **pace**: Η ταχύτητα, ρυθμός του παίκτη σε μονάδες, π.χ., 85, 70, 60.\n",
    "\n",
    "- **years_pro**: Τα έτη που έχει παίξει επαγγελματικά (π.χ., 5, 10, 15)\n",
    "\n",
    "- **teams**: Λίστα με τις ομάδες που έχει αγωνιστεί, π.χ., [\"Barcelona\", \"Manchester United\"]\n",
    "\n",
    "- **birth_year**: Το έτος γέννησης του παίκτη, π.χ., 1998, 2000, 1985\n",
    "\n",
    "Γράψτε ένα πρόγραμμα που θα ελέγχει, χρησιμοποιώντας τις συναρτήσεις `all` και `any`, αν υπάρχει τουλάχιστον ένας παίκτης, `any`, που ικανοποιεί κάποια κριτήρια και αν όλοι οι παίκτες, `all` πληρούν συγκεκριμένες προϋποθέσεις.\n",
    "\n",
    "Παράδειγμα κριτηρίων:\n",
    "\n",
    "1. Όλοι οι παίκτες έχουν pace πάνω από 80.\n",
    "\n",
    "2. Υπάρχει παίκτης με pace πάνω από 90.\n",
    "\n",
    "3. Όλοι οι παίκτες έχουν αγωνιστεί σε περισσότερες από μία ομάδες.\n",
    "\n",
    "4. Υπάρχει παίκτης που έχει αγωνιστεί σε περισσότερες από πέντε ομάδες.\n",
    "\n",
    "5. Όλοι οι παίκτες έχουν τουλάχιστον 5 χρόνια εμπειρίας.\n",
    "\n",
    "6. Υπάρχει παίκτης κάτω των 25 ετών\n",
    "\n",
    "7. Υπάρχει επιθετικός κάτω των 25 με τουλάχιστον 2 χρόνια εμπειρίας."
   ]
  },
  {
   "cell_type": "code",
   "execution_count": null,
   "id": "8b59ebc1",
   "metadata": {},
   "outputs": [],
   "source": [
    "players = [\n",
    "    {\"name\": \"Messi\", \"position\": \"Forward\", \"pace\": 85, \"years_pro\": 18, \n",
    "     \"teams\": [\"Barcelona\", \"PSG\"], \"birth_year\": 1987},\n",
    "    {\"name\": \"Ronaldo\", \"position\": \"Forward\", \"pace\": 90, \"years_pro\": 20, \n",
    "     \"teams\": [\"Sporting CP\", \"Manchester United\", \"Real Madrid\", \"Juventus\", \"Al Nassr\"], \"birth_year\": 1985},\n",
    "    {\"name\": \"Mbappe\", \"position\": \"Forward\", \"pace\": 96, \"years_pro\": 7, \n",
    "     \"teams\": [\"Monaco\", \"PSG\"], \"birth_year\": 1998},\n",
    "    {\"name\": \"Haaland\", \"position\": \"Forward\", \"pace\": 88, \"years_pro\": 6, \n",
    "     \"teams\": [\"Molde\", \"RB Salzburg\", \"Dortmund\", \"Manchester City\"], \"birth_year\": 2000},\n",
    "    {\"name\": \"Modric\", \"position\": \"Midfielder\", \"pace\": 70, \"years_pro\": 17, \n",
    "     \"teams\": [\"Dinamo Zagreb\", \"Tottenham\", \"Real Madrid\"], \"birth_year\": 1985},\n",
    "    {\"name\": \"Pique\", \"position\": \"Defender\", \"pace\": 60, \"years_pro\": 15, \n",
    "     \"teams\": [\"Manchester United\", \"Barcelona\"], \"birth_year\": 1987},\n",
    "    {\"name\": \"Bellingham\", \"position\": \"Midfielder\", \"pace\": 79, \"years_pro\": 5, \n",
    "     \"teams\": [\"Birmingham\", \"Dortmund\", \"Real Madrid\"], \"birth_year\": 2003},\n",
    "    {\"name\": \"Pedri\", \"position\": \"Midfielder\", \"pace\": 76, \"years_pro\": 4, \n",
    "     \"teams\": [\"Las Palmas\", \"Barcelona\"], \"birth_year\": 2002}\n",
    "]"
   ]
  },
  {
   "cell_type": "code",
   "execution_count": null,
   "id": "824241c2",
   "metadata": {},
   "outputs": [],
   "source": []
  }
 ],
 "metadata": {
  "kernelspec": {
   "display_name": "Python 3 (ipykernel)",
   "language": "python",
   "name": "python3"
  },
  "language_info": {
   "codemirror_mode": {
    "name": "ipython",
    "version": 3
   },
   "file_extension": ".py",
   "mimetype": "text/x-python",
   "name": "python",
   "nbconvert_exporter": "python",
   "pygments_lexer": "ipython3",
   "version": "3.11.4"
  }
 },
 "nbformat": 4,
 "nbformat_minor": 5
}
