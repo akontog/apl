{
 "cells": [
  {
   "cell_type": "markdown",
   "id": "ce384ddc",
   "metadata": {},
   "source": [
    "<div style=\"padding:20px 0px 20px 0px; text-align:center; font-weight: bold; font-size:170%; background-color: #2d8077; color:#f0b439;\">\n",
    "03.<br>\n",
    "<span style=\"color:#ffffcc;\">Δομές δεδομένων, data structures (εργαστήριο)</span>\n",
    "</div>"
   ]
  },
  {
   "cell_type": "markdown",
   "id": "a3f42c25-2475-4a1b-9e1d-572526fc18c0",
   "metadata": {},
   "source": [
    "# Λίστες"
   ]
  },
  {
   "cell_type": "markdown",
   "id": "73a59c5a",
   "metadata": {},
   "source": [
    "## Αντιστροφή"
   ]
  },
  {
   "cell_type": "markdown",
   "id": "ade68bf9",
   "metadata": {},
   "source": [
    "Έστω λίστα  L = [10,20,30,40,50]. Αντιστρέψτε την με όσο περισσότερυς τρόπους μπορείτε."
   ]
  },
  {
   "cell_type": "code",
   "execution_count": 1,
   "id": "34899387",
   "metadata": {},
   "outputs": [
    {
     "data": {
      "text/plain": [
       "[50, 40, 30, 20, 10]"
      ]
     },
     "execution_count": 1,
     "metadata": {},
     "output_type": "execute_result"
    }
   ],
   "source": [
    "# Χρήση του reverse()\n",
    "L = [10, 20, 30, 40, 50]\n",
    "L.reverse()\n",
    "L"
   ]
  },
  {
   "cell_type": "code",
   "execution_count": 3,
   "id": "c52de3d9",
   "metadata": {},
   "outputs": [
    {
     "data": {
      "text/plain": [
       "[50, 40, 30, 20, 10]"
      ]
     },
     "execution_count": 3,
     "metadata": {},
     "output_type": "execute_result"
    }
   ],
   "source": [
    "# Χρήση της reversed()\n",
    "L = [10, 20, 30, 40, 50]\n",
    "reversedL = list(reversed(L))\n",
    "reversedL"
   ]
  },
  {
   "cell_type": "code",
   "execution_count": 2,
   "id": "79c66255",
   "metadata": {},
   "outputs": [
    {
     "data": {
      "text/plain": [
       "[50, 40, 30, 20, 10]"
      ]
     },
     "execution_count": 2,
     "metadata": {},
     "output_type": "execute_result"
    }
   ],
   "source": [
    "# Χρήση slicing\n",
    "L = [10, 20, 30, 40, 50]\n",
    "reversedL = L[::-1]\n",
    "reversedL"
   ]
  },
  {
   "cell_type": "code",
   "execution_count": 4,
   "id": "12fdb9c2",
   "metadata": {},
   "outputs": [
    {
     "data": {
      "text/plain": [
       "[50, 40, 30, 20, 10]"
      ]
     },
     "execution_count": 4,
     "metadata": {},
     "output_type": "execute_result"
    }
   ],
   "source": [
    "# χρήση for, εισαγωγή στην αρχή\n",
    "L = [10, 20, 30, 40, 50]\n",
    "reversedL = []\n",
    "for item in L:\n",
    "    reversedL.insert(0, item)\n",
    "reversedL"
   ]
  },
  {
   "cell_type": "code",
   "execution_count": 5,
   "id": "d4526849",
   "metadata": {},
   "outputs": [
    {
     "data": {
      "text/plain": [
       "[50, 40, 30, 20, 10]"
      ]
     },
     "execution_count": 5,
     "metadata": {},
     "output_type": "execute_result"
    }
   ],
   "source": [
    " # List Comprehension\n",
    "L = [10, 20, 30, 40, 50]\n",
    "reversedL = [L[i] for i in range(len(L)-1, -1, -1)]\n",
    "reversedL"
   ]
  },
  {
   "cell_type": "code",
   "execution_count": 8,
   "id": "67e526b2",
   "metadata": {},
   "outputs": [
    {
     "data": {
      "text/plain": [
       "[50, 40, 30, 20, 10]"
      ]
     },
     "execution_count": 8,
     "metadata": {},
     "output_type": "execute_result"
    }
   ],
   "source": [
    "# Αναδρομικά\n",
    "def reverseList(L):\n",
    "    if len(L) == 0:\n",
    "        return []\n",
    "    return [L[-1]] + reverseList(L[:-1])\n",
    "\n",
    "L = [10, 20, 30, 40, 50]\n",
    "reversedL = reverseList(L)\n",
    "reversedL"
   ]
  },
  {
   "cell_type": "code",
   "execution_count": 9,
   "id": "4dfa1470",
   "metadata": {},
   "outputs": [
    {
     "data": {
      "text/plain": [
       "[50, 40, 30, 20, 10]"
      ]
     },
     "execution_count": 9,
     "metadata": {},
     "output_type": "execute_result"
    }
   ],
   "source": [
    "# με χρήση στοίβας\n",
    "L = [10, 20, 30, 40, 50]\n",
    "stack = []\n",
    "for item in L:\n",
    "    stack.append(item)\n",
    "reversedL = []\n",
    "while stack:\n",
    "    reversedL.append(stack.pop())\n",
    "reversedL"
   ]
  },
  {
   "cell_type": "markdown",
   "id": "d81de66c",
   "metadata": {},
   "source": [
    "## Ακρωνύμιο"
   ]
  },
  {
   "cell_type": "markdown",
   "id": "452c29c1",
   "metadata": {},
   "source": [
    "Αρκτικόλεξο ή ακρωνύμιο ονομάζεται ο σύντομος τρόπος γραφής που παράγεται απo τα αρχικά γράμματα ή τις συλλαβές των λέξεων μιας επωνυμίας ή και φράσης που γράφεται πάντα με κεφαλαία γράμματα. Υλοποιήστε συνάρτηση η οποία θα δέχεται μία φράση σε `str` και θα επιστρέφει το ακρωνύμιό της. Παράδειγμα κλήσης\n",
    "`>>>getAcronym('laughing out loud')`\n",
    "`LOL`"
   ]
  },
  {
   "cell_type": "markdown",
   "id": "5747978a",
   "metadata": {},
   "source": [
    "## Λύση"
   ]
  },
  {
   "cell_type": "code",
   "execution_count": 5,
   "id": "0178ea5e",
   "metadata": {},
   "outputs": [
    {
     "name": "stdout",
     "output_type": "stream",
     "text": [
      "LOL\n"
     ]
    }
   ],
   "source": [
    "def getAcronym(phrase):\n",
    "    # φράση -> λίστα λέξεων\n",
    "    words = phrase.split()\n",
    "    # πρώτο γράμμα κάθε λέξης -> κεφαλαίο\n",
    "    acronym = ''.join(word[0].upper() for word in words)\n",
    "    return acronym\n",
    "print(getAcronym('laughing out loud'))"
   ]
  },
  {
   "cell_type": "markdown",
   "id": "a5e3cb4c",
   "metadata": {},
   "source": [
    "## SpongeCase"
   ]
  },
  {
   "cell_type": "markdown",
   "id": "094932fb",
   "metadata": {},
   "source": [
    "Τα Sponge case είναι ένας τρόπος παρουσίασης κειμένου κατά τον οποίο τα γράμματα εναλλάσονται από πεζά σε κεφαλαία. Παράδειγμα 'hElLo WoRlD'. Να γραφεί συνάρτηση η οποία δέχεται ένα κείμενο, το μετατρέπει σε Sponge case και το επιστρέφει."
   ]
  },
  {
   "cell_type": "markdown",
   "id": "ec15347a",
   "metadata": {},
   "source": [
    "## Λύση"
   ]
  },
  {
   "cell_type": "code",
   "execution_count": 10,
   "id": "f9ab2344",
   "metadata": {},
   "outputs": [
    {
     "data": {
      "text/plain": [
       "'hElLo WoRlD'"
      ]
     },
     "execution_count": 10,
     "metadata": {},
     "output_type": "execute_result"
    }
   ],
   "source": [
    "def spongecase(text):\n",
    "    result = []\n",
    "    i = 0\n",
    "    for char in text:\n",
    "        if char.isalpha():\n",
    "            if i % 2 == 0:\n",
    "                result.append(char.lower())\n",
    "            else:\n",
    "                result.append(char.upper())\n",
    "            i += 1\n",
    "        else:\n",
    "            result.append(char)\n",
    "\n",
    "    return \"\".join(result)\n",
    "spongecase(\"Hello World\")"
   ]
  },
  {
   "cell_type": "markdown",
   "id": "937bbdc3",
   "metadata": {},
   "source": [
    "## Ταξινομημένη λίστα"
   ]
  },
  {
   "cell_type": "markdown",
   "id": "0377c6bb",
   "metadata": {},
   "source": [
    "Να γραφεί συνάρτηση η οποία να ελέγχει εάν μία λίστα που δέχεται σαν παράμετρο είναι ταξινομημένη είτε σε φθίνουσα είτε σε αύξουσα σειρά. Να επιστρέφει True ή False αντίστοιχα."
   ]
  },
  {
   "cell_type": "markdown",
   "id": "e9cb246a",
   "metadata": {},
   "source": [
    "## Λύση"
   ]
  },
  {
   "cell_type": "code",
   "execution_count": 1,
   "id": "62453b52",
   "metadata": {},
   "outputs": [],
   "source": [
    "def isSorted(L):\n",
    "    asc, desc = True, True\n",
    "    N = len(L)\n",
    "    for i in range(N - 1):\n",
    "        if L[i] > L[i + 1]:\n",
    "            asc = False\n",
    "            break\n",
    "    for i in range(N - 1):\n",
    "        if L[i] < L[i + 1]:\n",
    "            desc = False\n",
    "            break\n",
    "    return asc or desc"
   ]
  },
  {
   "cell_type": "code",
   "execution_count": 4,
   "id": "e6545cf8",
   "metadata": {},
   "outputs": [
    {
     "name": "stdout",
     "output_type": "stream",
     "text": [
      "True\n",
      "False\n",
      "True\n"
     ]
    }
   ],
   "source": [
    "print(isSorted([5,4,2,1]))\n",
    "print(isSorted([5,4,6,1]))\n",
    "print(isSorted([1,2,4,5]))"
   ]
  },
  {
   "cell_type": "markdown",
   "id": "cfb4b01a",
   "metadata": {},
   "source": [
    "## Κόσκινο του Ερατοσθένη"
   ]
  },
  {
   "cell_type": "markdown",
   "id": "7a1951c9",
   "metadata": {},
   "source": [
    "Παράδειγμα\n",
    "\n",
    "Το \"Κόσκινο του Ερατοσθένη\" αποτελεί έναν αλγόριθμο για την εύρεση όλων των πρώτων αριθμών μέχρι έναν συγκεκριμένο ακέραιο. Θα δημιουρήσουμε συνάρτηση η οποία θα δέχεται έναν αριθμό και θα επιστρέφει μία λίστα με όλους τους πρώτους μέχρι τον αριθμό αυτό.\n",
    "\n",
    "1. Δημιουργούμε μια λίστα από διαδοχικούς ακέραιους από το 2 μέχρι το m: (2, 3, 4, ..., m).\n",
    "\n",
    "2. Αρχικά, το p είναι ίσο με 2, τον 1ο πρώτο αριθμό,\n",
    "\n",
    "3. Διαγράφουμε από τη λίστα όλα τα πολλαπλάσια του p στη λίστα (2p, 3p, 4p, κτλ)\n",
    "\n",
    "4. Βρίσκουμε τον 1ο αριθμό που απομένει στη λίστα μετά τον p (αυτός ο αριθμός είναι ο επόμενος πρώτος αριθμός) και αντικαθιστούμε το p με αυτόν τον αριθμό.\n",
    "\n",
    "5. Επαναλαμβάνουμε τα βήματα 3 και 4 μέχρι το 𝑝2 να είναι μεγαλύτερο από n.\n",
    "\n",
    "6. Όλοι οι αριθμοί που απομένουν στη λίστα είναι πρώτοι αριθμοί.\n"
   ]
  },
  {
   "cell_type": "code",
   "execution_count": 1,
   "id": "40717025",
   "metadata": {},
   "outputs": [
    {
     "data": {
      "text/plain": [
       "[2, 3, 5, 7, 11, 13, 17, 19, 23, 29]"
      ]
     },
     "execution_count": 1,
     "metadata": {},
     "output_type": "execute_result"
    }
   ],
   "source": [
    "def eratosthenesSieve(m):\n",
    "    # Δημιουργούμε τη λίστα με τους αριθμούς από 2 έως n\n",
    "    sieve = list(range(2, m + 1))\n",
    "    \n",
    "    # Κόσκινο του Ερατοσθένη\n",
    "    for p in range(2, int(m**0.5) + 1):\n",
    "        if p in sieve:  \n",
    "            # Διαγράφουμε όλα τα πολλαπλάσια του p (εκτός του ίδιου του p) ουσιαστικά κρατώντας τα υπόλοιπα \n",
    "            sieve = [x for x in sieve if x == p or x % p != 0]\n",
    "    \n",
    "    return sieve\n",
    "eratosthenesSieve(30)"
   ]
  },
  {
   "cell_type": "markdown",
   "id": "4d886dc3",
   "metadata": {},
   "source": [
    "## Υπακολουθίες με άθροισμα"
   ]
  },
  {
   "cell_type": "markdown",
   "id": "f02f490a",
   "metadata": {},
   "source": [
    "Να γραφεί πρόγραμμα σε Python το οποίο θα φτιάχνει μια λίστα (data) με N τυχαίους ακεραίους στο διάστημα [−10, 10].\n",
    "\n",
    "Στη συνέχεια δημιουργήστε συνάρτηση _findsubsequences_ που Θα ζητάει από τον χρήστη έναν ακέραιο αριθμό (check) και θα τυπώνει όλες τις υπακολουθίες στοιχείων της λίστας που έχουν άθροισμα check. Για παράδειγμα για τη λίστα [ 4, 2, -3, -1, 0, 4 ] και για check = 0 η συνάρτηση θα τυπώνει\n",
    "\n",
    "- [ -3 -1 0 4 ]\n",
    "\n",
    "- [ 0 ]\n",
    "\n",
    "Σημείωση: Θα χρειαστείτε την βιβλιοθήκη random και τις μεθόδους της random.randint(-10, 10), για παραγωγή τυχαίων αριθμών, και random.seed(s) αν θέλετε να παράγετε την ίδια ακολουθία κάθε φορά για έλεγχο ορθότητας."
   ]
  },
  {
   "cell_type": "code",
   "execution_count": 5,
   "id": "beecfeae",
   "metadata": {},
   "outputs": [
    {
     "name": "stdout",
     "output_type": "stream",
     "text": [
      "[9, 5, 9, 6, 2, -4, 3, 2, 8, 8]\n",
      "Υπακολουθίες με άθροισμα 10\n",
      "[2, 8]\n"
     ]
    }
   ],
   "source": [
    "      \n",
    "def findSubsequences(data, check):\n",
    "    print('Υπακολουθίες με άθροισμα',check)\n",
    "    found = False\n",
    "    for i in range(len(data)):\n",
    "        current_sum = 0\n",
    "        current_sequence = []\n",
    "        for j in range(i, len(data)):\n",
    "            current_sum += data[j]\n",
    "            current_sequence.append(data[j])\n",
    "            if current_sum == check:\n",
    "                print(current_sequence)\n",
    "                found = True\n",
    "    if not found:\n",
    "        print(\"Δεν βρέθηκαν υπακολουθίες.\")\n",
    "\n",
    "import random\n",
    "N = 10\n",
    "#random.seed(s)\n",
    "data = [random.randint(-10, 10) for _ in range(N)]\n",
    "print(data)\n",
    "\n",
    "check = 10\n",
    "findSubsequences(data, check)"
   ]
  },
  {
   "cell_type": "markdown",
   "id": "06d3fb2c",
   "metadata": {},
   "source": [
    "## Λίστα σε λίστα"
   ]
  },
  {
   "cell_type": "markdown",
   "id": "ff362d44",
   "metadata": {},
   "source": [
    "Να γραφεί συνάρτηση _listInList_ η οποία θα δέχεται δύο λίστες και θα ελέγχει εάν η πρώτη λίστα περιέχεται μέσα στην άλλη επιστρέφοντας True ή False αντίστοιχα.\n",
    "\n",
    "Για παράδειγμα για τη λίστα:\n",
    "\n",
    "origList = [ 1, 2, 3, 4, 5, 6, 7, 8, 9, 10 ]\n",
    "\n",
    "για τις παρακάτω λίστες θα επιστρέψει\n",
    "\n",
    "- subList1 = [ 1 ] ← True\n",
    "\n",
    "- subList2 = [ 3, 4, 5 ] ← True\n",
    "\n",
    "- subList3 = [ 3, 7, 8 ] ← False"
   ]
  },
  {
   "cell_type": "code",
   "execution_count": 2,
   "id": "408996fc",
   "metadata": {},
   "outputs": [
    {
     "name": "stdout",
     "output_type": "stream",
     "text": [
      "True\n",
      "True\n",
      "False\n"
     ]
    }
   ],
   "source": [
    "def listInList(origList, subList):\n",
    "    for i in range(len(origList) - len(subList) + 1):\n",
    "        if origList[i:i + len(subList)] == subList:\n",
    "            return True\n",
    "    return False\n",
    "\n",
    "origList = [1, 2, 3, 4, 5, 6, 7, 8, 9, 10]\n",
    "\n",
    "subList1 = [1]\n",
    "subList2 = [3, 4, 5]\n",
    "subList3 = [3, 7, 8]\n",
    "\n",
    "print(listInList(origList, subList1))\n",
    "print(listInList(origList, subList2))\n",
    "print(listInList(origList, subList3))\n"
   ]
  },
  {
   "cell_type": "markdown",
   "id": "b0add7c1",
   "metadata": {},
   "source": [
    "## Αντιστροφή με στοίβα"
   ]
  },
  {
   "cell_type": "markdown",
   "id": "37de0ab6",
   "metadata": {},
   "source": [
    "Να γράψετε συνάρτηση _reverse_ η οποία θα δέχεται ένα string και θα το εμφανίζει αντεστραμμένο, με τη χρήση στοίβας."
   ]
  },
  {
   "cell_type": "code",
   "execution_count": 11,
   "id": "fa556e91",
   "metadata": {},
   "outputs": [
    {
     "data": {
      "text/plain": [
       "'somas'"
      ]
     },
     "execution_count": 11,
     "metadata": {},
     "output_type": "execute_result"
    }
   ],
   "source": [
    "def reverse(word):\n",
    "    # Δημιουργούμε μια κενή στοίβα\n",
    "    stack = []\n",
    "    \n",
    "    # Προσθέτουμε κάθε χαρακτήρα του string στη στοίβα\n",
    "    for char in word:\n",
    "        stack.append(char)\n",
    "    \n",
    "    # Αφαιρούμε τους χαρακτήρες από τη στοίβα για να δημιουργήσουμε την αντεστραμμένη λέξη\n",
    "    reversed_word = \"\"\n",
    "    while stack:\n",
    "        reversed_word += stack.pop()\n",
    "    \n",
    "    return reversed_word\n",
    "reverse('samos')"
   ]
  },
  {
   "cell_type": "markdown",
   "id": "ff769afb",
   "metadata": {},
   "source": [
    "## Όλα διαφορετικά"
   ]
  },
  {
   "cell_type": "markdown",
   "id": "56ed2270",
   "metadata": {},
   "source": [
    "Να γραφεί συνάρτηση _allDifferent_ η οποία να δέχεται μία λίστα, έστω L και να επιστρέφει True αν όλα τα στοιχεία της λίστας είναι διαφορετικά ή False αν βρεί έστω δύο ίδια.\n",
    "\n",
    "- Α = [3   5   2   4   1   9   6   8   0   7] <- True\n",
    "\n",
    "- Α = [3   5   2   4   2   9   6   8   0   7] <- False"
   ]
  },
  {
   "cell_type": "code",
   "execution_count": 12,
   "id": "90d50545",
   "metadata": {},
   "outputs": [
    {
     "data": {
      "text/plain": [
       "(True, False)"
      ]
     },
     "execution_count": 12,
     "metadata": {},
     "output_type": "execute_result"
    }
   ],
   "source": [
    "def allDifferent(L):\n",
    "    seen = []\n",
    "    for item in L:\n",
    "        if item in seen:\n",
    "            return False\n",
    "        seen.append(item)\n",
    "    return True\n",
    "allDifferent([3, 5, 2, 4, 1, 9, 6, 8, 0, 7]),allDifferent([3, 5, 2, 4, 2, 9, 6, 8, 0, 7])"
   ]
  },
  {
   "cell_type": "markdown",
   "id": "0ad240d1",
   "metadata": {},
   "source": [
    "## Τρέχων μέσος"
   ]
  },
  {
   "cell_type": "markdown",
   "id": "1f20408d",
   "metadata": {},
   "source": [
    "Έστω λίστα Α[Ν], καθώς και λίστα Β[Ν-1]. Να γραφεί συνάρτηση _currentAVG_ η οποία να δέχεται ως παραμέτρους δύο λίστες και να ελέγχει αν κάθε στοιχείο Β[i] είναι ο μέσος όρος των στοιχείων Α[i] και Α[i+1], δηλαδή αν Β[i] = (Α[i] + Α[i+1])/2. Σε περίπτωση που ισχύει να επιστρέφει True, διαφορετικά False. \n",
    "\n",
    "Δοκιμάστε την συνάρτησή σας για τις επόμενες λίστες.\n"
   ]
  },
  {
   "cell_type": "code",
   "execution_count": null,
   "id": "3317d825",
   "metadata": {},
   "outputs": [],
   "source": [
    "A = [1, 3, 5, 10, 15]\n",
    "B = [2, 4, 7.5, 12.5]"
   ]
  },
  {
   "cell_type": "code",
   "execution_count": 6,
   "id": "2b1af373-e808-4824-8c7e-f2037c78f78e",
   "metadata": {},
   "outputs": [
    {
     "name": "stdout",
     "output_type": "stream",
     "text": [
      "Η λίστα Β είναι ο τρέχων μέσος του Α\n"
     ]
    }
   ],
   "source": [
    "def currentAVG(A, B):\n",
    "    # Ελέγχουμε αν το μέγεθος της λίστας B είναι N-1, όπου N το μέγεθος της λίστας A\n",
    "    if len(B) != len(A) - 1:\n",
    "        return False\n",
    "    \n",
    "    # Ελέγχουμε αν η σχέση ισχύει για κάθε στοιχείο της B\n",
    "    for i in range(len(B)):\n",
    "        if B[i] != (A[i] + A[i+1]) / 2:\n",
    "            return False\n",
    "    \n",
    "    # Αν η σχέση ισχύει για όλα τα στοιχεία\n",
    "    return True\n",
    "\n",
    "# Δοκιμή με τις λίστές A και B\n",
    "A = [1, 3, 5, 10, 15]\n",
    "B = [2, 4, 7.5, 12.5]\n",
    "\n",
    "if currentAVG(A, B):\n",
    "    print(\"Η λίστα Β είναι ο τρέχων μέσος του Α\")\n",
    "else:\n",
    "    print(\"Η λίστα Β δεν είναι ο τρέχων μέσος του Α\")"
   ]
  },
  {
   "cell_type": "markdown",
   "id": "db529fcf-4829-4c55-9be8-d9638a2f3cb0",
   "metadata": {},
   "source": [
    "# Λεξικά"
   ]
  },
  {
   "cell_type": "markdown",
   "id": "a63d6ff4",
   "metadata": {},
   "source": [
    "## Απλές ασκήσεις με λεξικά"
   ]
  },
  {
   "cell_type": "markdown",
   "id": "fc3300ff-bb30-47c4-b8f4-788853b9b244",
   "metadata": {},
   "source": [
    "α. Συνδιάστε δύο λεξικά σε ένα. Στο λεξικό που θα προκύψει οι τιμές των κοινών κλειδιών θα προστεθούν.\n",
    "Για παράδειγμα, αν \n",
    "\n",
    "- d1 = {'a': 1, 'b': 2, 'c': 3} και\n",
    "\n",
    "- d2 = {'a': 3, 'b': 2, 'd': 4} θα πρέπει να προκύψει το λεξικό: \n",
    "\n",
    "- {'a': 4, 'b': 4, 'c': 3, 'd': 4}"
   ]
  },
  {
   "cell_type": "code",
   "execution_count": 6,
   "id": "67e946f3-7e77-42d2-8729-275af475bba8",
   "metadata": {},
   "outputs": [
    {
     "data": {
      "text/plain": [
       "{'a': 4, 'b': 4, 'c': 3, 'd': 4}"
      ]
     },
     "execution_count": 6,
     "metadata": {},
     "output_type": "execute_result"
    }
   ],
   "source": [
    "d1 = {'a': 1, 'b': 2, 'c': 3}\n",
    "d2 = {'a': 3, 'b': 2, 'd': 4}\n",
    "def combine_dicts(dict1, dict2):\n",
    "    combined_dict = dict1.copy()\n",
    "    \n",
    "    for key, value in dict2.items():\n",
    "        if key in combined_dict:\n",
    "            combined_dict[key] += value\n",
    "        else:\n",
    "            combined_dict[key] = value\n",
    "    \n",
    "    return combined_dict\n",
    "combine_dicts(d1, d2)"
   ]
  },
  {
   "cell_type": "markdown",
   "id": "99e31678-ffdb-41cd-bfa5-6d61796d68c5",
   "metadata": {},
   "source": [
    "β. Υλοποιήστε συνάρτηση η οποία θα δέχεται ένα λεξικό, _d_, και θα δημιουργεί ένα νέο λεξικό το οποίο θα έχει για κλειδιά τις τιμές του _d_ και για τιμές την συχνότητα εμφάνισης των τιμών στο _d_. Για παράδειγμα για είσοδο:\n",
    "\n",
    "- {'a': 1, 'b': 2, 'c': 1, 'd': 3, 'e': 2, 'f': 3, 'g': 1} θα πρέπει να προκύψει το λεξικό:\n",
    "\n",
    "- {1: 3, 2: 2, 3: 2}"
   ]
  },
  {
   "cell_type": "code",
   "execution_count": 1,
   "id": "9ac9920b-b080-4d3a-84fe-1bd2c8d207e5",
   "metadata": {},
   "outputs": [
    {
     "data": {
      "text/plain": [
       "{1: 3, 2: 2, 3: 2}"
      ]
     },
     "execution_count": 1,
     "metadata": {},
     "output_type": "execute_result"
    }
   ],
   "source": [
    "d = {'a': 1, 'b': 2, 'c': 1, 'd': 3, 'e': 2, 'f': 3, 'g': 1}\n",
    "def count_value_frequencies(input_dict):\n",
    "    freq = {}\n",
    "    for value in input_dict.values():\n",
    "        if value in freq:\n",
    "            freq[value] += 1\n",
    "        else:\n",
    "            freq[value] = 1\n",
    "    \n",
    "    return frequency\n",
    "count_value_frequencies(d)"
   ]
  },
  {
   "cell_type": "markdown",
   "id": "e0aee409",
   "metadata": {},
   "source": [
    "γ. Να υλοποιηθεί συνάρτηση η οποία θα δέχεται ένα λεξικό και θα επιστρέφει ένα νέο λεξικό που θα περιλαμβάνει μόνο τα στοιχεία των οποίων η τιμή είναι άρτια. Για παράδειγμα για το:\n",
    "\n",
    "- d = {'a': 10, 'b': 15, 'c': 20, 'd': 25, 'e': 30} θα επιστρέφει:\n",
    "\n",
    "- {'a': 10, 'c': 20, 'e': 30}"
   ]
  },
  {
   "cell_type": "code",
   "execution_count": 2,
   "id": "6db82c28-80b0-4735-86ba-1da568f8e8ee",
   "metadata": {},
   "outputs": [
    {
     "name": "stdout",
     "output_type": "stream",
     "text": [
      "Filtered Dictionary (Even Values): {'a': 10, 'c': 20, 'e': 30}\n"
     ]
    }
   ],
   "source": [
    "def filter_even_values(input_dict):\n",
    "    filtered_dict = {key: value for key, value in input_dict.items() if value % 2 == 0}\n",
    "    return filtered_dict\n",
    "\n",
    "d = {'a': 10, 'b': 15, 'c': 20, 'd': 25, 'e': 30}\n",
    "\n",
    "filter_even_values(d)"
   ]
  },
  {
   "cell_type": "markdown",
   "id": "e020a862-8d4b-4d0d-bd62-e8c28047ff2f",
   "metadata": {},
   "source": [
    "δ. Να δημιουργηθεί συνάρτηση η οποία συνδυάζει δύο ή περισσότερα λεξικά σε ένα δημιουργώντας μια λίστα τιμών για κάθε κοινό κλειδί. Αν ένα κλειδί υπάρχει μόνο σε ένα λεξικό, απλά θα υπάρχει η τιμή σε λίστα. Για παράδειγμα για τα λεξικά:\n",
    "\n",
    "- dict1 = {'a': 1, 'b': 2, 'c': 3} και\n",
    "\n",
    "- dict2 = {'b': 4, 'c': 5, 'd': 6} θα προκύψει το λεξικό:\n",
    "\n",
    "- {'a': [1], 'b': [2, 4], 'c': [3, 5], 'd': [6]}"
   ]
  },
  {
   "cell_type": "code",
   "execution_count": 7,
   "id": "2ac2bedb",
   "metadata": {},
   "outputs": [
    {
     "data": {
      "text/plain": [
       "{'a': [1], 'b': [2, 4], 'c': [3, 5], 'd': [6]}"
      ]
     },
     "execution_count": 7,
     "metadata": {},
     "output_type": "execute_result"
    }
   ],
   "source": [
    "def combine_dicts_with_lists(d1,d2):\n",
    "    combined_dict = {k:[v] for k,v in d1.items()}\n",
    "    \n",
    "    for key, value in d2.items():\n",
    "        if key in combined_dict:\n",
    "            combined_dict[key].append(value)\n",
    "        else:\n",
    "            combined_dict[key] = [value]\n",
    "\n",
    "    return combined_dict\n",
    "\n",
    "dict1 = {'a': 1, 'b': 2, 'c': 3}\n",
    "dict2 = {'b': 4, 'c': 5, 'd': 6}\n",
    "combine_dicts_with_lists(dict1, dict2)"
   ]
  },
  {
   "cell_type": "markdown",
   "id": "84a74030",
   "metadata": {},
   "source": [
    "# Two-Sum Problem"
   ]
  },
  {
   "cell_type": "markdown",
   "id": "8faf5006",
   "metadata": {},
   "source": [
    "Να γραφεί πρόγραμμα σε Python το οποίο:\n",
    "\n",
    "1. Θα φτιάχνει μια λίστα (data) με N τυχαίους ακεραίους στο διάστημα [−10, 10].\n",
    " \n",
    "2. Συνάρτηση _twoSums_ που Θα δέχεται ακέραιο αριθμό (check) και την λίστα και θα τυπώνει όλα τα ζευγάρια της λίστας που έχουν άθροισμα check. Για παράδειγμα για τη λίστα [ 8, 7, 2, 5, 3, 1 ] και για check = 10 η συνάρτηση θα τυπώνει\n",
    "\n",
    "- 8 + 2\n",
    "\n",
    "- 7 + 3\n",
    "\n",
    "Σημείωση: Θα χρειαστείτε την βιβλιοθήκη random και τις μεθόδους της random.randint(-10, 10), για παραγωγή τυχαίων αριθμών, και random.seed(s) αν θέλετε να παράγετε την ίδια ακολουθία κάθε φορά για έλεγχο ορθότητας."
   ]
  },
  {
   "cell_type": "code",
   "execution_count": 4,
   "id": "23e813b8",
   "metadata": {},
   "outputs": [
    {
     "name": "stdout",
     "output_type": "stream",
     "text": [
      "[7, -4, -9, -4, -5, -7, 3, 6, 9, 4]\n",
      "Ζευγάρια με άθροισμα 10\n",
      "7 + 3\n",
      "6 + 4\n",
      "Ζευγάρια με άθροισμα 10\n",
      "7 + 3\n",
      "6 + 4\n"
     ]
    }
   ],
   "source": [
    "\n",
    "def twoSums(data, check):\n",
    "    print('Ζευγάρια με άθροισμα',check)\n",
    "    found = False\n",
    "    for i in range(len(data)):\n",
    "        for j in range(i + 1, len(data)):\n",
    "            if data[i] + data[j] == check:\n",
    "                print(f\"{data[i]} + {data[j]}\")\n",
    "                found = True\n",
    "    if not found:\n",
    "        print(\"Δεν βρέθηκαν ζευγάρια.\")\n",
    "def twoSumsDict(data, check):\n",
    "    print('Ζευγάρια με άθροισμα', check)\n",
    "    seen = {}  # Λεξικό για την αποθήκευση των τιμών που έχουμε ήδη ελέγξει\n",
    "    found = False\n",
    "    for number in data:\n",
    "        complement = check - number  # Υπολογίζουμε το συμπληρωματικό στοιχείο\n",
    "        if complement in seen:\n",
    "            print(f\"{complement} + {number}\")\n",
    "            found = True\n",
    "        # Προσθέτουμε τον αριθμό στο λεξικό\n",
    "        seen[number] = True\n",
    "    if not found:\n",
    "        print(\"Δεν βρέθηκαν ζευγάρια.\")\n",
    "        \n",
    "import random\n",
    "\n",
    "N = 10\n",
    "#random.seed(s)\n",
    "data = [random.randint(-10, 10) for _ in range(N)]\n",
    "print(data)\n",
    "\n",
    "check = 10\n",
    "twoSums(data, check)\n",
    "twoSumsDict(data, check)"
   ]
  },
  {
   "cell_type": "markdown",
   "id": "4b61172d",
   "metadata": {},
   "source": [
    "## Λεξικό - long if"
   ]
  },
  {
   "cell_type": "markdown",
   "id": "9c295b77",
   "metadata": {},
   "source": [
    "Να δημιουργηθεί μια απλή συνάρτηση για ένα κατάστημα φαγητού. Δέχεται το όνομα ενός φαγητού ή ποτού, και το πρόγραμμα επιστρέφει την τιμή του προϊόντος. Αν η είσοδος δεν είναι στην λίστα του καταστήματος θα επιστρέφει -1. Θα πρέπει να γίνει με δύο τρόπους:\n",
    "\n",
    "α) χρήση if.\n",
    "\n",
    "β) χρήση λεξικού. \n",
    "\n",
    "Στην συνέχεια δίνεται ενδεικτικός κατάλογος τιμών.\n",
    "\n",
    "\"souvlaki\": 3.50, \"salad\": 2.00, \"soda\": 1.50, \"beer\": 2.50"
   ]
  },
  {
   "cell_type": "code",
   "execution_count": 5,
   "id": "fa029ebf",
   "metadata": {},
   "outputs": [
    {
     "name": "stdout",
     "output_type": "stream",
     "text": [
      "The price of souvlaki is 3.5 €\n",
      "The price of pizza is -1 €\n"
     ]
    }
   ],
   "source": [
    "def food_store(item):\n",
    "    if item == \"souvlaki\":\n",
    "        return 3.50\n",
    "    elif item == \"salad\":\n",
    "        return 2.00\n",
    "    elif item == \"soda\":\n",
    "        return 1.50\n",
    "    elif item == \"beer\":\n",
    "        return 2.50\n",
    "    else:\n",
    "        return -1\n",
    "prod1 = \"souvlaki\"\n",
    "prod2 = \"pizza\"\n",
    "print(\"The price of\",prod1,\"is\", food_store(prod1),\"€\")\n",
    "print(\"The price of\",prod2,\"is\", food_store(prod2),\"€\")"
   ]
  },
  {
   "cell_type": "code",
   "execution_count": 6,
   "id": "d98778d0",
   "metadata": {},
   "outputs": [
    {
     "name": "stdout",
     "output_type": "stream",
     "text": [
      "The price of souvlaki is 3.5 €\n",
      "The price of pizza is -1 €\n"
     ]
    }
   ],
   "source": [
    "def food_store(item):\n",
    "    food_prices = {\n",
    "        \"souvlaki\": 3.50,\n",
    "        \"salad\": 2.00,\n",
    "        \"soda\": 1.50,\n",
    "        \"beer\": 2.50\n",
    "    }\n",
    "    return food_prices.get(item,-1)\n",
    "prod1 = \"souvlaki\"\n",
    "prod2 = \"pizza\"\n",
    "print(\"The price of\",prod1,\"is\", food_store(prod1),\"€\")\n",
    "print(\"The price of\",prod2,\"is\", food_store(prod2),\"€\")"
   ]
  },
  {
   "cell_type": "markdown",
   "id": "087a94b9-9cf4-475e-961b-27848edcd65f",
   "metadata": {},
   "source": [
    "## Harry Poter"
   ]
  },
  {
   "cell_type": "markdown",
   "id": "90d89695-2387-4849-9ad4-612bd5a6445b",
   "metadata": {},
   "source": [
    "Να γραφεί συνάρτηση η οποία δέχεται μία λίστα με πρωτοετείς μαθητές του hogwarts και μία λίστα με τους οίκους και να κατανέμει τυχαία τους μαθητές σε οίκο. Η συνάρτηση θα επιστρέφει λεξικό όπου κλειδί θα είναι το όνομα του οίκου και τιμή μία λίστα με τους μαθητές. Δίνεται παράδειγμα κλήσης:\n",
    "\n",
    "getHogwartsHouses(students, houses)\n",
    "\n",
    "Σημείωση: Απαιτείται χρήση της βιβλιοθήκης random. Βολική μέθοδός της η random.choice που δέχεται μία λίστα και επιστρέφει ένα τυχαίο στοιχείο της.\n"
   ]
  },
  {
   "cell_type": "code",
   "execution_count": 2,
   "id": "58333f9d-5f1a-4522-bdc4-701b39638a97",
   "metadata": {},
   "outputs": [],
   "source": [
    "students = [\n",
    "    \"Harry Potter\",\n",
    "    \"Hermione Granger\",\n",
    "    \"Ron Weasley\",\n",
    "    \"Draco Malfoy\",\n",
    "    \"Luna Lovegood\",\n",
    "    \"Neville Longbottom\",\n",
    "    \"Ginny Weasley\",\n",
    "    \"Fred Weasley\",\n",
    "    \"George Weasley\"\n",
    "]\n",
    "houses = [\"Gryffindor\",\"Hufflepuff\",\"Ravenclaw\" ,\"Slytherin\"]"
   ]
  },
  {
   "cell_type": "code",
   "execution_count": 4,
   "id": "0c2381b1-1f9b-4524-9c6e-c9571cbf8d82",
   "metadata": {},
   "outputs": [
    {
     "name": "stdout",
     "output_type": "stream",
     "text": [
      "{'Gryffindor': ['Harry Potter', 'Hermione Granger', 'Ron Weasley', 'Neville Longbottom', 'Ginny Weasley', 'George Weasley'], 'Hufflepuff': ['Draco Malfoy'], 'Ravenclaw': ['Luna Lovegood'], 'Slytherin': ['Fred Weasley']}\n"
     ]
    }
   ],
   "source": [
    "import random\n",
    "\n",
    "def getHogwartsHouses(students, houses):\n",
    "    hogwarts = {house: [] for house in houses}\n",
    "    for student in students:\n",
    "        randomhouse = random.choice(houses)\n",
    "        hogwarts[randomhouse].append(student)\n",
    "    return hogwarts\n",
    "print(getHogwartsHouses(students, houses))\n"
   ]
  },
  {
   "cell_type": "markdown",
   "id": "59b18f2b-3535-4a3c-82e7-57549ea46299",
   "metadata": {},
   "source": [
    "## Αποθήκη βιβλίων"
   ]
  },
  {
   "cell_type": "markdown",
   "id": "0083e548-4471-49a8-aa64-f9d1e303fed2",
   "metadata": {},
   "source": [
    "Έστω μία αποθήκη βιβλίων που κρατάει σε λεξικό τις επόμενες πληροφορίες για το απόθεμα.\n",
    "\n",
    "Να γραφεί συνάρτηση orderBooks η οποία δέχεται μία παραγγελία από κάποιο βιβλιοπωλείο σε μορφή λίστας από tuple όπως παρακάτω και επιστρέφει είτε την τελική τιμή της παραγγελίας είτε την τιμή -1 αν η παραγγελία δεν μπορεί να επιτευχθεί. Αν η παραγγελία μπορεί να γίνει θα ενημερώνει και το απόθεμα.\n",
    "\n",
    "Στο κυρίως πρόγραμμα μετά από κάθε κλήση της συνάρτησης πέρα από την τιμή της παραγγελίας (ή -1 αν αυτή δεν είναι δυνατόν να γίνει) θα εμφανίζεται το συνολικό απόθεμα:\n",
    "Η τελική τιμή της παραγγελίας είναι: 40.99\n",
    "Νέο απόθεμα:\n",
    "Harry Potter and the Philosopher's Stone: 4\n",
    "To Kill a Mockingbird: 6\n",
    "1984: 3\n"
   ]
  },
  {
   "cell_type": "code",
   "execution_count": null,
   "id": "e43ff5b5-9a7f-4fb1-918c-1b9f7b3f4ab6",
   "metadata": {},
   "outputs": [],
   "source": [
    "books = {\n",
    "    \"Harry Potter and the Philosopher's Stone\": {\n",
    "        \"Συγγραφέας\": \"J.K. Rowling\",\n",
    "        \"Έτος Έκδοσης\": 1997,\n",
    "        \"Κατηγορία\": \"Φαντασία\",\n",
    "        \"Αριθμός Σελίδων\": 320,\n",
    "        \"Τιμή\": 15.99,\n",
    "        \"Απόθεμα\": 5\n",
    "    },\n",
    "    \"To Kill a Mockingbird\": {\n",
    "        \"Συγγραφέας\": \"Harper Lee\",\n",
    "        \"Έτος Έκδοσης\": 1960,\n",
    "        \"Κατηγορία\": \"Λογοτεχνία\",\n",
    "        \"Αριθμός Σελίδων\": 281,\n",
    "        \"Τιμή\": 12.50,\n",
    "        \"Απόθεμα\": 8\n",
    "    },\n",
    "    \"1984\": {\n",
    "        \"Συγγραφέας\": \"George Orwell\",\n",
    "        \"Έτος Έκδοσης\": 1949,\n",
    "        \"Κατηγορία\": \"Διανόησης\",\n",
    "        \"Αριθμός Σελίδων\": 328,\n",
    "        \"Τιμή\": 10.75,\n",
    "        \"Απόθεμα\": 3\n",
    "    }\n",
    "}"
   ]
  },
  {
   "cell_type": "code",
   "execution_count": 1,
   "id": "4dfa5b33-1217-4a92-91ab-d3e3e1abdbbf",
   "metadata": {},
   "outputs": [
    {
     "name": "stdout",
     "output_type": "stream",
     "text": [
      "Η τελική τιμή της παραγγελίας είναι: 40.99\n",
      "Νέο απόθεμα:\n",
      "Harry Potter and the Philosopher's Stone: 4\n",
      "To Kill a Mockingbird: 6\n",
      "1984: 3\n"
     ]
    }
   ],
   "source": [
    "def orderBooks(books,orders):\n",
    "    total_price = 0\n",
    "    for title, quantity in orders:\n",
    "        if not (title in books and quantity <= books[title][\"Απόθεμα\"]):\n",
    "            return -1\n",
    "        else:\n",
    "            pass\n",
    "    for title, quantity in orders:\n",
    "        if title in books and quantity <= books[title][\"Απόθεμα\"]:\n",
    "            book_price = books[title][\"Τιμή\"]\n",
    "            total_price += book_price * quantity\n",
    "            # Αφαίρεση της ποσότητας από το απόθεμα\n",
    "            books[title][\"Απόθεμα\"] -= quantity\n",
    "    return total_price\n",
    "\n",
    "# Λίστα με τις παραγγελίες (βιβλίο, ποσότητα)\n",
    "orders = [(\"Harry Potter and the Philosopher's Stone\", 1), (\"To Kill a Mockingbird\", 2)]\n",
    "\n",
    "# Υπολογισμός της τελικής τιμής παραγγελίας\n",
    "total_order_price = orderBooks(books,orders)\n",
    "print(\"Η τελική τιμή της παραγγελίας είναι:\", total_order_price)\n",
    "\n",
    "# Εκτύπωση του νέου αποθέματος για κάθε βιβλίο\n",
    "print(\"Νέο απόθεμα:\")\n",
    "for title, info in books.items():\n",
    "    print(f\"{title}: {info['Απόθεμα']}\")\n",
    "\n",
    "# Λίστα με τις παραγγελίες (βιβλίο, ποσότητα)\n",
    "orders = [(\"Harry Potter and the Philosopher's Stone\", 2), (\"To Kill a Mockingbird\", 1)]\n"
   ]
  },
  {
   "cell_type": "markdown",
   "id": "c63fb974-aa0f-49bb-a02e-ccb30cb98849",
   "metadata": {},
   "source": [
    "## Ισοτιμίες Νομισμάτων"
   ]
  },
  {
   "cell_type": "markdown",
   "id": "63806a33-365d-405c-a440-59093989102b",
   "metadata": {},
   "source": [
    "Έστω το λεξικό (που περιέχει λεξικά) που περιέχει συντελεστές μετατροπής μεταξύ νομισμάτων:\n",
    "\n",
    "Να γραφεί συνάρτηση convert η οποία να δέχεται εκτός από το λεξικό, ένα ποσό και δύο νομίσματα, το νόμισμα στο οποίο είναι το ποσό και το νόμισμα στο οποίο θέλουμε να γίνει η μετατροπή. Η συνάρτηση θα επιστρέφει το ποσό στο 2ο νόμισμα. Αν τα νομίσματα δεν υπάρχουν στο λεξικό να επιστρέφει αντίστοιχο μήνυμα. Παράδειγμα κλήσης:\n",
    "convert(exchangerates,'EUR','GBP',10)\n"
   ]
  },
  {
   "cell_type": "code",
   "execution_count": 9,
   "id": "ea683341-983d-4468-869c-f573ab9309eb",
   "metadata": {},
   "outputs": [
    {
     "data": {
      "text/plain": [
       "8.7"
      ]
     },
     "execution_count": 9,
     "metadata": {},
     "output_type": "execute_result"
    }
   ],
   "source": [
    "exchangerates = {\n",
    "    \"USD\": {\"EUR\": 0.83, \"GBP\": 0.72, \"JPY\": 109.62, \"AUD\": 1.29, \"CAD\": 1.25},\n",
    "    \"EUR\": {\"USD\": 1.20, \"GBP\": 0.87, \"JPY\": 129.37, \"AUD\": 1.53, \"CAD\": 1.48},\n",
    "    \"GBP\": {\"USD\": 1.39, \"EUR\": 1.14, \"JPY\": 149.68, \"AUD\": 1.78, \"CAD\": 1.72},\n",
    "    \"JPY\": {\"USD\": 0.0091, \"EUR\": 0.0077, \"GBP\": 0.0067, \"AUD\": 0.012, \"CAD\": 0.011},\n",
    "    \"AUD\": {\"USD\": 0.77, \"EUR\": 0.65, \"GBP\": 0.56, \"JPY\": 82.93, \"CAD\": 0.97},\n",
    "    \"CAD\": {\"USD\": 0.80, \"EUR\": 0.68, \"GBP\": 0.58, \"JPY\": 89.45, \"AUD\": 1.03}\n",
    "}\n",
    "def convert(exchangerates, from_currency, to_currency, amount):\n",
    "    if from_currency not in exchangerates:\n",
    "        return f\"Το νόμισμα '{from_currency}' δεν υπάρχει στο λεξικό μετατροπής.\"\n",
    "    if to_currency not in exchangerates[from_currency]:\n",
    "        return f\"Δεν υπάρχει διαθέσιμη μετατροπή από '{from_currency}' σε '{to_currency}'.\"\n",
    "    rate = exchangerates[from_currency][to_currency]\n",
    "    converted_amount = amount * rate\n",
    "    return round(converted_amount, 2)  # Επιστρέφουμε το αποτέλεσμα στρογγυλοποιημένο στα 2 δεκαδικά\n",
    "convert(exchangerates, 'EUR', 'GBP', 10)"
   ]
  },
  {
   "cell_type": "markdown",
   "id": "2d385dea",
   "metadata": {},
   "source": [
    "# Tuples"
   ]
  },
  {
   "cell_type": "markdown",
   "id": "b01bdc12",
   "metadata": {},
   "source": [
    "## Tuples - σημεία στο επίπεδο"
   ]
  },
  {
   "cell_type": "markdown",
   "id": "3da5ce4a",
   "metadata": {},
   "source": [
    "Δίνεται μια λίστα με σημεία στο καρτεσιανό επίπεδο, τα οποία αναπαρίστανται ως tuples της μορφής (x, y) όπως στο παράδειγα"
   ]
  },
  {
   "cell_type": "code",
   "execution_count": 4,
   "id": "6a646d99",
   "metadata": {},
   "outputs": [],
   "source": [
    "points = [(1, 2), (3, 4), (5, 1), (2, -3), (-1, -2)]"
   ]
  },
  {
   "cell_type": "markdown",
   "id": "8ad8e2c1",
   "metadata": {},
   "source": [
    "Γράψτε συνάρτηση distanceFromOrigin(point) που υπολογίζει και επιστρέφει την απόσταση ενός σημείου από την αρχή των αξόνων χρησιμοποιώντας τον τύπο $d = \\sqrt{x^2 + y^2}$\n",
    "\n",
    "Να δημιουργείται λίστα που αντί για τα ίδια τα σημεία να περιέχει τις παραπάνω αποστάσεις. Να εμφανίζεται, η μεγαλύτερη απόσταση."
   ]
  },
  {
   "cell_type": "code",
   "execution_count": 5,
   "id": "e6a0f43e",
   "metadata": {},
   "outputs": [
    {
     "data": {
      "text/plain": [
       "([2.23606797749979,\n",
       "  5.0,\n",
       "  5.0990195135927845,\n",
       "  3.605551275463989,\n",
       "  2.23606797749979],\n",
       " 5.0990195135927845)"
      ]
     },
     "execution_count": 5,
     "metadata": {},
     "output_type": "execute_result"
    }
   ],
   "source": [
    "import math\n",
    "def distanceFromOrigin(point):\n",
    "    x, y = point\n",
    "    return math.sqrt(x**2 + y**2)\n",
    "distances = [distanceFromOrigin(p) for p in points]\n",
    "distances,max(distances)"
   ]
  },
  {
   "cell_type": "markdown",
   "id": "778db149",
   "metadata": {},
   "source": [
    "# Λίστα με tuples"
   ]
  },
  {
   "cell_type": "markdown",
   "id": "8c18cf67",
   "metadata": {},
   "source": [
    "Έστω μια λίστα με tuples, όπου κάθε tuple περιέχει το όνομα ενός προϊόντος, την κατηγορία του και την τιμή του."
   ]
  },
  {
   "cell_type": "code",
   "execution_count": 8,
   "id": "a2f15330",
   "metadata": {},
   "outputs": [],
   "source": [
    "products = [\n",
    "    (\"Laptop\", \"Electronics\", 1200),\n",
    "    (\"Desk\", \"Furniture\", 200),\n",
    "    (\"Chair\", \"Furniture\", 100),\n",
    "    (\"Headphones\", \"Electronics\", 150),\n",
    "    (\"USB\", \"Electronics\", 70),\n",
    "    (\"Book\", \"Stationery\", 20),\n",
    "    (\"Pen\", \"Stationery\", 5)\n",
    "]"
   ]
  },
  {
   "cell_type": "markdown",
   "id": "817cb992",
   "metadata": {},
   "source": [
    "- Βρείτε το συνολικό κόστος όλων των προϊόντων.\n",
    "\n",
    "- Δημιουργήστε μία νέα λίστα που θα περιέχει μόνο τα προϊόντα κατηγορίας _Electronics_ που έχουν τιμή μεγαλύτερη από 100.\n",
    "\n",
    "- Βρείτε το κόστος ανά κατηγορία."
   ]
  },
  {
   "cell_type": "code",
   "execution_count": 15,
   "id": "7c78f621",
   "metadata": {},
   "outputs": [
    {
     "data": {
      "text/plain": [
       "1675"
      ]
     },
     "execution_count": 15,
     "metadata": {},
     "output_type": "execute_result"
    }
   ],
   "source": [
    "sum(product[2] for product in products)"
   ]
  },
  {
   "cell_type": "code",
   "execution_count": 14,
   "id": "db4869a4",
   "metadata": {},
   "outputs": [
    {
     "data": {
      "text/plain": [
       "[('Laptop', 'Electronics', 1200), ('Headphones', 'Electronics', 150)]"
      ]
     },
     "execution_count": 14,
     "metadata": {},
     "output_type": "execute_result"
    }
   ],
   "source": [
    "products100 = [product for product in products if product[2] > 100 and product[1]=='Electronics']\n",
    "products100"
   ]
  },
  {
   "cell_type": "code",
   "execution_count": 17,
   "id": "27d5e4c6",
   "metadata": {},
   "outputs": [
    {
     "name": "stdout",
     "output_type": "stream",
     "text": [
      "Κόστος για την κατηγορία Electronics : 1350\n",
      "Κόστος για την κατηγορία Furniture : 300\n",
      "Κόστος για την κατηγορία Stationery : 25\n"
     ]
    }
   ],
   "source": [
    "# Δημιουργία λεξικού για το κόστος ανά κατηγορία\n",
    "categoryCost = {}\n",
    "\n",
    "# Υπολογισμός του κόστους ανά κατηγορία\n",
    "for product in products:\n",
    "    category = product[1]\n",
    "    cost = product[2]\n",
    "    if category in categoryCost:\n",
    "        categoryCost[category] += cost\n",
    "    else:\n",
    "        categoryCost[category] = cost\n",
    "\n",
    "# Εκτύπωση αποτελέσματος\n",
    "for category, cost in categoryCost.items():\n",
    "    print('Κόστος για την κατηγορία',category,':', cost)"
   ]
  },
  {
   "cell_type": "markdown",
   "id": "35245d2f",
   "metadata": {},
   "source": [
    "# Sets"
   ]
  },
  {
   "cell_type": "markdown",
   "id": "99a58b26",
   "metadata": {},
   "source": [
    "## Ξένα σύνολα"
   ]
  },
  {
   "cell_type": "markdown",
   "id": "8b70fc1e",
   "metadata": {},
   "source": [
    "Η μέθοδος `isdisjoint` χρησιμοποιείται για να ελέγξει αν δύο σύνολα είναι ξένα μεταξύ τους. Υλοποιήστε συνάρτηση _myDisjoint_ που να επιστρέφει _True_ αν δύο σύνολα που δέχεται ως παράμετρο είναι ξένα και False αν έχουν τουλάχιστον ένα κοινό σημείο. "
   ]
  },
  {
   "cell_type": "code",
   "execution_count": 1,
   "id": "c1ed1b3a",
   "metadata": {},
   "outputs": [
    {
     "data": {
      "text/plain": [
       "(False, True)"
      ]
     },
     "execution_count": 1,
     "metadata": {},
     "output_type": "execute_result"
    }
   ],
   "source": [
    "def myDisjoint(s1, s2):\n",
    "    for i in s1:\n",
    "        if i in s2:\n",
    "            return False\n",
    "    return True\n",
    "s1 = {1, 2, 3}\n",
    "s2 = {3, 4, 5}\n",
    "s3 = {4, 5, 6}\n",
    "myDisjoint(s1, s2),myDisjoint(s1, s3)"
   ]
  },
  {
   "cell_type": "markdown",
   "id": "a9de000f",
   "metadata": {},
   "source": [
    "# Διαφορά, συμμετρική διαφορά"
   ]
  },
  {
   "cell_type": "markdown",
   "id": "d627e788",
   "metadata": {},
   "source": [
    "Γράψτε μια συνάρτηση _myDifference(a, b)_ που υπολογίζει τη διαφορά του συνόλου _a_ από το _b_, τα στοιχεία δηλαδή που ανήκουν στο a αλλά όχι στο b. Επαληθεύστε χρησιμοποιώντας την ενσωματωμένη μέθοδο `difference`.\n",
    "\n",
    "Γράψτε μια συνάρτηση _mySymmetricDifference(a, b)_ που υπολογίζει τη συμμετρική διαφορά των συνόλων _a_ και _b, τα στοιχεία δηλαδή που ανήκουν είτε στο a είτε στο b, αλλά όχι και στα δύο. Μπορείτε να κάνετε χρήση της _myDifference_ από το προηγούμενο ερώτημα. Επαληθεύστε χρησιμοποιώντας τη μέθοδο `symmetric_difference`."
   ]
  },
  {
   "cell_type": "code",
   "execution_count": null,
   "id": "8ad819ab",
   "metadata": {},
   "outputs": [],
   "source": [
    "s1 = {1, 2, 3}\n",
    "s2 = {3, 4, 5}\n",
    "s3 = {4, 5, 6}"
   ]
  },
  {
   "cell_type": "code",
   "execution_count": 5,
   "id": "20468353",
   "metadata": {},
   "outputs": [
    {
     "data": {
      "text/plain": [
       "{1, 2}"
      ]
     },
     "execution_count": 5,
     "metadata": {},
     "output_type": "execute_result"
    }
   ],
   "source": [
    "def myDifference(a, b):\n",
    "    s = set()\n",
    "    for element in a:\n",
    "        if element not in b:\n",
    "            s.add(element)\n",
    "    return s\n",
    "myDifference(s1,s2)"
   ]
  },
  {
   "cell_type": "code",
   "execution_count": 7,
   "id": "85540343",
   "metadata": {},
   "outputs": [
    {
     "data": {
      "text/plain": [
       "{1, 2, 4, 5}"
      ]
     },
     "execution_count": 7,
     "metadata": {},
     "output_type": "execute_result"
    }
   ],
   "source": [
    "def mySymmetricDifference(a, b):\n",
    "    diffab = myDifference(a, b)\n",
    "    diffba = myDifference(b, a)\n",
    "    return diffab.union(diffba)\n",
    "mySymmetricDifference(s1, s2)\n"
   ]
  },
  {
   "cell_type": "code",
   "execution_count": null,
   "id": "b13a761f",
   "metadata": {},
   "outputs": [],
   "source": []
  }
 ],
 "metadata": {
  "kernelspec": {
   "display_name": "Python 3 (ipykernel)",
   "language": "python",
   "name": "python3"
  },
  "language_info": {
   "codemirror_mode": {
    "name": "ipython",
    "version": 3
   },
   "file_extension": ".py",
   "mimetype": "text/x-python",
   "name": "python",
   "nbconvert_exporter": "python",
   "pygments_lexer": "ipython3",
   "version": "3.11.4"
  }
 },
 "nbformat": 4,
 "nbformat_minor": 5
}
