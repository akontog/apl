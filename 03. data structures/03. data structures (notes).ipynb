{
 "cells": [
  {
   "cell_type": "markdown",
   "id": "781a0a2f-3c09-4060-a3ba-1a20632b3d01",
   "metadata": {
    "slideshow": {
     "slide_type": ""
    },
    "tags": []
   },
   "source": [
    "<div style=\"padding:20px 0px 20px 0px; text-align:center; font-weight: bold; font-size:170%; background-color: #2d8077; color:#f0b439;\">\n",
    "3<br>\n",
    "<span style=\"color:#ffffcc;\">Δομές Δεδομένων</span>\n",
    "</div>\n",
    "\n",
    "---\n"
   ]
  },
  {
   "cell_type": "markdown",
   "id": "40d47e56-b951-40d3-bd4d-de7165367f9a",
   "metadata": {
    "slideshow": {
     "slide_type": "slide"
    },
    "tags": []
   },
   "source": [
    "<a id=\"ds_lists\"></a>\n",
    "# Λίστες"
   ]
  },
  {
   "cell_type": "markdown",
   "id": "bb9d6d9c-bec1-4864-9bfb-73f02dc34132",
   "metadata": {
    "slideshow": {
     "slide_type": "subslide"
    },
    "tags": []
   },
   "source": [
    "Η βασική δομή της Python, που μοιάζει με αυτήν του πίνακα σε γλώσσες όπως Fortran, C, Java, είναι η δομή της λίστας. Είναι, όμως, πιο γενική και απελευθερωμένη από περιορισμούς μεγέθους και τύπου δεδομένων.\n",
    "\n",
    "Έχει τα ακόλουθα χαρακτηριστικά:\n",
    "\n",
    "- Είναι μια συλλογή διατεταγμένων αντικειμένων.\n",
    "\n",
    "- Είναι δυναμική, δηλαδή το μέγεθος της μεταβάλλεται κατά τη διάρκεια εκτέλεσης του προγράμματος.\n",
    "\n",
    "- Περιέχει αντικείμενα, δηλαδή οποιαδήποτε στοιχεία, οποιουδήποτε μεγέθους και τύπου.\n",
    "\n",
    "- Έχει μια σειρά από ενσωματωμένες λειτουργίες-μεθόδους."
   ]
  },
  {
   "cell_type": "markdown",
   "id": "0f6c8593",
   "metadata": {},
   "source": [
    "## Δημιουργία"
   ]
  },
  {
   "cell_type": "markdown",
   "id": "b469bad5",
   "metadata": {},
   "source": [
    "Ακολoυθεί η δημιουργία μίας άδειας λίστας. Οι λίστες δημιουργούνται με αγκύλες `[]`. Αν 'ρωτήσουμε' τον τύπο της λίστας με την συνάρτηση `type`, θα πάρουμε την απάντηση `list` που είναι ο τύπος της."
   ]
  },
  {
   "cell_type": "code",
   "execution_count": null,
   "id": "2b1302a7-0f7e-4e08-bcb2-116f3ffd1433",
   "metadata": {
    "slideshow": {
     "slide_type": "subslide"
    },
    "tags": []
   },
   "outputs": [],
   "source": [
    "list1=[]\n",
    "type(list1)"
   ]
  },
  {
   "cell_type": "markdown",
   "id": "d4844fe0",
   "metadata": {},
   "source": [
    "Μία λίστα μπορεί να περιλαμβάνει στοιχεία ίδιου αλλά και διάφορων τύπων."
   ]
  },
  {
   "cell_type": "code",
   "execution_count": null,
   "id": "8140a6e9",
   "metadata": {},
   "outputs": [],
   "source": [
    "list2 = [10, 20, 30, 40, 50, 60, 70]\n",
    "list3 = [\"python\",[1,2],4,True,3.14]"
   ]
  },
  {
   "cell_type": "markdown",
   "id": "a168e488-306c-4ba6-a836-99accdfcd450",
   "metadata": {},
   "source": [
    "Μια ειδική περίπτωση προκύπτει όταν τα στοιχεία μιας λίστας είναι τα ίδια λίστες."
   ]
  },
  {
   "cell_type": "code",
   "execution_count": null,
   "id": "e3c8e05b-1aae-48a3-8bb7-07f445def329",
   "metadata": {
    "slideshow": {
     "slide_type": "fragment"
    },
    "tags": []
   },
   "outputs": [],
   "source": [
    "list3 = [[1, 2, 3], [4, 5, 6]]"
   ]
  },
  {
   "cell_type": "markdown",
   "id": "30795fee",
   "metadata": {},
   "source": [
    "## Προσπέλαση στοιχείων"
   ]
  },
  {
   "cell_type": "markdown",
   "id": "45fc4655-c0e4-45d6-a17a-db46a8e35223",
   "metadata": {
    "slideshow": {
     "slide_type": "subslide"
    },
    "tags": []
   },
   "source": [
    "Για τη λίστα \n",
    "```Python\n",
    "lst = ['p', 'y', 't', 'h', 'o', 'n']\n",
    "```\n",
    "\n",
    "|  0  |  1  |  2  |  3  |  4  |  5  |\n",
    "|-----|-----|-----|-----|-----|-----|\n",
    "| 'p' | 'y' | 't' | 'h' | 'o' | 'n' |\n",
    "| -6  | -5  | -4  | -3  | -2  | -1  |\n",
    "\n",
    "- Η έκφραση `lst[0]` αναφέρεται στο πρώτο στοιχείο της λίστας.\n",
    "\n",
    "- Η έκφραση `lst[1]` στο δεύτερο στοιχείο κ.ο.κ.\n",
    "\n",
    "- Η έκφραση `lst[−1]` αναφέρεται στο τελευταίο στοιχείο της λίστας.\n",
    "\n",
    "- Η έκφραση `lst[−2]` αναφέρεται στο προτελευταίο στοιχείο κ.ο.κ."
   ]
  },
  {
   "cell_type": "markdown",
   "id": "843e1bda",
   "metadata": {},
   "source": [
    "**Παράδειγμα**\n",
    "\n",
    "Θα προσπελάσουμε το στοιχείο 3, που αποτελεί το 4ο στοιχείο της λίστας καθώς και το 3ο από το τέλος στοιχείο."
   ]
  },
  {
   "cell_type": "code",
   "execution_count": null,
   "id": "dba35086-843e-48a8-ad0f-6dd0679dde6a",
   "metadata": {
    "slideshow": {
     "slide_type": "fragment"
    },
    "tags": []
   },
   "outputs": [],
   "source": [
    "list2 = [10, 20, 30, 40, 50, 60, 70]\n",
    "list2[3],list2[-3]"
   ]
  },
  {
   "cell_type": "markdown",
   "id": "e0e9ca36-aeae-43e9-84e5-d3e472868eb3",
   "metadata": {},
   "source": [
    "Στην περίπτωση της λίστας που περιέχει λίστες `list3 = [[1, 2, 3], [4, 5, 6]]`, το πρώτο στοιχείο της _list3_ είναι  η λίστα `[1,2,3]`."
   ]
  },
  {
   "cell_type": "code",
   "execution_count": null,
   "id": "37ab9ebe-90fa-4852-b83e-6073fcd86857",
   "metadata": {
    "tags": []
   },
   "outputs": [],
   "source": [
    "list3[0]"
   ]
  },
  {
   "cell_type": "markdown",
   "id": "8135b613",
   "metadata": {},
   "source": [
    "Μπορούμε να σκεφτούμε ότι τα στοιχεία της παραπάνω λίστας οργανώνονται σε γραμμές και στήλες, όπως σε έναν πίνακα.\n",
    "$$\n",
    "\\begin{bmatrix}\n",
    "1 & 2 & 3 \\\\\n",
    "4 & 5 & 6\n",
    "\\end{bmatrix}\n",
    "$$\n",
    "Έτσι μπορούμε να θεωρήσουμε ότι ο πρώτος δείκτης, έστω 0 που αφορά την πρώτη υπολίστα, αποτελεί τον δείκτη γραμμής και ο δεύτερος, έστω 1 που αφορά το 2ο στοιχείο της πρώτης υπολίστας αποτελεί την στήλη του πίνακα."
   ]
  },
  {
   "cell_type": "code",
   "execution_count": null,
   "id": "57f61064-da1b-4564-ac4f-3d08d88a5062",
   "metadata": {
    "slideshow": {
     "slide_type": "fragment"
    },
    "tags": []
   },
   "outputs": [],
   "source": [
    "list3[0][1]"
   ]
  },
  {
   "cell_type": "markdown",
   "id": "aee632c6-8230-4e98-809a-b9fe7e876a7e",
   "metadata": {
    "tags": []
   },
   "source": [
    "**Παράδειγμα** Δισδιάστατη λίστα: Τρίλιζα\n",
    "\n",
    "Για να περιγράψουμε το ταμπλό ενός παιχνιδιού τρίλιζας, χρησιμοποιούμε μια *δισδιάστατη* λίστα, δηλαδή μια λίστα από λίστες. Το ταμπλό:\n",
    "```\n",
    "\n",
    " X |   | O\n",
    "-----------\n",
    " O | X | X\n",
    "-----------\n",
    " X |   |\n",
    "```\n",
    "περιγράφεται από τη λίστα\n",
    "```Python\n",
    "board = [['X', ' ', 'O'],\n",
    "         ['O', 'X', 'X'],\n",
    "         ['X', ' ', ' ']]\n",
    "```         \n",
    "Κάθε στοιχείο της λίστας `board` είναι μια λίστα που περιγράφει τις γραμμές της τρίλιζας. Κάθε γραμμή περιέχει έναν από τους χαρακτήρες `'X'`,`'O'` και `' '` (κενός χαρακτήρας).\n",
    "\n",
    "Το στοιχείο `board[2][0]` βρίσκεται στην τρίτη γραμμή-πρώτη στήλη (`'X'`)."
   ]
  },
  {
   "cell_type": "code",
   "execution_count": null,
   "id": "55db738c",
   "metadata": {},
   "outputs": [],
   "source": [
    "board = [['X', ' ', 'O'],\n",
    "         ['O', 'X', 'X'],\n",
    "         ['X', ' ', ' ']]\n",
    "board[2][0]"
   ]
  },
  {
   "cell_type": "markdown",
   "id": "25928f57",
   "metadata": {},
   "source": [
    "Οι \"διαστάσεις\" μίας λίστας είναι δυνατόν να είναι και περισσότερες από δύο και χρειαζόμαστε παραπάνω από δύο δείκτες για να προσπελάσουμε κάποιο στοιχείο. Στην συνέχεια δηλώνουμε μία λίστα με τρεις διαστάσεις και προσπελαύνουμε από τον πρώτο δισδιάστατο πίνακα και την δεύτερη γραμμή του το 3ο στοιχείο."
   ]
  },
  {
   "cell_type": "code",
   "execution_count": null,
   "id": "a8fb3d8c",
   "metadata": {},
   "outputs": [],
   "source": [
    "list3d = [\n",
    "    [  # Πρώτος 2D πίνακας\n",
    "        [1, 2, 3],\n",
    "        [4, 5, 6]\n",
    "    ],\n",
    "    [  # Δεύτερος 2D πίνακας\n",
    "        [7, 8, 9],\n",
    "        [10, 11, 12]\n",
    "    ]\n",
    "]\n",
    "list3d[0][1][2]"
   ]
  },
  {
   "cell_type": "markdown",
   "id": "53906e07-3992-48ce-b30d-37d07d995c75",
   "metadata": {
    "slideshow": {
     "slide_type": "subslide"
    },
    "tags": []
   },
   "source": [
    "## Υποδιαστήματα (slicing)"
   ]
  },
  {
   "cell_type": "markdown",
   "id": "8d17dca7-c3a3-489a-b8e9-1705f84cc59d",
   "metadata": {
    "slideshow": {
     "slide_type": "fragment"
    },
    "tags": []
   },
   "source": [
    "Έστω η λίστα \n",
    "```Python\n",
    "lst11 = [10, 20, 30, 40, 50, 60]\n",
    "```\n",
    "Η έκφραση _lst11[2 : 5]_ επιστρέφει το τρίτο, τέταρτο και πέμπτο στοιχείο της λίστας. Προσέξτε ότι η έκφραση αυτή δεν δημιουργεί μια νέα λίστα αλλά δίνει πρόσβαση στα στοιχεία της αρχικής. Η απουσία αριθμού πριν ή μετά το `:` σημαίνει επιλογή από το πρώτο ή μέχρι το τελευταίο στοιχείο αντίστοιχα. Η προσθήκη ενός δεύτερου συμβόλου `:` επιτρέπει την δήλωση βήματος στην επιλογή όπως ακριβώς και στην `range`."
   ]
  },
  {
   "cell_type": "code",
   "execution_count": null,
   "id": "ca5d5451-b0cc-4cc9-a10c-19f4f9ef2656",
   "metadata": {
    "slideshow": {
     "slide_type": "subslide"
    },
    "tags": []
   },
   "outputs": [],
   "source": [
    "lst11 = [10, 20, 30, 40, 50, 60]\n",
    "lst11[2:5]"
   ]
  },
  {
   "cell_type": "code",
   "execution_count": null,
   "id": "5154306e-373c-4971-a3f4-db6d8eccad13",
   "metadata": {
    "slideshow": {
     "slide_type": "fragment"
    },
    "tags": []
   },
   "outputs": [],
   "source": [
    "lst11[1:]  # επιστρέφει τα στοιχεία από το στοιχείο 1 μέχρι το τέλος της λίστας "
   ]
  },
  {
   "cell_type": "code",
   "execution_count": null,
   "id": "ec39e58f-724d-4cc8-bd51-84f6f4a5b303",
   "metadata": {
    "slideshow": {
     "slide_type": "fragment"
    },
    "tags": []
   },
   "outputs": [],
   "source": [
    "lst11[:3] # επιστρέφει τα στοιχεία από την αρχή της λίστας μέχρι πριν το 3ο στοιχείο"
   ]
  },
  {
   "cell_type": "code",
   "execution_count": null,
   "id": "61632181-7f51-4112-a21f-fa75801882de",
   "metadata": {
    "slideshow": {
     "slide_type": "fragment"
    },
    "tags": []
   },
   "outputs": [],
   "source": [
    "lst11[2:-1]   # επιστρέφει τα στοιχεία από το στοιχείο 2 μέχρι πριν το τελευταίο στοιχείο"
   ]
  },
  {
   "cell_type": "code",
   "execution_count": null,
   "id": "cb6b1222-414a-439b-a448-00285205d486",
   "metadata": {
    "slideshow": {
     "slide_type": "fragment"
    },
    "tags": []
   },
   "outputs": [],
   "source": [
    "lst11[1:-2],lst11[-3:-1],lst11[1:4:2]"
   ]
  },
  {
   "cell_type": "markdown",
   "id": "8a3e7b8c-0571-41b6-91c5-8462e3edc569",
   "metadata": {
    "slideshow": {
     "slide_type": "subslide"
    },
    "tags": []
   },
   "source": [
    "## Εισαγωγή στοιχείων"
   ]
  },
  {
   "cell_type": "markdown",
   "id": "79ee0e19",
   "metadata": {},
   "source": [
    "- `append`: Προσθέτει στοιχείο στο τέλος της λίστας.\n",
    "\n",
    "- `insert`: Εισάγει το στοιχείο της 2ης παραμέτρου στη θέση που ορίζει η 1η παράμετρος.\n",
    "\n",
    "- `extend`: Προσθέτει όλα τα στοιχεία της παραμέτρου στο τέλος της λίστας.\n",
    "\n",
    "- Πρόσθεση, Πολλαπλασιασμός: Η πράξη της πρόσθεσης μπορεί να χρησιμοποιηθεί για προσθήκη στοιχείων στο τέλος της λίστας. Με την πράξη του πολλαπλασιασμού επιστρέφεται μία νέα λίστα με τα στοιχεία της να επαναλαμβάνονται ανάλογα τον αριθμό που θα πολλαπλασιάσουμε."
   ]
  },
  {
   "cell_type": "markdown",
   "id": "a5adeb1a",
   "metadata": {},
   "source": [
    "### `append`"
   ]
  },
  {
   "cell_type": "markdown",
   "id": "8570ed93",
   "metadata": {},
   "source": [
    "Με τη μέθοδο αυτή επιτρέπεται η εισαγωγή ενός νέου στοιχείου σε μια υπάρχουσα λίστα, τοποθετώντας το στοιχεία αυτό στην τελευταία θέση της."
   ]
  },
  {
   "cell_type": "code",
   "execution_count": null,
   "id": "48eda411-1191-4e56-aa56-b29c056554b7",
   "metadata": {
    "slideshow": {
     "slide_type": "fragment"
    },
    "tags": []
   },
   "outputs": [],
   "source": [
    "list2 = [1, [2, -1], \"ab\"]\n",
    "list2.append(3.14)\n",
    "list2.append([-1, 2, 0])\n",
    "list2"
   ]
  },
  {
   "cell_type": "markdown",
   "id": "752d8633-a3a4-436d-8f90-aeddc193ddfa",
   "metadata": {
    "slideshow": {
     "slide_type": "subslide"
    },
    "tags": []
   },
   "source": [
    "###  `insert`"
   ]
  },
  {
   "cell_type": "markdown",
   "id": "a96c87c8",
   "metadata": {},
   "source": [
    "Η μέθοδος αυτή χρησιμοποιείται στην περίπτωση όπου η εισαγωγή του στοιχείου πρέπει να γίνει σε συγκεκριμένη θέση. Η πρώτη παράμετρος αφορά την θέση και η δεύτερη το στοιχείο που θα εισαχθεί."
   ]
  },
  {
   "cell_type": "code",
   "execution_count": null,
   "id": "955a407f-b829-49df-87da-8b1c59bb947a",
   "metadata": {
    "slideshow": {
     "slide_type": "fragment"
    },
    "tags": []
   },
   "outputs": [],
   "source": [
    "list3 = [0, 1, 3, 5]\n",
    "list3.insert(2, 'A')\n",
    "list3"
   ]
  },
  {
   "cell_type": "code",
   "execution_count": null,
   "id": "bee89b3c-02e6-4ad5-b282-54f50a9aa87a",
   "metadata": {
    "slideshow": {
     "slide_type": "fragment"
    },
    "tags": []
   },
   "outputs": [],
   "source": [
    "list3.insert(2,[-4, 4])\n",
    "list3"
   ]
  },
  {
   "cell_type": "code",
   "execution_count": null,
   "id": "b9cc4e64-4303-4185-b37d-a7205da24596",
   "metadata": {
    "slideshow": {
     "slide_type": "fragment"
    },
    "tags": []
   },
   "outputs": [],
   "source": [
    "list3[2].insert(1, -2)\n",
    "list3[2].insert(3, 6)\n",
    "list3"
   ]
  },
  {
   "cell_type": "markdown",
   "id": "242f7bc9-a7ba-404c-b316-067243e13e04",
   "metadata": {
    "slideshow": {
     "slide_type": "subslide"
    },
    "tags": []
   },
   "source": [
    "###  `extend`"
   ]
  },
  {
   "cell_type": "markdown",
   "id": "e653f25d",
   "metadata": {},
   "source": [
    "Η μέθοδος αυτή επιτρέπει την προσάρτηση των στοιχείων μιας συλλογής, **iterable**, στο τέλος της λίστας."
   ]
  },
  {
   "cell_type": "code",
   "execution_count": null,
   "id": "41e5755d-7ea3-4adc-b852-b25e003b628e",
   "metadata": {
    "slideshow": {
     "slide_type": "fragment"
    },
    "tags": []
   },
   "outputs": [],
   "source": [
    "list4, list5 = [1, 2, 3], [-3, -2, -1]\n",
    "list4.extend(list5)\n",
    "list4"
   ]
  },
  {
   "cell_type": "code",
   "execution_count": null,
   "id": "b6d92dc3-151e-45f5-babb-952ab2248069",
   "metadata": {
    "slideshow": {
     "slide_type": "fragment"
    },
    "tags": []
   },
   "outputs": [],
   "source": [
    "list6 = ['a', 'b', 'c']\n",
    "list7 = 'defg'\n",
    "list6.extend(list7)\n",
    "list6"
   ]
  },
  {
   "cell_type": "markdown",
   "id": "8d502e21-6839-4eb3-9264-c54bcc96ce32",
   "metadata": {
    "slideshow": {
     "slide_type": "subslide"
    },
    "tags": []
   },
   "source": [
    "Όλες οι προηγούμενες μέθοδοι που παρουσιάστηκαν αποτελούν αυτόνομες εντολές ή εντολές χωρίς εκχώρηση, εντολές **in place** command. Αν δοκιμάσει κανείς να εκχωρήσει το αποτέλεσμα τέτοιων εντολών σε κάποια μεταβλητή θα διαπιστώσει ότι αυτό είναι μια κενή τιμή (None)."
   ]
  },
  {
   "cell_type": "code",
   "execution_count": null,
   "id": "dc88bac7-c374-4ab4-a8c8-eb854a6f8aff",
   "metadata": {
    "slideshow": {
     "slide_type": "fragment"
    },
    "tags": []
   },
   "outputs": [],
   "source": [
    "a = [1, 2, 3]\n",
    "b = a.append(0)\n",
    "a,b,type(b)"
   ]
  },
  {
   "cell_type": "markdown",
   "id": "aaa4165c",
   "metadata": {},
   "source": [
    "### Τελεστές `+`, `*`"
   ]
  },
  {
   "cell_type": "markdown",
   "id": "beeaada9-ee0a-4e84-b818-9b74991add0c",
   "metadata": {
    "slideshow": {
     "slide_type": "subslide"
    },
    "tags": []
   },
   "source": [
    "Ένας ακόμα τρόπος για την εισαγωγή στοιχείων σε μια λίστα, είναι με τη χρήση του τελεστή της πρόσθεσης `+`."
   ]
  },
  {
   "cell_type": "code",
   "execution_count": null,
   "id": "e4f7ceda-d725-4611-a37e-50733e6bbf7c",
   "metadata": {
    "slideshow": {
     "slide_type": "fragment"
    },
    "tags": []
   },
   "outputs": [],
   "source": [
    "list8 = [1, 2, 3]\n",
    "list8 = list8 + [4]\n",
    "list8 += [5]\n",
    "list8"
   ]
  },
  {
   "cell_type": "code",
   "execution_count": null,
   "id": "4ad2b7df-2b6c-4857-9443-708cd865bbe3",
   "metadata": {
    "slideshow": {
     "slide_type": "fragment"
    },
    "tags": []
   },
   "outputs": [],
   "source": [
    "list8 += [6, 7]\n",
    "list8"
   ]
  },
  {
   "cell_type": "markdown",
   "id": "68740e0d-38fe-499c-ae70-8113803733fc",
   "metadata": {},
   "source": [
    "Ο τελεστής `+` έχει υπερφορτωθεί, **overloaded** ώστε να προσθέτει συλλογές όπως είναι οι λίστες. Το παρακάτω παράδειγμα *δεν* θα εκτελεστεί, καθώς η τιμή 3 η οποία προστίθεται στη _list10_ είναι απλός ακέραιος."
   ]
  },
  {
   "cell_type": "code",
   "execution_count": null,
   "id": "3d4a345d-a434-4aaa-a640-b5217bbc6f80",
   "metadata": {
    "slideshow": {
     "slide_type": "fragment"
    },
    "tags": []
   },
   "outputs": [],
   "source": [
    "# list8 += 3"
   ]
  },
  {
   "cell_type": "markdown",
   "id": "8a04feba",
   "metadata": {},
   "source": [
    "Πολλαπλασιάζοντας μια λίστα με έναν ακέραιο αριθμό με τον τελεστή `*`, θα δημιουργήσει μια νέα λίστα όπου τα στοιχεία της αρχικής λίστας επαναλαμβάνονται."
   ]
  },
  {
   "cell_type": "code",
   "execution_count": null,
   "id": "4e38ee30",
   "metadata": {},
   "outputs": [],
   "source": [
    "L = [1,2,3]\n",
    "L = L*2\n",
    "L"
   ]
  },
  {
   "cell_type": "markdown",
   "id": "5a05ee60",
   "metadata": {},
   "source": [
    "## Διαγραφή στοιχείων"
   ]
  },
  {
   "cell_type": "markdown",
   "id": "ba0fae53",
   "metadata": {},
   "source": [
    "- `pop`: Αφαιρεί το στοιχείο της παραμέτρου από τη λίστα. Αν δεν έχει οριστεί, αφαιρεί το τελευταίο στοιχείο.\n",
    "\n",
    "- `del`: Αφαιρεί στοιχεία σύμφωνα με τον καθορισμένο δείκτη ή slice.\n",
    "\n",
    "- `remove`: Αφαιρεί το 1ο στοιχείο που θα βρει με την τιμή της παραμέτρου.\n",
    "\n",
    "- `clear`: Αφαιρεί όλα τα στοιχεία αφήνοντας τη λίστα κενή."
   ]
  },
  {
   "cell_type": "markdown",
   "id": "60616f2d",
   "metadata": {},
   "source": [
    "### `pop`"
   ]
  },
  {
   "cell_type": "markdown",
   "id": "9d2a4873",
   "metadata": {},
   "source": [
    "Η μέθοδος αυτή αφαιρεί στοιχείο μιας συλλογής, **iterable**, και το επιστρέφει. Όταν δεν περιλαμβάνει παράμετρο αφαιρεί το τελευταίο στοιχείο και ουσιαστικά προσομοιώνει την πράξη απώθησης σε μία στοίβα με την `append` να προσομοιώνει την πράξη της ώθησης."
   ]
  },
  {
   "cell_type": "code",
   "execution_count": null,
   "id": "5f530b97",
   "metadata": {},
   "outputs": [],
   "source": [
    "a = [1,2,3,4,5]\n",
    "print(a.pop())   # χωρίς παράμετρο αφαιρεί το τελευταίο στοιχείο\n",
    "print(a)\n",
    "print(a.pop(2)) # με παράμετρο αφαιρεί το στοιχείο της παραμέτρου\n",
    "print(a)"
   ]
  },
  {
   "cell_type": "markdown",
   "id": "17cbab80",
   "metadata": {},
   "source": [
    "### `del`"
   ]
  },
  {
   "cell_type": "markdown",
   "id": "88ed76a2",
   "metadata": {},
   "source": [
    "Η εντολή `del` μπορεί να διαγράψει ένα στοιχείο χρησιμοποιώντας τον δείκτη του, μία ομάδα στοιχείων με **slicing** ή ακόμη και ολόκληρη την λίστα."
   ]
  },
  {
   "cell_type": "code",
   "execution_count": null,
   "id": "0aadc269",
   "metadata": {},
   "outputs": [],
   "source": [
    "L1 = [1, 2, 3, 4, 5, 6]\n",
    "del L1[2]\n",
    "L1"
   ]
  },
  {
   "cell_type": "code",
   "execution_count": null,
   "id": "af1f7a78",
   "metadata": {},
   "outputs": [],
   "source": [
    "L2 = [1, 2, 3, 4, 5, 6]\n",
    "del L2[::2]\n",
    "L2"
   ]
  },
  {
   "cell_type": "code",
   "execution_count": null,
   "id": "66f39321",
   "metadata": {},
   "outputs": [],
   "source": [
    "L3 = [1, 2, 3, 4, 5, 6]\n",
    "del L3\n",
    "# L3 # η L3 δεν υπάρχει πλέον, NameError"
   ]
  },
  {
   "cell_type": "markdown",
   "id": "a351a2c0",
   "metadata": {},
   "source": [
    "### Μέθοδος remove"
   ]
  },
  {
   "cell_type": "markdown",
   "id": "c75c93b3",
   "metadata": {},
   "source": [
    "Η μέθοδος `remove` χρησιμοποιείται για να αφαιρεθεί το πρώτο στοιχείο από μια λίστα που έχει την τιμή της παραμέτρου. Αν το στοιχείο δεν βρεθεί στη λίστα, προκαλείται `ValueError`."
   ]
  },
  {
   "cell_type": "code",
   "execution_count": null,
   "id": "7225054e",
   "metadata": {},
   "outputs": [],
   "source": [
    "fruits = ['apple', 'banana', 'cherry', 'banana', 'orange']\n",
    "fruits.remove('banana')\n",
    "fruits # έχει αφαιρεθεί μόνο η 1η μπανάνα"
   ]
  },
  {
   "cell_type": "code",
   "execution_count": null,
   "id": "cad64538",
   "metadata": {},
   "outputs": [],
   "source": [
    "# ValueError, δεν υπάρχει melon στην λίστα.\n",
    "#fruits.remove('melon')΄"
   ]
  },
  {
   "cell_type": "markdown",
   "id": "0386f27c",
   "metadata": {},
   "source": [
    "## Εφαρμογές, Στοίβα, Ουρά"
   ]
  },
  {
   "cell_type": "markdown",
   "id": "6d0735c9",
   "metadata": {},
   "source": [
    "**Παράδειγμα**\n",
    "\n",
    "Θα υλοποιηθεί πρόγραμμα σε Python το οποίο διαβάζει έναν ακέραιο θετικό αριθμό και εμφανίζει την δυαδική αναπαράσταση του αριθμού. Για να επιτευχθεί το παραπάνω θα πρέπει διαδοχικά να διαιρείται ο αριθμός ακέραια με το 2 μέχρι να μηδενιστεί. Τα υπόλοιπα θα πρέπει να κρατούνται σε μία στοίβα. Στο τέλος απωθώντας και εμφανίζοντας ένα - ένα τα ψηφία από τη στοίβα παίρνεται η δυαδική αναπαράσταση."
   ]
  },
  {
   "cell_type": "code",
   "execution_count": null,
   "id": "e4c5b74c",
   "metadata": {},
   "outputs": [],
   "source": [
    "#n = int(input('Δώσε φυσικό μεγαλύτερο του 1 αριθμό:'))\n",
    "n = 41\n",
    "stack = []\n",
    "while n > 0:\n",
    "    rem = n % 2       #υπόλοιπο διαίρεσης με το 2\n",
    "    stack.append(rem) #προσθήκη στη στοίβα\n",
    "    n = n // 2        #ακέραια διαίρεση με το 2\n",
    "while stack!=[]:      #όσο η στοίβα έχει στοιχεία, εναλλακτικά: while stack: ή while len(stack)>0:\n",
    "    print(str(stack.pop()), end='')"
   ]
  },
  {
   "cell_type": "markdown",
   "id": "67f18188",
   "metadata": {},
   "source": [
    "Κάνοντας χρήση της pop αλλά με παράμετρο 0 αφαιρούμε το πρώτο στοιχείο μιας συλλογής, **iterable**, και το επιστρέφουμε. Με αυτό τον τρόπο μπορούμε να προσομοιώσουμε μία ουρά."
   ]
  },
  {
   "cell_type": "code",
   "execution_count": null,
   "id": "7bd55387",
   "metadata": {},
   "outputs": [],
   "source": [
    "queue = []\n",
    "queue.append('Alan')\n",
    "queue.append('John')\n",
    "queue.append('Tim')\n",
    "print('<-',queue,'<-')\n",
    "queue.pop(0)\n",
    "print('<-',queue,'<-')"
   ]
  },
  {
   "cell_type": "markdown",
   "id": "7ac59f3b",
   "metadata": {},
   "source": [
    "**Παράδειγμα**\n",
    "\n",
    "  Με την βοήθεια της λίστας _fibo_ η οποία θα συμπεριφέρεται ως ουρά θα υλοποιηθεί πρόγραμμα το οποίο θα εμφανίζει τους πρώτους n αριθμούς fibonacci.\n",
    "$$\n",
    "F(0) = 1\n",
    "$$\n",
    "$$\n",
    "F(1) = 1\n",
    "$$\n",
    "$$\n",
    "F(n) = F(n-1) + F(n-2) \\quad \\text{για } n \\geq 2\n",
    "$$\n",
    "</div>"
   ]
  },
  {
   "cell_type": "code",
   "execution_count": null,
   "id": "f15a5965",
   "metadata": {},
   "outputs": [],
   "source": [
    "fibo = []\n",
    "fibo.append(1) \n",
    "fibo.append(1)\n",
    "n = 10\n",
    "for i in range(n):\n",
    "    # Αφαίρεση του πρώτου στοιχείου από την ουρά\n",
    "    fib_number = fibo.pop(0)\n",
    "    print(fib_number, end=' ')\n",
    "\n",
    "    next_fib = fibo[0] + fib_number  # Προσθέτουμε τους δύο τελευταίους\n",
    "    fibo.append(next_fib) "
   ]
  },
  {
   "cell_type": "markdown",
   "id": "78710073",
   "metadata": {},
   "source": [
    "## Αναφορά, Αντίγραφο, Βαθύ Αντίγραφο"
   ]
  },
  {
   "cell_type": "markdown",
   "id": "477ed6d7",
   "metadata": {},
   "source": [
    "### Αναφορά, reference"
   ]
  },
  {
   "cell_type": "markdown",
   "id": "7e703772",
   "metadata": {},
   "source": [
    "Με τον τελεστή της ανάθεσης ουσιαστικά αποθηκεύεται η διεύθυνση μνήμης ενός αντικειμένου, έστω λίστας, και όχι τα δεδομένα του. Με μία νέα μεταβλητή που αναφέρεται στο ίδιο αντικείμενο δεν δημιουργείται νέο αντικείμενο. Απλά η νέα μεταβλητή δείχνει και αυτή στην ίδια διεύθυνση μνήμης. Με αυτόν τον τρόπο κάνοντας μία αλλαγή σε μία αναφορά, όλες οι αναφορές προς το ίδιο αντικείμενο δείχνουν την αλλαγμένη αυτή εκδοχή."
   ]
  },
  {
   "cell_type": "code",
   "execution_count": null,
   "id": "fc6aaac2-101f-44c8-a1fd-b3659acc9df4",
   "metadata": {
    "slideshow": {
     "slide_type": "subslide"
    },
    "tags": []
   },
   "outputs": [],
   "source": [
    "a = [1, 2, 3]\n",
    "# Δημιουργείται μια ακόμη αναφορά στη λίστα\n",
    "b = a            \n",
    "a, b"
   ]
  },
  {
   "cell_type": "code",
   "execution_count": null,
   "id": "a5aa71c5-0e2e-45b0-8511-3907faa386d8",
   "metadata": {
    "slideshow": {
     "slide_type": "fragment"
    },
    "tags": []
   },
   "outputs": [],
   "source": [
    "a == b, a is b    # τα a και b είναι τα ίδια αντικείμενα"
   ]
  },
  {
   "cell_type": "code",
   "execution_count": null,
   "id": "1b68d0e1-e1f6-4158-9d94-81e5ebe8928e",
   "metadata": {
    "slideshow": {
     "slide_type": "subslide"
    },
    "tags": []
   },
   "outputs": [],
   "source": [
    "a[0] = 0          # γι' αυτό κάθε αλλαγή στο ένα\n",
    "b[2] = -1         # επηρεάζει και το άλλο αντικείμενο\n",
    "a, b"
   ]
  },
  {
   "cell_type": "code",
   "execution_count": null,
   "id": "4f9a0d83-56df-4037-869f-ec9d26d93d2a",
   "metadata": {
    "slideshow": {
     "slide_type": "fragment"
    },
    "tags": []
   },
   "outputs": [],
   "source": [
    "id(a), id(b)      # τα a και b αναφέρονται στην ίδια θέση μνήμης"
   ]
  },
  {
   "cell_type": "markdown",
   "id": "346eec2b",
   "metadata": {},
   "source": [
    "### Αντίγραφο, copy"
   ]
  },
  {
   "cell_type": "markdown",
   "id": "f2766519",
   "metadata": {},
   "source": [
    "Στην περίπτωση που απαιτείται η αντιγραφή της λίστας και όχι η απλή αναφορά δύο μεταβλητών στο ίδιο αντικείμενο χρησιμοποιείται η `copy`. Το ίδιο μπορεί να επιτευχθεί και με χρήση υποδιαστημάτων."
   ]
  },
  {
   "cell_type": "code",
   "execution_count": null,
   "id": "f14de7dd",
   "metadata": {},
   "outputs": [],
   "source": [
    "a = [1, 2, 3]\n",
    "b = a.copy()          # Δημιουργείται αντίγραφο της λίστας a\n",
    "b[2] = -1             # το a δεν επηρεάζεται\n",
    "a, b"
   ]
  },
  {
   "cell_type": "markdown",
   "id": "91665261",
   "metadata": {},
   "source": [
    "Κάνοντας χρήση του υποδιαστήματος έχουμε την δυνατότητα να αντιγράψουμε όλη ή μέρος της λίστας."
   ]
  },
  {
   "cell_type": "code",
   "execution_count": null,
   "id": "69954ac7",
   "metadata": {},
   "outputs": [],
   "source": [
    "lstcopy = lst11[:]\n",
    "lstcopy[-1] = 100\n",
    "lst11,lstcopy"
   ]
  },
  {
   "cell_type": "markdown",
   "id": "ecdc541e",
   "metadata": {},
   "source": [
    "Ένα αντικείμενο, μπορεί με την σειρά του να περιέχει αναφορές για άλλα αντικείμενα. Η `copy` δημιουργεί, όπως λέμε, ένα ρηχό αντίγραφο, **shallow copy**. Δηλαδή, η λίστα _b_ περιέχει αναφορές στις ίδιες εσωτερικές λίστες με την _a_. Έτσι, αν αλλάξεις ένα στοιχείο σε μία από αυτές τις εσωτερικές λίστες, η αλλαγή θα επηρεάσει και τις δύο λίστες."
   ]
  },
  {
   "cell_type": "code",
   "execution_count": null,
   "id": "1b38011d",
   "metadata": {},
   "outputs": [],
   "source": [
    "a = [[1, 2, 3],[4,5,6]]\n",
    "b = a.copy()\n",
    "b[1][2]=10\n",
    "a,b"
   ]
  },
  {
   "cell_type": "markdown",
   "id": "c1135032",
   "metadata": {},
   "source": [
    "### Βαθύ αντίγραφο, deep copy, βιβλιοθήκη copy"
   ]
  },
  {
   "cell_type": "markdown",
   "id": "6ccfe56b",
   "metadata": {},
   "source": [
    "Για να αποφευχθεί το παραπάνω αυτό θα πρέπει να δημιουργηθεί ένα βαθύ αντίγραφο, **deep copy**, με πλήρως ανεξάρτητα αντίγραφα των εσωτερικών λιστών. Αυτό μπορεί να γίνει με χρήση της μεθόδου `deepcopy` της βιβλιοθήκης `copy`."
   ]
  },
  {
   "cell_type": "code",
   "execution_count": null,
   "id": "3157a2df",
   "metadata": {},
   "outputs": [],
   "source": [
    "import copy\n",
    "a = [[1, 2, 3],[4,5,6]]\n",
    "b = copy.deepcopy(a)\n",
    "b[1][2]=10\n",
    "a,b"
   ]
  },
  {
   "cell_type": "markdown",
   "id": "69215434",
   "metadata": {
    "slideshow": {
     "slide_type": "subslide"
    },
    "tags": []
   },
   "source": [
    "## Τελεστές `in`, `not in`"
   ]
  },
  {
   "cell_type": "markdown",
   "id": "46b841ae-ec68-4455-8a65-4f96e142b105",
   "metadata": {
    "slideshow": {
     "slide_type": "subslide"
    },
    "tags": []
   },
   "source": [
    "Οι τελεστές `in`, `not in` μπορούν να χρησιμοποιηθούν, εκτός από τις συμβολοσειρές, και στις λίστες για να ελέγξουν εάν ένα στοιχείο είναι μέλος της λίστας ή όχι."
   ]
  },
  {
   "cell_type": "code",
   "execution_count": null,
   "id": "c7dafb52-52a2-4bd7-a227-acb5680996af",
   "metadata": {
    "slideshow": {
     "slide_type": "fragment"
    },
    "tags": []
   },
   "outputs": [],
   "source": [
    "lst11 = [10, 20, 30, 40, 50, 60]\n",
    "10 in lst11,11 in lst11"
   ]
  },
  {
   "cell_type": "code",
   "execution_count": null,
   "id": "d9c0521e-d718-47a0-a021-d772a1bf13e4",
   "metadata": {
    "slideshow": {
     "slide_type": "fragment"
    },
    "tags": []
   },
   "outputs": [],
   "source": [
    "lst12 = [0, -1, [1,2], 'Hello', 84]\n",
    "print([1,2] in lst12)\n",
    "print('Hello' not in lst12)"
   ]
  },
  {
   "cell_type": "markdown",
   "id": "a3ecde40",
   "metadata": {},
   "source": [
    "## Συναρτήσεις σε λίστες"
   ]
  },
  {
   "cell_type": "markdown",
   "id": "e6eb8831-9d57-4805-ad75-1391e7415672",
   "metadata": {},
   "source": [
    "Χρήσιμες συναρτήσεις για τον χειρισμό λιστών είναι οι:\n",
    " \n",
    " - `max(list)`, η οποία επιστρέφει το μέγιστο στοιχείο της _list_΄.\n",
    " \n",
    " - `min(list)`, αντίστοιχα, για το ελάχιστο.\n",
    "\n",
    " - `sum(number_list)`, επιστρέφει το άθροισμα των στοιχείων μιας λίστας αριθμών.\n",
    " \n",
    " - `list(collection)`, δημιουργεί λίστα.\n",
    " \n",
    " - `join(list)`, συνενώνει τα στοιχεία λίστας."
   ]
  },
  {
   "cell_type": "markdown",
   "id": "206eb355",
   "metadata": {},
   "source": [
    "### max, min, sum"
   ]
  },
  {
   "cell_type": "code",
   "execution_count": null,
   "id": "8e91fae2",
   "metadata": {},
   "outputs": [],
   "source": [
    "numbers = [3, 7, 2, 8, 5]\n",
    "maximumValue = max(numbers)\n",
    "minimumValue = min(numbers)\n",
    "sumValue = sum(numbers)\n",
    "print(\"Το μεγαλύτερο στοιχείο είναι:\", maximumValue)\n",
    "print(\"Το μικρότερο στοιχείο είναι:\", minimumValue)\n",
    "print(\"Το άθροισμα των στοιχείων είναι:\", sumValue)"
   ]
  },
  {
   "cell_type": "markdown",
   "id": "fbef2cfe-23ea-476c-bc9a-a7d57c7c6843",
   "metadata": {},
   "source": [
    "### list"
   ]
  },
  {
   "cell_type": "markdown",
   "id": "d7672669-b242-41ab-b0b0-4ace08b24235",
   "metadata": {},
   "source": [
    "Η συνάρτηση `list` δημιουργεί μια λίστα από τα στοιχεία μιας συλλογής την οποία δέχεται ως παράμετρο. Επισημαίνεται ότι η `range` δεν επιστρέφει λίστα, αλλά έναν ειδικό τύπο δεδομένων στην Python, τον τύπο `range`. Ο `range`, όπως και οι λίστες και οι συμβολοσειρές, αποτελούν τύπους *ακολουθίας*. Για να μετατρέψουμε ένα αντικείμενο `range` σε λίστα χρησιμοποιούμε την συνάρτηση `list`."
   ]
  },
  {
   "cell_type": "code",
   "execution_count": null,
   "id": "e0683fbf-40fd-4ba1-8315-8a92d4049da8",
   "metadata": {
    "tags": []
   },
   "outputs": [],
   "source": [
    "my_range = range(10, 100, 5)\n",
    "my_list = list(my_range) # Λίστα από range\n",
    "print(my_list)"
   ]
  },
  {
   "cell_type": "code",
   "execution_count": null,
   "id": "e8b15a3b-1b37-404e-9efb-5ce17d144de8",
   "metadata": {
    "tags": []
   },
   "outputs": [],
   "source": [
    "print(list(\"καλά\")) # Λίστα χαρακτήρων από συμβολοσειρά"
   ]
  },
  {
   "cell_type": "markdown",
   "id": "d2412bae",
   "metadata": {},
   "source": [
    "### join"
   ]
  },
  {
   "cell_type": "markdown",
   "id": "8ca4c7d7",
   "metadata": {},
   "source": [
    "Η μέθοδος `join()`, αντίστροφα, χρησιμοποιείται για τη συνένωση στοιχείων μιας λίστας."
   ]
  },
  {
   "cell_type": "code",
   "execution_count": null,
   "id": "f8c7b9d4",
   "metadata": {},
   "outputs": [],
   "source": [
    "''.join(['κ', 'α', 'λ', 'ά'])"
   ]
  },
  {
   "cell_type": "code",
   "execution_count": null,
   "id": "fea4e27f",
   "metadata": {},
   "outputs": [],
   "source": [
    "'|'.join(['κ', 'α', 'λ', 'ά'])"
   ]
  },
  {
   "cell_type": "markdown",
   "id": "d0d6f031",
   "metadata": {},
   "source": [
    "**Παράδειγμα**\n",
    "\n",
    "Στην επόμενη λίστα, που περιλαμβάνει λίστες, ως γραμμές και στήλες, θα προσπελαστούν σε μία επανάληψη οι γραμμές και κάθε λίστα-γραμμή θα τυπωθεί ολόκληρη με χρήση της `join` που θα ενώσει όλα τα στοιχεία με το σύμβολο _|_ ανάμεσα."
   ]
  },
  {
   "cell_type": "code",
   "execution_count": null,
   "id": "48bd9a8d",
   "metadata": {},
   "outputs": [],
   "source": [
    "board = [\n",
    "    ['X', ' ', 'O'],\n",
    "    ['O', 'X', 'X'],\n",
    "    ['X', ' ', ' ']\n",
    "]\n",
    "\n",
    "print(\"-\" * 10)\n",
    "for row in board:\n",
    "    print(\" | \".join(row))\n",
    "    print(\"-\" * 10)"
   ]
  },
  {
   "cell_type": "markdown",
   "id": "85563ee1-4a50-4934-a3cc-19a6a6cb449c",
   "metadata": {
    "slideshow": {
     "slide_type": "slide"
    },
    "tags": []
   },
   "source": [
    "# Πλειάδες, `tuple`"
   ]
  },
  {
   "cell_type": "markdown",
   "id": "9062c89b-6160-4b41-a947-740017688555",
   "metadata": {
    "slideshow": {
     "slide_type": "subslide"
    },
    "tags": []
   },
   "source": [
    "Η πλειάδα, `tuple` είναι ένας τύπος αντικειμένου ακολουθίας.\n",
    "\n",
    "- Τα στοιχεία μέσα της, όπως και στις λίστες, είναι διατεταγμένα και μπορεί να είναι ομογενή ή ετερογενή\n",
    "\n",
    "- Είναι αμετάβλητη, **immutable** δομή, γι' αυτό, σε πολλές περιπτώσεις, προτιμάται από τις λίστες - Ακεραιότητα Δεδομένων."
   ]
  },
  {
   "cell_type": "markdown",
   "id": "52efdeba-e962-4e28-a1de-0a020bd8f25d",
   "metadata": {
    "slideshow": {
     "slide_type": "slide"
    },
    "tags": []
   },
   "source": [
    "## Δημιουργία"
   ]
  },
  {
   "cell_type": "markdown",
   "id": "e9e9ba0c-173f-4540-a6e3-59843ef0522a",
   "metadata": {},
   "source": [
    "Μία πλειάδα μπορεί να δημιουργηθεί με μία χωρισμένη με κόμματα λίστα τιμών. Οι παρενθέσεις συνηθίζονται αλλά δεν είναι απαραίτητες."
   ]
  },
  {
   "cell_type": "code",
   "execution_count": null,
   "id": "19b95e93-23a5-48e4-88c9-9ed41201f602",
   "metadata": {
    "slideshow": {
     "slide_type": "subslide"
    },
    "tags": []
   },
   "outputs": [],
   "source": [
    "a = 1, 2, 3\n",
    "print(a)\n",
    "b = (0, 15)\n",
    "print(b)"
   ]
  },
  {
   "cell_type": "markdown",
   "id": "d871fcaa-58c0-44d3-b394-6b27d4de372e",
   "metadata": {
    "slideshow": {
     "slide_type": "subslide"
    },
    "tags": []
   },
   "source": [
    "Εφόσον θέλουμε να δημιουργήσουμε μία πλειάδα με μόνο μία τιμή απλά προσθέτουμε ένα κόμμα μετά το στοιχείο. Στις επόμενες δηλώσεις η _t_ είναι πλειάδα ενώ η _s_ `str`."
   ]
  },
  {
   "cell_type": "code",
   "execution_count": null,
   "id": "a91fe150-bb7d-4cfc-83cd-fcd03fffeed5",
   "metadata": {
    "tags": []
   },
   "outputs": [],
   "source": [
    "t = 'Python',\n",
    "s = 'Python'\n",
    "type(t),type(s)"
   ]
  },
  {
   "cell_type": "markdown",
   "id": "e91dfcfc-a128-40fb-a124-acd0b46f9e2b",
   "metadata": {},
   "source": [
    "Μια πλειάδα με ένα στοιχείο έχει ένα κόμμα στο τέλος. Η συνάρτηση `len` επιστρέφει το μήκος μιας ακολουθίας (λίστας, συμβολοσειράς, πλειάδας, κ.λπ.)."
   ]
  },
  {
   "cell_type": "code",
   "execution_count": null,
   "id": "e47fa01d-47ad-46d2-bc0b-7e366c501797",
   "metadata": {
    "tags": []
   },
   "outputs": [],
   "source": [
    "pleiade = (2,)\n",
    "len(pleiade)"
   ]
  },
  {
   "cell_type": "markdown",
   "id": "d5e18ea5-a8d6-4a74-829c-bc4091a023fa",
   "metadata": {
    "slideshow": {
     "slide_type": "subslide"
    },
    "tags": []
   },
   "source": [
    "## Προσπέλαση στοιχείων"
   ]
  },
  {
   "cell_type": "markdown",
   "id": "2e72feb8-3457-4024-97d1-30497a9cc7d9",
   "metadata": {},
   "source": [
    "Επιπλέον, πλειάδα δημιουργείται και με τη συνάρτηση `tuple`. Μπορούμε να μην περάσουμε καμία παράμετρο στην συνάρτηση με αποτέλεσμα ένα `tuple` χωρίς στοιχεία ή κάποιο `str`, `list` ή `tuple` με αποτέλεσμα μία πλειάδα που θα έχει για στοιχεία τα στοιχεία του string ή της λίστας."
   ]
  },
  {
   "cell_type": "code",
   "execution_count": null,
   "id": "80b54b46-3061-4ca2-9cde-feb9627f20de",
   "metadata": {
    "slideshow": {
     "slide_type": "subslide"
    },
    "tags": []
   },
   "outputs": [],
   "source": [
    "t1 = ()\n",
    "t2 = tuple('Python')\n",
    "t3 = tuple([4,3,2,1])\n",
    "t1,t2,t3"
   ]
  },
  {
   "cell_type": "markdown",
   "id": "6ff6a3cf-19a6-43c5-93b7-b695fd25f10f",
   "metadata": {},
   "source": [
    "Μία πλειάδα μπορεί να περιέχει σύνθετα δεδομένα όπως μία λίστα ή ένα `str`. Μπορούμε να προσπελάσουμε τα στοιχεία όπως ακριβώς και στις λίστες. Η επιλογή μέρους της πλειάδας με τον τελεστή διαμέρισης έχει ως αποτέλεσμα μία νέα πλειάδα."
   ]
  },
  {
   "cell_type": "code",
   "execution_count": null,
   "id": "12c8413e",
   "metadata": {
    "slideshow": {
     "slide_type": "subslide"
    },
    "tags": []
   },
   "outputs": [],
   "source": [
    "d = (1, 2, 3, 4, 'Python', ['a', 'b', 'c'])\n",
    "d[1],d[5],d[5][2],d[-2][0]"
   ]
  },
  {
   "cell_type": "code",
   "execution_count": null,
   "id": "1bf5fe4f",
   "metadata": {
    "slideshow": {
     "slide_type": "subslide"
    },
    "tags": []
   },
   "outputs": [],
   "source": [
    "e = d[1:3]\n",
    "type(e),e"
   ]
  },
  {
   "cell_type": "code",
   "execution_count": null,
   "id": "4b7a0a81-75e8-487e-af6e-8213cf2f0dae",
   "metadata": {
    "slideshow": {
     "slide_type": "subslide"
    },
    "tags": []
   },
   "outputs": [],
   "source": [
    "d[::-1]   # Θα επιστραφούν τα στοιχεία της πλειάδας με αντίστροφη σειρά"
   ]
  },
  {
   "cell_type": "markdown",
   "id": "727ed6d2-ab7c-430b-aaae-0579aebe14b8",
   "metadata": {
    "slideshow": {
     "slide_type": "subslide"
    },
    "tags": []
   },
   "source": [
    "Παρόλο που τα στοιχεία μιας πλειάδας δεν μπορούν να αλλάξουν, εάν περιέχει μεταβαλλόμενες δομές π.χ. λίστες, τα στοιχεία εκείνων μπορούν να τροποποιηθούν"
   ]
  },
  {
   "cell_type": "code",
   "execution_count": null,
   "id": "7f3cb2b4-4c66-499a-9a23-d8b616afd3e3",
   "metadata": {
    "slideshow": {
     "slide_type": "subslide"
    },
    "tags": []
   },
   "outputs": [],
   "source": [
    "#d[2] = 18  #TypeError: 'tuple' object does not support item assignment"
   ]
  },
  {
   "cell_type": "code",
   "execution_count": null,
   "id": "dfa13542-8ec2-4e32-8a8e-ac3eb0c94e53",
   "metadata": {
    "slideshow": {
     "slide_type": "subslide"
    },
    "tags": []
   },
   "outputs": [],
   "source": [
    "d[5][0] = 'Hello'\n",
    "d"
   ]
  },
  {
   "cell_type": "markdown",
   "id": "cd48e972",
   "metadata": {
    "slideshow": {
     "slide_type": "subslide"
    },
    "tags": []
   },
   "source": [
    "## Τελεστές"
   ]
  },
  {
   "cell_type": "markdown",
   "id": "5b5dbc4a-9739-431a-bed8-00c3520cbb29",
   "metadata": {
    "slideshow": {
     "slide_type": "subslide"
    },
    "tags": []
   },
   "source": [
    "Στην πλειάδα, όπως και στις λίστες γίνεται υπερφόρτωση των τελεστών **συνένωσης**, `+`, και **επανάληψης**, `*`."
   ]
  },
  {
   "cell_type": "code",
   "execution_count": null,
   "id": "a73ad79d-fe6a-4d2d-b6aa-829110844bcd",
   "metadata": {
    "slideshow": {
     "slide_type": "subslide"
    },
    "tags": []
   },
   "outputs": [],
   "source": [
    "a = 1, 2, 3\n",
    "b = (0, 15)\n",
    "print(a + b)\n",
    "print (a * 3)\n",
    "print((5,)*10)"
   ]
  },
  {
   "cell_type": "markdown",
   "id": "da94f2f9-24c6-4770-b509-bfe1512c1903",
   "metadata": {
    "slideshow": {
     "slide_type": ""
    },
    "tags": []
   },
   "source": [
    "Είναι συντακτικό λάθος να προσθέσουμε άλλο τύπο δεδομένων όπως `float` ή `int` με τον τελεστή `+` (ή `+=`) σε μία πλειάδα. Με την προσθήκη όμως του `','` ουσιαστικά δημιουργούμε μία πλειάδα με ένα μόνο στοιχείο που μπορεί να προστεθεί."
   ]
  },
  {
   "cell_type": "code",
   "execution_count": null,
   "id": "e7fd156f-b1a7-4af0-b1b2-d167afd4f879",
   "metadata": {
    "slideshow": {
     "slide_type": "subslide"
    },
    "tags": []
   },
   "outputs": [],
   "source": [
    "# a += 19.3 # ΤypeError: can only concatenate tuple (not \"float\") to tuple"
   ]
  },
  {
   "cell_type": "code",
   "execution_count": null,
   "id": "e8e6945b-965b-4da6-a7c8-4dc56425360e",
   "metadata": {
    "slideshow": {
     "slide_type": "subslide"
    },
    "tags": []
   },
   "outputs": [],
   "source": [
    "a += (19.3,)     # Πλειάδα με ένα μόνο στοιχείο\n",
    "a"
   ]
  },
  {
   "cell_type": "markdown",
   "id": "887fa830-a10b-4dca-9619-e15f3ff40488",
   "metadata": {
    "slideshow": {
     "slide_type": ""
    },
    "tags": []
   },
   "source": [
    "Οι τελεστές **σύγκρισης**, `<`, `>`, `==`,`>=`, `<=`, `!=` δουλεύουν και με πλειάδες αλλά και άλλες δομές όπως λίστες ή αλφαριθμητικά. Σε όλες αυτές τις δομές η σύγκριση ξεκινά από τα πρώτα στοιχεία. Αν αυτά είναι ίσα συνεχίζει στο επόμενο κ.ο.κ.. Τα στοιχεία θα πρέπει να μπορούν να συγκριθούν. Σε διαφορετική περίπτωση θα προκύψει `TypeError`."
   ]
  },
  {
   "cell_type": "code",
   "execution_count": null,
   "id": "b031cc48-38f3-4961-bd71-9b78c6c526b9",
   "metadata": {
    "slideshow": {
     "slide_type": ""
    },
    "tags": []
   },
   "outputs": [],
   "source": [
    "(1,2,3) > (2,1,3),(1,2,99999) < (1,3,3)"
   ]
  },
  {
   "cell_type": "code",
   "execution_count": null,
   "id": "925facce-f0ff-468b-bce2-2d2c82ac74fc",
   "metadata": {
    "slideshow": {
     "slide_type": ""
    },
    "tags": []
   },
   "outputs": [],
   "source": [
    "# (1,2,3) > (1,2,'python') \n",
    "# ΤypeError: '>' not supported between instances of 'int' and 'str'"
   ]
  },
  {
   "cell_type": "markdown",
   "id": "71ab2a8f-4484-4a59-8f57-ad87ddc36db9",
   "metadata": {
    "slideshow": {
     "slide_type": ""
    },
    "tags": []
   },
   "source": [
    "Όπως και στις λίστες οι **τελεστές μέλους**, `in` και `not in` ελέγχουν αν ένα στοιχείο είναι μέλος του `tuple` ή όχι."
   ]
  },
  {
   "cell_type": "code",
   "execution_count": null,
   "id": "81b065a6-7ee3-486f-a241-027d5828f422",
   "metadata": {
    "tags": []
   },
   "outputs": [],
   "source": [
    "a = tuple([1,3,5,7,9])\n",
    "a,3 in a"
   ]
  },
  {
   "cell_type": "markdown",
   "id": "fffd47b9-a449-4d9c-99a6-912412482f02",
   "metadata": {
    "slideshow": {
     "slide_type": "subslide"
    },
    "tags": []
   },
   "source": [
    "**Παράδειγμα**\n",
    "\n",
    "Θα προσπελαστούν με τη βοήθεια δομής επανάληψης τα στοιχεία πλειάδας."
   ]
  },
  {
   "cell_type": "code",
   "execution_count": null,
   "id": "08da4ffc-42ea-41e0-8323-52f48931ae96",
   "metadata": {
    "slideshow": {
     "slide_type": "fragment"
    },
    "tags": []
   },
   "outputs": [],
   "source": [
    "fullName = tuple('Maria Alexandrou')\n",
    "print(fullName)\n",
    "for char in fullName :\n",
    "    print(char, end=' ')\n",
    "print()\n",
    "for i in range(len(fullName)):\n",
    "    print(fullName[i], end=' ')"
   ]
  },
  {
   "cell_type": "markdown",
   "id": "33543614",
   "metadata": {
    "slideshow": {
     "slide_type": "subslide"
    },
    "tags": []
   },
   "source": [
    "## Μέθοδοι, συναρτήσεις"
   ]
  },
  {
   "cell_type": "markdown",
   "id": "6f0641b8-7e2c-49c4-9a14-770c1e18ab8b",
   "metadata": {
    "slideshow": {
     "slide_type": "subslide"
    },
    "tags": []
   },
   "source": [
    "- `index`: (μέθοδος) αναζητά κι επιστρέφει τη θέση που βρίσκεται μια τιμή. Προσοχή: Αν η τιμή δεν υπάρχει καθόλου στην πλειάδα προκαλείται `ValueError`.\n",
    "\n",
    "- `count`: (μέθοδος) αναζητά κι επιστρέφει πόσες φορές εμφανίζεται μια τιμή μέσα στην πλειάδα.\n",
    "\n",
    "- `len`: (συνάρτηση) μήκος του tuple αριθμός, δηλαδή, στοιχείων.\n",
    "\n",
    "- `sum`: (συνάρτηση) άθροισμα στοιχείων.\n",
    "\n",
    "- `max`: (συνάρτηση) μέγιστο στοιχείο.\n",
    "\n",
    "- `min`: (συνάρτηση) ελάχιστο στοιχείο.\n",
    "\n",
    "- `sorted`: (συνάρτηση) επιστρέφει ταξινομημένη την πλειάδα.\n"
   ]
  },
  {
   "cell_type": "markdown",
   "id": "bf235f57",
   "metadata": {},
   "source": [
    "**Παράδειγμα**\n",
    "\n",
    "Θα δημιουργηθεί πλειάδα με 10 τυχαίους αριθμούς και στην συνέχεια θα εφαρμοστούν οι παραπάνω συναρτήσεις. Για την δημιουργία της πλειάδας θα χρησιμοποιηθεί τεχνική **comprehension** που θα αναλυθεί στην συνέχεια."
   ]
  },
  {
   "cell_type": "code",
   "execution_count": null,
   "id": "7f300524-4f76-4ef2-8535-1c809fe38067",
   "metadata": {
    "slideshow": {
     "slide_type": ""
    },
    "tags": []
   },
   "outputs": [],
   "source": [
    "import random\n",
    "Z = tuple(random.randint(1, 10) for i in range(20))\n",
    "\n",
    "Z,Z.index(5), Z.count(10),len(Z),sum(Z),max(Z),min(Z),sorted(Z) "
   ]
  },
  {
   "cell_type": "markdown",
   "id": "b2cbf8df",
   "metadata": {},
   "source": [
    "**Παράδειγμα**\n",
    "\n",
    "Να δημιουργηθεί πλειάδα με 10000 τυχαίες πραγματικές τιμές από το -50 μέχρι το 50. Να υπολογιστούν και να εκτυπωθούν ο αριθμητικός μέσος $\\overline{x}$, η διακύμανση $s^2$ και η τυπική απόκλιση $s$.\n",
    "\n",
    "$$\\overline{x} = \\frac{\\sum_{i=1}^{n}{x_i}}{n}, \\hspace{1cm} s^2 = \\frac{\\sum_{i=1}^{n}{(x_i - \\overline{x})^2}}{n-1},  \\hspace{1cm} s = \\sqrt{s^2}$$"
   ]
  },
  {
   "cell_type": "code",
   "execution_count": null,
   "id": "fc6cdbb0-9487-474d-b053-d6530ed79d63",
   "metadata": {
    "slideshow": {
     "slide_type": ""
    },
    "tags": []
   },
   "outputs": [],
   "source": [
    "X = tuple(random.uniform(-50,50) for i in range(10000))\n",
    "#X = ()\n",
    "#for i in range(10000):\n",
    "#    X += random.uniform(-50,50),\n",
    "X[2:5]"
   ]
  },
  {
   "cell_type": "code",
   "execution_count": null,
   "id": "91600b1c-2960-47bb-80f5-af2b1d20fc39",
   "metadata": {},
   "outputs": [],
   "source": [
    "mu = sum(X)/len(X)\n",
    "S = 0\n",
    "for value in X:\n",
    "    S  += (value - mu)**2\n",
    "S = S/(len(X)-1)"
   ]
  },
  {
   "cell_type": "code",
   "execution_count": null,
   "id": "1c016e0e-9cd9-4015-8b94-d40a23960790",
   "metadata": {
    "slideshow": {
     "slide_type": "subslide"
    },
    "tags": []
   },
   "outputs": [],
   "source": [
    "print('Αριθμητικός μέσος:', mu)\n",
    "print('Διακύμανση:', S)\n",
    "print('Τυπική απόκλιση:', S**(1/2))"
   ]
  },
  {
   "cell_type": "markdown",
   "id": "8d4a4de3-c15a-4a12-ac02-27b2f84c3128",
   "metadata": {
    "slideshow": {
     "slide_type": "subslide"
    },
    "tags": []
   },
   "source": [
    "## Ανάθεση"
   ]
  },
  {
   "cell_type": "markdown",
   "id": "508c752d",
   "metadata": {},
   "source": [
    "Υπάρχει η δυνατότητα ένα `tuple` να βρίσκεται στην αριστερή πλευρά μίας εντολής ανάθεσης. Αυτό μας επιτρέπει να αναθέτουμε τιμές σε παραπάνω από μία μεταβλητές ταυτόχρονα. Η λειτουργία αυτή επιτρέπει, για παράδειγμα, την αντιμετάθεση τιμών με μία μόνο εντολή. Το δεξί μέρος της ανάθεσης μπορεί να είναι `list`, `str` ή `tuple`. Η διαδικασία αυτή ονομάζεται **unpacking**."
   ]
  },
  {
   "cell_type": "code",
   "execution_count": null,
   "id": "ec9206fd",
   "metadata": {
    "slideshow": {
     "slide_type": ""
    },
    "tags": []
   },
   "outputs": [],
   "source": [
    "x, y = 7, 6"
   ]
  },
  {
   "cell_type": "markdown",
   "id": "61004eb1",
   "metadata": {},
   "source": [
    "**Παράδειγμα**\n",
    "\n",
    "Μία κλασική εφαρμογή της ταυτόχρονης ανάθεσης είναι η αντιμετάθεση τιμών δύο μεταβλητών."
   ]
  },
  {
   "cell_type": "code",
   "execution_count": null,
   "id": "821de827",
   "metadata": {
    "slideshow": {
     "slide_type": ""
    },
    "tags": []
   },
   "outputs": [],
   "source": [
    "a = 5\n",
    "b = 3\n",
    "a, b = b, a\n",
    "a,b"
   ]
  },
  {
   "cell_type": "code",
   "execution_count": null,
   "id": "4ae769ab",
   "metadata": {
    "slideshow": {
     "slide_type": ""
    },
    "tags": []
   },
   "outputs": [],
   "source": [
    "k,l = ['samos','ikaria']\n",
    "k, l"
   ]
  },
  {
   "cell_type": "markdown",
   "id": "c0b302a3",
   "metadata": {},
   "source": [
    "**Παράδειγμα**\n",
    "\n",
    "Η `split` θα διαχωρίσει ένα email στο '@' και μία ημερομηνία στις '-'. Στην συνέχεια τα ξεχωριστά στοιχεία θα ανατεθούν ταυτόχρονα σε αντίστοιχες μεταβλητές."
   ]
  },
  {
   "cell_type": "code",
   "execution_count": null,
   "id": "7504a632",
   "metadata": {
    "slideshow": {
     "slide_type": ""
    },
    "tags": []
   },
   "outputs": [],
   "source": [
    "email = \"a_user@aegean.gr\"\n",
    "username,domain = email.split('@')\n",
    "print(username, domain)"
   ]
  },
  {
   "cell_type": "code",
   "execution_count": null,
   "id": "298eccd2",
   "metadata": {
    "slideshow": {
     "slide_type": ""
    },
    "tags": []
   },
   "outputs": [],
   "source": [
    "year,month,day = '2024-02-29'.split('-')\n",
    "print(year, month, day)"
   ]
  },
  {
   "cell_type": "markdown",
   "id": "0dc24a9a",
   "metadata": {},
   "source": [
    "Εφόσον το δεξί μέλος της ανάθεσης είναι ένα `str` με τρεις χαρακτήρες, η ταυτόχρονη ανάθεση σε τρεις μεταβλητές θα διαχωρίσει τους χαρακτήρες."
   ]
  },
  {
   "cell_type": "code",
   "execution_count": null,
   "id": "c8258736-ad62-4c7c-af66-56c3de805abf",
   "metadata": {
    "slideshow": {
     "slide_type": ""
    },
    "tags": []
   },
   "outputs": [],
   "source": [
    "d1,d2,d3 = '465'\n",
    "print(d1, d2, d3)"
   ]
  },
  {
   "cell_type": "markdown",
   "id": "85a34a9f-1463-4895-9b20-52a8c7415f90",
   "metadata": {
    "slideshow": {
     "slide_type": ""
    },
    "tags": []
   },
   "source": [
    "Θα πρέπει ο αριθμός των μεταβλητών στα αριστερά της ανάθεσης να είναι ίσος με τον αριθμό των εκφράσεων στα δεξιά. Σε διαφορετική περίπτωση ο διερμηνευτής θα μας ενημερώσει για το λάθος."
   ]
  },
  {
   "cell_type": "code",
   "execution_count": null,
   "id": "ec604261-3bbb-49d3-9870-ad0d3e994ca8",
   "metadata": {
    "slideshow": {
     "slide_type": ""
    },
    "tags": []
   },
   "outputs": [],
   "source": [
    "# a,b,c = 1,2 # ValueError: not enough values to unpack (expected 3, got 2)\n",
    "# a,b,c = 1,2,3,4 # ValueError: too many values to unpack (expected 3)\n",
    "# d1,d2,d3,d4 = '465' # ValueError: not enough values to unpack (expected 4, got 3)"
   ]
  },
  {
   "cell_type": "markdown",
   "id": "490fa44c",
   "metadata": {},
   "source": [
    "## packing, unpacking"
   ]
  },
  {
   "cell_type": "markdown",
   "id": "8f19f64e-a630-48ae-9815-4afb798fe371",
   "metadata": {
    "slideshow": {
     "slide_type": ""
    },
    "tags": []
   },
   "source": [
    "Σε περίπτωση που δεν γνωρίζουμε ή δεν μας ενδιαφέρει ο αριθμός των μεταβλητών αλλά θέλουμε να επιλέξουμε μεταβλητές στο τέλος ή στην αρχή μίας ακολουθίας τιμών υπάρχει η δυνατότητα της χρήσης του τελεστή `*`. Ο τελεστής αυτός υλοποιεί την λειτουργία του **packing** δηλαδή πακετάρει το υπόλοιπο των τιμών σε μία νέα δομή. Η δομή που δημιουργείται είναι δομή λίστας. Έτσι στο παραπάνω παράδειγμα αν μας ενδιαφέρουν οι δύο πρώτες τιμές, ή η πρώτη και τελευταία τιμή μπορούμε να εφαρμόσουμε τον τελεστή."
   ]
  },
  {
   "cell_type": "code",
   "execution_count": null,
   "id": "45a947fc",
   "metadata": {
    "slideshow": {
     "slide_type": ""
    },
    "tags": []
   },
   "outputs": [],
   "source": [
    "first,second,*rest = 1,2,3,4\n",
    "first,second,rest"
   ]
  },
  {
   "cell_type": "code",
   "execution_count": null,
   "id": "20a0e957-dbd1-41f1-b74f-3fe3e8de2eb0",
   "metadata": {
    "slideshow": {
     "slide_type": ""
    },
    "tags": []
   },
   "outputs": [],
   "source": [
    "first,*rest,last = 1,2,3,4\n",
    "first,last,rest"
   ]
  },
  {
   "cell_type": "markdown",
   "id": "6bb0097b-3596-43b5-9576-456f7f2376b0",
   "metadata": {},
   "source": [
    "Η ανάθεση σε πλειάδα είναι πολύ χρήσιμη όταν χρειαζόμαστε μία δομή επανάληψης σε μία δομή που περιλαμβάνει με τη σειρά της άλλες δομές."
   ]
  },
  {
   "cell_type": "code",
   "execution_count": null,
   "id": "385ce81f-14a1-481a-b56f-7aaf5b76a8b7",
   "metadata": {
    "slideshow": {
     "slide_type": ""
    },
    "tags": []
   },
   "outputs": [],
   "source": [
    "countries_capitals = [['Greece', 'Athens'], \n",
    "             ['Uruguay', 'Montevideo']]\n",
    "for country, capital in countries_capitals:\n",
    "    print('Capital of ',country,'is',capital)"
   ]
  },
  {
   "cell_type": "code",
   "execution_count": null,
   "id": "1b992777-2b1a-42e5-b3be-8939596942a2",
   "metadata": {
    "slideshow": {
     "slide_type": ""
    },
    "tags": []
   },
   "outputs": [],
   "source": [
    "countries_cities = [\n",
    "    ['Greece', 'Athens', 'Thessaloniki'],\n",
    "    ['Uruguay', 'Montevideo', 'Salto', 'Ciudad de la Costa', 'Paysandú']\n",
    "]\n",
    "for country,*cities in countries_cities:\n",
    "    print('Big cities of',country, 'are',cities)"
   ]
  },
  {
   "cell_type": "markdown",
   "id": "f41cda0f",
   "metadata": {},
   "source": [
    "Η τεχνική **unpacking** μπορεί να χρησιμοποιηθεί όταν θέλουμε να περάσουμε τα στοιχεία μίας δομής ως παραμέτρους σε μία συνάρτηση."
   ]
  },
  {
   "cell_type": "code",
   "execution_count": null,
   "id": "02a7b04a",
   "metadata": {},
   "outputs": [],
   "source": [
    "def add(a,b):\n",
    "    return a+b\n",
    "t = (4,3)\n",
    "add(*t)"
   ]
  },
  {
   "cell_type": "markdown",
   "id": "6f4a2cc9-65d4-4fcb-b7e4-a6c660622c74",
   "metadata": {
    "slideshow": {
     "slide_type": "slide"
    },
    "tags": []
   },
   "source": [
    "<a id=\"ds_dicts\"></a>\n",
    "# Λεξικά, dict"
   ]
  },
  {
   "cell_type": "markdown",
   "id": "86353e3e-ac4d-48f3-bcf4-d06a01432d15",
   "metadata": {
    "slideshow": {
     "slide_type": ""
    },
    "tags": []
   },
   "source": [
    "Το λεξικό, `dict`, είναι μια ενσωματωμένη μη διατεταγμένη και μεταβαλλόμενη δομή της Python.\n",
    "\n",
    "- Η αποθήκευση των δεδομένων γίνεται σε ζεύγη, κλειδιών-τιμών.\n",
    "\n",
    "- Είναι μη διατεταγμένη δομή και η πρόσβαση στα στοιχεία της γίνεται με βάση τις τιμές _μοναδικών_ κλειδιών.\n",
    "\n",
    "- Τα κλειδιά ενός λεξικού πρέπει να είναι αμετάβλητα (όπως συμβολοσειρές, αριθμοί ή πλειάδες).\n",
    "\n",
    "- Είναι μεταβλητή, **mutable** δομή.\n",
    "\n",
    "- Είναι ένα αντικείμενο αντιστοίχισης, mapping, και η πρόσβαση στα στοιχεία της γίνεται με μεθόδους ή επαναληπτικές δομές.\n",
    "\n",
    "Η γενική μορφή του είναι: {κλειδί 1:τιμή 1, κλειδί 2:τιμή 2, κλειδί 3:τιμή 3, …}."
   ]
  },
  {
   "cell_type": "markdown",
   "id": "c75f865c-0ee9-4301-a040-84cd851efbe5",
   "metadata": {
    "slideshow": {
     "slide_type": "subslide"
    },
    "tags": []
   },
   "source": [
    "## Δημιουργία"
   ]
  },
  {
   "cell_type": "markdown",
   "id": "3b8bdd5e",
   "metadata": {},
   "source": [
    "Ένα λεξικό μπορεί να δημιουργηθεί με τους επόμενους τρόπους:\n",
    "\n",
    "- **{}**: Άδειο λεξικό χωρίς κλειδιά, τιμές.\n",
    "\n",
    "- **dict()**: Άδειο λεξικό χωρίς κλειδιά, τιμές.\n",
    "\n",
    "- **{key1:value1,key2:value2,...}**: Λεξικό με διάφορα ζεύγη κλειδιού, τιμής.\n",
    "\n",
    "- **dict([(key1, value1), (key2, value2),...)**: Δέχεται λίστα με tuples με το καθένα να περιέχει ζεύγη κλειδιού, τιμής.\n",
    "\n",
    "- **keys=[key1,key2,....];values=[value1,value2];dict(zip(keys, values))**: Με συνένωση 2 άλλων λιστών με χρήση της συνάρτησης zip()\n",
    "\n",
    "- **dict(key1 = value1, key2 = value2,...)**: ζεύγη στη μορφή κλειδί=τιμή\n",
    "\n",
    "- **dict(['kv','kv',...])**: Με ακολουθίες από ζεύγη, π.χ. strings, tuples κ.λπ.\n",
    "\n",
    "- **fromkeys(keys,values)**: Επιστρέφει λεξικό με κλειδιά keys και τιμή value."
   ]
  },
  {
   "cell_type": "code",
   "execution_count": null,
   "id": "3a90ad85-d837-4766-8069-b5c7742bac12",
   "metadata": {
    "slideshow": {
     "slide_type": ""
    },
    "tags": []
   },
   "outputs": [],
   "source": [
    "# Άδειο λεξικό\n",
    "empty_dict = {}      # ή empty_dict = dict()\n",
    "empty_dict"
   ]
  },
  {
   "cell_type": "code",
   "execution_count": null,
   "id": "ef3e43bf-67e0-40bc-8c59-4b318994771b",
   "metadata": {
    "slideshow": {
     "slide_type": ""
    },
    "tags": []
   },
   "outputs": [],
   "source": [
    "# {key1:value1,key2:value2,...}\n",
    "country_info = {'Greece':'gr', 'Cyprus':'cy', 'Spain':'es', 'France':'fr', 'Guinea':'gn'}\n",
    "country_info"
   ]
  },
  {
   "cell_type": "code",
   "execution_count": null,
   "id": "913f7389-41a1-4a0b-8bb8-d2baf599fddf",
   "metadata": {
    "slideshow": {
     "slide_type": ""
    },
    "tags": []
   },
   "outputs": [],
   "source": [
    "country_info = dict([(\"Greece\", \"gr\"), ('Cyprus', \"cy\"), ('Spain', 'es')])\n",
    "country_info"
   ]
  },
  {
   "cell_type": "code",
   "execution_count": null,
   "id": "01ac1e5c-7fca-4bf0-8c35-a0d9512fa1d3",
   "metadata": {
    "slideshow": {
     "slide_type": ""
    },
    "tags": []
   },
   "outputs": [],
   "source": [
    "country_info = dict(Greece = 'gr', Cyprus = 'cy', Spain='sp', France = 'fr', Guinea = 'gn')\n",
    "country_info"
   ]
  },
  {
   "cell_type": "code",
   "execution_count": null,
   "id": "4f3e4045",
   "metadata": {},
   "outputs": [],
   "source": [
    "dict.fromkeys(('a','b','c'),'x')"
   ]
  },
  {
   "cell_type": "code",
   "execution_count": null,
   "id": "68f2add4",
   "metadata": {},
   "outputs": [],
   "source": [
    "# αν δεν καθοριστεί τιμή, αυτή θα είναι None\n",
    "dict.fromkeys(('a','b','c'))"
   ]
  },
  {
   "cell_type": "markdown",
   "id": "e053d055",
   "metadata": {},
   "source": [
    "## Προσπέλαση"
   ]
  },
  {
   "cell_type": "markdown",
   "id": "754ce0aa",
   "metadata": {},
   "source": [
    "### keys, values, items"
   ]
  },
  {
   "cell_type": "markdown",
   "id": "ab09ba4d-0ff0-4351-9fe5-9c0a0f810b41",
   "metadata": {
    "slideshow": {
     "slide_type": "subslide"
    },
    "tags": []
   },
   "source": [
    "Μπορούμε να προσπελάσουμε ένα στοιχείο απλά με το όνομα του λεξικού και σε αγκύλες, `[]`, το κλειδί. Για να προσπελάσουμε, όμως, όλα τα στοιχεία του υπάρχουν τρεις τρόποι με χρήση αντίστοιχων μεθόδων.\n",
    "\n",
    " - `keys`: Με βάση τα κλειδιά. Επιστρέφει λίστα κλειδιών.\n",
    "\n",
    " - `values`: Με βάση τις τιμές. Επιστρέφει λίστα τιμών.\n",
    "\n",
    " - `items`: Με βάση ζευγάρια κλειδιού, τιμής. Επιστρέφει λίστα από `tuple` στη μορφή (κλειδί, τιμή)."
   ]
  },
  {
   "cell_type": "code",
   "execution_count": null,
   "id": "23f11b5d-a545-47c4-9ac0-352e4e7ba17c",
   "metadata": {
    "slideshow": {
     "slide_type": ""
    },
    "tags": []
   },
   "outputs": [],
   "source": [
    "# προσπέλαση μεμονομένων στοιχείων\n",
    "country_info[\"Spain\"]"
   ]
  },
  {
   "cell_type": "code",
   "execution_count": null,
   "id": "15e23f00-e3ab-4006-9840-f9d1d9933a85",
   "metadata": {
    "slideshow": {
     "slide_type": ""
    },
    "tags": []
   },
   "outputs": [],
   "source": [
    "for i in country_info:                        \n",
    "    print('Χώρα:', i, '(', country_info[i], ')')"
   ]
  },
  {
   "cell_type": "code",
   "execution_count": null,
   "id": "73e551c5-5835-4937-9c00-8cea72f391eb",
   "metadata": {
    "slideshow": {
     "slide_type": ""
    },
    "tags": []
   },
   "outputs": [],
   "source": [
    "for i in country_info.values():             # Προσπέλαση με βάση τις τιμές. \n",
    "    print(i, end= ' ')                                # Η μέθοδος values() επιστρέφει λίστα με όλες τις τιμές του λεξικού"
   ]
  },
  {
   "cell_type": "code",
   "execution_count": null,
   "id": "80201496-1d3c-4cb9-bcde-cce2bd11efd0",
   "metadata": {
    "slideshow": {
     "slide_type": ""
    },
    "tags": []
   },
   "outputs": [],
   "source": [
    "for i in country_info.keys():              # Προσπέλαση με βάση τα κλειδία. \n",
    "    print(i, end= ' ')                               # Η μέθοδος keys() επιστρέφει λίστα με όλα τα κλειδιά του λεξικού"
   ]
  },
  {
   "cell_type": "code",
   "execution_count": null,
   "id": "346419b9-ee7d-44e1-90bc-619392a825a1",
   "metadata": {
    "slideshow": {
     "slide_type": ""
    },
    "tags": []
   },
   "outputs": [],
   "source": [
    "for key, value in country_info.items():                # Προσπέλαση με βάση τις κλειδιά/τιμές. \n",
    "    print(f'Χώρα:{key}, \\tΣυντομογραφία:{value}')      # Η μέθοδος items() επιστρέφει λίστα κλειδιών-τιμών του λεξικού"
   ]
  },
  {
   "cell_type": "code",
   "execution_count": null,
   "id": "019ef76c-15f4-4903-b119-2170c20b5831",
   "metadata": {
    "slideshow": {
     "slide_type": ""
    },
    "tags": []
   },
   "outputs": [],
   "source": [
    "country_info.keys(),country_info.values(),country_info.items()"
   ]
  },
  {
   "cell_type": "markdown",
   "id": "dc68da3b",
   "metadata": {},
   "source": [
    "### get"
   ]
  },
  {
   "cell_type": "markdown",
   "id": "d47a6fb9",
   "metadata": {},
   "source": [
    "Η προσπάθεια προσπέλασης ενός στοιχείου του λεξικού μέσω του κλειδιού που δεν υπάρχει οδηγεί σε σφάλμα."
   ]
  },
  {
   "cell_type": "code",
   "execution_count": null,
   "id": "5d2f8f3d-f8fa-426f-835a-2ac0e1f6669c",
   "metadata": {
    "slideshow": {
     "slide_type": ""
    },
    "tags": []
   },
   "outputs": [],
   "source": [
    "#country_info['Egypt']"
   ]
  },
  {
   "cell_type": "markdown",
   "id": "e7b6d016",
   "metadata": {},
   "source": [
    "Αντίθετα η εφαρμογή της μεθόδου `get` σε κάποιο κλειδί που δεν υπάρχει δεν προκαλεί σφάλμα. Επιπλέον μπορούμε να θέσουμε μία εξορισμού τιμή επιστροφής σε περίπτωση μη ύπαρξης του κλειδιού."
   ]
  },
  {
   "cell_type": "code",
   "execution_count": null,
   "id": "ca5c9a81",
   "metadata": {},
   "outputs": [],
   "source": [
    "country_info.get('Greece'),country_info.get('Egypt'),country_info.get('Egypt','δεν υπάρχει')"
   ]
  },
  {
   "cell_type": "markdown",
   "id": "9317c866",
   "metadata": {},
   "source": [
    "**Παράδειγμα**\n",
    "\n",
    "Έχουμε μία λίστα χωρών για τις οποίες θέλουμε να δούμε τους κωδικούς τους."
   ]
  },
  {
   "cell_type": "code",
   "execution_count": null,
   "id": "8beb5b0b",
   "metadata": {},
   "outputs": [],
   "source": [
    "countries = ['Greece','Egypt','France']\n",
    "for c in countries:\n",
    "    print(country_info.get(c,'δεν υπάρχει'))"
   ]
  },
  {
   "cell_type": "markdown",
   "id": "0d8138c5",
   "metadata": {
    "slideshow": {
     "slide_type": "subslide"
    },
    "tags": []
   },
   "source": [
    "## Ενσωματωμένες (built-in) συναρτήσεις"
   ]
  },
  {
   "cell_type": "markdown",
   "id": "381b2583-09f2-4eda-a6ea-013d31f88b30",
   "metadata": {
    "slideshow": {
     "slide_type": "subslide"
    },
    "tags": []
   },
   "source": [
    "- `len`: επιστρέφει το πλήθος των ζευγών κλειδιού-τιμής.\n",
    "\n",
    "- `max`: επιστρέφει το μέγιστο κλειδί.\n",
    "\n",
    "- `min`: επιστρέφει το ελάχιστο κλειδί.\n",
    "\n",
    "- `sorted`: επιστρέφει τη λίστα των κλειδιών ταξινομημένη.\n",
    "\n",
    "- `sum`: το άθροισμα των κλειδιών του λεξικού αν αυτά είναι αριθμοί."
   ]
  },
  {
   "cell_type": "code",
   "execution_count": null,
   "id": "3e65f9e3-7c29-475b-9857-40f273d9ef19",
   "metadata": {},
   "outputs": [],
   "source": [
    "len(country_info),max(country_info),min(country_info),sorted(country_info) "
   ]
  },
  {
   "cell_type": "code",
   "execution_count": null,
   "id": "e5957256-edf1-4f07-a228-2c261a76f857",
   "metadata": {
    "slideshow": {
     "slide_type": ""
    },
    "tags": []
   },
   "outputs": [],
   "source": [
    "countryNames = sorted(country_info.keys())\n",
    "print(countryNames)\n",
    "for i in sorted(country_info.items()):              # Εκτύπωση στοιχείων ταξινομημένα αλφαβητικά με βάση το κλειδί \n",
    "    print(i, end=',')"
   ]
  },
  {
   "cell_type": "markdown",
   "id": "e0bc2aa5-6446-433e-aa61-beff2e8606e5",
   "metadata": {
    "slideshow": {
     "slide_type": "subslide"
    },
    "tags": []
   },
   "source": [
    "## Εισαγωγή/Επεξεργασία στοιχείων"
   ]
  },
  {
   "cell_type": "markdown",
   "id": "5f682543",
   "metadata": {},
   "source": [
    "- Εισαγωγή, ενημέρωση\n",
    "    - `update`: ενημερώνει ή, αν δεν υπάρχει το key, εισάγει νέα στοιχεία.\n",
    "\n",
    "- Διαγραφή στοιχείων\n",
    "\n",
    "    - `clear`: (μέθοδος) Διαγραφή όλων των περιεχομένων του λεξικού.\n",
    "\n",
    "    - `pop`: (μέθοδος) Διαγραφή με χρήση κλειδιού και επιστροφή της τιμής. Error αν το κλειδί δεν υπάρχει. Υπάρχει η δυνατότητα να τεθεί μία εξορισμού επιστρεφόσμενη τιμή σε περίπτωση που το στοιχείο δεν υπάρχει.\n",
    "\n",
    "    - `del`: (εντολή) Διαγραφή με χρήση κλειδιού και επιστροφή της τιμής. Error αν το κλειδί δεν υπάρχει.\n",
    "\n",
    "    - `popitem`: (μέθοδος) Διαγραφή τελευταίου στοιχείου που εισήχθη και επιστροφή του ζεύγους key, value ως πλειάδα. KeyError όταν το λεξικό είναι άδειο."
   ]
  },
  {
   "cell_type": "markdown",
   "id": "74ebc4c3",
   "metadata": {},
   "source": [
    "Στην συνέχεια προστίθεται στοιχείο σε λεξικό με χρήση της μεθόδου `update`."
   ]
  },
  {
   "cell_type": "code",
   "execution_count": 4,
   "id": "559e9df8",
   "metadata": {
    "slideshow": {
     "slide_type": ""
    },
    "tags": []
   },
   "outputs": [
    {
     "data": {
      "text/plain": [
       "{'Greece': 'gr',\n",
       " 'Cyprus': 'cy',\n",
       " 'Spain': 'es',\n",
       " 'France': 'fr',\n",
       " 'Guinea': 'gn',\n",
       " 'Brazil': 'bz'}"
      ]
     },
     "execution_count": 4,
     "metadata": {},
     "output_type": "execute_result"
    }
   ],
   "source": [
    "country_info = {'Greece':'gr', 'Cyprus':'cy', 'Spain':'es', 'France':'fr', 'Guinea':'gn'}\n",
    "country_info.update({'Brazil':'bz'})\n",
    "country_info"
   ]
  },
  {
   "cell_type": "markdown",
   "id": "67518a27",
   "metadata": {},
   "source": [
    "Μπορεί να γίνει διόρθωση τιμής με βάση το κλειδί."
   ]
  },
  {
   "cell_type": "code",
   "execution_count": null,
   "id": "04d2a76f",
   "metadata": {
    "slideshow": {
     "slide_type": ""
    },
    "tags": []
   },
   "outputs": [],
   "source": [
    "country_info['Brazil'] = 'br' \n",
    "country_info"
   ]
  },
  {
   "cell_type": "markdown",
   "id": "92210b5a",
   "metadata": {},
   "source": [
    "Ακολουθεί διαγραφή τιμής από λεξικό με χρήση της `del`."
   ]
  },
  {
   "cell_type": "code",
   "execution_count": null,
   "id": "25767669",
   "metadata": {
    "slideshow": {
     "slide_type": ""
    },
    "tags": []
   },
   "outputs": [],
   "source": [
    "del country_info['Spain']\n",
    "print(country_info)"
   ]
  },
  {
   "cell_type": "markdown",
   "id": "fb502d4f",
   "metadata": {},
   "source": [
    "Διαγραφή μπορεί να γίνει και με την `pop` με παράμετρο το κλειδί του προς διαγραφή στοιχείου το οποίο και επιστρέφεται."
   ]
  },
  {
   "cell_type": "code",
   "execution_count": 6,
   "id": "bff7d72a-774e-4a25-955d-f1c0be63d7da",
   "metadata": {
    "slideshow": {
     "slide_type": ""
    },
    "tags": []
   },
   "outputs": [
    {
     "data": {
      "text/plain": [
       "'gn'"
      ]
     },
     "execution_count": 6,
     "metadata": {},
     "output_type": "execute_result"
    }
   ],
   "source": [
    "country_info.pop('Guinea') "
   ]
  },
  {
   "cell_type": "markdown",
   "id": "22189f84-5994-4326-98d3-dc11df162a99",
   "metadata": {
    "slideshow": {
     "slide_type": "subslide"
    },
    "tags": []
   },
   "source": [
    "Η `popitem` διαγράφει το τελευταίο στοιχείο που επιστρέφεται ως `tuple`."
   ]
  },
  {
   "cell_type": "code",
   "execution_count": null,
   "id": "01e023b4",
   "metadata": {},
   "outputs": [],
   "source": [
    "country_info.popitem()"
   ]
  },
  {
   "cell_type": "markdown",
   "id": "8a105b0c",
   "metadata": {},
   "source": [
    "Η `clear` διαγράφει όλα τα στοιχεία του λεξικού."
   ]
  },
  {
   "cell_type": "code",
   "execution_count": null,
   "id": "02204432-e2ce-44fb-940f-1a52280e1c1b",
   "metadata": {
    "slideshow": {
     "slide_type": ""
    },
    "tags": []
   },
   "outputs": [],
   "source": [
    "country_info.clear()\n",
    "country_info"
   ]
  },
  {
   "cell_type": "markdown",
   "id": "096b1fb4-ba95-4d8a-a33d-257727241c1b",
   "metadata": {},
   "source": [
    "Η `update` μπορεί να χρησιμοποιηθεί και για την σύνθεση δύο λεξικών."
   ]
  },
  {
   "cell_type": "code",
   "execution_count": null,
   "id": "a678637a-5376-4b87-b818-7db7cfd2db9e",
   "metadata": {
    "slideshow": {
     "slide_type": ""
    },
    "tags": []
   },
   "outputs": [],
   "source": [
    "aegean = {\n",
    "    \"Λέσβος\": [(\"Χίος\", 53), (\"Λήμνος\", 83), (\"Σάμος\", 72)],\n",
    "    \"Χίος\": [(\"Λέσβος\", 53), (\"Λήμνος\", 90), (\"Σάμος\", 64)],\n",
    "    \"Λήμνος\": [(\"Λέσβος\", 83), (\"Χίος\", 90), (\"Σάμος\", 120)],\n",
    "    \"Σάμος\": [(\"Λέσβος\", 72), (\"Χίος\", 64), (\"Λήμνος\", 120)]\n",
    "}\n",
    "cyclades = {\n",
    "    \"Άνδρος\": [(\"Νάξος\", 95), (\"Πάρος\", 101), (\"Σύρος\", 50)],\n",
    "    \"Νάξος\": [(\"Άνδρος\", 95), (\"Πάρος\", 36), (\"Τήνος\", 87)],\n",
    "    \"Πάρος\": [(\"Άνδρος\", 101), (\"Νάξος\", 36), (\"Σύρος\", 81)],\n",
    "    \"Τήνος\": [(\"Νάξος\", 87), (\"Σύρος\", 72)],\n",
    "    \"Σύρος\": [(\"Άνδρος\", 50), (\"Πάρος\", 81), (\"Τήνος\", 72)]\n",
    "}\n",
    "aegean.update(cyclades)\n",
    "aegean[\"Σάμος\"].append((\"Σύρος\", 150))\n",
    "aegean[\"Σύρος\"].append((\"Σάμος\", 150))\n",
    "aegean"
   ]
  },
  {
   "cell_type": "markdown",
   "id": "d95fd111",
   "metadata": {},
   "source": [
    "Σύνθεση μπορεί να γίνει και με τη χρήση του τελεστή `|`."
   ]
  },
  {
   "cell_type": "code",
   "execution_count": null,
   "id": "862becc1-86f2-488c-a966-2f2ceb3a523d",
   "metadata": {
    "tags": []
   },
   "outputs": [],
   "source": [
    "grades_apl = {\"Linus\": 8.5,\"Tim\": 9.0,\"Alan\": 7.5}\n",
    "grades_nte = {\"Linus\": 8.0,\"Sergey\": 6.0,\"Steve\": 7.0}\n",
    "# Προσοχή κάθε επόμενο ίδιο κλειδί διαγράφει το προηγούμενο.\n",
    "grades_apl.update(grades_nte)\n",
    "print(grades_apl)\n",
    "grades_apl = {\"Linus\": 8.5,\"Tim\": 9.0,\"Alan\": 7.5}\n",
    "grades_nte = {\"Linus\": 8.0,\"Sergey\": 6.0,\"Steve\": 7.0}\n",
    "# το ίδιο αποτέλεσμα έχει ο τελεστής |\n",
    "print(grades_apl | grades_nte)"
   ]
  },
  {
   "cell_type": "markdown",
   "id": "24de42cf",
   "metadata": {},
   "source": [
    "Ακολουθεί σύνθεση και εισαγωγή του ενός λεξικού στο άλλο με την βοήθεια του σύντομου τελεστή `|=`."
   ]
  },
  {
   "cell_type": "code",
   "execution_count": null,
   "id": "144c3188",
   "metadata": {},
   "outputs": [],
   "source": [
    "grades_apl |= grades_nte\n",
    "grades_apl"
   ]
  },
  {
   "cell_type": "markdown",
   "id": "585c9fe3",
   "metadata": {},
   "source": [
    "## Unpacking"
   ]
  },
  {
   "cell_type": "markdown",
   "id": "770be587",
   "metadata": {},
   "source": [
    "Η τεχνική **unpacking** μπορεί να χρησιμοποιηθεί και σε λεξικά αλλά αντί για την χρήση του συμβόλου `*` απαιτείται διπλό σύμβολο `**`."
   ]
  },
  {
   "cell_type": "markdown",
   "id": "f2dfeacf",
   "metadata": {},
   "source": [
    "Κάνοντας χρήση της τεχνικής μπορούμε να συνθέσουμε λεξικά."
   ]
  },
  {
   "cell_type": "code",
   "execution_count": null,
   "id": "5d27e519",
   "metadata": {},
   "outputs": [],
   "source": [
    "grades_apl = {\"Linus\": 8.5,\"Tim\": 9.0,\"Alan\": 7.5}\n",
    "grades_nte = {\"Linus\": 8.0,\"Sergey\": 6.0,\"Steve\": 7.0}\n",
    "merged = {**grades_apl,**grades_nte}\n",
    "merged"
   ]
  },
  {
   "cell_type": "markdown",
   "id": "62ca5fa7",
   "metadata": {},
   "source": [
    "Έχουμε την δυνατότητα, επίσης, να περάσουμε ένα λεξικό ως παράμετρο σε συνάρτηση."
   ]
  },
  {
   "cell_type": "code",
   "execution_count": null,
   "id": "ec284bbc",
   "metadata": {},
   "outputs": [],
   "source": [
    "def add(a,b):\n",
    "    return a+b\n",
    "d = {'a':3,'b':4}\n",
    "add(**d)"
   ]
  },
  {
   "cell_type": "markdown",
   "id": "4d996618-1522-4979-98d8-cf418d3b7c33",
   "metadata": {
    "slideshow": {
     "slide_type": "subslide"
    },
    "tags": []
   },
   "source": [
    "**Παράδειγμα**\n",
    " \n",
    "Θα υλοποιήσουμε ένα πρόγραμμα το οποίο θα διαβάζει μία φράση και θα δημιουργεί ένα ιστόγραμμα των γραμμάτων που αυτή περιέχει. Αρχικά θα δημιουργεί ένα λεξικό με κλειδιά τους χαρακτήρες που συναντά και τιμές το πλήθος τους την φράση. Στη συνέχεια, χωρίς να χρησιμοποιεί κάποια βιβλιοθήκη, θα εμφανίζει ένα γράφημα με τη βοήθεια μόνο ascii χαρακτήρων."
   ]
  },
  {
   "cell_type": "code",
   "execution_count": null,
   "id": "94306641-16d4-4dad-841e-d88d610f9807",
   "metadata": {
    "slideshow": {
     "slide_type": ""
    },
    "tags": []
   },
   "outputs": [],
   "source": [
    "phrase = 'the quick brown fox jumps over the lazy dog. this phrase is known as a pangram, as it contains every letter of the alphabet at least once.'\n",
    "histo ={}\n",
    "ab = 'abcdefghijklmnopqrstuvwxyz'\n",
    "for c in phrase:\n",
    "    if c not in ab:\n",
    "        continue\n",
    "    if c in histo:\n",
    "        histo[c] += 1\n",
    "    else:\n",
    "        histo[c] = 1\n",
    "histo = sorted(histo.items())\n",
    "for k,v in histo:\n",
    "    print(k + ':' + '*' * v)"
   ]
  },
  {
   "cell_type": "markdown",
   "id": "ede85c1e",
   "metadata": {},
   "source": [
    "Στο επόμενο παράδειγμα φαίνεται ότι η δομή του λεξικού μπορεί να αντικαταστήσει μεγάλες δομές επιλογής if κάνοντας τον κώδικα ποιο καθαρό και ευκολότερα επεκτάσιμο."
   ]
  },
  {
   "cell_type": "markdown",
   "id": "59520c64",
   "metadata": {},
   "source": [
    "**Παράδειγμα**\n",
    "\n",
    "Θα υλοποιηθεί μία συνάρτηση η οποία θα δέχεται το όνομα ενός σχήματος και παραμέτρους την ακτίνα αν πρόκειται για κύκλο, βάση και ύψος αν πρόκειται για τρίγωνο κ.ο.κ. και θα επιστρέφεται το εμβαδόν. Θα γίνει με δύο τρόπους:\n",
    "\n",
    "- με χρήση `if`.\n",
    "\n",
    "- με χρήση λεξικού."
   ]
  },
  {
   "cell_type": "code",
   "execution_count": null,
   "id": "c59332f7",
   "metadata": {},
   "outputs": [],
   "source": [
    "def area_circle(radius,p=None):\n",
    "    return 3.14159 * radius**2\n",
    "\n",
    "def area_rectangle(length, width):\n",
    "    return length * width\n",
    "\n",
    "def area_triangle(base, height):\n",
    "    return 0.5 * base * height\n",
    "\n",
    "def calculate_area(shape, param1=None, param2=None):\n",
    "    if shape == \"circle\":\n",
    "        if param1 is None:\n",
    "            return \"Invalid input for circle. Provide radius.\"\n",
    "        return area_circle(param1)\n",
    "    elif shape == \"rectangle\":\n",
    "        if param1 is None or param2 is None:\n",
    "            return \"Invalid input for rectangle. Provide length and width.\"\n",
    "        return area_rectangle(param1, param2)\n",
    "    elif shape == \"triangle\":\n",
    "        if param1 is None or param2 is None:\n",
    "            return \"Invalid input for triangle. Provide base and height.\"\n",
    "        base, height = param1, param2\n",
    "        return area_triangle\n",
    "    else:\n",
    "        return \"Invalid shape\""
   ]
  },
  {
   "cell_type": "code",
   "execution_count": null,
   "id": "53fce7ad",
   "metadata": {},
   "outputs": [],
   "source": [
    "area_calculators = {\n",
    "    \"circle\": area_circle,\n",
    "    \"rectangle\": area_rectangle,\n",
    "    \"triangle\": area_triangle,\n",
    "}\n",
    "\n",
    "def calculate_area_dict(shape, param1=None, param2=None):\n",
    "    if shape in area_calculators:\n",
    "        return area_calculators[shape](param1, param2)\n",
    "    return \"Invalid shape\"\n",
    "calculate_area_dict(\"circle\",5),calculate_area(\"circle\",5)"
   ]
  },
  {
   "cell_type": "markdown",
   "id": "ef3e1624-889e-4050-9730-0e9e19b3f947",
   "metadata": {
    "slideshow": {
     "slide_type": "slide"
    },
    "tags": []
   },
   "source": [
    "# Σύνολα - Sets"
   ]
  },
  {
   "cell_type": "markdown",
   "id": "f0ecaf80-893d-4a87-be4f-deddccadbc33",
   "metadata": {
    "slideshow": {
     "slide_type": ""
    },
    "tags": []
   },
   "source": [
    "Τα σύνολα, `sets`, είναι μια ακόμη ενσωματωμένη μη διατεταγμένη, μεταβαλλόμενη δομή **μοναδικών**, **αμετάβλητων** στοιχείων της Python.\n",
    "\n",
    "\n",
    "- Τα στοιχεία ενός συνόλου μπορούν να είναι μόνο αμετάβλητα αντικείμενα όπως `str`, `int`, `float`, `tuple`. Επομένως τα στοιχεία του δεν μπορούν να αλλάξουν τιμή.\n",
    "\n",
    "- Είναι μεταβλητή, **mutable**, δομή. Επομένως μπορούν να προστεθούν και να αφαιρεθούν στοιχεία.\n",
    "\n",
    "- Είναι **unordered** δομή. Δεν μπορούμε να προσπελάσουμε τα στοιχεία με δείκτες.\n",
    "\n",
    "- Οι ιδιότητες, οι σχέσεις και οι πράξεις που ισχύουν στη θεωρία συνόλων ισχύουν ακριβώς το ίδιο και στα σύνολα της Python\n",
    "\n",
    "Η γενική μορφή του είναι:\n",
    "\n",
    "```Python\n",
    "{item1, item2, item3, ...}\n",
    "```"
   ]
  },
  {
   "cell_type": "markdown",
   "id": "b5f7f773",
   "metadata": {},
   "source": [
    "## Δημιουργία"
   ]
  },
  {
   "cell_type": "markdown",
   "id": "7048b0e6",
   "metadata": {},
   "source": [
    "Η δημιουργία `set` μπορεί να γίνει είτε με αγκύλες `{}` είτε με την συνάρτηση `set`."
   ]
  },
  {
   "cell_type": "markdown",
   "id": "e188ffae-9a20-4662-862b-5c910b2a7897",
   "metadata": {},
   "source": [
    "Προσοχή αγκύλες χωρίς περιεχόμενο ή στην μορφή _{key : value}_ θα δημιουργήσουν λεξικό και όχι σύνολο."
   ]
  },
  {
   "cell_type": "code",
   "execution_count": null,
   "id": "4f4dbafc",
   "metadata": {},
   "outputs": [],
   "source": [
    "d = {};type(d)"
   ]
  },
  {
   "cell_type": "markdown",
   "id": "1aaf2e96",
   "metadata": {},
   "source": [
    "Για να δημιουργήσουμε άδειο `set` θα πρέπει να χρησιμοποιήσουμε την αντίστοιχη μέθοδο."
   ]
  },
  {
   "cell_type": "code",
   "execution_count": null,
   "id": "78e0fb1e",
   "metadata": {},
   "outputs": [],
   "source": [
    "s = set();type(s)"
   ]
  },
  {
   "cell_type": "code",
   "execution_count": null,
   "id": "7b1e36a7",
   "metadata": {},
   "outputs": [],
   "source": [
    "colors = {'red', 'green', 'blue', 'yellow', 'red', 'orange'}\n",
    "type(colors),colors"
   ]
  },
  {
   "cell_type": "markdown",
   "id": "e4fd7b92",
   "metadata": {},
   "source": [
    "Παρατηρούμε ότι η συμβολοσειρά `red`, επειδή δόθηκε 2 φορές, παραβλέφθηκε. Επιπλέον η σειρά με την οποία αποθηκεύονται και εμφανίζονται τα στοιχεία δεν είναι η σειρά με την οποία αυτά καταχωρήθηκαν όπως στις λίστες. Η σειρά αποθήκευσης εξαρτάται από μία συνάρτηση κατακερματισμού, **hash function**."
   ]
  },
  {
   "cell_type": "code",
   "execution_count": null,
   "id": "fde1dd98",
   "metadata": {},
   "outputs": [],
   "source": [
    "hash('red'),hash('green'),hash('blue')"
   ]
  },
  {
   "cell_type": "code",
   "execution_count": null,
   "id": "025c27c7-78fd-4154-8552-ca19fb95e468",
   "metadata": {},
   "outputs": [],
   "source": [
    "perittoi = set(range(1,20,2))\n",
    "type(perittoi),perittoi"
   ]
  },
  {
   "cell_type": "markdown",
   "id": "3cbd9bd0-0c9b-42d1-94e3-f487c25f2ad4",
   "metadata": {
    "slideshow": {
     "slide_type": ""
    },
    "tags": []
   },
   "source": [
    "Τα σύνολα είναι επαναλήψιμα, συνεπώς μπορείτε να επεξεργαστείτε κάθε στοιχείο τους με έναν βρόχο επανάληψης"
   ]
  },
  {
   "cell_type": "code",
   "execution_count": null,
   "id": "b6729c8b-3f6f-40f1-bcae-bafbfa64b6ce",
   "metadata": {
    "slideshow": {
     "slide_type": ""
    },
    "tags": []
   },
   "outputs": [],
   "source": [
    "for color in colors: print(color.upper(),end= ' ')\n",
    "print()\n",
    "for num in perittoi: print(num,end= ' ')"
   ]
  },
  {
   "cell_type": "markdown",
   "id": "438ac622-09e0-4428-8f09-641e69b25c15",
   "metadata": {},
   "source": [
    "Μπορούμε να δημιουργήσουμε `set` που περιλαμβάνει `tuple` ή `str` αλλά όχι `list` ή άλλα `set`."
   ]
  },
  {
   "cell_type": "code",
   "execution_count": null,
   "id": "8481d135-1f81-4e34-b9cb-d877cc1fc2de",
   "metadata": {
    "tags": []
   },
   "outputs": [],
   "source": [
    "s1 = {'Pyhton','Fortran'}\n",
    "s2 = {(3, 7), (4, 9), (5, 8), (7, 11), (8, 13)}"
   ]
  },
  {
   "cell_type": "markdown",
   "id": "8cb4a944",
   "metadata": {},
   "source": [
    "Ένα `set` δεν μπορεί να περιλαμβάνει **mutable**, στην πραγματικότητα **unhashable**, δεδομένα όπως λίστες."
   ]
  },
  {
   "cell_type": "code",
   "execution_count": null,
   "id": "91c72b85-57a2-4c13-bdac-c2d485db9fc9",
   "metadata": {
    "slideshow": {
     "slide_type": ""
    },
    "tags": []
   },
   "outputs": [],
   "source": [
    "# s3 = {[3, 7], [4, 9], [5, 8], [7, 11], [8, 13]} # Σφάλμα: Δεν μπορεί να περιλαμβάνει λίστες"
   ]
  },
  {
   "cell_type": "markdown",
   "id": "c08ab957-3c30-4a82-b5bd-cc75c2017ca2",
   "metadata": {
    "slideshow": {
     "slide_type": "subslide"
    },
    "tags": []
   },
   "source": [
    "## Εισαγωγή/Διαγραφή στοιχείων"
   ]
  },
  {
   "cell_type": "markdown",
   "id": "d2e82d70",
   "metadata": {},
   "source": [
    "- `add()`: εισάγει στο σύνολο το όρισμα της, αν αυτό δεν περιλαμβάνεται ήδη.\n",
    "\n",
    "- `update()`: εισάγει στο σύνολο το όρισμα της, που όμως είναι ένας επαναλήψιμος τύπος όπως μία λίστα. Έτσι χρησιμοποιείται για πολλαπλές εισαγωγές.\n",
    "\n",
    "- `remove()`: διαγράφει από το σύνολο το όρισμα της. Αν η τιμή δεν υπάρχει προκύπτει `KeyError`.\n",
    "\n",
    "- `discard()`: διαγράφει από το σύνολο το όρισμα της με τη διαφορά σε σχέση με τη `remove` ότι σε περίπτωση που το στοιχείο δεν υπάρχει δεν θα προκύψει Error.\n",
    "\n",
    "- `clear()`: διαγράφει το σύνολο των στοιχείων."
   ]
  },
  {
   "cell_type": "code",
   "execution_count": null,
   "id": "c2ff52a8",
   "metadata": {},
   "outputs": [],
   "source": [
    "perittoi.add(21)\n",
    "perittoi.discard(5)\n",
    "#perittoi.remove(5)\n",
    "perittoi"
   ]
  },
  {
   "cell_type": "code",
   "execution_count": null,
   "id": "9c09fff0",
   "metadata": {},
   "outputs": [],
   "source": [
    "perittoi.clear();perittoi"
   ]
  },
  {
   "cell_type": "code",
   "execution_count": null,
   "id": "85ce9b6f-c981-4db9-93f4-c727339f46cf",
   "metadata": {},
   "outputs": [],
   "source": [
    "perittoi.update([23,25,27]);perittoi"
   ]
  },
  {
   "cell_type": "markdown",
   "id": "7625bc60",
   "metadata": {},
   "source": [
    "## frozenset"
   ]
  },
  {
   "cell_type": "markdown",
   "id": "679faeea-3275-4410-b52a-a385b8360b71",
   "metadata": {},
   "source": [
    "Εάν επιθυμούμε, πέρα από τα στοιχεία του συνόλου, να είναι και το ίδιο το σύνολο αμετάβλητο, **immutable**, χρησιμοποιούμε `frozenset`. Όπως είναι φυσικό οι παραπάνω μέθοδοι δεν λειτουργούν σε `frozenset`."
   ]
  },
  {
   "cell_type": "code",
   "execution_count": null,
   "id": "56906d0b-c966-4255-86bd-5fc271315c55",
   "metadata": {
    "slideshow": {
     "slide_type": ""
    },
    "tags": []
   },
   "outputs": [],
   "source": [
    "s = frozenset(['true','false'])\n",
    "# s.add('maybe') # AttributeError: 'frozenset' object has no attribute 'add'"
   ]
  },
  {
   "cell_type": "markdown",
   "id": "64fd427e",
   "metadata": {},
   "source": [
    "Επειδή το `frozenset` είναι **hashable**, μπορούμε να το προσθέσουμε σε ένα `set`. Αντίθετα ένα `set` δεν μπορεί να περιέχει sets."
   ]
  },
  {
   "cell_type": "code",
   "execution_count": null,
   "id": "6f4a51be-583c-4799-8699-6b32b3c496ce",
   "metadata": {
    "slideshow": {
     "slide_type": ""
    },
    "tags": []
   },
   "outputs": [],
   "source": [
    "nested_set = {frozenset([1, 2, 3]), frozenset([4, 5])}\n",
    "#nested_set = {set([1, 2, 3]), set([4, 5])}"
   ]
  },
  {
   "cell_type": "markdown",
   "id": "49d3e973",
   "metadata": {},
   "source": [
    "## Πράξεις συνόλων"
   ]
  },
  {
   "cell_type": "markdown",
   "id": "90819f8e-4992-4d59-a2f1-772f4889da5e",
   "metadata": {
    "slideshow": {
     "slide_type": "subslide"
    },
    "tags": []
   },
   "source": [
    "Η ένωση δύο συνόλων, $A\\cup B$, μπορεί να υπολογιστεί με τον τελεστή `|` ή με τη μέθοδο `union()`."
   ]
  },
  {
   "cell_type": "code",
   "execution_count": null,
   "id": "1b1eb830-64c9-4414-bc5a-9873f27d07a5",
   "metadata": {
    "slideshow": {
     "slide_type": ""
    },
    "tags": []
   },
   "outputs": [],
   "source": [
    "primes = {2, 3, 5, 7}    # πρώτοι μονοψ΄ήφιοι αριθμοί\n",
    "odd = {1, 3, 5, 7, 9}      # περιττοί μονοψ΄ήφιοι αριθμοί\n",
    "# πρώτοι ή περιττοί\n",
    "primes | odd,primes.union(odd)"
   ]
  },
  {
   "cell_type": "markdown",
   "id": "20b7cff4-7d11-40cb-9098-acb882af0d0c",
   "metadata": {
    "slideshow": {
     "slide_type": ""
    },
    "tags": []
   },
   "source": [
    "Η τομή δύο συνόλων, $A\\cap B$ μπορεί να υπολογιστεί με τον τελεστή `&` ή με τη μέθοδο `intersection()`."
   ]
  },
  {
   "cell_type": "code",
   "execution_count": null,
   "id": "ddb858ef-77c5-455b-8ff0-7e34adf49bda",
   "metadata": {
    "slideshow": {
     "slide_type": ""
    },
    "tags": []
   },
   "outputs": [],
   "source": [
    "# πρώτοι που είναι και περιττοί\n",
    "primes & odd, primes.intersection(odd)"
   ]
  },
  {
   "cell_type": "markdown",
   "id": "26474bdd-7777-4de7-97e2-2f4c52cf5017",
   "metadata": {
    "slideshow": {
     "slide_type": ""
    },
    "tags": []
   },
   "source": [
    "Η διαφορά δύο συνόλων, $A\\setminus B$ υπολογίζεται με τον τελεστή `-` ή με τη μέθοδο `difference()`."
   ]
  },
  {
   "cell_type": "code",
   "execution_count": null,
   "id": "de0a5fe7",
   "metadata": {
    "slideshow": {
     "slide_type": ""
    },
    "tags": []
   },
   "outputs": [],
   "source": [
    "# πρώτοι που δεν είναι περιττοί\n",
    "primes - odd,primes.difference(odd)"
   ]
  },
  {
   "cell_type": "code",
   "execution_count": null,
   "id": "855ccdbc-39a1-43fe-92a0-50806712f737",
   "metadata": {
    "slideshow": {
     "slide_type": ""
    },
    "tags": []
   },
   "outputs": [],
   "source": [
    "# περιττοί που δεν είναι πρώτοι\n",
    "odd - primes,odd.difference(primes)"
   ]
  },
  {
   "cell_type": "markdown",
   "id": "5456fd2a-95cd-493e-a0b4-ffaf167b49da",
   "metadata": {
    "slideshow": {
     "slide_type": ""
    },
    "tags": []
   },
   "source": [
    "Η συμμετρική διαφορά δύο συνόλων $A \\triangle B$  δίνει τα στοιχεία που βρίσκονται σε ένα από τα δύο σύνολα, αλλά όχι και στα δύο. Επιστρέφεται με τον τελεστή `^`."
   ]
  },
  {
   "cell_type": "code",
   "execution_count": null,
   "id": "087a1719-f6c0-4464-bb9d-ff35855ab72f",
   "metadata": {
    "slideshow": {
     "slide_type": ""
    },
    "tags": []
   },
   "outputs": [],
   "source": [
    "primes ^ odd, primes.symmetric_difference(odd)"
   ]
  },
  {
   "cell_type": "markdown",
   "id": "e2b80d6f-c017-42e6-b29d-a3ba35dfb3d1",
   "metadata": {
    "slideshow": {
     "slide_type": "subslide"
    },
    "tags": []
   },
   "source": [
    "**Παράδειγμα**\n",
    "\n",
    "Δημιουργήστε δύο σύνολα 10 τυχαίων αριθμών από το 1 έως το 20. Στη συνέχεια εμφανίστε την συμμετρική διαφορά και την διαφορά της ένωσης από την τομή. Τα σύνολα αυτά θα είναι πάντα ίσα."
   ]
  },
  {
   "cell_type": "code",
   "execution_count": null,
   "id": "fde6dc88-7149-43db-9ee3-f7c79045d1ce",
   "metadata": {
    "tags": []
   },
   "outputs": [],
   "source": [
    "import random\n",
    "set1 = set(random.sample(range(1, 20), 10))\n",
    "set2 = set(random.sample(range(1, 20), 10))\n",
    "print(\"Σύνολο 1:\", set1)\n",
    "print(\"Σύνολο 2:\", set2)\n",
    "symmetric_difference = set1 ^ set2\n",
    "print(\"Συμμετρική διαφορά:\", symmetric_difference)\n",
    "union_set = set1 | set2\n",
    "print(\"Ένωση:\", union_set)\n",
    "intersection_set = set1 & set2\n",
    "print(\"Τομή:\", intersection_set)\n",
    "dif = union_set - intersection_set\n",
    "print(\"Διαφορά:\", dif)\n",
    "print(symmetric_difference==dif)"
   ]
  },
  {
   "cell_type": "markdown",
   "id": "966cb998-ec3b-4a76-9c63-ce8fa972fb2b",
   "metadata": {
    "slideshow": {
     "slide_type": "subslide"
    },
    "tags": []
   },
   "source": [
    "**Παράδειγμα**\n",
    "\n",
    " Έστω οι δύο συμβολοσειρές ΕΛΕΥΘΕΡΙΑ - ΕΥΤΥΧΙΑ.\n",
    "\n",
    "1. Μετατρέψτε τα σε sets ώστε να βρείτε ποια γράμματα αποτελούν την κάθε λέξη.\n",
    "\n",
    "2. Βρείτε το σύνολο γραμμάτων που χρησιμοποιούν οι δύο λέξεις.\n",
    "\n",
    "3. Βρείτε τα φωνήεντα και τα σύμφωνα της κάθε λέξης.\n",
    "\n",
    "4.  Βρείτε τα κοινά φωνήεντα και σύμφωνα των δύο λέξεων."
   ]
  },
  {
   "cell_type": "code",
   "execution_count": null,
   "id": "37d14a53-f2a1-467c-b141-2e4e07d6afa3",
   "metadata": {
    "slideshow": {
     "slide_type": ""
    },
    "tags": []
   },
   "outputs": [],
   "source": [
    "word1 = \"ΕΛΕΥΘΕΡΙΑ\"\n",
    "word2 = \"ΕΥΤΥΧΙΑ\"\n",
    "# Μετατροπή των λέξεων σε sets\n",
    "set1 = set(word1)\n",
    "set2 = set(word2)\n",
    "print(\"Γράμματα στη λέξη 'ΕΛΕΥΘΕΡΙΑ':\", set1)\n",
    "print(\"Γράμματα στη λέξη 'ΕΥΤΥΧΙΑ':\", set2)\n",
    "setall = set1 | set2\n",
    "print(\"Γράμματα και στις 2 λέξεις:\", setall)\n",
    "vowels = \"ΑΕΗΙΟΥΩ\"\n",
    "# consonants = \"ΒΓΔΦΘΚΛΜΝΞΠΡΣΤΧΨΖ\"\n",
    "vowels1 = {letter for letter in set1 if letter in vowels}\n",
    "consonants1 = set1 - vowels1\n",
    "vowels2 = {letter for letter in set2 if letter in vowels}\n",
    "consonants2 = set2 - vowels2\n",
    "print(\"Φωνήεντα της λέξης 'ΕΛΕΥΘΕΡΙΑ':\", vowels1)\n",
    "print(\"Σύμφωνα της λέξης 'ΕΛΕΥΘΕΡΙΑ':\", consonants1)\n",
    "print(\"Φωνήεντα της λέξης 'ΕΥΤΥΧΙΑ':\", vowels2)\n",
    "print(\"Σύμφωνα της λέξης 'ΕΥΤΥΧΙΑ':\", consonants2)\n",
    "vowelscommon = vowels1 & vowels2\n",
    "print(\"Κοινά φωνήεντα:\", vowelscommon)"
   ]
  },
  {
   "cell_type": "markdown",
   "id": "b2582345-6039-477b-933a-b161a3fa9a71",
   "metadata": {
    "slideshow": {
     "slide_type": "subslide"
    },
    "tags": []
   },
   "source": [
    "## Σύγκριση Συνόλων"
   ]
  },
  {
   "cell_type": "markdown",
   "id": "edafd31a-06e3-4603-b354-77f25e7d600d",
   "metadata": {
    "slideshow": {
     "slide_type": ""
    },
    "tags": []
   },
   "source": [
    "Για τη σύγκριση συνόλων μπορούν να χρησιμοποιηθούν οι κανονικοί τελεστές: `==`, `!=`, `>`, `>=`, `<`, `<=`.\n",
    "Οι `>`, `>=`, `<`, `<=` ελέγχουν αν τα σύνολα είναι υποσύνολα `<=`, `>=` ή γνήσια υποσύνολα. Οι τελεστές `<=`, `>=` είναι ισοδύναμοι των μεθόδων issubset, issuperset.\n",
    "\n",
    "- `A <= B` : $A \\subseteq B$\n",
    "\n",
    "- `A < B` :  $A \\subset B$\n",
    "\n",
    "Οι τελεστές `==`, `!=` αν τα σύνολα είναι ίσα ή διάφορα:\n",
    "\n",
    " -  `A == B`: $A = B$\n",
    " \n",
    " -  `A != B`: $A \\ne B$"
   ]
  },
  {
   "cell_type": "markdown",
   "id": "c5a54d21-a823-4b3c-8620-c1af41bba2bd",
   "metadata": {
    "slideshow": {
     "slide_type": ""
    },
    "tags": []
   },
   "source": []
  },
  {
   "cell_type": "code",
   "execution_count": null,
   "id": "e36f3f72-6ec0-49d7-9d3e-9c0da9de8dca",
   "metadata": {
    "slideshow": {
     "slide_type": ""
    },
    "tags": []
   },
   "outputs": [],
   "source": [
    "s1 = {1, 3, 5}\n",
    "s2 = {3, 5, 1}\n",
    "s3 = {1, 3, 5, 7}\n",
    "s1 == s2,s1 < s2,s1 <= s2,s1.issubset(s2),s1 < s2,s3 > s1,s3.issuperset(s1)"
   ]
  },
  {
   "cell_type": "markdown",
   "id": "212e20e6",
   "metadata": {},
   "source": [
    "Η μέθοδος `isdisjoint` χρησιμοποιείται για να ελέγξει αν δύο σύνολα είναι ξένα μεταξύ τους, δηλαδή αν δεν έχουν κοινά στοιχεία."
   ]
  },
  {
   "cell_type": "code",
   "execution_count": null,
   "id": "5943ccdc",
   "metadata": {},
   "outputs": [],
   "source": [
    "s1 = {1, 2, 3}\n",
    "s2 = {3, 4, 5}\n",
    "s3 = {4, 5, 6}\n",
    "s1.isdisjoint(s2),s1.isdisjoint(s3)"
   ]
  },
  {
   "cell_type": "markdown",
   "id": "7a3bb01c",
   "metadata": {},
   "source": [
    "# Συλλογές"
   ]
  },
  {
   "cell_type": "markdown",
   "id": "046d2891",
   "metadata": {
    "slideshow": {
     "slide_type": "slide"
    },
    "tags": []
   },
   "source": [
    "## Διαφορές/Ομοιότητες μεταξύ των δομών"
   ]
  },
  {
   "cell_type": "markdown",
   "id": "b984e79e-fc8c-474a-b950-7cc23d680d77",
   "metadata": {
    "slideshow": {
     "slide_type": "slide"
    },
    "tags": []
   },
   "source": [
    "Συνοψίζοντας τα κύρια χαρακτηριστικά των δομών δεδομένων που είδαμε είναι:\n",
    "\n",
    "|       | Mutable | Ordered | Indexing, Slicing | Duplicate Data |\n",
    "| :---        |    :----:   |   :----: | :----: | :----: |\n",
    "| **Λίστες**      | ✔ | ✔  | ✔  | ✔  |\n",
    "| **Πλειάδες**   | X | ✔  | ✔  | ✔  |\n",
    "| **Σύνολα**   | ✔ | X | X | X |\n",
    "| **Λεξικά**   | ✔ | ✔  | ✔  | X |"
   ]
  },
  {
   "cell_type": "markdown",
   "id": "56dc7874-c7f0-440c-a7ae-090bc34677cf",
   "metadata": {
    "slideshow": {
     "slide_type": ""
    },
    "tags": []
   },
   "source": [
    "Επιπλέον: \n",
    "\n",
    "- Οι **Λίστες** μπορούν να αντιστοιχηθούν με τις δομές πινάκων άλλων γλωσσών προγραμματισμού και να είναι πολυδιάστατες.\n",
    "\n",
    "- Τα **Λεξικά** προτιμούνται για αποθήκευση και επεξεργασία δεδομένων που είναι σε μορφή .json.\n",
    "\n",
    "- Η αναζήτηση μοναδικών εγγραφών σε ένα **Σύνολο** ή σε κλειδιά λεξικού είναι πολύ πιο γρήγορη από τις λίστες."
   ]
  },
  {
   "cell_type": "markdown",
   "id": "a6c745ea",
   "metadata": {},
   "source": [
    "**Παράδειγμα**\n",
    "\n",
    "Θα δημιουργήσουμε ένα μεγάλο εύρος αριθμών, έστω 1.000.000 που θα καταχωρηθούν σε λίστα και σύνολο. Θα αναζητήσουμε έναν αριθμό προς το τέλος της λίστας και θα μετρήσουμε τον χρόνο αναζήτησης και στις δύο δομές."
   ]
  },
  {
   "cell_type": "code",
   "execution_count": null,
   "id": "6149bc2f-160c-4b99-ab1c-42dd983dc01f",
   "metadata": {},
   "outputs": [],
   "source": [
    "import time\n",
    "\n",
    "# Δημιουργία \n",
    "large_list = list(range(1, 10000000))\n",
    "large_set = set(large_list)\n",
    "\n",
    "search_value = 9887654\n",
    "\n",
    "startTime = time.time()\n",
    "found_in_list = search_value in large_list\n",
    "endTime = time.time()\n",
    "print('Διάρκεια αναζήτησης σε λίστα:', endTime - startTime)\n",
    "\n",
    "startTime = time.time()\n",
    "found_in_set = search_value in large_set\n",
    "endTime = time.time()\n",
    "print('Διάρκεια αναζήτησης σε σύνολο:', endTime - startTime)\n"
   ]
  },
  {
   "cell_type": "markdown",
   "id": "3fa67fda-afc6-4a9f-b0da-59fc5d30ead5",
   "metadata": {},
   "source": [
    "## Comprehension"
   ]
  },
  {
   "cell_type": "markdown",
   "id": "f313d086-290b-4af9-9aff-336afc60f181",
   "metadata": {},
   "source": [
    "Είναι δυνατόν να δημιουργήσουμε μια λίστα μέσω μιας έκφρασης και μιας άλλης λίστας ως εξής:\n",
    "```Python\n",
    "[έκφραση for μεταβλητή in ακολουθία]\n",
    "```\n",
    "Για παράδειγμα, η εντολή"
   ]
  },
  {
   "cell_type": "code",
   "execution_count": null,
   "id": "96e66f38-1ce9-4022-853f-dbab772513f4",
   "metadata": {
    "tags": []
   },
   "outputs": [],
   "source": [
    "[i ** 2 for i in range(10)]"
   ]
  },
  {
   "cell_type": "markdown",
   "id": "c1da5f3e-85ed-4ef2-9ce8-dc854b53ced9",
   "metadata": {},
   "source": [
    "δημιουργεί τη λίστα με τα στοιχεία $i^2$ για $i=0,\\ldots, 9$. Η εντολή μπορεί να εμφωλευθεί δημιουργώντας πολυδιάστατες λίστες, όπως φαίνεται στο παράδειγμα που ακολουθεί:"
   ]
  },
  {
   "cell_type": "markdown",
   "id": "b4c709a3-54b4-4e1c-827f-160075a2a358",
   "metadata": {},
   "source": [
    "Η εντολή\n",
    "```Python\n",
    "sum([2 ** i for i in range(10)] )\n",
    "```\n",
    "υπολογίζει το άθροισμα\n",
    "\n",
    "$$\n",
    "\\sum_{i=0}^{10}{2^i}\n",
    "$$\n",
    "\n",
    "το οποίο επίσης υπολογίσαμε παραπάνω, μέσω της δημιουργίας ενός list comprehension."
   ]
  },
  {
   "cell_type": "markdown",
   "id": "319c2022",
   "metadata": {},
   "source": [
    "Έστω ότι θέλουμε να δημιουργήσουμε μια δισδιάστατη λίστα $N\\times N$ με στοιχεία τον κενό χαρακτήρα:"
   ]
  },
  {
   "cell_type": "code",
   "execution_count": null,
   "id": "14190a9c-8f62-467f-9b2b-8b01210c5a0b",
   "metadata": {
    "tags": []
   },
   "outputs": [],
   "source": [
    "N = 5\n",
    "[[' ' for _ in range(N)] for _ in range(N)]"
   ]
  },
  {
   "cell_type": "markdown",
   "id": "d731d625",
   "metadata": {},
   "source": [
    "Υπάρχει η δυνατότητα φιλτραρίσματος αποτελεσμάτων σε μία έκφραση comprehension με την προσθήκη μίας `if`."
   ]
  },
  {
   "cell_type": "code",
   "execution_count": null,
   "id": "9054dc41",
   "metadata": {},
   "outputs": [],
   "source": [
    "L = [i for i in range(1, 100) if i % 2 != 0 and i % 3 != 0]\n",
    "print(L)"
   ]
  },
  {
   "cell_type": "markdown",
   "id": "5584304e",
   "metadata": {},
   "source": [
    "Χρησιμοποιώντας την ίδια λογική με τις λίστες μπορούμε να δημιουργήσουμε λεξικά με τεχνική comprehension."
   ]
  },
  {
   "cell_type": "code",
   "execution_count": null,
   "id": "f8a6b470",
   "metadata": {},
   "outputs": [],
   "source": [
    "d = {x: x**2 for x in range(1,11)};d"
   ]
  },
  {
   "cell_type": "markdown",
   "id": "a836b249",
   "metadata": {},
   "source": [
    "Κατά τον ίδιο τρόπο δημιουργούνται και σύνολα."
   ]
  },
  {
   "cell_type": "code",
   "execution_count": null,
   "id": "d3982fe6",
   "metadata": {},
   "outputs": [],
   "source": [
    "squares = {i**2 for i in range(1,11)};squares"
   ]
  },
  {
   "cell_type": "markdown",
   "id": "a6d293af",
   "metadata": {},
   "source": [
    "**Παράδειγμα**\n",
    "\n",
    "Θα δημιουργήσουμε ένα σύνολο με τους μοναδικούς χαρακτήρες μία φράσης."
   ]
  },
  {
   "cell_type": "code",
   "execution_count": null,
   "id": "7396cd37",
   "metadata": {},
   "outputs": [],
   "source": [
    "phrase = 'An expert is a person who has made all the mistakes that can be made in a very narrow field'\n",
    "charsInPhrase = {char for char in phrase}\n",
    "print(charsInPhrase)"
   ]
  },
  {
   "cell_type": "markdown",
   "id": "32a5f7c7",
   "metadata": {},
   "source": [
    "Για να δημιουργήσουμε πλειάδα με τον παραπάνω τρόπου θα πρέπει να χρησιμοποιήσουμε τον παραπάνω τρόπο, με παρενθέσεις, σε συνδυασμό με την `tuple`. Αν δεν χρησιμοποιήσουμε την `tuple` δημιουργείται γεννήτορας όπως θα δούμε στην συνέχεια."
   ]
  },
  {
   "cell_type": "code",
   "execution_count": null,
   "id": "a4d55d07",
   "metadata": {},
   "outputs": [],
   "source": [
    " tuple(2**n for n in range(1,11))"
   ]
  },
  {
   "cell_type": "markdown",
   "id": "99ac7493",
   "metadata": {},
   "source": [
    "## `all`, `any`"
   ]
  },
  {
   "cell_type": "markdown",
   "id": "db609548",
   "metadata": {},
   "source": [
    "Η `all` επιστρέφει `True` μόνο αν όλα τα στοιχεία του **iterable** είναι `True`. Αν το **iterable** είναι κενό, επίσης επιστρέφει `True`.\n",
    "\n",
    "Σημειώνεται ότι στην Python, **iterable** είναι οποιοδήποτε αντικείμενο μπορεί να επιστραφεί ως μία ακολουθία στοιχείων, συνήθως μέσω ενός βρόχου for. Τέτοια αντικείμενα είναι η λίστες, οι πλειάδες, τα σύνολα, τα λεξικά, οι συμβολοσειρές."
   ]
  },
  {
   "cell_type": "code",
   "execution_count": null,
   "id": "34a708ad",
   "metadata": {},
   "outputs": [],
   "source": [
    "all([True, True, True]),all([True, False, True]),all([])"
   ]
  },
  {
   "cell_type": "markdown",
   "id": "29b78fc7",
   "metadata": {},
   "source": [
    "Τα μη μηδενικά στοιχεία θεωρούνται και αυτά `True` με τα μηδενικά να θεωρούνται `False`."
   ]
  },
  {
   "cell_type": "code",
   "execution_count": null,
   "id": "7cb73d06",
   "metadata": {},
   "outputs": [],
   "source": [
    "all([1, 2, 3]),all([1, 0, 3])"
   ]
  },
  {
   "cell_type": "markdown",
   "id": "5a018ad3",
   "metadata": {},
   "source": [
    "Η `any` επιστρέφει `True` αν τουλάχιστον ένα στοιχείο του **iterable** είναι `True`. Αν το **iterable** είναι κενό, επιστρέφει `False`."
   ]
  },
  {
   "cell_type": "code",
   "execution_count": null,
   "id": "b3846715",
   "metadata": {},
   "outputs": [],
   "source": [
    "any([False, False, True]),any([False, False, False]),any([])"
   ]
  },
  {
   "cell_type": "code",
   "execution_count": null,
   "id": "95ad4b21",
   "metadata": {},
   "outputs": [],
   "source": [
    "any([0, 0, 3]),any([0, 0, 0])"
   ]
  },
  {
   "cell_type": "markdown",
   "id": "8dbb35f4",
   "metadata": {},
   "source": [
    "**Παράδειγμα**\n",
    "\n",
    "Μπορούμε να συνδυάσουμε τις `any` και `all` με την τεχνική comprehension για ελέγχους όπως οι επόμενοι:\n",
    "\n",
    "- Έλεγχος αν όλοι οι αριθμοί σε μία λίστα είναι θετικοί\n",
    "\n",
    "- Έλεγχος αν υπάρχει έστω ένας αριθμός που διαιρείται με το 10 στη λίστα."
   ]
  },
  {
   "cell_type": "code",
   "execution_count": null,
   "id": "d2460bd7",
   "metadata": {},
   "outputs": [],
   "source": [
    "numbers = [3, 5, 7, 9, 11]\n",
    "all(n > 0 for n in numbers), any(num % 10 == 0 for num in numbers)"
   ]
  },
  {
   "cell_type": "markdown",
   "id": "3afedfce",
   "metadata": {},
   "source": [
    "**Παράδειγμα**\n",
    "\n",
    "Έχουμε μία λίστα προϊόντων σε μία αποθήκη και θέλουμε να δούμε αν κάποιο από αυτά είναι εκτός αποθέματος."
   ]
  },
  {
   "cell_type": "code",
   "execution_count": null,
   "id": "012b74fc",
   "metadata": {},
   "outputs": [],
   "source": [
    "stock1 = [3,5,2,2,4]\n",
    "stock2 = [3,5,0,2,4]\n",
    "all(stock1),all(stock2)"
   ]
  },
  {
   "cell_type": "markdown",
   "id": "22422fa0-2c6c-4ce9-a7c6-4e5d4c31a330",
   "metadata": {
    "slideshow": {
     "slide_type": "subslide"
    },
    "tags": []
   },
   "source": [
    "## `zip`"
   ]
  },
  {
   "cell_type": "markdown",
   "id": "503b69c4",
   "metadata": {},
   "source": [
    "Η συνάρτηση `zip`, στην πιο απλή μορφή της, δέχεται ως παραμέτρους δυο συλλογές, **iterables** και επιστρέφει ένα ειδικού τύπου αντικείμενο `zip` το οποίο είναι μια συλλογή από πλειάδες που προκύπτουν από τη σύνθεση των αντίστοιχων στοιχείων των δυο συλλογών. Για παράδειγμα:"
   ]
  },
  {
   "cell_type": "code",
   "execution_count": null,
   "id": "1935bd56-70de-4f55-be06-7d30f79f373c",
   "metadata": {
    "slideshow": {
     "slide_type": ""
    },
    "tags": []
   },
   "outputs": [],
   "source": [
    "a = [1,2,3]\n",
    "b = ['a','b','c']\n",
    "\n",
    "my_zip = zip(a,b)\n",
    "list(my_zip)"
   ]
  },
  {
   "cell_type": "markdown",
   "id": "a2e08c7d-8cb7-410c-99f8-21bbd631f42a",
   "metadata": {},
   "source": [
    "Στο παραπάνω, το πρώτο στοιχείο της λίστας _a_ δημιουργεί ένα ζεύγος με το πρώτο στοιχείο της λίστας _b_ κ.λπ..\n",
    "\n",
    "Η συνάρτηση `zip` χρησιμοποιείται συχνά για την ταυτόχρονη απαρίθμηση των στοιχείων δύο ακολουθιών μέσα σε μια δομή `for`:"
   ]
  },
  {
   "cell_type": "markdown",
   "id": "4b1ae7ea",
   "metadata": {},
   "source": [
    "**Παράδειγμα**\n",
    "\n",
    "Δημιουργήστε μία for η οποία θα απαριθμεί από το 0 έως το μέγεθος ενός string τα στοιχεία του."
   ]
  },
  {
   "cell_type": "code",
   "execution_count": null,
   "id": "6a803893-db0e-42c1-9405-9ebae14687f4",
   "metadata": {
    "tags": []
   },
   "outputs": [],
   "source": [
    "s = \"Πυθαγόρας\"\n",
    "n = len(s)\n",
    "for i, ch in zip(range(n), s):\n",
    "    print(i, ch, end= \"|\")"
   ]
  },
  {
   "cell_type": "markdown",
   "id": "785b5f7d",
   "metadata": {},
   "source": [
    "**Παράδειγμα**\n",
    "\n",
    "Έστω λίστα με μαθήματα και αντίστοιχη λίστα με βαθμούς ενός φοιτητή σε αυτά. Εμφανίστε κατάλληλα κάνοντας χρήση της zip."
   ]
  },
  {
   "cell_type": "code",
   "execution_count": null,
   "id": "a5403e09",
   "metadata": {},
   "outputs": [],
   "source": [
    "courses = [\"Ανάλυση Ι\", \"Άλγεβρα\", \"Γεωμετρία\", \"Στατιστική\", \"Αριθμητική Ανάλυση\"]\n",
    "grades = [8, 7.5, 9, 6, 8.5]\n",
    "for course, grade in zip(courses, grades):\n",
    "    print('Μάθημα:',course,'Βαθμός:',grade)"
   ]
  },
  {
   "cell_type": "markdown",
   "id": "433ccf66",
   "metadata": {},
   "source": [
    "Δεν είναι ανάγκη να εφαρμοστεί σε λίστα αλλά μπορεί να γίνει εφαρμογή σε οποιαδήποτε συλλογή έχει την ιδιότητα **iterable**, για παράδειγμα, `tuple`, `set`, `dict` αλλά και `str` όπως φαίνεται στο παράδειγμα."
   ]
  },
  {
   "cell_type": "code",
   "execution_count": null,
   "id": "5e04dfa1",
   "metadata": {},
   "outputs": [],
   "source": [
    "s1 = \"Samos\"\n",
    "s2 = \"22730\"\n",
    "list(zip(s1,s2))"
   ]
  },
  {
   "cell_type": "markdown",
   "id": "d233cee6",
   "metadata": {},
   "source": [
    "Η `zip` μπορεί να χρησιμοποιηθεί για την δημιουργία λεξικού."
   ]
  },
  {
   "cell_type": "code",
   "execution_count": null,
   "id": "912a9171",
   "metadata": {},
   "outputs": [],
   "source": [
    "d = dict(zip(courses, grades))\n",
    "print(d)"
   ]
  },
  {
   "cell_type": "markdown",
   "id": "11fc61c7",
   "metadata": {},
   "source": [
    "Μπορούμε να συνδυάσουμε περισσότερες από δύο συλλογές. Δεν υπάρχει όριο στις συλλογές που μπορούμε να συνδυάσουμε."
   ]
  },
  {
   "cell_type": "code",
   "execution_count": null,
   "id": "a0d8c9d2",
   "metadata": {},
   "outputs": [],
   "source": [
    "teachers = [\"Carl Gauss\", \"Leonhard Euler\", \"Euclid\", \"Pierre-Simon Laplace\", \"Sophie Germain\"]\n",
    "together = list(zip(courses, grades, teachers))\n",
    "print(together)"
   ]
  },
  {
   "cell_type": "markdown",
   "id": "4b97d7cf",
   "metadata": {},
   "source": [
    "Αν οι συλλογές δεν είναι του ίδιου μεγέθους η `zip` θα σταματήσει στην μικρότερη από αυτές."
   ]
  },
  {
   "cell_type": "code",
   "execution_count": null,
   "id": "2108fd03",
   "metadata": {},
   "outputs": [],
   "source": [
    "L1 = ['a','b','c','d']\n",
    "L2 = [1, 2, 3]\n",
    "list(zip(L1,L2))"
   ]
  },
  {
   "cell_type": "markdown",
   "id": "4e367cf6-3520-485f-8618-b9679e557539",
   "metadata": {},
   "source": [
    "Όπως φαίνεται στα παραπάνω παραδείγματα, ένα αντικείμενο `zip`  συχνά μετατρέπεται σε κατάλληλο αντικείμενο ακολουθίας (λίστα, πλειάδα) πριν χρησιμοποιηθεί περαιτέρω, χρησιμοποιώντας την κατάλληλη συνάρτηση μετατροπής (`list`, `tuple`, κ.λπ.)."
   ]
  },
  {
   "cell_type": "markdown",
   "id": "c7725daa",
   "metadata": {},
   "source": [
    "**Παράδειγμα**\n",
    "\n",
    "Κάνοντας χρήση της `zip` συγκρίνετε αν δύο λίστες έχουν τα ίδια περιεχόμενα."
   ]
  },
  {
   "cell_type": "code",
   "execution_count": null,
   "id": "4f80561b",
   "metadata": {},
   "outputs": [],
   "source": [
    "L1 = [1, 3, 4]\n",
    "L2 = [1, 2, 4]\n",
    "C = [el1 == el2 for el1,el2 in zip(L1,L2)]\n",
    "print(C)\n",
    "print(all(C))"
   ]
  },
  {
   "cell_type": "markdown",
   "id": "cdde3e1e",
   "metadata": {},
   "source": [
    "### unzip"
   ]
  },
  {
   "cell_type": "markdown",
   "id": "f26093a1-aaea-4ae2-8d48-3e3582f49eb7",
   "metadata": {
    "slideshow": {
     "slide_type": ""
    },
    "tags": []
   },
   "source": [
    "Η συνάρτηση `zip` μπορεί να χρησιμοποιηθεί, με κατάλληλη μορφή, για την αντίστροφη διαδικασία: Να χωρίσει τα στοιχεία μιας ακολουθίας από πλειάδες (αντικείμενο `zip` σε επιμέρους ακολουθίες).  Η διαδικασία αυτή ονομάζεται **unzip**. Η αντίστοιχη μορφή της `zip` είναι:\n",
    "\n",
    "```Python\n",
    "zip(*ακολουθία)\n",
    "```"
   ]
  },
  {
   "cell_type": "markdown",
   "id": "f6f71bde-66a2-4638-a389-4ca520dd3976",
   "metadata": {},
   "source": [
    "**Παράδειγμα**\n",
    "\n",
    "Από μια ακολουθία πλειάδων που περιγράφουν το ονοματεπώνυμο και το έτος γέννησης κάποιων φοιτητών να γίνει χρήση της `zip` για να απομονώθούν οι λίστες με τα ονοματεπώνυμα και τα έτη γέννησης."
   ]
  },
  {
   "cell_type": "code",
   "execution_count": null,
   "id": "b5f2ff90-033f-459d-befa-026af1146d0d",
   "metadata": {
    "tags": []
   },
   "outputs": [],
   "source": [
    "student_data = [(\"Νίκος\", 1990), (\"Αντώνης\", 1991), (\"Ανδρέας\", 1969)]\n",
    "\n",
    "unzipped_names, unzipped_years= zip(*student_data)\n",
    "print(unzipped_names)\n",
    "print(unzipped_years)"
   ]
  },
  {
   "cell_type": "markdown",
   "id": "f4e57307",
   "metadata": {},
   "source": [
    "Η unzip μπορεί να χρησιμοποιηθεί για τον υπολογισμό του ανάστροφου, transpose ενός πίνακα:"
   ]
  },
  {
   "cell_type": "code",
   "execution_count": null,
   "id": "23508ddf",
   "metadata": {},
   "outputs": [],
   "source": [
    "matrix = [\n",
    "    [1, 2, 3],\n",
    "    [4, 5, 6],\n",
    "    [7, 8, 9]\n",
    "]\n",
    "trans = list(zip(*matrix))\n",
    "for row in trans:\n",
    "    print(row)\n",
    "matrix = [\n",
    "    [1, 2, 3, 4],\n",
    "    [5, 6, 7, 8]\n",
    "]\n",
    "trans = list(zip(*matrix))\n",
    "for row in trans:\n",
    "    print(row)"
   ]
  },
  {
   "cell_type": "markdown",
   "id": "5b975903",
   "metadata": {},
   "source": [
    "## Enumerate"
   ]
  },
  {
   "cell_type": "markdown",
   "id": "c4e5e48e",
   "metadata": {},
   "source": [
    "Στην περίπτωση που απλά θέλουμε μαζί με τα στοιχεία της συλλογής και τον δείκτη τους χρησιμοποιούμε την `enumerate`."
   ]
  },
  {
   "cell_type": "code",
   "execution_count": null,
   "id": "75e054ec",
   "metadata": {},
   "outputs": [],
   "source": [
    "pets = [\"dog\", \"cat\", \"fish\"]\n",
    "for el in enumerate(pets):\n",
    "    print(el)\n",
    "print('---')\n",
    "s = \"Samos\"\n",
    "for el in enumerate(s):\n",
    "    print(el)"
   ]
  },
  {
   "cell_type": "markdown",
   "id": "b54542f7-68f9-4e66-8174-304cf27d42c3",
   "metadata": {
    "slideshow": {
     "slide_type": "slide"
    },
    "tags": []
   },
   "source": [
    "## Τροποποιήσιμα (mutable), μη τροποποιήσιμα (immutable) αντικείμενα"
   ]
  },
  {
   "cell_type": "markdown",
   "id": "679fec5a",
   "metadata": {},
   "source": [
    "Τα μη τροποποιήσιμα αντικείμενα δεν είναι δυνατόν να τροποποιηθούν διατηρώντας την ταυτότητά τους, παρά μόνο μέσω της δημιουργίας ενός νέου αντικειμένου. Έτσι, μετά την εκτέλεση των παρακάτω εντολών:"
   ]
  },
  {
   "cell_type": "code",
   "execution_count": null,
   "id": "7ead461d-285d-4fcd-9577-a8e180a76216",
   "metadata": {
    "tags": []
   },
   "outputs": [],
   "source": [
    "immutable_object = ('a', 'b', 'c')\n",
    "t = immutable_object\n",
    "t is immutable_object"
   ]
  },
  {
   "cell_type": "markdown",
   "id": "52abe0d6-70c8-46e3-9954-e4d5e6bbd68f",
   "metadata": {},
   "source": [
    "Η μεταβλητή _t_ δείχνει στο ίδιο αντικείμενο _immutable_object_. Όμως, η προσθήκη ενός νέου στοιχείου στην πλειάδα  _immutable_object_ έχει ως αποτέλεσμα τη δημιουργία ενός νέου αντικειμένου:"
   ]
  },
  {
   "cell_type": "code",
   "execution_count": null,
   "id": "bd34ad07-e01f-4662-a116-72dca759adae",
   "metadata": {
    "tags": []
   },
   "outputs": [],
   "source": [
    "immutable_object += ('d',)"
   ]
  },
  {
   "cell_type": "markdown",
   "id": "d3f896d4-78d5-4f7b-8aa9-1069055f600b",
   "metadata": {},
   "source": [
    "Αυτό μπορούμε να το δούμε συγκρίνοντας τα παραπάνω αντικείμενα _immutable_object_ και _t_ ως προς την ταυτότητά τους με τον τελεστή `is`:"
   ]
  },
  {
   "cell_type": "code",
   "execution_count": null,
   "id": "03b64edd-9bbe-4b6d-a26e-e705d694ac4e",
   "metadata": {
    "tags": []
   },
   "outputs": [],
   "source": [
    "t is immutable_object"
   ]
  },
  {
   "cell_type": "markdown",
   "id": "4bd95ac4-d4c6-42fc-ab1f-d35017a79a79",
   "metadata": {
    "tags": []
   },
   "source": [
    "Αντίθετα, μια τροποποίηση της παραπάνω μορφής δεν αλλάζει την ταυτότητα ενός τροποποιήσιμου, **mutable** αντικειμένου, όπως μιας λίστας:"
   ]
  },
  {
   "cell_type": "code",
   "execution_count": null,
   "id": "dc3731a5-c101-4d64-b426-3091b5c9256f",
   "metadata": {
    "tags": []
   },
   "outputs": [],
   "source": [
    "mutable_object = ['a', 'b', 'c']\n",
    "p = mutable_object\n",
    "p is mutable_object"
   ]
  },
  {
   "cell_type": "markdown",
   "id": "55d14f8e-3f81-49a3-9fd7-334b388440c9",
   "metadata": {},
   "source": [
    "Η παραπάνω λίστα διατηρεί την ταυτότητά της μετά την τροποποίησή της, π.χ. με την προσθήκη ενός στοιχείου:"
   ]
  },
  {
   "cell_type": "code",
   "execution_count": null,
   "id": "9a1dd6de-f910-474e-9d4c-cb3b013d78a9",
   "metadata": {
    "slideshow": {
     "slide_type": ""
    },
    "tags": []
   },
   "outputs": [],
   "source": [
    "mutable_object += ['d']\n",
    "p is mutable_object"
   ]
  },
  {
   "cell_type": "markdown",
   "id": "92862211",
   "metadata": {},
   "source": [
    "Προσοχή θα πρέπει να δοθεί σε δομές όπως τα λεξικά, ουσιαστικά τα κλειδιά τους, και τα σύνολα δεν μπορούμε να χρησιμοποιήσουμε **mutable** αντικείμενα. Στην πραγματικότητα, θέλουμε τα αντικείμενα να είναι **hashable**, να έχουν, δηλαδή, μία σταθερή τιμή καθ' όλη τη διάρκεια ζωής τους. Ακολουθούν προσπάθειες εκχώρησης σε κλειδί λεξικού και σε `Set` ενός **mutable** και ως εκ τούτου **unhashable** αντικειμένου. Η Python εγείρει αντίστοιχο μήνυμα λάθους."
   ]
  },
  {
   "cell_type": "code",
   "execution_count": null,
   "id": "8c29dabb",
   "metadata": {},
   "outputs": [],
   "source": [
    "# d = {[1, 2, 3]: \"value\"}\n",
    "# s = {[1,2, 3]}"
   ]
  },
  {
   "cell_type": "markdown",
   "id": "d6f777dc",
   "metadata": {},
   "source": [
    "# Γεννήτορες, generator"
   ]
  },
  {
   "cell_type": "markdown",
   "id": "e19bde2a",
   "metadata": {},
   "source": [
    "Οι **generator** συναρτήσεις επιστρέφουν `iterators` μέσω της `yield`. Ορίζονται όπως και οι υπόλοιπες συναρτήσεις αλλά οποτεδήποτε είναι να δημιουργήσει μία τιμή αντί να το κάνει με την `return` το κάνει με τη `yield`.\n",
    "\n",
    "Η δήλωση `yield` αναστέλλει την εκτέλεση μιας συνάρτησης και επιστρέφει μια τιμή στον καλούντα, όπως και η `return`. Διατηρεί όμως πληροφορία κατάστασης της συνάρτησης ώστε όταν καλεστεί και πάλι να συνεχίσει από εκεί που σταμάτησε, από την τελευταία, δηλαδή, εντολή `yield` που εκτελέστηκε. Αυτό επιτρέπει στον κώδικα της συνάρτησης να παράγει μια σειρά από τιμές με την πάροδο του χρόνου, αντί να τις υπολογίζει όλες μαζί και να τις επιστρέφει ως μια λίστα."
   ]
  },
  {
   "cell_type": "code",
   "execution_count": null,
   "id": "f3f8af34",
   "metadata": {},
   "outputs": [],
   "source": [
    "def fibogenerator(): \n",
    "    yield 1  \n",
    "    yield 1 \n",
    "    yield 2            \n",
    "    yield 3\n",
    "    yield 5\n",
    "    yield 8\n",
    "    yield 13\n",
    "    yield 21\n",
    "for fibo in fibogenerator():  \n",
    "    print(fibo, end= ' ')"
   ]
  },
  {
   "cell_type": "code",
   "execution_count": null,
   "id": "0a239260",
   "metadata": {},
   "outputs": [],
   "source": [
    "def fibogenerator(n):\n",
    "    a, b = 1, 1\n",
    "    i=1\n",
    "    while i <= n: \n",
    "        yield a \n",
    "        a, b = b, a + b\n",
    "        i+=1\n",
    "fibo8 = fibogenerator(8)\n",
    "for fibo in fibo8:  \n",
    "    print(fibo, end=' ')\n",
    "for fibo in fibo8:  \n",
    "    print(fibo, end=' ')"
   ]
  },
  {
   "cell_type": "markdown",
   "id": "1e38bdd3",
   "metadata": {},
   "source": [
    "Παρατηρούμε ότι αν εφαρμόσουμε δύο φορές μία δομή επανάληψης σε ένα αντικείμενο **generator**, την δεύτερη φορά δεν θα επιστραφούν τιμές. Θα πρέπει να δημιουργήσουμε νέο αντικείμενο **generator**."
   ]
  },
  {
   "cell_type": "markdown",
   "id": "1529d7bb",
   "metadata": {},
   "source": [
    "Όπως θα δούμε η προσπέλαση ενός **iterable** μπορεί να επιτευχθεί και με την μέθοδο `next`."
   ]
  },
  {
   "cell_type": "code",
   "execution_count": null,
   "id": "2f974f99",
   "metadata": {},
   "outputs": [],
   "source": [
    "fibo5 = fibogenerator(5)\n",
    "print(next(fibo5),next(fibo5),next(fibo5),next(fibo5),next(fibo5))"
   ]
  },
  {
   "cell_type": "markdown",
   "id": "b023885e",
   "metadata": {},
   "source": [
    "Στην περίπτωση που μετά από διαδοχικές κλήσεις της next για κάποιο γεννήτορα δεν υπάρχουν άλλες yield για επιστροφή τιμής, εγείρεται μία εξαίρεση."
   ]
  },
  {
   "cell_type": "code",
   "execution_count": null,
   "id": "9d49f4b0",
   "metadata": {},
   "outputs": [],
   "source": [
    "# next(fibo5)"
   ]
  },
  {
   "cell_type": "markdown",
   "id": "6acc1e4f",
   "metadata": {},
   "source": [
    "Ένα **generator** μπορεί να γραφτεί και με τον επόμενο συντομότερο τρόπο σε αναλογία με το **comprehension**."
   ]
  },
  {
   "cell_type": "code",
   "execution_count": null,
   "id": "a7147988",
   "metadata": {},
   "outputs": [],
   "source": [
    "gen = (i for i in range(105) if i%5==0)\n",
    "print(gen)\n",
    "for i in gen:\n",
    "    print (i,end=' ')"
   ]
  },
  {
   "cell_type": "markdown",
   "id": "fd051042",
   "metadata": {},
   "source": [
    "Ένα πλεονέκτημα του γεννήτορα σε σχέση με δομές όπως η `list` ή το `tuple` είναι ότι δεν δημιουργεί κάποια δομή δεδομένων στην μνήμη και απλά επιστρέφει ένα `iterable`."
   ]
  },
  {
   "cell_type": "markdown",
   "id": "dd47c2d1",
   "metadata": {},
   "source": [
    "Μπορεί να συνδυαστεί με συναρτήσεις επί των iterables όπως η `sum` επιστρέφοντας το άθροισμα χωρίς την ανάγκη δημιουργίας όλων των αριθμών ταυτόχρονα στην μνήμη."
   ]
  },
  {
   "cell_type": "markdown",
   "id": "ba56dd3d",
   "metadata": {},
   "source": [
    "**Παράδειγμα**\n",
    "\n",
    "Θα υπολογιστεί το άθροισμα $\\sum_{i=0}^{10000} i^3$."
   ]
  },
  {
   "cell_type": "code",
   "execution_count": null,
   "id": "650e5bd5",
   "metadata": {},
   "outputs": [],
   "source": [
    "sum(i**3 for i in range(10000))"
   ]
  },
  {
   "cell_type": "markdown",
   "id": "0ee6253a",
   "metadata": {},
   "source": [
    "**Παράδειγμα**\n",
    "\n",
    "Έστω ότι θέλουμε να υπολογίσουμε το άθροισμα των τετραγώνων των πρώτων 1.000.000.000 αριθμών. Θα χρησιμοποιήσουμε τεχνική comprehension με λίστα και γεννήτορα και θα υπολογίσουμε την κατανάλωση μνήμης και χρόνου στις δύο περιπτώσεις. Θα γίνει χρήση εκτός της `time`, της βιβλιοθήκης `sys` και της μεθόδου `getsizeof` για να μετρήσουμε την κατανάλωση μνήμης στις δύο περιπτώσεις.\n",
    "\n",
    "Παρατηρούμε ότι ενώ στον χρόνο δεν υπάρχει μεγάλη διαφορά μεταξύ των δύο τεχνικών, λόγω του ότι η δομή της λίστας απαιτεί την φόρτωση όλων των δεδομένων πριν τον υπολογισμό του αθροίσματος η κατανάλωση μνήμης είναι πολύ μεγαλύτερη."
   ]
  },
  {
   "cell_type": "code",
   "execution_count": null,
   "id": "16c63dbe",
   "metadata": {},
   "outputs": [],
   "source": [
    "import time\n",
    "import sys\n",
    "\n",
    "N = 1_000_000\n",
    "\n",
    "# list comprehension\n",
    "start_time = time.time()\n",
    "list_comp = [x**2 for x in range(1, N + 1)]\n",
    "end_time = time.time()\n",
    "print('Χρόνος με List Comprehension:', end_time - start_time, 'seconds')\n",
    "print(\"Κατανάλωση μνήμης με List Comprehension:\", sys.getsizeof(list_comp), 'bytes')\n",
    "\n",
    "# generator\n",
    "start_time = time.time()\n",
    "gen_expr = (x**2 for x in range(1, N + 1))\n",
    "end_time = time.time()\n",
    "print('Χρόνος με Generator Expression:', end_time - start_time, 'seconds')\n",
    "print('Κατανάλωση μνήμης με Generator Expression:', sys.getsizeof(gen_expr), 'bytes')"
   ]
  },
  {
   "cell_type": "code",
   "execution_count": null,
   "id": "cc59b1db",
   "metadata": {},
   "outputs": [],
   "source": []
  }
 ],
 "metadata": {
  "kernelspec": {
   "display_name": "Python 3 (ipykernel)",
   "language": "python",
   "name": "python3"
  },
  "language_info": {
   "codemirror_mode": {
    "name": "ipython",
    "version": 3
   },
   "file_extension": ".py",
   "mimetype": "text/x-python",
   "name": "python",
   "nbconvert_exporter": "python",
   "pygments_lexer": "ipython3",
   "version": "3.11.4"
  }
 },
 "nbformat": 4,
 "nbformat_minor": 5
}
