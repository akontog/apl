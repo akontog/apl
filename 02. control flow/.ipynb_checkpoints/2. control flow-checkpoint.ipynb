{
 "cells": [
  {
   "cell_type": "markdown",
   "id": "781a0a2f-3c09-4060-a3ba-1a20632b3d01",
   "metadata": {
    "slideshow": {
     "slide_type": "slide"
    },
    "tags": []
   },
   "source": [
    "<div style=\"padding:20px 0px 20px 0px; text-align:center; font-weight: bold; font-size:170%; background-color: #2d8077; color:#f0b439;\">\n",
    "2.<br>\n",
    "<span style=\"color:#ffffcc;\">Έλεγχος ροής</span>\n",
    "</div>\n",
    "\n",
    "---"
   ]
  },
  {
   "cell_type": "markdown",
   "id": "1d9df4f7-bf02-4610-8c6b-88afc3dfc597",
   "metadata": {
    "slideshow": {
     "slide_type": "slide"
    },
    "tags": []
   },
   "source": [
    "# Δομές επιλογής if"
   ]
  },
  {
   "cell_type": "markdown",
   "id": "c4ff8ccb-d054-419e-bc52-052f3100ca77",
   "metadata": {
    "slideshow": {
     "slide_type": "subslide"
    },
    "tags": []
   },
   "source": [
    "Η Python παρέχει τρεις τύπους δομών επιλογής `if`:\n",
    "* Η εντολή `if` εκτελεί ένα μπλοκ εντολών αν η συνθήκη είναι αληθής αλλιώς προχωράει στο υπόλοιπο πρόγραμμα\n",
    "* Η εντολή `if ... else ...` εκτελεί το πρώτο μπλοκ εντολών αν η συνθήκη είναι αληθής αλλιώς εκτελεί το δεύτερο μπλοκ εντολών\n",
    "* Η εντολή `if ... elif ... else ...` εκτελεί κάποιο από τα μπλοκ εντολών ανάλογα με το ποια συνθηκη είναι αληθής. Αν καμία δεν είναι αληθής, εκτελεί το μπλοκ εντολών μετά το else."
   ]
  },
  {
   "cell_type": "markdown",
   "id": "cea02c7e-ec8e-446e-99f2-aab5a9afc5c8",
   "metadata": {
    "slideshow": {
     "slide_type": "subslide"
    },
    "tags": []
   },
   "source": [
    "<div style=\"background-color:#e6efe6\">\n",
    "<span style=\"font-weight: bold;\">Παράδειγμα</span>\n",
    "\n",
    "θέλουμε να βρούμε αν ένας αριθμός είναι θετικός.\n",
    "</div>"
   ]
  },
  {
   "cell_type": "code",
   "execution_count": null,
   "id": "6701d066-6a59-46f4-8d13-d141495530fd",
   "metadata": {
    "slideshow": {
     "slide_type": "fragment"
    },
    "tags": []
   },
   "outputs": [],
   "source": [
    "x = 15 \n",
    "if x > 0: print(\"Ο αριθμός\", x, \"είναι θετικός\")"
   ]
  },
  {
   "cell_type": "markdown",
   "id": "28fc9587",
   "metadata": {},
   "source": [
    "<div style=\"background-color:#e6efe6\">\n",
    "<span style=\"font-weight: bold;\">Παράδειγμα</span>\n",
    "\n",
    "θέλουμε να βρούμε αν ένας αριθμός είναι άρτιος ή περιττός.\n",
    "</div>"
   ]
  },
  {
   "cell_type": "code",
   "execution_count": null,
   "id": "6a95b022",
   "metadata": {},
   "outputs": [],
   "source": [
    "x = 15 \n",
    "if x % 2 == 0:\n",
    "    print(\"Ο\", x, \"είναι άρτιος\") \n",
    "else :\n",
    "    print(\"Ο\", x, \"είναι περιττός\")"
   ]
  },
  {
   "cell_type": "markdown",
   "id": "6d7846f3",
   "metadata": {},
   "source": [
    "Συντομότερα η παραπάνω δομή μπορεί να γραφεί στην επόμενη μορφή:"
   ]
  },
  {
   "cell_type": "code",
   "execution_count": null,
   "id": "d5f267e5",
   "metadata": {},
   "outputs": [],
   "source": [
    "x=15\n",
    "print(\"Ο\", x, \"είναι άρτιος\") if x % 2 == 0 else print(\"Ο\", x, \"είναι περιττός\")"
   ]
  },
  {
   "cell_type": "markdown",
   "id": "f359e6f8",
   "metadata": {},
   "source": [
    "<div style=\"background-color:#e6efe6\">\n",
    "<span style=\"font-weight: bold;\">Παράδειγμα</span>\n",
    "    \n",
    "Εύρεση μικρότερου ανάμεσα σε τρεις αριθμούς.\n",
    "</div>"
   ]
  },
  {
   "cell_type": "code",
   "execution_count": null,
   "id": "a0429a6c-7e62-42c5-a6be-312d160f3166",
   "metadata": {
    "slideshow": {
     "slide_type": "fragment"
    },
    "tags": []
   },
   "outputs": [],
   "source": [
    "x, y, z = 4, 11, 9 \n",
    "if x < y and x < z : \n",
    "    print(\"Ο αριθμός\", x, \"είναι o μικρότερος\") \n",
    "elif y < z : \n",
    "    print(\"Ο αριθμός\", y, \" είναι o μικρότερος\") \n",
    "else : \n",
    "    print(\"Ο αριθμός\", z, \" είναι o μικρότερος\")"
   ]
  },
  {
   "cell_type": "markdown",
   "id": "3945ead4-0903-4151-8753-f6bbf05b4df4",
   "metadata": {
    "tags": []
   },
   "source": [
    "# Στοίχιση (indentation)\n",
    "Όπως φαίνεται παραπάνω, η δομή `if` ορίζει ένα μπλοκ εντολών οι οποίες εκτελούνται υπό συνθήκη. Στο παράδειγμα:\n",
    "```Python\n",
    "if x > 0 :\n",
    "    εντολή 1\n",
    "    εντολή 2\n",
    "    εντολή 3\n",
    "εντολή 4\n",
    "```\n",
    "οι εντολές 1,2,3 στο παραπάνω παράδειγμα σχηματίζουν ένα μπλοκ, ενώ η εντολή 4 δεν ανήκει στο μπλοκ της `if`. Το μπλοκ ορίζεται μέσω της `στοίχισης` (indentation) των αντίστοιχων εντολών. Η στοίχιση ενός μπλοκ γίνεται με την εσοχή κατά έναν τουλάχιστον χαρακτήρα, ενώ συνιστάται η χρήση τεσσάρων χαρακτήρων. Είναι απαραίτητη η *συνέπεια* κατά τη στοίχιση ενός μπλοκ, δηλ. οι εντολές στο ίδιο μπλοκ πρέπει να βρίσκονται αυστηρά η μια κάτω από την άλλη."
   ]
  },
  {
   "cell_type": "code",
   "execution_count": null,
   "id": "a411a304-dfef-456b-b126-e4a0f9ab3a6e",
   "metadata": {
    "tags": []
   },
   "outputs": [],
   "source": [
    "print(0)\n",
    "if 1 > 0:\n",
    "  print(1)\n",
    "  print(3)\n",
    "  if 4 > 5:\n",
    "      print(6)\n",
    "      print(4)"
   ]
  },
  {
   "cell_type": "markdown",
   "id": "11c90057-75e4-4672-8179-a87406ba1986",
   "metadata": {},
   "source": [
    "# Η εντολή `pass`\n",
    "\n",
    "Η εντολή pass επιτρέπει τη δημιουργία ενός κενού μπλοκ εντολών. Έτσι, στο παράδειγμα:\n",
    "```Python\n",
    "if x > 0:\n",
    "    pass\n",
    "```\n",
    "το μπλοκ της `if` δεν περιέχει κάποια εκτελέσιμη εντολή. Η `pass` είναι χρήσιμη για τη δημιουργία ημιτελούς κώδικα ο οποίος μπορεί να συμπληρωθεί στο μέλλον. Αργότερα θα δούμε χρήσεις της  στο πλαίσιο του αντικειμενοστρεφούς προγραμματισμού. "
   ]
  },
  {
   "cell_type": "markdown",
   "id": "964ffb70-d093-41ac-b201-8cf2fb6b344a",
   "metadata": {
    "tags": []
   },
   "source": [
    "<div style=\"background-color:#e6efe6\">\n",
    "<span style=\"font-weight: bold;\">Παράδειγμα: Δίσεκτα έτη</span>\n",
    "\n",
    "Ένα (κλασικό) παράδειγμα για τη χρήση μιας δομής επιλογής είναι ο καθορισμός ενός έτους ως δίσεκτου ή όχι. Ένα έτος είναι δίσεκτο αν: \n",
    "\n",
    " * Διαιρείται με το 4 αλλά όχι με το 100 ή\n",
    " * Διαιρείται με το 400 αλλά όχι με το 4000\n",
    " \n",
    " Με βάση το παραπάνω, δίνεται ένα πρόγραμμα το οποίο υπολογίζει αν ένα δεδομένο έτος είναι δίσεκτο. Επιπλέον, το πρόγραμμα εξηγεί σε κάθε περιπτωση την απόφασή του, μετά από μια ανάλυση περιπτώσεων με εκτεταμενη χρήση της `if`:\n",
    "</div>"
   ]
  },
  {
   "cell_type": "code",
   "execution_count": null,
   "id": "ba5fcf5c-03b5-4b1c-8ca5-dfdec2d0a082",
   "metadata": {
    "tags": []
   },
   "outputs": [],
   "source": [
    "#year = int(input(\"Δώστε το έτος:\"))\n",
    "\n",
    "year = 800\n",
    "mod_4 = year % 4 == 0\n",
    "mod_100 = year % 100 == 0\n",
    "mod_400 = year % 400 == 0\n",
    "mod_4000 = year % 4000 == 0\n",
    "\n",
    "is_leap = mod_4 and not mod_100 or mod_400 and not mod_4000\n",
    "\n",
    "if (is_leap): # δίσεκτο\n",
    "    connective = \" \"\n",
    "    if  mod_400: \n",
    "        explanation = \"διαιρείται με το 400 αλλά όχι με το 4000.\"\n",
    "    else : \n",
    "        explanation = \"διαιρείται με το 4 αλλά όχι με το 100.\"\n",
    "else: ## Όχι δίσεκτο\n",
    "    connective = \" δεν \"\n",
    "    if not mod_4:\n",
    "        explanation = \"δεν διαιρείται με το 4.\"\n",
    "    elif not mod_400:\n",
    "        explanation = \"διαιρείται με το 100 αλλά όχι με το 400.\" \n",
    "    else:\n",
    "        explanation = \"διαιρείται με το 4000.\" \n",
    "        \n",
    "year_str = str(year)\n",
    "\n",
    "print(\"Το έτος \" + year_str + connective +  \"είναι δίσεκτο γιατί \" + explanation) \n"
   ]
  },
  {
   "cell_type": "markdown",
   "id": "c3d3a1e9-2c6c-4409-9d1d-8deb3da376c3",
   "metadata": {
    "slideshow": {
     "slide_type": "slide"
    },
    "tags": []
   },
   "source": [
    "# Δομές επανάληψης"
   ]
  },
  {
   "cell_type": "markdown",
   "id": "2fd1d691-6ca9-485e-a293-214b4fe1c036",
   "metadata": {
    "slideshow": {
     "slide_type": "subslide"
    },
    "tags": []
   },
   "source": [
    "Η Python παρέχει δυο τύπους δομών επανάληψης:\n",
    "* Η εντολή `for` εκτελεί μια ή περισσότερες εντολές επαναληπτικά. Το πλήθος των επαναλήψεων θα πρέπει να είναι γνωστό εκ των προτέρων και γι’ αυτό προτιμάται για την διαχείριση δεδομένων από συλλογές στοιχείων π.χ. λίστες, πλειάδες, σύνολα κ.λ.π."
   ]
  },
  {
   "cell_type": "markdown",
   "id": "3d5118e5-a850-46b8-ba66-c99784eeb7d6",
   "metadata": {
    "slideshow": {
     "slide_type": "fragment"
    },
    "tags": []
   },
   "source": [
    "* Η εντολή `while` εκτελεί μια ή περισσότερες εντολές επαναληπτικά ενόσω μια συνθήκη παραμένει True. Η while χρησιμοποιείται όταν δεν\n",
    "είναι γνωστό το πλήθος των επαναλήψεων ή όταν τα δεδομένα δεν είναι ενσωματωμενα σε κάποια δομή της γλώσσας."
   ]
  },
  {
   "cell_type": "markdown",
   "id": "00bc155a-2a31-4e3b-b288-ed5eba1b74ed",
   "metadata": {
    "slideshow": {
     "slide_type": "subslide"
    },
    "tags": []
   },
   "source": [
    "## Η δομή `while`\n",
    "Η γενική μορφή της `while`, είναι:\n",
    "```Python\n",
    "while συνθήκη :\n",
    "    Εντολή/ές\n",
    "```"
   ]
  },
  {
   "cell_type": "markdown",
   "id": "45af375e",
   "metadata": {},
   "source": [
    "<div style=\"background-color:#e6efe6\">\n",
    "<span style=\"font-weight: bold;\">Παράδειγμα</span>\n",
    "\n",
    "θέλουμε να εκτυπώσουμε το τετράγωνο των αριθμών από 1 έως Ν.\n",
    "</div>\n"
   ]
  },
  {
   "cell_type": "code",
   "execution_count": null,
   "id": "bb2dfcb9-a9e3-4535-a16d-112350020025",
   "metadata": {
    "slideshow": {
     "slide_type": "fragment"
    },
    "tags": []
   },
   "outputs": [],
   "source": [
    "i = 1\n",
    "#x = int(input('Δώσε έναν ακέραιο:'))\n",
    "x = 4\n",
    "while i <= x :\n",
    "    print (i,\" -> \", i ** 2)\n",
    "    i += 1"
   ]
  },
  {
   "cell_type": "markdown",
   "id": "77bce8bc-7608-4f76-b71a-77b8b1c23b79",
   "metadata": {},
   "source": [
    "<div style=\"background-color:#e6efe6\">\n",
    "<span style=\"font-weight: bold;\">Παράδειγμα</span>\n",
    "\n",
    " Ως ένα ποιο σύνθετο παράδειγμα, ο παρακάτω κώδικας υπολογίζει το άθροισμα \n",
    "\n",
    "$$\\sum_{i=0}^{N}{\\left(\\frac12\\right)^i}$$ \n",
    "</div>"
   ]
  },
  {
   "cell_type": "code",
   "execution_count": null,
   "id": "cacfcae1-37cd-43c0-8b62-af80caa8932f",
   "metadata": {
    "tags": []
   },
   "outputs": [],
   "source": [
    "N = 5\n",
    "sum = 0\n",
    "term = 1 # O κάθε όρος του αθροίσματος\n",
    "i = 0\n",
    "while  i <= N:\n",
    "    term *= .5 # Κάθε όρος υπολογίζεται με βάση τον προηγούμενο\n",
    "    sum += term\n",
    "    i += 1\n",
    "\n",
    "print(sum)"
   ]
  },
  {
   "cell_type": "markdown",
   "id": "a41ef520-c7c7-4635-bd4a-63c0284b5325",
   "metadata": {},
   "source": [
    "Σημειώστε ότι το παραπάνω άθροισμα υπολογίζεται ως εξής:\n",
    "\n",
    "$$\\sum_{i=0}^{N}t_n$$\n",
    "όπου $t_0 = 1$ και $t_i = 0.5 t_{i-1}$, για $i= 1,\\ldots, N$."
   ]
  },
  {
   "cell_type": "markdown",
   "id": "d104df34-70ba-4748-ad51-6d635cf514b6",
   "metadata": {
    "slideshow": {
     "slide_type": "subslide"
    },
    "tags": []
   },
   "source": [
    "\n",
    "## Η δομή `for`\n",
    "Η γενική μορφή της `for`, είναι:\n",
    "```Python\n",
    "for μεταβλητή in ακολουθία :\n",
    "    Εντολή/ές\n",
    "```"
   ]
  },
  {
   "cell_type": "markdown",
   "id": "c4b8a819",
   "metadata": {},
   "source": [
    "<div style=\"background-color:#e6efe6\">\n",
    "<span style=\"font-weight: bold;\">Παράδειγμα</span>\n",
    "\n",
    "θέλουμε να εκτυπώσουμε το τετράγωνο των αριθμών από 1 έως Ν.\n",
    "</div>"
   ]
  },
  {
   "cell_type": "code",
   "execution_count": null,
   "id": "6add2962-398e-4d92-ba0e-3c5a94611c56",
   "metadata": {
    "slideshow": {
     "slide_type": "fragment"
    },
    "tags": []
   },
   "outputs": [],
   "source": [
    "# Το σχήμα [1, 2, 3, 4, 5 ] αποτελεί την δομή λίστα που θα εξεταστεί σε επόμενη ενότητα\n",
    "for i in [1, 2, 3, 4, 5 ] : \n",
    "    print (i,\" -> \", i ** 2)"
   ]
  },
  {
   "cell_type": "markdown",
   "id": "8a8a53d4-6eee-4e96-8123-a10f5bdfe6e7",
   "metadata": {},
   "source": [
    "Η `for` απαριθμεί τα στοιχεία μιας *ακολουθίας*. Ένας τύπος ακολουθίας που έχουμε ήδη συναντήσει, είναι οι συμβολοσειρές. Το ακόλουθο παράδειγμα τυπώνει κάθε χαρακτήρα μιας συμβολοσειράς καθώς και τον κωδικό Unicode που αντιστοιχεί στον χαρακτήρα μέσω της συνάρτησης `ord`."
   ]
  },
  {
   "cell_type": "code",
   "execution_count": null,
   "id": "b43706c6-5872-4938-a932-c364191a4e9c",
   "metadata": {
    "tags": []
   },
   "outputs": [],
   "source": [
    "for ch in \"κείμενο\":\n",
    "    print(ch, ord(ch))"
   ]
  },
  {
   "cell_type": "markdown",
   "id": "77ae0cf4",
   "metadata": {},
   "source": [
    "<div style=\"background-color:#e6efe6\">\n",
    "<span style=\"font-weight: bold;\">Παράδειγμα</span>\n",
    "\n",
    "θέλουμε να εφαρμόσουμε το κρυπτογράφημα του Καίσαρα. Η βασική του ιδέα είναι η μετατόπιση κάθε γράμματος ενός κειμένου κατά έναν σταθερό αριθμό θέσεων στο αλφάβητο.\n",
    "</div>"
   ]
  },
  {
   "cell_type": "code",
   "execution_count": null,
   "id": "a1d8c7c2",
   "metadata": {},
   "outputs": [],
   "source": [
    "plaintext = 'hello world'\n",
    "encrypted = ''\n",
    "shift = 2\n",
    "for c in plaintext:\n",
    "    if c.islower():\n",
    "        encrypted += chr((ord(c) + shift - ord('a')) % 26 + ord('a'))\n",
    "    else:\n",
    "        encrypted +=c\n",
    "print(encrypted)\n",
    "decrypted = ''\n",
    "for c in encrypted:\n",
    "    if c.islower():\n",
    "        decrypted += chr((ord(c) - shift - ord('a')) % 26 + ord('a'))\n",
    "    else:\n",
    "        decrypted +=c\n",
    "print(decrypted)"
   ]
  },
  {
   "cell_type": "markdown",
   "id": "aea4dcc8-8b45-4635-a1cf-83f19ce21483",
   "metadata": {
    "slideshow": {
     "slide_type": "subslide"
    },
    "tags": []
   },
   "source": [
    "# Η συνάρτηση και ο τύπος `range`"
   ]
  },
  {
   "cell_type": "markdown",
   "id": "248bdf52",
   "metadata": {},
   "source": [
    "Η `range()` είναι μια ενσωματωμένη συνάρτηση της Python, που χρησιμοποιείται για την παραγωγή ακολουθίας τιμών. Η εντολή\n",
    "```Python\n",
    "`range(N)\n",
    "```\n",
    "δημιουργεί μια ακολουθία N αριθμών από το $0$ μέχρι το $N - 1$.\n",
    "\n",
    "Η γενική μορφή της `range` είναι:\n",
    "```Python\n",
    "range(αρχή, όριο, βήμα)\n",
    "```\n",
    "\n",
    "όπου το `όριο` είναι η *επόμενη* τιμή του τελευταίου στοιχείου της ακολουθίας ενώ η παράμετρος `βήμα` είναι προαιρετική. "
   ]
  },
  {
   "cell_type": "markdown",
   "id": "f7df6e3f",
   "metadata": {},
   "source": [
    "Στο παράδειγμα που ακολουθεί χρησιμοποιείται ο τελεστής `*` για να *αποσυμπιέσει* τα δεδομένα και να τα επιστρέψει σε μεμονωμένα αντικείμενα. Θα αναλυθεί σε επόμενη ενότητα."
   ]
  },
  {
   "cell_type": "code",
   "execution_count": null,
   "id": "fe5303bd-1fcd-44a5-a8b7-136b75bbe0f6",
   "metadata": {
    "slideshow": {
     "slide_type": "fragment"
    },
    "tags": []
   },
   "outputs": [],
   "source": [
    "print(*range(10))"
   ]
  },
  {
   "cell_type": "markdown",
   "id": "68706363-59c4-4bb6-8451-f163779403a8",
   "metadata": {
    "slideshow": {
     "slide_type": "fragment"
    },
    "tags": []
   },
   "source": [
    "<div style=\"background-color:#e6efe6\">\n",
    "<span style=\"font-weight: bold;\">Παράδειγμα</span>\n",
    "\n",
    "Εκτύπωσης των τετραγώνων των αριθμών από 1 έως Ν.\n",
    "</div>"
   ]
  },
  {
   "cell_type": "code",
   "execution_count": null,
   "id": "b07768cc-0fec-4813-bdc3-4af1333ef839",
   "metadata": {
    "slideshow": {
     "slide_type": "fragment"
    },
    "tags": []
   },
   "outputs": [],
   "source": [
    "for i in range(1,6):\n",
    "    print (i,\" -> \",  i ** 2)"
   ]
  },
  {
   "cell_type": "markdown",
   "id": "8bcd9bf0-8945-4884-8fd1-fc3280322820",
   "metadata": {
    "slideshow": {
     "slide_type": "subslide"
    },
    "tags": []
   },
   "source": [
    "<div style=\"background-color:#e6efe6\">\n",
    "<span style=\"font-weight: bold;\">Παράδειγμα</span>\n",
    "\n",
    "Να γράψετε πρόγραμμα που θα δέχεται έναν αριθμο n και θα υπολογίζει το παραγοντικό $n!$. Ισχύει ότι:\n",
    "    \n",
    "<p style=\"text-align: center;\">n! = 1 · 2 · 3 · . . . · (n − 1) · n</p>\n",
    "</div>"
   ]
  },
  {
   "cell_type": "code",
   "execution_count": null,
   "id": "5422efc8-525e-455e-98fd-208b47c23378",
   "metadata": {
    "slideshow": {
     "slide_type": "fragment"
    },
    "tags": []
   },
   "outputs": [],
   "source": [
    "#n = int(input('Δώσε έναν ακέραιο:'))\n",
    "n = 5\n",
    "p = 1\n",
    "for i in range(1, n) :\n",
    "    p *= i\n",
    "p *= n\n",
    "print('n!=', p)"
   ]
  },
  {
   "cell_type": "markdown",
   "id": "eb9b7ee4-58d6-42da-b8bb-d1423a1ee22a",
   "metadata": {
    "slideshow": {
     "slide_type": "subslide"
    },
    "tags": []
   },
   "source": [
    "<div style=\"background-color:#e6efe6\">\n",
    "<span style=\"font-weight: bold;\">Παράδειγμα</span>\n",
    "    \n",
    "Να γράψετε πρόγραμμα που θα υπολογίζει το άθροισμα:\n",
    "\n",
    "$$\\sum_{i=0}^{10} 2^i$$\n",
    "</div>"
   ]
  },
  {
   "cell_type": "code",
   "execution_count": null,
   "id": "9272d3da-00c2-4b18-b42b-1767aed746b4",
   "metadata": {
    "slideshow": {
     "slide_type": "fragment"
    },
    "tags": []
   },
   "outputs": [],
   "source": [
    "sum = 0\n",
    "term = 1\n",
    "for i in range(11) :\n",
    "    sum += term  # Ισοδύναμη με την sum = sum + term;\n",
    "    term *= 2    # Ισοδύναμη με την term = term * 2;\n",
    "print('Άθροισμα = ',sum)"
   ]
  },
  {
   "cell_type": "markdown",
   "id": "277fa7c2-2577-4385-8bc5-1193bbb8172f",
   "metadata": {},
   "source": [
    "## Οι εντολές `break` και `continue`"
   ]
  },
  {
   "cell_type": "markdown",
   "id": "e727f0ee-1b8a-4e35-a051-281a4bd8a53d",
   "metadata": {},
   "source": [
    "Η χρήση των for και while επιτρέπουν την αυτοματοποίηση επαναλαμβανόμενων ενεργειών. Πολλές φορές, όμως, κάποιες συνθήκες μπορεί να απαιτούν είτε τον άμεσο τερματισμό της επανάληψης είτε την παράλειψη μίας επανάληψης. Οι εντολές που επιτρέπουν την λειτουργία αυτή: \n",
    " * Η εντολή `break`  τερματίζει την επανάληψη στην οποία βρίσκεται. Η ροή του προγράμματος θα περάσει στην επόμενη εντολή ακριβώς μετά την επανάληψη.\n",
    "  * Η εντολή `continue` τερματίζει την επανάληψη στην οποία βρίσκεται. Η ροή του προγράμματος θα περάσει πίσω στον έλεγχο της δομής επανάληψης χωρίς να εκτελεστούν οι εντολές που ακολουθούν την continue στην τρέχουσα επανάληψη.\n",
    "\n",
    "Οι εντολές `break`, `continue` επιτρέπονται μόνο μέσα σε δομές επανάληψης. Σε διαφορετική περίπτωση υπάρχει `SyntaxError`."
   ]
  },
  {
   "cell_type": "markdown",
   "id": "049f6413",
   "metadata": {},
   "source": [
    "Στα επόμενα παραδείγματα επαναλήψεων, όταν το i γίνει 3, στην πρώτη περίπτωση, με την break τερματίζει εντελώς ο βρόχος ενώ στην δεύτερη με την continue απλά δεν εμφανίζεται η περίπτωση 3  ->  9 με τις επαναλήψεις να συνεχίζουν.  "
   ]
  },
  {
   "cell_type": "code",
   "execution_count": null,
   "id": "a92787d2",
   "metadata": {},
   "outputs": [],
   "source": [
    "for i in range(1,6):\n",
    "    if i==3:\n",
    "        break\n",
    "    print (i,\" -> \",  i ** 2)\n",
    "for i in range(1,6):\n",
    "    if i==3:\n",
    "        continue\n",
    "    print (i,\" -> \",  i ** 2)"
   ]
  },
  {
   "cell_type": "markdown",
   "id": "2883c22f",
   "metadata": {},
   "source": [
    "<div style=\"background-color:#e6efe6\">\n",
    "<span style=\"font-weight: bold;\">Παράδειγμα</span>\n",
    "\n",
    "Να γραφεί πρόγραμμα το οποίο θα δέχεται φυσικό μεγαλύτερο του 1 αριθμό και θα βρίσκει και θα εμφανίζει όλους τους πρώτους αριθμούς από το 1 έως τον αριθμό αυτό. Πρώτος είναι ο αριθμός του οποίου μοναδικοί διαιρέτες είναι η μονάδα και ο εαυτός του. \n",
    "</div>"
   ]
  },
  {
   "cell_type": "code",
   "execution_count": null,
   "id": "f8bb9e98",
   "metadata": {},
   "outputs": [],
   "source": [
    "#n = int(input('Δώσε φυσικό μεγαλύτερο του 1 αριθμό:'))\n",
    "n = 23\n",
    "print('Πρώτοι αριθμοί μέχρι και',n,':', end=' ')\n",
    "for p in range(2, n + 1):\n",
    "    prime = True # μέχρι να βρεθεί διαιρέτης, ο αριθμός θεωρείται πρώτος\n",
    "    d = 2\n",
    "    while d ** 2 <= p :# εξετάζονται πιθανοί διαιρέτες μέχρι την τετραγωνική ρίζα του αριθμού.\n",
    "   #for d in range(2, limit):\n",
    "        if p % d == 0: \n",
    "            prime = False # βρέθηκε έστω ένας διαιρέτης, ο αριθμός δεν είναι πρώτος\n",
    "        d += 1\n",
    "    if prime:\n",
    "        print(p,' ' , end='')"
   ]
  },
  {
   "cell_type": "markdown",
   "id": "47d58c99",
   "metadata": {},
   "source": [
    "Ο παραπάνω αλγόριθμος παρόλο που για παράδειγμα για τον αριθμό 48 έχει βρει διαιρέτη για `d = 2` συνεχίζει να ψάχνει. Μπορούμε να διακόψουμε την διαδικασία με μία εντολή `break` στον πρώτο διαιρέτη που θα βρούμε. "
   ]
  },
  {
   "cell_type": "code",
   "execution_count": null,
   "id": "71d0ec56",
   "metadata": {},
   "outputs": [],
   "source": [
    "#n = int(input('Δώσε φυσικό μεγαλύτερο του 1 αριθμό:'))\n",
    "n = 23\n",
    "print('Πρώτοι αριθμοί μέχρι και',n,':', end='')\n",
    "for p in range(2,n + 1):\n",
    "    prime = True # μέχρι να βρεθεί διαιρέτης, ο αριθμός θεωρείται πρώτος\n",
    "    d = 2\n",
    "    while d ** 2 <= p: # εξετάζονται πιθανοί διαιρέτες μέχρι την τετραγωνική ρίζα του αριθμού.\n",
    "        if p % d == 0: \n",
    "            prime = False # βρέθηκε έστω ένας διαιρέτης, ο αριθμός δεν είναι πρώτος\n",
    "            break   # βρέθηκε διαιρέτης, η διαδικασία σταματά\n",
    "        d += 1\n",
    "    if prime:\n",
    "        print(p,' ' , end='')"
   ]
  },
  {
   "cell_type": "markdown",
   "id": "79ce8956",
   "metadata": {},
   "source": [
    "Μία απλοποίηση που μπορεί να εφαρμοστεί στον παραπάνω αλγόριθμο είναι η μη μελέτη των αρτίων αριθμών εφόσον αποκλείεται να είναι πρώτοι. Αυτό μπορεί να επιτευχθεί με την προσθήκη μίας εντολής continue. Επειδή όμως και ο 2, που είναι πρώτος, διαιρείται και αυτός με τον εαυτό του, μπορούμε να τον εμφανίσουμε πριν την διαδικασία."
   ]
  },
  {
   "cell_type": "code",
   "execution_count": null,
   "id": "f58dd9c3",
   "metadata": {},
   "outputs": [],
   "source": [
    "#n = int(input('Δώσε φυσικό μεγαλύτερο του 1 αριθμό:'))\n",
    "n = 23\n",
    "print('Πρώτοι αριθμοί μέχρι και',n,':2  ', end='')\n",
    "for p in range(2,n + 1):\n",
    "    if p % 2==0:\n",
    "        continue\n",
    "    prime = True # μέχρι να βρεθεί διαιρέτης, ο αριθμός θεωρείται πρώτος\n",
    "    d = 2\n",
    "    while d ** 2 <= p: # εξετάζονται πιθανοί διαιρέτες μέχρι την τετραγωνική ρίζα του αριθμού.\n",
    "        if p % d == 0: \n",
    "            prime = False # βρέθηκε έστω ένας διαιρέτης, ο αριθμός δεν είναι πρώτος\n",
    "            break   # βρέθηκε διαιρέτης, η διαδικασία σταματά\n",
    "        d += 1\n",
    "    if prime:\n",
    "        print(p,' ' , end='')"
   ]
  },
  {
   "cell_type": "markdown",
   "id": "b566dc43",
   "metadata": {},
   "source": [
    "<div style=\"background-color:#e6efe6\">\n",
    "<span style=\"font-weight: bold;\">Παράδειγμα</span>\n",
    "Ο τύπος του Euler για την εύρεση του π είναι:\n",
    "$$ \\sum_{n=1}^{\\infty} \\frac{1}{n^2} = \\frac{\\pi^2}{6} $$\n",
    "  Να γραφεί πρόγραμμα που υπολογίζει το $π$ σύμφωνα με τον παραπάνω τύπο. Η διαδικασία να τερματίζει όταν ο όρος  $\\frac{1}{n^2}$ γίνει μικρότερος από 0.0001. Μπορούν να δοκιμαστούν καλύτερες προσεγγίσεις με μικρότερες τιμές του όρου.\n",
    "    </div>"
   ]
  },
  {
   "cell_type": "code",
   "execution_count": null,
   "id": "0dc47608",
   "metadata": {},
   "outputs": [],
   "source": [
    "import math # Εισάγεται η μαθηματική βιβλιοθήκη, περισσότερα σε επόμενη ενότητα\n",
    "\n",
    "s = 0\n",
    "n = 1\n",
    "while True:\n",
    "    term = 1/n**2 # ο όρος που κάθε φορά προσθέτουμε στο άθροισμα\n",
    "    if term < 0.0001: # όταν ο όρος γίνει πολύ μικρός, η επανάληψη τερματίζει\n",
    "        break\n",
    "    s += term\n",
    "    n+=1\n",
    "print ('Euler pi:', math.sqrt(6 * s),' Επαναλήψεις:',n)"
   ]
  },
  {
   "cell_type": "markdown",
   "id": "5752e33b",
   "metadata": {},
   "source": [
    "## for/while .. else"
   ]
  },
  {
   "cell_type": "markdown",
   "id": "64cab00d",
   "metadata": {},
   "source": [
    "Το μπλοκ else σε έναν βρόχο for (ή while) εκτελείται όταν ο βρόχος ολοκληρωθεί κανονικά, δηλαδή χωρίς να έχει ενεργοποιηθεί κάποια εντολή break"
   ]
  },
  {
   "cell_type": "markdown",
   "id": "5648aab9",
   "metadata": {},
   "source": [
    "<div style=\"background-color:#e6efe6\">\n",
    "<span style=\"font-weight: bold;\">Παράδειγμα</span>\n",
    "\n",
    "  Στο επόμενο παράδειγμα θα βρούμε αν ένας αριθμός n είναι πρώτος ή όχι. Στην περίπτωση που βρεθεί διαιρέτης του αριθμού, εκτελείται η break και άρα όχι η else. Αντίθετα, αν δεν βρεθεί κανένας διαιρέτης δεν εκτελείται η break, άρα θα εκτελεστεί η else εμφανίζοντας το κατάλληλο μήνυμα.\n",
    "</span>"
   ]
  },
  {
   "cell_type": "code",
   "execution_count": null,
   "id": "8bf9e5cc",
   "metadata": {},
   "outputs": [],
   "source": [
    "import math\n",
    "n = 9\n",
    "for i in range(2, int(math.sqrt(n))+ 1):\n",
    "    if n % i == 0:\n",
    "        print('Ο',n, 'διαιρείται από τον', str(i)+'. Δεν είναι πρώτος.')\n",
    "        break\n",
    "else:\n",
    "    # Θα εκτλεστεί αν δεν υπάρξει break\n",
    "    print('Ο',n,'είναι πρώτος.')\n",
    "        "
   ]
  },
  {
   "cell_type": "markdown",
   "id": "52efdeba-e962-4e28-a1de-0a020bd8f25d",
   "metadata": {
    "slideshow": {
     "slide_type": "slide"
    },
    "tags": []
   },
   "source": [
    "# Συναρτήσεις "
   ]
  },
  {
   "cell_type": "markdown",
   "id": "9062c89b-6160-4b41-a947-740017688555",
   "metadata": {
    "slideshow": {
     "slide_type": "slide"
    },
    "tags": []
   },
   "source": [
    "Ένα βασικό κομμάτι μιας γλώσσας προγραμματισμού υψηλού επιπέδου με διαδικαστικό χαρακτήρα είναι οι συναρτήσεις\n",
    "\n",
    "Οι συναρτήσεις είναι ένα κομμάτι προγράμματος, με ομαδοποιημένες εντολές που τους έχει δοθεί ένα όνομα και μπορούν να χρησιμοποιηθούν όσες φορές χρειαστεί."
   ]
  },
  {
   "cell_type": "markdown",
   "id": "9aeb04eb-bb95-4920-8d6a-7f06fadca6f1",
   "metadata": {},
   "source": [
    "Μια συναρτήση, ενσωματωμένη ή οριζόμενη από τον χρήστη, είναι ένα αντικείμενο πρώτης κλάσης. Έτσι μια συνάρτηση μπορεί:\n",
    "* να εκχωρηθεί σε μια μεταβλητή\n",
    "* να ενσωματωθεί σε βασικές δομές της Python, όπως να είναι στοιχεία μιας λίστας \n",
    "* να δοθεί ως παράμετρος σε μια άλλη συνάρτηση"
   ]
  },
  {
   "cell_type": "markdown",
   "id": "b961d40e-d974-43ae-b20d-662c595a0240",
   "metadata": {},
   "source": [
    "Υπάρχουν και ειδικές κατηγορίες συναρτήσεων με βάση τα χαρακτηριστικά τους όπως οι ανώνυμες συναρτήσεις (συναρτήσεις lambda) ή οι γεννήτριες συναρτήσεις."
   ]
  },
  {
   "cell_type": "markdown",
   "id": "06a6c9e0-00f7-4936-8f9a-3e6e8c386747",
   "metadata": {},
   "source": [
    "Έχετε ήδη χρησιμοποιήσει κάποιες από τις ενσωματωμένες συναρτήσεις τις Python π.χ. int, float, print, input ... και μερικές από τα αρθρώματα (modules) που εισάγατε σε ένα project, π.χ. random.randrange(), math.pi"
   ]
  },
  {
   "cell_type": "markdown",
   "id": "80820d8e",
   "metadata": {},
   "source": [
    "## Ορισμός"
   ]
  },
  {
   "cell_type": "markdown",
   "id": "2fab9e63-0198-4ea5-be51-2ff1e3427a4b",
   "metadata": {},
   "source": [
    "```python\n",
    "def func_name ( παράμετροι ) :\n",
    "    εντολή 1\n",
    "    εντολή 2\n",
    "    ........\n",
    "    return τιμή         # Προαιρετική\n",
    "```\n",
    "Το όνομα της συνάρτησης μαζί με την λίστα παραμέτρων της αποτελεί την υπογραφή της. Οι εντολές της που εκτελούνται όταν αυτή καλείται αποτελούν το σώμα της."
   ]
  },
  {
   "cell_type": "code",
   "execution_count": null,
   "id": "41518f65-aeb0-4e9c-b60d-86680a2af4fa",
   "metadata": {},
   "outputs": [],
   "source": [
    "# Συνάρτηση χωρίς παραμέτρους\n",
    "def greet():\n",
    "    print(\"Hello\")"
   ]
  },
  {
   "cell_type": "markdown",
   "id": "90367405",
   "metadata": {},
   "source": [
    "## Κλήση"
   ]
  },
  {
   "cell_type": "markdown",
   "id": "297ea375",
   "metadata": {},
   "source": [
    "Προηγήθηκε ο ορισμός της συνάρτησης κατά τον οποίο οι εντολές που αυτή περιέχει, εδώ μία συνάρτηση print δεν εκτελέστηκε. Για να την εκτελέσουμε θα πρέπει να την καλέσουμε, κάτι που μπορεί να γίνει όσες φορές επιθυμούμε με τον τρόπο που ακολουθεί."
   ]
  },
  {
   "cell_type": "code",
   "execution_count": null,
   "id": "205e2870",
   "metadata": {},
   "outputs": [],
   "source": [
    "greet()"
   ]
  },
  {
   "cell_type": "markdown",
   "id": "37d2ee90",
   "metadata": {},
   "source": [
    "## Παράμετροι"
   ]
  },
  {
   "cell_type": "markdown",
   "id": "bd52a685",
   "metadata": {},
   "source": [
    "Κάθε συνάρτηση μπορεί να δεχτεί, προεραιτικά, μία λίστα παραμέτρων. Ουσιαστικά αποτελεί μεταβλητή της συνάρτησης η οποία και λαμβάνει τιμή κατά την κλήση της. "
   ]
  },
  {
   "cell_type": "code",
   "execution_count": null,
   "id": "a8ad8d71",
   "metadata": {},
   "outputs": [],
   "source": [
    "def greet(name):\n",
    "    print ('Hello',name)\n",
    "greet('world')\n",
    "greet('Andronikos')"
   ]
  },
  {
   "cell_type": "code",
   "execution_count": null,
   "id": "cc5ea1a1",
   "metadata": {},
   "outputs": [],
   "source": [
    "def greet(name,origin):\n",
    "    print ('Hello',name,'from',origin)\n",
    "greet('Andronikos','Karlovasi')"
   ]
  },
  {
   "cell_type": "markdown",
   "id": "56f55bb1-2330-4f1c-b449-fb93a8b62825",
   "metadata": {},
   "source": [
    "## Επιστρεφόμενες τιμές "
   ]
  },
  {
   "cell_type": "markdown",
   "id": "00ee1cb5",
   "metadata": {},
   "source": [
    "Μια συνάρτηση είναι δυνατόν να υπολογίζει και να επιστρέφει μια τιμή μέσω της εντολής `return`."
   ]
  },
  {
   "cell_type": "code",
   "execution_count": null,
   "id": "f40289df",
   "metadata": {},
   "outputs": [],
   "source": [
    "def add(a,b):\n",
    "    return a+b\n",
    "add(4,3)"
   ]
  },
  {
   "cell_type": "markdown",
   "id": "6c1b47fa",
   "metadata": {},
   "source": [
    "Όταν η`return` δέχεται ως όρισμα μια ακολουθία τιμών, τότε η συνάρτηση είναι δυνατόν να επιστρέψει περισσότερες από μια τιμές ως στοιχεία μιας *πλειάδας*, tuple. Λεπτομέρειες για τις πλειάδες θα συζητηθούν σε επόμενη ενότητα. "
   ]
  },
  {
   "cell_type": "code",
   "execution_count": null,
   "id": "bd67e44d-4430-41fe-a7a2-804ee08af6d8",
   "metadata": {},
   "outputs": [],
   "source": [
    "def multi(a, b):\n",
    "    return a + 1, 2 * b \n",
    "\n",
    "x,y = multi(3,5)\n",
    "print(x)\n",
    "print(type(multi(2,3)))"
   ]
  },
  {
   "cell_type": "markdown",
   "id": "27c722de",
   "metadata": {},
   "source": [
    "<div style=\"background-color:#e6efe6\">\n",
    "<span style=\"font-weight: bold;\">Παράδειγμα</span>\n",
    "    \n",
    "Υλοποιείται συνάρτηση η οποία δέχεται ακτίνα ενός κύκλου και υπολογίζει και επιστρέφει το εμβαδόν του.\n",
    "</div>"
   ]
  },
  {
   "cell_type": "code",
   "execution_count": null,
   "id": "a7487af3-df1f-48ce-a771-dc5e5b203805",
   "metadata": {},
   "outputs": [],
   "source": [
    "#    Εισαγω΄γη της βιβλιοθήκης math για την τιμή του π\n",
    "import math\n",
    "#    Συνάρτηση με μια παράμέτρο και επιστρεφόμενη τιμή\n",
    "def getCircleArea(radius):\n",
    "    area = math.pi * radius**2\n",
    "    return area\n",
    "circleArea = getCircleArea(2)\n",
    "print(\"Το εμβαδόν του κύκλου είναι:\", circleArea)"
   ]
  },
  {
   "cell_type": "markdown",
   "id": "2d94b397",
   "metadata": {},
   "source": [
    "<div style=\"background-color:#e6efe6\">\n",
    "<span style=\"font-weight: bold;\">Παράδειγμα</span>\n",
    "\n",
    "Υλοποιείται συνάρτηση η οποία δέχεται βάση και ύψος ενός τριγώνου και υπολογίζει και επιστρέφει το εμβαδόν του.\n",
    "</div>"
   ]
  },
  {
   "cell_type": "code",
   "execution_count": null,
   "id": "ceb30c57-bea6-4332-a65c-e8cc4db7cf37",
   "metadata": {},
   "outputs": [],
   "source": [
    "#    Συνάρτηση με περισσότερες από μια παραμέτρους\n",
    "def getTriangleArea(height, base):\n",
    "    area = 1/2 * base * height\n",
    "    return area\n",
    "\n",
    "print(\"Το εμβαδόν του τριγώνου είναι:\", getTriangleArea(2, 5))"
   ]
  },
  {
   "cell_type": "markdown",
   "id": "210e1858",
   "metadata": {},
   "source": [
    "<div style=\"background-color:#e6efe6\">\n",
    "<span style=\"font-weight: bold;\">Παράδειγμα</span>\n",
    "\n",
    "Υλοποιείται συνάρτηση η οποία δέχεται 3 τιμές θα υπολογίζει τον μέγιστο και θα τον επιστρέφει.\n",
    "</div>"
   ]
  },
  {
   "cell_type": "code",
   "execution_count": null,
   "id": "0cf12ca3-f806-466b-8b4d-7a225f502fa4",
   "metadata": {},
   "outputs": [],
   "source": [
    "def maximum (value1, value2, value3) :\n",
    "    \"\"\" Συνάρτηση για τον υπολογισμό του μέγιστου τριών τιμών. \"\"\"\n",
    "    max_value = value1\n",
    "    if value2 > max_value :\n",
    "        max_value = value2\n",
    "    if  value3 > max_value :\n",
    "        max_value = value3\n",
    "    return max_value\n",
    "\n",
    "print(\"Δώσε 3 πραγματικές τιμές\")\n",
    "x = float(input(\"Δώσε πρώτη τιμή:\"))\n",
    "y = float(input(\"Δώσε δεύτερη τιμή:\"))\n",
    "z = float(input(\"Δώσε τρίτη τιμή:\"))\n",
    "\n",
    "print(\"\\nΜέγιστο: \", maximum (x, y, z))\n",
    "\n",
    "maximum"
   ]
  },
  {
   "cell_type": "markdown",
   "id": "941dbccf-372a-4208-b0e3-cac2940d753d",
   "metadata": {},
   "source": [
    "## Πέρασμα παραμέτρων\n",
    "Όταν περνάμε μια παράμετρο σε μια συνάρτηση στην Python, η τιμή της παραμέτρου αποτελεί δεδομένο εισόδου για τη  συνάρτηση. Αν το δεδομένο εισόδου είναι συμβολικό όνομα (μεταβλητή), τότε τα δεδομένα στα οποία αναφέρεται η μεταβλητή είναι δυνατόν να αλλάξουν μόνο αν ο τύπος τους είναι τύπος μεταβλητού (mutable) αντικειμένου (π.χ. λίστα, σύνολο ή λεξικό). \n",
    "Προσοσχή! Αν χρησιμοποιήσουμε μία εντολή ανάθεσης, π.χ. a_list = a_list + [4]. Η λίστα πλέον 'δείχνει' σε άλλο σημείο της μνήμης και οι αλλαγές δεν επιστρέφουν στην καλούσα συνάρτηση."
   ]
  },
  {
   "cell_type": "code",
   "execution_count": null,
   "id": "5692a7af-5864-4b94-9fde-231eb53821b2",
   "metadata": {},
   "outputs": [],
   "source": [
    "def a_function(a_list):\n",
    "    a_list += [4]\n",
    "\n",
    "my_list = [1,2,3]\n",
    "\n",
    "a_function(my_list) # Η κλήση της συνάρτησης μεταβάλλει τα δεδομένα της παρμέτρου\n",
    "print(my_list)\n"
   ]
  },
  {
   "cell_type": "markdown",
   "id": "fdf3e331-cf5d-43b0-b7ac-f9b5f692a11e",
   "metadata": {},
   "source": [
    "Σε περίπτωση που η παράμετρος είναι τύπος αμετάβλητου αντικειμένου (π.χ. αριθμός, πλειάδα ή συμβολοσειρά), τα αντίστοιχα δεδομένα δεν μεταβάλλονται:"
   ]
  },
  {
   "cell_type": "code",
   "execution_count": null,
   "id": "0d02af16-d6eb-4646-afdc-ef07d7be1e27",
   "metadata": {},
   "outputs": [],
   "source": [
    "def another_function(a_string):\n",
    "    a_string += \"d\"\n",
    " \n",
    "my_string = \"abc\"\n",
    "\n",
    "another_function(my_string) # Η κλήση της συνάρτησης δεν μεταβάλει τα δεδομένα της παραμέτρου\n",
    "print(my_string)"
   ]
  },
  {
   "cell_type": "code",
   "execution_count": null,
   "id": "af6c49f8-8010-4df9-a93a-fa5b742d126c",
   "metadata": {},
   "outputs": [],
   "source": [
    "x = (1,2,3) # Διαφορά με λίστες\n",
    "def doit(y):\n",
    "    y += (2,)\n",
    "    print(y)\n",
    "z = (2,2)\n",
    "doit(x)\n",
    "print(x)"
   ]
  },
  {
   "cell_type": "markdown",
   "id": "e3ed3641-18ec-4578-9eb9-803316692e54",
   "metadata": {},
   "source": [
    "Αν επιθυμούμε την ανάγνωση μιας παραμέτρου και την αλλαγή της τιμής της, ένας συνηθισμένος τρόπος είναι η επιστροφή της αντίτοιχης τιμής από τη συνάρτηση, όπως στο παράδειγμα το οποίο εναλλάσσει τις τιμές των συμβόλων `O` και `X` στο παιχνίδι της τρίλιζας:"
   ]
  },
  {
   "cell_type": "code",
   "execution_count": null,
   "id": "91e071a0-cc8e-4bcb-bd21-4017306c9569",
   "metadata": {},
   "outputs": [],
   "source": [
    "def next_symbol(symbol):\n",
    "    if symbol == 'O' :\n",
    "        next_symbol = 'X'\n",
    "    else: \n",
    "        next_symbol = 'O'\n",
    "    return next_symbol"
   ]
  },
  {
   "cell_type": "markdown",
   "id": "6cbd3482-55a8-400e-b1c4-58a18ec62811",
   "metadata": {},
   "source": [
    "Όταν μία συνάρτηση δεν επιστρέφει κάποια τιμή μέσω της `return`, η τιμή της είναι απροσδιόριστη και επιστρέφει την ειδική τιμή `None`:"
   ]
  },
  {
   "cell_type": "code",
   "execution_count": null,
   "id": "757cb137-fab4-4946-9863-4f0fe7531847",
   "metadata": {},
   "outputs": [],
   "source": [
    "def no_return(list):\n",
    "    list +=  [0]\n",
    "    # Χωρίς return\n",
    "\n",
    "print(no_return([2,3]))"
   ]
  },
  {
   "cell_type": "code",
   "execution_count": null,
   "id": "1d975f50-65e3-4659-ade1-f77202c12201",
   "metadata": {},
   "outputs": [],
   "source": [
    "def not_always_return(x):\n",
    "    if x > 0:\n",
    "        return \"Positive\"\n",
    "    # Χωρίς return, αν x μη θετικό\n",
    "print(not_always_return(-1))"
   ]
  },
  {
   "cell_type": "markdown",
   "id": "f433e551",
   "metadata": {},
   "source": [
    "## Εμβέλεια μεταβλητών"
   ]
  },
  {
   "cell_type": "markdown",
   "id": "fe7ac141",
   "metadata": {},
   "source": [
    "Ένας κανόνας για την εμβέλεια των τοπικών μεταβλητών είναι ο παρακάτω. Έστω ότι μια μεταβλητή δηλώνεται έξω και πριν από μια συνάρτηση. Τότε\n",
    "1. Αν η τιμή της μεταβλητής *διαβάζεται* από τη συνάρτηση, χωρίς να τροποποιείται, είναι καθολική\n",
    "2. Αν η τιμή της *μεταβάλλεται* από τη συνάρτηση, είναι τοπική στη συνάρτηση.\n",
    "3. Αν θέλουμε μια μεταβλητή να τροποποιείται από τη συνάρτηση, τότε πρέπει να τη δηλώσουμε ως `glοbal`."
   ]
  },
  {
   "cell_type": "code",
   "execution_count": null,
   "id": "45bb450a-e3e7-4c08-a0f5-70a8713e7d23",
   "metadata": {},
   "outputs": [],
   "source": [
    "# Περίπτωση 1: Η r είναι καθολική μεταβλητή \n",
    "\n",
    "r = 5\n",
    "def func():\n",
    "    print(f'Το εμβαδόν κύκλου με ακτίνα: {r}', end=' ')\n",
    "    print(f'είναι {math.pi*r**2}')                  # Παρατηρούμε ότι το στοιχείο math.pi είναι ακόμη διαθέσιμο καθώς η βιβλιοθήκη/άρθρωμα math \n",
    "                                                    # έχει φορτωθεί ήδη σε προηγούμενο κελί.\n",
    "func()"
   ]
  },
  {
   "cell_type": "code",
   "execution_count": null,
   "id": "ed506c93-dbe3-4384-9b03-1bbfc223101b",
   "metadata": {},
   "outputs": [],
   "source": [
    "# Η a είναι καθολική και η b είναι τοπική μεταβλητή\n",
    "\n",
    "a = 0\n",
    "b = 0\n",
    "def func1() :\n",
    "    global a\n",
    "    a = 1\n",
    "    print('Μέσα στην συνάρτηση:', a, b)\n",
    "\n",
    "func1()\n",
    "\n",
    "print('Έξω από την συνάρτηση:', a, b)"
   ]
  },
  {
   "cell_type": "markdown",
   "id": "c4f97cd4",
   "metadata": {},
   "source": [
    "#### global"
   ]
  },
  {
   "cell_type": "markdown",
   "id": "914f4d21-6491-4ede-92b5-3472e1d256e1",
   "metadata": {},
   "source": [
    "Υπάρχουν περιπτώσεις όπου μια μεταβλητή που παίρνει τιμή ή μορφή μέσα σε μια συνάρτηση αλλά θέλουμε να ισχύει καθολικά. Αυτό μπορεί να γίνει με την δήλωση της ως **global**. \n",
    "\n",
    "Το παραπάνω παράδειγμα με χρήση της global, γίνεται:"
   ]
  },
  {
   "cell_type": "code",
   "execution_count": null,
   "id": "30658b7a-a87e-450b-aebe-85acaa7df6c6",
   "metadata": {},
   "outputs": [],
   "source": [
    "# global μεταβλητές\n",
    "a = 0\n",
    "b = 0\n",
    "def func1() :\n",
    "    global a\n",
    "    a = 1\n",
    "    b = 2\n",
    "    print('Μέσα στην συνάρτηση:', a,b)\n",
    "func1()\n",
    "print('Έξω από την συνάρτηση:', a,b)"
   ]
  },
  {
   "cell_type": "code",
   "execution_count": null,
   "id": "864e9159-363a-4244-a51f-1f26a17c7955",
   "metadata": {},
   "outputs": [],
   "source": [
    "# Πρόβλημα εκχώρησης\n",
    "# Κάνετε σχόλιο την δεύτερη γραμμή εντολών της συνάρτησης. Τι παρατηρείτε;\n",
    "\n",
    "k = [1, 2, 3]\n",
    "def func2() :\n",
    "    print(k) # Βάλτε σχόλιο στη γραμμή\n",
    "    k = [4, 5]\n",
    "    \n",
    "func2()"
   ]
  },
  {
   "cell_type": "markdown",
   "id": "42ac8f4b",
   "metadata": {},
   "source": [
    "## Ονομαστικές και Προεπιλεγμένες τιμές παραμέτρων "
   ]
  },
  {
   "cell_type": "markdown",
   "id": "3cef7918-2b4c-4c7c-a1aa-bf60b7840ef2",
   "metadata": {},
   "source": [
    "\n",
    "\n",
    "Όπως έχουμε δει το πέρασμα τιμών σε μια συνάρτηση γίνεται με τη σειρά που έχουν γραφτεί μέσα στην επικεφαλίδα της συνάρτησης. \n",
    "\n",
    "Στη Python οι παράμετροι μπορούν να έχουν το δικό τους _όνομα_ (named keyword arguments) και τις δικές τους _προκαθορισμένες τιμές_ (default values).\n",
    "Στην περίπτωση που οι παράμετροι έχουν όνομα, έχουμε την δυνατότητα να αλλάξουμε την σειρά με την οποία περνάμε τις παραμέτρους θέτοντας και το όνομα κατά την κλήση."
   ]
  },
  {
   "cell_type": "code",
   "execution_count": null,
   "id": "d9ed496d-40c2-4e0d-ae66-a46a5fab1ba2",
   "metadata": {},
   "outputs": [],
   "source": [
    "def rect_area(length = 2, width = 5):\n",
    "    \"\"\"Υπολογισμός εμβαδού ορθογωνίου\"\"\"\n",
    "    #return length * width\n",
    "    print(f'Το εμβαδόν ορθογωνίου με μήκος: {length} και πλάτος: {width} είναι: {length * width}')\n"
   ]
  },
  {
   "cell_type": "code",
   "execution_count": null,
   "id": "333d7fbd-46d8-4246-8517-01428bfa2c8c",
   "metadata": {},
   "outputs": [],
   "source": [
    "rect_area(3, 9)"
   ]
  },
  {
   "cell_type": "code",
   "execution_count": null,
   "id": "8fd01781-58ad-4b33-aa46-f89b72c2e400",
   "metadata": {},
   "outputs": [],
   "source": [
    "rect_area()"
   ]
  },
  {
   "cell_type": "code",
   "execution_count": null,
   "id": "8d15d791-0d75-464b-8e8a-0683e7191321",
   "metadata": {},
   "outputs": [],
   "source": [
    "rect_area(5)"
   ]
  },
  {
   "cell_type": "code",
   "execution_count": null,
   "id": "89104ef6-03b7-4598-9a0f-9f0d0f13258b",
   "metadata": {},
   "outputs": [],
   "source": [
    "rect_area(width = 11, length = 22)"
   ]
  },
  {
   "cell_type": "markdown",
   "id": "bc20ecea",
   "metadata": {},
   "source": [
    "## Αυθαίρετος αριθμός παραμέτρων"
   ]
  },
  {
   "cell_type": "markdown",
   "id": "517d1c42-96cb-4f20-909e-1adddef15d99",
   "metadata": {},
   "source": [
    "Εκτός από το προηγούμενο μηχανισμό η Python διαθέτει κι άλλους μηχανισμούς ώστε οι παράμετροι μιας συνάρτησης να είναι πιο ελεύθερες και να μεταβάλλονται με δυναμικό τρόπο.\n",
    "\n",
    "Με τη χρήση του αστερίσκου \\* μπροστά από το όνομα της παραμέτρου, μια συνάρτηση μπορεί να δεχθεί σειρά από τιμές."
   ]
  },
  {
   "cell_type": "code",
   "execution_count": null,
   "id": "4ec1cb46-2b31-4acb-ae46-59f167bd6ce2",
   "metadata": {},
   "outputs": [],
   "source": [
    "def average( *numbers) :\n",
    "    return sum(numbers) / len(numbers)\n",
    "print(average(3, 4, 5))\n",
    "print(average(3, 4, 5, 1, -4))"
   ]
  },
  {
   "cell_type": "markdown",
   "id": "9dda481c",
   "metadata": {},
   "source": [
    "Επιπλέον, με χρήση διπλού αστερίσκου \\** μπροστά από το όνομα της παραμέτρου, η συνάρτηση δέχεται μία σειρά από ζεύγη λέξεων κλειδιών=ορισμάτων. "
   ]
  },
  {
   "cell_type": "code",
   "execution_count": null,
   "id": "c760a5c1-cd52-4bfb-9245-0014ce078f59",
   "metadata": {},
   "outputs": [],
   "source": [
    "def print_info(**person):\n",
    "    for key, value in person.items():\n",
    "        print(key, '-',value)\n",
    "print_info(name=\"Alan Turing\", born=1912, died=1954, natinality=\"UK\")"
   ]
  },
  {
   "cell_type": "markdown",
   "id": "5e06961c",
   "metadata": {},
   "source": [
    "Μετά τον ορισμό της, μια συνάρτηση μπορεί να χρησιμοποιηθεί από οποιοδήποτε σημείο μέσα στον κώδικα. Ακόμα και μέσα σε κάποια άλλη συνάρτηση."
   ]
  },
  {
   "cell_type": "code",
   "execution_count": null,
   "id": "5143cd4e-68c2-48c3-9686-00d96adaa3bf",
   "metadata": {},
   "outputs": [],
   "source": [
    "def f1():\n",
    "    print('f1')\n",
    "    \n",
    "def f2():\n",
    "    print('f2', end=', ')\n",
    "    f1()\n",
    "    \n",
    "f1()"
   ]
  },
  {
   "cell_type": "markdown",
   "id": "fbe15281-9c86-49ef-978b-fe58b8ecfba1",
   "metadata": {},
   "source": [
    "### Εσωτερικές συναρτήσεις"
   ]
  },
  {
   "cell_type": "markdown",
   "id": "2be59759-408f-4b3a-be2c-d041d0804d01",
   "metadata": {},
   "source": [
    "Μια συνάρτηση μπορεί όχι μόνο να περιλαμβάνει τη χρήση άλλων συναρτήσεων αλλά και τον ορισμό τους.\n",
    "Η συνάρτηση αυτή είναι ορατή, και μπορεί να κληθεί μόνο μέσα από την συνάρτηση στην οποία ορίστηκε. Η συνάρτηση αυτή είναι ορατή, και μπορεί να κληθεί, μόνο μέσα από την συνάρτηση στην οποία ορίστηκε."
   ]
  },
  {
   "cell_type": "code",
   "execution_count": null,
   "id": "3c66b226-56bd-4fdd-b3ba-3ec96d9a49ae",
   "metadata": {},
   "outputs": [],
   "source": [
    "def f1():\n",
    "    print('Εξωτερική συνάρτηση')\n",
    "    def f2():\n",
    "        print('Εσωτερική συνάρτηση')\n",
    "    f2()\n",
    "    \n",
    "f1()"
   ]
  },
  {
   "cell_type": "code",
   "execution_count": null,
   "id": "5dd1bb43",
   "metadata": {},
   "outputs": [],
   "source": []
  }
 ],
 "metadata": {
  "kernelspec": {
   "display_name": "Python 3 (ipykernel)",
   "language": "python",
   "name": "python3"
  },
  "language_info": {
   "codemirror_mode": {
    "name": "ipython",
    "version": 3
   },
   "file_extension": ".py",
   "mimetype": "text/x-python",
   "name": "python",
   "nbconvert_exporter": "python",
   "pygments_lexer": "ipython3",
   "version": "3.11.4"
  }
 },
 "nbformat": 4,
 "nbformat_minor": 5
}
