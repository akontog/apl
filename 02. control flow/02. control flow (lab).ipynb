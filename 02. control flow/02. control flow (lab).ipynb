{
 "cells": [
  {
   "cell_type": "markdown",
   "id": "060c2021",
   "metadata": {},
   "source": [
    "<div style=\"padding:20px 0px 20px 0px; text-align:center; font-weight: bold; font-size:170%; background-color: #2d8077; color:#f0b439;\">\n",
    "02.<br>\n",
    "<span style=\"color:#ffffcc;\">Έλεγχος ροής προγράμματος, control flow (εργαστήριο)</span>\n",
    "</div>"
   ]
  },
  {
   "cell_type": "markdown",
   "id": "786078e8",
   "metadata": {},
   "source": [
    "# if"
   ]
  },
  {
   "cell_type": "markdown",
   "id": "61dbe9ab",
   "metadata": {},
   "source": [
    "## Άρτιος - Περιττός"
   ]
  },
  {
   "cell_type": "markdown",
   "id": "f9786746",
   "metadata": {},
   "source": [
    "Να γράφει πρόγραμμα σε γλώσσα python το οποίο να δέχεται έναν ακέραιο αριθμό και να τυπώνει 'Άρτιος' η 'Περιττός' αν ο αριθμός είναι άρτιος η περιττός αντίστοιχα."
   ]
  },
  {
   "cell_type": "code",
   "execution_count": null,
   "id": "2145a1ff",
   "metadata": {},
   "outputs": [],
   "source": []
  },
  {
   "cell_type": "markdown",
   "id": "ed70fd50",
   "metadata": {},
   "source": [
    "## Πρωτοβάθμια"
   ]
  },
  {
   "cell_type": "markdown",
   "id": "df5f2f11",
   "metadata": {},
   "source": []
  },
  {
   "cell_type": "markdown",
   "id": "4c4c6e05",
   "metadata": {},
   "source": [
    "## Δευτεροβάθμια"
   ]
  },
  {
   "cell_type": "markdown",
   "id": "c2c44b83",
   "metadata": {},
   "source": [
    "Να γραφεί πρόγραμμα το οποίο να λύνει την δευτεροβάθμια εξίσωση με δεδομένα τα _a_, _b_, _c_ της $ax^2+bx+c=0$. Όταν υπάρχει διπλή λύση ή δεν υπάρχει λύση να εμφανίζει κατάλληλο μήνυμα. Θεωρήστε ότι το _a_ δεν είναι μηδενικό."
   ]
  },
  {
   "cell_type": "markdown",
   "id": "dc700313",
   "metadata": {},
   "source": [
    "# while"
   ]
  },
  {
   "cell_type": "markdown",
   "id": "74b3bb82",
   "metadata": {},
   "source": [
    "# for"
   ]
  },
  {
   "cell_type": "markdown",
   "id": "a023efc8",
   "metadata": {},
   "source": [
    "## Προπαίδεια"
   ]
  },
  {
   "cell_type": "markdown",
   "id": "ba0e77c1",
   "metadata": {},
   "source": [
    "Να υλοποιηθεί πρόγραμμα το οποίο να διαβάζει έναν αριθμό και να εμφανίζει την προπαίδεία του, δηλαδή όλα τα πολλαπλάσια του αριθμού με το 1, το 2, μέχρι το 10."
   ]
  },
  {
   "cell_type": "code",
   "execution_count": 3,
   "id": "fa62cd0d",
   "metadata": {},
   "outputs": [
    {
     "name": "stdout",
     "output_type": "stream",
     "text": [
      "Δώσε αριθμό:4\n",
      "4\n",
      "8\n",
      "12\n",
      "16\n",
      "20\n",
      "24\n",
      "28\n",
      "32\n",
      "36\n",
      "40\n"
     ]
    }
   ],
   "source": [
    "a = int(input(\"Δώσε αριθμό:\"))\n",
    "for i in range(1,11):\n",
    "    print(a*i)"
   ]
  },
  {
   "cell_type": "markdown",
   "id": "f709b3a1",
   "metadata": {},
   "source": [
    "## Πολλαπλάσια"
   ]
  },
  {
   "cell_type": "markdown",
   "id": "c6ea4403",
   "metadata": {},
   "source": [
    "Γράψτε ένα πρόγραμμα το οποίο τυπώνει όλους τους ακεραίους στο διάστημα [1,100] οι οποίοι διαιρούνται με το 5 αλλά όχι με το 7. Επιπλέον στο τέλος εμφανίζει το πλήθος τους."
   ]
  },
  {
   "cell_type": "code",
   "execution_count": null,
   "id": "bc0e1627",
   "metadata": {},
   "outputs": [],
   "source": [
    "count=0\n",
    "for x in range(1,101):\n",
    "    if x % 5 == 0 and not x % 7 ==0:\n",
    "        count +=1\n",
    "        print(x, end=' ')\n",
    "print('\\nΠλήθος:',count)"
   ]
  },
  {
   "cell_type": "markdown",
   "id": "345f0b6a",
   "metadata": {},
   "source": [
    "## FizzBuzz"
   ]
  },
  {
   "cell_type": "markdown",
   "id": "0603b272",
   "metadata": {},
   "source": [
    "Το FizzBuzz είναι ένα παιδικό παιχνίδι στο οποίο το παιδάκι πρέπει να μετρήσει από το 1 μέχρι το 20. Αντί όμως να πει τα νούμερα που διαιρούνται με το 3 πρέπει να πει “Fizz” και αντί για νούμερα που διαιρούνται με το 5 πρέπει  να πει “Buzz. Στα νούμερα, τώρα, που διαιρούνται και με το 3 και με το 5 θα πρέπει να πει “FizzBuzz”. Να γράψετε πρόγραμμα το οποίο θα εμφανίζει τη σωστή έξοδο για ένα τέτοιο παιχνίδι. \n",
    "\n",
    "Η έξοδος θα πρέπει να είναι:\n",
    "1 2 Fizz 4 Buzz Fizz 7 8 Fizz Buzz 11 Fizz 13 14 FizzBuzz 16 17 Fizz 19 Buzz "
   ]
  },
  {
   "cell_type": "code",
   "execution_count": null,
   "id": "a693cc15",
   "metadata": {},
   "outputs": [],
   "source": [
    "x = 0\n",
    "y = \"Fizz\"\n",
    "z = \"Buzz\"\n",
    "for x in range(1,21):\n",
    "    if x % 3 == 0 and x % 5 == 0:\n",
    "        print(y+z,end=' ')\n",
    "    elif x % 3 == 0:\n",
    "        print(y,end=' ')\n",
    "    elif x % 5 == 0:\n",
    "        print(z,end=' ')\n",
    "    else:\n",
    "        print(x,end=' ')"
   ]
  },
  {
   "cell_type": "markdown",
   "id": "e4db9ba4",
   "metadata": {},
   "source": [
    "## Τράπεζα"
   ]
  },
  {
   "cell_type": "markdown",
   "id": "78b3b113",
   "metadata": {},
   "source": [
    "Έστω ότι οι δικοί σας έκαναν μία κατάθεση 1000 € στη τράπεζα με το που γεννηθήκατε με σκοπό να χρησιμοποιήσετε τα χρήματα στις σπουδές σας. Το ετήσιο επιτόκιο είναι 3%. Γράψτε (δύο) προγράμματα τα οποία:\n",
    "α) υπολογίζει κι εμφανίζει πόσο θα γίνει το κεφάλαιό μετά από 18 χρόνια.\n",
    "β) υπολογίζει κι εμφανίζει σε πόσα χρόνια το κεφάλαιό του θα ξεπεράσει τα 5.000 ευρώ."
   ]
  },
  {
   "cell_type": "code",
   "execution_count": 9,
   "id": "62cfafe3",
   "metadata": {},
   "outputs": [
    {
     "name": "stdout",
     "output_type": "stream",
     "text": [
      "1702.4330612399044\n"
     ]
    }
   ],
   "source": [
    "# α\n",
    "y = 1000\n",
    "for x in range(1,19):\n",
    "    y = y * 1.03\n",
    "    # print(x,\":\",y)\n",
    "print(y)"
   ]
  },
  {
   "cell_type": "code",
   "execution_count": 12,
   "id": "a2a1ba76",
   "metadata": {},
   "outputs": [
    {
     "name": "stdout",
     "output_type": "stream",
     "text": [
      "55\n"
     ]
    }
   ],
   "source": [
    "# β\n",
    "years=0\n",
    "y = 1000\n",
    "while y <= 5000:\n",
    "    years+=1\n",
    "    y = y * 1.03\n",
    "    #print(years,\":\",y)\n",
    "print(years)"
   ]
  },
  {
   "cell_type": "markdown",
   "id": "b871e8d3",
   "metadata": {},
   "source": [
    "## Σκακιέρα"
   ]
  },
  {
   "cell_type": "markdown",
   "id": "330d1937",
   "metadata": {},
   "source": [
    "Πριν πολλά χρόνια στην Ινδία, η εφεύρεση του σκακιού ενθουσίασε τόσο πολύ τον βασιλιά, που προσφέρθηκε να χαρίσει στον εφευρέτη του το μισό του βασίλειο και το χέρι της κόρης του. Ο εφευρέτης απάντησε στο Βασιλιά: «Βασιλιά μου, είμαι ένας ταπεινός άνθρωπος και δεν ξέρω τι να κάνω το μισό σου βασίλειο. Έλα να υπολογίσουμε το δώρο μου αλλιώς. Βάλε στο πρώτο τετράγωνο του σκακιού ένα σπόρο σιτάρι. Στη συνέχεια, στο δεύτερο τετράγωνο δύο σπόρους σιτάρι, στο τρίτο τετράγωνο τέσσερις σπόρους και ούτε καθεξής». Όταν το άκουσε αυτό ο Βασιλιάς συμφώνησε αμέσως χαρούμενος που θα του στοιχίσει τόσο φθηνά. Ζήτησε να του φέρουν μια σακούλα σιτάρι και όταν του την έφεραν άρχισε να το τοποθετεί. Σύντομα το σιτάρι τελείωσε χωρίς να καλύψει ούτε τη μισή σκακιέρα. Ζήτησε και δεύτερη και τρίτη σακούλα, μέχρι που αναγκάστηκε να παραδεχτεί την ήττα του. Βρείτε με πρόγραμμα σε γλώσσα Python πόσο σιτάρι ζήτησε ο εφευρέτης;(Σημείωση: Το σκάκι έχει συνολικά 64 τετράγωνα)."
   ]
  },
  {
   "cell_type": "code",
   "execution_count": null,
   "id": "dcd69e06",
   "metadata": {},
   "outputs": [],
   "source": [
    "y = 1 # σπόρος στάρι στο 1ο τετραγωνάκι\n",
    "x = 1 # σύνολο σπόρων\n",
    "for sq in range(2,65):\n",
    "    y = y * 2 # οι σπόροι διπλασιάζονται\n",
    "    x = x + y\n",
    "print(x)"
   ]
  },
  {
   "cell_type": "markdown",
   "id": "abc9e112",
   "metadata": {},
   "source": [
    "## Νάρκισσοι"
   ]
  },
  {
   "cell_type": "markdown",
   "id": "0cd6484a",
   "metadata": {},
   "source": [
    "Στη Θεωρία Αριθμών, Νάρκισσος (ή αριθμός Armstrong) ονομάζεται ένας θετικός ακέραιος που είναι ίσος με το άθροισμα των ψηφίων του, υψωμένο το καθένα, στο πλήθος των ψηφίων του. Για παράδειγμα, ο αριθμός: $153 = 1^3 + 5^3 + 3^3$.\n",
    "Να αναπτύξετε πρόγραμμα σε Python το οποίο να βρίσκει και να τυπώνει όλους τους τριψήφιους Νάρκισσους αριθμούς.\n",
    "(Οι μόνοι τριψήφιοι νάρκισσοι είναι οι: 153, 370, 371, 407.)"
   ]
  },
  {
   "cell_type": "code",
   "execution_count": 4,
   "id": "de38733d",
   "metadata": {},
   "outputs": [
    {
     "name": "stdout",
     "output_type": "stream",
     "text": [
      "153\n",
      "370\n",
      "371\n",
      "407\n"
     ]
    }
   ],
   "source": [
    "for num in range(100, 1000):\n",
    "    # Διαχωρισμός ψηφίων\n",
    "    hundreds = num // 100          # Εκατοντάδες\n",
    "    tens = (num // 10) % 10        # Δεκάδες\n",
    "    units = num % 10               # Μονάδες\n",
    "    \n",
    "    # Υπολογισμός του αθροίσματος των κύβων των ψηφίων\n",
    "    sum_of_cubes = hundreds**3 + tens**3 + units**3\n",
    "    \n",
    "    # Έλεγχος αν το άθροισμα των κύβων είναι ίσο με τον αριθμό\n",
    "    if num == sum_of_cubes:\n",
    "        print(num)"
   ]
  },
  {
   "cell_type": "markdown",
   "id": "3a7e6aea",
   "metadata": {},
   "source": [
    "# functions"
   ]
  },
  {
   "cell_type": "markdown",
   "id": "35615069",
   "metadata": {},
   "source": [
    "## Παραγοντικό"
   ]
  },
  {
   "cell_type": "markdown",
   "id": "4faa338f",
   "metadata": {},
   "source": [
    "Να υλοποιηθεί συνάρτηση, _fact_ η οποία να δέχεται έναν ακέραιο αριθμό _n_ και να υπολογίζει και να επιστρέφει το παραγοντικό του n. Δίνεται: $n! = 1 \\cdot 2 \\cdot 3 \\cdot \\dots \\cdot n, \\quad \\text{για } n \\geq 0$"
   ]
  },
  {
   "cell_type": "code",
   "execution_count": 1,
   "id": "8a6d4e6b",
   "metadata": {},
   "outputs": [
    {
     "data": {
      "text/plain": [
       "120"
      ]
     },
     "execution_count": 1,
     "metadata": {},
     "output_type": "execute_result"
    }
   ],
   "source": [
    "def fact(n):\n",
    "    #if n < 0:\n",
    "    #    raise ValueError(\"Το παραγοντικό δεν ορίζεται για αρνητικούς αριθμούς.\")\n",
    "    result = 1\n",
    "    for i in range(2, n + 1):  # Ξεκινάμε από το 2, αφού το 1 είναι περιττό στον πολλαπλασιασμό.\n",
    "        result *= i\n",
    "    return result\n",
    "fact(5)"
   ]
  },
  {
   "cell_type": "markdown",
   "id": "6a15f12a",
   "metadata": {},
   "source": [
    "## Μετατροπή δεκαδικού σε δυαδικό"
   ]
  },
  {
   "cell_type": "markdown",
   "id": "11f34ea4",
   "metadata": {},
   "source": [
    "Να υλοποιηθεί συνάρτηση, _binaryToDecimal_ η οποία δέχεται έναν δυαδικό αριθμό, σαν ακέραια ακολουθία από και 1 και επιστρέφει τον ίδιο αριθμό στο δεκαδικό.\n",
    "\n",
    "Παράδειγμα κλήσης:\n",
    "\n",
    "'>>> binaryToDecimal(1100)'\n",
    "\n",
    "'12'"
   ]
  },
  {
   "cell_type": "code",
   "execution_count": 7,
   "id": "ff975894",
   "metadata": {},
   "outputs": [],
   "source": [
    "def binaryToDecimal(binary):\n",
    "    decimal = i = 0\n",
    "    while(binary != 0):\n",
    "        d = binary % 10\n",
    "        decimal = decimal + d * pow(2, i)\n",
    "        binary = binary//10\n",
    "        i += 1\n",
    "    return decimal\n",
    "binaryToDecimal(1100)"
   ]
  },
  {
   "cell_type": "markdown",
   "id": "ee3ac9e7",
   "metadata": {},
   "source": [
    "## Αριθμός ψηφίων"
   ]
  },
  {
   "cell_type": "markdown",
   "id": "30b95d1a",
   "metadata": {},
   "source": [
    "Να υλοποιηθεί συνάρτηση _getDigits_ η οποία να δέχεται έναν ακέραιο αριθμό και να επιστρέφει αριθμό ψηφίων του."
   ]
  },
  {
   "cell_type": "code",
   "execution_count": 4,
   "id": "835f2e3e",
   "metadata": {},
   "outputs": [
    {
     "data": {
      "text/plain": [
       "5"
      ]
     },
     "execution_count": 4,
     "metadata": {},
     "output_type": "execute_result"
    }
   ],
   "source": [
    "def getDigits(a):\n",
    "    count = 0\n",
    "    while a>0:\n",
    "        a //=10\n",
    "        count+=1\n",
    "    return count\n",
    "getDigits(54321)"
   ]
  },
  {
   "cell_type": "markdown",
   "id": "8b950423",
   "metadata": {},
   "source": [
    "## Fibonacci, Tribonacci sequence"
   ]
  },
  {
   "cell_type": "markdown",
   "id": "309f00bb",
   "metadata": {},
   "source": [
    "α) Υπολογισμός της ακολουθίας Fibonacci: Η ακολουθία Fibonacci ορίζεται από τον τύπο:\n",
    "F(n)=F(n−1)+F(n−2)\n",
    "με αρχικές συνθήκες F(0)=0 και F(1)=1. Ζητείται να υλοποιήσετε μια συνάρτηση _getFibonacci(n)_ που θα δέχεται έναν θετικό ακέραιο n και θα επιστρέφει τον n-οστό όρο της ακολουθίας Fibonacci.\n",
    "\n",
    "β) Υπολογισμός της ακολουθίας Tribonacci: Η ακολουθία Tribonacci μοιάζει με τη Fibonacci, αλλά κάθε όρος είναι το άθροισμα των τριών προηγούμενων όρων. Ορίζεται ως:\n",
    "T(n)=T(n−1)+T(n−2)+T(n−3)\n",
    "με αρχικές συνθήκες T(0)=0, T(1)=1, και T(2)=1. Να υλοποιήσετε μια συνάρτηση getTribonacci(n) που θα υπολογίζει τον n-οστό όρο της ακολουθίας Tribonacci.\n",
    "\n",
    "Παράδειγμα κλήσης:\n",
    "'>>>getFibonacci(10)'\n",
    "'55'\n",
    "'>>>getTribonacci(n)'\n",
    "'149'"
   ]
  },
  {
   "cell_type": "code",
   "execution_count": 2,
   "id": "9b29734d",
   "metadata": {},
   "outputs": [
    {
     "data": {
      "text/plain": [
       "55"
      ]
     },
     "execution_count": 2,
     "metadata": {},
     "output_type": "execute_result"
    }
   ],
   "source": [
    "def getFibonacci(n):\n",
    "    if n == 0:\n",
    "        return 0\n",
    "    elif n == 1:\n",
    "        return 1\n",
    "    a, b = 0, 1\n",
    "    for _ in range(2, n + 1):\n",
    "        a, b = b, a + b\n",
    "    return b\n",
    "getFibonacci(10)"
   ]
  },
  {
   "cell_type": "code",
   "execution_count": 3,
   "id": "a960e4e7",
   "metadata": {},
   "outputs": [
    {
     "data": {
      "text/plain": [
       "149"
      ]
     },
     "execution_count": 3,
     "metadata": {},
     "output_type": "execute_result"
    }
   ],
   "source": [
    "def getTribonacci(n):\n",
    "    # n = 0 επιστρέφει 0\n",
    "    if n == 0:\n",
    "        return 0\n",
    "    # n =1,2 επιστρέφει 1\n",
    "    elif n == 1 or n == 2:\n",
    "        return 1\n",
    "    # Οι πρώτοι 3 όροι του tribonacci\n",
    "    a, b, c = 0, 1, 1\n",
    "    for i in range(3, n + 1):\n",
    "        next_term = a + b + c\n",
    "        a, b, c = b, c, next_term\n",
    "    return c\n",
    "getTribonacci(10)"
   ]
  },
  {
   "cell_type": "markdown",
   "id": "f2d20521",
   "metadata": {},
   "source": [
    "## Caesar Encryption"
   ]
  },
  {
   "cell_type": "markdown",
   "id": "5f1f1071",
   "metadata": {},
   "source": [
    "Να υλοποιηθεί συνάρτηση _caesarEncryption(text, shift)_ που δέχεται δύο παραμέτρους και υλοποιεί το κρυπτογράφημα του Καίσαρα:\n",
    "\n",
    " - _text_: το κείμενο που θέλουμε να κρυπτογραφήσουμε ή να αποκρυπτογραφήσουμε.\n",
    "\n",
    " - _shift_: τον αριθμό θέσεων που θα μετακινήσουμε τα γράμματα του κειμένου. Αν το _shift_ είναι θετικό, το κείμενο κρυπτογραφείται, ενώ αν είναι αρνητικό, το κείμενο αποκρυπτογραφείται.\n",
    "\n",
    "Ο αλγόριθμος λειτουργεί ως εξής:\n",
    "\n",
    "Για κάθε χαρακτήρα του κειμένου ελέγχεται αν είναι γράμμα.\n",
    "Αν είναι γράμμα, τότε υπολογίζεται η νέα θέση του γράμματος στον αλφάβητο με την αλγεβρική έκφραση: shifted=(ord(char)−start+shift)%26+start\n",
    "όπου:\n",
    "\n",
    "    - _start_ είναι η αρχική τιμή του γράμματος 'A' (ή 'a' για πεζά).\n",
    "    \n",
    "    - _shift_ είναι η μετατόπιση που καθορίζεται από το δεύτερο όρισμα της συνάρτησης.\n",
    "    \n",
    "Αν δεν είναι γράμμα, π.χ. αν είναι διάστημα ή σημεία στίξης, απλώς προστίθεται στο αποτέλεσμα χωρίς καμία αλλαγή."
   ]
  },
  {
   "cell_type": "code",
   "execution_count": 13,
   "id": "d3512428",
   "metadata": {},
   "outputs": [
    {
     "data": {
      "text/plain": [
       "'war'"
      ]
     },
     "execution_count": 13,
     "metadata": {},
     "output_type": "execute_result"
    }
   ],
   "source": [
    "def caesarEncryption(text, shift):\n",
    "    result = \"\"\n",
    "    for char in text:\n",
    "        if char.isalpha():\n",
    "            start = ord('A') if char.isupper() else ord('a')\n",
    "            shifted = (ord(char) - start + shift) % 26 + start\n",
    "            result += chr(shifted)\n",
    "        else:\n",
    "            result += char\n",
    "    return result\n",
    "caesarEncryption('war',2)\n",
    "caesarEncryption(caesarEncryption('war',2),-2)"
   ]
  },
  {
   "cell_type": "code",
   "execution_count": null,
   "id": "83565b89",
   "metadata": {},
   "outputs": [],
   "source": []
  }
 ],
 "metadata": {
  "kernelspec": {
   "display_name": "Python 3 (ipykernel)",
   "language": "python",
   "name": "python3"
  },
  "language_info": {
   "codemirror_mode": {
    "name": "ipython",
    "version": 3
   },
   "file_extension": ".py",
   "mimetype": "text/x-python",
   "name": "python",
   "nbconvert_exporter": "python",
   "pygments_lexer": "ipython3",
   "version": "3.11.4"
  }
 },
 "nbformat": 4,
 "nbformat_minor": 5
}
