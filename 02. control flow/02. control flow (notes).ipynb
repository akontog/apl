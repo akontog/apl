{
 "cells": [
  {
   "cell_type": "markdown",
   "id": "02303a51",
   "metadata": {
    "slideshow": {
     "slide_type": "slide"
    },
    "tags": []
   },
   "source": [
    "<div style=\"padding:20px 0px 20px 0px; text-align:center; font-weight: bold; font-size:170%; background-color: #2d8077; color:#f0b439;\">\n",
    "2.<br>\n",
    "<span style=\"color:#ffffcc;\">Έλεγχος ροής</span>\n",
    "</div>\n",
    "\n",
    "---"
   ]
  },
  {
   "cell_type": "markdown",
   "id": "8da3d217",
   "metadata": {},
   "source": [
    "# Έλεγχος ροής"
   ]
  },
  {
   "cell_type": "markdown",
   "id": "f56bf2cc",
   "metadata": {
    "slideshow": {
     "slide_type": "slide"
    },
    "tags": []
   },
   "source": [
    "## Δομές επιλογής if"
   ]
  },
  {
   "cell_type": "markdown",
   "id": "1e53184a",
   "metadata": {
    "slideshow": {
     "slide_type": "subslide"
    },
    "tags": []
   },
   "source": [
    "Η Python παρέχει τρεις τύπους δομών επιλογής `if`:\n",
    "* Η εντολή `if` εκτελεί ένα μπλοκ εντολών αν η συνθήκη είναι αληθής αλλιώς προχωράει στο υπόλοιπο πρόγραμμα\n",
    "* Η εντολή `if ... else ...` εκτελεί το πρώτο μπλοκ εντολών αν η συνθήκη είναι αληθής αλλιώς εκτελεί το δεύτερο μπλοκ εντολών\n",
    "* Η εντολή `if ... elif ... else ...` εκτελεί κάποιο από τα μπλοκ εντολών ανάλογα με το ποια συνθηκη είναι αληθής. Αν καμία δεν είναι αληθής, εκτελεί το μπλοκ εντολών μετά το else."
   ]
  },
  {
   "cell_type": "markdown",
   "id": "d31cb3f8",
   "metadata": {
    "slideshow": {
     "slide_type": "subslide"
    },
    "tags": []
   },
   "source": [
    "**Παράδειγμα**\n",
    "\n",
    "θέλουμε να βρούμε αν ένας αριθμός είναι θετικός."
   ]
  },
  {
   "cell_type": "code",
   "execution_count": null,
   "id": "3679e7b6",
   "metadata": {
    "slideshow": {
     "slide_type": "fragment"
    },
    "tags": []
   },
   "outputs": [],
   "source": [
    "x = 15 \n",
    "if x > 0: print(\"Ο αριθμός\", x, \"είναι θετικός\")"
   ]
  },
  {
   "cell_type": "markdown",
   "id": "6c7cc089",
   "metadata": {},
   "source": [
    "**Παράδειγμα**\n",
    "\n",
    "θέλουμε να βρούμε αν ένας αριθμός είναι άρτιος ή περιττός."
   ]
  },
  {
   "cell_type": "code",
   "execution_count": null,
   "id": "afd13775",
   "metadata": {},
   "outputs": [],
   "source": [
    "x = 15 \n",
    "if x % 2 == 0:\n",
    "    print(\"Ο\", x, \"είναι άρτιος\") \n",
    "else:\n",
    "    print(\"Ο\", x, \"είναι περιττός\")"
   ]
  },
  {
   "cell_type": "markdown",
   "id": "1437e0d7",
   "metadata": {},
   "source": [
    "Συντομότερα η παραπάνω δομή μπορεί να γραφεί στην επόμενη μορφή:"
   ]
  },
  {
   "cell_type": "code",
   "execution_count": null,
   "id": "e3d9bd22",
   "metadata": {},
   "outputs": [],
   "source": [
    "x=15\n",
    "print(\"Ο\", x, \"είναι άρτιος\") if x % 2 == 0 else print(\"Ο\", x, \"είναι περιττός\")"
   ]
  },
  {
   "cell_type": "markdown",
   "id": "a93a947b",
   "metadata": {},
   "source": [
    "**Παράδειγμα**\n",
    "    \n",
    "Εύρεση μικρότερου ανάμεσα σε τρεις αριθμούς."
   ]
  },
  {
   "cell_type": "code",
   "execution_count": null,
   "id": "1ef8a0e1",
   "metadata": {
    "slideshow": {
     "slide_type": "fragment"
    },
    "tags": []
   },
   "outputs": [],
   "source": [
    "x, y, z = 4, 11, 9 \n",
    "if x < y and x < z:\n",
    "    print(\"Ο αριθμός\", x, \"είναι o μικρότερος\")\n",
    "elif y < z:\n",
    "    print(\"Ο αριθμός\", y, \" είναι o μικρότερος\")\n",
    "else:\n",
    "    print(\"Ο αριθμός\", z, \" είναι o μικρότερος\")"
   ]
  },
  {
   "cell_type": "markdown",
   "id": "323f85b1",
   "metadata": {
    "tags": []
   },
   "source": [
    "## Στοίχιση (indentation)"
   ]
  },
  {
   "cell_type": "markdown",
   "id": "e62fc455",
   "metadata": {
    "tags": []
   },
   "source": [
    "Όπως φαίνεται παραπάνω, η δομή `if` ορίζει ένα μπλοκ εντολών οι οποίες εκτελούνται υπό συνθήκη. Στο παράδειγμα:\n",
    "```Python\n",
    "if x > 0:\n",
    "    εντολή 1\n",
    "    εντολή 2\n",
    "    εντολή 3\n",
    "εντολή 4\n",
    "```\n",
    "οι εντολές 1,2,3 στο παραπάνω παράδειγμα σχηματίζουν ένα μπλοκ, ενώ η εντολή 4 δεν ανήκει στο μπλοκ της `if`. Το μπλοκ ορίζεται μέσω της στοίχισης, **indentation** των αντίστοιχων εντολών. Η στοίχιση ενός μπλοκ γίνεται με την εσοχή κατά έναν τουλάχιστον χαρακτήρα, ενώ συνιστάται η χρήση τεσσάρων χαρακτήρων. Είναι απαραίτητη η _συνέπεια_ κατά τη στοίχιση ενός μπλοκ. Οι εντολές, δηλαδή, στο ίδιο μπλοκ πρέπει να βρίσκονται αυστηρά η μια κάτω από την άλλη."
   ]
  },
  {
   "cell_type": "code",
   "execution_count": null,
   "id": "115ba8a6",
   "metadata": {
    "tags": []
   },
   "outputs": [],
   "source": [
    "print(0)\n",
    "if 1 > 0:\n",
    "  print(1)\n",
    "  print(3)\n",
    "  if 4 > 5:\n",
    "      print(6)\n",
    "      print(4)"
   ]
  },
  {
   "cell_type": "markdown",
   "id": "f6d926a9",
   "metadata": {},
   "source": [
    "## Η εντολή `pass`"
   ]
  },
  {
   "cell_type": "markdown",
   "id": "73377fe2",
   "metadata": {},
   "source": [
    "Η εντολή `pass` επιτρέπει τη δημιουργία ενός κενού μπλοκ εντολών. Έτσι, στο παράδειγμα:\n",
    "```Python\n",
    "if x > 0:\n",
    "    pass\n",
    "```\n",
    "το μπλοκ της `if` δεν περιέχει κάποια εκτελέσιμη εντολή. Η `pass` είναι χρήσιμη για τη δημιουργία ημιτελούς κώδικα ο οποίος μπορεί να συμπληρωθεί στο μέλλον. Αργότερα θα δούμε χρήσεις της  στο πλαίσιο του αντικειμενοστρεφούς προγραμματισμού. "
   ]
  },
  {
   "cell_type": "markdown",
   "id": "eb687f78",
   "metadata": {
    "tags": []
   },
   "source": [
    "**Παράδειγμα: Δίσεκτα έτη**\n",
    "\n",
    "Ένα (κλασικό) παράδειγμα για τη χρήση μιας δομής επιλογής είναι ο καθορισμός ενός έτους ως δίσεκτου ή όχι. Ένα έτος είναι δίσεκτο αν: \n",
    "\n",
    " - Διαιρείται με το 4 αλλά όχι με το 100 ή\n",
    " \n",
    " - Διαιρείται με το 400 αλλά όχι με το 4000\n",
    " \n",
    "Με βάση το παραπάνω, δίνεται ένα πρόγραμμα το οποίο υπολογίζει αν ένα δεδομένο έτος είναι δίσεκτο. Επιπλέον, το πρόγραμμα εξηγεί σε κάθε περιπτωση την απόφασή του, μετά από μια ανάλυση περιπτώσεων με εκτεταμενη χρήση της `if`:"
   ]
  },
  {
   "cell_type": "code",
   "execution_count": null,
   "id": "290872a4",
   "metadata": {
    "tags": []
   },
   "outputs": [],
   "source": [
    "#year = int(input(\"Δώστε το έτος:\"))\n",
    "\n",
    "year = 800\n",
    "mod_4 = year % 4 == 0\n",
    "mod_100 = year % 100 == 0\n",
    "mod_400 = year % 400 == 0\n",
    "mod_4000 = year % 4000 == 0\n",
    "\n",
    "is_leap = mod_4 and not mod_100 or mod_400 and not mod_4000\n",
    "\n",
    "if (is_leap): # δίσεκτο\n",
    "    connective = \" \"\n",
    "    if  mod_400: \n",
    "        explanation = \"διαιρείται με το 400 αλλά όχι με το 4000.\"\n",
    "    else : \n",
    "        explanation = \"διαιρείται με το 4 αλλά όχι με το 100.\"\n",
    "else: ## Όχι δίσεκτο\n",
    "    connective = \" δεν \"\n",
    "    if not mod_4:\n",
    "        explanation = \"δεν διαιρείται με το 4.\"\n",
    "    elif not mod_400:\n",
    "        explanation = \"διαιρείται με το 100 αλλά όχι με το 400.\" \n",
    "    else:\n",
    "        explanation = \"διαιρείται με το 4000.\" \n",
    "        \n",
    "year_str = str(year)\n",
    "\n",
    "print(\"Το έτος \" + year_str + connective +  \"είναι δίσεκτο γιατί \" + explanation) \n"
   ]
  },
  {
   "cell_type": "markdown",
   "id": "97aad433",
   "metadata": {
    "slideshow": {
     "slide_type": "slide"
    },
    "tags": []
   },
   "source": [
    "## Δομές επανάληψης"
   ]
  },
  {
   "cell_type": "markdown",
   "id": "1c7bf524",
   "metadata": {
    "slideshow": {
     "slide_type": "subslide"
    },
    "tags": []
   },
   "source": [
    "Η Python παρέχει δυο τύπους δομών επανάληψης:\n",
    "* Η εντολή `for` εκτελεί μια ή περισσότερες εντολές επαναληπτικά. Το πλήθος των επαναλήψεων θα πρέπει να είναι γνωστό εκ των προτέρων και γι’ αυτό προτιμάται για την διαχείριση δεδομένων από συλλογές στοιχείων π.χ. λίστες, πλειάδες, σύνολα κ.λ.π."
   ]
  },
  {
   "cell_type": "markdown",
   "id": "2ec19c9f",
   "metadata": {
    "slideshow": {
     "slide_type": "fragment"
    },
    "tags": []
   },
   "source": [
    "* Η εντολή `while` εκτελεί μια ή περισσότερες εντολές επαναληπτικά ενόσω μια συνθήκη παραμένει True. Η while χρησιμοποιείται όταν δεν είναι γνωστό το πλήθος των επαναλήψεων ή όταν τα δεδομένα δεν είναι ενσωματωμενα σε κάποια δομή της γλώσσας."
   ]
  },
  {
   "cell_type": "markdown",
   "id": "4dfc6f80",
   "metadata": {
    "slideshow": {
     "slide_type": "subslide"
    },
    "tags": []
   },
   "source": [
    "### Η δομή `while`"
   ]
  },
  {
   "cell_type": "markdown",
   "id": "006a05ec",
   "metadata": {
    "slideshow": {
     "slide_type": "subslide"
    },
    "tags": []
   },
   "source": [
    "Η γενική μορφή της `while`, είναι:\n",
    "```Python\n",
    "while συνθήκη :\n",
    "    Εντολή/ές\n",
    "```"
   ]
  },
  {
   "cell_type": "markdown",
   "id": "199f506f",
   "metadata": {},
   "source": [
    "**Παράδειγμα**\n",
    "\n",
    "θέλουμε να εκτυπώσουμε το τετράγωνο των αριθμών από 1 έως Ν.\n"
   ]
  },
  {
   "cell_type": "code",
   "execution_count": null,
   "id": "1eff1f1f",
   "metadata": {
    "slideshow": {
     "slide_type": "fragment"
    },
    "tags": []
   },
   "outputs": [],
   "source": [
    "i = 1\n",
    "#x = int(input('Δώσε έναν ακέραιο:'))\n",
    "x = 4\n",
    "while i <= x :\n",
    "    print (i,\" -> \", i ** 2)\n",
    "    i += 1"
   ]
  },
  {
   "cell_type": "markdown",
   "id": "8aa1bd42",
   "metadata": {},
   "source": [
    "**Παράδειγμα**\n",
    "\n",
    " Ως ένα ποιο σύνθετο παράδειγμα, ο παρακάτω κώδικας υπολογίζει το άθροισμα \n",
    "\n",
    "$$\\sum_{i=0}^{N}{\\left(\\frac12\\right)^i}$$ "
   ]
  },
  {
   "cell_type": "code",
   "execution_count": null,
   "id": "957ab728",
   "metadata": {
    "tags": []
   },
   "outputs": [],
   "source": [
    "N = 5\n",
    "mysum = 0\n",
    "term = 1 # O κάθε όρος του αθροίσματος\n",
    "i = 0\n",
    "while  i <= N:\n",
    "    term *= .5 # Κάθε όρος υπολογίζεται με βάση τον προηγούμενο\n",
    "    mysum += term\n",
    "    i += 1\n",
    "\n",
    "print(mysum)"
   ]
  },
  {
   "cell_type": "markdown",
   "id": "1cdaade9",
   "metadata": {},
   "source": [
    "Σημειώστε ότι το παραπάνω άθροισμα υπολογίζεται ως εξής:\n",
    "\n",
    "$$\\sum_{i=0}^{N}t_n$$\n",
    "όπου $t_0 = 1$ και $t_i = 0.5 t_{i-1}$, για $i= 1,\\ldots, N$."
   ]
  },
  {
   "cell_type": "markdown",
   "id": "094c1e61",
   "metadata": {
    "slideshow": {
     "slide_type": "subslide"
    },
    "tags": []
   },
   "source": [
    "### Η δομή `for`"
   ]
  },
  {
   "cell_type": "markdown",
   "id": "a6c02ffd",
   "metadata": {
    "slideshow": {
     "slide_type": "subslide"
    },
    "tags": []
   },
   "source": [
    "Η γενική μορφή της `for`, είναι:\n",
    "```Python\n",
    "for μεταβλητή in ακολουθία :\n",
    "    Εντολή/ές\n",
    "```"
   ]
  },
  {
   "cell_type": "markdown",
   "id": "71e3921d",
   "metadata": {},
   "source": [
    "**Παράδειγμα**\n",
    "\n",
    "θέλουμε να εκτυπώσουμε το τετράγωνο των αριθμών από 1 έως Ν. Σημειώνεται ότι το σχήμα [1, 2, 3, 4, 5 ] αποτελεί την δομή λίστας που θα εξεταστεί σε επόμενη ενότητα."
   ]
  },
  {
   "cell_type": "code",
   "execution_count": null,
   "id": "4ec80049",
   "metadata": {
    "slideshow": {
     "slide_type": "fragment"
    },
    "tags": []
   },
   "outputs": [],
   "source": [
    "for i in [1, 2, 3, 4, 5 ]: \n",
    "    print (i,\" -> \", i ** 2)"
   ]
  },
  {
   "cell_type": "markdown",
   "id": "62f7f68f",
   "metadata": {},
   "source": [
    "Η `for` απαριθμεί τα στοιχεία μιας *ακολουθίας*. Ένας τύπος ακολουθίας που έχουμε ήδη συναντήσει, είναι οι συμβολοσειρές. Το ακόλουθο παράδειγμα τυπώνει κάθε χαρακτήρα μιας συμβολοσειράς καθώς και τον κωδικό Unicode που αντιστοιχεί στον χαρακτήρα μέσω της συνάρτησης `ord`."
   ]
  },
  {
   "cell_type": "code",
   "execution_count": null,
   "id": "83654d83",
   "metadata": {
    "tags": []
   },
   "outputs": [],
   "source": [
    "for ch in \"κείμενο\":\n",
    "    print(ch, ord(ch))"
   ]
  },
  {
   "cell_type": "markdown",
   "id": "f1bca900",
   "metadata": {},
   "source": [
    "**Παράδειγμα**\n",
    "\n",
    "θέλουμε να εφαρμόσουμε το κρυπτογράφημα του Καίσαρα. Η βασική του ιδέα είναι η μετατόπιση κάθε γράμματος ενός κειμένου κατά έναν σταθερό αριθμό θέσεων στο αλφάβητο."
   ]
  },
  {
   "cell_type": "code",
   "execution_count": null,
   "id": "64e610aa",
   "metadata": {},
   "outputs": [],
   "source": [
    "plaintext = 'hello world'\n",
    "encrypted = ''\n",
    "shift = 2\n",
    "for c in plaintext:\n",
    "    if c.islower():\n",
    "        encrypted += chr((ord(c) + shift - ord('a')) % 26 + ord('a'))\n",
    "    else:\n",
    "        encrypted +=c\n",
    "print(encrypted)\n",
    "decrypted = ''\n",
    "for c in encrypted:\n",
    "    if c.islower():\n",
    "        decrypted += chr((ord(c) - shift - ord('a')) % 26 + ord('a'))\n",
    "    else:\n",
    "        decrypted +=c\n",
    "print(decrypted)"
   ]
  },
  {
   "cell_type": "markdown",
   "id": "2b6e29b5",
   "metadata": {
    "slideshow": {
     "slide_type": "subslide"
    },
    "tags": []
   },
   "source": [
    "## Η συνάρτηση και ο τύπος `range`"
   ]
  },
  {
   "cell_type": "markdown",
   "id": "73e68c48",
   "metadata": {},
   "source": [
    "Η `range()` είναι μια ενσωματωμένη συνάρτηση της Python, που χρησιμοποιείται για την παραγωγή ακολουθίας τιμών. Η εντολή\n",
    "```Python\n",
    "range(N)\n",
    "```\n",
    "δημιουργεί μια ακολουθία N αριθμών από το $0$ μέχρι το $N - 1$.\n",
    "\n",
    "Η γενική μορφή της `range` είναι:\n",
    "```Python\n",
    "range(αρχή, όριο, βήμα)\n",
    "```\n",
    "\n",
    "όπου το _όριο_ είναι η _επόμενη_ τιμή του τελευταίου στοιχείου της ακολουθίας. Η παράμετρος _βήμα_ είναι προαιρετική. "
   ]
  },
  {
   "cell_type": "markdown",
   "id": "6eb83964",
   "metadata": {},
   "source": [
    "Στο παράδειγμα που ακολουθεί χρησιμοποιείται ο τελεστής `*` για να *αποσυμπιέσει* τα δεδομένα και να τα επιστρέψει σε μεμονωμένα αντικείμενα. Θα αναλυθεί σε επόμενη ενότητα."
   ]
  },
  {
   "cell_type": "code",
   "execution_count": null,
   "id": "3526928a",
   "metadata": {
    "slideshow": {
     "slide_type": "fragment"
    },
    "tags": []
   },
   "outputs": [],
   "source": [
    "print(*range(10))"
   ]
  },
  {
   "cell_type": "markdown",
   "id": "8b42310b",
   "metadata": {
    "slideshow": {
     "slide_type": "fragment"
    },
    "tags": []
   },
   "source": [
    "**Παράδειγμα**\n",
    "\n",
    "Εκτύπωσης των τετραγώνων των αριθμών από 1 έως Ν."
   ]
  },
  {
   "cell_type": "code",
   "execution_count": null,
   "id": "6b70fd06",
   "metadata": {
    "slideshow": {
     "slide_type": "fragment"
    },
    "tags": []
   },
   "outputs": [],
   "source": [
    "for i in range(1,6):\n",
    "    print (i,\" -> \",  i ** 2)"
   ]
  },
  {
   "cell_type": "markdown",
   "id": "7b449c0a",
   "metadata": {
    "slideshow": {
     "slide_type": "subslide"
    },
    "tags": []
   },
   "source": [
    "**Παράδειγμα**\n",
    "\n",
    "Να γράψετε πρόγραμμα που θα δέχεται έναν αριθμο n και θα υπολογίζει το παραγοντικό $n!$. Ισχύει ότι:\n",
    "$$  \n",
    "n! = 1 \\cdot 2 \\cdot 3 \\cdot \\dots \\cdot (n - 1) \\cdot n\n",
    "$$"
   ]
  },
  {
   "cell_type": "code",
   "execution_count": null,
   "id": "e3fe2423",
   "metadata": {
    "slideshow": {
     "slide_type": "fragment"
    },
    "tags": []
   },
   "outputs": [],
   "source": [
    "#n = int(input('Δώσε έναν ακέραιο:'))\n",
    "n = 5\n",
    "p = 1\n",
    "for i in range(1, n) :\n",
    "    p *= i\n",
    "p *= n\n",
    "print('n!=', p)"
   ]
  },
  {
   "cell_type": "markdown",
   "id": "108665da",
   "metadata": {
    "slideshow": {
     "slide_type": "subslide"
    },
    "tags": []
   },
   "source": [
    "**Παράδειγμα**\n",
    "    \n",
    "Να γράψετε πρόγραμμα που θα υπολογίζει το άθροισμα:\n",
    "\n",
    "$$\n",
    "\\sum_{i=0}^{10} 2^i\n",
    "$$"
   ]
  },
  {
   "cell_type": "code",
   "execution_count": null,
   "id": "2afe99b6",
   "metadata": {
    "slideshow": {
     "slide_type": "fragment"
    },
    "tags": []
   },
   "outputs": [],
   "source": [
    "mysum = 0\n",
    "term = 1\n",
    "for i in range(11) :\n",
    "    mysum += term  # Ισοδύναμη με την mysum = mysum + term;\n",
    "    term *= 2    # Ισοδύναμη με την term = term * 2;\n",
    "print('Άθροισμα = ',mysum)"
   ]
  },
  {
   "cell_type": "markdown",
   "id": "5135dff8",
   "metadata": {},
   "source": [
    "Όταν θέλουμε μία επαναληπτική διαδικασία αλλά δεν μας ενδιαφέρει να χρησιμοποιηθεί η μεταβλητή μπορούμε να κάνουμε χρήση της `_` ώστε να μην αναγκαστούμε να δηλώσουμε κάποια μεταβλητή."
   ]
  },
  {
   "cell_type": "code",
   "execution_count": null,
   "id": "b12e9b2e",
   "metadata": {},
   "outputs": [],
   "source": [
    "for _ in range(5):\n",
    "    print(\"*****\")"
   ]
  },
  {
   "cell_type": "markdown",
   "id": "a8114dd8",
   "metadata": {},
   "source": [
    "## Οι εντολές `break` και `continue`"
   ]
  },
  {
   "cell_type": "markdown",
   "id": "b88dfb7e",
   "metadata": {},
   "source": [
    "Η χρήση των `for` και `while` επιτρέπουν την αυτοματοποίηση επαναλαμβανόμενων ενεργειών. Πολλές φορές, όμως, κάποιες συνθήκες μπορεί να απαιτούν είτε τον άμεσο τερματισμό της επανάληψης είτε την παράλειψη μίας επανάληψης. Οι εντολές που επιτρέπουν την λειτουργία αυτή: \n",
    "\n",
    "- Η εντολή `break`  τερματίζει την επανάληψη στην οποία βρίσκεται. Η ροή του προγράμματος θα περάσει στην επόμενη εντολή ακριβώς μετά την επανάληψη.\n",
    "\n",
    "- Η εντολή `continue` τερματίζει την επανάληψη στην οποία βρίσκεται. Η ροή του προγράμματος θα περάσει πίσω στον έλεγχο της δομής επανάληψης χωρίς να εκτελεστούν οι εντολές που ακολουθούν την `continue` στην τρέχουσα επανάληψη.\n",
    "\n",
    "Οι εντολές `break`, `continue` επιτρέπονται μόνο μέσα σε δομές επανάληψης. Σε διαφορετική περίπτωση υπάρχει `SyntaxError`."
   ]
  },
  {
   "cell_type": "markdown",
   "id": "6e85365b",
   "metadata": {},
   "source": [
    "Στα επόμενα παραδείγματα επαναλήψεων, όταν το _i_ γίνει 3, στην πρώτη περίπτωση, με την `break` τερματίζει εντελώς ο βρόχος ενώ στην δεύτερη με την `continue` απλά δεν εμφανίζεται η περίπτωση 3  ->  9 με τις επαναλήψεις να συνεχίζουν.  "
   ]
  },
  {
   "cell_type": "code",
   "execution_count": null,
   "id": "fd732d6e",
   "metadata": {},
   "outputs": [],
   "source": [
    "for i in range(1,6):\n",
    "    if i==3:\n",
    "        break\n",
    "    print (i,\" -> \",  i ** 2)\n",
    "for i in range(1,6):\n",
    "    if i==3:\n",
    "        continue\n",
    "    print (i,\" -> \",  i ** 2)"
   ]
  },
  {
   "cell_type": "markdown",
   "id": "38ec2c64",
   "metadata": {},
   "source": [
    "**Παράδειγμα**\n",
    "\n",
    "Να γραφεί πρόγραμμα το οποίο θα δέχεται φυσικό μεγαλύτερο του 1 αριθμό και θα βρίσκει και θα εμφανίζει όλους τους πρώτους αριθμούς από το 1 έως τον αριθμό αυτό. Πρώτος είναι ο αριθμός του οποίου μοναδικοί διαιρέτες είναι η μονάδα και ο εαυτός του. "
   ]
  },
  {
   "cell_type": "code",
   "execution_count": null,
   "id": "a0960c45",
   "metadata": {},
   "outputs": [],
   "source": [
    "#n = int(input('Δώσε φυσικό μεγαλύτερο του 1 αριθμό:'))\n",
    "n = 23\n",
    "print('Πρώτοι αριθμοί μέχρι και',n,':', end=' ')\n",
    "for p in range(2, n + 1):\n",
    "    prime = True # μέχρι να βρεθεί διαιρέτης, ο αριθμός θεωρείται πρώτος\n",
    "    d = 2\n",
    "    while d ** 2 <= p :# εξετάζονται πιθανοί διαιρέτες μέχρι την τετραγωνική ρίζα του αριθμού.\n",
    "   #for d in range(2, limit):\n",
    "        if p % d == 0: \n",
    "            prime = False # βρέθηκε έστω ένας διαιρέτης, ο αριθμός δεν είναι πρώτος\n",
    "        d += 1\n",
    "    if prime:\n",
    "        print(p,' ' , end='')"
   ]
  },
  {
   "cell_type": "markdown",
   "id": "5ee4641e",
   "metadata": {},
   "source": [
    "Ο παραπάνω αλγόριθμος παρόλο που για παράδειγμα για τον αριθμό 48 έχει βρει διαιρέτη για `d = 2` συνεχίζει να ψάχνει. Μπορούμε να διακόψουμε την διαδικασία με μία εντολή `break` στον πρώτο διαιρέτη που θα βρούμε. "
   ]
  },
  {
   "cell_type": "code",
   "execution_count": null,
   "id": "cd535f5e",
   "metadata": {},
   "outputs": [],
   "source": [
    "#n = int(input('Δώσε φυσικό μεγαλύτερο του 1 αριθμό:'))\n",
    "n = 23\n",
    "print('Πρώτοι αριθμοί μέχρι και',n,':', end='')\n",
    "for p in range(2,n + 1):\n",
    "    prime = True # μέχρι να βρεθεί διαιρέτης, ο αριθμός θεωρείται πρώτος\n",
    "    d = 2\n",
    "    while d ** 2 <= p: # εξετάζονται πιθανοί διαιρέτες μέχρι την τετραγωνική ρίζα του αριθμού.\n",
    "        if p % d == 0: \n",
    "            prime = False # βρέθηκε έστω ένας διαιρέτης, ο αριθμός δεν είναι πρώτος\n",
    "            break   # βρέθηκε διαιρέτης, η διαδικασία σταματά\n",
    "        d += 1\n",
    "    if prime:\n",
    "        print(p,' ' , end='')"
   ]
  },
  {
   "cell_type": "markdown",
   "id": "b13e844f",
   "metadata": {},
   "source": [
    "Μία απλοποίηση που μπορεί να εφαρμοστεί στον παραπάνω αλγόριθμο είναι η μη μελέτη των αρτίων αριθμών εφόσον αποκλείεται να είναι πρώτοι. Αυτό μπορεί να επιτευχθεί με την προσθήκη μίας εντολής `continue`. Επειδή όμως και ο 2, που είναι πρώτος, διαιρείται και αυτός με τον εαυτό του, μπορούμε να τον εμφανίσουμε πριν την διαδικασία."
   ]
  },
  {
   "cell_type": "code",
   "execution_count": null,
   "id": "d7c60ff6",
   "metadata": {},
   "outputs": [],
   "source": [
    "#n = int(input('Δώσε φυσικό μεγαλύτερο του 1 αριθμό:'))\n",
    "n = 23\n",
    "print('Πρώτοι αριθμοί μέχρι και',n,':2  ', end='')\n",
    "for p in range(2,n + 1):\n",
    "    if p % 2==0:\n",
    "        continue\n",
    "    prime = True # μέχρι να βρεθεί διαιρέτης, ο αριθμός θεωρείται πρώτος\n",
    "    d = 2\n",
    "    while d ** 2 <= p: # εξετάζονται πιθανοί διαιρέτες μέχρι την τετραγωνική ρίζα του αριθμού.\n",
    "        if p % d == 0: \n",
    "            prime = False # βρέθηκε έστω ένας διαιρέτης, ο αριθμός δεν είναι πρώτος\n",
    "            break   # βρέθηκε διαιρέτης, η διαδικασία σταματά\n",
    "        d += 1\n",
    "    if prime:\n",
    "        print(p,' ' , end='')"
   ]
  },
  {
   "cell_type": "markdown",
   "id": "c4cb4c72",
   "metadata": {},
   "source": [
    "**Παράδειγμα**\n",
    "\n",
    "Ο τύπος του Euler για την εύρεση του π είναι:\n",
    "$$ \\sum_{n=1}^{\\infty} \\frac{1}{n^2} = \\frac{\\pi^2}{6} $$\n",
    "  Να γραφεί πρόγραμμα που υπολογίζει το $π$ σύμφωνα με τον παραπάνω τύπο. Η διαδικασία να τερματίζει όταν ο όρος  $\\frac{1}{n^2}$ γίνει μικρότερος από 0.0001. Μπορούν να δοκιμαστούν καλύτερες προσεγγίσεις με μικρότερες τιμές του όρου.\n",
    "\n",
    "Σημείωση: Για τον υπολογισμό της τετραγωνικής ρίζας εισάγεται η μαθηματική βιβλιοθήκη."
   ]
  },
  {
   "cell_type": "code",
   "execution_count": null,
   "id": "e3199fdb",
   "metadata": {},
   "outputs": [],
   "source": [
    "import math\n",
    "\n",
    "s = 0\n",
    "n = 1\n",
    "while True:\n",
    "    term = 1/n**2 # ο όρος που κάθε φορά προσθέτουμε στο άθροισμα\n",
    "    if term < 0.0001: # όταν ο όρος γίνει πολύ μικρός, η επανάληψη τερματίζει\n",
    "        break\n",
    "    s += term\n",
    "    n+=1\n",
    "print ('Euler pi:', math.sqrt(6 * s),' Επαναλήψεις:',n)"
   ]
  },
  {
   "cell_type": "markdown",
   "id": "1407f5cd",
   "metadata": {},
   "source": [
    "## for/while .. else"
   ]
  },
  {
   "cell_type": "markdown",
   "id": "ddfe6cc0",
   "metadata": {},
   "source": [
    "Το μπλοκ `else` σε έναν βρόχο `for` ή `while` εκτελείται όταν ο βρόχος ολοκληρωθεί κανονικά, δηλαδή χωρίς να έχει ενεργοποιηθεί κάποια εντολή `break`."
   ]
  },
  {
   "cell_type": "markdown",
   "id": "55c7a3cb",
   "metadata": {},
   "source": [
    "**Παράδειγμα**\n",
    "\n",
    "  Στο επόμενο παράδειγμα θα βρούμε αν ένας αριθμός _n_ είναι πρώτος ή όχι. Στην περίπτωση που βρεθεί διαιρέτης του αριθμού, εκτελείται η `break` και άρα όχι η `else`. Αντίθετα, αν δεν βρεθεί κανένας διαιρέτης δεν εκτελείται η `break`, άρα θα εκτελεστεί η `else` εμφανίζοντας το κατάλληλο μήνυμα."
   ]
  },
  {
   "cell_type": "code",
   "execution_count": null,
   "id": "c175ef90",
   "metadata": {},
   "outputs": [],
   "source": [
    "import math\n",
    "n = 9\n",
    "for i in range(2, int(math.sqrt(n))+ 1):\n",
    "    if n % i == 0:\n",
    "        print('Ο',n, 'διαιρείται από τον', str(i)+'. Δεν είναι πρώτος.')\n",
    "        break\n",
    "else:\n",
    "    # Θα εκτλεστεί αν δεν υπάρξει break\n",
    "    print('Ο',n,'είναι πρώτος.')"
   ]
  },
  {
   "cell_type": "markdown",
   "id": "35da9da6",
   "metadata": {
    "slideshow": {
     "slide_type": "slide"
    },
    "tags": []
   },
   "source": [
    "# Συναρτήσεις "
   ]
  },
  {
   "cell_type": "markdown",
   "id": "9789544c",
   "metadata": {
    "slideshow": {
     "slide_type": "slide"
    },
    "tags": []
   },
   "source": [
    "Ένα βασικό κομμάτι μιας γλώσσας προγραμματισμού υψηλού επιπέδου με διαδικαστικό χαρακτήρα είναι οι συναρτήσεις. Αποτελούν ένα κομμάτι προγράμματος, με ομαδοποιημένες εντολές που τους έχει δοθεί ένα όνομα και μπορούν να χρησιμοποιηθούν όσες φορές χρειαστεί."
   ]
  },
  {
   "cell_type": "markdown",
   "id": "9c5a5f7a",
   "metadata": {},
   "source": [
    "Μια συναρτήση, ενσωματωμένη ή οριζόμενη από τον χρήστη, είναι ένα αντικείμενο πρώτης κλάσης. Έτσι μια συνάρτηση μπορεί:\n",
    "\n",
    "- να εκχωρηθεί σε μια μεταβλητή\n",
    "\n",
    "- να ενσωματωθεί σε βασικές δομές της Python, όπως να είναι στοιχεία μιας λίστας \n",
    "\n",
    "- να δοθεί ως παράμετρος σε μια άλλη συνάρτηση\n",
    "\n",
    "Υπάρχουν και ειδικές κατηγορίες συναρτήσεων με βάση τα χαρακτηριστικά τους όπως οι ανώνυμες συναρτήσεις (συναρτήσεις lambda) ή οι γεννήτριες συναρτήσεις.\n",
    "\n",
    "Όλες οι παραπάνω περιπτώσεις θα μελετηθούν στην ενότητα του συναρτησιακού προγραμματισμού. "
   ]
  },
  {
   "cell_type": "markdown",
   "id": "b2a287cb",
   "metadata": {},
   "source": [
    "Έχετε ήδη χρησιμοποιήσει κάποιες από τις ενσωματωμένες συναρτήσεις τις Python π.χ. `int`, `float`, `print`, `input` ... και μερικές από τα αρθρώματα, modules, που εισάγατε, για παράδειγμα `math.sqrt`."
   ]
  },
  {
   "cell_type": "markdown",
   "id": "c084da72",
   "metadata": {},
   "source": [
    "## Ορισμός"
   ]
  },
  {
   "cell_type": "markdown",
   "id": "3a0f51e6",
   "metadata": {},
   "source": [
    "```python\n",
    "def func_name ( παράμετροι ):\n",
    "    εντολή 1\n",
    "    εντολή 2\n",
    "    ........\n",
    "    return τιμή         # Προαιρετική\n",
    "```\n",
    "Το όνομα της συνάρτησης μαζί με την λίστα παραμέτρων της αποτελεί την υπογραφή της. Οι εντολές της που εκτελούνται όταν αυτή καλείται αποτελούν το σώμα της."
   ]
  },
  {
   "cell_type": "code",
   "execution_count": null,
   "id": "2ab356a0",
   "metadata": {},
   "outputs": [],
   "source": [
    "# Συνάρτηση χωρίς παραμέτρους\n",
    "def greet():\n",
    "    print(\"Hello\")"
   ]
  },
  {
   "cell_type": "markdown",
   "id": "04fa0cc6",
   "metadata": {},
   "source": [
    "## Κλήση"
   ]
  },
  {
   "cell_type": "markdown",
   "id": "f8d898d6",
   "metadata": {},
   "source": [
    "Προηγήθηκε ο ορισμός της συνάρτησης κατά τον οποίο οι εντολές που αυτή περιέχει, εδώ μία συνάρτηση `print`, δεν εκτελέστηκε. Για να την εκτελέσουμε θα πρέπει να την καλέσουμε, κάτι που μπορεί να γίνει όσες φορές επιθυμούμε με τον τρόπο που ακολουθεί."
   ]
  },
  {
   "cell_type": "code",
   "execution_count": null,
   "id": "61be3f63",
   "metadata": {},
   "outputs": [],
   "source": [
    "greet()"
   ]
  },
  {
   "cell_type": "markdown",
   "id": "770a7268",
   "metadata": {},
   "source": [
    "## Παράμετροι"
   ]
  },
  {
   "cell_type": "markdown",
   "id": "b0c789e3",
   "metadata": {},
   "source": [
    "Κάθε συνάρτηση μπορεί να δεχτεί, προεραιτικά, μία λίστα παραμέτρων. Ουσιαστικά αποτελεί μεταβλητή της συνάρτησης η οποία και λαμβάνει τιμή κατά την κλήση της. "
   ]
  },
  {
   "cell_type": "code",
   "execution_count": null,
   "id": "b12c0167",
   "metadata": {},
   "outputs": [],
   "source": [
    "def greet(name):\n",
    "    print ('Hello',name)\n",
    "greet('world')\n",
    "greet('Andronikos')"
   ]
  },
  {
   "cell_type": "code",
   "execution_count": null,
   "id": "bb35abb5",
   "metadata": {},
   "outputs": [],
   "source": [
    "def greet(name,origin):\n",
    "    print ('Hello',name,'from',origin)\n",
    "greet('Andronikos','Karlovasi')"
   ]
  },
  {
   "cell_type": "markdown",
   "id": "5c3e781f",
   "metadata": {},
   "source": [
    "## Επιστρεφόμενες τιμές "
   ]
  },
  {
   "cell_type": "markdown",
   "id": "0dd47028",
   "metadata": {},
   "source": [
    "Μια συνάρτηση είναι δυνατόν να υπολογίζει και να επιστρέφει μια τιμή μέσω της εντολής `return`."
   ]
  },
  {
   "cell_type": "code",
   "execution_count": null,
   "id": "8f4e6260",
   "metadata": {},
   "outputs": [],
   "source": [
    "def add(a,b):\n",
    "    return a+b\n",
    "add(4,3)"
   ]
  },
  {
   "cell_type": "markdown",
   "id": "9f7edd15",
   "metadata": {},
   "source": [
    "Όταν η `return` δέχεται ως όρισμα μια ακολουθία τιμών, τότε η συνάρτηση είναι δυνατόν να επιστρέψει περισσότερες από μια τιμές ως στοιχεία μιας *πλειάδας*, `tuple`. Λεπτομέρειες για τις πλειάδες θα συζητηθούν στην επόμενη ενότητα. "
   ]
  },
  {
   "cell_type": "code",
   "execution_count": null,
   "id": "69682338",
   "metadata": {},
   "outputs": [],
   "source": [
    "def multi(a, b):\n",
    "    return a + 1, 2 * b \n",
    "\n",
    "x,y = multi(3,5)\n",
    "print(x)\n",
    "print(type(multi(2,3)))"
   ]
  },
  {
   "cell_type": "markdown",
   "id": "2ddced02",
   "metadata": {},
   "source": [
    "**Παράδειγμα**\n",
    "    \n",
    "Υλοποιείται συνάρτηση η οποία δέχεται ακτίνα ενός κύκλου και υπολογίζει και επιστρέφει το εμβαδόν του.\n",
    "\n",
    "Σημείωση: Για την τιμή του π θα εισαχθεί η βιβλιοθήκη math"
   ]
  },
  {
   "cell_type": "code",
   "execution_count": null,
   "id": "8567f491",
   "metadata": {},
   "outputs": [],
   "source": [
    "import math\n",
    "def getCircleArea(radius):\n",
    "    area = math.pi * radius**2\n",
    "    return area\n",
    "circleArea = getCircleArea(2)\n",
    "print(\"Το εμβαδόν του κύκλου είναι:\", circleArea)"
   ]
  },
  {
   "cell_type": "markdown",
   "id": "76ebdf3f",
   "metadata": {},
   "source": [
    "**Παράδειγμα**\n",
    "\n",
    "Υλοποιείται συνάρτηση η οποία δέχεται βάση και ύψος ενός τριγώνου και υπολογίζει και επιστρέφει το εμβαδόν του."
   ]
  },
  {
   "cell_type": "code",
   "execution_count": null,
   "id": "839ed25d",
   "metadata": {},
   "outputs": [],
   "source": [
    "#    Συνάρτηση με περισσότερες από μια παραμέτρους\n",
    "def getTriangleArea(height, base):\n",
    "    area = 1/2 * base * height\n",
    "    return area\n",
    "\n",
    "print(\"Το εμβαδόν του τριγώνου είναι:\", getTriangleArea(2, 5))"
   ]
  },
  {
   "cell_type": "markdown",
   "id": "72ea4a25",
   "metadata": {},
   "source": [
    "**Παράδειγμα**\n",
    "\n",
    "Υλοποιείται συνάρτηση η οποία δέχεται 3 τιμές, υπολογίζει τον μέγιστο και τον επιστρέφει."
   ]
  },
  {
   "cell_type": "code",
   "execution_count": null,
   "id": "cfdd927e",
   "metadata": {},
   "outputs": [],
   "source": [
    "def maximum (value1, value2, value3) :\n",
    "    \"\"\" Συνάρτηση για τον υπολογισμό του μέγιστου τριών τιμών. \"\"\"\n",
    "    max_value = value1\n",
    "    if value2 > max_value :\n",
    "        max_value = value2\n",
    "    if  value3 > max_value :\n",
    "        max_value = value3\n",
    "    return max_value\n",
    "\n",
    "print(\"Δώσε 3 πραγματικές τιμές\")\n",
    "x = float(input(\"Δώσε πρώτη τιμή:\"))\n",
    "y = float(input(\"Δώσε δεύτερη τιμή:\"))\n",
    "z = float(input(\"Δώσε τρίτη τιμή:\"))\n",
    "\n",
    "print(\"\\nΜέγιστο: \", maximum (x, y, z))\n",
    "\n",
    "maximum"
   ]
  },
  {
   "cell_type": "markdown",
   "id": "ff14bfa5",
   "metadata": {},
   "source": [
    "## Πέρασμα παραμέτρων"
   ]
  },
  {
   "cell_type": "markdown",
   "id": "fd2fb051",
   "metadata": {},
   "source": [
    "Όταν περνάμε μια παράμετρο σε μια συνάρτηση στην python, η τιμή της παραμέτρου αποτελεί δεδομένο εισόδου για τη  συνάρτηση. Αν το δεδομένο εισόδου είναι συμβολικό όνομα, μεταβλητή, τα δεδομένα στα οποία αναφέρεται είναι δυνατόν να αλλάξουν μόνο αν ο τύπος τους είναι τύπος μεταβλητού, **mutable** αντικειμένου. Παράδειγμα **mutable** αντικειμένων είναι η λίστα το σύνολο και το λεξικό τα οποία θα μελετηθούν στην επόμενη ενότητα."
   ]
  },
  {
   "cell_type": "markdown",
   "id": "ead02e5e",
   "metadata": {},
   "source": [
    "**Παράδειγμα**\n",
    "\n",
    "Οι παράμετροι στην συνάρτηση που ακολουθεί αποτελούν λίστες. Οι λίστες θα αναλυθούν στην επόμενη ενότητα και αποτελούν συλλογές δεδομένων. Η μέθοδος `append` προσθέτει στο τέλος της λίστας ένα στοιχείο ενώ η `pop` αφαιρεί στοιχείο από την λίστα.\n",
    "\n",
    "Προσοσχή! Αν χρησιμοποιήσουμε μία εντολή ανάθεσης, π.χ. L2 = L2 + [4], η λίστα πλέον 'δείχνει' σε άλλο σημείο της μνήμης και οι αλλαγές δεν επιστρέφουν στην καλούσα συνάρτηση. Με τον τελεστή σύντομης ανάθεσης, όμως, η τροποίηση γίνεται **in-place** και οι αλλαγές στην λίστα επηρεάζουν την αρχική λίστα."
   ]
  },
  {
   "cell_type": "code",
   "execution_count": null,
   "id": "c9945bb6",
   "metadata": {},
   "outputs": [],
   "source": [
    "def a_function(L1,L2,L3,L4):\n",
    "    L1 += [4]\n",
    "    L2 = L2 + [4]\n",
    "    L3.append(4)\n",
    "    L4.pop()\n",
    "my_list1 = [1,2,3]\n",
    "my_list2 = [1,2,3]\n",
    "my_list3 = [1,2,3]\n",
    "my_list4 = [1,2,3]\n",
    "a_function(my_list1,my_list2,my_list3,my_list4)\n",
    "my_list1,my_list2,my_list3,my_list4"
   ]
  },
  {
   "cell_type": "markdown",
   "id": "f302c174",
   "metadata": {},
   "source": [
    "Σε περίπτωση που η παράμετρος είναι τύπος αμετάβλητου, **immutable** αντικειμένου, τα αντίστοιχα δεδομένα δεν μεταβάλλονται. Παραδείγματα **immutable** αντικειμένων είναι οι αριθμοί και οι συμβολοσειρές. "
   ]
  },
  {
   "cell_type": "code",
   "execution_count": null,
   "id": "977a2890",
   "metadata": {},
   "outputs": [],
   "source": [
    "def another_function(a_string):\n",
    "    a_string += \"d\"\n",
    " \n",
    "my_string = \"abc\"\n",
    "\n",
    "another_function(my_string) # Η κλήση της συνάρτησης δεν μεταβάλει τα δεδομένα της παραμέτρου\n",
    "print(my_string)"
   ]
  },
  {
   "cell_type": "markdown",
   "id": "1d790fdc",
   "metadata": {},
   "source": [
    "Το παράδειγμα που ακολουθεί αφορά πλειάδες, tuples, που είμαι **immutable** και θα μελετηθούν στην επόμενη ενότητα."
   ]
  },
  {
   "cell_type": "code",
   "execution_count": null,
   "id": "b8e93d99",
   "metadata": {},
   "outputs": [],
   "source": [
    "x = (1,2,3) # Διαφορά με λίστες\n",
    "def doit(y):\n",
    "    y += (2,)\n",
    "    print('in doit',y)\n",
    "z = (2,2)\n",
    "doit(x)\n",
    "print('after doit',x)"
   ]
  },
  {
   "cell_type": "markdown",
   "id": "b99ad3a7",
   "metadata": {},
   "source": [
    "Αν επιθυμούμε την ανάγνωση μιας παραμέτρου και αλλαγή της τιμής της, ένας συνηθισμένος τρόπος είναι η επιστροφή της αντίτοιχης τιμής από τη συνάρτηση."
   ]
  },
  {
   "cell_type": "markdown",
   "id": "a6848c65",
   "metadata": {},
   "source": [
    "**Παράδειγμα**\n",
    "\n",
    "Στο παιχνίδι τις τρίλιζας το σύμβολο του κάθε παίκτη εναλλάσσεται από το σύμβολο _O_ στο _X_ και ανάποδα."
   ]
  },
  {
   "cell_type": "code",
   "execution_count": null,
   "id": "0f87ae5e",
   "metadata": {},
   "outputs": [],
   "source": [
    "def next_symbol(symbol):\n",
    "    if symbol == 'O' :\n",
    "        next_symbol = 'X'\n",
    "    else: \n",
    "        next_symbol = 'O'\n",
    "    return next_symbol\n",
    "symbol = 'X'\n",
    "symbol = next_symbol(symbol)\n",
    "symbol"
   ]
  },
  {
   "cell_type": "markdown",
   "id": "562e3c39",
   "metadata": {},
   "source": [
    "Όταν μία συνάρτηση δεν επιστρέφει κάποια τιμή μέσω της `return`, η τιμή της είναι απροσδιόριστη και επιστρέφει την ειδική τιμή `None`:"
   ]
  },
  {
   "cell_type": "code",
   "execution_count": null,
   "id": "c85546ca",
   "metadata": {},
   "outputs": [],
   "source": [
    "def no_return(list):\n",
    "    list +=  [0]\n",
    "    # Χωρίς return\n",
    "\n",
    "print(no_return([2,3]))"
   ]
  },
  {
   "cell_type": "code",
   "execution_count": null,
   "id": "b3605f55",
   "metadata": {},
   "outputs": [],
   "source": [
    "def not_always_return(x):\n",
    "    if x > 0:\n",
    "        return \"Positive\"\n",
    "    # Χωρίς return, αν x μη θετικό\n",
    "print(not_always_return(-1))"
   ]
  },
  {
   "cell_type": "markdown",
   "id": "3005a8e8",
   "metadata": {},
   "source": [
    "## Εμβέλεια μεταβλητών"
   ]
  },
  {
   "cell_type": "markdown",
   "id": "3dd4fec8",
   "metadata": {},
   "source": [
    "Ένας κανόνας για την εμβέλεια των τοπικών μεταβλητών είναι ο παρακάτω. Έστω ότι μια μεταβλητή δηλώνεται έξω και πριν από μια συνάρτηση. Τότε\n",
    "\n",
    "1. Αν η τιμή της μεταβλητής *διαβάζεται* από τη συνάρτηση, χωρίς να τροποποιείται, είναι καθολική\n",
    "\n",
    "2. Αν η τιμή της *ανατίθεται* από τη συνάρτηση, είναι τοπική στη συνάρτηση.\n",
    "\n",
    "3. Αν θέλουμε μια μεταβλητή που έχει δηλωθεί έξω από τη συνάρτηση να τροποποιείται με ανάθεση μέσα στη συνάρτηση, τότε πρέπει να τη δηλώσουμε ως `glοbal`."
   ]
  },
  {
   "cell_type": "markdown",
   "id": "1f803c5e",
   "metadata": {},
   "source": [
    "Στο επόμενο τμήμα κώδικα και στην συνάρτηση _func_ δεν γίνεται κάποια νέα ανάθεση τιμής στην μεταβλητή _r_. Απλά εμφανίζεται και χρησιμοποιείται σε έναν υπολογισμό. Η _r_ μέσα στην συνάρτηση είναι η ίδια, καθολική _r_, που έχει δηλωθεί και πριν από αυτή. \n",
    "\n",
    "Επιπλέον, παρατηρούμε ότι το στοιχείο `math.pi` είναι ακόμη διαθέσιμο καθώς η βιβλιοθήκη/άρθρωμα `math` έχει φορτωθεί ήδη σε προηγούμενο κελί των σημειώσεων."
   ]
  },
  {
   "cell_type": "code",
   "execution_count": null,
   "id": "766ac4b9",
   "metadata": {},
   "outputs": [],
   "source": [
    "r = 5\n",
    "def func():\n",
    "    print(f'Το εμβαδόν κύκλου με ακτίνα: {r}', end=' ')\n",
    "    print(f'είναι {math.pi*r**2}')\n",
    "func()"
   ]
  },
  {
   "cell_type": "markdown",
   "id": "4c487b4d",
   "metadata": {},
   "source": [
    "Στο τμήμα κώδικα που ακολουθεί, στις δύο μεταβλητές, _a_ και _b_, έχει γίνει ανάθεση και μέσα στην συνάρτηση. Μόνο στην a όμως έχει γίνει η δήλωση `global`. Η _a_ αποτελεί καθολική ενώ η _b_, μέσα στην συνάρτηση αποτελεί τοπική μεταβλητή."
   ]
  },
  {
   "cell_type": "code",
   "execution_count": null,
   "id": "56bbc32a",
   "metadata": {},
   "outputs": [],
   "source": [
    "a = 0\n",
    "b = 0\n",
    "def func1() :\n",
    "    global a\n",
    "    a = 1\n",
    "    b = 2\n",
    "    print('Μέσα στην συνάρτηση:', a, b)\n",
    "func1()\n",
    "print('Έξω από την συνάρτηση:', a, b)"
   ]
  },
  {
   "cell_type": "markdown",
   "id": "4c658299",
   "metadata": {},
   "source": [
    "Στο επόμενο παράδειγμα παρατηρούμε ότι αν στο _k_ δεν ανατεθεί τιμή μέσα στην συνάρτηση θεωρείται ότι πρόκειται για το καθολικό _k_ που έχει δηλωθεί πριν από αυτήν. Την στιγμή όμως που αναθέτουμε τιμή μέσα σε αυτήν, πλέον δεν \"βλέπει\" την καθολική _k_ αλλά την τοπική και πριν την δήλωσή της δεν την αναγνωρίζει."
   ]
  },
  {
   "cell_type": "code",
   "execution_count": null,
   "id": "7393e26f",
   "metadata": {},
   "outputs": [],
   "source": [
    "k = [1, 2, 3]\n",
    "def func2() :\n",
    "    print(k)\n",
    "    #k = [4, 5]  # Βάλτε σχόλιο στη γραμμή\n",
    "    \n",
    "func2()"
   ]
  },
  {
   "cell_type": "markdown",
   "id": "ef3b25b3",
   "metadata": {},
   "source": [
    "Η συνάρτηση `locals` επιστρέφει, σε μορφή λεξικού, όλες τις τοπικές παραμέτρους μίας συνάρτησης. Στο επόμενο παράδειγμα, οι _y_ και _z_ είναι τοπικές στην _f_. Τα λεξικά θα αναλυθούν στην επόμενη ενότητα."
   ]
  },
  {
   "cell_type": "code",
   "execution_count": null,
   "id": "0043fb49",
   "metadata": {},
   "outputs": [],
   "source": [
    "x = 5\n",
    "def f():\n",
    "    y = 10\n",
    "    z = 15\n",
    "    return locals()\n",
    "f()"
   ]
  },
  {
   "cell_type": "markdown",
   "id": "6e976d47",
   "metadata": {},
   "source": [
    "## Ονομαστικές και Προεπιλεγμένες τιμές παραμέτρων "
   ]
  },
  {
   "cell_type": "markdown",
   "id": "3b3f79a6",
   "metadata": {},
   "source": [
    "Όπως έχουμε δει το πέρασμα τιμών σε μια συνάρτηση γίνεται με τη σειρά που έχουν γραφτεί μέσα στην επικεφαλίδα της συνάρτησης. \n",
    "\n",
    "Στη Python οι παράμετροι μπορούν να έχουν το δικό τους _όνομα_, **named keyword arguments** και τις δικές τους _προκαθορισμένες τιμές_, **default values**. Στην περίπτωση που οι παράμετροι έχουν όνομα, έχουμε την δυνατότητα να αλλάξουμε την σειρά με την οποία περνάμε τις παραμέτρους θέτοντας και το όνομα κατά την κλήση."
   ]
  },
  {
   "cell_type": "code",
   "execution_count": null,
   "id": "5d0873e0",
   "metadata": {},
   "outputs": [],
   "source": [
    "def rectArea(length = 2, width = 5):\n",
    "    return length * width"
   ]
  },
  {
   "cell_type": "code",
   "execution_count": null,
   "id": "72995236",
   "metadata": {},
   "outputs": [],
   "source": [
    "l=3\n",
    "w=9\n",
    "print('Το εμβαδόν ορθογωνίου με μήκος:',l,'και πλάτος:',w, 'είναι:',rectArea(l, w))"
   ]
  },
  {
   "cell_type": "code",
   "execution_count": null,
   "id": "f5f971ea",
   "metadata": {},
   "outputs": [],
   "source": [
    "print('Το εξορισμού εμβαδόν ορθογωνίου:', rectArea());"
   ]
  },
  {
   "cell_type": "code",
   "execution_count": null,
   "id": "153ded46",
   "metadata": {},
   "outputs": [],
   "source": [
    "rectArea(5),rectArea(width = 11, length = 22)"
   ]
  },
  {
   "cell_type": "markdown",
   "id": "39c1cd52",
   "metadata": {},
   "source": [
    "## docstrings"
   ]
  },
  {
   "cell_type": "markdown",
   "id": "7b934471",
   "metadata": {},
   "source": [
    "Μία ειδική κατηγορία `str` αποτελούν τα **docstrings** τα οποία τοποθετούνται στην πρώτη γραμμή μέσα στο σώμα κάθε συνάρτησης βοηθώντας στο σχολιασμό και την τεκμηρίωση του κώδικά μας. "
   ]
  },
  {
   "cell_type": "code",
   "execution_count": null,
   "id": "83669859",
   "metadata": {},
   "outputs": [],
   "source": [
    "def rectArea(length = 2, width = 5):\n",
    "    \"\"\"Υπολογισμός εμβαδού ορθογωνίου\"\"\"\n",
    "    return length * width\n",
    "rectArea"
   ]
  },
  {
   "cell_type": "markdown",
   "id": "76fe7954",
   "metadata": {},
   "source": [
    "Έχουμε την δυνατότητα να θέσουμε σχόλια στις παραμέτρους και την επιστρεφόμενη τιμή μίας συνάρτησης."
   ]
  },
  {
   "cell_type": "code",
   "execution_count": null,
   "id": "144a38dd",
   "metadata": {},
   "outputs": [],
   "source": [
    "def rectArea(length=2, width=5):\n",
    "    \"\"\"\n",
    "    Υπολογισμός εμβαδού ορθογωνίου.\n",
    "    Η συνάρτηση υπολογίζει το εμβαδόν ενός ορθογωνίου με βάση το μήκος και το πλάτος που παρέχονται.\n",
    "    Αν δεν δοθούν τιμές, χρησιμοποιούνται οι προκαθορισμένες τιμές: μήκος = 2, πλάτος = 5.\n",
    "    Args:\n",
    "        length (float): Το μήκος του ορθογωνίου. Προκαθορισμένη τιμή: 2.\n",
    "        width (float): Το πλάτος του ορθογωνίου. Προκαθορισμένη τιμή: 5.\n",
    "    Returns:\n",
    "        float: Το εμβαδόν του ορθογωνίου.\n",
    "    \"\"\"\n",
    "    return length * width"
   ]
  },
  {
   "cell_type": "markdown",
   "id": "7bb15191",
   "metadata": {},
   "source": [
    "Με χρήση ερωτηματικού στο τέλος του ονόματος συνάρτησης μπορούμε να δούμε το **docstring** είτε μία δική μας είτε μίας συνάρτησης της Python. Επιπλέον η συνάρτηση `help` αλλά και η εκτύπωση του `<Όνομα συνάρτησης>.__doc__` εμφανίζουν το **docstring**."
   ]
  },
  {
   "cell_type": "code",
   "execution_count": null,
   "id": "0daea66c",
   "metadata": {},
   "outputs": [],
   "source": [
    "rectArea?"
   ]
  },
  {
   "cell_type": "code",
   "execution_count": null,
   "id": "4f9e3c0a",
   "metadata": {},
   "outputs": [],
   "source": [
    "help(rectArea)"
   ]
  },
  {
   "cell_type": "code",
   "execution_count": null,
   "id": "e42236e0",
   "metadata": {},
   "outputs": [],
   "source": [
    "print(rectArea.__doc__)"
   ]
  },
  {
   "cell_type": "markdown",
   "id": "19e9114c",
   "metadata": {},
   "source": [
    "Με τον ίδιο τρόπο μπορούμε να δούμε πληροφορίες για built-in συναρτήσεις της python."
   ]
  },
  {
   "cell_type": "code",
   "execution_count": null,
   "id": "a27755ea",
   "metadata": {},
   "outputs": [],
   "source": [
    "help(len)"
   ]
  },
  {
   "cell_type": "markdown",
   "id": "3bd50d49",
   "metadata": {},
   "source": [
    "## Αυθαίρετος αριθμός παραμέτρων"
   ]
  },
  {
   "cell_type": "markdown",
   "id": "08b422a1",
   "metadata": {},
   "source": [
    "Εκτός από το προηγούμενο μηχανισμό η python διαθέτει κι άλλους μηχανισμούς ώστε οι παράμετροι μιας συνάρτησης να είναι πιο ελεύθερες και να μεταβάλλονται με δυναμικό τρόπο.\n",
    "\n",
    "Με τη χρήση του αστερίσκου `*` μπροστά από το όνομα της παραμέτρου, μια συνάρτηση μπορεί να δεχθεί σειρά από τιμές."
   ]
  },
  {
   "cell_type": "markdown",
   "id": "1bc1c732",
   "metadata": {},
   "source": [
    "**Παράδειγμα**\n",
    "\n",
    "Να υλοποιηθεί συνάρτηση η οποία δέχεται αυθαίρετο αριθμό αριθμητικών παραμέτρων και επιστρέφει την μέση τιμή τους. Για το άθροισμα και τον αριθμό των παραμέτρων να χρησιμοποιηθούν οι built-in συναρτήσεις `sum` και `len`."
   ]
  },
  {
   "cell_type": "code",
   "execution_count": null,
   "id": "35ec4e04",
   "metadata": {},
   "outputs": [],
   "source": [
    "def average(*numbers):\n",
    "    return sum(numbers) / len(numbers)\n",
    "print(average(3, 4, 5))\n",
    "print(average(3, 4, 5, 1, -4))"
   ]
  },
  {
   "cell_type": "markdown",
   "id": "9a9fd37f",
   "metadata": {},
   "source": [
    "Επιπλέον, με χρήση διπλού αστερίσκου `**` μπροστά από το όνομα της παραμέτρου, η συνάρτηση δέχεται μία σειρά από ζεύγη λέξεων κλειδιών=ορισμάτων. "
   ]
  },
  {
   "cell_type": "code",
   "execution_count": null,
   "id": "0a76ef60",
   "metadata": {},
   "outputs": [],
   "source": [
    "def print_info(**person):\n",
    "    for key, value in person.items():\n",
    "        print(key, '-',value)\n",
    "print_info(name=\"Alan Turing\", born=1912, died=1954, natinality=\"UK\")"
   ]
  },
  {
   "cell_type": "markdown",
   "id": "7f1c2775",
   "metadata": {},
   "source": [
    "Μετά τον ορισμό της, μια συνάρτηση μπορεί να χρησιμοποιηθεί από οποιοδήποτε σημείο μέσα στον κώδικα. Ακόμα και μέσα σε κάποια άλλη συνάρτηση."
   ]
  },
  {
   "cell_type": "code",
   "execution_count": null,
   "id": "addaf184",
   "metadata": {},
   "outputs": [],
   "source": [
    "def f1():\n",
    "    print('f1')\n",
    "    \n",
    "def f2():\n",
    "    print('f2', end=', ')\n",
    "    f1()\n",
    "    \n",
    "f1()"
   ]
  },
  {
   "cell_type": "markdown",
   "id": "66da9837",
   "metadata": {},
   "source": [
    "## Επιστροφή πολλαπλών τιμών"
   ]
  },
  {
   "cell_type": "markdown",
   "id": "5461c21c",
   "metadata": {},
   "source": [
    "Μία συνάρτηση μπορεί να επιστρέψει περισσότερες από μία τιμές με χρήση `,` ανάμεσα σε αυτές σε μία δομή που ονομάζεται `tuple` και θα αναλυθεί σε επόμενη ενότητα."
   ]
  },
  {
   "cell_type": "markdown",
   "id": "6b61fb94",
   "metadata": {},
   "source": [
    "**Παράδειγμα**\n",
    "\n",
    "Η Python παρέχει την built-in συνάρτηση `divmod` που επιστρέφει δύο τιμές, το ακέραιο πηλίκο και το υπόλοιπο μίας διαίρεσης. Ακολουθεί κατάλληλη κλήση της `divmod` αλλά και μία υλοποίηση της"
   ]
  },
  {
   "cell_type": "code",
   "execution_count": null,
   "id": "16c13d4c",
   "metadata": {},
   "outputs": [],
   "source": [
    "divmod(7,3)"
   ]
  },
  {
   "cell_type": "code",
   "execution_count": null,
   "id": "084bc6ae",
   "metadata": {},
   "outputs": [],
   "source": [
    "def myDivmod(a,b):\n",
    "    return a//b,a%b\n",
    "myDivmod(7,3)"
   ]
  },
  {
   "cell_type": "markdown",
   "id": "4f30a85c",
   "metadata": {},
   "source": [
    "## Εσωτερικές συναρτήσεις"
   ]
  },
  {
   "cell_type": "markdown",
   "id": "2635ebaa",
   "metadata": {},
   "source": [
    "Μια συνάρτηση μπορεί όχι μόνο να περιλαμβάνει τη χρήση άλλων συναρτήσεων αλλά και τον ορισμό τους.\n",
    "Η συνάρτηση αυτή είναι ορατή, και μπορεί να κληθεί μόνο μέσα από την συνάρτηση στην οποία ορίστηκε."
   ]
  },
  {
   "cell_type": "code",
   "execution_count": null,
   "id": "91220a00",
   "metadata": {},
   "outputs": [],
   "source": [
    "def f1():\n",
    "    print('Εξωτερική συνάρτηση')\n",
    "    def f2():\n",
    "        print('Εσωτερική συνάρτηση')\n",
    "    f2()\n",
    "    \n",
    "f1()\n",
    "# f2() # Δεν έχει οριστεί"
   ]
  },
  {
   "cell_type": "markdown",
   "id": "e69745db",
   "metadata": {},
   "source": [
    "Σε περίπτωση που μία εσωτερική συνάρτηση επιθυμούμε να μπορεί να τροποποιήσει μία μεταβλητή της εξωτερικής της συνάρτησης θα πρέπει να την δηλώσουμε ως `nonlocal`."
   ]
  },
  {
   "cell_type": "code",
   "execution_count": null,
   "id": "37ab078e",
   "metadata": {},
   "outputs": [],
   "source": [
    "def f1():\n",
    "  a = 2\n",
    "  def f2():\n",
    "    nonlocal a\n",
    "    a = 5\n",
    "  f2()\n",
    "  return a\n",
    "\n",
    "print(f1())"
   ]
  }
 ],
 "metadata": {
  "kernelspec": {
   "display_name": "Python 3 (ipykernel)",
   "language": "python",
   "name": "python3"
  },
  "language_info": {
   "codemirror_mode": {
    "name": "ipython",
    "version": 3
   },
   "file_extension": ".py",
   "mimetype": "text/x-python",
   "name": "python",
   "nbconvert_exporter": "python",
   "pygments_lexer": "ipython3",
   "version": "3.11.4"
  }
 },
 "nbformat": 4,
 "nbformat_minor": 5
}
